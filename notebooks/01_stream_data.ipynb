{
 "cells": [
  {
   "cell_type": "code",
   "execution_count": 1,
   "id": "091b0fb8",
   "metadata": {},
   "outputs": [],
   "source": [
    "from pyspark.sql import SparkSession\n",
    "import pyspark.sql.functions as sf\n",
    "from pyspark.sql.types import StructType, StringType, DoubleType, IntegerType"
   ]
  },
  {
   "cell_type": "code",
   "execution_count": 2,
   "id": "a7ccbf70",
   "metadata": {},
   "outputs": [
    {
     "name": "stderr",
     "output_type": "stream",
     "text": [
      "WARNING: Using incubator modules: jdk.incubator.vector\n",
      "Using Spark's default log4j profile: org/apache/spark/log4j2-defaults.properties\n",
      "25/08/15 18:01:27 WARN Utils: Your hostname, NolanPC, resolves to a loopback address: 127.0.1.1; using 10.255.255.254 instead (on interface lo)\n",
      "25/08/15 18:01:28 WARN Utils: Set SPARK_LOCAL_IP if you need to bind to another address\n",
      "Using Spark's default log4j profile: org/apache/spark/log4j2-defaults.properties\n",
      "Setting default log level to \"WARN\".\n",
      "To adjust logging level use sc.setLogLevel(newLevel). For SparkR, use setLogLevel(newLevel).\n",
      "25/08/15 18:01:29 WARN NativeCodeLoader: Unable to load native-hadoop library for your platform... using builtin-java classes where applicable\n"
     ]
    }
   ],
   "source": [
    "spark = SparkSession.builder \\\n",
    "    .appName(\"FraudDetection\") \\\n",
    "    .getOrCreate()"
   ]
  },
  {
   "cell_type": "code",
   "execution_count": null,
   "id": "46dbc870",
   "metadata": {},
   "outputs": [
    {
     "name": "stderr",
     "output_type": "stream",
     "text": [
      "25/08/15 18:14:11 WARN TextSocketSourceProvider: The socket source should not be used for production applications! It does not support recovery.\n",
      "25/08/15 18:14:11 WARN ResolveWriteToStream: spark.sql.adaptive.enabled is not supported in streaming DataFrames/Datasets and will be disabled.\n"
     ]
    },
    {
     "name": "stdout",
     "output_type": "stream",
     "text": [
      "Processed batch: 0 rows, Total: 0 rows\n",
      "Processed batch: 500 rows, Total: 500 rows\n",
      "Processed batch: 1000 rows, Total: 1500 rows\n",
      "Processed batch: 1000 rows, Total: 2500 rows\n",
      "Processed batch: 1000 rows, Total: 3500 rows\n",
      "Processed batch: 1000 rows, Total: 4500 rows\n",
      "Processed batch: 1500 rows, Total: 6000 rows\n",
      "Processed batch: 1000 rows, Total: 7000 rows\n",
      "Processed batch: 1000 rows, Total: 8000 rows\n",
      "Processed batch: 1000 rows, Total: 9000 rows\n"
     ]
    },
    {
     "name": "stderr",
     "output_type": "stream",
     "text": [
      "25/08/15 18:14:28 WARN MemoryManager: Total allocation exceeds 95.00% (1,020,054,720 bytes) of heap memory\n",
      "Scaling row group sizes to 95.00% for 8 writers\n"
     ]
    },
    {
     "name": "stdout",
     "output_type": "stream",
     "text": [
      "Processed batch: 1000 rows, Total: 10000 rows\n",
      "Processed batch: 1000 rows, Total: 11000 rows\n",
      "Processed batch: 1000 rows, Total: 12000 rows\n"
     ]
    },
    {
     "name": "stderr",
     "output_type": "stream",
     "text": [
      "25/08/15 18:14:34 WARN MemoryManager: Total allocation exceeds 95.00% (1,020,054,720 bytes) of heap memory\n",
      "Scaling row group sizes to 95.00% for 8 writers\n"
     ]
    },
    {
     "name": "stdout",
     "output_type": "stream",
     "text": [
      "Processed batch: 1000 rows, Total: 13000 rows\n",
      "Processed batch: 1000 rows, Total: 14000 rows\n",
      "Processed batch: 1000 rows, Total: 15000 rows\n",
      "Processed batch: 1000 rows, Total: 16000 rows\n",
      "Processed batch: 1000 rows, Total: 17000 rows\n",
      "Processed batch: 1000 rows, Total: 18000 rows\n",
      "Processed batch: 1000 rows, Total: 19000 rows\n",
      "Processed batch: 1000 rows, Total: 20000 rows\n",
      "Processed batch: 1500 rows, Total: 21500 rows\n",
      "Processed batch: 602 rows, Total: 22102 rows\n",
      "Processed batch: 898 rows, Total: 23000 rows\n"
     ]
    },
    {
     "name": "stderr",
     "output_type": "stream",
     "text": [
      "25/08/15 18:14:56 WARN MemoryManager: Total allocation exceeds 95.00% (1,020,054,720 bytes) of heap memory\n",
      "Scaling row group sizes to 95.00% for 8 writers\n"
     ]
    },
    {
     "name": "stdout",
     "output_type": "stream",
     "text": [
      "Processed batch: 1000 rows, Total: 24000 rows\n",
      "Processed batch: 1000 rows, Total: 25000 rows\n",
      "Processed batch: 1000 rows, Total: 26000 rows\n"
     ]
    },
    {
     "name": "stderr",
     "output_type": "stream",
     "text": [
      "25/08/15 18:15:02 WARN MemoryManager: Total allocation exceeds 95.00% (1,020,054,720 bytes) of heap memory\n",
      "Scaling row group sizes to 95.00% for 8 writers\n"
     ]
    },
    {
     "name": "stdout",
     "output_type": "stream",
     "text": [
      "Processed batch: 1000 rows, Total: 27000 rows\n",
      "Processed batch: 1000 rows, Total: 28000 rows\n",
      "Processed batch: 1000 rows, Total: 29000 rows\n",
      "Processed batch: 1000 rows, Total: 30000 rows\n",
      "Processed batch: 1000 rows, Total: 31000 rows\n",
      "Processed batch: 1000 rows, Total: 32000 rows\n",
      "Processed batch: 1000 rows, Total: 33000 rows\n"
     ]
    },
    {
     "name": "stderr",
     "output_type": "stream",
     "text": [
      "25/08/15 18:15:16 WARN MemoryManager: Total allocation exceeds 95.00% (1,020,054,720 bytes) of heap memory\n",
      "Scaling row group sizes to 95.00% for 8 writers\n"
     ]
    },
    {
     "name": "stdout",
     "output_type": "stream",
     "text": [
      "Processed batch: 1000 rows, Total: 34000 rows\n",
      "Processed batch: 1000 rows, Total: 35000 rows\n",
      "Processed batch: 1000 rows, Total: 36000 rows\n",
      "Processed batch: 1500 rows, Total: 37500 rows\n",
      "Processed batch: 1000 rows, Total: 38500 rows\n",
      "Processed batch: 1000 rows, Total: 39500 rows\n",
      "Processed batch: 1000 rows, Total: 40500 rows\n",
      "Processed batch: 1000 rows, Total: 41500 rows\n",
      "Processed batch: 1000 rows, Total: 42500 rows\n",
      "Processed batch: 1000 rows, Total: 43500 rows\n"
     ]
    },
    {
     "name": "stderr",
     "output_type": "stream",
     "text": [
      "25/08/15 18:15:36 WARN MemoryManager: Total allocation exceeds 95.00% (1,020,054,720 bytes) of heap memory\n",
      "Scaling row group sizes to 95.00% for 8 writers\n",
      "25/08/15 18:15:36 WARN MemoryManager: Total allocation exceeds 95.00% (1,020,054,720 bytes) of heap memory\n",
      "Scaling row group sizes to 95.00% for 8 writers\n",
      "25/08/15 18:15:36 WARN MemoryManager: Total allocation exceeds 95.00% (1,020,054,720 bytes) of heap memory\n",
      "Scaling row group sizes to 84.44% for 9 writers\n",
      "25/08/15 18:15:36 WARN MemoryManager: Total allocation exceeds 95.00% (1,020,054,720 bytes) of heap memory\n",
      "Scaling row group sizes to 76.00% for 10 writers\n",
      "25/08/15 18:15:36 WARN MemoryManager: Total allocation exceeds 95.00% (1,020,054,720 bytes) of heap memory\n",
      "Scaling row group sizes to 84.44% for 9 writers\n",
      "25/08/15 18:15:36 WARN MemoryManager: Total allocation exceeds 95.00% (1,020,054,720 bytes) of heap memory\n",
      "Scaling row group sizes to 95.00% for 8 writers\n"
     ]
    },
    {
     "name": "stdout",
     "output_type": "stream",
     "text": [
      "Processed batch: 1000 rows, Total: 44500 rows\n",
      "Processed batch: 1000 rows, Total: 45500 rows\n",
      "Processed batch: 1000 rows, Total: 46500 rows\n",
      "Processed batch: 1000 rows, Total: 47500 rows\n",
      "Processed batch: 1000 rows, Total: 48500 rows\n",
      "Processed batch: 1000 rows, Total: 49500 rows\n",
      "Processed batch: 500 rows, Total: 50000 rows\n",
      "Processed batch: 1000 rows, Total: 51000 rows\n"
     ]
    },
    {
     "name": "stderr",
     "output_type": "stream",
     "text": [
      "25/08/15 18:15:52 WARN MemoryManager: Total allocation exceeds 95.00% (1,020,054,720 bytes) of heap memory\n",
      "Scaling row group sizes to 95.00% for 8 writers\n",
      "25/08/15 18:15:52 WARN MemoryManager: Total allocation exceeds 95.00% (1,020,054,720 bytes) of heap memory\n",
      "Scaling row group sizes to 95.00% for 8 writers\n"
     ]
    },
    {
     "name": "stdout",
     "output_type": "stream",
     "text": [
      "Processed batch: 1000 rows, Total: 52000 rows\n",
      "Processed batch: 1500 rows, Total: 53500 rows\n"
     ]
    },
    {
     "name": "stderr",
     "output_type": "stream",
     "text": [
      "25/08/15 18:15:56 WARN MemoryManager: Total allocation exceeds 95.00% (1,020,054,720 bytes) of heap memory\n",
      "Scaling row group sizes to 95.00% for 8 writers\n"
     ]
    },
    {
     "name": "stdout",
     "output_type": "stream",
     "text": [
      "Processed batch: 1000 rows, Total: 54500 rows\n",
      "Processed batch: 1000 rows, Total: 55500 rows\n",
      "Processed batch: 1000 rows, Total: 56500 rows\n",
      "Processed batch: 1000 rows, Total: 57500 rows\n",
      "Processed batch: 1000 rows, Total: 58500 rows\n",
      "Processed batch: 1000 rows, Total: 59500 rows\n",
      "Processed batch: 1000 rows, Total: 60500 rows\n",
      "Processed batch: 1000 rows, Total: 61500 rows\n",
      "Processed batch: 1000 rows, Total: 62500 rows\n",
      "Processed batch: 1000 rows, Total: 63500 rows\n",
      "Processed batch: 1000 rows, Total: 64500 rows\n",
      "Processed batch: 1000 rows, Total: 65500 rows\n",
      "Processed batch: 1000 rows, Total: 66500 rows\n",
      "Processed batch: 1000 rows, Total: 67500 rows\n",
      "Processed batch: 1500 rows, Total: 69000 rows\n"
     ]
    },
    {
     "name": "stderr",
     "output_type": "stream",
     "text": [
      "25/08/15 18:16:26 WARN MemoryManager: Total allocation exceeds 95.00% (1,020,054,720 bytes) of heap memory\n",
      "Scaling row group sizes to 95.00% for 8 writers\n"
     ]
    },
    {
     "name": "stdout",
     "output_type": "stream",
     "text": [
      "Processed batch: 1000 rows, Total: 70000 rows\n",
      "Processed batch: 1000 rows, Total: 71000 rows\n"
     ]
    },
    {
     "name": "stderr",
     "output_type": "stream",
     "text": [
      "25/08/15 18:16:30 WARN MemoryManager: Total allocation exceeds 95.00% (1,020,054,720 bytes) of heap memory\n",
      "Scaling row group sizes to 95.00% for 8 writers\n",
      "25/08/15 18:16:30 WARN MemoryManager: Total allocation exceeds 95.00% (1,020,054,720 bytes) of heap memory\n",
      "Scaling row group sizes to 95.00% for 8 writers\n",
      "25/08/15 18:16:30 WARN MemoryManager: Total allocation exceeds 95.00% (1,020,054,720 bytes) of heap memory\n",
      "Scaling row group sizes to 84.44% for 9 writers\n",
      "25/08/15 18:16:30 WARN MemoryManager: Total allocation exceeds 95.00% (1,020,054,720 bytes) of heap memory\n",
      "Scaling row group sizes to 76.00% for 10 writers\n",
      "25/08/15 18:16:30 WARN MemoryManager: Total allocation exceeds 95.00% (1,020,054,720 bytes) of heap memory\n",
      "Scaling row group sizes to 84.44% for 9 writers\n",
      "25/08/15 18:16:30 WARN MemoryManager: Total allocation exceeds 95.00% (1,020,054,720 bytes) of heap memory\n",
      "Scaling row group sizes to 95.00% for 8 writers\n"
     ]
    },
    {
     "name": "stdout",
     "output_type": "stream",
     "text": [
      "Processed batch: 1000 rows, Total: 72000 rows\n",
      "Processed batch: 1000 rows, Total: 73000 rows\n",
      "Processed batch: 1000 rows, Total: 74000 rows\n"
     ]
    },
    {
     "name": "stderr",
     "output_type": "stream",
     "text": [
      "25/08/15 18:16:36 WARN MemoryManager: Total allocation exceeds 95.00% (1,020,054,720 bytes) of heap memory\n",
      "Scaling row group sizes to 95.00% for 8 writers\n"
     ]
    },
    {
     "name": "stdout",
     "output_type": "stream",
     "text": [
      "Processed batch: 500 rows, Total: 74500 rows\n",
      "Processed batch: 1000 rows, Total: 75500 rows\n",
      "Processed batch: 1000 rows, Total: 76500 rows\n"
     ]
    },
    {
     "name": "stderr",
     "output_type": "stream",
     "text": [
      "25/08/15 18:16:42 WARN MemoryManager: Total allocation exceeds 95.00% (1,020,054,720 bytes) of heap memory\n",
      "Scaling row group sizes to 95.00% for 8 writers\n"
     ]
    },
    {
     "name": "stdout",
     "output_type": "stream",
     "text": [
      "Processed batch: 1000 rows, Total: 77500 rows\n",
      "Processed batch: 1000 rows, Total: 78500 rows\n",
      "Processed batch: 1000 rows, Total: 79500 rows\n",
      "Processed batch: 1000 rows, Total: 80500 rows\n",
      "Processed batch: 1000 rows, Total: 81500 rows\n",
      "Processed batch: 1000 rows, Total: 82500 rows\n",
      "Processed batch: 1000 rows, Total: 83500 rows\n",
      "Processed batch: 1500 rows, Total: 85000 rows\n",
      "Processed batch: 1000 rows, Total: 86000 rows\n",
      "Processed batch: 1000 rows, Total: 87000 rows\n",
      "Processed batch: 1000 rows, Total: 88000 rows\n",
      "Processed batch: 1000 rows, Total: 89000 rows\n",
      "Processed batch: 1000 rows, Total: 90000 rows\n",
      "Processed batch: 1000 rows, Total: 91000 rows\n"
     ]
    },
    {
     "name": "stderr",
     "output_type": "stream",
     "text": [
      "25/08/15 18:17:10 WARN MemoryManager: Total allocation exceeds 95.00% (1,020,054,720 bytes) of heap memory\n",
      "Scaling row group sizes to 95.00% for 8 writers\n",
      "25/08/15 18:17:10 WARN MemoryManager: Total allocation exceeds 95.00% (1,020,054,720 bytes) of heap memory\n",
      "Scaling row group sizes to 95.00% for 8 writers\n"
     ]
    },
    {
     "name": "stdout",
     "output_type": "stream",
     "text": [
      "Processed batch: 1000 rows, Total: 92000 rows\n",
      "Processed batch: 1000 rows, Total: 93000 rows\n",
      "Processed batch: 1000 rows, Total: 94000 rows\n",
      "Processed batch: 1000 rows, Total: 95000 rows\n",
      "Processed batch: 1000 rows, Total: 96000 rows\n",
      "Processed batch: 1000 rows, Total: 97000 rows\n",
      "Processed batch: 1000 rows, Total: 98000 rows\n",
      "Processed batch: 1000 rows, Total: 99000 rows\n",
      "Processed batch: 1500 rows, Total: 100500 rows\n",
      "Processed batch: 1000 rows, Total: 101500 rows\n",
      "Processed batch: 1000 rows, Total: 102500 rows\n",
      "Processed batch: 1000 rows, Total: 103500 rows\n",
      "Processed batch: 500 rows, Total: 104000 rows\n",
      "Processed batch: 1000 rows, Total: 105000 rows\n",
      "Processed batch: 1000 rows, Total: 106000 rows\n",
      "Processed batch: 1000 rows, Total: 107000 rows\n",
      "Processed batch: 1000 rows, Total: 108000 rows\n",
      "Processed batch: 1000 rows, Total: 109000 rows\n",
      "Processed batch: 1000 rows, Total: 110000 rows\n",
      "Processed batch: 1000 rows, Total: 111000 rows\n",
      "Processed batch: 1000 rows, Total: 112000 rows\n",
      "Processed batch: 1000 rows, Total: 113000 rows\n",
      "Processed batch: 1000 rows, Total: 114000 rows\n",
      "Processed batch: 1000 rows, Total: 115000 rows\n",
      "Processed batch: 1500 rows, Total: 116500 rows\n",
      "Processed batch: 1000 rows, Total: 117500 rows\n",
      "Processed batch: 1000 rows, Total: 118500 rows\n",
      "Processed batch: 1000 rows, Total: 119500 rows\n"
     ]
    },
    {
     "name": "stderr",
     "output_type": "stream",
     "text": [
      "25/08/15 18:18:06 WARN MemoryManager: Total allocation exceeds 95.00% (1,020,054,720 bytes) of heap memory\n",
      "Scaling row group sizes to 95.00% for 8 writers\n"
     ]
    },
    {
     "name": "stdout",
     "output_type": "stream",
     "text": [
      "Processed batch: 1000 rows, Total: 120500 rows\n",
      "Processed batch: 1000 rows, Total: 121500 rows\n"
     ]
    },
    {
     "name": "stderr",
     "output_type": "stream",
     "text": [
      "25/08/15 18:18:10 WARN MemoryManager: Total allocation exceeds 95.00% (1,020,054,720 bytes) of heap memory\n",
      "Scaling row group sizes to 95.00% for 8 writers\n",
      "25/08/15 18:18:10 WARN MemoryManager: Total allocation exceeds 95.00% (1,020,054,720 bytes) of heap memory\n",
      "Scaling row group sizes to 84.44% for 9 writers\n",
      "25/08/15 18:18:10 WARN MemoryManager: Total allocation exceeds 95.00% (1,020,054,720 bytes) of heap memory\n",
      "Scaling row group sizes to 95.00% for 8 writers\n",
      "25/08/15 18:18:10 WARN MemoryManager: Total allocation exceeds 95.00% (1,020,054,720 bytes) of heap memory\n",
      "Scaling row group sizes to 95.00% for 8 writers\n",
      "25/08/15 18:18:10 WARN MemoryManager: Total allocation exceeds 95.00% (1,020,054,720 bytes) of heap memory\n",
      "Scaling row group sizes to 84.44% for 9 writers\n",
      "25/08/15 18:18:10 WARN MemoryManager: Total allocation exceeds 95.00% (1,020,054,720 bytes) of heap memory\n",
      "Scaling row group sizes to 76.00% for 10 writers\n",
      "25/08/15 18:18:10 WARN MemoryManager: Total allocation exceeds 95.00% (1,020,054,720 bytes) of heap memory\n",
      "Scaling row group sizes to 84.44% for 9 writers\n",
      "25/08/15 18:18:10 WARN MemoryManager: Total allocation exceeds 95.00% (1,020,054,720 bytes) of heap memory\n",
      "Scaling row group sizes to 95.00% for 8 writers\n",
      "25/08/15 18:18:10 WARN MemoryManager: Total allocation exceeds 95.00% (1,020,054,720 bytes) of heap memory\n",
      "Scaling row group sizes to 84.44% for 9 writers\n",
      "25/08/15 18:18:10 WARN MemoryManager: Total allocation exceeds 95.00% (1,020,054,720 bytes) of heap memory\n",
      "Scaling row group sizes to 95.00% for 8 writers\n"
     ]
    },
    {
     "name": "stdout",
     "output_type": "stream",
     "text": [
      "Processed batch: 1000 rows, Total: 122500 rows\n",
      "Processed batch: 1000 rows, Total: 123500 rows\n"
     ]
    },
    {
     "name": "stderr",
     "output_type": "stream",
     "text": [
      "25/08/15 18:18:14 WARN MemoryManager: Total allocation exceeds 95.00% (1,020,054,720 bytes) of heap memory\n",
      "Scaling row group sizes to 95.00% for 8 writers\n"
     ]
    },
    {
     "name": "stdout",
     "output_type": "stream",
     "text": [
      "Processed batch: 1000 rows, Total: 124500 rows\n",
      "Processed batch: 1000 rows, Total: 125500 rows\n",
      "Processed batch: 1000 rows, Total: 126500 rows\n",
      "Processed batch: 1000 rows, Total: 127500 rows\n"
     ]
    },
    {
     "name": "stderr",
     "output_type": "stream",
     "text": [
      "25/08/15 18:18:22 WARN MemoryManager: Total allocation exceeds 95.00% (1,020,054,720 bytes) of heap memory\n",
      "Scaling row group sizes to 95.00% for 8 writers\n"
     ]
    },
    {
     "name": "stdout",
     "output_type": "stream",
     "text": [
      "Processed batch: 1000 rows, Total: 128500 rows\n",
      "Processed batch: 1000 rows, Total: 129500 rows\n",
      "Processed batch: 1000 rows, Total: 130500 rows\n",
      "Processed batch: 1000 rows, Total: 131500 rows\n",
      "Processed batch: 1500 rows, Total: 133000 rows\n",
      "Processed batch: 1000 rows, Total: 134000 rows\n",
      "Processed batch: 1000 rows, Total: 135000 rows\n",
      "Processed batch: 500 rows, Total: 135500 rows\n",
      "Processed batch: 1000 rows, Total: 136500 rows\n",
      "Processed batch: 1000 rows, Total: 137500 rows\n"
     ]
    },
    {
     "name": "stderr",
     "output_type": "stream",
     "text": [
      "25/08/15 18:18:42 WARN MemoryManager: Total allocation exceeds 95.00% (1,020,054,720 bytes) of heap memory\n",
      "Scaling row group sizes to 95.00% for 8 writers\n",
      "25/08/15 18:18:42 WARN MemoryManager: Total allocation exceeds 95.00% (1,020,054,720 bytes) of heap memory\n",
      "Scaling row group sizes to 84.44% for 9 writers\n",
      "25/08/15 18:18:42 WARN MemoryManager: Total allocation exceeds 95.00% (1,020,054,720 bytes) of heap memory\n",
      "Scaling row group sizes to 95.00% for 8 writers\n"
     ]
    },
    {
     "name": "stdout",
     "output_type": "stream",
     "text": [
      "Processed batch: 1000 rows, Total: 138500 rows\n",
      "Processed batch: 1000 rows, Total: 139500 rows\n",
      "Processed batch: 1000 rows, Total: 140500 rows\n",
      "Processed batch: 1000 rows, Total: 141500 rows\n",
      "Processed batch: 1000 rows, Total: 142500 rows\n",
      "Processed batch: 1000 rows, Total: 143500 rows\n",
      "Processed batch: 1000 rows, Total: 144500 rows\n",
      "Processed batch: 1000 rows, Total: 145500 rows\n",
      "Processed batch: 1000 rows, Total: 146500 rows\n",
      "Processed batch: 1500 rows, Total: 148000 rows\n",
      "Processed batch: 1000 rows, Total: 149000 rows\n"
     ]
    },
    {
     "name": "stderr",
     "output_type": "stream",
     "text": [
      "25/08/15 18:19:04 WARN MemoryManager: Total allocation exceeds 95.00% (1,020,054,720 bytes) of heap memory\n",
      "Scaling row group sizes to 95.00% for 8 writers\n"
     ]
    },
    {
     "name": "stdout",
     "output_type": "stream",
     "text": [
      "Processed batch: 1000 rows, Total: 150000 rows\n",
      "Processed batch: 1000 rows, Total: 151000 rows\n",
      "Processed batch: 1000 rows, Total: 152000 rows\n",
      "Processed batch: 1000 rows, Total: 153000 rows\n",
      "Processed batch: 1000 rows, Total: 154000 rows\n",
      "Processed batch: 1000 rows, Total: 155000 rows\n",
      "Processed batch: 1000 rows, Total: 156000 rows\n",
      "Processed batch: 1000 rows, Total: 157000 rows\n",
      "Processed batch: 1000 rows, Total: 158000 rows\n",
      "Processed batch: 1000 rows, Total: 159000 rows\n",
      "Processed batch: 1000 rows, Total: 160000 rows\n"
     ]
    },
    {
     "name": "stderr",
     "output_type": "stream",
     "text": [
      "25/08/15 18:19:26 WARN MemoryManager: Total allocation exceeds 95.00% (1,020,054,720 bytes) of heap memory\n",
      "Scaling row group sizes to 95.00% for 8 writers\n",
      "25/08/15 18:19:26 WARN MemoryManager: Total allocation exceeds 95.00% (1,020,054,720 bytes) of heap memory\n",
      "Scaling row group sizes to 84.44% for 9 writers\n",
      "25/08/15 18:19:26 WARN MemoryManager: Total allocation exceeds 95.00% (1,020,054,720 bytes) of heap memory\n",
      "Scaling row group sizes to 95.00% for 8 writers\n"
     ]
    },
    {
     "name": "stdout",
     "output_type": "stream",
     "text": [
      "Processed batch: 1000 rows, Total: 161000 rows\n",
      "Processed batch: 1000 rows, Total: 162000 rows\n",
      "Processed batch: 1000 rows, Total: 163000 rows\n",
      "Processed batch: 1500 rows, Total: 164500 rows\n"
     ]
    },
    {
     "name": "stderr",
     "output_type": "stream",
     "text": [
      "25/08/15 18:19:34 WARN MemoryManager: Total allocation exceeds 95.00% (1,020,054,720 bytes) of heap memory\n",
      "Scaling row group sizes to 95.00% for 8 writers\n",
      "25/08/15 18:19:34 WARN MemoryManager: Total allocation exceeds 95.00% (1,020,054,720 bytes) of heap memory\n",
      "Scaling row group sizes to 84.44% for 9 writers\n",
      "25/08/15 18:19:34 WARN MemoryManager: Total allocation exceeds 95.00% (1,020,054,720 bytes) of heap memory\n",
      "Scaling row group sizes to 76.00% for 10 writers\n",
      "25/08/15 18:19:34 WARN MemoryManager: Total allocation exceeds 95.00% (1,020,054,720 bytes) of heap memory\n",
      "Scaling row group sizes to 84.44% for 9 writers\n",
      "25/08/15 18:19:34 WARN MemoryManager: Total allocation exceeds 95.00% (1,020,054,720 bytes) of heap memory\n",
      "Scaling row group sizes to 95.00% for 8 writers\n"
     ]
    },
    {
     "name": "stdout",
     "output_type": "stream",
     "text": [
      "Processed batch: 1000 rows, Total: 165500 rows\n",
      "Processed batch: 1000 rows, Total: 166500 rows\n"
     ]
    },
    {
     "name": "stderr",
     "output_type": "stream",
     "text": [
      "25/08/15 18:19:38 WARN MemoryManager: Total allocation exceeds 95.00% (1,020,054,720 bytes) of heap memory\n",
      "Scaling row group sizes to 95.00% for 8 writers\n"
     ]
    },
    {
     "name": "stdout",
     "output_type": "stream",
     "text": [
      "Processed batch: 1000 rows, Total: 167500 rows\n",
      "Processed batch: 680 rows, Total: 168180 rows\n",
      "Processed batch: 820 rows, Total: 169000 rows\n",
      "Processed batch: 1000 rows, Total: 170000 rows\n",
      "Processed batch: 1000 rows, Total: 171000 rows\n",
      "Processed batch: 1000 rows, Total: 172000 rows\n"
     ]
    },
    {
     "name": "stderr",
     "output_type": "stream",
     "text": [
      "25/08/15 18:19:50 WARN MemoryManager: Total allocation exceeds 95.00% (1,020,054,720 bytes) of heap memory\n",
      "Scaling row group sizes to 95.00% for 8 writers\n",
      "25/08/15 18:19:50 WARN MemoryManager: Total allocation exceeds 95.00% (1,020,054,720 bytes) of heap memory\n",
      "Scaling row group sizes to 84.44% for 9 writers\n",
      "25/08/15 18:19:50 WARN MemoryManager: Total allocation exceeds 95.00% (1,020,054,720 bytes) of heap memory\n",
      "Scaling row group sizes to 95.00% for 8 writers\n"
     ]
    },
    {
     "name": "stdout",
     "output_type": "stream",
     "text": [
      "Processed batch: 1000 rows, Total: 173000 rows\n",
      "Processed batch: 1000 rows, Total: 174000 rows\n"
     ]
    },
    {
     "name": "stderr",
     "output_type": "stream",
     "text": [
      "25/08/15 18:19:54 WARN MemoryManager: Total allocation exceeds 95.00% (1,020,054,720 bytes) of heap memory\n",
      "Scaling row group sizes to 95.00% for 8 writers\n",
      "25/08/15 18:19:54 WARN MemoryManager: Total allocation exceeds 95.00% (1,020,054,720 bytes) of heap memory\n",
      "Scaling row group sizes to 84.44% for 9 writers\n",
      "25/08/15 18:19:54 WARN MemoryManager: Total allocation exceeds 95.00% (1,020,054,720 bytes) of heap memory\n",
      "Scaling row group sizes to 95.00% for 8 writers\n"
     ]
    },
    {
     "name": "stdout",
     "output_type": "stream",
     "text": [
      "Processed batch: 1000 rows, Total: 175000 rows\n",
      "Processed batch: 1000 rows, Total: 176000 rows\n",
      "Processed batch: 1000 rows, Total: 177000 rows\n",
      "Processed batch: 1000 rows, Total: 178000 rows\n",
      "Processed batch: 1000 rows, Total: 179000 rows\n",
      "Processed batch: 1500 rows, Total: 180500 rows\n",
      "Processed batch: 1000 rows, Total: 181500 rows\n"
     ]
    },
    {
     "name": "stderr",
     "output_type": "stream",
     "text": [
      "25/08/15 18:20:08 WARN MemoryManager: Total allocation exceeds 95.00% (1,020,054,720 bytes) of heap memory\n",
      "Scaling row group sizes to 95.00% for 8 writers\n",
      "25/08/15 18:20:08 WARN MemoryManager: Total allocation exceeds 95.00% (1,020,054,720 bytes) of heap memory\n",
      "Scaling row group sizes to 84.44% for 9 writers\n",
      "25/08/15 18:20:08 WARN MemoryManager: Total allocation exceeds 95.00% (1,020,054,720 bytes) of heap memory\n",
      "Scaling row group sizes to 76.00% for 10 writers\n",
      "25/08/15 18:20:08 WARN MemoryManager: Total allocation exceeds 95.00% (1,020,054,720 bytes) of heap memory\n",
      "Scaling row group sizes to 84.44% for 9 writers\n",
      "25/08/15 18:20:08 WARN MemoryManager: Total allocation exceeds 95.00% (1,020,054,720 bytes) of heap memory\n",
      "Scaling row group sizes to 95.00% for 8 writers\n"
     ]
    },
    {
     "name": "stdout",
     "output_type": "stream",
     "text": [
      "Processed batch: 1000 rows, Total: 182500 rows\n"
     ]
    },
    {
     "name": "stderr",
     "output_type": "stream",
     "text": [
      "25/08/15 18:20:10 WARN MemoryManager: Total allocation exceeds 95.00% (1,020,054,720 bytes) of heap memory\n",
      "Scaling row group sizes to 95.00% for 8 writers\n"
     ]
    },
    {
     "name": "stdout",
     "output_type": "stream",
     "text": [
      "Processed batch: 1000 rows, Total: 183500 rows\n",
      "Processed batch: 1000 rows, Total: 184500 rows\n",
      "Processed batch: 1000 rows, Total: 185500 rows\n",
      "Processed batch: 1000 rows, Total: 186500 rows\n",
      "Processed batch: 1000 rows, Total: 187500 rows\n",
      "Processed batch: 1000 rows, Total: 188500 rows\n",
      "Processed batch: 1000 rows, Total: 189500 rows\n",
      "Processed batch: 1000 rows, Total: 190500 rows\n",
      "Processed batch: 1000 rows, Total: 191500 rows\n",
      "Processed batch: 1000 rows, Total: 192500 rows\n"
     ]
    },
    {
     "name": "stderr",
     "output_type": "stream",
     "text": [
      "25/08/15 18:20:30 WARN MemoryManager: Total allocation exceeds 95.00% (1,020,054,720 bytes) of heap memory\n",
      "Scaling row group sizes to 95.00% for 8 writers\n",
      "25/08/15 18:20:30 WARN MemoryManager: Total allocation exceeds 95.00% (1,020,054,720 bytes) of heap memory\n",
      "Scaling row group sizes to 84.44% for 9 writers\n",
      "25/08/15 18:20:30 WARN MemoryManager: Total allocation exceeds 95.00% (1,020,054,720 bytes) of heap memory\n",
      "Scaling row group sizes to 76.00% for 10 writers\n",
      "25/08/15 18:20:30 WARN MemoryManager: Total allocation exceeds 95.00% (1,020,054,720 bytes) of heap memory\n",
      "Scaling row group sizes to 84.44% for 9 writers\n",
      "25/08/15 18:20:30 WARN MemoryManager: Total allocation exceeds 95.00% (1,020,054,720 bytes) of heap memory\n",
      "Scaling row group sizes to 95.00% for 8 writers\n",
      "25/08/15 18:20:30 WARN MemoryManager: Total allocation exceeds 95.00% (1,020,054,720 bytes) of heap memory\n",
      "Scaling row group sizes to 95.00% for 8 writers\n"
     ]
    },
    {
     "name": "stdout",
     "output_type": "stream",
     "text": [
      "Processed batch: 1000 rows, Total: 193500 rows\n",
      "Processed batch: 1000 rows, Total: 194500 rows\n",
      "Processed batch: 1500 rows, Total: 196000 rows\n"
     ]
    },
    {
     "name": "stderr",
     "output_type": "stream",
     "text": [
      "25/08/15 18:20:36 WARN MemoryManager: Total allocation exceeds 95.00% (1,020,054,720 bytes) of heap memory\n",
      "Scaling row group sizes to 95.00% for 8 writers\n"
     ]
    },
    {
     "name": "stdout",
     "output_type": "stream",
     "text": [
      "Processed batch: 1000 rows, Total: 197000 rows\n",
      "Processed batch: 1000 rows, Total: 198000 rows\n",
      "Processed batch: 1000 rows, Total: 199000 rows\n",
      "Processed batch: 1000 rows, Total: 200000 rows\n",
      "Processed batch: 1000 rows, Total: 201000 rows\n",
      "Processed batch: 1000 rows, Total: 202000 rows\n",
      "Processed batch: 1000 rows, Total: 203000 rows\n"
     ]
    },
    {
     "name": "stderr",
     "output_type": "stream",
     "text": [
      "25/08/15 18:20:50 WARN MemoryManager: Total allocation exceeds 95.00% (1,020,054,720 bytes) of heap memory\n",
      "Scaling row group sizes to 95.00% for 8 writers\n",
      "25/08/15 18:20:50 WARN MemoryManager: Total allocation exceeds 95.00% (1,020,054,720 bytes) of heap memory\n",
      "Scaling row group sizes to 84.44% for 9 writers\n",
      "25/08/15 18:20:50 WARN MemoryManager: Total allocation exceeds 95.00% (1,020,054,720 bytes) of heap memory\n",
      "Scaling row group sizes to 76.00% for 10 writers\n",
      "25/08/15 18:20:50 WARN MemoryManager: Total allocation exceeds 95.00% (1,020,054,720 bytes) of heap memory\n",
      "Scaling row group sizes to 69.09% for 11 writers\n",
      "25/08/15 18:20:50 WARN MemoryManager: Total allocation exceeds 95.00% (1,020,054,720 bytes) of heap memory\n",
      "Scaling row group sizes to 76.00% for 10 writers\n",
      "25/08/15 18:20:50 WARN MemoryManager: Total allocation exceeds 95.00% (1,020,054,720 bytes) of heap memory\n",
      "Scaling row group sizes to 84.44% for 9 writers\n",
      "25/08/15 18:20:50 WARN MemoryManager: Total allocation exceeds 95.00% (1,020,054,720 bytes) of heap memory\n",
      "Scaling row group sizes to 95.00% for 8 writers\n"
     ]
    },
    {
     "name": "stdout",
     "output_type": "stream",
     "text": [
      "Processed batch: 1000 rows, Total: 204000 rows\n",
      "Processed batch: 1000 rows, Total: 205000 rows\n"
     ]
    },
    {
     "name": "stderr",
     "output_type": "stream",
     "text": [
      "25/08/15 18:20:54 WARN MemoryManager: Total allocation exceeds 95.00% (1,020,054,720 bytes) of heap memory\n",
      "Scaling row group sizes to 95.00% for 8 writers\n",
      "25/08/15 18:20:54 WARN MemoryManager: Total allocation exceeds 95.00% (1,020,054,720 bytes) of heap memory\n",
      "Scaling row group sizes to 84.44% for 9 writers\n",
      "25/08/15 18:20:54 WARN MemoryManager: Total allocation exceeds 95.00% (1,020,054,720 bytes) of heap memory\n",
      "Scaling row group sizes to 95.00% for 8 writers\n",
      "25/08/15 18:20:54 WARN MemoryManager: Total allocation exceeds 95.00% (1,020,054,720 bytes) of heap memory\n",
      "Scaling row group sizes to 84.44% for 9 writers\n",
      "25/08/15 18:20:54 WARN MemoryManager: Total allocation exceeds 95.00% (1,020,054,720 bytes) of heap memory\n",
      "Scaling row group sizes to 95.00% for 8 writers\n",
      "25/08/15 18:20:54 WARN MemoryManager: Total allocation exceeds 95.00% (1,020,054,720 bytes) of heap memory\n",
      "Scaling row group sizes to 95.00% for 8 writers\n",
      "25/08/15 18:20:54 WARN MemoryManager: Total allocation exceeds 95.00% (1,020,054,720 bytes) of heap memory\n",
      "Scaling row group sizes to 95.00% for 8 writers\n"
     ]
    },
    {
     "name": "stdout",
     "output_type": "stream",
     "text": [
      "Processed batch: 1000 rows, Total: 206000 rows\n",
      "Processed batch: 500 rows, Total: 206500 rows\n",
      "Processed batch: 1000 rows, Total: 207500 rows\n",
      "Processed batch: 1000 rows, Total: 208500 rows\n",
      "Processed batch: 1000 rows, Total: 209500 rows\n",
      "Processed batch: 1000 rows, Total: 210500 rows\n",
      "Processed batch: 1500 rows, Total: 212000 rows\n",
      "Processed batch: 1000 rows, Total: 213000 rows\n",
      "Processed batch: 1000 rows, Total: 214000 rows\n",
      "Processed batch: 1000 rows, Total: 215000 rows\n",
      "Processed batch: 1000 rows, Total: 216000 rows\n",
      "Processed batch: 1000 rows, Total: 217000 rows\n"
     ]
    },
    {
     "name": "stderr",
     "output_type": "stream",
     "text": [
      "25/08/15 18:21:18 WARN MemoryManager: Total allocation exceeds 95.00% (1,020,054,720 bytes) of heap memory\n",
      "Scaling row group sizes to 95.00% for 8 writers\n",
      "25/08/15 18:21:18 WARN MemoryManager: Total allocation exceeds 95.00% (1,020,054,720 bytes) of heap memory\n",
      "Scaling row group sizes to 84.44% for 9 writers\n",
      "25/08/15 18:21:18 WARN MemoryManager: Total allocation exceeds 95.00% (1,020,054,720 bytes) of heap memory\n",
      "Scaling row group sizes to 95.00% for 8 writers\n",
      "25/08/15 18:21:18 WARN MemoryManager: Total allocation exceeds 95.00% (1,020,054,720 bytes) of heap memory\n",
      "Scaling row group sizes to 84.44% for 9 writers\n",
      "25/08/15 18:21:18 WARN MemoryManager: Total allocation exceeds 95.00% (1,020,054,720 bytes) of heap memory\n",
      "Scaling row group sizes to 95.00% for 8 writers\n",
      "25/08/15 18:21:18 WARN MemoryManager: Total allocation exceeds 95.00% (1,020,054,720 bytes) of heap memory\n",
      "Scaling row group sizes to 95.00% for 8 writers\n"
     ]
    },
    {
     "name": "stdout",
     "output_type": "stream",
     "text": [
      "Processed batch: 1000 rows, Total: 218000 rows\n",
      "Processed batch: 1000 rows, Total: 219000 rows\n",
      "Processed batch: 1000 rows, Total: 220000 rows\n",
      "Processed batch: 1000 rows, Total: 221000 rows\n",
      "Processed batch: 1000 rows, Total: 222000 rows\n"
     ]
    },
    {
     "name": "stderr",
     "output_type": "stream",
     "text": [
      "25/08/15 18:21:28 WARN MemoryManager: Total allocation exceeds 95.00% (1,020,054,720 bytes) of heap memory\n",
      "Scaling row group sizes to 95.00% for 8 writers\n"
     ]
    },
    {
     "name": "stdout",
     "output_type": "stream",
     "text": [
      "Processed batch: 1000 rows, Total: 223000 rows\n",
      "Processed batch: 1000 rows, Total: 224000 rows\n",
      "Processed batch: 1000 rows, Total: 225000 rows\n",
      "Processed batch: 1000 rows, Total: 226000 rows\n",
      "Processed batch: 1500 rows, Total: 227500 rows\n"
     ]
    },
    {
     "name": "stderr",
     "output_type": "stream",
     "text": [
      "25/08/15 18:21:38 WARN MemoryManager: Total allocation exceeds 95.00% (1,020,054,720 bytes) of heap memory\n",
      "Scaling row group sizes to 95.00% for 8 writers\n"
     ]
    },
    {
     "name": "stdout",
     "output_type": "stream",
     "text": [
      "Processed batch: 1000 rows, Total: 228500 rows\n",
      "Processed batch: 1000 rows, Total: 229500 rows\n",
      "Processed batch: 1000 rows, Total: 230500 rows\n",
      "Processed batch: 1000 rows, Total: 231500 rows\n",
      "Processed batch: 1000 rows, Total: 232500 rows\n",
      "Processed batch: 881 rows, Total: 233381 rows\n",
      "Processed batch: 619 rows, Total: 234000 rows\n",
      "Processed batch: 1000 rows, Total: 235000 rows\n",
      "Processed batch: 1000 rows, Total: 236000 rows\n",
      "Processed batch: 1000 rows, Total: 237000 rows\n",
      "Processed batch: 1000 rows, Total: 238000 rows\n",
      "Processed batch: 1000 rows, Total: 239000 rows\n",
      "Processed batch: 1000 rows, Total: 240000 rows\n"
     ]
    },
    {
     "name": "stderr",
     "output_type": "stream",
     "text": [
      "25/08/15 18:22:04 WARN MemoryManager: Total allocation exceeds 95.00% (1,020,054,720 bytes) of heap memory\n",
      "Scaling row group sizes to 95.00% for 8 writers\n"
     ]
    },
    {
     "name": "stdout",
     "output_type": "stream",
     "text": [
      "Processed batch: 1000 rows, Total: 241000 rows\n",
      "Processed batch: 1000 rows, Total: 242000 rows\n",
      "Processed batch: 1500 rows, Total: 243500 rows\n",
      "Processed batch: 1000 rows, Total: 244500 rows\n",
      "Processed batch: 1000 rows, Total: 245500 rows\n",
      "Processed batch: 1000 rows, Total: 246500 rows\n",
      "Processed batch: 1000 rows, Total: 247500 rows\n",
      "Processed batch: 1000 rows, Total: 248500 rows\n"
     ]
    },
    {
     "name": "stderr",
     "output_type": "stream",
     "text": [
      "25/08/15 18:22:20 WARN MemoryManager: Total allocation exceeds 95.00% (1,020,054,720 bytes) of heap memory\n",
      "Scaling row group sizes to 95.00% for 8 writers\n",
      "25/08/15 18:22:20 WARN MemoryManager: Total allocation exceeds 95.00% (1,020,054,720 bytes) of heap memory\n",
      "Scaling row group sizes to 84.44% for 9 writers\n",
      "25/08/15 18:22:20 WARN MemoryManager: Total allocation exceeds 95.00% (1,020,054,720 bytes) of heap memory\n",
      "Scaling row group sizes to 95.00% for 8 writers\n"
     ]
    },
    {
     "name": "stdout",
     "output_type": "stream",
     "text": [
      "Processed batch: 1000 rows, Total: 249500 rows\n",
      "Processed batch: 1000 rows, Total: 250500 rows\n",
      "Processed batch: 1000 rows, Total: 251500 rows\n"
     ]
    },
    {
     "name": "stderr",
     "output_type": "stream",
     "text": [
      "25/08/15 18:22:26 WARN MemoryManager: Total allocation exceeds 95.00% (1,020,054,720 bytes) of heap memory\n",
      "Scaling row group sizes to 95.00% for 8 writers\n",
      "25/08/15 18:22:26 WARN MemoryManager: Total allocation exceeds 95.00% (1,020,054,720 bytes) of heap memory\n",
      "Scaling row group sizes to 84.44% for 9 writers\n",
      "25/08/15 18:22:26 WARN MemoryManager: Total allocation exceeds 95.00% (1,020,054,720 bytes) of heap memory\n",
      "Scaling row group sizes to 95.00% for 8 writers\n",
      "25/08/15 18:22:26 WARN MemoryManager: Total allocation exceeds 95.00% (1,020,054,720 bytes) of heap memory\n",
      "Scaling row group sizes to 95.00% for 8 writers\n",
      "25/08/15 18:22:26 WARN MemoryManager: Total allocation exceeds 95.00% (1,020,054,720 bytes) of heap memory\n",
      "Scaling row group sizes to 95.00% for 8 writers\n"
     ]
    },
    {
     "name": "stdout",
     "output_type": "stream",
     "text": [
      "Processed batch: 1000 rows, Total: 252500 rows\n",
      "Processed batch: 1000 rows, Total: 253500 rows\n",
      "Processed batch: 1000 rows, Total: 254500 rows\n",
      "Processed batch: 1000 rows, Total: 255500 rows\n",
      "Processed batch: 1000 rows, Total: 256500 rows\n",
      "Processed batch: 1000 rows, Total: 257500 rows\n",
      "Processed batch: 1000 rows, Total: 258500 rows\n",
      "Processed batch: 1500 rows, Total: 260000 rows\n",
      "Processed batch: 1000 rows, Total: 261000 rows\n",
      "Processed batch: 1000 rows, Total: 262000 rows\n",
      "Processed batch: 500 rows, Total: 262500 rows\n",
      "Processed batch: 1000 rows, Total: 263500 rows\n",
      "Processed batch: 1000 rows, Total: 264500 rows\n",
      "Processed batch: 1000 rows, Total: 265500 rows\n",
      "Processed batch: 1000 rows, Total: 266500 rows\n",
      "Processed batch: 1000 rows, Total: 267500 rows\n",
      "Processed batch: 1000 rows, Total: 268500 rows\n",
      "Processed batch: 1000 rows, Total: 269500 rows\n",
      "Processed batch: 1000 rows, Total: 270500 rows\n"
     ]
    },
    {
     "name": "stderr",
     "output_type": "stream",
     "text": [
      "25/08/15 18:23:04 WARN MemoryManager: Total allocation exceeds 95.00% (1,020,054,720 bytes) of heap memory\n",
      "Scaling row group sizes to 95.00% for 8 writers\n",
      "25/08/15 18:23:04 WARN MemoryManager: Total allocation exceeds 95.00% (1,020,054,720 bytes) of heap memory\n",
      "Scaling row group sizes to 95.00% for 8 writers\n"
     ]
    },
    {
     "name": "stdout",
     "output_type": "stream",
     "text": [
      "Processed batch: 1000 rows, Total: 271500 rows\n",
      "Processed batch: 1000 rows, Total: 272500 rows\n",
      "Processed batch: 1000 rows, Total: 273500 rows\n"
     ]
    },
    {
     "name": "stderr",
     "output_type": "stream",
     "text": [
      "25/08/15 18:23:10 WARN MemoryManager: Total allocation exceeds 95.00% (1,020,054,720 bytes) of heap memory\n",
      "Scaling row group sizes to 95.00% for 8 writers\n",
      "25/08/15 18:23:10 WARN MemoryManager: Total allocation exceeds 95.00% (1,020,054,720 bytes) of heap memory\n",
      "Scaling row group sizes to 95.00% for 8 writers\n",
      "25/08/15 18:23:10 WARN MemoryManager: Total allocation exceeds 95.00% (1,020,054,720 bytes) of heap memory\n",
      "Scaling row group sizes to 84.44% for 9 writers\n",
      "25/08/15 18:23:10 WARN MemoryManager: Total allocation exceeds 95.00% (1,020,054,720 bytes) of heap memory\n",
      "Scaling row group sizes to 76.00% for 10 writers\n",
      "25/08/15 18:23:10 WARN MemoryManager: Total allocation exceeds 95.00% (1,020,054,720 bytes) of heap memory\n",
      "Scaling row group sizes to 84.44% for 9 writers\n",
      "25/08/15 18:23:10 WARN MemoryManager: Total allocation exceeds 95.00% (1,020,054,720 bytes) of heap memory\n",
      "Scaling row group sizes to 95.00% for 8 writers\n"
     ]
    },
    {
     "name": "stdout",
     "output_type": "stream",
     "text": [
      "Processed batch: 1500 rows, Total: 275000 rows\n",
      "Processed batch: 1000 rows, Total: 276000 rows\n",
      "Processed batch: 1000 rows, Total: 277000 rows\n",
      "Processed batch: 1000 rows, Total: 278000 rows\n",
      "Processed batch: 1000 rows, Total: 279000 rows\n"
     ]
    },
    {
     "name": "stderr",
     "output_type": "stream",
     "text": [
      "25/08/15 18:23:20 WARN MemoryManager: Total allocation exceeds 95.00% (1,020,054,720 bytes) of heap memory\n",
      "Scaling row group sizes to 95.00% for 8 writers\n",
      "25/08/15 18:23:20 WARN MemoryManager: Total allocation exceeds 95.00% (1,020,054,720 bytes) of heap memory\n",
      "Scaling row group sizes to 84.44% for 9 writers\n",
      "25/08/15 18:23:20 WARN MemoryManager: Total allocation exceeds 95.00% (1,020,054,720 bytes) of heap memory\n",
      "Scaling row group sizes to 76.00% for 10 writers\n",
      "25/08/15 18:23:20 WARN MemoryManager: Total allocation exceeds 95.00% (1,020,054,720 bytes) of heap memory\n",
      "Scaling row group sizes to 69.09% for 11 writers\n",
      "25/08/15 18:23:20 WARN MemoryManager: Total allocation exceeds 95.00% (1,020,054,720 bytes) of heap memory\n",
      "Scaling row group sizes to 76.00% for 10 writers\n",
      "25/08/15 18:23:20 WARN MemoryManager: Total allocation exceeds 95.00% (1,020,054,720 bytes) of heap memory\n",
      "Scaling row group sizes to 69.09% for 11 writers\n",
      "25/08/15 18:23:20 WARN MemoryManager: Total allocation exceeds 95.00% (1,020,054,720 bytes) of heap memory\n",
      "Scaling row group sizes to 76.00% for 10 writers\n",
      "25/08/15 18:23:20 WARN MemoryManager: Total allocation exceeds 95.00% (1,020,054,720 bytes) of heap memory\n",
      "Scaling row group sizes to 84.44% for 9 writers\n",
      "25/08/15 18:23:20 WARN MemoryManager: Total allocation exceeds 95.00% (1,020,054,720 bytes) of heap memory\n",
      "Scaling row group sizes to 95.00% for 8 writers\n"
     ]
    },
    {
     "name": "stdout",
     "output_type": "stream",
     "text": [
      "Processed batch: 1000 rows, Total: 280000 rows\n",
      "Processed batch: 1000 rows, Total: 281000 rows\n",
      "Processed batch: 1000 rows, Total: 282000 rows\n",
      "Processed batch: 1000 rows, Total: 283000 rows\n",
      "Processed batch: 1000 rows, Total: 284000 rows\n",
      "Processed batch: 1000 rows, Total: 285000 rows\n"
     ]
    },
    {
     "name": "stderr",
     "output_type": "stream",
     "text": [
      "25/08/15 18:23:32 WARN MemoryManager: Total allocation exceeds 95.00% (1,020,054,720 bytes) of heap memory\n",
      "Scaling row group sizes to 95.00% for 8 writers\n"
     ]
    },
    {
     "name": "stdout",
     "output_type": "stream",
     "text": [
      "Processed batch: 1000 rows, Total: 286000 rows\n",
      "Processed batch: 1000 rows, Total: 287000 rows\n",
      "Processed batch: 1000 rows, Total: 288000 rows\n",
      "Processed batch: 1000 rows, Total: 289000 rows\n"
     ]
    },
    {
     "name": "stderr",
     "output_type": "stream",
     "text": [
      "25/08/15 18:23:40 WARN MemoryManager: Total allocation exceeds 95.00% (1,020,054,720 bytes) of heap memory\n",
      "Scaling row group sizes to 95.00% for 8 writers\n",
      "25/08/15 18:23:40 WARN MemoryManager: Total allocation exceeds 95.00% (1,020,054,720 bytes) of heap memory\n",
      "Scaling row group sizes to 84.44% for 9 writers\n",
      "25/08/15 18:23:40 WARN MemoryManager: Total allocation exceeds 95.00% (1,020,054,720 bytes) of heap memory\n",
      "Scaling row group sizes to 76.00% for 10 writers\n",
      "25/08/15 18:23:40 WARN MemoryManager: Total allocation exceeds 95.00% (1,020,054,720 bytes) of heap memory\n",
      "Scaling row group sizes to 69.09% for 11 writers\n",
      "25/08/15 18:23:40 WARN MemoryManager: Total allocation exceeds 95.00% (1,020,054,720 bytes) of heap memory\n",
      "Scaling row group sizes to 76.00% for 10 writers\n",
      "25/08/15 18:23:40 WARN MemoryManager: Total allocation exceeds 95.00% (1,020,054,720 bytes) of heap memory\n",
      "Scaling row group sizes to 84.44% for 9 writers\n",
      "25/08/15 18:23:40 WARN MemoryManager: Total allocation exceeds 95.00% (1,020,054,720 bytes) of heap memory\n",
      "Scaling row group sizes to 95.00% for 8 writers\n"
     ]
    },
    {
     "name": "stdout",
     "output_type": "stream",
     "text": [
      "Processed batch: 1000 rows, Total: 290000 rows\n",
      "Processed batch: 1500 rows, Total: 291500 rows\n",
      "Processed batch: 1000 rows, Total: 292500 rows\n",
      "Processed batch: 1000 rows, Total: 293500 rows\n",
      "Processed batch: 1000 rows, Total: 294500 rows\n"
     ]
    },
    {
     "name": "stderr",
     "output_type": "stream",
     "text": [
      "25/08/15 18:23:50 WARN MemoryManager: Total allocation exceeds 95.00% (1,020,054,720 bytes) of heap memory\n",
      "Scaling row group sizes to 95.00% for 8 writers\n"
     ]
    },
    {
     "name": "stdout",
     "output_type": "stream",
     "text": [
      "Processed batch: 1000 rows, Total: 295500 rows\n"
     ]
    },
    {
     "name": "stderr",
     "output_type": "stream",
     "text": [
      "25/08/15 18:23:52 WARN MemoryManager: Total allocation exceeds 95.00% (1,020,054,720 bytes) of heap memory\n",
      "Scaling row group sizes to 95.00% for 8 writers\n"
     ]
    },
    {
     "name": "stdout",
     "output_type": "stream",
     "text": [
      "Processed batch: 1000 rows, Total: 296500 rows\n",
      "Processed batch: 919 rows, Total: 297419 rows\n",
      "Processed batch: 581 rows, Total: 298000 rows\n",
      "Processed batch: 1000 rows, Total: 299000 rows\n",
      "Processed batch: 1000 rows, Total: 300000 rows\n",
      "Processed batch: 1000 rows, Total: 301000 rows\n",
      "Processed batch: 1000 rows, Total: 302000 rows\n",
      "Processed batch: 1000 rows, Total: 303000 rows\n"
     ]
    },
    {
     "name": "stderr",
     "output_type": "stream",
     "text": [
      "25/08/15 18:24:08 WARN MemoryManager: Total allocation exceeds 95.00% (1,020,054,720 bytes) of heap memory\n",
      "Scaling row group sizes to 95.00% for 8 writers\n",
      "25/08/15 18:24:08 WARN MemoryManager: Total allocation exceeds 95.00% (1,020,054,720 bytes) of heap memory\n",
      "Scaling row group sizes to 84.44% for 9 writers\n",
      "25/08/15 18:24:08 WARN MemoryManager: Total allocation exceeds 95.00% (1,020,054,720 bytes) of heap memory\n",
      "Scaling row group sizes to 76.00% for 10 writers\n",
      "25/08/15 18:24:08 WARN MemoryManager: Total allocation exceeds 95.00% (1,020,054,720 bytes) of heap memory\n",
      "Scaling row group sizes to 84.44% for 9 writers\n",
      "25/08/15 18:24:08 WARN MemoryManager: Total allocation exceeds 95.00% (1,020,054,720 bytes) of heap memory\n",
      "Scaling row group sizes to 76.00% for 10 writers\n",
      "25/08/15 18:24:08 WARN MemoryManager: Total allocation exceeds 95.00% (1,020,054,720 bytes) of heap memory\n",
      "Scaling row group sizes to 69.09% for 11 writers\n",
      "25/08/15 18:24:08 WARN MemoryManager: Total allocation exceeds 95.00% (1,020,054,720 bytes) of heap memory\n",
      "Scaling row group sizes to 63.33% for 12 writers\n",
      "25/08/15 18:24:08 WARN MemoryManager: Total allocation exceeds 95.00% (1,020,054,720 bytes) of heap memory\n",
      "Scaling row group sizes to 58.46% for 13 writers\n",
      "25/08/15 18:24:08 WARN MemoryManager: Total allocation exceeds 95.00% (1,020,054,720 bytes) of heap memory\n",
      "Scaling row group sizes to 63.33% for 12 writers\n",
      "25/08/15 18:24:08 WARN MemoryManager: Total allocation exceeds 95.00% (1,020,054,720 bytes) of heap memory\n",
      "Scaling row group sizes to 69.09% for 11 writers\n",
      "25/08/15 18:24:08 WARN MemoryManager: Total allocation exceeds 95.00% (1,020,054,720 bytes) of heap memory\n",
      "Scaling row group sizes to 63.33% for 12 writers\n",
      "25/08/15 18:24:08 WARN MemoryManager: Total allocation exceeds 95.00% (1,020,054,720 bytes) of heap memory\n",
      "Scaling row group sizes to 69.09% for 11 writers\n",
      "25/08/15 18:24:08 WARN MemoryManager: Total allocation exceeds 95.00% (1,020,054,720 bytes) of heap memory\n",
      "Scaling row group sizes to 76.00% for 10 writers\n",
      "25/08/15 18:24:08 WARN MemoryManager: Total allocation exceeds 95.00% (1,020,054,720 bytes) of heap memory\n",
      "Scaling row group sizes to 69.09% for 11 writers\n",
      "25/08/15 18:24:08 WARN MemoryManager: Total allocation exceeds 95.00% (1,020,054,720 bytes) of heap memory\n",
      "Scaling row group sizes to 76.00% for 10 writers\n",
      "25/08/15 18:24:08 WARN MemoryManager: Total allocation exceeds 95.00% (1,020,054,720 bytes) of heap memory\n",
      "Scaling row group sizes to 84.44% for 9 writers\n",
      "25/08/15 18:24:08 WARN MemoryManager: Total allocation exceeds 95.00% (1,020,054,720 bytes) of heap memory\n",
      "Scaling row group sizes to 95.00% for 8 writers\n"
     ]
    },
    {
     "name": "stdout",
     "output_type": "stream",
     "text": [
      "Processed batch: 1000 rows, Total: 304000 rows\n",
      "Processed batch: 1000 rows, Total: 305000 rows\n",
      "Processed batch: 1500 rows, Total: 306500 rows\n",
      "Processed batch: 1000 rows, Total: 307500 rows\n",
      "Processed batch: 1000 rows, Total: 308500 rows\n",
      "Processed batch: 1000 rows, Total: 309500 rows\n",
      "Processed batch: 1000 rows, Total: 310500 rows\n",
      "Processed batch: 1000 rows, Total: 311500 rows\n",
      "Processed batch: 1000 rows, Total: 312500 rows\n",
      "Processed batch: 1000 rows, Total: 313500 rows\n",
      "Processed batch: 1000 rows, Total: 314500 rows\n",
      "Processed batch: 1000 rows, Total: 315500 rows\n",
      "Processed batch: 1000 rows, Total: 316500 rows\n",
      "Processed batch: 1000 rows, Total: 317500 rows\n",
      "Processed batch: 1000 rows, Total: 318500 rows\n",
      "Processed batch: 1000 rows, Total: 319500 rows\n",
      "Processed batch: 1000 rows, Total: 320500 rows\n",
      "Processed batch: 1000 rows, Total: 321500 rows\n"
     ]
    },
    {
     "name": "stderr",
     "output_type": "stream",
     "text": [
      "25/08/15 18:24:44 WARN MemoryManager: Total allocation exceeds 95.00% (1,020,054,720 bytes) of heap memory\n",
      "Scaling row group sizes to 95.00% for 8 writers\n",
      "25/08/15 18:24:44 WARN MemoryManager: Total allocation exceeds 95.00% (1,020,054,720 bytes) of heap memory\n",
      "Scaling row group sizes to 95.00% for 8 writers\n",
      "25/08/15 18:24:44 WARN MemoryManager: Total allocation exceeds 95.00% (1,020,054,720 bytes) of heap memory\n",
      "Scaling row group sizes to 95.00% for 8 writers\n",
      "25/08/15 18:24:44 WARN MemoryManager: Total allocation exceeds 95.00% (1,020,054,720 bytes) of heap memory\n",
      "Scaling row group sizes to 95.00% for 8 writers\n",
      "25/08/15 18:24:44 WARN MemoryManager: Total allocation exceeds 95.00% (1,020,054,720 bytes) of heap memory\n",
      "Scaling row group sizes to 84.44% for 9 writers\n",
      "25/08/15 18:24:44 WARN MemoryManager: Total allocation exceeds 95.00% (1,020,054,720 bytes) of heap memory\n",
      "Scaling row group sizes to 95.00% for 8 writers\n"
     ]
    },
    {
     "name": "stdout",
     "output_type": "stream",
     "text": [
      "Processed batch: 1500 rows, Total: 323000 rows\n",
      "Processed batch: 1000 rows, Total: 324000 rows\n",
      "Processed batch: 1000 rows, Total: 325000 rows\n",
      "Processed batch: 1000 rows, Total: 326000 rows\n",
      "Processed batch: 1000 rows, Total: 327000 rows\n",
      "Processed batch: 1000 rows, Total: 328000 rows\n"
     ]
    },
    {
     "name": "stderr",
     "output_type": "stream",
     "text": [
      "25/08/15 18:24:56 WARN MemoryManager: Total allocation exceeds 95.00% (1,020,054,720 bytes) of heap memory\n",
      "Scaling row group sizes to 95.00% for 8 writers\n",
      "25/08/15 18:24:56 WARN MemoryManager: Total allocation exceeds 95.00% (1,020,054,720 bytes) of heap memory\n",
      "Scaling row group sizes to 84.44% for 9 writers\n",
      "25/08/15 18:24:56 WARN MemoryManager: Total allocation exceeds 95.00% (1,020,054,720 bytes) of heap memory\n",
      "Scaling row group sizes to 76.00% for 10 writers\n",
      "25/08/15 18:24:56 WARN MemoryManager: Total allocation exceeds 95.00% (1,020,054,720 bytes) of heap memory\n",
      "Scaling row group sizes to 69.09% for 11 writers\n",
      "25/08/15 18:24:56 WARN MemoryManager: Total allocation exceeds 95.00% (1,020,054,720 bytes) of heap memory\n",
      "Scaling row group sizes to 76.00% for 10 writers\n",
      "25/08/15 18:24:56 WARN MemoryManager: Total allocation exceeds 95.00% (1,020,054,720 bytes) of heap memory\n",
      "Scaling row group sizes to 84.44% for 9 writers\n",
      "25/08/15 18:24:56 WARN MemoryManager: Total allocation exceeds 95.00% (1,020,054,720 bytes) of heap memory\n",
      "Scaling row group sizes to 95.00% for 8 writers\n"
     ]
    },
    {
     "name": "stdout",
     "output_type": "stream",
     "text": [
      "Processed batch: 1000 rows, Total: 329000 rows\n",
      "Processed batch: 1000 rows, Total: 330000 rows\n",
      "Processed batch: 1000 rows, Total: 331000 rows\n"
     ]
    },
    {
     "name": "stderr",
     "output_type": "stream",
     "text": [
      "25/08/15 18:25:02 WARN MemoryManager: Total allocation exceeds 95.00% (1,020,054,720 bytes) of heap memory\n",
      "Scaling row group sizes to 95.00% for 8 writers\n"
     ]
    },
    {
     "name": "stdout",
     "output_type": "stream",
     "text": [
      "Processed batch: 1000 rows, Total: 332000 rows\n",
      "Processed batch: 500 rows, Total: 332500 rows\n",
      "Processed batch: 1000 rows, Total: 333500 rows\n"
     ]
    },
    {
     "name": "stderr",
     "output_type": "stream",
     "text": [
      "25/08/15 18:25:08 WARN MemoryManager: Total allocation exceeds 95.00% (1,020,054,720 bytes) of heap memory\n",
      "Scaling row group sizes to 95.00% for 8 writers\n",
      "25/08/15 18:25:08 WARN MemoryManager: Total allocation exceeds 95.00% (1,020,054,720 bytes) of heap memory\n",
      "Scaling row group sizes to 95.00% for 8 writers\n"
     ]
    },
    {
     "name": "stdout",
     "output_type": "stream",
     "text": [
      "Processed batch: 1000 rows, Total: 334500 rows\n",
      "Processed batch: 1000 rows, Total: 335500 rows\n",
      "Processed batch: 1000 rows, Total: 336500 rows\n",
      "Processed batch: 1000 rows, Total: 337500 rows\n",
      "Processed batch: 1500 rows, Total: 339000 rows\n",
      "Processed batch: 1000 rows, Total: 340000 rows\n",
      "Processed batch: 1000 rows, Total: 341000 rows\n",
      "Processed batch: 1000 rows, Total: 342000 rows\n",
      "Processed batch: 1000 rows, Total: 343000 rows\n",
      "Processed batch: 1000 rows, Total: 344000 rows\n",
      "Processed batch: 1000 rows, Total: 345000 rows\n",
      "Processed batch: 1000 rows, Total: 346000 rows\n"
     ]
    },
    {
     "name": "stderr",
     "output_type": "stream",
     "text": [
      "25/08/15 18:25:32 WARN MemoryManager: Total allocation exceeds 95.00% (1,020,054,720 bytes) of heap memory\n",
      "Scaling row group sizes to 95.00% for 8 writers\n",
      "25/08/15 18:25:32 WARN MemoryManager: Total allocation exceeds 95.00% (1,020,054,720 bytes) of heap memory\n",
      "Scaling row group sizes to 84.44% for 9 writers\n",
      "25/08/15 18:25:32 WARN MemoryManager: Total allocation exceeds 95.00% (1,020,054,720 bytes) of heap memory\n",
      "Scaling row group sizes to 76.00% for 10 writers\n",
      "25/08/15 18:25:32 WARN MemoryManager: Total allocation exceeds 95.00% (1,020,054,720 bytes) of heap memory\n",
      "Scaling row group sizes to 69.09% for 11 writers\n",
      "25/08/15 18:25:32 WARN MemoryManager: Total allocation exceeds 95.00% (1,020,054,720 bytes) of heap memory\n",
      "Scaling row group sizes to 76.00% for 10 writers\n",
      "25/08/15 18:25:32 WARN MemoryManager: Total allocation exceeds 95.00% (1,020,054,720 bytes) of heap memory\n",
      "Scaling row group sizes to 84.44% for 9 writers\n",
      "25/08/15 18:25:32 WARN MemoryManager: Total allocation exceeds 95.00% (1,020,054,720 bytes) of heap memory\n",
      "Scaling row group sizes to 76.00% for 10 writers\n",
      "25/08/15 18:25:32 WARN MemoryManager: Total allocation exceeds 95.00% (1,020,054,720 bytes) of heap memory\n",
      "Scaling row group sizes to 84.44% for 9 writers\n",
      "25/08/15 18:25:32 WARN MemoryManager: Total allocation exceeds 95.00% (1,020,054,720 bytes) of heap memory\n",
      "Scaling row group sizes to 95.00% for 8 writers\n"
     ]
    },
    {
     "name": "stdout",
     "output_type": "stream",
     "text": [
      "Processed batch: 1000 rows, Total: 347000 rows\n",
      "Processed batch: 1000 rows, Total: 348000 rows\n",
      "Processed batch: 1000 rows, Total: 349000 rows\n",
      "Processed batch: 1000 rows, Total: 350000 rows\n",
      "Processed batch: 1000 rows, Total: 351000 rows\n",
      "Processed batch: 1000 rows, Total: 352000 rows\n",
      "Processed batch: 1000 rows, Total: 353000 rows\n"
     ]
    },
    {
     "name": "stderr",
     "output_type": "stream",
     "text": [
      "25/08/15 18:25:46 WARN MemoryManager: Total allocation exceeds 95.00% (1,020,054,720 bytes) of heap memory\n",
      "Scaling row group sizes to 95.00% for 8 writers\n",
      "25/08/15 18:25:46 WARN MemoryManager: Total allocation exceeds 95.00% (1,020,054,720 bytes) of heap memory\n",
      "Scaling row group sizes to 84.44% for 9 writers\n",
      "25/08/15 18:25:46 WARN MemoryManager: Total allocation exceeds 95.00% (1,020,054,720 bytes) of heap memory\n",
      "Scaling row group sizes to 95.00% for 8 writers\n",
      "25/08/15 18:25:46 WARN MemoryManager: Total allocation exceeds 95.00% (1,020,054,720 bytes) of heap memory\n",
      "Scaling row group sizes to 84.44% for 9 writers\n",
      "25/08/15 18:25:46 WARN MemoryManager: Total allocation exceeds 95.00% (1,020,054,720 bytes) of heap memory\n",
      "Scaling row group sizes to 76.00% for 10 writers\n",
      "25/08/15 18:25:46 WARN MemoryManager: Total allocation exceeds 95.00% (1,020,054,720 bytes) of heap memory\n",
      "Scaling row group sizes to 69.09% for 11 writers\n",
      "25/08/15 18:25:46 WARN MemoryManager: Total allocation exceeds 95.00% (1,020,054,720 bytes) of heap memory\n",
      "Scaling row group sizes to 63.33% for 12 writers\n",
      "25/08/15 18:25:46 WARN MemoryManager: Total allocation exceeds 95.00% (1,020,054,720 bytes) of heap memory\n",
      "Scaling row group sizes to 69.09% for 11 writers\n",
      "25/08/15 18:25:46 WARN MemoryManager: Total allocation exceeds 95.00% (1,020,054,720 bytes) of heap memory\n",
      "Scaling row group sizes to 76.00% for 10 writers\n",
      "25/08/15 18:25:46 WARN MemoryManager: Total allocation exceeds 95.00% (1,020,054,720 bytes) of heap memory\n",
      "Scaling row group sizes to 84.44% for 9 writers\n",
      "25/08/15 18:25:46 WARN MemoryManager: Total allocation exceeds 95.00% (1,020,054,720 bytes) of heap memory\n",
      "Scaling row group sizes to 95.00% for 8 writers\n",
      "25/08/15 18:25:46 WARN MemoryManager: Total allocation exceeds 95.00% (1,020,054,720 bytes) of heap memory\n",
      "Scaling row group sizes to 95.00% for 8 writers\n"
     ]
    },
    {
     "name": "stdout",
     "output_type": "stream",
     "text": [
      "Processed batch: 1500 rows, Total: 354500 rows\n",
      "Processed batch: 1000 rows, Total: 355500 rows\n",
      "Processed batch: 1000 rows, Total: 356500 rows\n",
      "Processed batch: 1000 rows, Total: 357500 rows\n",
      "Processed batch: 1000 rows, Total: 358500 rows\n",
      "Processed batch: 1000 rows, Total: 359500 rows\n"
     ]
    },
    {
     "name": "stderr",
     "output_type": "stream",
     "text": [
      "25/08/15 18:25:58 WARN MemoryManager: Total allocation exceeds 95.00% (1,020,054,720 bytes) of heap memory\n",
      "Scaling row group sizes to 95.00% for 8 writers\n",
      "25/08/15 18:25:58 WARN MemoryManager: Total allocation exceeds 95.00% (1,020,054,720 bytes) of heap memory\n",
      "Scaling row group sizes to 95.00% for 8 writers\n",
      "25/08/15 18:25:58 WARN MemoryManager: Total allocation exceeds 95.00% (1,020,054,720 bytes) of heap memory\n",
      "Scaling row group sizes to 95.00% for 8 writers\n",
      "25/08/15 18:25:58 WARN MemoryManager: Total allocation exceeds 95.00% (1,020,054,720 bytes) of heap memory\n",
      "Scaling row group sizes to 95.00% for 8 writers\n",
      "25/08/15 18:25:58 WARN MemoryManager: Total allocation exceeds 95.00% (1,020,054,720 bytes) of heap memory\n",
      "Scaling row group sizes to 84.44% for 9 writers\n",
      "25/08/15 18:25:58 WARN MemoryManager: Total allocation exceeds 95.00% (1,020,054,720 bytes) of heap memory\n",
      "Scaling row group sizes to 95.00% for 8 writers\n",
      "25/08/15 18:25:58 WARN MemoryManager: Total allocation exceeds 95.00% (1,020,054,720 bytes) of heap memory\n",
      "Scaling row group sizes to 95.00% for 8 writers\n"
     ]
    },
    {
     "name": "stdout",
     "output_type": "stream",
     "text": [
      "Processed batch: 1000 rows, Total: 360500 rows\n",
      "Processed batch: 1000 rows, Total: 361500 rows\n",
      "Processed batch: 1000 rows, Total: 362500 rows\n",
      "Processed batch: 1000 rows, Total: 363500 rows\n",
      "Processed batch: 1000 rows, Total: 364500 rows\n",
      "Processed batch: 1000 rows, Total: 365500 rows\n",
      "Processed batch: 1000 rows, Total: 366500 rows\n",
      "Processed batch: 1000 rows, Total: 367500 rows\n"
     ]
    },
    {
     "name": "stderr",
     "output_type": "stream",
     "text": [
      "25/08/15 18:26:14 WARN MemoryManager: Total allocation exceeds 95.00% (1,020,054,720 bytes) of heap memory\n",
      "Scaling row group sizes to 95.00% for 8 writers\n",
      "25/08/15 18:26:14 WARN MemoryManager: Total allocation exceeds 95.00% (1,020,054,720 bytes) of heap memory\n",
      "Scaling row group sizes to 95.00% for 8 writers\n",
      "25/08/15 18:26:14 WARN MemoryManager: Total allocation exceeds 95.00% (1,020,054,720 bytes) of heap memory\n",
      "Scaling row group sizes to 84.44% for 9 writers\n",
      "25/08/15 18:26:14 WARN MemoryManager: Total allocation exceeds 95.00% (1,020,054,720 bytes) of heap memory\n",
      "Scaling row group sizes to 95.00% for 8 writers\n"
     ]
    },
    {
     "name": "stdout",
     "output_type": "stream",
     "text": [
      "Processed batch: 500 rows, Total: 368000 rows\n",
      "Processed batch: 1000 rows, Total: 369000 rows\n"
     ]
    },
    {
     "name": "stderr",
     "output_type": "stream",
     "text": [
      "25/08/15 18:26:18 WARN MemoryManager: Total allocation exceeds 95.00% (1,020,054,720 bytes) of heap memory\n",
      "Scaling row group sizes to 95.00% for 8 writers\n"
     ]
    },
    {
     "name": "stdout",
     "output_type": "stream",
     "text": [
      "Processed batch: 1500 rows, Total: 370500 rows\n",
      "Processed batch: 1000 rows, Total: 371500 rows\n",
      "Processed batch: 1000 rows, Total: 372500 rows\n",
      "Processed batch: 1000 rows, Total: 373500 rows\n",
      "Processed batch: 1000 rows, Total: 374500 rows\n",
      "Processed batch: 1000 rows, Total: 375500 rows\n"
     ]
    },
    {
     "name": "stderr",
     "output_type": "stream",
     "text": [
      "25/08/15 18:26:30 WARN MemoryManager: Total allocation exceeds 95.00% (1,020,054,720 bytes) of heap memory\n",
      "Scaling row group sizes to 95.00% for 8 writers\n",
      "25/08/15 18:26:30 WARN MemoryManager: Total allocation exceeds 95.00% (1,020,054,720 bytes) of heap memory\n",
      "Scaling row group sizes to 84.44% for 9 writers\n",
      "25/08/15 18:26:30 WARN MemoryManager: Total allocation exceeds 95.00% (1,020,054,720 bytes) of heap memory\n",
      "Scaling row group sizes to 95.00% for 8 writers\n",
      "25/08/15 18:26:30 WARN MemoryManager: Total allocation exceeds 95.00% (1,020,054,720 bytes) of heap memory\n",
      "Scaling row group sizes to 95.00% for 8 writers\n"
     ]
    },
    {
     "name": "stdout",
     "output_type": "stream",
     "text": [
      "Processed batch: 1000 rows, Total: 376500 rows\n",
      "Processed batch: 1000 rows, Total: 377500 rows\n",
      "Processed batch: 1000 rows, Total: 378500 rows\n",
      "Processed batch: 1000 rows, Total: 379500 rows\n",
      "Processed batch: 1000 rows, Total: 380500 rows\n",
      "Processed batch: 1000 rows, Total: 381500 rows\n",
      "Processed batch: 1000 rows, Total: 382500 rows\n",
      "Processed batch: 1000 rows, Total: 383500 rows\n",
      "Processed batch: 1000 rows, Total: 384500 rows\n",
      "Processed batch: 1500 rows, Total: 386000 rows\n"
     ]
    },
    {
     "name": "stderr",
     "output_type": "stream",
     "text": [
      "25/08/15 18:26:50 WARN MemoryManager: Total allocation exceeds 95.00% (1,020,054,720 bytes) of heap memory\n",
      "Scaling row group sizes to 95.00% for 8 writers\n",
      "25/08/15 18:26:50 WARN MemoryManager: Total allocation exceeds 95.00% (1,020,054,720 bytes) of heap memory\n",
      "Scaling row group sizes to 95.00% for 8 writers\n",
      "25/08/15 18:26:50 WARN MemoryManager: Total allocation exceeds 95.00% (1,020,054,720 bytes) of heap memory\n",
      "Scaling row group sizes to 84.44% for 9 writers\n",
      "25/08/15 18:26:50 WARN MemoryManager: Total allocation exceeds 95.00% (1,020,054,720 bytes) of heap memory\n",
      "Scaling row group sizes to 76.00% for 10 writers\n",
      "25/08/15 18:26:50 WARN MemoryManager: Total allocation exceeds 95.00% (1,020,054,720 bytes) of heap memory\n",
      "Scaling row group sizes to 84.44% for 9 writers\n",
      "25/08/15 18:26:50 WARN MemoryManager: Total allocation exceeds 95.00% (1,020,054,720 bytes) of heap memory\n",
      "Scaling row group sizes to 95.00% for 8 writers\n"
     ]
    },
    {
     "name": "stdout",
     "output_type": "stream",
     "text": [
      "Processed batch: 1000 rows, Total: 387000 rows\n",
      "Processed batch: 1000 rows, Total: 388000 rows\n",
      "Processed batch: 1000 rows, Total: 389000 rows\n",
      "Processed batch: 1000 rows, Total: 390000 rows\n"
     ]
    },
    {
     "name": "stderr",
     "output_type": "stream",
     "text": [
      "25/08/15 18:26:58 WARN MemoryManager: Total allocation exceeds 95.00% (1,020,054,720 bytes) of heap memory\n",
      "Scaling row group sizes to 95.00% for 8 writers\n",
      "25/08/15 18:26:58 WARN MemoryManager: Total allocation exceeds 95.00% (1,020,054,720 bytes) of heap memory\n",
      "Scaling row group sizes to 95.00% for 8 writers\n"
     ]
    },
    {
     "name": "stdout",
     "output_type": "stream",
     "text": [
      "Processed batch: 1000 rows, Total: 391000 rows\n",
      "Processed batch: 1000 rows, Total: 392000 rows\n"
     ]
    },
    {
     "name": "stderr",
     "output_type": "stream",
     "text": [
      "25/08/15 18:27:02 WARN MemoryManager: Total allocation exceeds 95.00% (1,020,054,720 bytes) of heap memory\n",
      "Scaling row group sizes to 95.00% for 8 writers\n",
      "25/08/15 18:27:02 WARN MemoryManager: Total allocation exceeds 95.00% (1,020,054,720 bytes) of heap memory\n",
      "Scaling row group sizes to 95.00% for 8 writers\n",
      "25/08/15 18:27:02 WARN MemoryManager: Total allocation exceeds 95.00% (1,020,054,720 bytes) of heap memory\n",
      "Scaling row group sizes to 95.00% for 8 writers\n"
     ]
    },
    {
     "name": "stdout",
     "output_type": "stream",
     "text": [
      "Processed batch: 1000 rows, Total: 393000 rows\n",
      "Processed batch: 1000 rows, Total: 394000 rows\n",
      "Processed batch: 1000 rows, Total: 395000 rows\n",
      "Processed batch: 1000 rows, Total: 396000 rows\n",
      "Processed batch: 1000 rows, Total: 397000 rows\n",
      "Processed batch: 1000 rows, Total: 398000 rows\n",
      "Processed batch: 1000 rows, Total: 399000 rows\n",
      "Processed batch: 1000 rows, Total: 400000 rows\n",
      "Processed batch: 500 rows, Total: 400500 rows\n",
      "Processed batch: 2000 rows, Total: 402500 rows\n",
      "Processed batch: 500 rows, Total: 403000 rows\n",
      "Processed batch: 1000 rows, Total: 404000 rows\n",
      "Processed batch: 1000 rows, Total: 405000 rows\n"
     ]
    },
    {
     "name": "stderr",
     "output_type": "stream",
     "text": [
      "25/08/15 18:27:28 WARN MemoryManager: Total allocation exceeds 95.00% (1,020,054,720 bytes) of heap memory\n",
      "Scaling row group sizes to 95.00% for 8 writers\n"
     ]
    },
    {
     "name": "stdout",
     "output_type": "stream",
     "text": [
      "Processed batch: 1000 rows, Total: 406000 rows\n",
      "Processed batch: 1000 rows, Total: 407000 rows\n",
      "Processed batch: 1000 rows, Total: 408000 rows\n",
      "Processed batch: 1000 rows, Total: 409000 rows\n",
      "Processed batch: 1000 rows, Total: 410000 rows\n",
      "Processed batch: 1000 rows, Total: 411000 rows\n"
     ]
    },
    {
     "name": "stderr",
     "output_type": "stream",
     "text": [
      "25/08/15 18:27:40 WARN MemoryManager: Total allocation exceeds 95.00% (1,020,054,720 bytes) of heap memory\n",
      "Scaling row group sizes to 95.00% for 8 writers\n"
     ]
    },
    {
     "name": "stdout",
     "output_type": "stream",
     "text": [
      "Processed batch: 1000 rows, Total: 412000 rows\n",
      "Processed batch: 1000 rows, Total: 413000 rows\n",
      "Processed batch: 1000 rows, Total: 414000 rows\n",
      "Processed batch: 1000 rows, Total: 415000 rows\n",
      "Processed batch: 1000 rows, Total: 416000 rows\n",
      "Processed batch: 1500 rows, Total: 417500 rows\n"
     ]
    },
    {
     "name": "stderr",
     "output_type": "stream",
     "text": [
      "25/08/15 18:27:52 WARN MemoryManager: Total allocation exceeds 95.00% (1,020,054,720 bytes) of heap memory\n",
      "Scaling row group sizes to 95.00% for 8 writers\n",
      "25/08/15 18:27:52 WARN MemoryManager: Total allocation exceeds 95.00% (1,020,054,720 bytes) of heap memory\n",
      "Scaling row group sizes to 95.00% for 8 writers\n"
     ]
    },
    {
     "name": "stdout",
     "output_type": "stream",
     "text": [
      "Processed batch: 1000 rows, Total: 418500 rows\n",
      "Processed batch: 1000 rows, Total: 419500 rows\n",
      "Processed batch: 1000 rows, Total: 420500 rows\n",
      "Processed batch: 1000 rows, Total: 421500 rows\n",
      "Processed batch: 1000 rows, Total: 422500 rows\n",
      "Processed batch: 1000 rows, Total: 423500 rows\n",
      "Processed batch: 1000 rows, Total: 424500 rows\n",
      "Processed batch: 1000 rows, Total: 425500 rows\n",
      "Processed batch: 1000 rows, Total: 426500 rows\n",
      "Processed batch: 1000 rows, Total: 427500 rows\n",
      "Processed batch: 1000 rows, Total: 428500 rows\n",
      "Processed batch: 1000 rows, Total: 429500 rows\n",
      "Processed batch: 1000 rows, Total: 430500 rows\n",
      "Processed batch: 1000 rows, Total: 431500 rows\n",
      "Processed batch: 500 rows, Total: 432000 rows\n",
      "Processed batch: 2000 rows, Total: 434000 rows\n"
     ]
    },
    {
     "name": "stderr",
     "output_type": "stream",
     "text": [
      "25/08/15 18:28:24 WARN MemoryManager: Total allocation exceeds 95.00% (1,020,054,720 bytes) of heap memory\n",
      "Scaling row group sizes to 95.00% for 8 writers\n",
      "25/08/15 18:28:24 WARN MemoryManager: Total allocation exceeds 95.00% (1,020,054,720 bytes) of heap memory\n",
      "Scaling row group sizes to 84.44% for 9 writers\n",
      "25/08/15 18:28:24 WARN MemoryManager: Total allocation exceeds 95.00% (1,020,054,720 bytes) of heap memory\n",
      "Scaling row group sizes to 76.00% for 10 writers\n",
      "25/08/15 18:28:24 WARN MemoryManager: Total allocation exceeds 95.00% (1,020,054,720 bytes) of heap memory\n",
      "Scaling row group sizes to 69.09% for 11 writers\n",
      "25/08/15 18:28:24 WARN MemoryManager: Total allocation exceeds 95.00% (1,020,054,720 bytes) of heap memory\n",
      "Scaling row group sizes to 63.33% for 12 writers\n",
      "25/08/15 18:28:24 WARN MemoryManager: Total allocation exceeds 95.00% (1,020,054,720 bytes) of heap memory\n",
      "Scaling row group sizes to 58.46% for 13 writers\n",
      "25/08/15 18:28:24 WARN MemoryManager: Total allocation exceeds 95.00% (1,020,054,720 bytes) of heap memory\n",
      "Scaling row group sizes to 63.33% for 12 writers\n",
      "25/08/15 18:28:24 WARN MemoryManager: Total allocation exceeds 95.00% (1,020,054,720 bytes) of heap memory\n",
      "Scaling row group sizes to 69.09% for 11 writers\n",
      "25/08/15 18:28:24 WARN MemoryManager: Total allocation exceeds 95.00% (1,020,054,720 bytes) of heap memory\n",
      "Scaling row group sizes to 76.00% for 10 writers\n",
      "25/08/15 18:28:24 WARN MemoryManager: Total allocation exceeds 95.00% (1,020,054,720 bytes) of heap memory\n",
      "Scaling row group sizes to 84.44% for 9 writers\n",
      "25/08/15 18:28:24 WARN MemoryManager: Total allocation exceeds 95.00% (1,020,054,720 bytes) of heap memory\n",
      "Scaling row group sizes to 95.00% for 8 writers\n"
     ]
    },
    {
     "name": "stdout",
     "output_type": "stream",
     "text": [
      "Processed batch: 500 rows, Total: 434500 rows\n",
      "Processed batch: 1000 rows, Total: 435500 rows\n",
      "Processed batch: 1000 rows, Total: 436500 rows\n",
      "Processed batch: 1000 rows, Total: 437500 rows\n"
     ]
    },
    {
     "name": "stderr",
     "output_type": "stream",
     "text": [
      "25/08/15 18:28:32 WARN MemoryManager: Total allocation exceeds 95.00% (1,020,054,720 bytes) of heap memory\n",
      "Scaling row group sizes to 95.00% for 8 writers\n",
      "25/08/15 18:28:32 WARN MemoryManager: Total allocation exceeds 95.00% (1,020,054,720 bytes) of heap memory\n",
      "Scaling row group sizes to 84.44% for 9 writers\n",
      "25/08/15 18:28:32 WARN MemoryManager: Total allocation exceeds 95.00% (1,020,054,720 bytes) of heap memory\n",
      "Scaling row group sizes to 76.00% for 10 writers\n",
      "25/08/15 18:28:32 WARN MemoryManager: Total allocation exceeds 95.00% (1,020,054,720 bytes) of heap memory\n",
      "Scaling row group sizes to 84.44% for 9 writers\n",
      "25/08/15 18:28:32 WARN MemoryManager: Total allocation exceeds 95.00% (1,020,054,720 bytes) of heap memory\n",
      "Scaling row group sizes to 95.00% for 8 writers\n"
     ]
    },
    {
     "name": "stdout",
     "output_type": "stream",
     "text": [
      "Processed batch: 1000 rows, Total: 438500 rows\n",
      "Processed batch: 1000 rows, Total: 439500 rows\n",
      "Processed batch: 1000 rows, Total: 440500 rows\n",
      "Processed batch: 1000 rows, Total: 441500 rows\n",
      "Processed batch: 1000 rows, Total: 442500 rows\n",
      "Processed batch: 1000 rows, Total: 443500 rows\n",
      "Processed batch: 1000 rows, Total: 444500 rows\n",
      "Processed batch: 1000 rows, Total: 445500 rows\n",
      "Processed batch: 1000 rows, Total: 446500 rows\n",
      "Processed batch: 1000 rows, Total: 447500 rows\n",
      "Processed batch: 1000 rows, Total: 448500 rows\n",
      "Processed batch: 1500 rows, Total: 450000 rows\n",
      "Processed batch: 1000 rows, Total: 451000 rows\n",
      "Processed batch: 1000 rows, Total: 452000 rows\n",
      "Processed batch: 1000 rows, Total: 453000 rows\n",
      "Processed batch: 1000 rows, Total: 454000 rows\n",
      "Processed batch: 1000 rows, Total: 455000 rows\n",
      "Processed batch: 1000 rows, Total: 456000 rows\n",
      "Processed batch: 1000 rows, Total: 457000 rows\n",
      "Processed batch: 1000 rows, Total: 458000 rows\n"
     ]
    },
    {
     "name": "stderr",
     "output_type": "stream",
     "text": [
      "25/08/15 18:29:12 WARN MemoryManager: Total allocation exceeds 95.00% (1,020,054,720 bytes) of heap memory\n",
      "Scaling row group sizes to 95.00% for 8 writers\n",
      "25/08/15 18:29:12 WARN MemoryManager: Total allocation exceeds 95.00% (1,020,054,720 bytes) of heap memory\n",
      "Scaling row group sizes to 95.00% for 8 writers\n",
      "25/08/15 18:29:12 WARN MemoryManager: Total allocation exceeds 95.00% (1,020,054,720 bytes) of heap memory\n",
      "Scaling row group sizes to 95.00% for 8 writers\n"
     ]
    },
    {
     "name": "stdout",
     "output_type": "stream",
     "text": [
      "Processed batch: 1000 rows, Total: 459000 rows\n",
      "Processed batch: 1000 rows, Total: 460000 rows\n",
      "Processed batch: 1000 rows, Total: 461000 rows\n",
      "Processed batch: 1000 rows, Total: 462000 rows\n",
      "Processed batch: 1000 rows, Total: 463000 rows\n",
      "Processed batch: 1000 rows, Total: 464000 rows\n"
     ]
    },
    {
     "name": "stderr",
     "output_type": "stream",
     "text": [
      "25/08/15 18:29:24 WARN MemoryManager: Total allocation exceeds 95.00% (1,020,054,720 bytes) of heap memory\n",
      "Scaling row group sizes to 95.00% for 8 writers\n",
      "25/08/15 18:29:24 WARN MemoryManager: Total allocation exceeds 95.00% (1,020,054,720 bytes) of heap memory\n",
      "Scaling row group sizes to 95.00% for 8 writers\n"
     ]
    },
    {
     "name": "stdout",
     "output_type": "stream",
     "text": [
      "Processed batch: 1500 rows, Total: 465500 rows\n",
      "Processed batch: 1000 rows, Total: 466500 rows\n"
     ]
    },
    {
     "name": "stderr",
     "output_type": "stream",
     "text": [
      "25/08/15 18:29:28 WARN MemoryManager: Total allocation exceeds 95.00% (1,020,054,720 bytes) of heap memory\n",
      "Scaling row group sizes to 95.00% for 8 writers\n"
     ]
    },
    {
     "name": "stdout",
     "output_type": "stream",
     "text": [
      "Processed batch: 1000 rows, Total: 467500 rows\n",
      "Processed batch: 1000 rows, Total: 468500 rows\n",
      "Processed batch: 500 rows, Total: 469000 rows\n",
      "Processed batch: 1000 rows, Total: 470000 rows\n"
     ]
    },
    {
     "name": "stderr",
     "output_type": "stream",
     "text": [
      "25/08/15 18:29:36 WARN MemoryManager: Total allocation exceeds 95.00% (1,020,054,720 bytes) of heap memory\n",
      "Scaling row group sizes to 95.00% for 8 writers\n",
      "25/08/15 18:29:36 WARN MemoryManager: Total allocation exceeds 95.00% (1,020,054,720 bytes) of heap memory\n",
      "Scaling row group sizes to 84.44% for 9 writers\n",
      "25/08/15 18:29:36 WARN MemoryManager: Total allocation exceeds 95.00% (1,020,054,720 bytes) of heap memory\n",
      "Scaling row group sizes to 95.00% for 8 writers\n",
      "25/08/15 18:29:36 WARN MemoryManager: Total allocation exceeds 95.00% (1,020,054,720 bytes) of heap memory\n",
      "Scaling row group sizes to 84.44% for 9 writers\n",
      "25/08/15 18:29:36 WARN MemoryManager: Total allocation exceeds 95.00% (1,020,054,720 bytes) of heap memory\n",
      "Scaling row group sizes to 76.00% for 10 writers\n",
      "25/08/15 18:29:36 WARN MemoryManager: Total allocation exceeds 95.00% (1,020,054,720 bytes) of heap memory\n",
      "Scaling row group sizes to 84.44% for 9 writers\n",
      "25/08/15 18:29:36 WARN MemoryManager: Total allocation exceeds 95.00% (1,020,054,720 bytes) of heap memory\n",
      "Scaling row group sizes to 95.00% for 8 writers\n"
     ]
    },
    {
     "name": "stdout",
     "output_type": "stream",
     "text": [
      "Processed batch: 1000 rows, Total: 471000 rows\n",
      "Processed batch: 1000 rows, Total: 472000 rows\n",
      "Processed batch: 1000 rows, Total: 473000 rows\n",
      "Processed batch: 1000 rows, Total: 474000 rows\n",
      "Processed batch: 1000 rows, Total: 475000 rows\n",
      "Processed batch: 1000 rows, Total: 476000 rows\n"
     ]
    },
    {
     "name": "stderr",
     "output_type": "stream",
     "text": [
      "25/08/15 18:29:48 WARN MemoryManager: Total allocation exceeds 95.00% (1,020,054,720 bytes) of heap memory\n",
      "Scaling row group sizes to 95.00% for 8 writers\n"
     ]
    },
    {
     "name": "stdout",
     "output_type": "stream",
     "text": [
      "Processed batch: 1000 rows, Total: 477000 rows\n",
      "Processed batch: 1000 rows, Total: 478000 rows\n"
     ]
    },
    {
     "name": "stderr",
     "output_type": "stream",
     "text": [
      "25/08/15 18:29:52 WARN MemoryManager: Total allocation exceeds 95.00% (1,020,054,720 bytes) of heap memory\n",
      "Scaling row group sizes to 95.00% for 8 writers\n"
     ]
    },
    {
     "name": "stdout",
     "output_type": "stream",
     "text": [
      "Processed batch: 1000 rows, Total: 479000 rows\n",
      "Processed batch: 1000 rows, Total: 480000 rows\n",
      "Processed batch: 1500 rows, Total: 481500 rows\n",
      "Processed batch: 1000 rows, Total: 482500 rows\n",
      "Processed batch: 1000 rows, Total: 483500 rows\n",
      "Processed batch: 1000 rows, Total: 484500 rows\n",
      "Processed batch: 1000 rows, Total: 485500 rows\n",
      "Processed batch: 1000 rows, Total: 486500 rows\n",
      "Processed batch: 1000 rows, Total: 487500 rows\n",
      "Processed batch: 1000 rows, Total: 488500 rows\n",
      "Processed batch: 1000 rows, Total: 489500 rows\n",
      "Processed batch: 1000 rows, Total: 490500 rows\n",
      "Processed batch: 1000 rows, Total: 491500 rows\n",
      "Processed batch: 1000 rows, Total: 492500 rows\n",
      "Processed batch: 1000 rows, Total: 493500 rows\n"
     ]
    },
    {
     "name": "stderr",
     "output_type": "stream",
     "text": [
      "25/08/15 18:30:22 WARN MemoryManager: Total allocation exceeds 95.00% (1,020,054,720 bytes) of heap memory\n",
      "Scaling row group sizes to 95.00% for 8 writers\n",
      "25/08/15 18:30:22 WARN MemoryManager: Total allocation exceeds 95.00% (1,020,054,720 bytes) of heap memory\n",
      "Scaling row group sizes to 84.44% for 9 writers\n",
      "25/08/15 18:30:22 WARN MemoryManager: Total allocation exceeds 95.00% (1,020,054,720 bytes) of heap memory\n",
      "Scaling row group sizes to 76.00% for 10 writers\n",
      "25/08/15 18:30:22 WARN MemoryManager: Total allocation exceeds 95.00% (1,020,054,720 bytes) of heap memory\n",
      "Scaling row group sizes to 69.09% for 11 writers\n",
      "25/08/15 18:30:22 WARN MemoryManager: Total allocation exceeds 95.00% (1,020,054,720 bytes) of heap memory\n",
      "Scaling row group sizes to 76.00% for 10 writers\n",
      "25/08/15 18:30:22 WARN MemoryManager: Total allocation exceeds 95.00% (1,020,054,720 bytes) of heap memory\n",
      "Scaling row group sizes to 69.09% for 11 writers\n",
      "25/08/15 18:30:22 WARN MemoryManager: Total allocation exceeds 95.00% (1,020,054,720 bytes) of heap memory\n",
      "Scaling row group sizes to 76.00% for 10 writers\n",
      "25/08/15 18:30:22 WARN MemoryManager: Total allocation exceeds 95.00% (1,020,054,720 bytes) of heap memory\n",
      "Scaling row group sizes to 84.44% for 9 writers\n",
      "25/08/15 18:30:22 WARN MemoryManager: Total allocation exceeds 95.00% (1,020,054,720 bytes) of heap memory\n",
      "Scaling row group sizes to 95.00% for 8 writers\n"
     ]
    },
    {
     "name": "stdout",
     "output_type": "stream",
     "text": [
      "Processed batch: 1000 rows, Total: 494500 rows\n",
      "Processed batch: 1000 rows, Total: 495500 rows\n",
      "Processed batch: 1500 rows, Total: 497000 rows\n",
      "Processed batch: 1000 rows, Total: 498000 rows\n",
      "Processed batch: 1000 rows, Total: 499000 rows\n",
      "Processed batch: 1000 rows, Total: 500000 rows\n",
      "Processed batch: 1000 rows, Total: 501000 rows\n",
      "Processed batch: 1000 rows, Total: 502000 rows\n",
      "Processed batch: 1000 rows, Total: 503000 rows\n"
     ]
    },
    {
     "name": "stderr",
     "output_type": "stream",
     "text": [
      "25/08/15 18:30:40 WARN MemoryManager: Total allocation exceeds 95.00% (1,020,054,720 bytes) of heap memory\n",
      "Scaling row group sizes to 95.00% for 8 writers\n",
      "25/08/15 18:30:40 WARN MemoryManager: Total allocation exceeds 95.00% (1,020,054,720 bytes) of heap memory\n",
      "Scaling row group sizes to 84.44% for 9 writers\n",
      "25/08/15 18:30:40 WARN MemoryManager: Total allocation exceeds 95.00% (1,020,054,720 bytes) of heap memory\n",
      "Scaling row group sizes to 76.00% for 10 writers\n",
      "25/08/15 18:30:40 WARN MemoryManager: Total allocation exceeds 95.00% (1,020,054,720 bytes) of heap memory\n",
      "Scaling row group sizes to 84.44% for 9 writers\n",
      "25/08/15 18:30:40 WARN MemoryManager: Total allocation exceeds 95.00% (1,020,054,720 bytes) of heap memory\n",
      "Scaling row group sizes to 95.00% for 8 writers\n"
     ]
    },
    {
     "name": "stdout",
     "output_type": "stream",
     "text": [
      "Processed batch: 1000 rows, Total: 504000 rows\n",
      "Processed batch: 1000 rows, Total: 505000 rows\n",
      "Processed batch: 1000 rows, Total: 506000 rows\n"
     ]
    },
    {
     "name": "stderr",
     "output_type": "stream",
     "text": [
      "25/08/15 18:30:46 WARN MemoryManager: Total allocation exceeds 95.00% (1,020,054,720 bytes) of heap memory\n",
      "Scaling row group sizes to 95.00% for 8 writers\n"
     ]
    },
    {
     "name": "stdout",
     "output_type": "stream",
     "text": [
      "Processed batch: 1000 rows, Total: 507000 rows\n"
     ]
    },
    {
     "name": "stderr",
     "output_type": "stream",
     "text": [
      "25/08/15 18:30:48 WARN MemoryManager: Total allocation exceeds 95.00% (1,020,054,720 bytes) of heap memory\n",
      "Scaling row group sizes to 95.00% for 8 writers\n"
     ]
    },
    {
     "name": "stdout",
     "output_type": "stream",
     "text": [
      "Processed batch: 1000 rows, Total: 508000 rows\n",
      "Processed batch: 1000 rows, Total: 509000 rows\n"
     ]
    },
    {
     "name": "stderr",
     "output_type": "stream",
     "text": [
      "25/08/15 18:30:52 WARN MemoryManager: Total allocation exceeds 95.00% (1,020,054,720 bytes) of heap memory\n",
      "Scaling row group sizes to 95.00% for 8 writers\n",
      "25/08/15 18:30:52 WARN MemoryManager: Total allocation exceeds 95.00% (1,020,054,720 bytes) of heap memory\n",
      "Scaling row group sizes to 95.00% for 8 writers\n",
      "25/08/15 18:30:52 WARN MemoryManager: Total allocation exceeds 95.00% (1,020,054,720 bytes) of heap memory\n",
      "Scaling row group sizes to 95.00% for 8 writers\n"
     ]
    },
    {
     "name": "stdout",
     "output_type": "stream",
     "text": [
      "Processed batch: 1000 rows, Total: 510000 rows\n",
      "Processed batch: 500 rows, Total: 510500 rows\n",
      "Processed batch: 1000 rows, Total: 511500 rows\n",
      "Processed batch: 1500 rows, Total: 513000 rows\n"
     ]
    },
    {
     "name": "stderr",
     "output_type": "stream",
     "text": [
      "25/08/15 18:31:00 WARN MemoryManager: Total allocation exceeds 95.00% (1,020,054,720 bytes) of heap memory\n",
      "Scaling row group sizes to 95.00% for 8 writers\n"
     ]
    },
    {
     "name": "stdout",
     "output_type": "stream",
     "text": [
      "Processed batch: 1000 rows, Total: 514000 rows\n",
      "Processed batch: 1000 rows, Total: 515000 rows\n",
      "Processed batch: 1000 rows, Total: 516000 rows\n",
      "Processed batch: 1000 rows, Total: 517000 rows\n",
      "Processed batch: 1000 rows, Total: 518000 rows\n",
      "Processed batch: 1000 rows, Total: 519000 rows\n"
     ]
    },
    {
     "name": "stderr",
     "output_type": "stream",
     "text": [
      "25/08/15 18:31:12 WARN MemoryManager: Total allocation exceeds 95.00% (1,020,054,720 bytes) of heap memory\n",
      "Scaling row group sizes to 95.00% for 8 writers\n"
     ]
    },
    {
     "name": "stdout",
     "output_type": "stream",
     "text": [
      "Processed batch: 1000 rows, Total: 520000 rows\n"
     ]
    },
    {
     "name": "stderr",
     "output_type": "stream",
     "text": [
      "25/08/15 18:31:14 WARN MemoryManager: Total allocation exceeds 95.00% (1,020,054,720 bytes) of heap memory\n",
      "Scaling row group sizes to 95.00% for 8 writers\n"
     ]
    },
    {
     "name": "stdout",
     "output_type": "stream",
     "text": [
      "Processed batch: 1000 rows, Total: 521000 rows\n"
     ]
    },
    {
     "name": "stderr",
     "output_type": "stream",
     "text": [
      "25/08/15 18:31:16 WARN MemoryManager: Total allocation exceeds 95.00% (1,020,054,720 bytes) of heap memory\n",
      "Scaling row group sizes to 95.00% for 8 writers\n",
      "25/08/15 18:31:16 WARN MemoryManager: Total allocation exceeds 95.00% (1,020,054,720 bytes) of heap memory\n",
      "Scaling row group sizes to 84.44% for 9 writers\n",
      "25/08/15 18:31:16 WARN MemoryManager: Total allocation exceeds 95.00% (1,020,054,720 bytes) of heap memory\n",
      "Scaling row group sizes to 95.00% for 8 writers\n",
      "25/08/15 18:31:16 WARN MemoryManager: Total allocation exceeds 95.00% (1,020,054,720 bytes) of heap memory\n",
      "Scaling row group sizes to 84.44% for 9 writers\n",
      "25/08/15 18:31:16 WARN MemoryManager: Total allocation exceeds 95.00% (1,020,054,720 bytes) of heap memory\n",
      "Scaling row group sizes to 95.00% for 8 writers\n",
      "25/08/15 18:31:16 WARN MemoryManager: Total allocation exceeds 95.00% (1,020,054,720 bytes) of heap memory\n",
      "Scaling row group sizes to 95.00% for 8 writers\n",
      "25/08/15 18:31:16 WARN MemoryManager: Total allocation exceeds 95.00% (1,020,054,720 bytes) of heap memory\n",
      "Scaling row group sizes to 95.00% for 8 writers\n"
     ]
    },
    {
     "name": "stdout",
     "output_type": "stream",
     "text": [
      "Processed batch: 1000 rows, Total: 522000 rows\n",
      "Processed batch: 1000 rows, Total: 523000 rows\n",
      "Processed batch: 1000 rows, Total: 524000 rows\n",
      "Processed batch: 1000 rows, Total: 525000 rows\n",
      "Processed batch: 1000 rows, Total: 526000 rows\n",
      "Processed batch: 1000 rows, Total: 527000 rows\n",
      "Processed batch: 1000 rows, Total: 528000 rows\n",
      "Processed batch: 1500 rows, Total: 529500 rows\n",
      "Processed batch: 1000 rows, Total: 530500 rows\n",
      "Processed batch: 1000 rows, Total: 531500 rows\n",
      "Processed batch: 1000 rows, Total: 532500 rows\n",
      "Processed batch: 1000 rows, Total: 533500 rows\n",
      "Processed batch: 1000 rows, Total: 534500 rows\n",
      "Processed batch: 1000 rows, Total: 535500 rows\n",
      "Processed batch: 1000 rows, Total: 536500 rows\n",
      "Processed batch: 1000 rows, Total: 537500 rows\n",
      "Processed batch: 1000 rows, Total: 538500 rows\n",
      "Processed batch: 1000 rows, Total: 539500 rows\n"
     ]
    },
    {
     "name": "stderr",
     "output_type": "stream",
     "text": [
      "25/08/15 18:31:52 WARN MemoryManager: Total allocation exceeds 95.00% (1,020,054,720 bytes) of heap memory\n",
      "Scaling row group sizes to 95.00% for 8 writers\n",
      "25/08/15 18:31:52 WARN MemoryManager: Total allocation exceeds 95.00% (1,020,054,720 bytes) of heap memory\n",
      "Scaling row group sizes to 84.44% for 9 writers\n",
      "25/08/15 18:31:52 WARN MemoryManager: Total allocation exceeds 95.00% (1,020,054,720 bytes) of heap memory\n",
      "Scaling row group sizes to 95.00% for 8 writers\n",
      "25/08/15 18:31:52 WARN MemoryManager: Total allocation exceeds 95.00% (1,020,054,720 bytes) of heap memory\n",
      "Scaling row group sizes to 84.44% for 9 writers\n",
      "25/08/15 18:31:52 WARN MemoryManager: Total allocation exceeds 95.00% (1,020,054,720 bytes) of heap memory\n",
      "Scaling row group sizes to 76.00% for 10 writers\n",
      "25/08/15 18:31:52 WARN MemoryManager: Total allocation exceeds 95.00% (1,020,054,720 bytes) of heap memory\n",
      "Scaling row group sizes to 84.44% for 9 writers\n",
      "25/08/15 18:31:52 WARN MemoryManager: Total allocation exceeds 95.00% (1,020,054,720 bytes) of heap memory\n",
      "Scaling row group sizes to 95.00% for 8 writers\n",
      "25/08/15 18:31:52 WARN MemoryManager: Total allocation exceeds 95.00% (1,020,054,720 bytes) of heap memory\n",
      "Scaling row group sizes to 84.44% for 9 writers\n",
      "25/08/15 18:31:52 WARN MemoryManager: Total allocation exceeds 95.00% (1,020,054,720 bytes) of heap memory\n",
      "Scaling row group sizes to 95.00% for 8 writers\n"
     ]
    },
    {
     "name": "stdout",
     "output_type": "stream",
     "text": [
      "Processed batch: 1000 rows, Total: 540500 rows\n"
     ]
    },
    {
     "name": "stderr",
     "output_type": "stream",
     "text": [
      "25/08/15 18:31:54 WARN MemoryManager: Total allocation exceeds 95.00% (1,020,054,720 bytes) of heap memory\n",
      "Scaling row group sizes to 95.00% for 8 writers\n"
     ]
    },
    {
     "name": "stdout",
     "output_type": "stream",
     "text": [
      "Processed batch: 1000 rows, Total: 541500 rows\n"
     ]
    },
    {
     "name": "stderr",
     "output_type": "stream",
     "text": [
      "25/08/15 18:31:56 WARN MemoryManager: Total allocation exceeds 95.00% (1,020,054,720 bytes) of heap memory\n",
      "Scaling row group sizes to 95.00% for 8 writers\n",
      "25/08/15 18:31:56 WARN MemoryManager: Total allocation exceeds 95.00% (1,020,054,720 bytes) of heap memory\n",
      "Scaling row group sizes to 84.44% for 9 writers\n",
      "25/08/15 18:31:56 WARN MemoryManager: Total allocation exceeds 95.00% (1,020,054,720 bytes) of heap memory\n",
      "Scaling row group sizes to 95.00% for 8 writers\n"
     ]
    },
    {
     "name": "stdout",
     "output_type": "stream",
     "text": [
      "Processed batch: 1000 rows, Total: 542500 rows\n",
      "Processed batch: 1000 rows, Total: 543500 rows\n"
     ]
    },
    {
     "name": "stderr",
     "output_type": "stream",
     "text": [
      "25/08/15 18:32:00 WARN MemoryManager: Total allocation exceeds 95.00% (1,020,054,720 bytes) of heap memory\n",
      "Scaling row group sizes to 95.00% for 8 writers\n"
     ]
    },
    {
     "name": "stdout",
     "output_type": "stream",
     "text": [
      "Processed batch: 1500 rows, Total: 545000 rows\n",
      "Processed batch: 1000 rows, Total: 546000 rows\n",
      "Processed batch: 1000 rows, Total: 547000 rows\n",
      "Processed batch: 1000 rows, Total: 548000 rows\n",
      "Processed batch: 1000 rows, Total: 549000 rows\n",
      "Processed batch: 500 rows, Total: 549500 rows\n",
      "Processed batch: 1000 rows, Total: 550500 rows\n",
      "Processed batch: 1000 rows, Total: 551500 rows\n",
      "Processed batch: 1000 rows, Total: 552500 rows\n",
      "Processed batch: 1000 rows, Total: 553500 rows\n",
      "Processed batch: 1000 rows, Total: 554500 rows\n"
     ]
    },
    {
     "name": "stderr",
     "output_type": "stream",
     "text": [
      "25/08/15 18:32:22 WARN MemoryManager: Total allocation exceeds 95.00% (1,020,054,720 bytes) of heap memory\n",
      "Scaling row group sizes to 95.00% for 8 writers\n"
     ]
    },
    {
     "name": "stdout",
     "output_type": "stream",
     "text": [
      "Processed batch: 1000 rows, Total: 555500 rows\n",
      "Processed batch: 1000 rows, Total: 556500 rows\n",
      "Processed batch: 1000 rows, Total: 557500 rows\n",
      "Processed batch: 1000 rows, Total: 558500 rows\n",
      "Processed batch: 1000 rows, Total: 559500 rows\n",
      "Processed batch: 1500 rows, Total: 561000 rows\n"
     ]
    },
    {
     "name": "stderr",
     "output_type": "stream",
     "text": [
      "25/08/15 18:32:34 WARN MemoryManager: Total allocation exceeds 95.00% (1,020,054,720 bytes) of heap memory\n",
      "Scaling row group sizes to 95.00% for 8 writers\n"
     ]
    },
    {
     "name": "stdout",
     "output_type": "stream",
     "text": [
      "Processed batch: 1000 rows, Total: 562000 rows\n",
      "Processed batch: 1000 rows, Total: 563000 rows\n"
     ]
    },
    {
     "name": "stderr",
     "output_type": "stream",
     "text": [
      "25/08/15 18:32:38 WARN MemoryManager: Total allocation exceeds 95.00% (1,020,054,720 bytes) of heap memory\n",
      "Scaling row group sizes to 95.00% for 8 writers\n",
      "25/08/15 18:32:38 WARN MemoryManager: Total allocation exceeds 95.00% (1,020,054,720 bytes) of heap memory\n",
      "Scaling row group sizes to 84.44% for 9 writers\n",
      "25/08/15 18:32:38 WARN MemoryManager: Total allocation exceeds 95.00% (1,020,054,720 bytes) of heap memory\n",
      "Scaling row group sizes to 95.00% for 8 writers\n",
      "25/08/15 18:32:38 WARN MemoryManager: Total allocation exceeds 95.00% (1,020,054,720 bytes) of heap memory\n",
      "Scaling row group sizes to 95.00% for 8 writers\n",
      "25/08/15 18:32:38 WARN MemoryManager: Total allocation exceeds 95.00% (1,020,054,720 bytes) of heap memory\n",
      "Scaling row group sizes to 84.44% for 9 writers\n",
      "25/08/15 18:32:38 WARN MemoryManager: Total allocation exceeds 95.00% (1,020,054,720 bytes) of heap memory\n",
      "Scaling row group sizes to 95.00% for 8 writers\n"
     ]
    },
    {
     "name": "stdout",
     "output_type": "stream",
     "text": [
      "Processed batch: 1000 rows, Total: 564000 rows\n",
      "Processed batch: 1000 rows, Total: 565000 rows\n",
      "Processed batch: 1000 rows, Total: 566000 rows\n",
      "Processed batch: 1000 rows, Total: 567000 rows\n",
      "Processed batch: 1000 rows, Total: 568000 rows\n",
      "Processed batch: 1000 rows, Total: 569000 rows\n",
      "Processed batch: 1000 rows, Total: 570000 rows\n",
      "Processed batch: 1000 rows, Total: 571000 rows\n",
      "Processed batch: 1000 rows, Total: 572000 rows\n",
      "Processed batch: 1000 rows, Total: 573000 rows\n",
      "Processed batch: 1000 rows, Total: 574000 rows\n"
     ]
    },
    {
     "name": "stderr",
     "output_type": "stream",
     "text": [
      "25/08/15 18:33:00 WARN MemoryManager: Total allocation exceeds 95.00% (1,020,054,720 bytes) of heap memory\n",
      "Scaling row group sizes to 95.00% for 8 writers\n"
     ]
    },
    {
     "name": "stdout",
     "output_type": "stream",
     "text": [
      "Processed batch: 1000 rows, Total: 575000 rows\n",
      "Processed batch: 1500 rows, Total: 576500 rows\n",
      "Processed batch: 1000 rows, Total: 577500 rows\n",
      "Processed batch: 1000 rows, Total: 578500 rows\n",
      "Processed batch: 1000 rows, Total: 579500 rows\n",
      "Processed batch: 1000 rows, Total: 580500 rows\n",
      "Processed batch: 1000 rows, Total: 581500 rows\n",
      "Processed batch: 1000 rows, Total: 582500 rows\n",
      "Processed batch: 1000 rows, Total: 583500 rows\n",
      "Processed batch: 520 rows, Total: 584020 rows\n",
      "Processed batch: 980 rows, Total: 585000 rows\n",
      "Processed batch: 1000 rows, Total: 586000 rows\n",
      "Processed batch: 1000 rows, Total: 587000 rows\n",
      "Processed batch: 1000 rows, Total: 588000 rows\n",
      "Processed batch: 1000 rows, Total: 589000 rows\n",
      "Processed batch: 1000 rows, Total: 590000 rows\n",
      "Processed batch: 1000 rows, Total: 591000 rows\n",
      "Processed batch: 1500 rows, Total: 592500 rows\n",
      "Processed batch: 1000 rows, Total: 593500 rows\n",
      "Processed batch: 1000 rows, Total: 594500 rows\n",
      "Processed batch: 1000 rows, Total: 595500 rows\n",
      "Processed batch: 1000 rows, Total: 596500 rows\n",
      "Processed batch: 1000 rows, Total: 597500 rows\n",
      "Processed batch: 1000 rows, Total: 598500 rows\n",
      "Processed batch: 1000 rows, Total: 599500 rows\n",
      "Processed batch: 1000 rows, Total: 600500 rows\n",
      "Processed batch: 1000 rows, Total: 601500 rows\n",
      "Processed batch: 1000 rows, Total: 602500 rows\n",
      "Processed batch: 1000 rows, Total: 603500 rows\n",
      "Processed batch: 1000 rows, Total: 604500 rows\n"
     ]
    },
    {
     "name": "stderr",
     "output_type": "stream",
     "text": [
      "25/08/15 18:34:00 WARN MemoryManager: Total allocation exceeds 95.00% (1,020,054,720 bytes) of heap memory\n",
      "Scaling row group sizes to 95.00% for 8 writers\n",
      "25/08/15 18:34:00 WARN MemoryManager: Total allocation exceeds 95.00% (1,020,054,720 bytes) of heap memory\n",
      "Scaling row group sizes to 95.00% for 8 writers\n"
     ]
    },
    {
     "name": "stdout",
     "output_type": "stream",
     "text": [
      "Processed batch: 1000 rows, Total: 605500 rows\n",
      "Processed batch: 1000 rows, Total: 606500 rows\n"
     ]
    },
    {
     "name": "stderr",
     "output_type": "stream",
     "text": [
      "25/08/15 18:34:04 WARN MemoryManager: Total allocation exceeds 95.00% (1,020,054,720 bytes) of heap memory\n",
      "Scaling row group sizes to 95.00% for 8 writers\n"
     ]
    },
    {
     "name": "stdout",
     "output_type": "stream",
     "text": [
      "Processed batch: 1500 rows, Total: 608000 rows\n",
      "Processed batch: 1000 rows, Total: 609000 rows\n",
      "Processed batch: 1000 rows, Total: 610000 rows\n",
      "Processed batch: 1000 rows, Total: 611000 rows\n",
      "Processed batch: 1000 rows, Total: 612000 rows\n",
      "Processed batch: 1000 rows, Total: 613000 rows\n",
      "Processed batch: 1000 rows, Total: 614000 rows\n",
      "Processed batch: 1000 rows, Total: 615000 rows\n",
      "Processed batch: 1000 rows, Total: 616000 rows\n",
      "Processed batch: 1000 rows, Total: 617000 rows\n",
      "Processed batch: 1000 rows, Total: 618000 rows\n",
      "Processed batch: 1000 rows, Total: 619000 rows\n",
      "Processed batch: 1000 rows, Total: 620000 rows\n"
     ]
    },
    {
     "name": "stderr",
     "output_type": "stream",
     "text": [
      "25/08/15 18:34:30 WARN MemoryManager: Total allocation exceeds 95.00% (1,020,054,720 bytes) of heap memory\n",
      "Scaling row group sizes to 95.00% for 8 writers\n",
      "25/08/15 18:34:30 WARN MemoryManager: Total allocation exceeds 95.00% (1,020,054,720 bytes) of heap memory\n",
      "Scaling row group sizes to 84.44% for 9 writers\n",
      "25/08/15 18:34:30 WARN MemoryManager: Total allocation exceeds 95.00% (1,020,054,720 bytes) of heap memory\n",
      "Scaling row group sizes to 76.00% for 10 writers\n",
      "25/08/15 18:34:30 WARN MemoryManager: Total allocation exceeds 95.00% (1,020,054,720 bytes) of heap memory\n",
      "Scaling row group sizes to 69.09% for 11 writers\n",
      "25/08/15 18:34:30 WARN MemoryManager: Total allocation exceeds 95.00% (1,020,054,720 bytes) of heap memory\n",
      "Scaling row group sizes to 76.00% for 10 writers\n",
      "25/08/15 18:34:30 WARN MemoryManager: Total allocation exceeds 95.00% (1,020,054,720 bytes) of heap memory\n",
      "Scaling row group sizes to 69.09% for 11 writers\n",
      "25/08/15 18:34:30 WARN MemoryManager: Total allocation exceeds 95.00% (1,020,054,720 bytes) of heap memory\n",
      "Scaling row group sizes to 63.33% for 12 writers\n",
      "25/08/15 18:34:30 WARN MemoryManager: Total allocation exceeds 95.00% (1,020,054,720 bytes) of heap memory\n",
      "Scaling row group sizes to 69.09% for 11 writers\n",
      "25/08/15 18:34:30 WARN MemoryManager: Total allocation exceeds 95.00% (1,020,054,720 bytes) of heap memory\n",
      "Scaling row group sizes to 76.00% for 10 writers\n",
      "25/08/15 18:34:30 WARN MemoryManager: Total allocation exceeds 95.00% (1,020,054,720 bytes) of heap memory\n",
      "Scaling row group sizes to 84.44% for 9 writers\n",
      "25/08/15 18:34:30 WARN MemoryManager: Total allocation exceeds 95.00% (1,020,054,720 bytes) of heap memory\n",
      "Scaling row group sizes to 95.00% for 8 writers\n"
     ]
    },
    {
     "name": "stdout",
     "output_type": "stream",
     "text": [
      "Processed batch: 1000 rows, Total: 621000 rows\n",
      "Processed batch: 1000 rows, Total: 622000 rows\n",
      "Processed batch: 1000 rows, Total: 623000 rows\n",
      "Processed batch: 1500 rows, Total: 624500 rows\n"
     ]
    },
    {
     "name": "stderr",
     "output_type": "stream",
     "text": [
      "25/08/15 18:34:38 WARN MemoryManager: Total allocation exceeds 95.00% (1,020,054,720 bytes) of heap memory\n",
      "Scaling row group sizes to 95.00% for 8 writers\n",
      "25/08/15 18:34:38 WARN MemoryManager: Total allocation exceeds 95.00% (1,020,054,720 bytes) of heap memory\n",
      "Scaling row group sizes to 95.00% for 8 writers\n",
      "25/08/15 18:34:38 WARN MemoryManager: Total allocation exceeds 95.00% (1,020,054,720 bytes) of heap memory\n",
      "Scaling row group sizes to 95.00% for 8 writers\n"
     ]
    },
    {
     "name": "stdout",
     "output_type": "stream",
     "text": [
      "Processed batch: 1000 rows, Total: 625500 rows\n",
      "Processed batch: 1000 rows, Total: 626500 rows\n",
      "Processed batch: 1000 rows, Total: 627500 rows\n",
      "Processed batch: 1000 rows, Total: 628500 rows\n",
      "Processed batch: 1000 rows, Total: 629500 rows\n",
      "Processed batch: 1000 rows, Total: 630500 rows\n",
      "Processed batch: 657 rows, Total: 631157 rows\n",
      "Processed batch: 843 rows, Total: 632000 rows\n",
      "Processed batch: 1000 rows, Total: 633000 rows\n",
      "Processed batch: 1000 rows, Total: 634000 rows\n",
      "Processed batch: 1000 rows, Total: 635000 rows\n",
      "Processed batch: 1000 rows, Total: 636000 rows\n"
     ]
    },
    {
     "name": "stderr",
     "output_type": "stream",
     "text": [
      "25/08/15 18:35:02 WARN MemoryManager: Total allocation exceeds 95.00% (1,020,054,720 bytes) of heap memory\n",
      "Scaling row group sizes to 95.00% for 8 writers\n",
      "25/08/15 18:35:02 WARN MemoryManager: Total allocation exceeds 95.00% (1,020,054,720 bytes) of heap memory\n",
      "Scaling row group sizes to 95.00% for 8 writers\n",
      "25/08/15 18:35:02 WARN MemoryManager: Total allocation exceeds 95.00% (1,020,054,720 bytes) of heap memory\n",
      "Scaling row group sizes to 84.44% for 9 writers\n",
      "25/08/15 18:35:02 WARN MemoryManager: Total allocation exceeds 95.00% (1,020,054,720 bytes) of heap memory\n",
      "Scaling row group sizes to 76.00% for 10 writers\n",
      "25/08/15 18:35:02 WARN MemoryManager: Total allocation exceeds 95.00% (1,020,054,720 bytes) of heap memory\n",
      "Scaling row group sizes to 84.44% for 9 writers\n",
      "25/08/15 18:35:02 WARN MemoryManager: Total allocation exceeds 95.00% (1,020,054,720 bytes) of heap memory\n",
      "Scaling row group sizes to 95.00% for 8 writers\n",
      "25/08/15 18:35:02 WARN MemoryManager: Total allocation exceeds 95.00% (1,020,054,720 bytes) of heap memory\n",
      "Scaling row group sizes to 84.44% for 9 writers\n",
      "25/08/15 18:35:02 WARN MemoryManager: Total allocation exceeds 95.00% (1,020,054,720 bytes) of heap memory\n",
      "Scaling row group sizes to 95.00% for 8 writers\n",
      "25/08/15 18:35:02 WARN MemoryManager: Total allocation exceeds 95.00% (1,020,054,720 bytes) of heap memory\n",
      "Scaling row group sizes to 95.00% for 8 writers\n"
     ]
    },
    {
     "name": "stdout",
     "output_type": "stream",
     "text": [
      "Processed batch: 1000 rows, Total: 637000 rows\n",
      "Processed batch: 1000 rows, Total: 638000 rows\n",
      "Processed batch: 1000 rows, Total: 639000 rows\n",
      "Processed batch: 1500 rows, Total: 640500 rows\n",
      "Processed batch: 1000 rows, Total: 641500 rows\n"
     ]
    },
    {
     "name": "stderr",
     "output_type": "stream",
     "text": [
      "25/08/15 18:35:12 WARN MemoryManager: Total allocation exceeds 95.00% (1,020,054,720 bytes) of heap memory\n",
      "Scaling row group sizes to 95.00% for 8 writers\n",
      "25/08/15 18:35:12 WARN MemoryManager: Total allocation exceeds 95.00% (1,020,054,720 bytes) of heap memory\n",
      "Scaling row group sizes to 84.44% for 9 writers\n",
      "25/08/15 18:35:12 WARN MemoryManager: Total allocation exceeds 95.00% (1,020,054,720 bytes) of heap memory\n",
      "Scaling row group sizes to 95.00% for 8 writers\n",
      "25/08/15 18:35:12 WARN MemoryManager: Total allocation exceeds 95.00% (1,020,054,720 bytes) of heap memory\n",
      "Scaling row group sizes to 84.44% for 9 writers\n",
      "25/08/15 18:35:12 WARN MemoryManager: Total allocation exceeds 95.00% (1,020,054,720 bytes) of heap memory\n",
      "Scaling row group sizes to 95.00% for 8 writers\n",
      "25/08/15 18:35:12 WARN MemoryManager: Total allocation exceeds 95.00% (1,020,054,720 bytes) of heap memory\n",
      "Scaling row group sizes to 84.44% for 9 writers\n",
      "25/08/15 18:35:12 WARN MemoryManager: Total allocation exceeds 95.00% (1,020,054,720 bytes) of heap memory\n",
      "Scaling row group sizes to 95.00% for 8 writers\n"
     ]
    },
    {
     "name": "stdout",
     "output_type": "stream",
     "text": [
      "Processed batch: 1000 rows, Total: 642500 rows\n",
      "Processed batch: 1000 rows, Total: 643500 rows\n",
      "Processed batch: 1000 rows, Total: 644500 rows\n",
      "Processed batch: 1000 rows, Total: 645500 rows\n"
     ]
    },
    {
     "name": "stderr",
     "output_type": "stream",
     "text": [
      "25/08/15 18:35:20 WARN MemoryManager: Total allocation exceeds 95.00% (1,020,054,720 bytes) of heap memory\n",
      "Scaling row group sizes to 95.00% for 8 writers\n",
      "25/08/15 18:35:20 WARN MemoryManager: Total allocation exceeds 95.00% (1,020,054,720 bytes) of heap memory\n",
      "Scaling row group sizes to 95.00% for 8 writers\n",
      "25/08/15 18:35:20 WARN MemoryManager: Total allocation exceeds 95.00% (1,020,054,720 bytes) of heap memory\n",
      "Scaling row group sizes to 95.00% for 8 writers\n"
     ]
    },
    {
     "name": "stdout",
     "output_type": "stream",
     "text": [
      "Processed batch: 1000 rows, Total: 646500 rows\n",
      "Processed batch: 1000 rows, Total: 647500 rows\n",
      "Processed batch: 1000 rows, Total: 648500 rows\n",
      "Processed batch: 1000 rows, Total: 649500 rows\n",
      "Processed batch: 1000 rows, Total: 650500 rows\n",
      "Processed batch: 1000 rows, Total: 651500 rows\n",
      "Processed batch: 1000 rows, Total: 652500 rows\n",
      "Processed batch: 1000 rows, Total: 653500 rows\n",
      "Processed batch: 1000 rows, Total: 654500 rows\n"
     ]
    },
    {
     "name": "stderr",
     "output_type": "stream",
     "text": [
      "25/08/15 18:35:38 WARN MemoryManager: Total allocation exceeds 95.00% (1,020,054,720 bytes) of heap memory\n",
      "Scaling row group sizes to 95.00% for 8 writers\n",
      "25/08/15 18:35:38 WARN MemoryManager: Total allocation exceeds 95.00% (1,020,054,720 bytes) of heap memory\n",
      "Scaling row group sizes to 84.44% for 9 writers\n",
      "25/08/15 18:35:38 WARN MemoryManager: Total allocation exceeds 95.00% (1,020,054,720 bytes) of heap memory\n",
      "Scaling row group sizes to 76.00% for 10 writers\n",
      "25/08/15 18:35:38 WARN MemoryManager: Total allocation exceeds 95.00% (1,020,054,720 bytes) of heap memory\n",
      "Scaling row group sizes to 69.09% for 11 writers\n",
      "25/08/15 18:35:38 WARN MemoryManager: Total allocation exceeds 95.00% (1,020,054,720 bytes) of heap memory\n",
      "Scaling row group sizes to 76.00% for 10 writers\n",
      "25/08/15 18:35:38 WARN MemoryManager: Total allocation exceeds 95.00% (1,020,054,720 bytes) of heap memory\n",
      "Scaling row group sizes to 84.44% for 9 writers\n",
      "25/08/15 18:35:38 WARN MemoryManager: Total allocation exceeds 95.00% (1,020,054,720 bytes) of heap memory\n",
      "Scaling row group sizes to 95.00% for 8 writers\n"
     ]
    },
    {
     "name": "stdout",
     "output_type": "stream",
     "text": [
      "Processed batch: 1500 rows, Total: 656000 rows\n"
     ]
    },
    {
     "name": "stderr",
     "output_type": "stream",
     "text": [
      "25/08/15 18:35:40 WARN MemoryManager: Total allocation exceeds 95.00% (1,020,054,720 bytes) of heap memory\n",
      "Scaling row group sizes to 95.00% for 8 writers\n",
      "25/08/15 18:35:40 WARN MemoryManager: Total allocation exceeds 95.00% (1,020,054,720 bytes) of heap memory\n",
      "Scaling row group sizes to 84.44% for 9 writers\n",
      "25/08/15 18:35:40 WARN MemoryManager: Total allocation exceeds 95.00% (1,020,054,720 bytes) of heap memory\n",
      "Scaling row group sizes to 95.00% for 8 writers\n",
      "25/08/15 18:35:40 WARN MemoryManager: Total allocation exceeds 95.00% (1,020,054,720 bytes) of heap memory\n",
      "Scaling row group sizes to 95.00% for 8 writers\n",
      "25/08/15 18:35:40 WARN MemoryManager: Total allocation exceeds 95.00% (1,020,054,720 bytes) of heap memory\n",
      "Scaling row group sizes to 84.44% for 9 writers\n",
      "25/08/15 18:35:40 WARN MemoryManager: Total allocation exceeds 95.00% (1,020,054,720 bytes) of heap memory\n",
      "Scaling row group sizes to 76.00% for 10 writers\n",
      "25/08/15 18:35:40 WARN MemoryManager: Total allocation exceeds 95.00% (1,020,054,720 bytes) of heap memory\n",
      "Scaling row group sizes to 69.09% for 11 writers\n",
      "25/08/15 18:35:40 WARN MemoryManager: Total allocation exceeds 95.00% (1,020,054,720 bytes) of heap memory\n",
      "Scaling row group sizes to 63.33% for 12 writers\n",
      "25/08/15 18:35:40 WARN MemoryManager: Total allocation exceeds 95.00% (1,020,054,720 bytes) of heap memory\n",
      "Scaling row group sizes to 69.09% for 11 writers\n",
      "25/08/15 18:35:40 WARN MemoryManager: Total allocation exceeds 95.00% (1,020,054,720 bytes) of heap memory\n",
      "Scaling row group sizes to 76.00% for 10 writers\n",
      "25/08/15 18:35:40 WARN MemoryManager: Total allocation exceeds 95.00% (1,020,054,720 bytes) of heap memory\n",
      "Scaling row group sizes to 84.44% for 9 writers\n",
      "25/08/15 18:35:40 WARN MemoryManager: Total allocation exceeds 95.00% (1,020,054,720 bytes) of heap memory\n",
      "Scaling row group sizes to 95.00% for 8 writers\n"
     ]
    },
    {
     "name": "stdout",
     "output_type": "stream",
     "text": [
      "Processed batch: 1000 rows, Total: 657000 rows\n"
     ]
    },
    {
     "name": "stderr",
     "output_type": "stream",
     "text": [
      "25/08/15 18:35:42 WARN MemoryManager: Total allocation exceeds 95.00% (1,020,054,720 bytes) of heap memory\n",
      "Scaling row group sizes to 95.00% for 8 writers\n",
      "25/08/15 18:35:42 WARN MemoryManager: Total allocation exceeds 95.00% (1,020,054,720 bytes) of heap memory\n",
      "Scaling row group sizes to 95.00% for 8 writers\n",
      "25/08/15 18:35:42 WARN MemoryManager: Total allocation exceeds 95.00% (1,020,054,720 bytes) of heap memory\n",
      "Scaling row group sizes to 84.44% for 9 writers\n",
      "25/08/15 18:35:42 WARN MemoryManager: Total allocation exceeds 95.00% (1,020,054,720 bytes) of heap memory\n",
      "Scaling row group sizes to 95.00% for 8 writers\n",
      "25/08/15 18:35:42 WARN MemoryManager: Total allocation exceeds 95.00% (1,020,054,720 bytes) of heap memory\n",
      "Scaling row group sizes to 84.44% for 9 writers\n",
      "25/08/15 18:35:42 WARN MemoryManager: Total allocation exceeds 95.00% (1,020,054,720 bytes) of heap memory\n",
      "Scaling row group sizes to 95.00% for 8 writers\n",
      "25/08/15 18:35:42 WARN MemoryManager: Total allocation exceeds 95.00% (1,020,054,720 bytes) of heap memory\n",
      "Scaling row group sizes to 95.00% for 8 writers\n",
      "25/08/15 18:35:42 WARN MemoryManager: Total allocation exceeds 95.00% (1,020,054,720 bytes) of heap memory\n",
      "Scaling row group sizes to 84.44% for 9 writers\n",
      "25/08/15 18:35:42 WARN MemoryManager: Total allocation exceeds 95.00% (1,020,054,720 bytes) of heap memory\n",
      "Scaling row group sizes to 95.00% for 8 writers\n"
     ]
    },
    {
     "name": "stdout",
     "output_type": "stream",
     "text": [
      "Processed batch: 1000 rows, Total: 658000 rows\n",
      "Processed batch: 1000 rows, Total: 659000 rows\n",
      "Processed batch: 1000 rows, Total: 660000 rows\n",
      "Processed batch: 1000 rows, Total: 661000 rows\n",
      "Processed batch: 1000 rows, Total: 662000 rows\n"
     ]
    },
    {
     "name": "stderr",
     "output_type": "stream",
     "text": [
      "25/08/15 18:35:52 WARN MemoryManager: Total allocation exceeds 95.00% (1,020,054,720 bytes) of heap memory\n",
      "Scaling row group sizes to 95.00% for 8 writers\n"
     ]
    },
    {
     "name": "stdout",
     "output_type": "stream",
     "text": [
      "Processed batch: 1000 rows, Total: 663000 rows\n",
      "Processed batch: 1000 rows, Total: 664000 rows\n",
      "Processed batch: 1000 rows, Total: 665000 rows\n",
      "Processed batch: 714 rows, Total: 665714 rows\n",
      "Processed batch: 786 rows, Total: 666500 rows\n",
      "Processed batch: 1000 rows, Total: 667500 rows\n",
      "Processed batch: 1000 rows, Total: 668500 rows\n",
      "Processed batch: 1000 rows, Total: 669500 rows\n",
      "Processed batch: 1000 rows, Total: 670500 rows\n",
      "Processed batch: 1500 rows, Total: 672000 rows\n"
     ]
    },
    {
     "name": "stderr",
     "output_type": "stream",
     "text": [
      "25/08/15 18:36:12 WARN MemoryManager: Total allocation exceeds 95.00% (1,020,054,720 bytes) of heap memory\n",
      "Scaling row group sizes to 95.00% for 8 writers\n",
      "25/08/15 18:36:12 WARN MemoryManager: Total allocation exceeds 95.00% (1,020,054,720 bytes) of heap memory\n",
      "Scaling row group sizes to 84.44% for 9 writers\n",
      "25/08/15 18:36:12 WARN MemoryManager: Total allocation exceeds 95.00% (1,020,054,720 bytes) of heap memory\n",
      "Scaling row group sizes to 95.00% for 8 writers\n",
      "25/08/15 18:36:12 WARN MemoryManager: Total allocation exceeds 95.00% (1,020,054,720 bytes) of heap memory\n",
      "Scaling row group sizes to 84.44% for 9 writers\n",
      "25/08/15 18:36:12 WARN MemoryManager: Total allocation exceeds 95.00% (1,020,054,720 bytes) of heap memory\n",
      "Scaling row group sizes to 76.00% for 10 writers\n",
      "25/08/15 18:36:12 WARN MemoryManager: Total allocation exceeds 95.00% (1,020,054,720 bytes) of heap memory\n",
      "Scaling row group sizes to 84.44% for 9 writers\n",
      "25/08/15 18:36:12 WARN MemoryManager: Total allocation exceeds 95.00% (1,020,054,720 bytes) of heap memory\n",
      "Scaling row group sizes to 95.00% for 8 writers\n",
      "25/08/15 18:36:12 WARN MemoryManager: Total allocation exceeds 95.00% (1,020,054,720 bytes) of heap memory\n",
      "Scaling row group sizes to 84.44% for 9 writers\n",
      "25/08/15 18:36:12 WARN MemoryManager: Total allocation exceeds 95.00% (1,020,054,720 bytes) of heap memory\n",
      "Scaling row group sizes to 76.00% for 10 writers\n",
      "25/08/15 18:36:12 WARN MemoryManager: Total allocation exceeds 95.00% (1,020,054,720 bytes) of heap memory\n",
      "Scaling row group sizes to 84.44% for 9 writers\n",
      "25/08/15 18:36:12 WARN MemoryManager: Total allocation exceeds 95.00% (1,020,054,720 bytes) of heap memory\n",
      "Scaling row group sizes to 95.00% for 8 writers\n"
     ]
    },
    {
     "name": "stdout",
     "output_type": "stream",
     "text": [
      "Processed batch: 1000 rows, Total: 673000 rows\n",
      "Processed batch: 1000 rows, Total: 674000 rows\n",
      "Processed batch: 1000 rows, Total: 675000 rows\n",
      "Processed batch: 1000 rows, Total: 676000 rows\n"
     ]
    },
    {
     "name": "stderr",
     "output_type": "stream",
     "text": [
      "25/08/15 18:36:20 WARN MemoryManager: Total allocation exceeds 95.00% (1,020,054,720 bytes) of heap memory\n",
      "Scaling row group sizes to 95.00% for 8 writers\n",
      "25/08/15 18:36:20 WARN MemoryManager: Total allocation exceeds 95.00% (1,020,054,720 bytes) of heap memory\n",
      "Scaling row group sizes to 84.44% for 9 writers\n",
      "25/08/15 18:36:20 WARN MemoryManager: Total allocation exceeds 95.00% (1,020,054,720 bytes) of heap memory\n",
      "Scaling row group sizes to 76.00% for 10 writers\n",
      "25/08/15 18:36:20 WARN MemoryManager: Total allocation exceeds 95.00% (1,020,054,720 bytes) of heap memory\n",
      "Scaling row group sizes to 84.44% for 9 writers\n",
      "25/08/15 18:36:20 WARN MemoryManager: Total allocation exceeds 95.00% (1,020,054,720 bytes) of heap memory\n",
      "Scaling row group sizes to 95.00% for 8 writers\n",
      "25/08/15 18:36:20 WARN MemoryManager: Total allocation exceeds 95.00% (1,020,054,720 bytes) of heap memory\n",
      "Scaling row group sizes to 95.00% for 8 writers\n"
     ]
    },
    {
     "name": "stdout",
     "output_type": "stream",
     "text": [
      "Processed batch: 1000 rows, Total: 677000 rows\n",
      "Processed batch: 1000 rows, Total: 678000 rows\n"
     ]
    },
    {
     "name": "stderr",
     "output_type": "stream",
     "text": [
      "25/08/15 18:36:24 WARN MemoryManager: Total allocation exceeds 95.00% (1,020,054,720 bytes) of heap memory\n",
      "Scaling row group sizes to 95.00% for 8 writers\n"
     ]
    },
    {
     "name": "stdout",
     "output_type": "stream",
     "text": [
      "Processed batch: 1000 rows, Total: 679000 rows\n",
      "Processed batch: 1000 rows, Total: 680000 rows\n",
      "Processed batch: 1000 rows, Total: 681000 rows\n",
      "Processed batch: 1000 rows, Total: 682000 rows\n",
      "Processed batch: 1000 rows, Total: 683000 rows\n",
      "Processed batch: 1000 rows, Total: 684000 rows\n",
      "Processed batch: 1000 rows, Total: 685000 rows\n",
      "Processed batch: 1000 rows, Total: 686000 rows\n",
      "Processed batch: 1500 rows, Total: 687500 rows\n"
     ]
    },
    {
     "name": "stderr",
     "output_type": "stream",
     "text": [
      "25/08/15 18:36:42 WARN MemoryManager: Total allocation exceeds 95.00% (1,020,054,720 bytes) of heap memory\n",
      "Scaling row group sizes to 95.00% for 8 writers\n"
     ]
    },
    {
     "name": "stdout",
     "output_type": "stream",
     "text": [
      "Processed batch: 1000 rows, Total: 688500 rows\n",
      "Processed batch: 1000 rows, Total: 689500 rows\n"
     ]
    },
    {
     "name": "stderr",
     "output_type": "stream",
     "text": [
      "25/08/15 18:36:46 WARN MemoryManager: Total allocation exceeds 95.00% (1,020,054,720 bytes) of heap memory\n",
      "Scaling row group sizes to 95.00% for 8 writers\n"
     ]
    },
    {
     "name": "stdout",
     "output_type": "stream",
     "text": [
      "Processed batch: 1000 rows, Total: 690500 rows\n"
     ]
    },
    {
     "name": "stderr",
     "output_type": "stream",
     "text": [
      "25/08/15 18:36:48 WARN MemoryManager: Total allocation exceeds 95.00% (1,020,054,720 bytes) of heap memory\n",
      "Scaling row group sizes to 95.00% for 8 writers\n"
     ]
    },
    {
     "name": "stdout",
     "output_type": "stream",
     "text": [
      "Processed batch: 1000 rows, Total: 691500 rows\n",
      "Processed batch: 1000 rows, Total: 692500 rows\n",
      "Processed batch: 1000 rows, Total: 693500 rows\n",
      "Processed batch: 1000 rows, Total: 694500 rows\n",
      "Processed batch: 1000 rows, Total: 695500 rows\n",
      "Processed batch: 1000 rows, Total: 696500 rows\n",
      "Processed batch: 1000 rows, Total: 697500 rows\n",
      "Processed batch: 1000 rows, Total: 698500 rows\n",
      "Processed batch: 1000 rows, Total: 699500 rows\n",
      "Processed batch: 1000 rows, Total: 700500 rows\n",
      "Processed batch: 1000 rows, Total: 701500 rows\n",
      "Processed batch: 1000 rows, Total: 702500 rows\n"
     ]
    },
    {
     "name": "stderr",
     "output_type": "stream",
     "text": [
      "25/08/15 18:37:12 WARN MemoryManager: Total allocation exceeds 95.00% (1,020,054,720 bytes) of heap memory\n",
      "Scaling row group sizes to 95.00% for 8 writers\n",
      "25/08/15 18:37:12 WARN MemoryManager: Total allocation exceeds 95.00% (1,020,054,720 bytes) of heap memory\n",
      "Scaling row group sizes to 95.00% for 8 writers\n"
     ]
    },
    {
     "name": "stdout",
     "output_type": "stream",
     "text": [
      "Processed batch: 1500 rows, Total: 704000 rows\n",
      "Processed batch: 1000 rows, Total: 705000 rows\n",
      "Processed batch: 1000 rows, Total: 706000 rows\n",
      "Processed batch: 1000 rows, Total: 707000 rows\n",
      "Processed batch: 1000 rows, Total: 708000 rows\n",
      "Processed batch: 1000 rows, Total: 709000 rows\n"
     ]
    },
    {
     "name": "stderr",
     "output_type": "stream",
     "text": [
      "25/08/15 18:37:24 WARN MemoryManager: Total allocation exceeds 95.00% (1,020,054,720 bytes) of heap memory\n",
      "Scaling row group sizes to 95.00% for 8 writers\n",
      "25/08/15 18:37:24 WARN MemoryManager: Total allocation exceeds 95.00% (1,020,054,720 bytes) of heap memory\n",
      "Scaling row group sizes to 95.00% for 8 writers\n"
     ]
    },
    {
     "name": "stdout",
     "output_type": "stream",
     "text": [
      "Processed batch: 1000 rows, Total: 710000 rows\n",
      "Processed batch: 1000 rows, Total: 711000 rows\n",
      "Processed batch: 1000 rows, Total: 712000 rows\n",
      "Processed batch: 1000 rows, Total: 713000 rows\n",
      "Processed batch: 1000 rows, Total: 714000 rows\n",
      "Processed batch: 1000 rows, Total: 715000 rows\n",
      "Processed batch: 1000 rows, Total: 716000 rows\n"
     ]
    },
    {
     "name": "stderr",
     "output_type": "stream",
     "text": [
      "25/08/15 18:37:38 WARN MemoryManager: Total allocation exceeds 95.00% (1,020,054,720 bytes) of heap memory\n",
      "Scaling row group sizes to 95.00% for 8 writers\n",
      "25/08/15 18:37:38 WARN MemoryManager: Total allocation exceeds 95.00% (1,020,054,720 bytes) of heap memory\n",
      "Scaling row group sizes to 95.00% for 8 writers\n",
      "25/08/15 18:37:38 WARN MemoryManager: Total allocation exceeds 95.00% (1,020,054,720 bytes) of heap memory\n",
      "Scaling row group sizes to 95.00% for 8 writers\n"
     ]
    },
    {
     "name": "stdout",
     "output_type": "stream",
     "text": [
      "Processed batch: 1000 rows, Total: 717000 rows\n",
      "Processed batch: 500 rows, Total: 717500 rows\n",
      "Processed batch: 2000 rows, Total: 719500 rows\n",
      "Processed batch: 602 rows, Total: 720102 rows\n",
      "Processed batch: 898 rows, Total: 721000 rows\n",
      "Processed batch: 1000 rows, Total: 722000 rows\n",
      "Processed batch: 1000 rows, Total: 723000 rows\n"
     ]
    },
    {
     "name": "stderr",
     "output_type": "stream",
     "text": [
      "25/08/15 18:37:52 WARN MemoryManager: Total allocation exceeds 95.00% (1,020,054,720 bytes) of heap memory\n",
      "Scaling row group sizes to 95.00% for 8 writers\n"
     ]
    },
    {
     "name": "stdout",
     "output_type": "stream",
     "text": [
      "Processed batch: 1000 rows, Total: 724000 rows\n"
     ]
    },
    {
     "name": "stderr",
     "output_type": "stream",
     "text": [
      "25/08/15 18:37:54 WARN MemoryManager: Total allocation exceeds 95.00% (1,020,054,720 bytes) of heap memory\n",
      "Scaling row group sizes to 95.00% for 8 writers\n",
      "25/08/15 18:37:54 WARN MemoryManager: Total allocation exceeds 95.00% (1,020,054,720 bytes) of heap memory\n",
      "Scaling row group sizes to 84.44% for 9 writers\n",
      "25/08/15 18:37:54 WARN MemoryManager: Total allocation exceeds 95.00% (1,020,054,720 bytes) of heap memory\n",
      "Scaling row group sizes to 95.00% for 8 writers\n",
      "25/08/15 18:37:54 WARN MemoryManager: Total allocation exceeds 95.00% (1,020,054,720 bytes) of heap memory\n",
      "Scaling row group sizes to 95.00% for 8 writers\n"
     ]
    },
    {
     "name": "stdout",
     "output_type": "stream",
     "text": [
      "Processed batch: 1000 rows, Total: 725000 rows\n",
      "Processed batch: 1000 rows, Total: 726000 rows\n"
     ]
    },
    {
     "name": "stderr",
     "output_type": "stream",
     "text": [
      "25/08/15 18:37:58 WARN MemoryManager: Total allocation exceeds 95.00% (1,020,054,720 bytes) of heap memory\n",
      "Scaling row group sizes to 95.00% for 8 writers\n"
     ]
    },
    {
     "name": "stdout",
     "output_type": "stream",
     "text": [
      "Processed batch: 1000 rows, Total: 727000 rows\n",
      "Processed batch: 1000 rows, Total: 728000 rows\n"
     ]
    },
    {
     "name": "stderr",
     "output_type": "stream",
     "text": [
      "25/08/15 18:38:02 WARN MemoryManager: Total allocation exceeds 95.00% (1,020,054,720 bytes) of heap memory\n",
      "Scaling row group sizes to 95.00% for 8 writers\n",
      "25/08/15 18:38:02 WARN MemoryManager: Total allocation exceeds 95.00% (1,020,054,720 bytes) of heap memory\n",
      "Scaling row group sizes to 84.44% for 9 writers\n",
      "25/08/15 18:38:02 WARN MemoryManager: Total allocation exceeds 95.00% (1,020,054,720 bytes) of heap memory\n",
      "Scaling row group sizes to 95.00% for 8 writers\n"
     ]
    },
    {
     "name": "stdout",
     "output_type": "stream",
     "text": [
      "Processed batch: 1000 rows, Total: 729000 rows\n",
      "Processed batch: 1000 rows, Total: 730000 rows\n",
      "Processed batch: 1000 rows, Total: 731000 rows\n",
      "Processed batch: 1000 rows, Total: 732000 rows\n",
      "Processed batch: 1000 rows, Total: 733000 rows\n",
      "Processed batch: 1000 rows, Total: 734000 rows\n",
      "Processed batch: 1500 rows, Total: 735500 rows\n",
      "Processed batch: 1000 rows, Total: 736500 rows\n",
      "Processed batch: 1000 rows, Total: 737500 rows\n",
      "Processed batch: 1000 rows, Total: 738500 rows\n",
      "Processed batch: 1000 rows, Total: 739500 rows\n",
      "Processed batch: 1000 rows, Total: 740500 rows\n",
      "Processed batch: 1000 rows, Total: 741500 rows\n",
      "Processed batch: 1000 rows, Total: 742500 rows\n",
      "Processed batch: 1000 rows, Total: 743500 rows\n",
      "Processed batch: 1000 rows, Total: 744500 rows\n",
      "Processed batch: 1000 rows, Total: 745500 rows\n",
      "Processed batch: 500 rows, Total: 746000 rows\n",
      "Processed batch: 1000 rows, Total: 747000 rows\n",
      "Processed batch: 1000 rows, Total: 748000 rows\n",
      "Processed batch: 1000 rows, Total: 749000 rows\n",
      "Processed batch: 1500 rows, Total: 750500 rows\n",
      "Processed batch: 1000 rows, Total: 751500 rows\n",
      "Processed batch: 1000 rows, Total: 752500 rows\n",
      "Processed batch: 1000 rows, Total: 753500 rows\n",
      "Processed batch: 1000 rows, Total: 754500 rows\n",
      "Processed batch: 1000 rows, Total: 755500 rows\n",
      "Processed batch: 1000 rows, Total: 756500 rows\n",
      "Processed batch: 1000 rows, Total: 757500 rows\n",
      "Processed batch: 1000 rows, Total: 758500 rows\n"
     ]
    },
    {
     "name": "stderr",
     "output_type": "stream",
     "text": [
      "25/08/15 18:39:02 WARN MemoryManager: Total allocation exceeds 95.00% (1,020,054,720 bytes) of heap memory\n",
      "Scaling row group sizes to 95.00% for 8 writers\n"
     ]
    },
    {
     "name": "stdout",
     "output_type": "stream",
     "text": [
      "Processed batch: 1000 rows, Total: 759500 rows\n",
      "Processed batch: 1000 rows, Total: 760500 rows\n",
      "Processed batch: 1000 rows, Total: 761500 rows\n",
      "Processed batch: 1000 rows, Total: 762500 rows\n",
      "Processed batch: 1000 rows, Total: 763500 rows\n",
      "Processed batch: 1000 rows, Total: 764500 rows\n"
     ]
    },
    {
     "name": "stderr",
     "output_type": "stream",
     "text": [
      "25/08/15 18:39:14 WARN MemoryManager: Total allocation exceeds 95.00% (1,020,054,720 bytes) of heap memory\n",
      "Scaling row group sizes to 95.00% for 8 writers\n"
     ]
    },
    {
     "name": "stdout",
     "output_type": "stream",
     "text": [
      "Processed batch: 1000 rows, Total: 765500 rows\n",
      "Processed batch: 1500 rows, Total: 767000 rows\n",
      "Processed batch: 1000 rows, Total: 768000 rows\n",
      "Processed batch: 1000 rows, Total: 769000 rows\n",
      "Processed batch: 1000 rows, Total: 770000 rows\n",
      "Processed batch: 1000 rows, Total: 771000 rows\n",
      "Processed batch: 1000 rows, Total: 772000 rows\n",
      "Processed batch: 1000 rows, Total: 773000 rows\n",
      "Processed batch: 1000 rows, Total: 774000 rows\n",
      "Processed batch: 1000 rows, Total: 775000 rows\n",
      "Processed batch: 1000 rows, Total: 776000 rows\n",
      "Processed batch: 1000 rows, Total: 777000 rows\n",
      "Processed batch: 1000 rows, Total: 778000 rows\n",
      "Processed batch: 1000 rows, Total: 779000 rows\n",
      "Processed batch: 1000 rows, Total: 780000 rows\n",
      "Processed batch: 1000 rows, Total: 781000 rows\n"
     ]
    },
    {
     "name": "stderr",
     "output_type": "stream",
     "text": [
      "25/08/15 18:39:46 WARN MemoryManager: Total allocation exceeds 95.00% (1,020,054,720 bytes) of heap memory\n",
      "Scaling row group sizes to 95.00% for 8 writers\n",
      "25/08/15 18:39:46 WARN MemoryManager: Total allocation exceeds 95.00% (1,020,054,720 bytes) of heap memory\n",
      "Scaling row group sizes to 84.44% for 9 writers\n",
      "25/08/15 18:39:46 WARN MemoryManager: Total allocation exceeds 95.00% (1,020,054,720 bytes) of heap memory\n",
      "Scaling row group sizes to 95.00% for 8 writers\n",
      "25/08/15 18:39:46 WARN MemoryManager: Total allocation exceeds 95.00% (1,020,054,720 bytes) of heap memory\n",
      "Scaling row group sizes to 95.00% for 8 writers\n"
     ]
    },
    {
     "name": "stdout",
     "output_type": "stream",
     "text": [
      "Processed batch: 1000 rows, Total: 782000 rows\n",
      "Processed batch: 1500 rows, Total: 783500 rows\n"
     ]
    },
    {
     "name": "stderr",
     "output_type": "stream",
     "text": [
      "25/08/15 18:39:50 WARN MemoryManager: Total allocation exceeds 95.00% (1,020,054,720 bytes) of heap memory\n",
      "Scaling row group sizes to 95.00% for 8 writers\n",
      "25/08/15 18:39:50 WARN MemoryManager: Total allocation exceeds 95.00% (1,020,054,720 bytes) of heap memory\n",
      "Scaling row group sizes to 95.00% for 8 writers\n",
      "25/08/15 18:39:50 WARN MemoryManager: Total allocation exceeds 95.00% (1,020,054,720 bytes) of heap memory\n",
      "Scaling row group sizes to 84.44% for 9 writers\n",
      "25/08/15 18:39:50 WARN MemoryManager: Total allocation exceeds 95.00% (1,020,054,720 bytes) of heap memory\n",
      "Scaling row group sizes to 95.00% for 8 writers\n",
      "25/08/15 18:39:50 WARN MemoryManager: Total allocation exceeds 95.00% (1,020,054,720 bytes) of heap memory\n",
      "Scaling row group sizes to 84.44% for 9 writers\n",
      "25/08/15 18:39:50 WARN MemoryManager: Total allocation exceeds 95.00% (1,020,054,720 bytes) of heap memory\n",
      "Scaling row group sizes to 95.00% for 8 writers\n",
      "25/08/15 18:39:50 WARN MemoryManager: Total allocation exceeds 95.00% (1,020,054,720 bytes) of heap memory\n",
      "Scaling row group sizes to 95.00% for 8 writers\n",
      "25/08/15 18:39:50 WARN MemoryManager: Total allocation exceeds 95.00% (1,020,054,720 bytes) of heap memory\n",
      "Scaling row group sizes to 84.44% for 9 writers\n",
      "25/08/15 18:39:50 WARN MemoryManager: Total allocation exceeds 95.00% (1,020,054,720 bytes) of heap memory\n",
      "Scaling row group sizes to 95.00% for 8 writers\n",
      "25/08/15 18:39:50 WARN MemoryManager: Total allocation exceeds 95.00% (1,020,054,720 bytes) of heap memory\n",
      "Scaling row group sizes to 95.00% for 8 writers\n"
     ]
    },
    {
     "name": "stdout",
     "output_type": "stream",
     "text": [
      "Processed batch: 1000 rows, Total: 784500 rows\n",
      "Processed batch: 1000 rows, Total: 785500 rows\n",
      "Processed batch: 1000 rows, Total: 786500 rows\n",
      "Processed batch: 1000 rows, Total: 787500 rows\n",
      "Processed batch: 1000 rows, Total: 788500 rows\n",
      "Processed batch: 1000 rows, Total: 789500 rows\n",
      "Processed batch: 1000 rows, Total: 790500 rows\n",
      "Processed batch: 1000 rows, Total: 791500 rows\n",
      "Processed batch: 500 rows, Total: 792000 rows\n",
      "Processed batch: 1000 rows, Total: 793000 rows\n",
      "Processed batch: 1000 rows, Total: 794000 rows\n",
      "Processed batch: 1000 rows, Total: 795000 rows\n",
      "Processed batch: 1000 rows, Total: 796000 rows\n",
      "Processed batch: 1000 rows, Total: 797000 rows\n"
     ]
    },
    {
     "name": "stderr",
     "output_type": "stream",
     "text": [
      "25/08/15 18:40:18 WARN MemoryManager: Total allocation exceeds 95.00% (1,020,054,720 bytes) of heap memory\n",
      "Scaling row group sizes to 95.00% for 8 writers\n",
      "25/08/15 18:40:18 WARN MemoryManager: Total allocation exceeds 95.00% (1,020,054,720 bytes) of heap memory\n",
      "Scaling row group sizes to 84.44% for 9 writers\n",
      "25/08/15 18:40:18 WARN MemoryManager: Total allocation exceeds 95.00% (1,020,054,720 bytes) of heap memory\n",
      "Scaling row group sizes to 95.00% for 8 writers\n"
     ]
    },
    {
     "name": "stdout",
     "output_type": "stream",
     "text": [
      "Processed batch: 2000 rows, Total: 799000 rows\n",
      "Processed batch: 500 rows, Total: 799500 rows\n"
     ]
    },
    {
     "name": "stderr",
     "output_type": "stream",
     "text": [
      "25/08/15 18:40:22 WARN MemoryManager: Total allocation exceeds 95.00% (1,020,054,720 bytes) of heap memory\n",
      "Scaling row group sizes to 95.00% for 8 writers\n",
      "25/08/15 18:40:22 WARN MemoryManager: Total allocation exceeds 95.00% (1,020,054,720 bytes) of heap memory\n",
      "Scaling row group sizes to 84.44% for 9 writers\n",
      "25/08/15 18:40:22 WARN MemoryManager: Total allocation exceeds 95.00% (1,020,054,720 bytes) of heap memory\n",
      "Scaling row group sizes to 95.00% for 8 writers\n"
     ]
    },
    {
     "name": "stdout",
     "output_type": "stream",
     "text": [
      "Processed batch: 1000 rows, Total: 800500 rows\n",
      "Processed batch: 1000 rows, Total: 801500 rows\n",
      "Processed batch: 1000 rows, Total: 802500 rows\n",
      "Processed batch: 1000 rows, Total: 803500 rows\n",
      "Processed batch: 1000 rows, Total: 804500 rows\n",
      "Processed batch: 1000 rows, Total: 805500 rows\n",
      "Processed batch: 1000 rows, Total: 806500 rows\n",
      "Processed batch: 1000 rows, Total: 807500 rows\n",
      "Processed batch: 1000 rows, Total: 808500 rows\n",
      "Processed batch: 1000 rows, Total: 809500 rows\n"
     ]
    },
    {
     "name": "stderr",
     "output_type": "stream",
     "text": [
      "25/08/15 18:40:42 WARN MemoryManager: Total allocation exceeds 95.00% (1,020,054,720 bytes) of heap memory\n",
      "Scaling row group sizes to 95.00% for 8 writers\n",
      "25/08/15 18:40:42 WARN MemoryManager: Total allocation exceeds 95.00% (1,020,054,720 bytes) of heap memory\n",
      "Scaling row group sizes to 84.44% for 9 writers\n",
      "25/08/15 18:40:42 WARN MemoryManager: Total allocation exceeds 95.00% (1,020,054,720 bytes) of heap memory\n",
      "Scaling row group sizes to 76.00% for 10 writers\n",
      "25/08/15 18:40:42 WARN MemoryManager: Total allocation exceeds 95.00% (1,020,054,720 bytes) of heap memory\n",
      "Scaling row group sizes to 84.44% for 9 writers\n",
      "25/08/15 18:40:42 WARN MemoryManager: Total allocation exceeds 95.00% (1,020,054,720 bytes) of heap memory\n",
      "Scaling row group sizes to 95.00% for 8 writers\n",
      "25/08/15 18:40:42 WARN MemoryManager: Total allocation exceeds 95.00% (1,020,054,720 bytes) of heap memory\n",
      "Scaling row group sizes to 84.44% for 9 writers\n",
      "25/08/15 18:40:42 WARN MemoryManager: Total allocation exceeds 95.00% (1,020,054,720 bytes) of heap memory\n",
      "Scaling row group sizes to 95.00% for 8 writers\n"
     ]
    },
    {
     "name": "stdout",
     "output_type": "stream",
     "text": [
      "Processed batch: 1000 rows, Total: 810500 rows\n"
     ]
    },
    {
     "name": "stderr",
     "output_type": "stream",
     "text": [
      "25/08/15 18:40:44 WARN MemoryManager: Total allocation exceeds 95.00% (1,020,054,720 bytes) of heap memory\n",
      "Scaling row group sizes to 95.00% for 8 writers\n",
      "25/08/15 18:40:44 WARN MemoryManager: Total allocation exceeds 95.00% (1,020,054,720 bytes) of heap memory\n",
      "Scaling row group sizes to 84.44% for 9 writers\n",
      "25/08/15 18:40:44 WARN MemoryManager: Total allocation exceeds 95.00% (1,020,054,720 bytes) of heap memory\n",
      "Scaling row group sizes to 95.00% for 8 writers\n",
      "25/08/15 18:40:44 WARN MemoryManager: Total allocation exceeds 95.00% (1,020,054,720 bytes) of heap memory\n",
      "Scaling row group sizes to 84.44% for 9 writers\n",
      "25/08/15 18:40:44 WARN MemoryManager: Total allocation exceeds 95.00% (1,020,054,720 bytes) of heap memory\n",
      "Scaling row group sizes to 95.00% for 8 writers\n",
      "25/08/15 18:40:44 WARN MemoryManager: Total allocation exceeds 95.00% (1,020,054,720 bytes) of heap memory\n",
      "Scaling row group sizes to 84.44% for 9 writers\n",
      "25/08/15 18:40:44 WARN MemoryManager: Total allocation exceeds 95.00% (1,020,054,720 bytes) of heap memory\n",
      "Scaling row group sizes to 95.00% for 8 writers\n"
     ]
    },
    {
     "name": "stdout",
     "output_type": "stream",
     "text": [
      "Processed batch: 1000 rows, Total: 811500 rows\n",
      "Processed batch: 1000 rows, Total: 812500 rows\n",
      "Processed batch: 1000 rows, Total: 813500 rows\n",
      "Processed batch: 1500 rows, Total: 815000 rows\n",
      "Processed batch: 1000 rows, Total: 816000 rows\n",
      "Processed batch: 1000 rows, Total: 817000 rows\n",
      "Processed batch: 1000 rows, Total: 818000 rows\n"
     ]
    },
    {
     "name": "stderr",
     "output_type": "stream",
     "text": [
      "25/08/15 18:40:58 WARN MemoryManager: Total allocation exceeds 95.00% (1,020,054,720 bytes) of heap memory\n",
      "Scaling row group sizes to 95.00% for 8 writers\n",
      "25/08/15 18:40:58 WARN MemoryManager: Total allocation exceeds 95.00% (1,020,054,720 bytes) of heap memory\n",
      "Scaling row group sizes to 84.44% for 9 writers\n",
      "25/08/15 18:40:58 WARN MemoryManager: Total allocation exceeds 95.00% (1,020,054,720 bytes) of heap memory\n",
      "Scaling row group sizes to 95.00% for 8 writers\n",
      "25/08/15 18:40:58 WARN MemoryManager: Total allocation exceeds 95.00% (1,020,054,720 bytes) of heap memory\n",
      "Scaling row group sizes to 95.00% for 8 writers\n",
      "25/08/15 18:40:58 WARN MemoryManager: Total allocation exceeds 95.00% (1,020,054,720 bytes) of heap memory\n",
      "Scaling row group sizes to 84.44% for 9 writers\n",
      "25/08/15 18:40:58 WARN MemoryManager: Total allocation exceeds 95.00% (1,020,054,720 bytes) of heap memory\n",
      "Scaling row group sizes to 95.00% for 8 writers\n"
     ]
    },
    {
     "name": "stdout",
     "output_type": "stream",
     "text": [
      "Processed batch: 1000 rows, Total: 819000 rows\n",
      "Processed batch: 1000 rows, Total: 820000 rows\n",
      "Processed batch: 1000 rows, Total: 821000 rows\n",
      "Processed batch: 1000 rows, Total: 822000 rows\n",
      "Processed batch: 1000 rows, Total: 823000 rows\n",
      "Processed batch: 1000 rows, Total: 824000 rows\n",
      "Processed batch: 1000 rows, Total: 825000 rows\n",
      "Processed batch: 1000 rows, Total: 826000 rows\n",
      "Processed batch: 1000 rows, Total: 827000 rows\n",
      "Processed batch: 1000 rows, Total: 828000 rows\n"
     ]
    },
    {
     "name": "stderr",
     "output_type": "stream",
     "text": [
      "25/08/15 18:41:18 WARN MemoryManager: Total allocation exceeds 95.00% (1,020,054,720 bytes) of heap memory\n",
      "Scaling row group sizes to 95.00% for 8 writers\n"
     ]
    },
    {
     "name": "stdout",
     "output_type": "stream",
     "text": [
      "Processed batch: 1000 rows, Total: 829000 rows\n",
      "Processed batch: 1500 rows, Total: 830500 rows\n",
      "Processed batch: 1000 rows, Total: 831500 rows\n",
      "Processed batch: 1000 rows, Total: 832500 rows\n",
      "Processed batch: 1000 rows, Total: 833500 rows\n",
      "Processed batch: 1000 rows, Total: 834500 rows\n",
      "Processed batch: 1000 rows, Total: 835500 rows\n",
      "Processed batch: 1000 rows, Total: 836500 rows\n",
      "Processed batch: 1000 rows, Total: 837500 rows\n",
      "Processed batch: 500 rows, Total: 838000 rows\n",
      "Processed batch: 1000 rows, Total: 839000 rows\n",
      "Processed batch: 1000 rows, Total: 840000 rows\n",
      "Processed batch: 1000 rows, Total: 841000 rows\n",
      "Processed batch: 1000 rows, Total: 842000 rows\n",
      "Processed batch: 1000 rows, Total: 843000 rows\n",
      "Processed batch: 1000 rows, Total: 844000 rows\n"
     ]
    },
    {
     "name": "stderr",
     "output_type": "stream",
     "text": [
      "25/08/15 18:41:50 WARN MemoryManager: Total allocation exceeds 95.00% (1,020,054,720 bytes) of heap memory\n",
      "Scaling row group sizes to 95.00% for 8 writers\n"
     ]
    },
    {
     "name": "stdout",
     "output_type": "stream",
     "text": [
      "Processed batch: 1000 rows, Total: 845000 rows\n",
      "Processed batch: 1500 rows, Total: 846500 rows\n",
      "Processed batch: 1000 rows, Total: 847500 rows\n",
      "Processed batch: 1000 rows, Total: 848500 rows\n",
      "Processed batch: 1000 rows, Total: 849500 rows\n",
      "Processed batch: 1000 rows, Total: 850500 rows\n",
      "Processed batch: 1000 rows, Total: 851500 rows\n",
      "Processed batch: 1000 rows, Total: 852500 rows\n"
     ]
    },
    {
     "name": "stderr",
     "output_type": "stream",
     "text": [
      "25/08/15 18:42:06 WARN MemoryManager: Total allocation exceeds 95.00% (1,020,054,720 bytes) of heap memory\n",
      "Scaling row group sizes to 95.00% for 8 writers\n",
      "25/08/15 18:42:06 WARN MemoryManager: Total allocation exceeds 95.00% (1,020,054,720 bytes) of heap memory\n",
      "Scaling row group sizes to 84.44% for 9 writers\n",
      "25/08/15 18:42:06 WARN MemoryManager: Total allocation exceeds 95.00% (1,020,054,720 bytes) of heap memory\n",
      "Scaling row group sizes to 95.00% for 8 writers\n"
     ]
    },
    {
     "name": "stdout",
     "output_type": "stream",
     "text": [
      "Processed batch: 1000 rows, Total: 853500 rows\n",
      "Processed batch: 1000 rows, Total: 854500 rows\n",
      "Processed batch: 1000 rows, Total: 855500 rows\n",
      "Processed batch: 1000 rows, Total: 856500 rows\n",
      "Processed batch: 1000 rows, Total: 857500 rows\n",
      "Processed batch: 1000 rows, Total: 858500 rows\n"
     ]
    },
    {
     "name": "stderr",
     "output_type": "stream",
     "text": [
      "25/08/15 18:42:18 WARN MemoryManager: Total allocation exceeds 95.00% (1,020,054,720 bytes) of heap memory\n",
      "Scaling row group sizes to 95.00% for 8 writers\n",
      "25/08/15 18:42:18 WARN MemoryManager: Total allocation exceeds 95.00% (1,020,054,720 bytes) of heap memory\n",
      "Scaling row group sizes to 84.44% for 9 writers\n",
      "25/08/15 18:42:18 WARN MemoryManager: Total allocation exceeds 95.00% (1,020,054,720 bytes) of heap memory\n",
      "Scaling row group sizes to 76.00% for 10 writers\n",
      "25/08/15 18:42:18 WARN MemoryManager: Total allocation exceeds 95.00% (1,020,054,720 bytes) of heap memory\n",
      "Scaling row group sizes to 69.09% for 11 writers\n",
      "25/08/15 18:42:18 WARN MemoryManager: Total allocation exceeds 95.00% (1,020,054,720 bytes) of heap memory\n",
      "Scaling row group sizes to 63.33% for 12 writers\n",
      "25/08/15 18:42:18 WARN MemoryManager: Total allocation exceeds 95.00% (1,020,054,720 bytes) of heap memory\n",
      "Scaling row group sizes to 69.09% for 11 writers\n",
      "25/08/15 18:42:18 WARN MemoryManager: Total allocation exceeds 95.00% (1,020,054,720 bytes) of heap memory\n",
      "Scaling row group sizes to 76.00% for 10 writers\n",
      "25/08/15 18:42:18 WARN MemoryManager: Total allocation exceeds 95.00% (1,020,054,720 bytes) of heap memory\n",
      "Scaling row group sizes to 69.09% for 11 writers\n",
      "25/08/15 18:42:18 WARN MemoryManager: Total allocation exceeds 95.00% (1,020,054,720 bytes) of heap memory\n",
      "Scaling row group sizes to 76.00% for 10 writers\n",
      "25/08/15 18:42:18 WARN MemoryManager: Total allocation exceeds 95.00% (1,020,054,720 bytes) of heap memory\n",
      "Scaling row group sizes to 84.44% for 9 writers\n",
      "25/08/15 18:42:18 WARN MemoryManager: Total allocation exceeds 95.00% (1,020,054,720 bytes) of heap memory\n",
      "Scaling row group sizes to 95.00% for 8 writers\n",
      "25/08/15 18:42:18 WARN MemoryManager: Total allocation exceeds 95.00% (1,020,054,720 bytes) of heap memory\n",
      "Scaling row group sizes to 84.44% for 9 writers\n",
      "25/08/15 18:42:18 WARN MemoryManager: Total allocation exceeds 95.00% (1,020,054,720 bytes) of heap memory\n",
      "Scaling row group sizes to 95.00% for 8 writers\n"
     ]
    },
    {
     "name": "stdout",
     "output_type": "stream",
     "text": [
      "Processed batch: 1000 rows, Total: 859500 rows\n",
      "Processed batch: 1000 rows, Total: 860500 rows\n",
      "Processed batch: 1500 rows, Total: 862000 rows\n",
      "Processed batch: 1000 rows, Total: 863000 rows\n"
     ]
    },
    {
     "name": "stderr",
     "output_type": "stream",
     "text": [
      "25/08/15 18:42:26 WARN MemoryManager: Total allocation exceeds 95.00% (1,020,054,720 bytes) of heap memory\n",
      "Scaling row group sizes to 95.00% for 8 writers\n"
     ]
    },
    {
     "name": "stdout",
     "output_type": "stream",
     "text": [
      "Processed batch: 1000 rows, Total: 864000 rows\n",
      "Processed batch: 1000 rows, Total: 865000 rows\n",
      "Processed batch: 1000 rows, Total: 866000 rows\n",
      "Processed batch: 1000 rows, Total: 867000 rows\n"
     ]
    },
    {
     "name": "stderr",
     "output_type": "stream",
     "text": [
      "25/08/15 18:42:34 WARN MemoryManager: Total allocation exceeds 95.00% (1,020,054,720 bytes) of heap memory\n",
      "Scaling row group sizes to 95.00% for 8 writers\n"
     ]
    },
    {
     "name": "stdout",
     "output_type": "stream",
     "text": [
      "Processed batch: 1000 rows, Total: 868000 rows\n",
      "Processed batch: 1000 rows, Total: 869000 rows\n"
     ]
    },
    {
     "name": "stderr",
     "output_type": "stream",
     "text": [
      "25/08/15 18:42:38 WARN MemoryManager: Total allocation exceeds 95.00% (1,020,054,720 bytes) of heap memory\n",
      "Scaling row group sizes to 95.00% for 8 writers\n"
     ]
    },
    {
     "name": "stdout",
     "output_type": "stream",
     "text": [
      "Processed batch: 1000 rows, Total: 870000 rows\n",
      "Processed batch: 1000 rows, Total: 871000 rows\n",
      "Processed batch: 698 rows, Total: 871698 rows\n",
      "Processed batch: 802 rows, Total: 872500 rows\n",
      "Processed batch: 1000 rows, Total: 873500 rows\n",
      "Processed batch: 1000 rows, Total: 874500 rows\n",
      "Processed batch: 1000 rows, Total: 875500 rows\n",
      "Processed batch: 1000 rows, Total: 876500 rows\n",
      "Processed batch: 2000 rows, Total: 878500 rows\n",
      "Processed batch: 500 rows, Total: 879000 rows\n"
     ]
    },
    {
     "name": "stderr",
     "output_type": "stream",
     "text": [
      "25/08/15 18:42:58 WARN MemoryManager: Total allocation exceeds 95.00% (1,020,054,720 bytes) of heap memory\n",
      "Scaling row group sizes to 95.00% for 8 writers\n"
     ]
    },
    {
     "name": "stdout",
     "output_type": "stream",
     "text": [
      "Processed batch: 1000 rows, Total: 880000 rows\n",
      "Processed batch: 1000 rows, Total: 881000 rows\n",
      "Processed batch: 1000 rows, Total: 882000 rows\n",
      "Processed batch: 1000 rows, Total: 883000 rows\n",
      "Processed batch: 1000 rows, Total: 884000 rows\n",
      "Processed batch: 1000 rows, Total: 885000 rows\n",
      "Processed batch: 1000 rows, Total: 886000 rows\n",
      "Processed batch: 1000 rows, Total: 887000 rows\n",
      "Processed batch: 1000 rows, Total: 888000 rows\n",
      "Processed batch: 1000 rows, Total: 889000 rows\n"
     ]
    },
    {
     "name": "stderr",
     "output_type": "stream",
     "text": [
      "25/08/15 18:43:18 WARN MemoryManager: Total allocation exceeds 95.00% (1,020,054,720 bytes) of heap memory\n",
      "Scaling row group sizes to 95.00% for 8 writers\n",
      "25/08/15 18:43:18 WARN MemoryManager: Total allocation exceeds 95.00% (1,020,054,720 bytes) of heap memory\n",
      "Scaling row group sizes to 84.44% for 9 writers\n",
      "25/08/15 18:43:18 WARN MemoryManager: Total allocation exceeds 95.00% (1,020,054,720 bytes) of heap memory\n",
      "Scaling row group sizes to 76.00% for 10 writers\n",
      "25/08/15 18:43:18 WARN MemoryManager: Total allocation exceeds 95.00% (1,020,054,720 bytes) of heap memory\n",
      "Scaling row group sizes to 84.44% for 9 writers\n",
      "25/08/15 18:43:18 WARN MemoryManager: Total allocation exceeds 95.00% (1,020,054,720 bytes) of heap memory\n",
      "Scaling row group sizes to 95.00% for 8 writers\n",
      "25/08/15 18:43:18 WARN MemoryManager: Total allocation exceeds 95.00% (1,020,054,720 bytes) of heap memory\n",
      "Scaling row group sizes to 84.44% for 9 writers\n",
      "25/08/15 18:43:18 WARN MemoryManager: Total allocation exceeds 95.00% (1,020,054,720 bytes) of heap memory\n",
      "Scaling row group sizes to 95.00% for 8 writers\n"
     ]
    },
    {
     "name": "stdout",
     "output_type": "stream",
     "text": [
      "Processed batch: 1000 rows, Total: 890000 rows\n",
      "Processed batch: 1000 rows, Total: 891000 rows\n",
      "Processed batch: 1000 rows, Total: 892000 rows\n",
      "Processed batch: 1500 rows, Total: 893500 rows\n",
      "Processed batch: 1000 rows, Total: 894500 rows\n",
      "Processed batch: 1000 rows, Total: 895500 rows\n"
     ]
    },
    {
     "name": "stderr",
     "output_type": "stream",
     "text": [
      "25/08/15 18:43:30 WARN MemoryManager: Total allocation exceeds 95.00% (1,020,054,720 bytes) of heap memory\n",
      "Scaling row group sizes to 95.00% for 8 writers\n",
      "25/08/15 18:43:30 WARN MemoryManager: Total allocation exceeds 95.00% (1,020,054,720 bytes) of heap memory\n",
      "Scaling row group sizes to 95.00% for 8 writers\n"
     ]
    },
    {
     "name": "stdout",
     "output_type": "stream",
     "text": [
      "Processed batch: 1000 rows, Total: 896500 rows\n",
      "Processed batch: 1000 rows, Total: 897500 rows\n",
      "Processed batch: 1000 rows, Total: 898500 rows\n",
      "Processed batch: 1000 rows, Total: 899500 rows\n",
      "Processed batch: 1000 rows, Total: 900500 rows\n",
      "Processed batch: 1000 rows, Total: 901500 rows\n",
      "Processed batch: 1000 rows, Total: 902500 rows\n",
      "Processed batch: 1000 rows, Total: 903500 rows\n"
     ]
    },
    {
     "name": "stderr",
     "output_type": "stream",
     "text": [
      "25/08/15 18:43:46 WARN MemoryManager: Total allocation exceeds 95.00% (1,020,054,720 bytes) of heap memory\n",
      "Scaling row group sizes to 95.00% for 8 writers\n",
      "25/08/15 18:43:46 WARN MemoryManager: Total allocation exceeds 95.00% (1,020,054,720 bytes) of heap memory\n",
      "Scaling row group sizes to 84.44% for 9 writers\n",
      "25/08/15 18:43:46 WARN MemoryManager: Total allocation exceeds 95.00% (1,020,054,720 bytes) of heap memory\n",
      "Scaling row group sizes to 95.00% for 8 writers\n"
     ]
    },
    {
     "name": "stdout",
     "output_type": "stream",
     "text": [
      "Processed batch: 500 rows, Total: 904000 rows\n",
      "Processed batch: 1000 rows, Total: 905000 rows\n",
      "Processed batch: 1000 rows, Total: 906000 rows\n",
      "Processed batch: 1000 rows, Total: 907000 rows\n",
      "Processed batch: 1000 rows, Total: 908000 rows\n",
      "Processed batch: 1500 rows, Total: 909500 rows\n"
     ]
    },
    {
     "name": "stderr",
     "output_type": "stream",
     "text": [
      "25/08/15 18:43:58 WARN MemoryManager: Total allocation exceeds 95.00% (1,020,054,720 bytes) of heap memory\n",
      "Scaling row group sizes to 95.00% for 8 writers\n",
      "25/08/15 18:43:58 WARN MemoryManager: Total allocation exceeds 95.00% (1,020,054,720 bytes) of heap memory\n",
      "Scaling row group sizes to 95.00% for 8 writers\n",
      "25/08/15 18:43:58 WARN MemoryManager: Total allocation exceeds 95.00% (1,020,054,720 bytes) of heap memory\n",
      "Scaling row group sizes to 95.00% for 8 writers\n",
      "25/08/15 18:43:58 WARN MemoryManager: Total allocation exceeds 95.00% (1,020,054,720 bytes) of heap memory\n",
      "Scaling row group sizes to 95.00% for 8 writers\n"
     ]
    },
    {
     "name": "stdout",
     "output_type": "stream",
     "text": [
      "Processed batch: 1000 rows, Total: 910500 rows\n",
      "Processed batch: 1000 rows, Total: 911500 rows\n"
     ]
    },
    {
     "name": "stderr",
     "output_type": "stream",
     "text": [
      "25/08/15 18:44:02 WARN MemoryManager: Total allocation exceeds 95.00% (1,020,054,720 bytes) of heap memory\n",
      "Scaling row group sizes to 95.00% for 8 writers\n",
      "25/08/15 18:44:02 WARN MemoryManager: Total allocation exceeds 95.00% (1,020,054,720 bytes) of heap memory\n",
      "Scaling row group sizes to 84.44% for 9 writers\n",
      "25/08/15 18:44:02 WARN MemoryManager: Total allocation exceeds 95.00% (1,020,054,720 bytes) of heap memory\n",
      "Scaling row group sizes to 76.00% for 10 writers\n",
      "25/08/15 18:44:02 WARN MemoryManager: Total allocation exceeds 95.00% (1,020,054,720 bytes) of heap memory\n",
      "Scaling row group sizes to 84.44% for 9 writers\n",
      "25/08/15 18:44:02 WARN MemoryManager: Total allocation exceeds 95.00% (1,020,054,720 bytes) of heap memory\n",
      "Scaling row group sizes to 95.00% for 8 writers\n"
     ]
    },
    {
     "name": "stdout",
     "output_type": "stream",
     "text": [
      "Processed batch: 1000 rows, Total: 912500 rows\n",
      "Processed batch: 1000 rows, Total: 913500 rows\n",
      "Processed batch: 1000 rows, Total: 914500 rows\n",
      "Processed batch: 1000 rows, Total: 915500 rows\n"
     ]
    },
    {
     "name": "stderr",
     "output_type": "stream",
     "text": [
      "25/08/15 18:44:10 WARN MemoryManager: Total allocation exceeds 95.00% (1,020,054,720 bytes) of heap memory\n",
      "Scaling row group sizes to 95.00% for 8 writers\n",
      "25/08/15 18:44:10 WARN MemoryManager: Total allocation exceeds 95.00% (1,020,054,720 bytes) of heap memory\n",
      "Scaling row group sizes to 84.44% for 9 writers\n",
      "25/08/15 18:44:10 WARN MemoryManager: Total allocation exceeds 95.00% (1,020,054,720 bytes) of heap memory\n",
      "Scaling row group sizes to 95.00% for 8 writers\n",
      "25/08/15 18:44:10 WARN MemoryManager: Total allocation exceeds 95.00% (1,020,054,720 bytes) of heap memory\n",
      "Scaling row group sizes to 95.00% for 8 writers\n"
     ]
    },
    {
     "name": "stdout",
     "output_type": "stream",
     "text": [
      "Processed batch: 1000 rows, Total: 916500 rows\n",
      "Processed batch: 1000 rows, Total: 917500 rows\n"
     ]
    },
    {
     "name": "stderr",
     "output_type": "stream",
     "text": [
      "25/08/15 18:44:14 WARN MemoryManager: Total allocation exceeds 95.00% (1,020,054,720 bytes) of heap memory\n",
      "Scaling row group sizes to 95.00% for 8 writers\n"
     ]
    },
    {
     "name": "stdout",
     "output_type": "stream",
     "text": [
      "Processed batch: 1000 rows, Total: 918500 rows\n",
      "Processed batch: 1000 rows, Total: 919500 rows\n",
      "Processed batch: 1000 rows, Total: 920500 rows\n"
     ]
    },
    {
     "name": "stderr",
     "output_type": "stream",
     "text": [
      "25/08/15 18:44:20 WARN MemoryManager: Total allocation exceeds 95.00% (1,020,054,720 bytes) of heap memory\n",
      "Scaling row group sizes to 95.00% for 8 writers\n",
      "25/08/15 18:44:20 WARN MemoryManager: Total allocation exceeds 95.00% (1,020,054,720 bytes) of heap memory\n",
      "Scaling row group sizes to 95.00% for 8 writers\n",
      "25/08/15 18:44:20 WARN MemoryManager: Total allocation exceeds 95.00% (1,020,054,720 bytes) of heap memory\n",
      "Scaling row group sizes to 95.00% for 8 writers\n"
     ]
    },
    {
     "name": "stdout",
     "output_type": "stream",
     "text": [
      "Processed batch: 1000 rows, Total: 921500 rows\n",
      "Processed batch: 1000 rows, Total: 922500 rows\n",
      "Processed batch: 1000 rows, Total: 923500 rows\n",
      "Processed batch: 1000 rows, Total: 924500 rows\n",
      "Processed batch: 1500 rows, Total: 926000 rows\n"
     ]
    },
    {
     "name": "stderr",
     "output_type": "stream",
     "text": [
      "25/08/15 18:44:30 WARN MemoryManager: Total allocation exceeds 95.00% (1,020,054,720 bytes) of heap memory\n",
      "Scaling row group sizes to 95.00% for 8 writers\n",
      "25/08/15 18:44:30 WARN MemoryManager: Total allocation exceeds 95.00% (1,020,054,720 bytes) of heap memory\n",
      "Scaling row group sizes to 84.44% for 9 writers\n",
      "25/08/15 18:44:30 WARN MemoryManager: Total allocation exceeds 95.00% (1,020,054,720 bytes) of heap memory\n",
      "Scaling row group sizes to 76.00% for 10 writers\n",
      "25/08/15 18:44:30 WARN MemoryManager: Total allocation exceeds 95.00% (1,020,054,720 bytes) of heap memory\n",
      "Scaling row group sizes to 84.44% for 9 writers\n",
      "25/08/15 18:44:30 WARN MemoryManager: Total allocation exceeds 95.00% (1,020,054,720 bytes) of heap memory\n",
      "Scaling row group sizes to 95.00% for 8 writers\n",
      "25/08/15 18:44:30 WARN MemoryManager: Total allocation exceeds 95.00% (1,020,054,720 bytes) of heap memory\n",
      "Scaling row group sizes to 95.00% for 8 writers\n",
      "25/08/15 18:44:30 WARN MemoryManager: Total allocation exceeds 95.00% (1,020,054,720 bytes) of heap memory\n",
      "Scaling row group sizes to 84.44% for 9 writers\n",
      "25/08/15 18:44:30 WARN MemoryManager: Total allocation exceeds 95.00% (1,020,054,720 bytes) of heap memory\n",
      "Scaling row group sizes to 95.00% for 8 writers\n"
     ]
    },
    {
     "name": "stdout",
     "output_type": "stream",
     "text": [
      "Processed batch: 1000 rows, Total: 927000 rows\n",
      "Processed batch: 1000 rows, Total: 928000 rows\n",
      "Processed batch: 1000 rows, Total: 929000 rows\n",
      "Processed batch: 1000 rows, Total: 930000 rows\n",
      "Processed batch: 1000 rows, Total: 931000 rows\n",
      "Processed batch: 1000 rows, Total: 932000 rows\n",
      "Processed batch: 1000 rows, Total: 933000 rows\n",
      "Processed batch: 1000 rows, Total: 934000 rows\n",
      "Processed batch: 1000 rows, Total: 935000 rows\n",
      "Processed batch: 1000 rows, Total: 936000 rows\n",
      "Processed batch: 1000 rows, Total: 937000 rows\n",
      "Processed batch: 1000 rows, Total: 938000 rows\n",
      "Processed batch: 1000 rows, Total: 939000 rows\n",
      "Processed batch: 1000 rows, Total: 940000 rows\n"
     ]
    },
    {
     "name": "stderr",
     "output_type": "stream",
     "text": [
      "25/08/15 18:44:58 WARN MemoryManager: Total allocation exceeds 95.00% (1,020,054,720 bytes) of heap memory\n",
      "Scaling row group sizes to 95.00% for 8 writers\n",
      "25/08/15 18:44:58 WARN MemoryManager: Total allocation exceeds 95.00% (1,020,054,720 bytes) of heap memory\n",
      "Scaling row group sizes to 84.44% for 9 writers\n",
      "25/08/15 18:44:58 WARN MemoryManager: Total allocation exceeds 95.00% (1,020,054,720 bytes) of heap memory\n",
      "Scaling row group sizes to 95.00% for 8 writers\n",
      "25/08/15 18:44:58 WARN MemoryManager: Total allocation exceeds 95.00% (1,020,054,720 bytes) of heap memory\n",
      "Scaling row group sizes to 84.44% for 9 writers\n",
      "25/08/15 18:44:58 WARN MemoryManager: Total allocation exceeds 95.00% (1,020,054,720 bytes) of heap memory\n",
      "Scaling row group sizes to 76.00% for 10 writers\n",
      "25/08/15 18:44:58 WARN MemoryManager: Total allocation exceeds 95.00% (1,020,054,720 bytes) of heap memory\n",
      "Scaling row group sizes to 69.09% for 11 writers\n",
      "25/08/15 18:44:58 WARN MemoryManager: Total allocation exceeds 95.00% (1,020,054,720 bytes) of heap memory\n",
      "Scaling row group sizes to 76.00% for 10 writers\n",
      "25/08/15 18:44:58 WARN MemoryManager: Total allocation exceeds 95.00% (1,020,054,720 bytes) of heap memory\n",
      "Scaling row group sizes to 69.09% for 11 writers\n",
      "25/08/15 18:44:58 WARN MemoryManager: Total allocation exceeds 95.00% (1,020,054,720 bytes) of heap memory\n",
      "Scaling row group sizes to 63.33% for 12 writers\n",
      "25/08/15 18:44:58 WARN MemoryManager: Total allocation exceeds 95.00% (1,020,054,720 bytes) of heap memory\n",
      "Scaling row group sizes to 58.46% for 13 writers\n",
      "25/08/15 18:44:58 WARN MemoryManager: Total allocation exceeds 95.00% (1,020,054,720 bytes) of heap memory\n",
      "Scaling row group sizes to 63.33% for 12 writers\n",
      "25/08/15 18:44:58 WARN MemoryManager: Total allocation exceeds 95.00% (1,020,054,720 bytes) of heap memory\n",
      "Scaling row group sizes to 69.09% for 11 writers\n",
      "25/08/15 18:44:58 WARN MemoryManager: Total allocation exceeds 95.00% (1,020,054,720 bytes) of heap memory\n",
      "Scaling row group sizes to 76.00% for 10 writers\n",
      "25/08/15 18:44:58 WARN MemoryManager: Total allocation exceeds 95.00% (1,020,054,720 bytes) of heap memory\n",
      "Scaling row group sizes to 84.44% for 9 writers\n",
      "25/08/15 18:44:58 WARN MemoryManager: Total allocation exceeds 95.00% (1,020,054,720 bytes) of heap memory\n",
      "Scaling row group sizes to 95.00% for 8 writers\n"
     ]
    },
    {
     "name": "stdout",
     "output_type": "stream",
     "text": [
      "Processed batch: 1500 rows, Total: 941500 rows\n",
      "Processed batch: 1000 rows, Total: 942500 rows\n",
      "Processed batch: 1000 rows, Total: 943500 rows\n",
      "Processed batch: 1000 rows, Total: 944500 rows\n",
      "Processed batch: 1000 rows, Total: 945500 rows\n",
      "Processed batch: 500 rows, Total: 946000 rows\n",
      "Processed batch: 1000 rows, Total: 947000 rows\n",
      "Processed batch: 1000 rows, Total: 948000 rows\n",
      "Processed batch: 1000 rows, Total: 949000 rows\n",
      "Processed batch: 1000 rows, Total: 950000 rows\n"
     ]
    },
    {
     "name": "stderr",
     "output_type": "stream",
     "text": [
      "25/08/15 18:45:18 WARN MemoryManager: Total allocation exceeds 95.00% (1,020,054,720 bytes) of heap memory\n",
      "Scaling row group sizes to 95.00% for 8 writers\n"
     ]
    },
    {
     "name": "stdout",
     "output_type": "stream",
     "text": [
      "Processed batch: 1000 rows, Total: 951000 rows\n"
     ]
    },
    {
     "name": "stderr",
     "output_type": "stream",
     "text": [
      "25/08/15 18:45:20 WARN MemoryManager: Total allocation exceeds 95.00% (1,020,054,720 bytes) of heap memory\n",
      "Scaling row group sizes to 95.00% for 8 writers\n",
      "25/08/15 18:45:20 WARN MemoryManager: Total allocation exceeds 95.00% (1,020,054,720 bytes) of heap memory\n",
      "Scaling row group sizes to 95.00% for 8 writers\n",
      "25/08/15 18:45:20 WARN MemoryManager: Total allocation exceeds 95.00% (1,020,054,720 bytes) of heap memory\n",
      "Scaling row group sizes to 95.00% for 8 writers\n",
      "25/08/15 18:45:20 WARN MemoryManager: Total allocation exceeds 95.00% (1,020,054,720 bytes) of heap memory\n",
      "Scaling row group sizes to 84.44% for 9 writers\n",
      "25/08/15 18:45:20 WARN MemoryManager: Total allocation exceeds 95.00% (1,020,054,720 bytes) of heap memory\n",
      "Scaling row group sizes to 95.00% for 8 writers\n"
     ]
    },
    {
     "name": "stdout",
     "output_type": "stream",
     "text": [
      "Processed batch: 1000 rows, Total: 952000 rows\n",
      "Processed batch: 1000 rows, Total: 953000 rows\n",
      "Processed batch: 1000 rows, Total: 954000 rows\n",
      "Processed batch: 1000 rows, Total: 955000 rows\n",
      "Processed batch: 1000 rows, Total: 956000 rows\n",
      "Processed batch: 1500 rows, Total: 957500 rows\n"
     ]
    },
    {
     "name": "stderr",
     "output_type": "stream",
     "text": [
      "25/08/15 18:45:32 WARN MemoryManager: Total allocation exceeds 95.00% (1,020,054,720 bytes) of heap memory\n",
      "Scaling row group sizes to 95.00% for 8 writers\n"
     ]
    },
    {
     "name": "stdout",
     "output_type": "stream",
     "text": [
      "Processed batch: 1000 rows, Total: 958500 rows\n",
      "Processed batch: 1000 rows, Total: 959500 rows\n"
     ]
    },
    {
     "name": "stderr",
     "output_type": "stream",
     "text": [
      "25/08/15 18:45:36 WARN MemoryManager: Total allocation exceeds 95.00% (1,020,054,720 bytes) of heap memory\n",
      "Scaling row group sizes to 95.00% for 8 writers\n"
     ]
    },
    {
     "name": "stdout",
     "output_type": "stream",
     "text": [
      "Processed batch: 1000 rows, Total: 960500 rows\n"
     ]
    },
    {
     "name": "stderr",
     "output_type": "stream",
     "text": [
      "25/08/15 18:45:38 WARN MemoryManager: Total allocation exceeds 95.00% (1,020,054,720 bytes) of heap memory\n",
      "Scaling row group sizes to 95.00% for 8 writers\n"
     ]
    },
    {
     "name": "stdout",
     "output_type": "stream",
     "text": [
      "Processed batch: 1000 rows, Total: 961500 rows\n",
      "Processed batch: 1000 rows, Total: 962500 rows\n",
      "Processed batch: 1000 rows, Total: 963500 rows\n",
      "Processed batch: 1000 rows, Total: 964500 rows\n",
      "Processed batch: 1000 rows, Total: 965500 rows\n",
      "Processed batch: 1000 rows, Total: 966500 rows\n",
      "Processed batch: 1000 rows, Total: 967500 rows\n"
     ]
    },
    {
     "name": "stderr",
     "output_type": "stream",
     "text": [
      "25/08/15 18:45:52 WARN MemoryManager: Total allocation exceeds 95.00% (1,020,054,720 bytes) of heap memory\n",
      "Scaling row group sizes to 95.00% for 8 writers\n",
      "25/08/15 18:45:52 WARN MemoryManager: Total allocation exceeds 95.00% (1,020,054,720 bytes) of heap memory\n",
      "Scaling row group sizes to 84.44% for 9 writers\n",
      "25/08/15 18:45:52 WARN MemoryManager: Total allocation exceeds 95.00% (1,020,054,720 bytes) of heap memory\n",
      "Scaling row group sizes to 95.00% for 8 writers\n",
      "25/08/15 18:45:52 WARN MemoryManager: Total allocation exceeds 95.00% (1,020,054,720 bytes) of heap memory\n",
      "Scaling row group sizes to 84.44% for 9 writers\n",
      "25/08/15 18:45:52 WARN MemoryManager: Total allocation exceeds 95.00% (1,020,054,720 bytes) of heap memory\n",
      "Scaling row group sizes to 95.00% for 8 writers\n",
      "25/08/15 18:45:52 WARN MemoryManager: Total allocation exceeds 95.00% (1,020,054,720 bytes) of heap memory\n",
      "Scaling row group sizes to 84.44% for 9 writers\n",
      "25/08/15 18:45:52 WARN MemoryManager: Total allocation exceeds 95.00% (1,020,054,720 bytes) of heap memory\n",
      "Scaling row group sizes to 76.00% for 10 writers\n",
      "25/08/15 18:45:52 WARN MemoryManager: Total allocation exceeds 95.00% (1,020,054,720 bytes) of heap memory\n",
      "Scaling row group sizes to 69.09% for 11 writers\n",
      "25/08/15 18:45:52 WARN MemoryManager: Total allocation exceeds 95.00% (1,020,054,720 bytes) of heap memory\n",
      "Scaling row group sizes to 76.00% for 10 writers\n",
      "25/08/15 18:45:52 WARN MemoryManager: Total allocation exceeds 95.00% (1,020,054,720 bytes) of heap memory\n",
      "Scaling row group sizes to 69.09% for 11 writers\n",
      "25/08/15 18:45:52 WARN MemoryManager: Total allocation exceeds 95.00% (1,020,054,720 bytes) of heap memory\n",
      "Scaling row group sizes to 63.33% for 12 writers\n",
      "25/08/15 18:45:52 WARN MemoryManager: Total allocation exceeds 95.00% (1,020,054,720 bytes) of heap memory\n",
      "Scaling row group sizes to 58.46% for 13 writers\n",
      "25/08/15 18:45:52 WARN MemoryManager: Total allocation exceeds 95.00% (1,020,054,720 bytes) of heap memory\n",
      "Scaling row group sizes to 63.33% for 12 writers\n",
      "25/08/15 18:45:52 WARN MemoryManager: Total allocation exceeds 95.00% (1,020,054,720 bytes) of heap memory\n",
      "Scaling row group sizes to 69.09% for 11 writers\n",
      "25/08/15 18:45:52 WARN MemoryManager: Total allocation exceeds 95.00% (1,020,054,720 bytes) of heap memory\n",
      "Scaling row group sizes to 76.00% for 10 writers\n",
      "25/08/15 18:45:52 WARN MemoryManager: Total allocation exceeds 95.00% (1,020,054,720 bytes) of heap memory\n",
      "Scaling row group sizes to 84.44% for 9 writers\n",
      "25/08/15 18:45:52 WARN MemoryManager: Total allocation exceeds 95.00% (1,020,054,720 bytes) of heap memory\n",
      "Scaling row group sizes to 95.00% for 8 writers\n"
     ]
    },
    {
     "name": "stdout",
     "output_type": "stream",
     "text": [
      "Processed batch: 1000 rows, Total: 968500 rows\n",
      "Processed batch: 1000 rows, Total: 969500 rows\n",
      "Processed batch: 1000 rows, Total: 970500 rows\n",
      "Processed batch: 1000 rows, Total: 971500 rows\n",
      "Processed batch: 1500 rows, Total: 973000 rows\n",
      "Processed batch: 1000 rows, Total: 974000 rows\n",
      "Processed batch: 1000 rows, Total: 975000 rows\n",
      "Processed batch: 1000 rows, Total: 976000 rows\n",
      "Processed batch: 1000 rows, Total: 977000 rows\n",
      "Processed batch: 1000 rows, Total: 978000 rows\n",
      "Processed batch: 1000 rows, Total: 979000 rows\n",
      "Processed batch: 1000 rows, Total: 980000 rows\n"
     ]
    },
    {
     "name": "stderr",
     "output_type": "stream",
     "text": [
      "25/08/15 18:46:16 WARN MemoryManager: Total allocation exceeds 95.00% (1,020,054,720 bytes) of heap memory\n",
      "Scaling row group sizes to 95.00% for 8 writers\n",
      "25/08/15 18:46:16 WARN MemoryManager: Total allocation exceeds 95.00% (1,020,054,720 bytes) of heap memory\n",
      "Scaling row group sizes to 84.44% for 9 writers\n",
      "25/08/15 18:46:16 WARN MemoryManager: Total allocation exceeds 95.00% (1,020,054,720 bytes) of heap memory\n",
      "Scaling row group sizes to 95.00% for 8 writers\n",
      "25/08/15 18:46:16 WARN MemoryManager: Total allocation exceeds 95.00% (1,020,054,720 bytes) of heap memory\n",
      "Scaling row group sizes to 95.00% for 8 writers\n",
      "25/08/15 18:46:16 WARN MemoryManager: Total allocation exceeds 95.00% (1,020,054,720 bytes) of heap memory\n",
      "Scaling row group sizes to 95.00% for 8 writers\n",
      "25/08/15 18:46:16 WARN MemoryManager: Total allocation exceeds 95.00% (1,020,054,720 bytes) of heap memory\n",
      "Scaling row group sizes to 95.00% for 8 writers\n",
      "25/08/15 18:46:16 WARN MemoryManager: Total allocation exceeds 95.00% (1,020,054,720 bytes) of heap memory\n",
      "Scaling row group sizes to 84.44% for 9 writers\n",
      "25/08/15 18:46:16 WARN MemoryManager: Total allocation exceeds 95.00% (1,020,054,720 bytes) of heap memory\n",
      "Scaling row group sizes to 76.00% for 10 writers\n",
      "25/08/15 18:46:16 WARN MemoryManager: Total allocation exceeds 95.00% (1,020,054,720 bytes) of heap memory\n",
      "Scaling row group sizes to 69.09% for 11 writers\n",
      "25/08/15 18:46:16 WARN MemoryManager: Total allocation exceeds 95.00% (1,020,054,720 bytes) of heap memory\n",
      "Scaling row group sizes to 76.00% for 10 writers\n",
      "25/08/15 18:46:16 WARN MemoryManager: Total allocation exceeds 95.00% (1,020,054,720 bytes) of heap memory\n",
      "Scaling row group sizes to 84.44% for 9 writers\n",
      "25/08/15 18:46:16 WARN MemoryManager: Total allocation exceeds 95.00% (1,020,054,720 bytes) of heap memory\n",
      "Scaling row group sizes to 95.00% for 8 writers\n"
     ]
    },
    {
     "name": "stdout",
     "output_type": "stream",
     "text": [
      "Processed batch: 1000 rows, Total: 981000 rows\n",
      "Processed batch: 1000 rows, Total: 982000 rows\n"
     ]
    },
    {
     "name": "stderr",
     "output_type": "stream",
     "text": [
      "25/08/15 18:46:20 WARN MemoryManager: Total allocation exceeds 95.00% (1,020,054,720 bytes) of heap memory\n",
      "Scaling row group sizes to 95.00% for 8 writers\n"
     ]
    },
    {
     "name": "stdout",
     "output_type": "stream",
     "text": [
      "Processed batch: 1000 rows, Total: 983000 rows\n",
      "Processed batch: 1000 rows, Total: 984000 rows\n",
      "Processed batch: 1000 rows, Total: 985000 rows\n",
      "Processed batch: 1000 rows, Total: 986000 rows\n",
      "Processed batch: 1000 rows, Total: 987000 rows\n"
     ]
    },
    {
     "name": "stderr",
     "output_type": "stream",
     "text": [
      "25/08/15 18:46:30 WARN MemoryManager: Total allocation exceeds 95.00% (1,020,054,720 bytes) of heap memory\n",
      "Scaling row group sizes to 95.00% for 8 writers\n",
      "25/08/15 18:46:30 WARN MemoryManager: Total allocation exceeds 95.00% (1,020,054,720 bytes) of heap memory\n",
      "Scaling row group sizes to 95.00% for 8 writers\n",
      "25/08/15 18:46:30 WARN MemoryManager: Total allocation exceeds 95.00% (1,020,054,720 bytes) of heap memory\n",
      "Scaling row group sizes to 95.00% for 8 writers\n"
     ]
    },
    {
     "name": "stdout",
     "output_type": "stream",
     "text": [
      "Processed batch: 500 rows, Total: 987500 rows\n",
      "Processed batch: 2000 rows, Total: 989500 rows\n"
     ]
    },
    {
     "name": "stderr",
     "output_type": "stream",
     "text": [
      "25/08/15 18:46:34 WARN MemoryManager: Total allocation exceeds 95.00% (1,020,054,720 bytes) of heap memory\n",
      "Scaling row group sizes to 95.00% for 8 writers\n",
      "25/08/15 18:46:34 WARN MemoryManager: Total allocation exceeds 95.00% (1,020,054,720 bytes) of heap memory\n",
      "Scaling row group sizes to 84.44% for 9 writers\n",
      "25/08/15 18:46:34 WARN MemoryManager: Total allocation exceeds 95.00% (1,020,054,720 bytes) of heap memory\n",
      "Scaling row group sizes to 95.00% for 8 writers\n",
      "25/08/15 18:46:34 WARN MemoryManager: Total allocation exceeds 95.00% (1,020,054,720 bytes) of heap memory\n",
      "Scaling row group sizes to 95.00% for 8 writers\n",
      "25/08/15 18:46:34 WARN MemoryManager: Total allocation exceeds 95.00% (1,020,054,720 bytes) of heap memory\n",
      "Scaling row group sizes to 84.44% for 9 writers\n",
      "25/08/15 18:46:34 WARN MemoryManager: Total allocation exceeds 95.00% (1,020,054,720 bytes) of heap memory\n",
      "Scaling row group sizes to 76.00% for 10 writers\n",
      "25/08/15 18:46:34 WARN MemoryManager: Total allocation exceeds 95.00% (1,020,054,720 bytes) of heap memory\n",
      "Scaling row group sizes to 84.44% for 9 writers\n",
      "25/08/15 18:46:34 WARN MemoryManager: Total allocation exceeds 95.00% (1,020,054,720 bytes) of heap memory\n",
      "Scaling row group sizes to 95.00% for 8 writers\n"
     ]
    },
    {
     "name": "stdout",
     "output_type": "stream",
     "text": [
      "Processed batch: 1000 rows, Total: 990500 rows\n",
      "Processed batch: 500 rows, Total: 991000 rows\n",
      "Processed batch: 1000 rows, Total: 992000 rows\n",
      "Processed batch: 1000 rows, Total: 993000 rows\n",
      "Processed batch: 1000 rows, Total: 994000 rows\n",
      "Processed batch: 1000 rows, Total: 995000 rows\n",
      "Processed batch: 1000 rows, Total: 996000 rows\n"
     ]
    },
    {
     "name": "stderr",
     "output_type": "stream",
     "text": [
      "25/08/15 18:46:48 WARN MemoryManager: Total allocation exceeds 95.00% (1,020,054,720 bytes) of heap memory\n",
      "Scaling row group sizes to 95.00% for 8 writers\n"
     ]
    },
    {
     "name": "stdout",
     "output_type": "stream",
     "text": [
      "Processed batch: 1000 rows, Total: 997000 rows\n",
      "Processed batch: 1000 rows, Total: 998000 rows\n",
      "Processed batch: 1000 rows, Total: 999000 rows\n",
      "Processed batch: 1000 rows, Total: 1000000 rows\n",
      "Processed batch: 1000 rows, Total: 1001000 rows\n"
     ]
    },
    {
     "name": "stderr",
     "output_type": "stream",
     "text": [
      "25/08/15 18:46:58 WARN MemoryManager: Total allocation exceeds 95.00% (1,020,054,720 bytes) of heap memory\n",
      "Scaling row group sizes to 95.00% for 8 writers\n"
     ]
    },
    {
     "name": "stdout",
     "output_type": "stream",
     "text": [
      "Processed batch: 1000 rows, Total: 1002000 rows\n",
      "Processed batch: 1000 rows, Total: 1003000 rows\n"
     ]
    },
    {
     "name": "stderr",
     "output_type": "stream",
     "text": [
      "25/08/15 18:47:02 WARN MemoryManager: Total allocation exceeds 95.00% (1,020,054,720 bytes) of heap memory\n",
      "Scaling row group sizes to 95.00% for 8 writers\n"
     ]
    },
    {
     "name": "stdout",
     "output_type": "stream",
     "text": [
      "Processed batch: 1500 rows, Total: 1004500 rows\n",
      "Processed batch: 1000 rows, Total: 1005500 rows\n",
      "Processed batch: 1000 rows, Total: 1006500 rows\n",
      "Processed batch: 1000 rows, Total: 1007500 rows\n",
      "Processed batch: 1000 rows, Total: 1008500 rows\n",
      "Processed batch: 1000 rows, Total: 1009500 rows\n",
      "Processed batch: 1000 rows, Total: 1010500 rows\n"
     ]
    },
    {
     "name": "stderr",
     "output_type": "stream",
     "text": [
      "25/08/15 18:47:16 WARN MemoryManager: Total allocation exceeds 95.00% (1,020,054,720 bytes) of heap memory\n",
      "Scaling row group sizes to 95.00% for 8 writers\n"
     ]
    },
    {
     "name": "stdout",
     "output_type": "stream",
     "text": [
      "Processed batch: 1000 rows, Total: 1011500 rows\n",
      "Processed batch: 1000 rows, Total: 1012500 rows\n",
      "Processed batch: 1000 rows, Total: 1013500 rows\n",
      "Processed batch: 1000 rows, Total: 1014500 rows\n",
      "Processed batch: 1000 rows, Total: 1015500 rows\n",
      "Processed batch: 1000 rows, Total: 1016500 rows\n"
     ]
    },
    {
     "name": "stderr",
     "output_type": "stream",
     "text": [
      "25/08/15 18:47:28 WARN MemoryManager: Total allocation exceeds 95.00% (1,020,054,720 bytes) of heap memory\n",
      "Scaling row group sizes to 95.00% for 8 writers\n",
      "25/08/15 18:47:28 WARN MemoryManager: Total allocation exceeds 95.00% (1,020,054,720 bytes) of heap memory\n",
      "Scaling row group sizes to 84.44% for 9 writers\n",
      "25/08/15 18:47:28 WARN MemoryManager: Total allocation exceeds 95.00% (1,020,054,720 bytes) of heap memory\n",
      "Scaling row group sizes to 95.00% for 8 writers\n"
     ]
    },
    {
     "name": "stdout",
     "output_type": "stream",
     "text": [
      "Processed batch: 1000 rows, Total: 1017500 rows\n",
      "Processed batch: 1000 rows, Total: 1018500 rows\n",
      "Processed batch: 1000 rows, Total: 1019500 rows\n",
      "Processed batch: 1500 rows, Total: 1021000 rows\n",
      "Processed batch: 1000 rows, Total: 1022000 rows\n",
      "Processed batch: 854 rows, Total: 1022854 rows\n"
     ]
    },
    {
     "name": "stderr",
     "output_type": "stream",
     "text": [
      "25/08/15 18:47:40 WARN MemoryManager: Total allocation exceeds 95.00% (1,020,054,720 bytes) of heap memory\n",
      "Scaling row group sizes to 95.00% for 8 writers\n",
      "25/08/15 18:47:40 WARN MemoryManager: Total allocation exceeds 95.00% (1,020,054,720 bytes) of heap memory\n",
      "Scaling row group sizes to 84.44% for 9 writers\n",
      "25/08/15 18:47:40 WARN MemoryManager: Total allocation exceeds 95.00% (1,020,054,720 bytes) of heap memory\n",
      "Scaling row group sizes to 95.00% for 8 writers\n",
      "25/08/15 18:47:40 WARN MemoryManager: Total allocation exceeds 95.00% (1,020,054,720 bytes) of heap memory\n",
      "Scaling row group sizes to 95.00% for 8 writers\n"
     ]
    },
    {
     "name": "stdout",
     "output_type": "stream",
     "text": [
      "Processed batch: 646 rows, Total: 1023500 rows\n",
      "Processed batch: 1000 rows, Total: 1024500 rows\n",
      "Processed batch: 1000 rows, Total: 1025500 rows\n",
      "Processed batch: 1000 rows, Total: 1026500 rows\n",
      "Processed batch: 1000 rows, Total: 1027500 rows\n",
      "Processed batch: 1000 rows, Total: 1028500 rows\n",
      "Processed batch: 1000 rows, Total: 1029500 rows\n",
      "Processed batch: 1000 rows, Total: 1030500 rows\n"
     ]
    },
    {
     "name": "stderr",
     "output_type": "stream",
     "text": [
      "25/08/15 18:47:56 WARN MemoryManager: Total allocation exceeds 95.00% (1,020,054,720 bytes) of heap memory\n",
      "Scaling row group sizes to 95.00% for 8 writers\n"
     ]
    },
    {
     "name": "stdout",
     "output_type": "stream",
     "text": [
      "Processed batch: 1000 rows, Total: 1031500 rows\n",
      "Processed batch: 1000 rows, Total: 1032500 rows\n",
      "Processed batch: 1000 rows, Total: 1033500 rows\n",
      "Processed batch: 1000 rows, Total: 1034500 rows\n"
     ]
    },
    {
     "name": "stderr",
     "output_type": "stream",
     "text": [
      "25/08/15 18:48:04 WARN MemoryManager: Total allocation exceeds 95.00% (1,020,054,720 bytes) of heap memory\n",
      "Scaling row group sizes to 95.00% for 8 writers\n",
      "25/08/15 18:48:04 WARN MemoryManager: Total allocation exceeds 95.00% (1,020,054,720 bytes) of heap memory\n",
      "Scaling row group sizes to 95.00% for 8 writers\n",
      "25/08/15 18:48:04 WARN MemoryManager: Total allocation exceeds 95.00% (1,020,054,720 bytes) of heap memory\n",
      "Scaling row group sizes to 84.44% for 9 writers\n",
      "25/08/15 18:48:04 WARN MemoryManager: Total allocation exceeds 95.00% (1,020,054,720 bytes) of heap memory\n",
      "Scaling row group sizes to 76.00% for 10 writers\n",
      "25/08/15 18:48:04 WARN MemoryManager: Total allocation exceeds 95.00% (1,020,054,720 bytes) of heap memory\n",
      "Scaling row group sizes to 84.44% for 9 writers\n",
      "25/08/15 18:48:04 WARN MemoryManager: Total allocation exceeds 95.00% (1,020,054,720 bytes) of heap memory\n",
      "Scaling row group sizes to 76.00% for 10 writers\n",
      "25/08/15 18:48:04 WARN MemoryManager: Total allocation exceeds 95.00% (1,020,054,720 bytes) of heap memory\n",
      "Scaling row group sizes to 84.44% for 9 writers\n",
      "25/08/15 18:48:04 WARN MemoryManager: Total allocation exceeds 95.00% (1,020,054,720 bytes) of heap memory\n",
      "Scaling row group sizes to 95.00% for 8 writers\n"
     ]
    },
    {
     "name": "stdout",
     "output_type": "stream",
     "text": [
      "Processed batch: 1500 rows, Total: 1036000 rows\n",
      "Processed batch: 1000 rows, Total: 1037000 rows\n",
      "Processed batch: 1000 rows, Total: 1038000 rows\n",
      "Processed batch: 1000 rows, Total: 1039000 rows\n",
      "Processed batch: 1000 rows, Total: 1040000 rows\n",
      "Processed batch: 1000 rows, Total: 1041000 rows\n"
     ]
    },
    {
     "name": "stderr",
     "output_type": "stream",
     "text": [
      "25/08/15 18:48:16 WARN MemoryManager: Total allocation exceeds 95.00% (1,020,054,720 bytes) of heap memory\n",
      "Scaling row group sizes to 95.00% for 8 writers\n"
     ]
    },
    {
     "name": "stdout",
     "output_type": "stream",
     "text": [
      "Processed batch: 1000 rows, Total: 1042000 rows\n",
      "Processed batch: 1000 rows, Total: 1043000 rows\n",
      "Processed batch: 1000 rows, Total: 1044000 rows\n"
     ]
    },
    {
     "name": "stderr",
     "output_type": "stream",
     "text": [
      "25/08/15 18:48:22 WARN MemoryManager: Total allocation exceeds 95.00% (1,020,054,720 bytes) of heap memory\n",
      "Scaling row group sizes to 95.00% for 8 writers\n"
     ]
    },
    {
     "name": "stdout",
     "output_type": "stream",
     "text": [
      "Processed batch: 1000 rows, Total: 1045000 rows\n",
      "Processed batch: 1000 rows, Total: 1046000 rows\n",
      "Processed batch: 1000 rows, Total: 1047000 rows\n",
      "Processed batch: 1000 rows, Total: 1048000 rows\n",
      "Processed batch: 1000 rows, Total: 1049000 rows\n",
      "Processed batch: 1000 rows, Total: 1050000 rows\n",
      "Processed batch: 1000 rows, Total: 1051000 rows\n",
      "Processed batch: 1500 rows, Total: 1052500 rows\n",
      "Processed batch: 1000 rows, Total: 1053500 rows\n"
     ]
    },
    {
     "name": "stderr",
     "output_type": "stream",
     "text": [
      "25/08/15 18:48:40 WARN MemoryManager: Total allocation exceeds 95.00% (1,020,054,720 bytes) of heap memory\n",
      "Scaling row group sizes to 95.00% for 8 writers\n",
      "25/08/15 18:48:40 WARN MemoryManager: Total allocation exceeds 95.00% (1,020,054,720 bytes) of heap memory\n",
      "Scaling row group sizes to 95.00% for 8 writers\n"
     ]
    },
    {
     "name": "stdout",
     "output_type": "stream",
     "text": [
      "Processed batch: 1000 rows, Total: 1054500 rows\n"
     ]
    },
    {
     "name": "stderr",
     "output_type": "stream",
     "text": [
      "25/08/15 18:48:42 WARN MemoryManager: Total allocation exceeds 95.00% (1,020,054,720 bytes) of heap memory\n",
      "Scaling row group sizes to 95.00% for 8 writers\n"
     ]
    },
    {
     "name": "stdout",
     "output_type": "stream",
     "text": [
      "Processed batch: 1000 rows, Total: 1055500 rows\n",
      "Processed batch: 1000 rows, Total: 1056500 rows\n",
      "Processed batch: 1000 rows, Total: 1057500 rows\n",
      "Processed batch: 1000 rows, Total: 1058500 rows\n",
      "Processed batch: 1000 rows, Total: 1059500 rows\n",
      "Processed batch: 500 rows, Total: 1060000 rows\n",
      "Processed batch: 1000 rows, Total: 1061000 rows\n",
      "Processed batch: 1000 rows, Total: 1062000 rows\n",
      "Processed batch: 1000 rows, Total: 1063000 rows\n",
      "Processed batch: 1000 rows, Total: 1064000 rows\n",
      "Processed batch: 1000 rows, Total: 1065000 rows\n",
      "Processed batch: 1000 rows, Total: 1066000 rows\n",
      "Processed batch: 1806 rows, Total: 1067806 rows\n",
      "Processed batch: 694 rows, Total: 1068500 rows\n",
      "Processed batch: 1000 rows, Total: 1069500 rows\n",
      "Processed batch: 1000 rows, Total: 1070500 rows\n",
      "Processed batch: 1000 rows, Total: 1071500 rows\n"
     ]
    },
    {
     "name": "stderr",
     "output_type": "stream",
     "text": [
      "25/08/15 18:49:16 WARN MemoryManager: Total allocation exceeds 95.00% (1,020,054,720 bytes) of heap memory\n",
      "Scaling row group sizes to 95.00% for 8 writers\n"
     ]
    },
    {
     "name": "stdout",
     "output_type": "stream",
     "text": [
      "Processed batch: 1000 rows, Total: 1072500 rows\n",
      "Processed batch: 1000 rows, Total: 1073500 rows\n",
      "Processed batch: 1000 rows, Total: 1074500 rows\n",
      "Processed batch: 1000 rows, Total: 1075500 rows\n",
      "Processed batch: 1000 rows, Total: 1076500 rows\n",
      "Processed batch: 1000 rows, Total: 1077500 rows\n",
      "Processed batch: 1000 rows, Total: 1078500 rows\n"
     ]
    },
    {
     "name": "stderr",
     "output_type": "stream",
     "text": [
      "25/08/15 18:49:30 WARN MemoryManager: Total allocation exceeds 95.00% (1,020,054,720 bytes) of heap memory\n",
      "Scaling row group sizes to 95.00% for 8 writers\n",
      "25/08/15 18:49:30 WARN MemoryManager: Total allocation exceeds 95.00% (1,020,054,720 bytes) of heap memory\n",
      "Scaling row group sizes to 95.00% for 8 writers\n",
      "25/08/15 18:49:30 WARN MemoryManager: Total allocation exceeds 95.00% (1,020,054,720 bytes) of heap memory\n",
      "Scaling row group sizes to 95.00% for 8 writers\n",
      "25/08/15 18:49:30 WARN MemoryManager: Total allocation exceeds 95.00% (1,020,054,720 bytes) of heap memory\n",
      "Scaling row group sizes to 84.44% for 9 writers\n",
      "25/08/15 18:49:30 WARN MemoryManager: Total allocation exceeds 95.00% (1,020,054,720 bytes) of heap memory\n",
      "Scaling row group sizes to 95.00% for 8 writers\n",
      "25/08/15 18:49:30 WARN MemoryManager: Total allocation exceeds 95.00% (1,020,054,720 bytes) of heap memory\n",
      "Scaling row group sizes to 84.44% for 9 writers\n",
      "25/08/15 18:49:30 WARN MemoryManager: Total allocation exceeds 95.00% (1,020,054,720 bytes) of heap memory\n",
      "Scaling row group sizes to 95.00% for 8 writers\n"
     ]
    },
    {
     "name": "stdout",
     "output_type": "stream",
     "text": [
      "Processed batch: 1000 rows, Total: 1079500 rows\n",
      "Processed batch: 1000 rows, Total: 1080500 rows\n",
      "Processed batch: 1000 rows, Total: 1081500 rows\n",
      "Processed batch: 1000 rows, Total: 1082500 rows\n",
      "Processed batch: 1500 rows, Total: 1084000 rows\n",
      "Processed batch: 1000 rows, Total: 1085000 rows\n",
      "Processed batch: 1000 rows, Total: 1086000 rows\n",
      "Processed batch: 1000 rows, Total: 1087000 rows\n",
      "Processed batch: 1000 rows, Total: 1088000 rows\n"
     ]
    },
    {
     "name": "stderr",
     "output_type": "stream",
     "text": [
      "25/08/15 18:49:48 WARN MemoryManager: Total allocation exceeds 95.00% (1,020,054,720 bytes) of heap memory\n",
      "Scaling row group sizes to 95.00% for 8 writers\n",
      "25/08/15 18:49:48 WARN MemoryManager: Total allocation exceeds 95.00% (1,020,054,720 bytes) of heap memory\n",
      "Scaling row group sizes to 84.44% for 9 writers\n",
      "25/08/15 18:49:48 WARN MemoryManager: Total allocation exceeds 95.00% (1,020,054,720 bytes) of heap memory\n",
      "Scaling row group sizes to 95.00% for 8 writers\n"
     ]
    },
    {
     "name": "stdout",
     "output_type": "stream",
     "text": [
      "Processed batch: 1000 rows, Total: 1089000 rows\n",
      "Processed batch: 1000 rows, Total: 1090000 rows\n"
     ]
    },
    {
     "name": "stderr",
     "output_type": "stream",
     "text": [
      "25/08/15 18:49:52 WARN MemoryManager: Total allocation exceeds 95.00% (1,020,054,720 bytes) of heap memory\n",
      "Scaling row group sizes to 95.00% for 8 writers\n",
      "25/08/15 18:49:52 WARN MemoryManager: Total allocation exceeds 95.00% (1,020,054,720 bytes) of heap memory\n",
      "Scaling row group sizes to 84.44% for 9 writers\n",
      "25/08/15 18:49:52 WARN MemoryManager: Total allocation exceeds 95.00% (1,020,054,720 bytes) of heap memory\n",
      "Scaling row group sizes to 95.00% for 8 writers\n"
     ]
    },
    {
     "name": "stdout",
     "output_type": "stream",
     "text": [
      "Processed batch: 1000 rows, Total: 1091000 rows\n",
      "Processed batch: 1000 rows, Total: 1092000 rows\n",
      "Processed batch: 1000 rows, Total: 1093000 rows\n",
      "Processed batch: 1000 rows, Total: 1094000 rows\n",
      "Processed batch: 1000 rows, Total: 1095000 rows\n",
      "Processed batch: 1000 rows, Total: 1096000 rows\n",
      "Processed batch: 1000 rows, Total: 1097000 rows\n",
      "Processed batch: 1000 rows, Total: 1098000 rows\n"
     ]
    },
    {
     "name": "stderr",
     "output_type": "stream",
     "text": [
      "25/08/15 18:50:08 WARN MemoryManager: Total allocation exceeds 95.00% (1,020,054,720 bytes) of heap memory\n",
      "Scaling row group sizes to 95.00% for 8 writers\n"
     ]
    },
    {
     "name": "stdout",
     "output_type": "stream",
     "text": [
      "Processed batch: 1500 rows, Total: 1099500 rows\n"
     ]
    },
    {
     "name": "stderr",
     "output_type": "stream",
     "text": [
      "25/08/15 18:50:10 WARN MemoryManager: Total allocation exceeds 95.00% (1,020,054,720 bytes) of heap memory\n",
      "Scaling row group sizes to 95.00% for 8 writers\n",
      "25/08/15 18:50:10 WARN MemoryManager: Total allocation exceeds 95.00% (1,020,054,720 bytes) of heap memory\n",
      "Scaling row group sizes to 84.44% for 9 writers\n",
      "25/08/15 18:50:10 WARN MemoryManager: Total allocation exceeds 95.00% (1,020,054,720 bytes) of heap memory\n",
      "Scaling row group sizes to 95.00% for 8 writers\n"
     ]
    },
    {
     "name": "stdout",
     "output_type": "stream",
     "text": [
      "Processed batch: 1000 rows, Total: 1100500 rows\n"
     ]
    },
    {
     "name": "stderr",
     "output_type": "stream",
     "text": [
      "25/08/15 18:50:12 WARN MemoryManager: Total allocation exceeds 95.00% (1,020,054,720 bytes) of heap memory\n",
      "Scaling row group sizes to 95.00% for 8 writers\n",
      "25/08/15 18:50:12 WARN MemoryManager: Total allocation exceeds 95.00% (1,020,054,720 bytes) of heap memory\n",
      "Scaling row group sizes to 95.00% for 8 writers\n",
      "25/08/15 18:50:12 WARN MemoryManager: Total allocation exceeds 95.00% (1,020,054,720 bytes) of heap memory\n",
      "Scaling row group sizes to 84.44% for 9 writers\n",
      "25/08/15 18:50:12 WARN MemoryManager: Total allocation exceeds 95.00% (1,020,054,720 bytes) of heap memory\n",
      "Scaling row group sizes to 95.00% for 8 writers\n"
     ]
    },
    {
     "name": "stdout",
     "output_type": "stream",
     "text": [
      "Processed batch: 1000 rows, Total: 1101500 rows\n",
      "Processed batch: 1000 rows, Total: 1102500 rows\n",
      "Processed batch: 1000 rows, Total: 1103500 rows\n",
      "Processed batch: 1000 rows, Total: 1104500 rows\n",
      "Processed batch: 1000 rows, Total: 1105500 rows\n",
      "Processed batch: 1000 rows, Total: 1106500 rows\n",
      "Processed batch: 1000 rows, Total: 1107500 rows\n",
      "Processed batch: 1000 rows, Total: 1108500 rows\n",
      "Processed batch: 1000 rows, Total: 1109500 rows\n",
      "Processed batch: 1000 rows, Total: 1110500 rows\n"
     ]
    },
    {
     "name": "stderr",
     "output_type": "stream",
     "text": [
      "25/08/15 18:50:32 WARN MemoryManager: Total allocation exceeds 95.00% (1,020,054,720 bytes) of heap memory\n",
      "Scaling row group sizes to 95.00% for 8 writers\n",
      "25/08/15 18:50:32 WARN MemoryManager: Total allocation exceeds 95.00% (1,020,054,720 bytes) of heap memory\n",
      "Scaling row group sizes to 84.44% for 9 writers\n",
      "25/08/15 18:50:32 WARN MemoryManager: Total allocation exceeds 95.00% (1,020,054,720 bytes) of heap memory\n",
      "Scaling row group sizes to 76.00% for 10 writers\n",
      "25/08/15 18:50:32 WARN MemoryManager: Total allocation exceeds 95.00% (1,020,054,720 bytes) of heap memory\n",
      "Scaling row group sizes to 69.09% for 11 writers\n",
      "25/08/15 18:50:32 WARN MemoryManager: Total allocation exceeds 95.00% (1,020,054,720 bytes) of heap memory\n",
      "Scaling row group sizes to 63.33% for 12 writers\n",
      "25/08/15 18:50:32 WARN MemoryManager: Total allocation exceeds 95.00% (1,020,054,720 bytes) of heap memory\n",
      "Scaling row group sizes to 58.46% for 13 writers\n",
      "25/08/15 18:50:32 WARN MemoryManager: Total allocation exceeds 95.00% (1,020,054,720 bytes) of heap memory\n",
      "Scaling row group sizes to 54.29% for 14 writers\n",
      "25/08/15 18:50:32 WARN MemoryManager: Total allocation exceeds 95.00% (1,020,054,720 bytes) of heap memory\n",
      "Scaling row group sizes to 58.46% for 13 writers\n",
      "25/08/15 18:50:32 WARN MemoryManager: Total allocation exceeds 95.00% (1,020,054,720 bytes) of heap memory\n",
      "Scaling row group sizes to 63.33% for 12 writers\n",
      "25/08/15 18:50:32 WARN MemoryManager: Total allocation exceeds 95.00% (1,020,054,720 bytes) of heap memory\n",
      "Scaling row group sizes to 69.09% for 11 writers\n",
      "25/08/15 18:50:32 WARN MemoryManager: Total allocation exceeds 95.00% (1,020,054,720 bytes) of heap memory\n",
      "Scaling row group sizes to 76.00% for 10 writers\n",
      "25/08/15 18:50:32 WARN MemoryManager: Total allocation exceeds 95.00% (1,020,054,720 bytes) of heap memory\n",
      "Scaling row group sizes to 69.09% for 11 writers\n",
      "25/08/15 18:50:32 WARN MemoryManager: Total allocation exceeds 95.00% (1,020,054,720 bytes) of heap memory\n",
      "Scaling row group sizes to 76.00% for 10 writers\n",
      "25/08/15 18:50:32 WARN MemoryManager: Total allocation exceeds 95.00% (1,020,054,720 bytes) of heap memory\n",
      "Scaling row group sizes to 84.44% for 9 writers\n",
      "25/08/15 18:50:32 WARN MemoryManager: Total allocation exceeds 95.00% (1,020,054,720 bytes) of heap memory\n",
      "Scaling row group sizes to 95.00% for 8 writers\n"
     ]
    },
    {
     "name": "stdout",
     "output_type": "stream",
     "text": [
      "Processed batch: 1000 rows, Total: 1111500 rows\n",
      "Processed batch: 500 rows, Total: 1112000 rows\n",
      "Processed batch: 1000 rows, Total: 1113000 rows\n",
      "Processed batch: 1000 rows, Total: 1114000 rows\n",
      "Processed batch: 2000 rows, Total: 1116000 rows\n",
      "Processed batch: 1000 rows, Total: 1117000 rows\n",
      "Processed batch: 1000 rows, Total: 1118000 rows\n",
      "Processed batch: 500 rows, Total: 1118500 rows\n",
      "Processed batch: 1000 rows, Total: 1119500 rows\n",
      "Processed batch: 1000 rows, Total: 1120500 rows\n",
      "Processed batch: 1000 rows, Total: 1121500 rows\n",
      "Processed batch: 1000 rows, Total: 1122500 rows\n",
      "Processed batch: 1000 rows, Total: 1123500 rows\n",
      "Processed batch: 1000 rows, Total: 1124500 rows\n",
      "Processed batch: 1000 rows, Total: 1125500 rows\n",
      "Processed batch: 1000 rows, Total: 1126500 rows\n"
     ]
    },
    {
     "name": "stderr",
     "output_type": "stream",
     "text": [
      "25/08/15 18:51:04 WARN MemoryManager: Total allocation exceeds 95.00% (1,020,054,720 bytes) of heap memory\n",
      "Scaling row group sizes to 95.00% for 8 writers\n"
     ]
    },
    {
     "name": "stdout",
     "output_type": "stream",
     "text": [
      "Processed batch: 1000 rows, Total: 1127500 rows\n",
      "Processed batch: 1000 rows, Total: 1128500 rows\n"
     ]
    },
    {
     "name": "stderr",
     "output_type": "stream",
     "text": [
      "25/08/15 18:51:08 WARN MemoryManager: Total allocation exceeds 95.00% (1,020,054,720 bytes) of heap memory\n",
      "Scaling row group sizes to 95.00% for 8 writers\n",
      "25/08/15 18:51:08 WARN MemoryManager: Total allocation exceeds 95.00% (1,020,054,720 bytes) of heap memory\n",
      "Scaling row group sizes to 84.44% for 9 writers\n",
      "25/08/15 18:51:08 WARN MemoryManager: Total allocation exceeds 95.00% (1,020,054,720 bytes) of heap memory\n",
      "Scaling row group sizes to 95.00% for 8 writers\n"
     ]
    },
    {
     "name": "stdout",
     "output_type": "stream",
     "text": [
      "Processed batch: 1000 rows, Total: 1129500 rows\n",
      "Processed batch: 1000 rows, Total: 1130500 rows\n",
      "Processed batch: 1500 rows, Total: 1132000 rows\n",
      "Processed batch: 1000 rows, Total: 1133000 rows\n",
      "Processed batch: 1000 rows, Total: 1134000 rows\n",
      "Processed batch: 1000 rows, Total: 1135000 rows\n",
      "Processed batch: 1000 rows, Total: 1136000 rows\n",
      "Processed batch: 1000 rows, Total: 1137000 rows\n",
      "Processed batch: 1000 rows, Total: 1138000 rows\n",
      "Processed batch: 1000 rows, Total: 1139000 rows\n"
     ]
    },
    {
     "name": "stderr",
     "output_type": "stream",
     "text": [
      "25/08/15 18:51:28 WARN MemoryManager: Total allocation exceeds 95.00% (1,020,054,720 bytes) of heap memory\n",
      "Scaling row group sizes to 95.00% for 8 writers\n",
      "25/08/15 18:51:28 WARN MemoryManager: Total allocation exceeds 95.00% (1,020,054,720 bytes) of heap memory\n",
      "Scaling row group sizes to 95.00% for 8 writers\n"
     ]
    },
    {
     "name": "stdout",
     "output_type": "stream",
     "text": [
      "Processed batch: 1000 rows, Total: 1140000 rows\n",
      "Processed batch: 1000 rows, Total: 1141000 rows\n",
      "Processed batch: 1000 rows, Total: 1142000 rows\n",
      "Processed batch: 1000 rows, Total: 1143000 rows\n",
      "Processed batch: 1000 rows, Total: 1144000 rows\n",
      "Processed batch: 1000 rows, Total: 1145000 rows\n"
     ]
    },
    {
     "name": "stderr",
     "output_type": "stream",
     "text": [
      "25/08/15 18:51:40 WARN MemoryManager: Total allocation exceeds 95.00% (1,020,054,720 bytes) of heap memory\n",
      "Scaling row group sizes to 95.00% for 8 writers\n",
      "25/08/15 18:51:40 WARN MemoryManager: Total allocation exceeds 95.00% (1,020,054,720 bytes) of heap memory\n",
      "Scaling row group sizes to 95.00% for 8 writers\n"
     ]
    },
    {
     "name": "stdout",
     "output_type": "stream",
     "text": [
      "Processed batch: 1000 rows, Total: 1146000 rows\n",
      "Processed batch: 1500 rows, Total: 1147500 rows\n"
     ]
    },
    {
     "name": "stderr",
     "output_type": "stream",
     "text": [
      "25/08/15 18:51:44 WARN MemoryManager: Total allocation exceeds 95.00% (1,020,054,720 bytes) of heap memory\n",
      "Scaling row group sizes to 95.00% for 8 writers\n",
      "25/08/15 18:51:44 WARN MemoryManager: Total allocation exceeds 95.00% (1,020,054,720 bytes) of heap memory\n",
      "Scaling row group sizes to 84.44% for 9 writers\n",
      "25/08/15 18:51:44 WARN MemoryManager: Total allocation exceeds 95.00% (1,020,054,720 bytes) of heap memory\n",
      "Scaling row group sizes to 95.00% for 8 writers\n"
     ]
    },
    {
     "name": "stdout",
     "output_type": "stream",
     "text": [
      "Processed batch: 1000 rows, Total: 1148500 rows\n",
      "Processed batch: 1000 rows, Total: 1149500 rows\n",
      "Processed batch: 1000 rows, Total: 1150500 rows\n",
      "Processed batch: 1000 rows, Total: 1151500 rows\n",
      "Processed batch: 1000 rows, Total: 1152500 rows\n",
      "Processed batch: 1000 rows, Total: 1153500 rows\n",
      "Processed batch: 1000 rows, Total: 1154500 rows\n",
      "Processed batch: 1000 rows, Total: 1155500 rows\n",
      "Processed batch: 1000 rows, Total: 1156500 rows\n",
      "Processed batch: 1000 rows, Total: 1157500 rows\n"
     ]
    },
    {
     "name": "stderr",
     "output_type": "stream",
     "text": [
      "25/08/15 18:52:04 WARN MemoryManager: Total allocation exceeds 95.00% (1,020,054,720 bytes) of heap memory\n",
      "Scaling row group sizes to 95.00% for 8 writers\n",
      "25/08/15 18:52:04 WARN MemoryManager: Total allocation exceeds 95.00% (1,020,054,720 bytes) of heap memory\n",
      "Scaling row group sizes to 84.44% for 9 writers\n",
      "25/08/15 18:52:04 WARN MemoryManager: Total allocation exceeds 95.00% (1,020,054,720 bytes) of heap memory\n",
      "Scaling row group sizes to 76.00% for 10 writers\n",
      "25/08/15 18:52:04 WARN MemoryManager: Total allocation exceeds 95.00% (1,020,054,720 bytes) of heap memory\n",
      "Scaling row group sizes to 69.09% for 11 writers\n",
      "25/08/15 18:52:04 WARN MemoryManager: Total allocation exceeds 95.00% (1,020,054,720 bytes) of heap memory\n",
      "Scaling row group sizes to 76.00% for 10 writers\n",
      "25/08/15 18:52:04 WARN MemoryManager: Total allocation exceeds 95.00% (1,020,054,720 bytes) of heap memory\n",
      "Scaling row group sizes to 84.44% for 9 writers\n",
      "25/08/15 18:52:04 WARN MemoryManager: Total allocation exceeds 95.00% (1,020,054,720 bytes) of heap memory\n",
      "Scaling row group sizes to 95.00% for 8 writers\n",
      "25/08/15 18:52:04 WARN MemoryManager: Total allocation exceeds 95.00% (1,020,054,720 bytes) of heap memory\n",
      "Scaling row group sizes to 84.44% for 9 writers\n",
      "25/08/15 18:52:04 WARN MemoryManager: Total allocation exceeds 95.00% (1,020,054,720 bytes) of heap memory\n",
      "Scaling row group sizes to 95.00% for 8 writers\n",
      "25/08/15 18:52:04 WARN MemoryManager: Total allocation exceeds 95.00% (1,020,054,720 bytes) of heap memory\n",
      "Scaling row group sizes to 95.00% for 8 writers\n"
     ]
    },
    {
     "name": "stdout",
     "output_type": "stream",
     "text": [
      "Processed batch: 1000 rows, Total: 1158500 rows\n"
     ]
    },
    {
     "name": "stderr",
     "output_type": "stream",
     "text": [
      "25/08/15 18:52:06 WARN MemoryManager: Total allocation exceeds 95.00% (1,020,054,720 bytes) of heap memory\n",
      "Scaling row group sizes to 95.00% for 8 writers\n",
      "25/08/15 18:52:06 WARN MemoryManager: Total allocation exceeds 95.00% (1,020,054,720 bytes) of heap memory\n",
      "Scaling row group sizes to 84.44% for 9 writers\n",
      "25/08/15 18:52:06 WARN MemoryManager: Total allocation exceeds 95.00% (1,020,054,720 bytes) of heap memory\n",
      "Scaling row group sizes to 95.00% for 8 writers\n"
     ]
    },
    {
     "name": "stdout",
     "output_type": "stream",
     "text": [
      "Processed batch: 500 rows, Total: 1159000 rows\n",
      "Processed batch: 1000 rows, Total: 1160000 rows\n",
      "Processed batch: 1000 rows, Total: 1161000 rows\n"
     ]
    },
    {
     "name": "stderr",
     "output_type": "stream",
     "text": [
      "25/08/15 18:52:12 WARN MemoryManager: Total allocation exceeds 95.00% (1,020,054,720 bytes) of heap memory\n",
      "Scaling row group sizes to 95.00% for 8 writers\n",
      "25/08/15 18:52:12 WARN MemoryManager: Total allocation exceeds 95.00% (1,020,054,720 bytes) of heap memory\n",
      "Scaling row group sizes to 84.44% for 9 writers\n",
      "25/08/15 18:52:12 WARN MemoryManager: Total allocation exceeds 95.00% (1,020,054,720 bytes) of heap memory\n",
      "Scaling row group sizes to 76.00% for 10 writers\n",
      "25/08/15 18:52:12 WARN MemoryManager: Total allocation exceeds 95.00% (1,020,054,720 bytes) of heap memory\n",
      "Scaling row group sizes to 69.09% for 11 writers\n",
      "25/08/15 18:52:12 WARN MemoryManager: Total allocation exceeds 95.00% (1,020,054,720 bytes) of heap memory\n",
      "Scaling row group sizes to 76.00% for 10 writers\n",
      "25/08/15 18:52:12 WARN MemoryManager: Total allocation exceeds 95.00% (1,020,054,720 bytes) of heap memory\n",
      "Scaling row group sizes to 84.44% for 9 writers\n",
      "25/08/15 18:52:12 WARN MemoryManager: Total allocation exceeds 95.00% (1,020,054,720 bytes) of heap memory\n",
      "Scaling row group sizes to 95.00% for 8 writers\n"
     ]
    },
    {
     "name": "stdout",
     "output_type": "stream",
     "text": [
      "Processed batch: 1000 rows, Total: 1162000 rows\n",
      "Processed batch: 2000 rows, Total: 1164000 rows\n",
      "Processed batch: 1000 rows, Total: 1165000 rows\n",
      "Processed batch: 500 rows, Total: 1165500 rows\n",
      "Processed batch: 1000 rows, Total: 1166500 rows\n",
      "Processed batch: 1000 rows, Total: 1167500 rows\n",
      "Processed batch: 1000 rows, Total: 1168500 rows\n",
      "Processed batch: 1000 rows, Total: 1169500 rows\n"
     ]
    },
    {
     "name": "stderr",
     "output_type": "stream",
     "text": [
      "25/08/15 18:52:28 WARN MemoryManager: Total allocation exceeds 95.00% (1,020,054,720 bytes) of heap memory\n",
      "Scaling row group sizes to 95.00% for 8 writers\n",
      "25/08/15 18:52:28 WARN MemoryManager: Total allocation exceeds 95.00% (1,020,054,720 bytes) of heap memory\n",
      "Scaling row group sizes to 84.44% for 9 writers\n",
      "25/08/15 18:52:28 WARN MemoryManager: Total allocation exceeds 95.00% (1,020,054,720 bytes) of heap memory\n",
      "Scaling row group sizes to 76.00% for 10 writers\n",
      "25/08/15 18:52:28 WARN MemoryManager: Total allocation exceeds 95.00% (1,020,054,720 bytes) of heap memory\n",
      "Scaling row group sizes to 69.09% for 11 writers\n",
      "25/08/15 18:52:28 WARN MemoryManager: Total allocation exceeds 95.00% (1,020,054,720 bytes) of heap memory\n",
      "Scaling row group sizes to 76.00% for 10 writers\n",
      "25/08/15 18:52:28 WARN MemoryManager: Total allocation exceeds 95.00% (1,020,054,720 bytes) of heap memory\n",
      "Scaling row group sizes to 84.44% for 9 writers\n",
      "25/08/15 18:52:28 WARN MemoryManager: Total allocation exceeds 95.00% (1,020,054,720 bytes) of heap memory\n",
      "Scaling row group sizes to 95.00% for 8 writers\n",
      "25/08/15 18:52:28 WARN MemoryManager: Total allocation exceeds 95.00% (1,020,054,720 bytes) of heap memory\n",
      "Scaling row group sizes to 84.44% for 9 writers\n",
      "25/08/15 18:52:28 WARN MemoryManager: Total allocation exceeds 95.00% (1,020,054,720 bytes) of heap memory\n",
      "Scaling row group sizes to 95.00% for 8 writers\n",
      "25/08/15 18:52:28 WARN MemoryManager: Total allocation exceeds 95.00% (1,020,054,720 bytes) of heap memory\n",
      "Scaling row group sizes to 84.44% for 9 writers\n",
      "25/08/15 18:52:28 WARN MemoryManager: Total allocation exceeds 95.00% (1,020,054,720 bytes) of heap memory\n",
      "Scaling row group sizes to 95.00% for 8 writers\n"
     ]
    },
    {
     "name": "stdout",
     "output_type": "stream",
     "text": [
      "Processed batch: 1000 rows, Total: 1170500 rows\n",
      "Processed batch: 1000 rows, Total: 1171500 rows\n",
      "Processed batch: 1000 rows, Total: 1172500 rows\n",
      "Processed batch: 1000 rows, Total: 1173500 rows\n",
      "Processed batch: 1000 rows, Total: 1174500 rows\n",
      "Processed batch: 1000 rows, Total: 1175500 rows\n",
      "Processed batch: 1000 rows, Total: 1176500 rows\n",
      "Processed batch: 1000 rows, Total: 1177500 rows\n",
      "Processed batch: 1500 rows, Total: 1179000 rows\n",
      "Processed batch: 1000 rows, Total: 1180000 rows\n"
     ]
    },
    {
     "name": "stderr",
     "output_type": "stream",
     "text": [
      "25/08/15 18:52:48 WARN MemoryManager: Total allocation exceeds 95.00% (1,020,054,720 bytes) of heap memory\n",
      "Scaling row group sizes to 95.00% for 8 writers\n",
      "25/08/15 18:52:48 WARN MemoryManager: Total allocation exceeds 95.00% (1,020,054,720 bytes) of heap memory\n",
      "Scaling row group sizes to 95.00% for 8 writers\n",
      "25/08/15 18:52:48 WARN MemoryManager: Total allocation exceeds 95.00% (1,020,054,720 bytes) of heap memory\n",
      "Scaling row group sizes to 95.00% for 8 writers\n"
     ]
    },
    {
     "name": "stdout",
     "output_type": "stream",
     "text": [
      "Processed batch: 1000 rows, Total: 1181000 rows\n",
      "Processed batch: 1000 rows, Total: 1182000 rows\n",
      "Processed batch: 1000 rows, Total: 1183000 rows\n",
      "Processed batch: 1000 rows, Total: 1184000 rows\n",
      "Processed batch: 1000 rows, Total: 1185000 rows\n",
      "Processed batch: 1000 rows, Total: 1186000 rows\n",
      "Processed batch: 1000 rows, Total: 1187000 rows\n",
      "Processed batch: 1000 rows, Total: 1188000 rows\n",
      "Processed batch: 1000 rows, Total: 1189000 rows\n",
      "Processed batch: 1000 rows, Total: 1190000 rows\n",
      "Processed batch: 1000 rows, Total: 1191000 rows\n",
      "Processed batch: 1000 rows, Total: 1192000 rows\n"
     ]
    },
    {
     "name": "stderr",
     "output_type": "stream",
     "text": [
      "25/08/15 18:53:12 WARN MemoryManager: Total allocation exceeds 95.00% (1,020,054,720 bytes) of heap memory\n",
      "Scaling row group sizes to 95.00% for 8 writers\n"
     ]
    },
    {
     "name": "stdout",
     "output_type": "stream",
     "text": [
      "Processed batch: 1000 rows, Total: 1193000 rows\n",
      "Processed batch: 1000 rows, Total: 1194000 rows\n",
      "Processed batch: 1500 rows, Total: 1195500 rows\n",
      "Processed batch: 1000 rows, Total: 1196500 rows\n"
     ]
    },
    {
     "name": "stderr",
     "output_type": "stream",
     "text": [
      "25/08/15 18:53:20 WARN MemoryManager: Total allocation exceeds 95.00% (1,020,054,720 bytes) of heap memory\n",
      "Scaling row group sizes to 95.00% for 8 writers\n",
      "25/08/15 18:53:20 WARN MemoryManager: Total allocation exceeds 95.00% (1,020,054,720 bytes) of heap memory\n",
      "Scaling row group sizes to 84.44% for 9 writers\n",
      "25/08/15 18:53:20 WARN MemoryManager: Total allocation exceeds 95.00% (1,020,054,720 bytes) of heap memory\n",
      "Scaling row group sizes to 76.00% for 10 writers\n",
      "25/08/15 18:53:20 WARN MemoryManager: Total allocation exceeds 95.00% (1,020,054,720 bytes) of heap memory\n",
      "Scaling row group sizes to 69.09% for 11 writers\n",
      "25/08/15 18:53:20 WARN MemoryManager: Total allocation exceeds 95.00% (1,020,054,720 bytes) of heap memory\n",
      "Scaling row group sizes to 63.33% for 12 writers\n",
      "25/08/15 18:53:20 WARN MemoryManager: Total allocation exceeds 95.00% (1,020,054,720 bytes) of heap memory\n",
      "Scaling row group sizes to 58.46% for 13 writers\n",
      "25/08/15 18:53:20 WARN MemoryManager: Total allocation exceeds 95.00% (1,020,054,720 bytes) of heap memory\n",
      "Scaling row group sizes to 54.29% for 14 writers\n",
      "25/08/15 18:53:20 WARN MemoryManager: Total allocation exceeds 95.00% (1,020,054,720 bytes) of heap memory\n",
      "Scaling row group sizes to 58.46% for 13 writers\n",
      "25/08/15 18:53:20 WARN MemoryManager: Total allocation exceeds 95.00% (1,020,054,720 bytes) of heap memory\n",
      "Scaling row group sizes to 63.33% for 12 writers\n",
      "25/08/15 18:53:20 WARN MemoryManager: Total allocation exceeds 95.00% (1,020,054,720 bytes) of heap memory\n",
      "Scaling row group sizes to 69.09% for 11 writers\n",
      "25/08/15 18:53:20 WARN MemoryManager: Total allocation exceeds 95.00% (1,020,054,720 bytes) of heap memory\n",
      "Scaling row group sizes to 76.00% for 10 writers\n",
      "25/08/15 18:53:20 WARN MemoryManager: Total allocation exceeds 95.00% (1,020,054,720 bytes) of heap memory\n",
      "Scaling row group sizes to 84.44% for 9 writers\n",
      "25/08/15 18:53:20 WARN MemoryManager: Total allocation exceeds 95.00% (1,020,054,720 bytes) of heap memory\n",
      "Scaling row group sizes to 95.00% for 8 writers\n"
     ]
    },
    {
     "name": "stdout",
     "output_type": "stream",
     "text": [
      "Processed batch: 1000 rows, Total: 1197500 rows\n",
      "Processed batch: 1000 rows, Total: 1198500 rows\n"
     ]
    },
    {
     "name": "stderr",
     "output_type": "stream",
     "text": [
      "25/08/15 18:53:24 WARN MemoryManager: Total allocation exceeds 95.00% (1,020,054,720 bytes) of heap memory\n",
      "Scaling row group sizes to 95.00% for 8 writers\n",
      "25/08/15 18:53:24 WARN MemoryManager: Total allocation exceeds 95.00% (1,020,054,720 bytes) of heap memory\n",
      "Scaling row group sizes to 84.44% for 9 writers\n",
      "25/08/15 18:53:24 WARN MemoryManager: Total allocation exceeds 95.00% (1,020,054,720 bytes) of heap memory\n",
      "Scaling row group sizes to 95.00% for 8 writers\n",
      "25/08/15 18:53:24 WARN MemoryManager: Total allocation exceeds 95.00% (1,020,054,720 bytes) of heap memory\n",
      "Scaling row group sizes to 84.44% for 9 writers\n",
      "25/08/15 18:53:24 WARN MemoryManager: Total allocation exceeds 95.00% (1,020,054,720 bytes) of heap memory\n",
      "Scaling row group sizes to 76.00% for 10 writers\n",
      "25/08/15 18:53:24 WARN MemoryManager: Total allocation exceeds 95.00% (1,020,054,720 bytes) of heap memory\n",
      "Scaling row group sizes to 84.44% for 9 writers\n",
      "25/08/15 18:53:24 WARN MemoryManager: Total allocation exceeds 95.00% (1,020,054,720 bytes) of heap memory\n",
      "Scaling row group sizes to 95.00% for 8 writers\n",
      "25/08/15 18:53:24 WARN MemoryManager: Total allocation exceeds 95.00% (1,020,054,720 bytes) of heap memory\n",
      "Scaling row group sizes to 84.44% for 9 writers\n",
      "25/08/15 18:53:24 WARN MemoryManager: Total allocation exceeds 95.00% (1,020,054,720 bytes) of heap memory\n",
      "Scaling row group sizes to 95.00% for 8 writers\n"
     ]
    },
    {
     "name": "stdout",
     "output_type": "stream",
     "text": [
      "Processed batch: 1000 rows, Total: 1199500 rows\n",
      "Processed batch: 1000 rows, Total: 1200500 rows\n",
      "Processed batch: 1000 rows, Total: 1201500 rows\n"
     ]
    },
    {
     "name": "stderr",
     "output_type": "stream",
     "text": [
      "25/08/15 18:53:30 WARN MemoryManager: Total allocation exceeds 95.00% (1,020,054,720 bytes) of heap memory\n",
      "Scaling row group sizes to 95.00% for 8 writers\n"
     ]
    },
    {
     "name": "stdout",
     "output_type": "stream",
     "text": [
      "Processed batch: 1000 rows, Total: 1202500 rows\n",
      "Processed batch: 1000 rows, Total: 1203500 rows\n",
      "Processed batch: 1000 rows, Total: 1204500 rows\n",
      "Processed batch: 1000 rows, Total: 1205500 rows\n",
      "Processed batch: 1000 rows, Total: 1206500 rows\n",
      "Processed batch: 1000 rows, Total: 1207500 rows\n",
      "Processed batch: 1000 rows, Total: 1208500 rows\n",
      "Processed batch: 1000 rows, Total: 1209500 rows\n",
      "Processed batch: 1500 rows, Total: 1211000 rows\n",
      "Processed batch: 1000 rows, Total: 1212000 rows\n",
      "Processed batch: 1000 rows, Total: 1213000 rows\n",
      "Processed batch: 1000 rows, Total: 1214000 rows\n",
      "Processed batch: 1000 rows, Total: 1215000 rows\n"
     ]
    },
    {
     "name": "stderr",
     "output_type": "stream",
     "text": [
      "25/08/15 18:53:56 WARN MemoryManager: Total allocation exceeds 95.00% (1,020,054,720 bytes) of heap memory\n",
      "Scaling row group sizes to 95.00% for 8 writers\n"
     ]
    },
    {
     "name": "stdout",
     "output_type": "stream",
     "text": [
      "Processed batch: 1000 rows, Total: 1216000 rows\n",
      "Processed batch: 1000 rows, Total: 1217000 rows\n",
      "Processed batch: 500 rows, Total: 1217500 rows\n",
      "Processed batch: 1000 rows, Total: 1218500 rows\n"
     ]
    },
    {
     "name": "stderr",
     "output_type": "stream",
     "text": [
      "25/08/15 18:54:04 WARN MemoryManager: Total allocation exceeds 95.00% (1,020,054,720 bytes) of heap memory\n",
      "Scaling row group sizes to 95.00% for 8 writers\n"
     ]
    },
    {
     "name": "stdout",
     "output_type": "stream",
     "text": [
      "Processed batch: 1000 rows, Total: 1219500 rows\n",
      "Processed batch: 1000 rows, Total: 1220500 rows\n",
      "Processed batch: 1000 rows, Total: 1221500 rows\n",
      "Processed batch: 1000 rows, Total: 1222500 rows\n",
      "Processed batch: 1000 rows, Total: 1223500 rows\n",
      "Processed batch: 1000 rows, Total: 1224500 rows\n",
      "Processed batch: 1000 rows, Total: 1225500 rows\n",
      "Processed batch: 1500 rows, Total: 1227000 rows\n",
      "Processed batch: 1000 rows, Total: 1228000 rows\n",
      "Processed batch: 1000 rows, Total: 1229000 rows\n",
      "Processed batch: 1000 rows, Total: 1230000 rows\n",
      "Processed batch: 1000 rows, Total: 1231000 rows\n"
     ]
    },
    {
     "name": "stderr",
     "output_type": "stream",
     "text": [
      "25/08/15 18:54:28 WARN MemoryManager: Total allocation exceeds 95.00% (1,020,054,720 bytes) of heap memory\n",
      "Scaling row group sizes to 95.00% for 8 writers\n",
      "25/08/15 18:54:28 WARN MemoryManager: Total allocation exceeds 95.00% (1,020,054,720 bytes) of heap memory\n",
      "Scaling row group sizes to 84.44% for 9 writers\n",
      "25/08/15 18:54:28 WARN MemoryManager: Total allocation exceeds 95.00% (1,020,054,720 bytes) of heap memory\n",
      "Scaling row group sizes to 76.00% for 10 writers\n",
      "25/08/15 18:54:28 WARN MemoryManager: Total allocation exceeds 95.00% (1,020,054,720 bytes) of heap memory\n",
      "Scaling row group sizes to 69.09% for 11 writers\n",
      "25/08/15 18:54:28 WARN MemoryManager: Total allocation exceeds 95.00% (1,020,054,720 bytes) of heap memory\n",
      "Scaling row group sizes to 63.33% for 12 writers\n",
      "25/08/15 18:54:28 WARN MemoryManager: Total allocation exceeds 95.00% (1,020,054,720 bytes) of heap memory\n",
      "Scaling row group sizes to 69.09% for 11 writers\n",
      "25/08/15 18:54:28 WARN MemoryManager: Total allocation exceeds 95.00% (1,020,054,720 bytes) of heap memory\n",
      "Scaling row group sizes to 76.00% for 10 writers\n",
      "25/08/15 18:54:28 WARN MemoryManager: Total allocation exceeds 95.00% (1,020,054,720 bytes) of heap memory\n",
      "Scaling row group sizes to 69.09% for 11 writers\n",
      "25/08/15 18:54:28 WARN MemoryManager: Total allocation exceeds 95.00% (1,020,054,720 bytes) of heap memory\n",
      "Scaling row group sizes to 76.00% for 10 writers\n",
      "25/08/15 18:54:28 WARN MemoryManager: Total allocation exceeds 95.00% (1,020,054,720 bytes) of heap memory\n",
      "Scaling row group sizes to 84.44% for 9 writers\n",
      "25/08/15 18:54:28 WARN MemoryManager: Total allocation exceeds 95.00% (1,020,054,720 bytes) of heap memory\n",
      "Scaling row group sizes to 95.00% for 8 writers\n"
     ]
    },
    {
     "name": "stdout",
     "output_type": "stream",
     "text": [
      "Processed batch: 1000 rows, Total: 1232000 rows\n",
      "Processed batch: 1000 rows, Total: 1233000 rows\n",
      "Processed batch: 1000 rows, Total: 1234000 rows\n",
      "Processed batch: 1000 rows, Total: 1235000 rows\n",
      "Processed batch: 1000 rows, Total: 1236000 rows\n",
      "Processed batch: 1000 rows, Total: 1237000 rows\n",
      "Processed batch: 1000 rows, Total: 1238000 rows\n",
      "Processed batch: 1000 rows, Total: 1239000 rows\n",
      "Processed batch: 1000 rows, Total: 1240000 rows\n"
     ]
    },
    {
     "name": "stderr",
     "output_type": "stream",
     "text": [
      "25/08/15 18:54:46 WARN MemoryManager: Total allocation exceeds 95.00% (1,020,054,720 bytes) of heap memory\n",
      "Scaling row group sizes to 95.00% for 8 writers\n",
      "25/08/15 18:54:46 WARN MemoryManager: Total allocation exceeds 95.00% (1,020,054,720 bytes) of heap memory\n",
      "Scaling row group sizes to 84.44% for 9 writers\n",
      "25/08/15 18:54:46 WARN MemoryManager: Total allocation exceeds 95.00% (1,020,054,720 bytes) of heap memory\n",
      "Scaling row group sizes to 95.00% for 8 writers\n",
      "25/08/15 18:54:46 WARN MemoryManager: Total allocation exceeds 95.00% (1,020,054,720 bytes) of heap memory\n",
      "Scaling row group sizes to 95.00% for 8 writers\n"
     ]
    },
    {
     "name": "stdout",
     "output_type": "stream",
     "text": [
      "Processed batch: 1000 rows, Total: 1241000 rows\n"
     ]
    },
    {
     "name": "stderr",
     "output_type": "stream",
     "text": [
      "25/08/15 18:54:48 WARN MemoryManager: Total allocation exceeds 95.00% (1,020,054,720 bytes) of heap memory\n",
      "Scaling row group sizes to 95.00% for 8 writers\n"
     ]
    },
    {
     "name": "stdout",
     "output_type": "stream",
     "text": [
      "Processed batch: 1500 rows, Total: 1242500 rows\n",
      "Processed batch: 1000 rows, Total: 1243500 rows\n",
      "Processed batch: 1000 rows, Total: 1244500 rows\n",
      "Processed batch: 1000 rows, Total: 1245500 rows\n",
      "Processed batch: 1000 rows, Total: 1246500 rows\n",
      "Processed batch: 1000 rows, Total: 1247500 rows\n",
      "Processed batch: 1000 rows, Total: 1248500 rows\n",
      "Processed batch: 1000 rows, Total: 1249500 rows\n",
      "Processed batch: 1000 rows, Total: 1250500 rows\n",
      "Processed batch: 1000 rows, Total: 1251500 rows\n",
      "Processed batch: 1000 rows, Total: 1252500 rows\n"
     ]
    },
    {
     "name": "stderr",
     "output_type": "stream",
     "text": [
      "25/08/15 18:55:10 WARN MemoryManager: Total allocation exceeds 95.00% (1,020,054,720 bytes) of heap memory\n",
      "Scaling row group sizes to 95.00% for 8 writers\n"
     ]
    },
    {
     "name": "stdout",
     "output_type": "stream",
     "text": [
      "Processed batch: 1000 rows, Total: 1253500 rows\n",
      "Processed batch: 1000 rows, Total: 1254500 rows\n",
      "Processed batch: 1000 rows, Total: 1255500 rows\n",
      "Processed batch: 1000 rows, Total: 1256500 rows\n"
     ]
    },
    {
     "name": "stderr",
     "output_type": "stream",
     "text": [
      "25/08/15 18:55:18 WARN MemoryManager: Total allocation exceeds 95.00% (1,020,054,720 bytes) of heap memory\n",
      "Scaling row group sizes to 95.00% for 8 writers\n",
      "25/08/15 18:55:18 WARN MemoryManager: Total allocation exceeds 95.00% (1,020,054,720 bytes) of heap memory\n",
      "Scaling row group sizes to 95.00% for 8 writers\n"
     ]
    },
    {
     "name": "stdout",
     "output_type": "stream",
     "text": [
      "Processed batch: 1000 rows, Total: 1257500 rows\n",
      "Processed batch: 1500 rows, Total: 1259000 rows\n",
      "Processed batch: 1000 rows, Total: 1260000 rows\n",
      "Processed batch: 1000 rows, Total: 1261000 rows\n",
      "Processed batch: 1000 rows, Total: 1262000 rows\n",
      "Processed batch: 1000 rows, Total: 1263000 rows\n"
     ]
    },
    {
     "name": "stderr",
     "output_type": "stream",
     "text": [
      "25/08/15 18:55:30 WARN MemoryManager: Total allocation exceeds 95.00% (1,020,054,720 bytes) of heap memory\n",
      "Scaling row group sizes to 95.00% for 8 writers\n"
     ]
    },
    {
     "name": "stdout",
     "output_type": "stream",
     "text": [
      "Processed batch: 500 rows, Total: 1263500 rows\n",
      "Processed batch: 1000 rows, Total: 1264500 rows\n"
     ]
    },
    {
     "name": "stderr",
     "output_type": "stream",
     "text": [
      "25/08/15 18:55:34 WARN MemoryManager: Total allocation exceeds 95.00% (1,020,054,720 bytes) of heap memory\n",
      "Scaling row group sizes to 95.00% for 8 writers\n"
     ]
    },
    {
     "name": "stdout",
     "output_type": "stream",
     "text": [
      "Processed batch: 1000 rows, Total: 1265500 rows\n",
      "Processed batch: 1000 rows, Total: 1266500 rows\n",
      "Processed batch: 1000 rows, Total: 1267500 rows\n",
      "Processed batch: 1000 rows, Total: 1268500 rows\n",
      "Processed batch: 1000 rows, Total: 1269500 rows\n",
      "Processed batch: 1000 rows, Total: 1270500 rows\n"
     ]
    },
    {
     "name": "stderr",
     "output_type": "stream",
     "text": [
      "25/08/15 18:55:46 WARN MemoryManager: Total allocation exceeds 95.00% (1,020,054,720 bytes) of heap memory\n",
      "Scaling row group sizes to 95.00% for 8 writers\n",
      "25/08/15 18:55:46 WARN MemoryManager: Total allocation exceeds 95.00% (1,020,054,720 bytes) of heap memory\n",
      "Scaling row group sizes to 84.44% for 9 writers\n",
      "25/08/15 18:55:46 WARN MemoryManager: Total allocation exceeds 95.00% (1,020,054,720 bytes) of heap memory\n",
      "Scaling row group sizes to 76.00% for 10 writers\n",
      "25/08/15 18:55:46 WARN MemoryManager: Total allocation exceeds 95.00% (1,020,054,720 bytes) of heap memory\n",
      "Scaling row group sizes to 84.44% for 9 writers\n",
      "25/08/15 18:55:46 WARN MemoryManager: Total allocation exceeds 95.00% (1,020,054,720 bytes) of heap memory\n",
      "Scaling row group sizes to 76.00% for 10 writers\n",
      "25/08/15 18:55:46 WARN MemoryManager: Total allocation exceeds 95.00% (1,020,054,720 bytes) of heap memory\n",
      "Scaling row group sizes to 84.44% for 9 writers\n",
      "25/08/15 18:55:46 WARN MemoryManager: Total allocation exceeds 95.00% (1,020,054,720 bytes) of heap memory\n",
      "Scaling row group sizes to 95.00% for 8 writers\n"
     ]
    },
    {
     "name": "stdout",
     "output_type": "stream",
     "text": [
      "Processed batch: 1000 rows, Total: 1271500 rows\n",
      "Processed batch: 1000 rows, Total: 1272500 rows\n",
      "Processed batch: 1500 rows, Total: 1274000 rows\n"
     ]
    },
    {
     "name": "stderr",
     "output_type": "stream",
     "text": [
      "25/08/15 18:55:52 WARN MemoryManager: Total allocation exceeds 95.00% (1,020,054,720 bytes) of heap memory\n",
      "Scaling row group sizes to 95.00% for 8 writers\n"
     ]
    },
    {
     "name": "stdout",
     "output_type": "stream",
     "text": [
      "Processed batch: 1000 rows, Total: 1275000 rows\n",
      "Processed batch: 1000 rows, Total: 1276000 rows\n",
      "Processed batch: 1000 rows, Total: 1277000 rows\n"
     ]
    },
    {
     "name": "stderr",
     "output_type": "stream",
     "text": [
      "25/08/15 18:55:58 WARN MemoryManager: Total allocation exceeds 95.00% (1,020,054,720 bytes) of heap memory\n",
      "Scaling row group sizes to 95.00% for 8 writers\n",
      "25/08/15 18:55:58 WARN MemoryManager: Total allocation exceeds 95.00% (1,020,054,720 bytes) of heap memory\n",
      "Scaling row group sizes to 84.44% for 9 writers\n",
      "25/08/15 18:55:58 WARN MemoryManager: Total allocation exceeds 95.00% (1,020,054,720 bytes) of heap memory\n",
      "Scaling row group sizes to 76.00% for 10 writers\n",
      "25/08/15 18:55:58 WARN MemoryManager: Total allocation exceeds 95.00% (1,020,054,720 bytes) of heap memory\n",
      "Scaling row group sizes to 69.09% for 11 writers\n",
      "25/08/15 18:55:58 WARN MemoryManager: Total allocation exceeds 95.00% (1,020,054,720 bytes) of heap memory\n",
      "Scaling row group sizes to 63.33% for 12 writers\n",
      "25/08/15 18:55:58 WARN MemoryManager: Total allocation exceeds 95.00% (1,020,054,720 bytes) of heap memory\n",
      "Scaling row group sizes to 69.09% for 11 writers\n",
      "25/08/15 18:55:58 WARN MemoryManager: Total allocation exceeds 95.00% (1,020,054,720 bytes) of heap memory\n",
      "Scaling row group sizes to 76.00% for 10 writers\n",
      "25/08/15 18:55:58 WARN MemoryManager: Total allocation exceeds 95.00% (1,020,054,720 bytes) of heap memory\n",
      "Scaling row group sizes to 84.44% for 9 writers\n",
      "25/08/15 18:55:58 WARN MemoryManager: Total allocation exceeds 95.00% (1,020,054,720 bytes) of heap memory\n",
      "Scaling row group sizes to 95.00% for 8 writers\n"
     ]
    },
    {
     "name": "stdout",
     "output_type": "stream",
     "text": [
      "Processed batch: 1000 rows, Total: 1278000 rows\n",
      "Processed batch: 1000 rows, Total: 1279000 rows\n"
     ]
    },
    {
     "name": "stderr",
     "output_type": "stream",
     "text": [
      "25/08/15 18:56:02 WARN MemoryManager: Total allocation exceeds 95.00% (1,020,054,720 bytes) of heap memory\n",
      "Scaling row group sizes to 95.00% for 8 writers\n",
      "25/08/15 18:56:02 WARN MemoryManager: Total allocation exceeds 95.00% (1,020,054,720 bytes) of heap memory\n",
      "Scaling row group sizes to 95.00% for 8 writers\n",
      "25/08/15 18:56:02 WARN MemoryManager: Total allocation exceeds 95.00% (1,020,054,720 bytes) of heap memory\n",
      "Scaling row group sizes to 95.00% for 8 writers\n"
     ]
    },
    {
     "name": "stdout",
     "output_type": "stream",
     "text": [
      "Processed batch: 1000 rows, Total: 1280000 rows\n",
      "Processed batch: 1000 rows, Total: 1281000 rows\n",
      "Processed batch: 1000 rows, Total: 1282000 rows\n",
      "Processed batch: 1000 rows, Total: 1283000 rows\n",
      "Processed batch: 1000 rows, Total: 1284000 rows\n",
      "Processed batch: 1000 rows, Total: 1285000 rows\n",
      "Processed batch: 1000 rows, Total: 1286000 rows\n",
      "Processed batch: 1000 rows, Total: 1287000 rows\n",
      "Processed batch: 1000 rows, Total: 1288000 rows\n",
      "Processed batch: 1000 rows, Total: 1289000 rows\n"
     ]
    },
    {
     "name": "stderr",
     "output_type": "stream",
     "text": [
      "25/08/15 18:56:22 WARN MemoryManager: Total allocation exceeds 95.00% (1,020,054,720 bytes) of heap memory\n",
      "Scaling row group sizes to 95.00% for 8 writers\n",
      "25/08/15 18:56:22 WARN MemoryManager: Total allocation exceeds 95.00% (1,020,054,720 bytes) of heap memory\n",
      "Scaling row group sizes to 95.00% for 8 writers\n",
      "25/08/15 18:56:22 WARN MemoryManager: Total allocation exceeds 95.00% (1,020,054,720 bytes) of heap memory\n",
      "Scaling row group sizes to 95.00% for 8 writers\n",
      "25/08/15 18:56:22 WARN MemoryManager: Total allocation exceeds 95.00% (1,020,054,720 bytes) of heap memory\n",
      "Scaling row group sizes to 95.00% for 8 writers\n"
     ]
    },
    {
     "name": "stdout",
     "output_type": "stream",
     "text": [
      "Processed batch: 1500 rows, Total: 1290500 rows\n",
      "Processed batch: 1000 rows, Total: 1291500 rows\n"
     ]
    },
    {
     "name": "stderr",
     "output_type": "stream",
     "text": [
      "25/08/15 18:56:26 WARN MemoryManager: Total allocation exceeds 95.00% (1,020,054,720 bytes) of heap memory\n",
      "Scaling row group sizes to 95.00% for 8 writers\n"
     ]
    },
    {
     "name": "stdout",
     "output_type": "stream",
     "text": [
      "Processed batch: 1000 rows, Total: 1292500 rows\n"
     ]
    },
    {
     "name": "stderr",
     "output_type": "stream",
     "text": [
      "25/08/15 18:56:28 WARN MemoryManager: Total allocation exceeds 95.00% (1,020,054,720 bytes) of heap memory\n",
      "Scaling row group sizes to 95.00% for 8 writers\n",
      "25/08/15 18:56:28 WARN MemoryManager: Total allocation exceeds 95.00% (1,020,054,720 bytes) of heap memory\n",
      "Scaling row group sizes to 84.44% for 9 writers\n",
      "25/08/15 18:56:28 WARN MemoryManager: Total allocation exceeds 95.00% (1,020,054,720 bytes) of heap memory\n",
      "Scaling row group sizes to 95.00% for 8 writers\n",
      "25/08/15 18:56:28 WARN MemoryManager: Total allocation exceeds 95.00% (1,020,054,720 bytes) of heap memory\n",
      "Scaling row group sizes to 95.00% for 8 writers\n"
     ]
    },
    {
     "name": "stdout",
     "output_type": "stream",
     "text": [
      "Processed batch: 1000 rows, Total: 1293500 rows\n",
      "Processed batch: 1000 rows, Total: 1294500 rows\n",
      "Processed batch: 1000 rows, Total: 1295500 rows\n",
      "Processed batch: 1000 rows, Total: 1296500 rows\n",
      "Processed batch: 1000 rows, Total: 1297500 rows\n"
     ]
    },
    {
     "name": "stderr",
     "output_type": "stream",
     "text": [
      "25/08/15 18:56:38 WARN MemoryManager: Total allocation exceeds 95.00% (1,020,054,720 bytes) of heap memory\n",
      "Scaling row group sizes to 95.00% for 8 writers\n"
     ]
    },
    {
     "name": "stdout",
     "output_type": "stream",
     "text": [
      "Processed batch: 1000 rows, Total: 1298500 rows\n",
      "Processed batch: 1000 rows, Total: 1299500 rows\n",
      "Processed batch: 1000 rows, Total: 1300500 rows\n",
      "Processed batch: 1000 rows, Total: 1301500 rows\n"
     ]
    },
    {
     "name": "stderr",
     "output_type": "stream",
     "text": [
      "25/08/15 18:56:46 WARN MemoryManager: Total allocation exceeds 95.00% (1,020,054,720 bytes) of heap memory\n",
      "Scaling row group sizes to 95.00% for 8 writers\n"
     ]
    },
    {
     "name": "stdout",
     "output_type": "stream",
     "text": [
      "Processed batch: 1000 rows, Total: 1302500 rows\n",
      "Processed batch: 1000 rows, Total: 1303500 rows\n",
      "Processed batch: 862 rows, Total: 1304362 rows\n",
      "Processed batch: 1638 rows, Total: 1306000 rows\n",
      "Processed batch: 1000 rows, Total: 1307000 rows\n",
      "Processed batch: 1000 rows, Total: 1308000 rows\n",
      "Processed batch: 1000 rows, Total: 1309000 rows\n",
      "Processed batch: 1000 rows, Total: 1310000 rows\n"
     ]
    },
    {
     "name": "stderr",
     "output_type": "stream",
     "text": [
      "25/08/15 18:57:02 WARN MemoryManager: Total allocation exceeds 95.00% (1,020,054,720 bytes) of heap memory\n",
      "Scaling row group sizes to 95.00% for 8 writers\n",
      "25/08/15 18:57:02 WARN MemoryManager: Total allocation exceeds 95.00% (1,020,054,720 bytes) of heap memory\n",
      "Scaling row group sizes to 95.00% for 8 writers\n"
     ]
    },
    {
     "name": "stdout",
     "output_type": "stream",
     "text": [
      "Processed batch: 500 rows, Total: 1310500 rows\n",
      "Processed batch: 1000 rows, Total: 1311500 rows\n",
      "Processed batch: 1000 rows, Total: 1312500 rows\n",
      "Processed batch: 1000 rows, Total: 1313500 rows\n"
     ]
    },
    {
     "name": "stderr",
     "output_type": "stream",
     "text": [
      "25/08/15 18:57:10 WARN MemoryManager: Total allocation exceeds 95.00% (1,020,054,720 bytes) of heap memory\n",
      "Scaling row group sizes to 95.00% for 8 writers\n"
     ]
    },
    {
     "name": "stdout",
     "output_type": "stream",
     "text": [
      "Processed batch: 1000 rows, Total: 1314500 rows\n",
      "Processed batch: 1000 rows, Total: 1315500 rows\n"
     ]
    },
    {
     "name": "stderr",
     "output_type": "stream",
     "text": [
      "25/08/15 18:57:14 WARN MemoryManager: Total allocation exceeds 95.00% (1,020,054,720 bytes) of heap memory\n",
      "Scaling row group sizes to 95.00% for 8 writers\n"
     ]
    },
    {
     "name": "stdout",
     "output_type": "stream",
     "text": [
      "Processed batch: 1000 rows, Total: 1316500 rows\n",
      "Processed batch: 1000 rows, Total: 1317500 rows\n"
     ]
    },
    {
     "name": "stderr",
     "output_type": "stream",
     "text": [
      "25/08/15 18:57:18 WARN MemoryManager: Total allocation exceeds 95.00% (1,020,054,720 bytes) of heap memory\n",
      "Scaling row group sizes to 95.00% for 8 writers\n"
     ]
    },
    {
     "name": "stdout",
     "output_type": "stream",
     "text": [
      "Processed batch: 1000 rows, Total: 1318500 rows\n",
      "Processed batch: 1000 rows, Total: 1319500 rows\n"
     ]
    },
    {
     "name": "stderr",
     "output_type": "stream",
     "text": [
      "25/08/15 18:57:22 WARN MemoryManager: Total allocation exceeds 95.00% (1,020,054,720 bytes) of heap memory\n",
      "Scaling row group sizes to 95.00% for 8 writers\n",
      "25/08/15 18:57:22 WARN MemoryManager: Total allocation exceeds 95.00% (1,020,054,720 bytes) of heap memory\n",
      "Scaling row group sizes to 95.00% for 8 writers\n"
     ]
    },
    {
     "name": "stdout",
     "output_type": "stream",
     "text": [
      "Processed batch: 1000 rows, Total: 1320500 rows\n",
      "Processed batch: 1500 rows, Total: 1322000 rows\n"
     ]
    },
    {
     "name": "stderr",
     "output_type": "stream",
     "text": [
      "25/08/15 18:57:26 WARN MemoryManager: Total allocation exceeds 95.00% (1,020,054,720 bytes) of heap memory\n",
      "Scaling row group sizes to 95.00% for 8 writers\n",
      "25/08/15 18:57:26 WARN MemoryManager: Total allocation exceeds 95.00% (1,020,054,720 bytes) of heap memory\n",
      "Scaling row group sizes to 95.00% for 8 writers\n",
      "25/08/15 18:57:26 WARN MemoryManager: Total allocation exceeds 95.00% (1,020,054,720 bytes) of heap memory\n",
      "Scaling row group sizes to 84.44% for 9 writers\n",
      "25/08/15 18:57:26 WARN MemoryManager: Total allocation exceeds 95.00% (1,020,054,720 bytes) of heap memory\n",
      "Scaling row group sizes to 76.00% for 10 writers\n",
      "25/08/15 18:57:26 WARN MemoryManager: Total allocation exceeds 95.00% (1,020,054,720 bytes) of heap memory\n",
      "Scaling row group sizes to 69.09% for 11 writers\n",
      "25/08/15 18:57:26 WARN MemoryManager: Total allocation exceeds 95.00% (1,020,054,720 bytes) of heap memory\n",
      "Scaling row group sizes to 63.33% for 12 writers\n",
      "25/08/15 18:57:26 WARN MemoryManager: Total allocation exceeds 95.00% (1,020,054,720 bytes) of heap memory\n",
      "Scaling row group sizes to 69.09% for 11 writers\n",
      "25/08/15 18:57:26 WARN MemoryManager: Total allocation exceeds 95.00% (1,020,054,720 bytes) of heap memory\n",
      "Scaling row group sizes to 76.00% for 10 writers\n",
      "25/08/15 18:57:26 WARN MemoryManager: Total allocation exceeds 95.00% (1,020,054,720 bytes) of heap memory\n",
      "Scaling row group sizes to 84.44% for 9 writers\n",
      "25/08/15 18:57:26 WARN MemoryManager: Total allocation exceeds 95.00% (1,020,054,720 bytes) of heap memory\n",
      "Scaling row group sizes to 95.00% for 8 writers\n"
     ]
    },
    {
     "name": "stdout",
     "output_type": "stream",
     "text": [
      "Processed batch: 1000 rows, Total: 1323000 rows\n",
      "Processed batch: 1000 rows, Total: 1324000 rows\n",
      "Processed batch: 1000 rows, Total: 1325000 rows\n",
      "Processed batch: 1000 rows, Total: 1326000 rows\n",
      "Processed batch: 1000 rows, Total: 1327000 rows\n",
      "Processed batch: 1000 rows, Total: 1328000 rows\n",
      "Processed batch: 1000 rows, Total: 1329000 rows\n",
      "Processed batch: 1000 rows, Total: 1330000 rows\n",
      "Processed batch: 1000 rows, Total: 1331000 rows\n",
      "Processed batch: 1000 rows, Total: 1332000 rows\n",
      "Processed batch: 1000 rows, Total: 1333000 rows\n",
      "Processed batch: 1000 rows, Total: 1334000 rows\n",
      "Processed batch: 1000 rows, Total: 1335000 rows\n",
      "Processed batch: 1000 rows, Total: 1336000 rows\n",
      "Processed batch: 1500 rows, Total: 1337500 rows\n",
      "Processed batch: 1000 rows, Total: 1338500 rows\n"
     ]
    },
    {
     "name": "stderr",
     "output_type": "stream",
     "text": [
      "25/08/15 18:57:58 WARN MemoryManager: Total allocation exceeds 95.00% (1,020,054,720 bytes) of heap memory\n",
      "Scaling row group sizes to 95.00% for 8 writers\n",
      "25/08/15 18:57:58 WARN MemoryManager: Total allocation exceeds 95.00% (1,020,054,720 bytes) of heap memory\n",
      "Scaling row group sizes to 84.44% for 9 writers\n",
      "25/08/15 18:57:58 WARN MemoryManager: Total allocation exceeds 95.00% (1,020,054,720 bytes) of heap memory\n",
      "Scaling row group sizes to 95.00% for 8 writers\n"
     ]
    },
    {
     "name": "stdout",
     "output_type": "stream",
     "text": [
      "Processed batch: 1000 rows, Total: 1339500 rows\n",
      "Processed batch: 1000 rows, Total: 1340500 rows\n",
      "Processed batch: 1000 rows, Total: 1341500 rows\n",
      "Processed batch: 1000 rows, Total: 1342500 rows\n",
      "Processed batch: 1000 rows, Total: 1343500 rows\n",
      "Processed batch: 1000 rows, Total: 1344500 rows\n",
      "Processed batch: 1000 rows, Total: 1345500 rows\n",
      "Processed batch: 500 rows, Total: 1346000 rows\n",
      "Processed batch: 1000 rows, Total: 1347000 rows\n",
      "Processed batch: 1000 rows, Total: 1348000 rows\n",
      "Processed batch: 1000 rows, Total: 1349000 rows\n",
      "Processed batch: 1000 rows, Total: 1350000 rows\n",
      "Processed batch: 1000 rows, Total: 1351000 rows\n",
      "Processed batch: 1000 rows, Total: 1352000 rows\n",
      "Processed batch: 2000 rows, Total: 1354000 rows\n",
      "Processed batch: 500 rows, Total: 1354500 rows\n",
      "Processed batch: 1000 rows, Total: 1355500 rows\n",
      "Processed batch: 1000 rows, Total: 1356500 rows\n",
      "Processed batch: 1000 rows, Total: 1357500 rows\n",
      "Processed batch: 1000 rows, Total: 1358500 rows\n",
      "Processed batch: 1000 rows, Total: 1359500 rows\n"
     ]
    },
    {
     "name": "stderr",
     "output_type": "stream",
     "text": [
      "25/08/15 18:58:40 WARN MemoryManager: Total allocation exceeds 95.00% (1,020,054,720 bytes) of heap memory\n",
      "Scaling row group sizes to 95.00% for 8 writers\n"
     ]
    },
    {
     "name": "stdout",
     "output_type": "stream",
     "text": [
      "Processed batch: 1000 rows, Total: 1360500 rows\n",
      "Processed batch: 1000 rows, Total: 1361500 rows\n",
      "Processed batch: 1000 rows, Total: 1362500 rows\n",
      "Processed batch: 1000 rows, Total: 1363500 rows\n",
      "Processed batch: 1000 rows, Total: 1364500 rows\n",
      "Processed batch: 1000 rows, Total: 1365500 rows\n"
     ]
    },
    {
     "name": "stderr",
     "output_type": "stream",
     "text": [
      "25/08/15 18:58:52 WARN MemoryManager: Total allocation exceeds 95.00% (1,020,054,720 bytes) of heap memory\n",
      "Scaling row group sizes to 95.00% for 8 writers\n",
      "25/08/15 18:58:52 WARN MemoryManager: Total allocation exceeds 95.00% (1,020,054,720 bytes) of heap memory\n",
      "Scaling row group sizes to 84.44% for 9 writers\n",
      "25/08/15 18:58:52 WARN MemoryManager: Total allocation exceeds 95.00% (1,020,054,720 bytes) of heap memory\n",
      "Scaling row group sizes to 95.00% for 8 writers\n"
     ]
    },
    {
     "name": "stdout",
     "output_type": "stream",
     "text": [
      "Processed batch: 1000 rows, Total: 1366500 rows\n",
      "Processed batch: 1000 rows, Total: 1367500 rows\n",
      "Processed batch: 1500 rows, Total: 1369000 rows\n",
      "Processed batch: 1000 rows, Total: 1370000 rows\n",
      "Processed batch: 1000 rows, Total: 1371000 rows\n",
      "Processed batch: 1000 rows, Total: 1372000 rows\n",
      "Processed batch: 1000 rows, Total: 1373000 rows\n",
      "Processed batch: 1000 rows, Total: 1374000 rows\n"
     ]
    },
    {
     "name": "stderr",
     "output_type": "stream",
     "text": [
      "25/08/15 18:59:08 WARN MemoryManager: Total allocation exceeds 95.00% (1,020,054,720 bytes) of heap memory\n",
      "Scaling row group sizes to 95.00% for 8 writers\n",
      "25/08/15 18:59:08 WARN MemoryManager: Total allocation exceeds 95.00% (1,020,054,720 bytes) of heap memory\n",
      "Scaling row group sizes to 84.44% for 9 writers\n",
      "25/08/15 18:59:08 WARN MemoryManager: Total allocation exceeds 95.00% (1,020,054,720 bytes) of heap memory\n",
      "Scaling row group sizes to 95.00% for 8 writers\n"
     ]
    },
    {
     "name": "stdout",
     "output_type": "stream",
     "text": [
      "Processed batch: 1000 rows, Total: 1375000 rows\n",
      "Processed batch: 1000 rows, Total: 1376000 rows\n",
      "Processed batch: 1000 rows, Total: 1377000 rows\n",
      "Processed batch: 1000 rows, Total: 1378000 rows\n",
      "Processed batch: 1000 rows, Total: 1379000 rows\n",
      "Processed batch: 1000 rows, Total: 1380000 rows\n",
      "Processed batch: 1000 rows, Total: 1381000 rows\n",
      "Processed batch: 1000 rows, Total: 1382000 rows\n",
      "Processed batch: 1000 rows, Total: 1383000 rows\n",
      "Processed batch: 1000 rows, Total: 1384000 rows\n",
      "Processed batch: 1500 rows, Total: 1385500 rows\n",
      "Processed batch: 1000 rows, Total: 1386500 rows\n",
      "Processed batch: 1000 rows, Total: 1387500 rows\n"
     ]
    },
    {
     "name": "stderr",
     "output_type": "stream",
     "text": [
      "25/08/15 18:59:34 WARN MemoryManager: Total allocation exceeds 95.00% (1,020,054,720 bytes) of heap memory\n",
      "Scaling row group sizes to 95.00% for 8 writers\n",
      "25/08/15 18:59:34 WARN MemoryManager: Total allocation exceeds 95.00% (1,020,054,720 bytes) of heap memory\n",
      "Scaling row group sizes to 95.00% for 8 writers\n"
     ]
    },
    {
     "name": "stdout",
     "output_type": "stream",
     "text": [
      "Processed batch: 1000 rows, Total: 1388500 rows\n"
     ]
    },
    {
     "name": "stderr",
     "output_type": "stream",
     "text": [
      "25/08/15 18:59:36 WARN MemoryManager: Total allocation exceeds 95.00% (1,020,054,720 bytes) of heap memory\n",
      "Scaling row group sizes to 95.00% for 8 writers\n"
     ]
    },
    {
     "name": "stdout",
     "output_type": "stream",
     "text": [
      "Processed batch: 1000 rows, Total: 1389500 rows\n",
      "Processed batch: 1000 rows, Total: 1390500 rows\n"
     ]
    },
    {
     "name": "stderr",
     "output_type": "stream",
     "text": [
      "25/08/15 18:59:40 WARN MemoryManager: Total allocation exceeds 95.00% (1,020,054,720 bytes) of heap memory\n",
      "Scaling row group sizes to 95.00% for 8 writers\n",
      "25/08/15 18:59:40 WARN MemoryManager: Total allocation exceeds 95.00% (1,020,054,720 bytes) of heap memory\n",
      "Scaling row group sizes to 84.44% for 9 writers\n",
      "25/08/15 18:59:40 WARN MemoryManager: Total allocation exceeds 95.00% (1,020,054,720 bytes) of heap memory\n",
      "Scaling row group sizes to 76.00% for 10 writers\n",
      "25/08/15 18:59:40 WARN MemoryManager: Total allocation exceeds 95.00% (1,020,054,720 bytes) of heap memory\n",
      "Scaling row group sizes to 84.44% for 9 writers\n",
      "25/08/15 18:59:40 WARN MemoryManager: Total allocation exceeds 95.00% (1,020,054,720 bytes) of heap memory\n",
      "Scaling row group sizes to 95.00% for 8 writers\n"
     ]
    },
    {
     "name": "stdout",
     "output_type": "stream",
     "text": [
      "Processed batch: 1000 rows, Total: 1391500 rows\n",
      "Processed batch: 1000 rows, Total: 1392500 rows\n",
      "Processed batch: 1000 rows, Total: 1393500 rows\n"
     ]
    },
    {
     "name": "stderr",
     "output_type": "stream",
     "text": [
      "25/08/15 18:59:46 WARN MemoryManager: Total allocation exceeds 95.00% (1,020,054,720 bytes) of heap memory\n",
      "Scaling row group sizes to 95.00% for 8 writers\n",
      "25/08/15 18:59:46 WARN MemoryManager: Total allocation exceeds 95.00% (1,020,054,720 bytes) of heap memory\n",
      "Scaling row group sizes to 84.44% for 9 writers\n",
      "25/08/15 18:59:46 WARN MemoryManager: Total allocation exceeds 95.00% (1,020,054,720 bytes) of heap memory\n",
      "Scaling row group sizes to 95.00% for 8 writers\n",
      "25/08/15 18:59:46 WARN MemoryManager: Total allocation exceeds 95.00% (1,020,054,720 bytes) of heap memory\n",
      "Scaling row group sizes to 84.44% for 9 writers\n",
      "25/08/15 18:59:46 WARN MemoryManager: Total allocation exceeds 95.00% (1,020,054,720 bytes) of heap memory\n",
      "Scaling row group sizes to 95.00% for 8 writers\n",
      "25/08/15 18:59:46 WARN MemoryManager: Total allocation exceeds 95.00% (1,020,054,720 bytes) of heap memory\n",
      "Scaling row group sizes to 95.00% for 8 writers\n",
      "25/08/15 18:59:46 WARN MemoryManager: Total allocation exceeds 95.00% (1,020,054,720 bytes) of heap memory\n",
      "Scaling row group sizes to 95.00% for 8 writers\n",
      "25/08/15 18:59:46 WARN MemoryManager: Total allocation exceeds 95.00% (1,020,054,720 bytes) of heap memory\n",
      "Scaling row group sizes to 95.00% for 8 writers\n"
     ]
    },
    {
     "name": "stdout",
     "output_type": "stream",
     "text": [
      "Processed batch: 1000 rows, Total: 1394500 rows\n",
      "Processed batch: 1000 rows, Total: 1395500 rows\n",
      "Processed batch: 1000 rows, Total: 1396500 rows\n",
      "Processed batch: 1000 rows, Total: 1397500 rows\n"
     ]
    },
    {
     "name": "stderr",
     "output_type": "stream",
     "text": [
      "25/08/15 18:59:54 WARN MemoryManager: Total allocation exceeds 95.00% (1,020,054,720 bytes) of heap memory\n",
      "Scaling row group sizes to 95.00% for 8 writers\n",
      "25/08/15 18:59:54 WARN MemoryManager: Total allocation exceeds 95.00% (1,020,054,720 bytes) of heap memory\n",
      "Scaling row group sizes to 84.44% for 9 writers\n",
      "25/08/15 18:59:54 WARN MemoryManager: Total allocation exceeds 95.00% (1,020,054,720 bytes) of heap memory\n",
      "Scaling row group sizes to 95.00% for 8 writers\n",
      "25/08/15 18:59:54 WARN MemoryManager: Total allocation exceeds 95.00% (1,020,054,720 bytes) of heap memory\n",
      "Scaling row group sizes to 84.44% for 9 writers\n",
      "25/08/15 18:59:54 WARN MemoryManager: Total allocation exceeds 95.00% (1,020,054,720 bytes) of heap memory\n",
      "Scaling row group sizes to 76.00% for 10 writers\n",
      "25/08/15 18:59:54 WARN MemoryManager: Total allocation exceeds 95.00% (1,020,054,720 bytes) of heap memory\n",
      "Scaling row group sizes to 84.44% for 9 writers\n",
      "25/08/15 18:59:54 WARN MemoryManager: Total allocation exceeds 95.00% (1,020,054,720 bytes) of heap memory\n",
      "Scaling row group sizes to 95.00% for 8 writers\n",
      "25/08/15 18:59:54 WARN MemoryManager: Total allocation exceeds 95.00% (1,020,054,720 bytes) of heap memory\n",
      "Scaling row group sizes to 95.00% for 8 writers\n"
     ]
    },
    {
     "name": "stdout",
     "output_type": "stream",
     "text": [
      "Processed batch: 1000 rows, Total: 1398500 rows\n",
      "Processed batch: 1000 rows, Total: 1399500 rows\n",
      "Processed batch: 500 rows, Total: 1400000 rows\n",
      "Processed batch: 2000 rows, Total: 1402000 rows\n"
     ]
    },
    {
     "name": "stderr",
     "output_type": "stream",
     "text": [
      "25/08/15 19:00:02 WARN MemoryManager: Total allocation exceeds 95.00% (1,020,054,720 bytes) of heap memory\n",
      "Scaling row group sizes to 95.00% for 8 writers\n"
     ]
    },
    {
     "name": "stdout",
     "output_type": "stream",
     "text": [
      "Processed batch: 1000 rows, Total: 1403000 rows\n"
     ]
    },
    {
     "name": "stderr",
     "output_type": "stream",
     "text": [
      "25/08/15 19:00:04 WARN MemoryManager: Total allocation exceeds 95.00% (1,020,054,720 bytes) of heap memory\n",
      "Scaling row group sizes to 95.00% for 8 writers\n"
     ]
    },
    {
     "name": "stdout",
     "output_type": "stream",
     "text": [
      "Processed batch: 1000 rows, Total: 1404000 rows\n",
      "Processed batch: 1000 rows, Total: 1405000 rows\n",
      "Processed batch: 1000 rows, Total: 1406000 rows\n",
      "Processed batch: 500 rows, Total: 1406500 rows\n",
      "Processed batch: 1000 rows, Total: 1407500 rows\n",
      "Processed batch: 1000 rows, Total: 1408500 rows\n",
      "Processed batch: 1000 rows, Total: 1409500 rows\n",
      "Processed batch: 1000 rows, Total: 1410500 rows\n",
      "Processed batch: 1000 rows, Total: 1411500 rows\n",
      "Processed batch: 1000 rows, Total: 1412500 rows\n",
      "Processed batch: 1000 rows, Total: 1413500 rows\n",
      "Processed batch: 1000 rows, Total: 1414500 rows\n",
      "Processed batch: 1000 rows, Total: 1415500 rows\n",
      "Processed batch: 1500 rows, Total: 1417000 rows\n",
      "Processed batch: 1000 rows, Total: 1418000 rows\n",
      "Processed batch: 1000 rows, Total: 1419000 rows\n",
      "Processed batch: 1000 rows, Total: 1420000 rows\n"
     ]
    },
    {
     "name": "stderr",
     "output_type": "stream",
     "text": [
      "25/08/15 19:00:38 WARN MemoryManager: Total allocation exceeds 95.00% (1,020,054,720 bytes) of heap memory\n",
      "Scaling row group sizes to 95.00% for 8 writers\n",
      "25/08/15 19:00:38 WARN MemoryManager: Total allocation exceeds 95.00% (1,020,054,720 bytes) of heap memory\n",
      "Scaling row group sizes to 84.44% for 9 writers\n",
      "25/08/15 19:00:38 WARN MemoryManager: Total allocation exceeds 95.00% (1,020,054,720 bytes) of heap memory\n",
      "Scaling row group sizes to 95.00% for 8 writers\n"
     ]
    },
    {
     "name": "stdout",
     "output_type": "stream",
     "text": [
      "Processed batch: 1000 rows, Total: 1421000 rows\n",
      "Processed batch: 1000 rows, Total: 1422000 rows\n",
      "Processed batch: 1000 rows, Total: 1423000 rows\n",
      "Processed batch: 1000 rows, Total: 1424000 rows\n"
     ]
    },
    {
     "name": "stderr",
     "output_type": "stream",
     "text": [
      "25/08/15 19:00:46 WARN MemoryManager: Total allocation exceeds 95.00% (1,020,054,720 bytes) of heap memory\n",
      "Scaling row group sizes to 95.00% for 8 writers\n",
      "25/08/15 19:00:46 WARN MemoryManager: Total allocation exceeds 95.00% (1,020,054,720 bytes) of heap memory\n",
      "Scaling row group sizes to 84.44% for 9 writers\n",
      "25/08/15 19:00:46 WARN MemoryManager: Total allocation exceeds 95.00% (1,020,054,720 bytes) of heap memory\n",
      "Scaling row group sizes to 76.00% for 10 writers\n",
      "25/08/15 19:00:46 WARN MemoryManager: Total allocation exceeds 95.00% (1,020,054,720 bytes) of heap memory\n",
      "Scaling row group sizes to 84.44% for 9 writers\n",
      "25/08/15 19:00:46 WARN MemoryManager: Total allocation exceeds 95.00% (1,020,054,720 bytes) of heap memory\n",
      "Scaling row group sizes to 95.00% for 8 writers\n"
     ]
    },
    {
     "name": "stdout",
     "output_type": "stream",
     "text": [
      "Processed batch: 1000 rows, Total: 1425000 rows\n",
      "Processed batch: 1000 rows, Total: 1426000 rows\n",
      "Processed batch: 1000 rows, Total: 1427000 rows\n",
      "Processed batch: 1000 rows, Total: 1428000 rows\n",
      "Processed batch: 1000 rows, Total: 1429000 rows\n",
      "Processed batch: 1000 rows, Total: 1430000 rows\n"
     ]
    },
    {
     "name": "stderr",
     "output_type": "stream",
     "text": [
      "25/08/15 19:00:58 WARN MemoryManager: Total allocation exceeds 95.00% (1,020,054,720 bytes) of heap memory\n",
      "Scaling row group sizes to 95.00% for 8 writers\n",
      "25/08/15 19:00:58 WARN MemoryManager: Total allocation exceeds 95.00% (1,020,054,720 bytes) of heap memory\n",
      "Scaling row group sizes to 84.44% for 9 writers\n",
      "25/08/15 19:00:58 WARN MemoryManager: Total allocation exceeds 95.00% (1,020,054,720 bytes) of heap memory\n",
      "Scaling row group sizes to 95.00% for 8 writers\n",
      "25/08/15 19:00:58 WARN MemoryManager: Total allocation exceeds 95.00% (1,020,054,720 bytes) of heap memory\n",
      "Scaling row group sizes to 95.00% for 8 writers\n"
     ]
    },
    {
     "name": "stdout",
     "output_type": "stream",
     "text": [
      "Processed batch: 1000 rows, Total: 1431000 rows\n",
      "Processed batch: 1000 rows, Total: 1432000 rows\n"
     ]
    },
    {
     "name": "stderr",
     "output_type": "stream",
     "text": [
      "25/08/15 19:01:02 WARN MemoryManager: Total allocation exceeds 95.00% (1,020,054,720 bytes) of heap memory\n",
      "Scaling row group sizes to 95.00% for 8 writers\n"
     ]
    },
    {
     "name": "stdout",
     "output_type": "stream",
     "text": [
      "Processed batch: 1500 rows, Total: 1433500 rows\n",
      "Processed batch: 1000 rows, Total: 1434500 rows\n"
     ]
    },
    {
     "name": "stderr",
     "output_type": "stream",
     "text": [
      "25/08/15 19:01:06 WARN MemoryManager: Total allocation exceeds 95.00% (1,020,054,720 bytes) of heap memory\n",
      "Scaling row group sizes to 95.00% for 8 writers\n",
      "25/08/15 19:01:06 WARN MemoryManager: Total allocation exceeds 95.00% (1,020,054,720 bytes) of heap memory\n",
      "Scaling row group sizes to 84.44% for 9 writers\n",
      "25/08/15 19:01:06 WARN MemoryManager: Total allocation exceeds 95.00% (1,020,054,720 bytes) of heap memory\n",
      "Scaling row group sizes to 95.00% for 8 writers\n"
     ]
    },
    {
     "name": "stdout",
     "output_type": "stream",
     "text": [
      "Processed batch: 1000 rows, Total: 1435500 rows\n",
      "Processed batch: 1000 rows, Total: 1436500 rows\n",
      "Processed batch: 1000 rows, Total: 1437500 rows\n",
      "Processed batch: 1000 rows, Total: 1438500 rows\n",
      "Processed batch: 1000 rows, Total: 1439500 rows\n",
      "Processed batch: 1000 rows, Total: 1440500 rows\n",
      "Processed batch: 1000 rows, Total: 1441500 rows\n",
      "Processed batch: 1000 rows, Total: 1442500 rows\n",
      "Processed batch: 1000 rows, Total: 1443500 rows\n",
      "Processed batch: 624 rows, Total: 1444124 rows\n",
      "Processed batch: 876 rows, Total: 1445000 rows\n",
      "Processed batch: 1000 rows, Total: 1446000 rows\n"
     ]
    },
    {
     "name": "stderr",
     "output_type": "stream",
     "text": [
      "25/08/15 19:01:30 WARN MemoryManager: Total allocation exceeds 95.00% (1,020,054,720 bytes) of heap memory\n",
      "Scaling row group sizes to 95.00% for 8 writers\n"
     ]
    },
    {
     "name": "stdout",
     "output_type": "stream",
     "text": [
      "Processed batch: 1000 rows, Total: 1447000 rows\n",
      "Processed batch: 2000 rows, Total: 1449000 rows\n",
      "Processed batch: 1000 rows, Total: 1450000 rows\n"
     ]
    },
    {
     "name": "stderr",
     "output_type": "stream",
     "text": [
      "25/08/15 19:01:36 WARN MemoryManager: Total allocation exceeds 95.00% (1,020,054,720 bytes) of heap memory\n",
      "Scaling row group sizes to 95.00% for 8 writers\n"
     ]
    },
    {
     "name": "stdout",
     "output_type": "stream",
     "text": [
      "Processed batch: 1000 rows, Total: 1451000 rows\n",
      "Processed batch: 1000 rows, Total: 1452000 rows\n",
      "Processed batch: 1000 rows, Total: 1453000 rows\n",
      "Processed batch: 500 rows, Total: 1453500 rows\n",
      "Processed batch: 1000 rows, Total: 1454500 rows\n",
      "Processed batch: 1000 rows, Total: 1455500 rows\n",
      "Processed batch: 1000 rows, Total: 1456500 rows\n",
      "Processed batch: 1000 rows, Total: 1457500 rows\n",
      "Processed batch: 1000 rows, Total: 1458500 rows\n",
      "Processed batch: 1000 rows, Total: 1459500 rows\n",
      "Processed batch: 1000 rows, Total: 1460500 rows\n",
      "Processed batch: 1000 rows, Total: 1461500 rows\n",
      "Processed batch: 1000 rows, Total: 1462500 rows\n",
      "Processed batch: 1000 rows, Total: 1463500 rows\n",
      "Processed batch: 1500 rows, Total: 1465000 rows\n",
      "Processed batch: 1000 rows, Total: 1466000 rows\n",
      "Processed batch: 1000 rows, Total: 1467000 rows\n",
      "Processed batch: 1000 rows, Total: 1468000 rows\n",
      "Processed batch: 1000 rows, Total: 1469000 rows\n",
      "Processed batch: 1000 rows, Total: 1470000 rows\n",
      "Processed batch: 1000 rows, Total: 1471000 rows\n",
      "Processed batch: 1000 rows, Total: 1472000 rows\n",
      "Processed batch: 1000 rows, Total: 1473000 rows\n",
      "Processed batch: 1000 rows, Total: 1474000 rows\n"
     ]
    },
    {
     "name": "stderr",
     "output_type": "stream",
     "text": [
      "25/08/15 19:02:24 WARN MemoryManager: Total allocation exceeds 95.00% (1,020,054,720 bytes) of heap memory\n",
      "Scaling row group sizes to 95.00% for 8 writers\n"
     ]
    },
    {
     "name": "stdout",
     "output_type": "stream",
     "text": [
      "Processed batch: 1000 rows, Total: 1475000 rows\n",
      "Processed batch: 1000 rows, Total: 1476000 rows\n"
     ]
    },
    {
     "name": "stderr",
     "output_type": "stream",
     "text": [
      "25/08/15 19:02:28 WARN MemoryManager: Total allocation exceeds 95.00% (1,020,054,720 bytes) of heap memory\n",
      "Scaling row group sizes to 95.00% for 8 writers\n",
      "25/08/15 19:02:28 WARN MemoryManager: Total allocation exceeds 95.00% (1,020,054,720 bytes) of heap memory\n",
      "Scaling row group sizes to 84.44% for 9 writers\n",
      "25/08/15 19:02:28 WARN MemoryManager: Total allocation exceeds 95.00% (1,020,054,720 bytes) of heap memory\n",
      "Scaling row group sizes to 76.00% for 10 writers\n",
      "25/08/15 19:02:28 WARN MemoryManager: Total allocation exceeds 95.00% (1,020,054,720 bytes) of heap memory\n",
      "Scaling row group sizes to 84.44% for 9 writers\n",
      "25/08/15 19:02:28 WARN MemoryManager: Total allocation exceeds 95.00% (1,020,054,720 bytes) of heap memory\n",
      "Scaling row group sizes to 95.00% for 8 writers\n",
      "25/08/15 19:02:28 WARN MemoryManager: Total allocation exceeds 95.00% (1,020,054,720 bytes) of heap memory\n",
      "Scaling row group sizes to 95.00% for 8 writers\n",
      "25/08/15 19:02:28 WARN MemoryManager: Total allocation exceeds 95.00% (1,020,054,720 bytes) of heap memory\n",
      "Scaling row group sizes to 95.00% for 8 writers\n",
      "25/08/15 19:02:28 WARN MemoryManager: Total allocation exceeds 95.00% (1,020,054,720 bytes) of heap memory\n",
      "Scaling row group sizes to 84.44% for 9 writers\n",
      "25/08/15 19:02:28 WARN MemoryManager: Total allocation exceeds 95.00% (1,020,054,720 bytes) of heap memory\n",
      "Scaling row group sizes to 95.00% for 8 writers\n",
      "25/08/15 19:02:28 WARN MemoryManager: Total allocation exceeds 95.00% (1,020,054,720 bytes) of heap memory\n",
      "Scaling row group sizes to 95.00% for 8 writers\n"
     ]
    },
    {
     "name": "stdout",
     "output_type": "stream",
     "text": [
      "Processed batch: 1000 rows, Total: 1477000 rows\n",
      "Processed batch: 1000 rows, Total: 1478000 rows\n",
      "Processed batch: 1000 rows, Total: 1479000 rows\n",
      "Processed batch: 1500 rows, Total: 1480500 rows\n"
     ]
    },
    {
     "name": "stderr",
     "output_type": "stream",
     "text": [
      "25/08/15 19:02:36 WARN MemoryManager: Total allocation exceeds 95.00% (1,020,054,720 bytes) of heap memory\n",
      "Scaling row group sizes to 95.00% for 8 writers\n",
      "25/08/15 19:02:36 WARN MemoryManager: Total allocation exceeds 95.00% (1,020,054,720 bytes) of heap memory\n",
      "Scaling row group sizes to 84.44% for 9 writers\n",
      "25/08/15 19:02:36 WARN MemoryManager: Total allocation exceeds 95.00% (1,020,054,720 bytes) of heap memory\n",
      "Scaling row group sizes to 95.00% for 8 writers\n",
      "25/08/15 19:02:36 WARN MemoryManager: Total allocation exceeds 95.00% (1,020,054,720 bytes) of heap memory\n",
      "Scaling row group sizes to 84.44% for 9 writers\n",
      "25/08/15 19:02:36 WARN MemoryManager: Total allocation exceeds 95.00% (1,020,054,720 bytes) of heap memory\n",
      "Scaling row group sizes to 95.00% for 8 writers\n",
      "25/08/15 19:02:36 WARN MemoryManager: Total allocation exceeds 95.00% (1,020,054,720 bytes) of heap memory\n",
      "Scaling row group sizes to 84.44% for 9 writers\n",
      "25/08/15 19:02:36 WARN MemoryManager: Total allocation exceeds 95.00% (1,020,054,720 bytes) of heap memory\n",
      "Scaling row group sizes to 95.00% for 8 writers\n",
      "25/08/15 19:02:36 WARN MemoryManager: Total allocation exceeds 95.00% (1,020,054,720 bytes) of heap memory\n",
      "Scaling row group sizes to 95.00% for 8 writers\n"
     ]
    },
    {
     "name": "stdout",
     "output_type": "stream",
     "text": [
      "Processed batch: 1000 rows, Total: 1481500 rows\n",
      "Processed batch: 1000 rows, Total: 1482500 rows\n",
      "Processed batch: 1000 rows, Total: 1483500 rows\n",
      "Processed batch: 1000 rows, Total: 1484500 rows\n"
     ]
    },
    {
     "name": "stderr",
     "output_type": "stream",
     "text": [
      "25/08/15 19:02:44 WARN MemoryManager: Total allocation exceeds 95.00% (1,020,054,720 bytes) of heap memory\n",
      "Scaling row group sizes to 95.00% for 8 writers\n",
      "25/08/15 19:02:44 WARN MemoryManager: Total allocation exceeds 95.00% (1,020,054,720 bytes) of heap memory\n",
      "Scaling row group sizes to 84.44% for 9 writers\n",
      "25/08/15 19:02:44 WARN MemoryManager: Total allocation exceeds 95.00% (1,020,054,720 bytes) of heap memory\n",
      "Scaling row group sizes to 76.00% for 10 writers\n",
      "25/08/15 19:02:44 WARN MemoryManager: Total allocation exceeds 95.00% (1,020,054,720 bytes) of heap memory\n",
      "Scaling row group sizes to 84.44% for 9 writers\n",
      "25/08/15 19:02:44 WARN MemoryManager: Total allocation exceeds 95.00% (1,020,054,720 bytes) of heap memory\n",
      "Scaling row group sizes to 76.00% for 10 writers\n",
      "25/08/15 19:02:44 WARN MemoryManager: Total allocation exceeds 95.00% (1,020,054,720 bytes) of heap memory\n",
      "Scaling row group sizes to 84.44% for 9 writers\n",
      "25/08/15 19:02:44 WARN MemoryManager: Total allocation exceeds 95.00% (1,020,054,720 bytes) of heap memory\n",
      "Scaling row group sizes to 95.00% for 8 writers\n"
     ]
    },
    {
     "name": "stdout",
     "output_type": "stream",
     "text": [
      "Processed batch: 1000 rows, Total: 1485500 rows\n",
      "Processed batch: 1000 rows, Total: 1486500 rows\n",
      "Processed batch: 1000 rows, Total: 1487500 rows\n",
      "Processed batch: 1000 rows, Total: 1488500 rows\n",
      "Processed batch: 1000 rows, Total: 1489500 rows\n"
     ]
    },
    {
     "name": "stderr",
     "output_type": "stream",
     "text": [
      "25/08/15 19:02:54 WARN MemoryManager: Total allocation exceeds 95.00% (1,020,054,720 bytes) of heap memory\n",
      "Scaling row group sizes to 95.00% for 8 writers\n"
     ]
    },
    {
     "name": "stdout",
     "output_type": "stream",
     "text": [
      "Processed batch: 1000 rows, Total: 1490500 rows\n",
      "Processed batch: 1000 rows, Total: 1491500 rows\n",
      "Processed batch: 1000 rows, Total: 1492500 rows\n"
     ]
    },
    {
     "name": "stderr",
     "output_type": "stream",
     "text": [
      "25/08/15 19:03:00 WARN MemoryManager: Total allocation exceeds 95.00% (1,020,054,720 bytes) of heap memory\n",
      "Scaling row group sizes to 95.00% for 8 writers\n"
     ]
    },
    {
     "name": "stdout",
     "output_type": "stream",
     "text": [
      "Processed batch: 1000 rows, Total: 1493500 rows\n",
      "Processed batch: 1000 rows, Total: 1494500 rows\n"
     ]
    },
    {
     "name": "stderr",
     "output_type": "stream",
     "text": [
      "25/08/15 19:03:04 WARN MemoryManager: Total allocation exceeds 95.00% (1,020,054,720 bytes) of heap memory\n",
      "Scaling row group sizes to 95.00% for 8 writers\n",
      "25/08/15 19:03:04 WARN MemoryManager: Total allocation exceeds 95.00% (1,020,054,720 bytes) of heap memory\n",
      "Scaling row group sizes to 95.00% for 8 writers\n"
     ]
    },
    {
     "name": "stdout",
     "output_type": "stream",
     "text": [
      "Processed batch: 1000 rows, Total: 1495500 rows\n",
      "Processed batch: 1500 rows, Total: 1497000 rows\n"
     ]
    },
    {
     "name": "stderr",
     "output_type": "stream",
     "text": [
      "25/08/15 19:03:08 WARN MemoryManager: Total allocation exceeds 95.00% (1,020,054,720 bytes) of heap memory\n",
      "Scaling row group sizes to 95.00% for 8 writers\n",
      "25/08/15 19:03:08 WARN MemoryManager: Total allocation exceeds 95.00% (1,020,054,720 bytes) of heap memory\n",
      "Scaling row group sizes to 84.44% for 9 writers\n",
      "25/08/15 19:03:08 WARN MemoryManager: Total allocation exceeds 95.00% (1,020,054,720 bytes) of heap memory\n",
      "Scaling row group sizes to 76.00% for 10 writers\n",
      "25/08/15 19:03:08 WARN MemoryManager: Total allocation exceeds 95.00% (1,020,054,720 bytes) of heap memory\n",
      "Scaling row group sizes to 84.44% for 9 writers\n",
      "25/08/15 19:03:08 WARN MemoryManager: Total allocation exceeds 95.00% (1,020,054,720 bytes) of heap memory\n",
      "Scaling row group sizes to 95.00% for 8 writers\n"
     ]
    },
    {
     "name": "stdout",
     "output_type": "stream",
     "text": [
      "Processed batch: 1000 rows, Total: 1498000 rows\n",
      "Processed batch: 1000 rows, Total: 1499000 rows\n"
     ]
    },
    {
     "name": "stderr",
     "output_type": "stream",
     "text": [
      "25/08/15 19:03:12 WARN MemoryManager: Total allocation exceeds 95.00% (1,020,054,720 bytes) of heap memory\n",
      "Scaling row group sizes to 95.00% for 8 writers\n",
      "25/08/15 19:03:12 WARN MemoryManager: Total allocation exceeds 95.00% (1,020,054,720 bytes) of heap memory\n",
      "Scaling row group sizes to 84.44% for 9 writers\n",
      "25/08/15 19:03:12 WARN MemoryManager: Total allocation exceeds 95.00% (1,020,054,720 bytes) of heap memory\n",
      "Scaling row group sizes to 95.00% for 8 writers\n",
      "25/08/15 19:03:12 WARN MemoryManager: Total allocation exceeds 95.00% (1,020,054,720 bytes) of heap memory\n",
      "Scaling row group sizes to 84.44% for 9 writers\n",
      "25/08/15 19:03:12 WARN MemoryManager: Total allocation exceeds 95.00% (1,020,054,720 bytes) of heap memory\n",
      "Scaling row group sizes to 76.00% for 10 writers\n",
      "25/08/15 19:03:12 WARN MemoryManager: Total allocation exceeds 95.00% (1,020,054,720 bytes) of heap memory\n",
      "Scaling row group sizes to 84.44% for 9 writers\n",
      "25/08/15 19:03:12 WARN MemoryManager: Total allocation exceeds 95.00% (1,020,054,720 bytes) of heap memory\n",
      "Scaling row group sizes to 95.00% for 8 writers\n"
     ]
    },
    {
     "name": "stdout",
     "output_type": "stream",
     "text": [
      "Processed batch: 1000 rows, Total: 1500000 rows\n",
      "Processed batch: 1000 rows, Total: 1501000 rows\n",
      "Processed batch: 1000 rows, Total: 1502000 rows\n",
      "Processed batch: 1000 rows, Total: 1503000 rows\n"
     ]
    },
    {
     "name": "stderr",
     "output_type": "stream",
     "text": [
      "25/08/15 19:03:20 WARN MemoryManager: Total allocation exceeds 95.00% (1,020,054,720 bytes) of heap memory\n",
      "Scaling row group sizes to 95.00% for 8 writers\n",
      "25/08/15 19:03:20 WARN MemoryManager: Total allocation exceeds 95.00% (1,020,054,720 bytes) of heap memory\n",
      "Scaling row group sizes to 84.44% for 9 writers\n",
      "25/08/15 19:03:20 WARN MemoryManager: Total allocation exceeds 95.00% (1,020,054,720 bytes) of heap memory\n",
      "Scaling row group sizes to 76.00% for 10 writers\n",
      "25/08/15 19:03:20 WARN MemoryManager: Total allocation exceeds 95.00% (1,020,054,720 bytes) of heap memory\n",
      "Scaling row group sizes to 69.09% for 11 writers\n",
      "25/08/15 19:03:20 WARN MemoryManager: Total allocation exceeds 95.00% (1,020,054,720 bytes) of heap memory\n",
      "Scaling row group sizes to 63.33% for 12 writers\n",
      "25/08/15 19:03:20 WARN MemoryManager: Total allocation exceeds 95.00% (1,020,054,720 bytes) of heap memory\n",
      "Scaling row group sizes to 69.09% for 11 writers\n",
      "25/08/15 19:03:20 WARN MemoryManager: Total allocation exceeds 95.00% (1,020,054,720 bytes) of heap memory\n",
      "Scaling row group sizes to 76.00% for 10 writers\n",
      "25/08/15 19:03:20 WARN MemoryManager: Total allocation exceeds 95.00% (1,020,054,720 bytes) of heap memory\n",
      "Scaling row group sizes to 69.09% for 11 writers\n",
      "25/08/15 19:03:20 WARN MemoryManager: Total allocation exceeds 95.00% (1,020,054,720 bytes) of heap memory\n",
      "Scaling row group sizes to 63.33% for 12 writers\n",
      "25/08/15 19:03:20 WARN MemoryManager: Total allocation exceeds 95.00% (1,020,054,720 bytes) of heap memory\n",
      "Scaling row group sizes to 69.09% for 11 writers\n",
      "25/08/15 19:03:20 WARN MemoryManager: Total allocation exceeds 95.00% (1,020,054,720 bytes) of heap memory\n",
      "Scaling row group sizes to 63.33% for 12 writers\n",
      "25/08/15 19:03:20 WARN MemoryManager: Total allocation exceeds 95.00% (1,020,054,720 bytes) of heap memory\n",
      "Scaling row group sizes to 69.09% for 11 writers\n",
      "25/08/15 19:03:20 WARN MemoryManager: Total allocation exceeds 95.00% (1,020,054,720 bytes) of heap memory\n",
      "Scaling row group sizes to 76.00% for 10 writers\n",
      "25/08/15 19:03:20 WARN MemoryManager: Total allocation exceeds 95.00% (1,020,054,720 bytes) of heap memory\n",
      "Scaling row group sizes to 84.44% for 9 writers\n",
      "25/08/15 19:03:20 WARN MemoryManager: Total allocation exceeds 95.00% (1,020,054,720 bytes) of heap memory\n",
      "Scaling row group sizes to 95.00% for 8 writers\n",
      "25/08/15 19:03:20 WARN MemoryManager: Total allocation exceeds 95.00% (1,020,054,720 bytes) of heap memory\n",
      "Scaling row group sizes to 84.44% for 9 writers\n",
      "25/08/15 19:03:20 WARN MemoryManager: Total allocation exceeds 95.00% (1,020,054,720 bytes) of heap memory\n",
      "Scaling row group sizes to 95.00% for 8 writers\n"
     ]
    },
    {
     "name": "stdout",
     "output_type": "stream",
     "text": [
      "Processed batch: 1000 rows, Total: 1504000 rows\n",
      "Processed batch: 997 rows, Total: 1504997 rows\n",
      "Processed batch: 503 rows, Total: 1505500 rows\n",
      "Processed batch: 1000 rows, Total: 1506500 rows\n",
      "Processed batch: 1000 rows, Total: 1507500 rows\n",
      "Processed batch: 1000 rows, Total: 1508500 rows\n",
      "Processed batch: 1000 rows, Total: 1509500 rows\n",
      "Processed batch: 1000 rows, Total: 1510500 rows\n",
      "Processed batch: 1500 rows, Total: 1512000 rows\n",
      "Processed batch: 1000 rows, Total: 1513000 rows\n",
      "Processed batch: 1000 rows, Total: 1514000 rows\n",
      "Processed batch: 1000 rows, Total: 1515000 rows\n"
     ]
    },
    {
     "name": "stderr",
     "output_type": "stream",
     "text": [
      "25/08/15 19:03:44 WARN MemoryManager: Total allocation exceeds 95.00% (1,020,054,720 bytes) of heap memory\n",
      "Scaling row group sizes to 95.00% for 8 writers\n",
      "25/08/15 19:03:44 WARN MemoryManager: Total allocation exceeds 95.00% (1,020,054,720 bytes) of heap memory\n",
      "Scaling row group sizes to 95.00% for 8 writers\n",
      "25/08/15 19:03:44 WARN MemoryManager: Total allocation exceeds 95.00% (1,020,054,720 bytes) of heap memory\n",
      "Scaling row group sizes to 84.44% for 9 writers\n",
      "25/08/15 19:03:44 WARN MemoryManager: Total allocation exceeds 95.00% (1,020,054,720 bytes) of heap memory\n",
      "Scaling row group sizes to 95.00% for 8 writers\n"
     ]
    },
    {
     "name": "stdout",
     "output_type": "stream",
     "text": [
      "Processed batch: 1000 rows, Total: 1516000 rows\n",
      "Processed batch: 1000 rows, Total: 1517000 rows\n"
     ]
    },
    {
     "name": "stderr",
     "output_type": "stream",
     "text": [
      "25/08/15 19:03:48 WARN MemoryManager: Total allocation exceeds 95.00% (1,020,054,720 bytes) of heap memory\n",
      "Scaling row group sizes to 95.00% for 8 writers\n"
     ]
    },
    {
     "name": "stdout",
     "output_type": "stream",
     "text": [
      "Processed batch: 1000 rows, Total: 1518000 rows\n",
      "Processed batch: 1000 rows, Total: 1519000 rows\n"
     ]
    },
    {
     "name": "stderr",
     "output_type": "stream",
     "text": [
      "25/08/15 19:03:52 WARN MemoryManager: Total allocation exceeds 95.00% (1,020,054,720 bytes) of heap memory\n",
      "Scaling row group sizes to 95.00% for 8 writers\n",
      "25/08/15 19:03:52 WARN MemoryManager: Total allocation exceeds 95.00% (1,020,054,720 bytes) of heap memory\n",
      "Scaling row group sizes to 95.00% for 8 writers\n",
      "25/08/15 19:03:52 WARN MemoryManager: Total allocation exceeds 95.00% (1,020,054,720 bytes) of heap memory\n",
      "Scaling row group sizes to 84.44% for 9 writers\n",
      "25/08/15 19:03:52 WARN MemoryManager: Total allocation exceeds 95.00% (1,020,054,720 bytes) of heap memory\n",
      "Scaling row group sizes to 95.00% for 8 writers\n",
      "25/08/15 19:03:52 WARN MemoryManager: Total allocation exceeds 95.00% (1,020,054,720 bytes) of heap memory\n",
      "Scaling row group sizes to 95.00% for 8 writers\n",
      "25/08/15 19:03:52 WARN MemoryManager: Total allocation exceeds 95.00% (1,020,054,720 bytes) of heap memory\n",
      "Scaling row group sizes to 84.44% for 9 writers\n",
      "25/08/15 19:03:52 WARN MemoryManager: Total allocation exceeds 95.00% (1,020,054,720 bytes) of heap memory\n",
      "Scaling row group sizes to 76.00% for 10 writers\n",
      "25/08/15 19:03:52 WARN MemoryManager: Total allocation exceeds 95.00% (1,020,054,720 bytes) of heap memory\n",
      "Scaling row group sizes to 84.44% for 9 writers\n",
      "25/08/15 19:03:52 WARN MemoryManager: Total allocation exceeds 95.00% (1,020,054,720 bytes) of heap memory\n",
      "Scaling row group sizes to 95.00% for 8 writers\n",
      "25/08/15 19:03:52 WARN MemoryManager: Total allocation exceeds 95.00% (1,020,054,720 bytes) of heap memory\n",
      "Scaling row group sizes to 95.00% for 8 writers\n"
     ]
    },
    {
     "name": "stdout",
     "output_type": "stream",
     "text": [
      "Processed batch: 1000 rows, Total: 1520000 rows\n",
      "Processed batch: 1000 rows, Total: 1521000 rows\n",
      "Processed batch: 1000 rows, Total: 1522000 rows\n",
      "Processed batch: 1000 rows, Total: 1523000 rows\n"
     ]
    },
    {
     "name": "stderr",
     "output_type": "stream",
     "text": [
      "25/08/15 19:04:00 WARN MemoryManager: Total allocation exceeds 95.00% (1,020,054,720 bytes) of heap memory\n",
      "Scaling row group sizes to 95.00% for 8 writers\n"
     ]
    },
    {
     "name": "stdout",
     "output_type": "stream",
     "text": [
      "Processed batch: 1000 rows, Total: 1524000 rows\n",
      "Processed batch: 1000 rows, Total: 1525000 rows\n"
     ]
    },
    {
     "name": "stderr",
     "output_type": "stream",
     "text": [
      "25/08/15 19:04:04 WARN MemoryManager: Total allocation exceeds 95.00% (1,020,054,720 bytes) of heap memory\n",
      "Scaling row group sizes to 95.00% for 8 writers\n",
      "25/08/15 19:04:04 WARN MemoryManager: Total allocation exceeds 95.00% (1,020,054,720 bytes) of heap memory\n",
      "Scaling row group sizes to 95.00% for 8 writers\n",
      "25/08/15 19:04:04 WARN MemoryManager: Total allocation exceeds 95.00% (1,020,054,720 bytes) of heap memory\n",
      "Scaling row group sizes to 95.00% for 8 writers\n",
      "25/08/15 19:04:04 WARN MemoryManager: Total allocation exceeds 95.00% (1,020,054,720 bytes) of heap memory\n",
      "Scaling row group sizes to 84.44% for 9 writers\n",
      "25/08/15 19:04:04 WARN MemoryManager: Total allocation exceeds 95.00% (1,020,054,720 bytes) of heap memory\n",
      "Scaling row group sizes to 95.00% for 8 writers\n",
      "25/08/15 19:04:04 WARN MemoryManager: Total allocation exceeds 95.00% (1,020,054,720 bytes) of heap memory\n",
      "Scaling row group sizes to 84.44% for 9 writers\n",
      "25/08/15 19:04:04 WARN MemoryManager: Total allocation exceeds 95.00% (1,020,054,720 bytes) of heap memory\n",
      "Scaling row group sizes to 76.00% for 10 writers\n",
      "25/08/15 19:04:04 WARN MemoryManager: Total allocation exceeds 95.00% (1,020,054,720 bytes) of heap memory\n",
      "Scaling row group sizes to 84.44% for 9 writers\n",
      "25/08/15 19:04:04 WARN MemoryManager: Total allocation exceeds 95.00% (1,020,054,720 bytes) of heap memory\n",
      "Scaling row group sizes to 76.00% for 10 writers\n",
      "25/08/15 19:04:04 WARN MemoryManager: Total allocation exceeds 95.00% (1,020,054,720 bytes) of heap memory\n",
      "Scaling row group sizes to 84.44% for 9 writers\n",
      "25/08/15 19:04:04 WARN MemoryManager: Total allocation exceeds 95.00% (1,020,054,720 bytes) of heap memory\n",
      "Scaling row group sizes to 95.00% for 8 writers\n",
      "25/08/15 19:04:04 WARN MemoryManager: Total allocation exceeds 95.00% (1,020,054,720 bytes) of heap memory\n",
      "Scaling row group sizes to 84.44% for 9 writers\n",
      "25/08/15 19:04:04 WARN MemoryManager: Total allocation exceeds 95.00% (1,020,054,720 bytes) of heap memory\n",
      "Scaling row group sizes to 95.00% for 8 writers\n"
     ]
    },
    {
     "name": "stdout",
     "output_type": "stream",
     "text": [
      "Processed batch: 1000 rows, Total: 1526000 rows\n",
      "Processed batch: 1000 rows, Total: 1527000 rows\n",
      "Processed batch: 1500 rows, Total: 1528500 rows\n",
      "Processed batch: 1000 rows, Total: 1529500 rows\n",
      "Processed batch: 1000 rows, Total: 1530500 rows\n",
      "Processed batch: 1000 rows, Total: 1531500 rows\n"
     ]
    },
    {
     "name": "stderr",
     "output_type": "stream",
     "text": [
      "25/08/15 19:04:16 WARN MemoryManager: Total allocation exceeds 95.00% (1,020,054,720 bytes) of heap memory\n",
      "Scaling row group sizes to 95.00% for 8 writers\n"
     ]
    },
    {
     "name": "stdout",
     "output_type": "stream",
     "text": [
      "Processed batch: 1000 rows, Total: 1532500 rows\n",
      "Processed batch: 1000 rows, Total: 1533500 rows\n",
      "Processed batch: 1000 rows, Total: 1534500 rows\n",
      "Processed batch: 1000 rows, Total: 1535500 rows\n",
      "Processed batch: 1000 rows, Total: 1536500 rows\n",
      "Processed batch: 1000 rows, Total: 1537500 rows\n",
      "Processed batch: 1000 rows, Total: 1538500 rows\n",
      "Processed batch: 1000 rows, Total: 1539500 rows\n",
      "Processed batch: 1000 rows, Total: 1540500 rows\n",
      "Processed batch: 1000 rows, Total: 1541500 rows\n",
      "Processed batch: 1000 rows, Total: 1542500 rows\n",
      "Processed batch: 1500 rows, Total: 1544000 rows\n",
      "Processed batch: 1000 rows, Total: 1545000 rows\n",
      "Processed batch: 1000 rows, Total: 1546000 rows\n",
      "Processed batch: 1000 rows, Total: 1547000 rows\n",
      "Processed batch: 1000 rows, Total: 1548000 rows\n"
     ]
    },
    {
     "name": "stderr",
     "output_type": "stream",
     "text": [
      "25/08/15 19:04:48 WARN MemoryManager: Total allocation exceeds 95.00% (1,020,054,720 bytes) of heap memory\n",
      "Scaling row group sizes to 95.00% for 8 writers\n",
      "25/08/15 19:04:48 WARN MemoryManager: Total allocation exceeds 95.00% (1,020,054,720 bytes) of heap memory\n",
      "Scaling row group sizes to 84.44% for 9 writers\n",
      "25/08/15 19:04:48 WARN MemoryManager: Total allocation exceeds 95.00% (1,020,054,720 bytes) of heap memory\n",
      "Scaling row group sizes to 76.00% for 10 writers\n",
      "25/08/15 19:04:48 WARN MemoryManager: Total allocation exceeds 95.00% (1,020,054,720 bytes) of heap memory\n",
      "Scaling row group sizes to 69.09% for 11 writers\n",
      "25/08/15 19:04:48 WARN MemoryManager: Total allocation exceeds 95.00% (1,020,054,720 bytes) of heap memory\n",
      "Scaling row group sizes to 63.33% for 12 writers\n",
      "25/08/15 19:04:48 WARN MemoryManager: Total allocation exceeds 95.00% (1,020,054,720 bytes) of heap memory\n",
      "Scaling row group sizes to 69.09% for 11 writers\n",
      "25/08/15 19:04:48 WARN MemoryManager: Total allocation exceeds 95.00% (1,020,054,720 bytes) of heap memory\n",
      "Scaling row group sizes to 76.00% for 10 writers\n",
      "25/08/15 19:04:48 WARN MemoryManager: Total allocation exceeds 95.00% (1,020,054,720 bytes) of heap memory\n",
      "Scaling row group sizes to 69.09% for 11 writers\n",
      "25/08/15 19:04:48 WARN MemoryManager: Total allocation exceeds 95.00% (1,020,054,720 bytes) of heap memory\n",
      "Scaling row group sizes to 76.00% for 10 writers\n",
      "25/08/15 19:04:48 WARN MemoryManager: Total allocation exceeds 95.00% (1,020,054,720 bytes) of heap memory\n",
      "Scaling row group sizes to 69.09% for 11 writers\n",
      "25/08/15 19:04:48 WARN MemoryManager: Total allocation exceeds 95.00% (1,020,054,720 bytes) of heap memory\n",
      "Scaling row group sizes to 76.00% for 10 writers\n",
      "25/08/15 19:04:48 WARN MemoryManager: Total allocation exceeds 95.00% (1,020,054,720 bytes) of heap memory\n",
      "Scaling row group sizes to 84.44% for 9 writers\n",
      "25/08/15 19:04:48 WARN MemoryManager: Total allocation exceeds 95.00% (1,020,054,720 bytes) of heap memory\n",
      "Scaling row group sizes to 95.00% for 8 writers\n"
     ]
    },
    {
     "name": "stdout",
     "output_type": "stream",
     "text": [
      "Processed batch: 1000 rows, Total: 1549000 rows\n",
      "Processed batch: 1000 rows, Total: 1550000 rows\n",
      "Processed batch: 1000 rows, Total: 1551000 rows\n",
      "Processed batch: 1000 rows, Total: 1552000 rows\n"
     ]
    },
    {
     "name": "stderr",
     "output_type": "stream",
     "text": [
      "25/08/15 19:04:56 WARN MemoryManager: Total allocation exceeds 95.00% (1,020,054,720 bytes) of heap memory\n",
      "Scaling row group sizes to 95.00% for 8 writers\n",
      "25/08/15 19:04:56 WARN MemoryManager: Total allocation exceeds 95.00% (1,020,054,720 bytes) of heap memory\n",
      "Scaling row group sizes to 84.44% for 9 writers\n",
      "25/08/15 19:04:56 WARN MemoryManager: Total allocation exceeds 95.00% (1,020,054,720 bytes) of heap memory\n",
      "Scaling row group sizes to 95.00% for 8 writers\n",
      "25/08/15 19:04:56 WARN MemoryManager: Total allocation exceeds 95.00% (1,020,054,720 bytes) of heap memory\n",
      "Scaling row group sizes to 84.44% for 9 writers\n",
      "25/08/15 19:04:56 WARN MemoryManager: Total allocation exceeds 95.00% (1,020,054,720 bytes) of heap memory\n",
      "Scaling row group sizes to 95.00% for 8 writers\n",
      "25/08/15 19:04:56 WARN MemoryManager: Total allocation exceeds 95.00% (1,020,054,720 bytes) of heap memory\n",
      "Scaling row group sizes to 84.44% for 9 writers\n",
      "25/08/15 19:04:56 WARN MemoryManager: Total allocation exceeds 95.00% (1,020,054,720 bytes) of heap memory\n",
      "Scaling row group sizes to 95.00% for 8 writers\n",
      "25/08/15 19:04:56 WARN MemoryManager: Total allocation exceeds 95.00% (1,020,054,720 bytes) of heap memory\n",
      "Scaling row group sizes to 95.00% for 8 writers\n",
      "25/08/15 19:04:56 WARN MemoryManager: Total allocation exceeds 95.00% (1,020,054,720 bytes) of heap memory\n",
      "Scaling row group sizes to 95.00% for 8 writers\n"
     ]
    },
    {
     "name": "stdout",
     "output_type": "stream",
     "text": [
      "Processed batch: 1000 rows, Total: 1553000 rows\n",
      "Processed batch: 1000 rows, Total: 1554000 rows\n",
      "Processed batch: 1000 rows, Total: 1555000 rows\n",
      "Processed batch: 1000 rows, Total: 1556000 rows\n",
      "Processed batch: 1000 rows, Total: 1557000 rows\n",
      "Processed batch: 500 rows, Total: 1557500 rows\n"
     ]
    },
    {
     "name": "stderr",
     "output_type": "stream",
     "text": [
      "25/08/15 19:05:08 WARN MemoryManager: Total allocation exceeds 95.00% (1,020,054,720 bytes) of heap memory\n",
      "Scaling row group sizes to 95.00% for 8 writers\n"
     ]
    },
    {
     "name": "stdout",
     "output_type": "stream",
     "text": [
      "Processed batch: 1000 rows, Total: 1558500 rows\n",
      "Processed batch: 2000 rows, Total: 1560500 rows\n"
     ]
    },
    {
     "name": "stderr",
     "output_type": "stream",
     "text": [
      "25/08/15 19:05:12 WARN MemoryManager: Total allocation exceeds 95.00% (1,020,054,720 bytes) of heap memory\n",
      "Scaling row group sizes to 95.00% for 8 writers\n",
      "25/08/15 19:05:12 WARN MemoryManager: Total allocation exceeds 95.00% (1,020,054,720 bytes) of heap memory\n",
      "Scaling row group sizes to 84.44% for 9 writers\n",
      "25/08/15 19:05:12 WARN MemoryManager: Total allocation exceeds 95.00% (1,020,054,720 bytes) of heap memory\n",
      "Scaling row group sizes to 95.00% for 8 writers\n"
     ]
    },
    {
     "name": "stdout",
     "output_type": "stream",
     "text": [
      "Processed batch: 1000 rows, Total: 1561500 rows\n",
      "Processed batch: 1000 rows, Total: 1562500 rows\n",
      "Processed batch: 1000 rows, Total: 1563500 rows\n",
      "Processed batch: 912 rows, Total: 1564412 rows\n",
      "Processed batch: 588 rows, Total: 1565000 rows\n",
      "Processed batch: 1000 rows, Total: 1566000 rows\n"
     ]
    },
    {
     "name": "stderr",
     "output_type": "stream",
     "text": [
      "25/08/15 19:05:24 WARN MemoryManager: Total allocation exceeds 95.00% (1,020,054,720 bytes) of heap memory\n",
      "Scaling row group sizes to 95.00% for 8 writers\n"
     ]
    },
    {
     "name": "stdout",
     "output_type": "stream",
     "text": [
      "Processed batch: 1000 rows, Total: 1567000 rows\n",
      "Processed batch: 1000 rows, Total: 1568000 rows\n"
     ]
    },
    {
     "name": "stderr",
     "output_type": "stream",
     "text": [
      "25/08/15 19:05:28 WARN MemoryManager: Total allocation exceeds 95.00% (1,020,054,720 bytes) of heap memory\n",
      "Scaling row group sizes to 95.00% for 8 writers\n",
      "25/08/15 19:05:28 WARN MemoryManager: Total allocation exceeds 95.00% (1,020,054,720 bytes) of heap memory\n",
      "Scaling row group sizes to 84.44% for 9 writers\n",
      "25/08/15 19:05:28 WARN MemoryManager: Total allocation exceeds 95.00% (1,020,054,720 bytes) of heap memory\n",
      "Scaling row group sizes to 95.00% for 8 writers\n"
     ]
    },
    {
     "name": "stdout",
     "output_type": "stream",
     "text": [
      "Processed batch: 1000 rows, Total: 1569000 rows\n",
      "Processed batch: 1000 rows, Total: 1570000 rows\n",
      "Processed batch: 1000 rows, Total: 1571000 rows\n",
      "Processed batch: 1000 rows, Total: 1572000 rows\n",
      "Processed batch: 1000 rows, Total: 1573000 rows\n",
      "Processed batch: 1000 rows, Total: 1574000 rows\n"
     ]
    },
    {
     "name": "stderr",
     "output_type": "stream",
     "text": [
      "25/08/15 19:05:40 WARN MemoryManager: Total allocation exceeds 95.00% (1,020,054,720 bytes) of heap memory\n",
      "Scaling row group sizes to 95.00% for 8 writers\n",
      "25/08/15 19:05:40 WARN MemoryManager: Total allocation exceeds 95.00% (1,020,054,720 bytes) of heap memory\n",
      "Scaling row group sizes to 84.44% for 9 writers\n",
      "25/08/15 19:05:40 WARN MemoryManager: Total allocation exceeds 95.00% (1,020,054,720 bytes) of heap memory\n",
      "Scaling row group sizes to 95.00% for 8 writers\n"
     ]
    },
    {
     "name": "stdout",
     "output_type": "stream",
     "text": [
      "Processed batch: 1500 rows, Total: 1575500 rows\n",
      "Processed batch: 1000 rows, Total: 1576500 rows\n",
      "Processed batch: 1000 rows, Total: 1577500 rows\n",
      "Processed batch: 1000 rows, Total: 1578500 rows\n",
      "Processed batch: 1000 rows, Total: 1579500 rows\n",
      "Processed batch: 1000 rows, Total: 1580500 rows\n",
      "Processed batch: 1000 rows, Total: 1581500 rows\n",
      "Processed batch: 1000 rows, Total: 1582500 rows\n"
     ]
    },
    {
     "name": "stderr",
     "output_type": "stream",
     "text": [
      "25/08/15 19:05:56 WARN MemoryManager: Total allocation exceeds 95.00% (1,020,054,720 bytes) of heap memory\n",
      "Scaling row group sizes to 95.00% for 8 writers\n"
     ]
    },
    {
     "name": "stdout",
     "output_type": "stream",
     "text": [
      "Processed batch: 1000 rows, Total: 1583500 rows\n",
      "Processed batch: 1000 rows, Total: 1584500 rows\n",
      "Processed batch: 1000 rows, Total: 1585500 rows\n",
      "Processed batch: 1000 rows, Total: 1586500 rows\n"
     ]
    },
    {
     "name": "stderr",
     "output_type": "stream",
     "text": [
      "25/08/15 19:06:04 WARN MemoryManager: Total allocation exceeds 95.00% (1,020,054,720 bytes) of heap memory\n",
      "Scaling row group sizes to 95.00% for 8 writers\n",
      "25/08/15 19:06:04 WARN MemoryManager: Total allocation exceeds 95.00% (1,020,054,720 bytes) of heap memory\n",
      "Scaling row group sizes to 84.44% for 9 writers\n",
      "25/08/15 19:06:04 WARN MemoryManager: Total allocation exceeds 95.00% (1,020,054,720 bytes) of heap memory\n",
      "Scaling row group sizes to 95.00% for 8 writers\n"
     ]
    },
    {
     "name": "stdout",
     "output_type": "stream",
     "text": [
      "Processed batch: 1000 rows, Total: 1587500 rows\n",
      "Processed batch: 1000 rows, Total: 1588500 rows\n"
     ]
    },
    {
     "name": "stderr",
     "output_type": "stream",
     "text": [
      "25/08/15 19:06:08 WARN MemoryManager: Total allocation exceeds 95.00% (1,020,054,720 bytes) of heap memory\n",
      "Scaling row group sizes to 95.00% for 8 writers\n"
     ]
    },
    {
     "name": "stdout",
     "output_type": "stream",
     "text": [
      "Processed batch: 1000 rows, Total: 1589500 rows\n",
      "Processed batch: 1000 rows, Total: 1590500 rows\n",
      "Processed batch: 1500 rows, Total: 1592000 rows\n",
      "Processed batch: 1000 rows, Total: 1593000 rows\n",
      "Processed batch: 1000 rows, Total: 1594000 rows\n"
     ]
    },
    {
     "name": "stderr",
     "output_type": "stream",
     "text": [
      "25/08/15 19:06:18 WARN MemoryManager: Total allocation exceeds 95.00% (1,020,054,720 bytes) of heap memory\n",
      "Scaling row group sizes to 95.00% for 8 writers\n"
     ]
    },
    {
     "name": "stdout",
     "output_type": "stream",
     "text": [
      "Processed batch: 1000 rows, Total: 1595000 rows\n",
      "Processed batch: 1000 rows, Total: 1596000 rows\n",
      "Processed batch: 1000 rows, Total: 1597000 rows\n",
      "Processed batch: 1000 rows, Total: 1598000 rows\n"
     ]
    },
    {
     "name": "stderr",
     "output_type": "stream",
     "text": [
      "25/08/15 19:06:26 WARN MemoryManager: Total allocation exceeds 95.00% (1,020,054,720 bytes) of heap memory\n",
      "Scaling row group sizes to 95.00% for 8 writers\n"
     ]
    },
    {
     "name": "stdout",
     "output_type": "stream",
     "text": [
      "Processed batch: 1000 rows, Total: 1599000 rows\n"
     ]
    },
    {
     "name": "stderr",
     "output_type": "stream",
     "text": [
      "25/08/15 19:06:28 WARN MemoryManager: Total allocation exceeds 95.00% (1,020,054,720 bytes) of heap memory\n",
      "Scaling row group sizes to 95.00% for 8 writers\n"
     ]
    },
    {
     "name": "stdout",
     "output_type": "stream",
     "text": [
      "Processed batch: 1000 rows, Total: 1600000 rows\n",
      "Processed batch: 1000 rows, Total: 1601000 rows\n"
     ]
    },
    {
     "name": "stderr",
     "output_type": "stream",
     "text": [
      "25/08/15 19:06:32 WARN MemoryManager: Total allocation exceeds 95.00% (1,020,054,720 bytes) of heap memory\n",
      "Scaling row group sizes to 95.00% for 8 writers\n",
      "25/08/15 19:06:32 WARN MemoryManager: Total allocation exceeds 95.00% (1,020,054,720 bytes) of heap memory\n",
      "Scaling row group sizes to 84.44% for 9 writers\n",
      "25/08/15 19:06:32 WARN MemoryManager: Total allocation exceeds 95.00% (1,020,054,720 bytes) of heap memory\n",
      "Scaling row group sizes to 76.00% for 10 writers\n",
      "25/08/15 19:06:32 WARN MemoryManager: Total allocation exceeds 95.00% (1,020,054,720 bytes) of heap memory\n",
      "Scaling row group sizes to 69.09% for 11 writers\n",
      "25/08/15 19:06:32 WARN MemoryManager: Total allocation exceeds 95.00% (1,020,054,720 bytes) of heap memory\n",
      "Scaling row group sizes to 63.33% for 12 writers\n",
      "25/08/15 19:06:32 WARN MemoryManager: Total allocation exceeds 95.00% (1,020,054,720 bytes) of heap memory\n",
      "Scaling row group sizes to 69.09% for 11 writers\n",
      "25/08/15 19:06:32 WARN MemoryManager: Total allocation exceeds 95.00% (1,020,054,720 bytes) of heap memory\n",
      "Scaling row group sizes to 63.33% for 12 writers\n",
      "25/08/15 19:06:32 WARN MemoryManager: Total allocation exceeds 95.00% (1,020,054,720 bytes) of heap memory\n",
      "Scaling row group sizes to 58.46% for 13 writers\n",
      "25/08/15 19:06:32 WARN MemoryManager: Total allocation exceeds 95.00% (1,020,054,720 bytes) of heap memory\n",
      "Scaling row group sizes to 63.33% for 12 writers\n",
      "25/08/15 19:06:32 WARN MemoryManager: Total allocation exceeds 95.00% (1,020,054,720 bytes) of heap memory\n",
      "Scaling row group sizes to 69.09% for 11 writers\n",
      "25/08/15 19:06:32 WARN MemoryManager: Total allocation exceeds 95.00% (1,020,054,720 bytes) of heap memory\n",
      "Scaling row group sizes to 76.00% for 10 writers\n",
      "25/08/15 19:06:32 WARN MemoryManager: Total allocation exceeds 95.00% (1,020,054,720 bytes) of heap memory\n",
      "Scaling row group sizes to 84.44% for 9 writers\n",
      "25/08/15 19:06:32 WARN MemoryManager: Total allocation exceeds 95.00% (1,020,054,720 bytes) of heap memory\n",
      "Scaling row group sizes to 95.00% for 8 writers\n"
     ]
    },
    {
     "name": "stdout",
     "output_type": "stream",
     "text": [
      "Processed batch: 1000 rows, Total: 1602000 rows\n",
      "Processed batch: 1000 rows, Total: 1603000 rows\n",
      "Processed batch: 1000 rows, Total: 1604000 rows\n",
      "Processed batch: 1000 rows, Total: 1605000 rows\n",
      "Processed batch: 1000 rows, Total: 1606000 rows\n",
      "Processed batch: 1500 rows, Total: 1607500 rows\n",
      "Processed batch: 1000 rows, Total: 1608500 rows\n",
      "Processed batch: 1000 rows, Total: 1609500 rows\n",
      "Processed batch: 1000 rows, Total: 1610500 rows\n",
      "Processed batch: 1000 rows, Total: 1611500 rows\n",
      "Processed batch: 1000 rows, Total: 1612500 rows\n",
      "Processed batch: 1000 rows, Total: 1613500 rows\n",
      "Processed batch: 1000 rows, Total: 1614500 rows\n",
      "Processed batch: 1000 rows, Total: 1615500 rows\n",
      "Processed batch: 1000 rows, Total: 1616500 rows\n",
      "Processed batch: 1000 rows, Total: 1617500 rows\n",
      "Processed batch: 500 rows, Total: 1618000 rows\n",
      "Processed batch: 1000 rows, Total: 1619000 rows\n"
     ]
    },
    {
     "name": "stderr",
     "output_type": "stream",
     "text": [
      "25/08/15 19:07:08 WARN MemoryManager: Total allocation exceeds 95.00% (1,020,054,720 bytes) of heap memory\n",
      "Scaling row group sizes to 95.00% for 8 writers\n"
     ]
    },
    {
     "name": "stdout",
     "output_type": "stream",
     "text": [
      "Processed batch: 1000 rows, Total: 1620000 rows\n",
      "Processed batch: 1000 rows, Total: 1621000 rows\n",
      "Processed batch: 1000 rows, Total: 1622000 rows\n",
      "Processed batch: 2000 rows, Total: 1624000 rows\n"
     ]
    },
    {
     "name": "stderr",
     "output_type": "stream",
     "text": [
      "25/08/15 19:07:16 WARN MemoryManager: Total allocation exceeds 95.00% (1,020,054,720 bytes) of heap memory\n",
      "Scaling row group sizes to 95.00% for 8 writers\n",
      "25/08/15 19:07:16 WARN MemoryManager: Total allocation exceeds 95.00% (1,020,054,720 bytes) of heap memory\n",
      "Scaling row group sizes to 84.44% for 9 writers\n",
      "25/08/15 19:07:16 WARN MemoryManager: Total allocation exceeds 95.00% (1,020,054,720 bytes) of heap memory\n",
      "Scaling row group sizes to 95.00% for 8 writers\n"
     ]
    },
    {
     "name": "stdout",
     "output_type": "stream",
     "text": [
      "Processed batch: 1000 rows, Total: 1625000 rows\n",
      "Processed batch: 1000 rows, Total: 1626000 rows\n",
      "Processed batch: 500 rows, Total: 1626500 rows\n",
      "Processed batch: 1000 rows, Total: 1627500 rows\n",
      "Processed batch: 1000 rows, Total: 1628500 rows\n",
      "Processed batch: 1000 rows, Total: 1629500 rows\n",
      "Processed batch: 1000 rows, Total: 1630500 rows\n",
      "Processed batch: 1000 rows, Total: 1631500 rows\n",
      "Processed batch: 1000 rows, Total: 1632500 rows\n"
     ]
    },
    {
     "name": "stderr",
     "output_type": "stream",
     "text": [
      "25/08/15 19:07:34 WARN MemoryManager: Total allocation exceeds 95.00% (1,020,054,720 bytes) of heap memory\n",
      "Scaling row group sizes to 95.00% for 8 writers\n",
      "25/08/15 19:07:34 WARN MemoryManager: Total allocation exceeds 95.00% (1,020,054,720 bytes) of heap memory\n",
      "Scaling row group sizes to 84.44% for 9 writers\n",
      "25/08/15 19:07:34 WARN MemoryManager: Total allocation exceeds 95.00% (1,020,054,720 bytes) of heap memory\n",
      "Scaling row group sizes to 76.00% for 10 writers\n",
      "25/08/15 19:07:34 WARN MemoryManager: Total allocation exceeds 95.00% (1,020,054,720 bytes) of heap memory\n",
      "Scaling row group sizes to 69.09% for 11 writers\n",
      "25/08/15 19:07:34 WARN MemoryManager: Total allocation exceeds 95.00% (1,020,054,720 bytes) of heap memory\n",
      "Scaling row group sizes to 63.33% for 12 writers\n",
      "25/08/15 19:07:34 WARN MemoryManager: Total allocation exceeds 95.00% (1,020,054,720 bytes) of heap memory\n",
      "Scaling row group sizes to 69.09% for 11 writers\n",
      "25/08/15 19:07:34 WARN MemoryManager: Total allocation exceeds 95.00% (1,020,054,720 bytes) of heap memory\n",
      "Scaling row group sizes to 76.00% for 10 writers\n",
      "25/08/15 19:07:34 WARN MemoryManager: Total allocation exceeds 95.00% (1,020,054,720 bytes) of heap memory\n",
      "Scaling row group sizes to 84.44% for 9 writers\n",
      "25/08/15 19:07:34 WARN MemoryManager: Total allocation exceeds 95.00% (1,020,054,720 bytes) of heap memory\n",
      "Scaling row group sizes to 95.00% for 8 writers\n"
     ]
    },
    {
     "name": "stdout",
     "output_type": "stream",
     "text": [
      "Processed batch: 1000 rows, Total: 1633500 rows\n"
     ]
    },
    {
     "name": "stderr",
     "output_type": "stream",
     "text": [
      "25/08/15 19:07:36 WARN MemoryManager: Total allocation exceeds 95.00% (1,020,054,720 bytes) of heap memory\n",
      "Scaling row group sizes to 95.00% for 8 writers\n",
      "25/08/15 19:07:36 WARN MemoryManager: Total allocation exceeds 95.00% (1,020,054,720 bytes) of heap memory\n",
      "Scaling row group sizes to 95.00% for 8 writers\n",
      "25/08/15 19:07:36 WARN MemoryManager: Total allocation exceeds 95.00% (1,020,054,720 bytes) of heap memory\n",
      "Scaling row group sizes to 84.44% for 9 writers\n",
      "25/08/15 19:07:36 WARN MemoryManager: Total allocation exceeds 95.00% (1,020,054,720 bytes) of heap memory\n",
      "Scaling row group sizes to 95.00% for 8 writers\n",
      "25/08/15 19:07:36 WARN MemoryManager: Total allocation exceeds 95.00% (1,020,054,720 bytes) of heap memory\n",
      "Scaling row group sizes to 84.44% for 9 writers\n",
      "25/08/15 19:07:36 WARN MemoryManager: Total allocation exceeds 95.00% (1,020,054,720 bytes) of heap memory\n",
      "Scaling row group sizes to 95.00% for 8 writers\n"
     ]
    },
    {
     "name": "stdout",
     "output_type": "stream",
     "text": [
      "Processed batch: 1000 rows, Total: 1634500 rows\n",
      "Processed batch: 1000 rows, Total: 1635500 rows\n",
      "Processed batch: 1000 rows, Total: 1636500 rows\n",
      "Processed batch: 1000 rows, Total: 1637500 rows\n",
      "Processed batch: 1500 rows, Total: 1639000 rows\n",
      "Processed batch: 1000 rows, Total: 1640000 rows\n",
      "Processed batch: 1000 rows, Total: 1641000 rows\n",
      "Processed batch: 1000 rows, Total: 1642000 rows\n",
      "Processed batch: 1000 rows, Total: 1643000 rows\n",
      "Processed batch: 1000 rows, Total: 1644000 rows\n",
      "Processed batch: 1000 rows, Total: 1645000 rows\n",
      "Processed batch: 1000 rows, Total: 1646000 rows\n",
      "Processed batch: 1000 rows, Total: 1647000 rows\n",
      "Processed batch: 1000 rows, Total: 1648000 rows\n",
      "Processed batch: 1000 rows, Total: 1649000 rows\n"
     ]
    },
    {
     "name": "stderr",
     "output_type": "stream",
     "text": [
      "25/08/15 19:08:06 WARN MemoryManager: Total allocation exceeds 95.00% (1,020,054,720 bytes) of heap memory\n",
      "Scaling row group sizes to 95.00% for 8 writers\n",
      "25/08/15 19:08:06 WARN MemoryManager: Total allocation exceeds 95.00% (1,020,054,720 bytes) of heap memory\n",
      "Scaling row group sizes to 95.00% for 8 writers\n"
     ]
    },
    {
     "name": "stdout",
     "output_type": "stream",
     "text": [
      "Processed batch: 1000 rows, Total: 1650000 rows\n",
      "Processed batch: 1000 rows, Total: 1651000 rows\n",
      "Processed batch: 1000 rows, Total: 1652000 rows\n"
     ]
    },
    {
     "name": "stderr",
     "output_type": "stream",
     "text": [
      "25/08/15 19:08:12 WARN MemoryManager: Total allocation exceeds 95.00% (1,020,054,720 bytes) of heap memory\n",
      "Scaling row group sizes to 95.00% for 8 writers\n"
     ]
    },
    {
     "name": "stdout",
     "output_type": "stream",
     "text": [
      "Processed batch: 1000 rows, Total: 1653000 rows\n",
      "Processed batch: 1000 rows, Total: 1654000 rows\n"
     ]
    },
    {
     "name": "stderr",
     "output_type": "stream",
     "text": [
      "25/08/15 19:08:16 WARN MemoryManager: Total allocation exceeds 95.00% (1,020,054,720 bytes) of heap memory\n",
      "Scaling row group sizes to 95.00% for 8 writers\n",
      "25/08/15 19:08:16 WARN MemoryManager: Total allocation exceeds 95.00% (1,020,054,720 bytes) of heap memory\n",
      "Scaling row group sizes to 84.44% for 9 writers\n",
      "25/08/15 19:08:16 WARN MemoryManager: Total allocation exceeds 95.00% (1,020,054,720 bytes) of heap memory\n",
      "Scaling row group sizes to 76.00% for 10 writers\n",
      "25/08/15 19:08:16 WARN MemoryManager: Total allocation exceeds 95.00% (1,020,054,720 bytes) of heap memory\n",
      "Scaling row group sizes to 69.09% for 11 writers\n",
      "25/08/15 19:08:16 WARN MemoryManager: Total allocation exceeds 95.00% (1,020,054,720 bytes) of heap memory\n",
      "Scaling row group sizes to 63.33% for 12 writers\n",
      "25/08/15 19:08:16 WARN MemoryManager: Total allocation exceeds 95.00% (1,020,054,720 bytes) of heap memory\n",
      "Scaling row group sizes to 69.09% for 11 writers\n",
      "25/08/15 19:08:16 WARN MemoryManager: Total allocation exceeds 95.00% (1,020,054,720 bytes) of heap memory\n",
      "Scaling row group sizes to 76.00% for 10 writers\n",
      "25/08/15 19:08:16 WARN MemoryManager: Total allocation exceeds 95.00% (1,020,054,720 bytes) of heap memory\n",
      "Scaling row group sizes to 69.09% for 11 writers\n",
      "25/08/15 19:08:16 WARN MemoryManager: Total allocation exceeds 95.00% (1,020,054,720 bytes) of heap memory\n",
      "Scaling row group sizes to 76.00% for 10 writers\n",
      "25/08/15 19:08:16 WARN MemoryManager: Total allocation exceeds 95.00% (1,020,054,720 bytes) of heap memory\n",
      "Scaling row group sizes to 84.44% for 9 writers\n",
      "25/08/15 19:08:16 WARN MemoryManager: Total allocation exceeds 95.00% (1,020,054,720 bytes) of heap memory\n",
      "Scaling row group sizes to 76.00% for 10 writers\n",
      "25/08/15 19:08:16 WARN MemoryManager: Total allocation exceeds 95.00% (1,020,054,720 bytes) of heap memory\n",
      "Scaling row group sizes to 84.44% for 9 writers\n",
      "25/08/15 19:08:16 WARN MemoryManager: Total allocation exceeds 95.00% (1,020,054,720 bytes) of heap memory\n",
      "Scaling row group sizes to 95.00% for 8 writers\n"
     ]
    },
    {
     "name": "stdout",
     "output_type": "stream",
     "text": [
      "Processed batch: 1500 rows, Total: 1655500 rows\n",
      "Processed batch: 1000 rows, Total: 1656500 rows\n"
     ]
    },
    {
     "name": "stderr",
     "output_type": "stream",
     "text": [
      "25/08/15 19:08:20 WARN MemoryManager: Total allocation exceeds 95.00% (1,020,054,720 bytes) of heap memory\n",
      "Scaling row group sizes to 95.00% for 8 writers\n",
      "25/08/15 19:08:20 WARN MemoryManager: Total allocation exceeds 95.00% (1,020,054,720 bytes) of heap memory\n",
      "Scaling row group sizes to 95.00% for 8 writers\n"
     ]
    },
    {
     "name": "stdout",
     "output_type": "stream",
     "text": [
      "Processed batch: 1000 rows, Total: 1657500 rows\n",
      "Processed batch: 1000 rows, Total: 1658500 rows\n",
      "Processed batch: 1000 rows, Total: 1659500 rows\n",
      "Processed batch: 1000 rows, Total: 1660500 rows\n",
      "Processed batch: 1000 rows, Total: 1661500 rows\n",
      "Processed batch: 1000 rows, Total: 1662500 rows\n",
      "Processed batch: 1000 rows, Total: 1663500 rows\n",
      "Processed batch: 1000 rows, Total: 1664500 rows\n",
      "Processed batch: 1000 rows, Total: 1665500 rows\n",
      "Processed batch: 1000 rows, Total: 1666500 rows\n",
      "Processed batch: 1000 rows, Total: 1667500 rows\n",
      "Processed batch: 1000 rows, Total: 1668500 rows\n",
      "Processed batch: 1000 rows, Total: 1669500 rows\n",
      "Processed batch: 1500 rows, Total: 1671000 rows\n",
      "Processed batch: 1000 rows, Total: 1672000 rows\n",
      "Processed batch: 1000 rows, Total: 1673000 rows\n"
     ]
    },
    {
     "name": "stderr",
     "output_type": "stream",
     "text": [
      "25/08/15 19:08:52 WARN MemoryManager: Total allocation exceeds 95.00% (1,020,054,720 bytes) of heap memory\n",
      "Scaling row group sizes to 95.00% for 8 writers\n",
      "25/08/15 19:08:52 WARN MemoryManager: Total allocation exceeds 95.00% (1,020,054,720 bytes) of heap memory\n",
      "Scaling row group sizes to 95.00% for 8 writers\n",
      "25/08/15 19:08:52 WARN MemoryManager: Total allocation exceeds 95.00% (1,020,054,720 bytes) of heap memory\n",
      "Scaling row group sizes to 95.00% for 8 writers\n",
      "25/08/15 19:08:52 WARN MemoryManager: Total allocation exceeds 95.00% (1,020,054,720 bytes) of heap memory\n",
      "Scaling row group sizes to 84.44% for 9 writers\n",
      "25/08/15 19:08:52 WARN MemoryManager: Total allocation exceeds 95.00% (1,020,054,720 bytes) of heap memory\n",
      "Scaling row group sizes to 95.00% for 8 writers\n",
      "25/08/15 19:08:52 WARN MemoryManager: Total allocation exceeds 95.00% (1,020,054,720 bytes) of heap memory\n",
      "Scaling row group sizes to 84.44% for 9 writers\n",
      "25/08/15 19:08:52 WARN MemoryManager: Total allocation exceeds 95.00% (1,020,054,720 bytes) of heap memory\n",
      "Scaling row group sizes to 95.00% for 8 writers\n",
      "25/08/15 19:08:52 WARN MemoryManager: Total allocation exceeds 95.00% (1,020,054,720 bytes) of heap memory\n",
      "Scaling row group sizes to 84.44% for 9 writers\n",
      "25/08/15 19:08:52 WARN MemoryManager: Total allocation exceeds 95.00% (1,020,054,720 bytes) of heap memory\n",
      "Scaling row group sizes to 95.00% for 8 writers\n",
      "25/08/15 19:08:52 WARN MemoryManager: Total allocation exceeds 95.00% (1,020,054,720 bytes) of heap memory\n",
      "Scaling row group sizes to 84.44% for 9 writers\n",
      "25/08/15 19:08:52 WARN MemoryManager: Total allocation exceeds 95.00% (1,020,054,720 bytes) of heap memory\n",
      "Scaling row group sizes to 95.00% for 8 writers\n"
     ]
    },
    {
     "name": "stdout",
     "output_type": "stream",
     "text": [
      "Processed batch: 1000 rows, Total: 1674000 rows\n",
      "Processed batch: 1000 rows, Total: 1675000 rows\n"
     ]
    },
    {
     "name": "stderr",
     "output_type": "stream",
     "text": [
      "25/08/15 19:08:56 WARN MemoryManager: Total allocation exceeds 95.00% (1,020,054,720 bytes) of heap memory\n",
      "Scaling row group sizes to 95.00% for 8 writers\n",
      "25/08/15 19:08:56 WARN MemoryManager: Total allocation exceeds 95.00% (1,020,054,720 bytes) of heap memory\n",
      "Scaling row group sizes to 95.00% for 8 writers\n"
     ]
    },
    {
     "name": "stdout",
     "output_type": "stream",
     "text": [
      "Processed batch: 1000 rows, Total: 1676000 rows\n",
      "Processed batch: 1000 rows, Total: 1677000 rows\n",
      "Processed batch: 1000 rows, Total: 1678000 rows\n",
      "Processed batch: 500 rows, Total: 1678500 rows\n",
      "Processed batch: 1000 rows, Total: 1679500 rows\n",
      "Processed batch: 1000 rows, Total: 1680500 rows\n"
     ]
    },
    {
     "name": "stderr",
     "output_type": "stream",
     "text": [
      "25/08/15 19:09:08 WARN MemoryManager: Total allocation exceeds 95.00% (1,020,054,720 bytes) of heap memory\n",
      "Scaling row group sizes to 95.00% for 8 writers\n",
      "25/08/15 19:09:08 WARN MemoryManager: Total allocation exceeds 95.00% (1,020,054,720 bytes) of heap memory\n",
      "Scaling row group sizes to 84.44% for 9 writers\n",
      "25/08/15 19:09:08 WARN MemoryManager: Total allocation exceeds 95.00% (1,020,054,720 bytes) of heap memory\n",
      "Scaling row group sizes to 95.00% for 8 writers\n",
      "25/08/15 19:09:08 WARN MemoryManager: Total allocation exceeds 95.00% (1,020,054,720 bytes) of heap memory\n",
      "Scaling row group sizes to 95.00% for 8 writers\n",
      "25/08/15 19:09:08 WARN MemoryManager: Total allocation exceeds 95.00% (1,020,054,720 bytes) of heap memory\n",
      "Scaling row group sizes to 84.44% for 9 writers\n",
      "25/08/15 19:09:08 WARN MemoryManager: Total allocation exceeds 95.00% (1,020,054,720 bytes) of heap memory\n",
      "Scaling row group sizes to 76.00% for 10 writers\n",
      "25/08/15 19:09:08 WARN MemoryManager: Total allocation exceeds 95.00% (1,020,054,720 bytes) of heap memory\n",
      "Scaling row group sizes to 69.09% for 11 writers\n",
      "25/08/15 19:09:08 WARN MemoryManager: Total allocation exceeds 95.00% (1,020,054,720 bytes) of heap memory\n",
      "Scaling row group sizes to 76.00% for 10 writers\n",
      "25/08/15 19:09:08 WARN MemoryManager: Total allocation exceeds 95.00% (1,020,054,720 bytes) of heap memory\n",
      "Scaling row group sizes to 84.44% for 9 writers\n",
      "25/08/15 19:09:08 WARN MemoryManager: Total allocation exceeds 95.00% (1,020,054,720 bytes) of heap memory\n",
      "Scaling row group sizes to 95.00% for 8 writers\n"
     ]
    },
    {
     "name": "stdout",
     "output_type": "stream",
     "text": [
      "Processed batch: 1000 rows, Total: 1681500 rows\n",
      "Processed batch: 1000 rows, Total: 1682500 rows\n"
     ]
    },
    {
     "name": "stderr",
     "output_type": "stream",
     "text": [
      "25/08/15 19:09:12 WARN MemoryManager: Total allocation exceeds 95.00% (1,020,054,720 bytes) of heap memory\n",
      "Scaling row group sizes to 95.00% for 8 writers\n",
      "25/08/15 19:09:12 WARN MemoryManager: Total allocation exceeds 95.00% (1,020,054,720 bytes) of heap memory\n",
      "Scaling row group sizes to 84.44% for 9 writers\n",
      "25/08/15 19:09:12 WARN MemoryManager: Total allocation exceeds 95.00% (1,020,054,720 bytes) of heap memory\n",
      "Scaling row group sizes to 76.00% for 10 writers\n",
      "25/08/15 19:09:12 WARN MemoryManager: Total allocation exceeds 95.00% (1,020,054,720 bytes) of heap memory\n",
      "Scaling row group sizes to 84.44% for 9 writers\n",
      "25/08/15 19:09:12 WARN MemoryManager: Total allocation exceeds 95.00% (1,020,054,720 bytes) of heap memory\n",
      "Scaling row group sizes to 95.00% for 8 writers\n"
     ]
    },
    {
     "name": "stdout",
     "output_type": "stream",
     "text": [
      "Processed batch: 1000 rows, Total: 1683500 rows\n",
      "Processed batch: 1000 rows, Total: 1684500 rows\n",
      "Processed batch: 1000 rows, Total: 1685500 rows\n",
      "Processed batch: 1500 rows, Total: 1687000 rows\n",
      "Processed batch: 1000 rows, Total: 1688000 rows\n",
      "Processed batch: 1000 rows, Total: 1689000 rows\n",
      "Processed batch: 1000 rows, Total: 1690000 rows\n",
      "Processed batch: 1000 rows, Total: 1691000 rows\n",
      "Processed batch: 1000 rows, Total: 1692000 rows\n",
      "Processed batch: 1000 rows, Total: 1693000 rows\n",
      "Processed batch: 1000 rows, Total: 1694000 rows\n",
      "Processed batch: 1000 rows, Total: 1695000 rows\n",
      "Processed batch: 1000 rows, Total: 1696000 rows\n",
      "Processed batch: 1000 rows, Total: 1697000 rows\n"
     ]
    },
    {
     "name": "stderr",
     "output_type": "stream",
     "text": [
      "25/08/15 19:09:40 WARN MemoryManager: Total allocation exceeds 95.00% (1,020,054,720 bytes) of heap memory\n",
      "Scaling row group sizes to 95.00% for 8 writers\n",
      "25/08/15 19:09:40 WARN MemoryManager: Total allocation exceeds 95.00% (1,020,054,720 bytes) of heap memory\n",
      "Scaling row group sizes to 95.00% for 8 writers\n",
      "25/08/15 19:09:40 WARN MemoryManager: Total allocation exceeds 95.00% (1,020,054,720 bytes) of heap memory\n",
      "Scaling row group sizes to 95.00% for 8 writers\n",
      "25/08/15 19:09:40 WARN MemoryManager: Total allocation exceeds 95.00% (1,020,054,720 bytes) of heap memory\n",
      "Scaling row group sizes to 95.00% for 8 writers\n"
     ]
    },
    {
     "name": "stdout",
     "output_type": "stream",
     "text": [
      "Processed batch: 1000 rows, Total: 1698000 rows\n",
      "Processed batch: 1000 rows, Total: 1699000 rows\n"
     ]
    },
    {
     "name": "stderr",
     "output_type": "stream",
     "text": [
      "25/08/15 19:09:44 WARN MemoryManager: Total allocation exceeds 95.00% (1,020,054,720 bytes) of heap memory\n",
      "Scaling row group sizes to 95.00% for 8 writers\n"
     ]
    },
    {
     "name": "stdout",
     "output_type": "stream",
     "text": [
      "Processed batch: 1000 rows, Total: 1700000 rows\n",
      "Processed batch: 1000 rows, Total: 1701000 rows\n"
     ]
    },
    {
     "name": "stderr",
     "output_type": "stream",
     "text": [
      "25/08/15 19:09:48 WARN MemoryManager: Total allocation exceeds 95.00% (1,020,054,720 bytes) of heap memory\n",
      "Scaling row group sizes to 95.00% for 8 writers\n",
      "25/08/15 19:09:48 WARN MemoryManager: Total allocation exceeds 95.00% (1,020,054,720 bytes) of heap memory\n",
      "Scaling row group sizes to 84.44% for 9 writers\n",
      "25/08/15 19:09:48 WARN MemoryManager: Total allocation exceeds 95.00% (1,020,054,720 bytes) of heap memory\n",
      "Scaling row group sizes to 76.00% for 10 writers\n",
      "25/08/15 19:09:48 WARN MemoryManager: Total allocation exceeds 95.00% (1,020,054,720 bytes) of heap memory\n",
      "Scaling row group sizes to 84.44% for 9 writers\n",
      "25/08/15 19:09:48 WARN MemoryManager: Total allocation exceeds 95.00% (1,020,054,720 bytes) of heap memory\n",
      "Scaling row group sizes to 76.00% for 10 writers\n",
      "25/08/15 19:09:48 WARN MemoryManager: Total allocation exceeds 95.00% (1,020,054,720 bytes) of heap memory\n",
      "Scaling row group sizes to 69.09% for 11 writers\n",
      "25/08/15 19:09:48 WARN MemoryManager: Total allocation exceeds 95.00% (1,020,054,720 bytes) of heap memory\n",
      "Scaling row group sizes to 76.00% for 10 writers\n",
      "25/08/15 19:09:48 WARN MemoryManager: Total allocation exceeds 95.00% (1,020,054,720 bytes) of heap memory\n",
      "Scaling row group sizes to 84.44% for 9 writers\n",
      "25/08/15 19:09:48 WARN MemoryManager: Total allocation exceeds 95.00% (1,020,054,720 bytes) of heap memory\n",
      "Scaling row group sizes to 95.00% for 8 writers\n",
      "25/08/15 19:09:48 WARN MemoryManager: Total allocation exceeds 95.00% (1,020,054,720 bytes) of heap memory\n",
      "Scaling row group sizes to 84.44% for 9 writers\n",
      "25/08/15 19:09:48 WARN MemoryManager: Total allocation exceeds 95.00% (1,020,054,720 bytes) of heap memory\n",
      "Scaling row group sizes to 95.00% for 8 writers\n"
     ]
    },
    {
     "name": "stdout",
     "output_type": "stream",
     "text": [
      "Processed batch: 1500 rows, Total: 1702500 rows\n",
      "Processed batch: 1000 rows, Total: 1703500 rows\n",
      "Processed batch: 1000 rows, Total: 1704500 rows\n",
      "Processed batch: 1000 rows, Total: 1705500 rows\n",
      "Processed batch: 1000 rows, Total: 1706500 rows\n",
      "Processed batch: 1000 rows, Total: 1707500 rows\n",
      "Processed batch: 1000 rows, Total: 1708500 rows\n",
      "Processed batch: 1000 rows, Total: 1709500 rows\n",
      "Processed batch: 1000 rows, Total: 1710500 rows\n",
      "Processed batch: 1000 rows, Total: 1711500 rows\n",
      "Processed batch: 1000 rows, Total: 1712500 rows\n"
     ]
    },
    {
     "name": "stderr",
     "output_type": "stream",
     "text": [
      "25/08/15 19:10:10 WARN MemoryManager: Total allocation exceeds 95.00% (1,020,054,720 bytes) of heap memory\n",
      "Scaling row group sizes to 95.00% for 8 writers\n"
     ]
    },
    {
     "name": "stdout",
     "output_type": "stream",
     "text": [
      "Processed batch: 1000 rows, Total: 1713500 rows\n",
      "Processed batch: 1000 rows, Total: 1714500 rows\n",
      "Processed batch: 1000 rows, Total: 1715500 rows\n"
     ]
    },
    {
     "name": "stderr",
     "output_type": "stream",
     "text": [
      "25/08/15 19:10:16 WARN MemoryManager: Total allocation exceeds 95.00% (1,020,054,720 bytes) of heap memory\n",
      "Scaling row group sizes to 95.00% for 8 writers\n",
      "25/08/15 19:10:16 WARN MemoryManager: Total allocation exceeds 95.00% (1,020,054,720 bytes) of heap memory\n",
      "Scaling row group sizes to 95.00% for 8 writers\n",
      "25/08/15 19:10:16 WARN MemoryManager: Total allocation exceeds 95.00% (1,020,054,720 bytes) of heap memory\n",
      "Scaling row group sizes to 84.44% for 9 writers\n",
      "25/08/15 19:10:16 WARN MemoryManager: Total allocation exceeds 95.00% (1,020,054,720 bytes) of heap memory\n",
      "Scaling row group sizes to 95.00% for 8 writers\n",
      "25/08/15 19:10:16 WARN MemoryManager: Total allocation exceeds 95.00% (1,020,054,720 bytes) of heap memory\n",
      "Scaling row group sizes to 95.00% for 8 writers\n"
     ]
    },
    {
     "name": "stdout",
     "output_type": "stream",
     "text": [
      "Processed batch: 1000 rows, Total: 1716500 rows\n",
      "Processed batch: 1000 rows, Total: 1717500 rows\n",
      "Processed batch: 1500 rows, Total: 1719000 rows\n"
     ]
    },
    {
     "name": "stderr",
     "output_type": "stream",
     "text": [
      "25/08/15 19:10:22 WARN MemoryManager: Total allocation exceeds 95.00% (1,020,054,720 bytes) of heap memory\n",
      "Scaling row group sizes to 95.00% for 8 writers\n"
     ]
    },
    {
     "name": "stdout",
     "output_type": "stream",
     "text": [
      "Processed batch: 1000 rows, Total: 1720000 rows\n",
      "Processed batch: 1000 rows, Total: 1721000 rows\n",
      "Processed batch: 1000 rows, Total: 1722000 rows\n"
     ]
    },
    {
     "name": "stderr",
     "output_type": "stream",
     "text": [
      "25/08/15 19:10:28 WARN MemoryManager: Total allocation exceeds 95.00% (1,020,054,720 bytes) of heap memory\n",
      "Scaling row group sizes to 95.00% for 8 writers\n",
      "25/08/15 19:10:28 WARN MemoryManager: Total allocation exceeds 95.00% (1,020,054,720 bytes) of heap memory\n",
      "Scaling row group sizes to 84.44% for 9 writers\n",
      "25/08/15 19:10:28 WARN MemoryManager: Total allocation exceeds 95.00% (1,020,054,720 bytes) of heap memory\n",
      "Scaling row group sizes to 76.00% for 10 writers\n",
      "25/08/15 19:10:28 WARN MemoryManager: Total allocation exceeds 95.00% (1,020,054,720 bytes) of heap memory\n",
      "Scaling row group sizes to 84.44% for 9 writers\n",
      "25/08/15 19:10:28 WARN MemoryManager: Total allocation exceeds 95.00% (1,020,054,720 bytes) of heap memory\n",
      "Scaling row group sizes to 76.00% for 10 writers\n",
      "25/08/15 19:10:28 WARN MemoryManager: Total allocation exceeds 95.00% (1,020,054,720 bytes) of heap memory\n",
      "Scaling row group sizes to 84.44% for 9 writers\n",
      "25/08/15 19:10:28 WARN MemoryManager: Total allocation exceeds 95.00% (1,020,054,720 bytes) of heap memory\n",
      "Scaling row group sizes to 95.00% for 8 writers\n"
     ]
    },
    {
     "name": "stdout",
     "output_type": "stream",
     "text": [
      "Processed batch: 1000 rows, Total: 1723000 rows\n",
      "Processed batch: 1000 rows, Total: 1724000 rows\n",
      "Processed batch: 1000 rows, Total: 1725000 rows\n",
      "Processed batch: 1000 rows, Total: 1726000 rows\n",
      "Processed batch: 1000 rows, Total: 1727000 rows\n"
     ]
    },
    {
     "name": "stderr",
     "output_type": "stream",
     "text": [
      "25/08/15 19:10:38 WARN MemoryManager: Total allocation exceeds 95.00% (1,020,054,720 bytes) of heap memory\n",
      "Scaling row group sizes to 95.00% for 8 writers\n",
      "25/08/15 19:10:38 WARN MemoryManager: Total allocation exceeds 95.00% (1,020,054,720 bytes) of heap memory\n",
      "Scaling row group sizes to 95.00% for 8 writers\n"
     ]
    },
    {
     "name": "stdout",
     "output_type": "stream",
     "text": [
      "Processed batch: 1000 rows, Total: 1728000 rows\n",
      "Processed batch: 1000 rows, Total: 1729000 rows\n",
      "Processed batch: 1000 rows, Total: 1730000 rows\n",
      "Processed batch: 1000 rows, Total: 1731000 rows\n",
      "Processed batch: 1000 rows, Total: 1732000 rows\n",
      "Processed batch: 500 rows, Total: 1732500 rows\n",
      "Processed batch: 2000 rows, Total: 1734500 rows\n",
      "Processed batch: 1000 rows, Total: 1735500 rows\n",
      "Processed batch: 1000 rows, Total: 1736500 rows\n",
      "Processed batch: 1000 rows, Total: 1737500 rows\n",
      "Processed batch: 1000 rows, Total: 1738500 rows\n",
      "Processed batch: 897 rows, Total: 1739397 rows\n",
      "Processed batch: 603 rows, Total: 1740000 rows\n",
      "Processed batch: 1000 rows, Total: 1741000 rows\n",
      "Processed batch: 1000 rows, Total: 1742000 rows\n",
      "Processed batch: 1000 rows, Total: 1743000 rows\n",
      "Processed batch: 1000 rows, Total: 1744000 rows\n",
      "Processed batch: 1000 rows, Total: 1745000 rows\n",
      "Processed batch: 1000 rows, Total: 1746000 rows\n",
      "Processed batch: 1000 rows, Total: 1747000 rows\n",
      "Processed batch: 1000 rows, Total: 1748000 rows\n",
      "Processed batch: 1000 rows, Total: 1749000 rows\n",
      "Processed batch: 1500 rows, Total: 1750500 rows\n",
      "Processed batch: 1000 rows, Total: 1751500 rows\n",
      "Processed batch: 1000 rows, Total: 1752500 rows\n",
      "Processed batch: 1000 rows, Total: 1753500 rows\n",
      "Processed batch: 1000 rows, Total: 1754500 rows\n",
      "Processed batch: 1000 rows, Total: 1755500 rows\n",
      "Processed batch: 1000 rows, Total: 1756500 rows\n",
      "Processed batch: 1000 rows, Total: 1757500 rows\n",
      "Processed batch: 1000 rows, Total: 1758500 rows\n",
      "Processed batch: 1000 rows, Total: 1759500 rows\n",
      "Processed batch: 1000 rows, Total: 1760500 rows\n",
      "Processed batch: 1000 rows, Total: 1761500 rows\n"
     ]
    },
    {
     "name": "stderr",
     "output_type": "stream",
     "text": [
      "25/08/15 19:11:46 WARN MemoryManager: Total allocation exceeds 95.00% (1,020,054,720 bytes) of heap memory\n",
      "Scaling row group sizes to 95.00% for 8 writers\n"
     ]
    },
    {
     "name": "stdout",
     "output_type": "stream",
     "text": [
      "Processed batch: 1000 rows, Total: 1762500 rows\n",
      "Processed batch: 1000 rows, Total: 1763500 rows\n"
     ]
    },
    {
     "name": "stderr",
     "output_type": "stream",
     "text": [
      "25/08/15 19:11:50 WARN MemoryManager: Total allocation exceeds 95.00% (1,020,054,720 bytes) of heap memory\n",
      "Scaling row group sizes to 95.00% for 8 writers\n",
      "25/08/15 19:11:50 WARN MemoryManager: Total allocation exceeds 95.00% (1,020,054,720 bytes) of heap memory\n",
      "Scaling row group sizes to 84.44% for 9 writers\n",
      "25/08/15 19:11:50 WARN MemoryManager: Total allocation exceeds 95.00% (1,020,054,720 bytes) of heap memory\n",
      "Scaling row group sizes to 76.00% for 10 writers\n",
      "25/08/15 19:11:50 WARN MemoryManager: Total allocation exceeds 95.00% (1,020,054,720 bytes) of heap memory\n",
      "Scaling row group sizes to 84.44% for 9 writers\n",
      "25/08/15 19:11:50 WARN MemoryManager: Total allocation exceeds 95.00% (1,020,054,720 bytes) of heap memory\n",
      "Scaling row group sizes to 76.00% for 10 writers\n",
      "25/08/15 19:11:50 WARN MemoryManager: Total allocation exceeds 95.00% (1,020,054,720 bytes) of heap memory\n",
      "Scaling row group sizes to 69.09% for 11 writers\n",
      "25/08/15 19:11:50 WARN MemoryManager: Total allocation exceeds 95.00% (1,020,054,720 bytes) of heap memory\n",
      "Scaling row group sizes to 76.00% for 10 writers\n",
      "25/08/15 19:11:50 WARN MemoryManager: Total allocation exceeds 95.00% (1,020,054,720 bytes) of heap memory\n",
      "Scaling row group sizes to 84.44% for 9 writers\n",
      "25/08/15 19:11:50 WARN MemoryManager: Total allocation exceeds 95.00% (1,020,054,720 bytes) of heap memory\n",
      "Scaling row group sizes to 76.00% for 10 writers\n",
      "25/08/15 19:11:50 WARN MemoryManager: Total allocation exceeds 95.00% (1,020,054,720 bytes) of heap memory\n",
      "Scaling row group sizes to 84.44% for 9 writers\n",
      "25/08/15 19:11:50 WARN MemoryManager: Total allocation exceeds 95.00% (1,020,054,720 bytes) of heap memory\n",
      "Scaling row group sizes to 95.00% for 8 writers\n"
     ]
    },
    {
     "name": "stdout",
     "output_type": "stream",
     "text": [
      "Processed batch: 1000 rows, Total: 1764500 rows\n",
      "Processed batch: 1500 rows, Total: 1766000 rows\n",
      "Processed batch: 1000 rows, Total: 1767000 rows\n"
     ]
    },
    {
     "name": "stderr",
     "output_type": "stream",
     "text": [
      "25/08/15 19:11:56 WARN MemoryManager: Total allocation exceeds 95.00% (1,020,054,720 bytes) of heap memory\n",
      "Scaling row group sizes to 95.00% for 8 writers\n"
     ]
    },
    {
     "name": "stdout",
     "output_type": "stream",
     "text": [
      "Processed batch: 1000 rows, Total: 1768000 rows\n",
      "Processed batch: 1000 rows, Total: 1769000 rows\n",
      "Processed batch: 1000 rows, Total: 1770000 rows\n"
     ]
    },
    {
     "name": "stderr",
     "output_type": "stream",
     "text": [
      "25/08/15 19:12:02 WARN MemoryManager: Total allocation exceeds 95.00% (1,020,054,720 bytes) of heap memory\n",
      "Scaling row group sizes to 95.00% for 8 writers\n"
     ]
    },
    {
     "name": "stdout",
     "output_type": "stream",
     "text": [
      "Processed batch: 1000 rows, Total: 1771000 rows\n",
      "Processed batch: 1000 rows, Total: 1772000 rows\n"
     ]
    },
    {
     "name": "stderr",
     "output_type": "stream",
     "text": [
      "25/08/15 19:12:06 WARN MemoryManager: Total allocation exceeds 95.00% (1,020,054,720 bytes) of heap memory\n",
      "Scaling row group sizes to 95.00% for 8 writers\n"
     ]
    },
    {
     "name": "stdout",
     "output_type": "stream",
     "text": [
      "Processed batch: 1000 rows, Total: 1773000 rows\n",
      "Processed batch: 1000 rows, Total: 1774000 rows\n"
     ]
    },
    {
     "name": "stderr",
     "output_type": "stream",
     "text": [
      "25/08/15 19:12:10 WARN MemoryManager: Total allocation exceeds 95.00% (1,020,054,720 bytes) of heap memory\n",
      "Scaling row group sizes to 95.00% for 8 writers\n",
      "25/08/15 19:12:10 WARN MemoryManager: Total allocation exceeds 95.00% (1,020,054,720 bytes) of heap memory\n",
      "Scaling row group sizes to 84.44% for 9 writers\n",
      "25/08/15 19:12:10 WARN MemoryManager: Total allocation exceeds 95.00% (1,020,054,720 bytes) of heap memory\n",
      "Scaling row group sizes to 76.00% for 10 writers\n",
      "25/08/15 19:12:10 WARN MemoryManager: Total allocation exceeds 95.00% (1,020,054,720 bytes) of heap memory\n",
      "Scaling row group sizes to 69.09% for 11 writers\n",
      "25/08/15 19:12:10 WARN MemoryManager: Total allocation exceeds 95.00% (1,020,054,720 bytes) of heap memory\n",
      "Scaling row group sizes to 76.00% for 10 writers\n",
      "25/08/15 19:12:10 WARN MemoryManager: Total allocation exceeds 95.00% (1,020,054,720 bytes) of heap memory\n",
      "Scaling row group sizes to 84.44% for 9 writers\n",
      "25/08/15 19:12:10 WARN MemoryManager: Total allocation exceeds 95.00% (1,020,054,720 bytes) of heap memory\n",
      "Scaling row group sizes to 76.00% for 10 writers\n",
      "25/08/15 19:12:10 WARN MemoryManager: Total allocation exceeds 95.00% (1,020,054,720 bytes) of heap memory\n",
      "Scaling row group sizes to 69.09% for 11 writers\n",
      "25/08/15 19:12:10 WARN MemoryManager: Total allocation exceeds 95.00% (1,020,054,720 bytes) of heap memory\n",
      "Scaling row group sizes to 76.00% for 10 writers\n",
      "25/08/15 19:12:10 WARN MemoryManager: Total allocation exceeds 95.00% (1,020,054,720 bytes) of heap memory\n",
      "Scaling row group sizes to 84.44% for 9 writers\n",
      "25/08/15 19:12:10 WARN MemoryManager: Total allocation exceeds 95.00% (1,020,054,720 bytes) of heap memory\n",
      "Scaling row group sizes to 95.00% for 8 writers\n"
     ]
    },
    {
     "name": "stdout",
     "output_type": "stream",
     "text": [
      "Processed batch: 1000 rows, Total: 1775000 rows\n",
      "Processed batch: 1000 rows, Total: 1776000 rows\n",
      "Processed batch: 1000 rows, Total: 1777000 rows\n",
      "Processed batch: 1000 rows, Total: 1778000 rows\n"
     ]
    },
    {
     "name": "stderr",
     "output_type": "stream",
     "text": [
      "25/08/15 19:12:18 WARN MemoryManager: Total allocation exceeds 95.00% (1,020,054,720 bytes) of heap memory\n",
      "Scaling row group sizes to 95.00% for 8 writers\n"
     ]
    },
    {
     "name": "stdout",
     "output_type": "stream",
     "text": [
      "Processed batch: 1000 rows, Total: 1779000 rows\n"
     ]
    },
    {
     "name": "stderr",
     "output_type": "stream",
     "text": [
      "25/08/15 19:12:20 WARN MemoryManager: Total allocation exceeds 95.00% (1,020,054,720 bytes) of heap memory\n",
      "Scaling row group sizes to 95.00% for 8 writers\n"
     ]
    },
    {
     "name": "stdout",
     "output_type": "stream",
     "text": [
      "Processed batch: 1000 rows, Total: 1780000 rows\n"
     ]
    },
    {
     "name": "stderr",
     "output_type": "stream",
     "text": [
      "25/08/15 19:12:22 WARN MemoryManager: Total allocation exceeds 95.00% (1,020,054,720 bytes) of heap memory\n",
      "Scaling row group sizes to 95.00% for 8 writers\n"
     ]
    },
    {
     "name": "stdout",
     "output_type": "stream",
     "text": [
      "Processed batch: 1000 rows, Total: 1781000 rows\n",
      "Processed batch: 1500 rows, Total: 1782500 rows\n"
     ]
    },
    {
     "name": "stderr",
     "output_type": "stream",
     "text": [
      "25/08/15 19:12:26 WARN MemoryManager: Total allocation exceeds 95.00% (1,020,054,720 bytes) of heap memory\n",
      "Scaling row group sizes to 95.00% for 8 writers\n",
      "25/08/15 19:12:26 WARN MemoryManager: Total allocation exceeds 95.00% (1,020,054,720 bytes) of heap memory\n",
      "Scaling row group sizes to 84.44% for 9 writers\n",
      "25/08/15 19:12:26 WARN MemoryManager: Total allocation exceeds 95.00% (1,020,054,720 bytes) of heap memory\n",
      "Scaling row group sizes to 95.00% for 8 writers\n"
     ]
    },
    {
     "name": "stdout",
     "output_type": "stream",
     "text": [
      "Processed batch: 1000 rows, Total: 1783500 rows\n",
      "Processed batch: 1000 rows, Total: 1784500 rows\n",
      "Processed batch: 1000 rows, Total: 1785500 rows\n",
      "Processed batch: 1000 rows, Total: 1786500 rows\n"
     ]
    },
    {
     "name": "stderr",
     "output_type": "stream",
     "text": [
      "25/08/15 19:12:34 WARN MemoryManager: Total allocation exceeds 95.00% (1,020,054,720 bytes) of heap memory\n",
      "Scaling row group sizes to 95.00% for 8 writers\n",
      "25/08/15 19:12:34 WARN MemoryManager: Total allocation exceeds 95.00% (1,020,054,720 bytes) of heap memory\n",
      "Scaling row group sizes to 84.44% for 9 writers\n",
      "25/08/15 19:12:34 WARN MemoryManager: Total allocation exceeds 95.00% (1,020,054,720 bytes) of heap memory\n",
      "Scaling row group sizes to 95.00% for 8 writers\n"
     ]
    },
    {
     "name": "stdout",
     "output_type": "stream",
     "text": [
      "Processed batch: 1000 rows, Total: 1787500 rows\n",
      "Processed batch: 1000 rows, Total: 1788500 rows\n"
     ]
    },
    {
     "name": "stderr",
     "output_type": "stream",
     "text": [
      "25/08/15 19:12:38 WARN MemoryManager: Total allocation exceeds 95.00% (1,020,054,720 bytes) of heap memory\n",
      "Scaling row group sizes to 95.00% for 8 writers\n",
      "25/08/15 19:12:38 WARN MemoryManager: Total allocation exceeds 95.00% (1,020,054,720 bytes) of heap memory\n",
      "Scaling row group sizes to 84.44% for 9 writers\n",
      "25/08/15 19:12:38 WARN MemoryManager: Total allocation exceeds 95.00% (1,020,054,720 bytes) of heap memory\n",
      "Scaling row group sizes to 95.00% for 8 writers\n"
     ]
    },
    {
     "name": "stdout",
     "output_type": "stream",
     "text": [
      "Processed batch: 1000 rows, Total: 1789500 rows\n",
      "Processed batch: 1000 rows, Total: 1790500 rows\n",
      "Processed batch: 1000 rows, Total: 1791500 rows\n",
      "Processed batch: 1000 rows, Total: 1792500 rows\n",
      "Processed batch: 1000 rows, Total: 1793500 rows\n",
      "Processed batch: 1000 rows, Total: 1794500 rows\n"
     ]
    },
    {
     "name": "stderr",
     "output_type": "stream",
     "text": [
      "25/08/15 19:12:50 WARN MemoryManager: Total allocation exceeds 95.00% (1,020,054,720 bytes) of heap memory\n",
      "Scaling row group sizes to 95.00% for 8 writers\n"
     ]
    },
    {
     "name": "stdout",
     "output_type": "stream",
     "text": [
      "Processed batch: 1000 rows, Total: 1795500 rows\n",
      "Processed batch: 628 rows, Total: 1796128 rows\n",
      "Processed batch: 1872 rows, Total: 1798000 rows\n"
     ]
    },
    {
     "name": "stderr",
     "output_type": "stream",
     "text": [
      "25/08/15 19:12:56 WARN MemoryManager: Total allocation exceeds 95.00% (1,020,054,720 bytes) of heap memory\n",
      "Scaling row group sizes to 95.00% for 8 writers\n"
     ]
    },
    {
     "name": "stdout",
     "output_type": "stream",
     "text": [
      "Processed batch: 1000 rows, Total: 1799000 rows\n",
      "Processed batch: 1000 rows, Total: 1800000 rows\n",
      "Processed batch: 1000 rows, Total: 1801000 rows\n"
     ]
    },
    {
     "name": "stderr",
     "output_type": "stream",
     "text": [
      "25/08/15 19:13:02 WARN MemoryManager: Total allocation exceeds 95.00% (1,020,054,720 bytes) of heap memory\n",
      "Scaling row group sizes to 95.00% for 8 writers\n"
     ]
    },
    {
     "name": "stdout",
     "output_type": "stream",
     "text": [
      "Processed batch: 1000 rows, Total: 1802000 rows\n",
      "Processed batch: 1000 rows, Total: 1803000 rows\n",
      "Processed batch: 1000 rows, Total: 1804000 rows\n"
     ]
    },
    {
     "name": "stderr",
     "output_type": "stream",
     "text": [
      "25/08/15 19:13:08 WARN MemoryManager: Total allocation exceeds 95.00% (1,020,054,720 bytes) of heap memory\n",
      "Scaling row group sizes to 95.00% for 8 writers\n"
     ]
    },
    {
     "name": "stdout",
     "output_type": "stream",
     "text": [
      "Processed batch: 500 rows, Total: 1804500 rows\n",
      "Processed batch: 1000 rows, Total: 1805500 rows\n",
      "Processed batch: 1000 rows, Total: 1806500 rows\n",
      "Processed batch: 1000 rows, Total: 1807500 rows\n",
      "Processed batch: 1000 rows, Total: 1808500 rows\n",
      "Processed batch: 1000 rows, Total: 1809500 rows\n",
      "Processed batch: 1000 rows, Total: 1810500 rows\n"
     ]
    },
    {
     "name": "stderr",
     "output_type": "stream",
     "text": [
      "25/08/15 19:13:22 WARN MemoryManager: Total allocation exceeds 95.00% (1,020,054,720 bytes) of heap memory\n",
      "Scaling row group sizes to 95.00% for 8 writers\n",
      "25/08/15 19:13:22 WARN MemoryManager: Total allocation exceeds 95.00% (1,020,054,720 bytes) of heap memory\n",
      "Scaling row group sizes to 84.44% for 9 writers\n",
      "25/08/15 19:13:22 WARN MemoryManager: Total allocation exceeds 95.00% (1,020,054,720 bytes) of heap memory\n",
      "Scaling row group sizes to 76.00% for 10 writers\n",
      "25/08/15 19:13:22 WARN MemoryManager: Total allocation exceeds 95.00% (1,020,054,720 bytes) of heap memory\n",
      "Scaling row group sizes to 84.44% for 9 writers\n",
      "25/08/15 19:13:22 WARN MemoryManager: Total allocation exceeds 95.00% (1,020,054,720 bytes) of heap memory\n",
      "Scaling row group sizes to 95.00% for 8 writers\n",
      "25/08/15 19:13:22 WARN MemoryManager: Total allocation exceeds 95.00% (1,020,054,720 bytes) of heap memory\n",
      "Scaling row group sizes to 84.44% for 9 writers\n",
      "25/08/15 19:13:22 WARN MemoryManager: Total allocation exceeds 95.00% (1,020,054,720 bytes) of heap memory\n",
      "Scaling row group sizes to 95.00% for 8 writers\n"
     ]
    },
    {
     "name": "stdout",
     "output_type": "stream",
     "text": [
      "Processed batch: 1000 rows, Total: 1811500 rows\n"
     ]
    },
    {
     "name": "stderr",
     "output_type": "stream",
     "text": [
      "25/08/15 19:13:24 WARN MemoryManager: Total allocation exceeds 95.00% (1,020,054,720 bytes) of heap memory\n",
      "Scaling row group sizes to 95.00% for 8 writers\n",
      "25/08/15 19:13:24 WARN MemoryManager: Total allocation exceeds 95.00% (1,020,054,720 bytes) of heap memory\n",
      "Scaling row group sizes to 84.44% for 9 writers\n",
      "25/08/15 19:13:24 WARN MemoryManager: Total allocation exceeds 95.00% (1,020,054,720 bytes) of heap memory\n",
      "Scaling row group sizes to 95.00% for 8 writers\n"
     ]
    },
    {
     "name": "stdout",
     "output_type": "stream",
     "text": [
      "Processed batch: 1000 rows, Total: 1812500 rows\n",
      "Processed batch: 2000 rows, Total: 1814500 rows\n",
      "Processed batch: 808 rows, Total: 1815308 rows\n",
      "Processed batch: 692 rows, Total: 1816000 rows\n",
      "Processed batch: 1000 rows, Total: 1817000 rows\n",
      "Processed batch: 1000 rows, Total: 1818000 rows\n",
      "Processed batch: 1000 rows, Total: 1819000 rows\n",
      "Processed batch: 1000 rows, Total: 1820000 rows\n"
     ]
    },
    {
     "name": "stderr",
     "output_type": "stream",
     "text": [
      "25/08/15 19:13:40 WARN MemoryManager: Total allocation exceeds 95.00% (1,020,054,720 bytes) of heap memory\n",
      "Scaling row group sizes to 95.00% for 8 writers\n"
     ]
    },
    {
     "name": "stdout",
     "output_type": "stream",
     "text": [
      "Processed batch: 1000 rows, Total: 1821000 rows\n",
      "Processed batch: 1000 rows, Total: 1822000 rows\n",
      "Processed batch: 1000 rows, Total: 1823000 rows\n",
      "Processed batch: 1000 rows, Total: 1824000 rows\n",
      "Processed batch: 1000 rows, Total: 1825000 rows\n",
      "Processed batch: 1000 rows, Total: 1826000 rows\n"
     ]
    },
    {
     "name": "stderr",
     "output_type": "stream",
     "text": [
      "25/08/15 19:13:52 WARN MemoryManager: Total allocation exceeds 95.00% (1,020,054,720 bytes) of heap memory\n",
      "Scaling row group sizes to 95.00% for 8 writers\n",
      "25/08/15 19:13:52 WARN MemoryManager: Total allocation exceeds 95.00% (1,020,054,720 bytes) of heap memory\n",
      "Scaling row group sizes to 95.00% for 8 writers\n"
     ]
    },
    {
     "name": "stdout",
     "output_type": "stream",
     "text": [
      "Processed batch: 1000 rows, Total: 1827000 rows\n",
      "Processed batch: 1000 rows, Total: 1828000 rows\n"
     ]
    },
    {
     "name": "stderr",
     "output_type": "stream",
     "text": [
      "25/08/15 19:13:56 WARN MemoryManager: Total allocation exceeds 95.00% (1,020,054,720 bytes) of heap memory\n",
      "Scaling row group sizes to 95.00% for 8 writers\n",
      "25/08/15 19:13:56 WARN MemoryManager: Total allocation exceeds 95.00% (1,020,054,720 bytes) of heap memory\n",
      "Scaling row group sizes to 84.44% for 9 writers\n",
      "25/08/15 19:13:56 WARN MemoryManager: Total allocation exceeds 95.00% (1,020,054,720 bytes) of heap memory\n",
      "Scaling row group sizes to 76.00% for 10 writers\n",
      "25/08/15 19:13:56 WARN MemoryManager: Total allocation exceeds 95.00% (1,020,054,720 bytes) of heap memory\n",
      "Scaling row group sizes to 69.09% for 11 writers\n",
      "25/08/15 19:13:56 WARN MemoryManager: Total allocation exceeds 95.00% (1,020,054,720 bytes) of heap memory\n",
      "Scaling row group sizes to 76.00% for 10 writers\n",
      "25/08/15 19:13:56 WARN MemoryManager: Total allocation exceeds 95.00% (1,020,054,720 bytes) of heap memory\n",
      "Scaling row group sizes to 69.09% for 11 writers\n",
      "25/08/15 19:13:56 WARN MemoryManager: Total allocation exceeds 95.00% (1,020,054,720 bytes) of heap memory\n",
      "Scaling row group sizes to 76.00% for 10 writers\n",
      "25/08/15 19:13:56 WARN MemoryManager: Total allocation exceeds 95.00% (1,020,054,720 bytes) of heap memory\n",
      "Scaling row group sizes to 84.44% for 9 writers\n",
      "25/08/15 19:13:56 WARN MemoryManager: Total allocation exceeds 95.00% (1,020,054,720 bytes) of heap memory\n",
      "Scaling row group sizes to 95.00% for 8 writers\n"
     ]
    },
    {
     "name": "stdout",
     "output_type": "stream",
     "text": [
      "Processed batch: 1500 rows, Total: 1829500 rows\n",
      "Processed batch: 1000 rows, Total: 1830500 rows\n"
     ]
    },
    {
     "name": "stderr",
     "output_type": "stream",
     "text": [
      "25/08/15 19:14:00 WARN MemoryManager: Total allocation exceeds 95.00% (1,020,054,720 bytes) of heap memory\n",
      "Scaling row group sizes to 95.00% for 8 writers\n",
      "25/08/15 19:14:00 WARN MemoryManager: Total allocation exceeds 95.00% (1,020,054,720 bytes) of heap memory\n",
      "Scaling row group sizes to 84.44% for 9 writers\n",
      "25/08/15 19:14:00 WARN MemoryManager: Total allocation exceeds 95.00% (1,020,054,720 bytes) of heap memory\n",
      "Scaling row group sizes to 76.00% for 10 writers\n",
      "25/08/15 19:14:00 WARN MemoryManager: Total allocation exceeds 95.00% (1,020,054,720 bytes) of heap memory\n",
      "Scaling row group sizes to 84.44% for 9 writers\n",
      "25/08/15 19:14:00 WARN MemoryManager: Total allocation exceeds 95.00% (1,020,054,720 bytes) of heap memory\n",
      "Scaling row group sizes to 95.00% for 8 writers\n",
      "25/08/15 19:14:00 WARN MemoryManager: Total allocation exceeds 95.00% (1,020,054,720 bytes) of heap memory\n",
      "Scaling row group sizes to 84.44% for 9 writers\n",
      "25/08/15 19:14:00 WARN MemoryManager: Total allocation exceeds 95.00% (1,020,054,720 bytes) of heap memory\n",
      "Scaling row group sizes to 76.00% for 10 writers\n",
      "25/08/15 19:14:00 WARN MemoryManager: Total allocation exceeds 95.00% (1,020,054,720 bytes) of heap memory\n",
      "Scaling row group sizes to 84.44% for 9 writers\n",
      "25/08/15 19:14:00 WARN MemoryManager: Total allocation exceeds 95.00% (1,020,054,720 bytes) of heap memory\n",
      "Scaling row group sizes to 95.00% for 8 writers\n",
      "25/08/15 19:14:00 WARN MemoryManager: Total allocation exceeds 95.00% (1,020,054,720 bytes) of heap memory\n",
      "Scaling row group sizes to 84.44% for 9 writers\n",
      "25/08/15 19:14:00 WARN MemoryManager: Total allocation exceeds 95.00% (1,020,054,720 bytes) of heap memory\n",
      "Scaling row group sizes to 95.00% for 8 writers\n"
     ]
    },
    {
     "name": "stdout",
     "output_type": "stream",
     "text": [
      "Processed batch: 1000 rows, Total: 1831500 rows\n",
      "Processed batch: 1000 rows, Total: 1832500 rows\n"
     ]
    },
    {
     "name": "stderr",
     "output_type": "stream",
     "text": [
      "25/08/15 19:14:04 WARN MemoryManager: Total allocation exceeds 95.00% (1,020,054,720 bytes) of heap memory\n",
      "Scaling row group sizes to 95.00% for 8 writers\n",
      "25/08/15 19:14:04 WARN MemoryManager: Total allocation exceeds 95.00% (1,020,054,720 bytes) of heap memory\n",
      "Scaling row group sizes to 84.44% for 9 writers\n",
      "25/08/15 19:14:04 WARN MemoryManager: Total allocation exceeds 95.00% (1,020,054,720 bytes) of heap memory\n",
      "Scaling row group sizes to 76.00% for 10 writers\n",
      "25/08/15 19:14:04 WARN MemoryManager: Total allocation exceeds 95.00% (1,020,054,720 bytes) of heap memory\n",
      "Scaling row group sizes to 69.09% for 11 writers\n",
      "25/08/15 19:14:04 WARN MemoryManager: Total allocation exceeds 95.00% (1,020,054,720 bytes) of heap memory\n",
      "Scaling row group sizes to 63.33% for 12 writers\n",
      "25/08/15 19:14:04 WARN MemoryManager: Total allocation exceeds 95.00% (1,020,054,720 bytes) of heap memory\n",
      "Scaling row group sizes to 69.09% for 11 writers\n",
      "25/08/15 19:14:04 WARN MemoryManager: Total allocation exceeds 95.00% (1,020,054,720 bytes) of heap memory\n",
      "Scaling row group sizes to 76.00% for 10 writers\n",
      "25/08/15 19:14:04 WARN MemoryManager: Total allocation exceeds 95.00% (1,020,054,720 bytes) of heap memory\n",
      "Scaling row group sizes to 84.44% for 9 writers\n",
      "25/08/15 19:14:04 WARN MemoryManager: Total allocation exceeds 95.00% (1,020,054,720 bytes) of heap memory\n",
      "Scaling row group sizes to 95.00% for 8 writers\n"
     ]
    },
    {
     "name": "stdout",
     "output_type": "stream",
     "text": [
      "Processed batch: 1000 rows, Total: 1833500 rows\n",
      "Processed batch: 1000 rows, Total: 1834500 rows\n"
     ]
    },
    {
     "name": "stderr",
     "output_type": "stream",
     "text": [
      "25/08/15 19:14:08 WARN MemoryManager: Total allocation exceeds 95.00% (1,020,054,720 bytes) of heap memory\n",
      "Scaling row group sizes to 95.00% for 8 writers\n",
      "25/08/15 19:14:08 WARN MemoryManager: Total allocation exceeds 95.00% (1,020,054,720 bytes) of heap memory\n",
      "Scaling row group sizes to 84.44% for 9 writers\n",
      "25/08/15 19:14:08 WARN MemoryManager: Total allocation exceeds 95.00% (1,020,054,720 bytes) of heap memory\n",
      "Scaling row group sizes to 76.00% for 10 writers\n",
      "25/08/15 19:14:08 WARN MemoryManager: Total allocation exceeds 95.00% (1,020,054,720 bytes) of heap memory\n",
      "Scaling row group sizes to 84.44% for 9 writers\n",
      "25/08/15 19:14:08 WARN MemoryManager: Total allocation exceeds 95.00% (1,020,054,720 bytes) of heap memory\n",
      "Scaling row group sizes to 95.00% for 8 writers\n"
     ]
    },
    {
     "name": "stdout",
     "output_type": "stream",
     "text": [
      "Processed batch: 1000 rows, Total: 1835500 rows\n",
      "Processed batch: 1000 rows, Total: 1836500 rows\n",
      "Processed batch: 1000 rows, Total: 1837500 rows\n",
      "Processed batch: 1000 rows, Total: 1838500 rows\n",
      "Processed batch: 1000 rows, Total: 1839500 rows\n",
      "Processed batch: 1000 rows, Total: 1840500 rows\n"
     ]
    },
    {
     "name": "stderr",
     "output_type": "stream",
     "text": [
      "25/08/15 19:14:20 WARN MemoryManager: Total allocation exceeds 95.00% (1,020,054,720 bytes) of heap memory\n",
      "Scaling row group sizes to 95.00% for 8 writers\n",
      "25/08/15 19:14:20 WARN MemoryManager: Total allocation exceeds 95.00% (1,020,054,720 bytes) of heap memory\n",
      "Scaling row group sizes to 84.44% for 9 writers\n",
      "25/08/15 19:14:20 WARN MemoryManager: Total allocation exceeds 95.00% (1,020,054,720 bytes) of heap memory\n",
      "Scaling row group sizes to 95.00% for 8 writers\n",
      "25/08/15 19:14:20 WARN MemoryManager: Total allocation exceeds 95.00% (1,020,054,720 bytes) of heap memory\n",
      "Scaling row group sizes to 95.00% for 8 writers\n",
      "25/08/15 19:14:20 WARN MemoryManager: Total allocation exceeds 95.00% (1,020,054,720 bytes) of heap memory\n",
      "Scaling row group sizes to 84.44% for 9 writers\n",
      "25/08/15 19:14:20 WARN MemoryManager: Total allocation exceeds 95.00% (1,020,054,720 bytes) of heap memory\n",
      "Scaling row group sizes to 95.00% for 8 writers\n"
     ]
    },
    {
     "name": "stdout",
     "output_type": "stream",
     "text": [
      "Processed batch: 1000 rows, Total: 1841500 rows\n",
      "Processed batch: 1000 rows, Total: 1842500 rows\n",
      "Processed batch: 1000 rows, Total: 1843500 rows\n",
      "Processed batch: 1000 rows, Total: 1844500 rows\n",
      "Processed batch: 1500 rows, Total: 1846000 rows\n",
      "Processed batch: 1000 rows, Total: 1847000 rows\n",
      "Processed batch: 1000 rows, Total: 1848000 rows\n",
      "Processed batch: 1000 rows, Total: 1849000 rows\n",
      "Processed batch: 1000 rows, Total: 1850000 rows\n",
      "Processed batch: 1000 rows, Total: 1851000 rows\n",
      "Processed batch: 1000 rows, Total: 1852000 rows\n",
      "Processed batch: 1000 rows, Total: 1853000 rows\n",
      "Processed batch: 1000 rows, Total: 1854000 rows\n",
      "Processed batch: 1000 rows, Total: 1855000 rows\n",
      "Processed batch: 1000 rows, Total: 1856000 rows\n"
     ]
    },
    {
     "name": "stderr",
     "output_type": "stream",
     "text": [
      "25/08/15 19:14:50 WARN MemoryManager: Total allocation exceeds 95.00% (1,020,054,720 bytes) of heap memory\n",
      "Scaling row group sizes to 95.00% for 8 writers\n"
     ]
    },
    {
     "name": "stdout",
     "output_type": "stream",
     "text": [
      "Processed batch: 1000 rows, Total: 1857000 rows\n"
     ]
    },
    {
     "name": "stderr",
     "output_type": "stream",
     "text": [
      "25/08/15 19:14:52 WARN MemoryManager: Total allocation exceeds 95.00% (1,020,054,720 bytes) of heap memory\n",
      "Scaling row group sizes to 95.00% for 8 writers\n",
      "25/08/15 19:14:52 WARN MemoryManager: Total allocation exceeds 95.00% (1,020,054,720 bytes) of heap memory\n",
      "Scaling row group sizes to 84.44% for 9 writers\n",
      "25/08/15 19:14:52 WARN MemoryManager: Total allocation exceeds 95.00% (1,020,054,720 bytes) of heap memory\n",
      "Scaling row group sizes to 95.00% for 8 writers\n",
      "25/08/15 19:14:52 WARN MemoryManager: Total allocation exceeds 95.00% (1,020,054,720 bytes) of heap memory\n",
      "Scaling row group sizes to 84.44% for 9 writers\n",
      "25/08/15 19:14:52 WARN MemoryManager: Total allocation exceeds 95.00% (1,020,054,720 bytes) of heap memory\n",
      "Scaling row group sizes to 76.00% for 10 writers\n",
      "25/08/15 19:14:52 WARN MemoryManager: Total allocation exceeds 95.00% (1,020,054,720 bytes) of heap memory\n",
      "Scaling row group sizes to 84.44% for 9 writers\n",
      "25/08/15 19:14:52 WARN MemoryManager: Total allocation exceeds 95.00% (1,020,054,720 bytes) of heap memory\n",
      "Scaling row group sizes to 95.00% for 8 writers\n"
     ]
    },
    {
     "name": "stdout",
     "output_type": "stream",
     "text": [
      "Processed batch: 1000 rows, Total: 1858000 rows\n",
      "Processed batch: 1000 rows, Total: 1859000 rows\n",
      "Processed batch: 1000 rows, Total: 1860000 rows\n",
      "Processed batch: 1000 rows, Total: 1861000 rows\n",
      "Processed batch: 1500 rows, Total: 1862500 rows\n",
      "Processed batch: 1000 rows, Total: 1863500 rows\n"
     ]
    },
    {
     "name": "stderr",
     "output_type": "stream",
     "text": [
      "25/08/15 19:15:04 WARN MemoryManager: Total allocation exceeds 95.00% (1,020,054,720 bytes) of heap memory\n",
      "Scaling row group sizes to 95.00% for 8 writers\n",
      "25/08/15 19:15:04 WARN MemoryManager: Total allocation exceeds 95.00% (1,020,054,720 bytes) of heap memory\n",
      "Scaling row group sizes to 84.44% for 9 writers\n",
      "25/08/15 19:15:04 WARN MemoryManager: Total allocation exceeds 95.00% (1,020,054,720 bytes) of heap memory\n",
      "Scaling row group sizes to 95.00% for 8 writers\n"
     ]
    },
    {
     "name": "stdout",
     "output_type": "stream",
     "text": [
      "Processed batch: 1000 rows, Total: 1864500 rows\n",
      "Processed batch: 1000 rows, Total: 1865500 rows\n",
      "Processed batch: 1000 rows, Total: 1866500 rows\n"
     ]
    },
    {
     "name": "stderr",
     "output_type": "stream",
     "text": [
      "25/08/15 19:15:10 WARN MemoryManager: Total allocation exceeds 95.00% (1,020,054,720 bytes) of heap memory\n",
      "Scaling row group sizes to 95.00% for 8 writers\n"
     ]
    },
    {
     "name": "stdout",
     "output_type": "stream",
     "text": [
      "Processed batch: 548 rows, Total: 1867048 rows\n",
      "Processed batch: 952 rows, Total: 1868000 rows\n",
      "Processed batch: 1000 rows, Total: 1869000 rows\n",
      "Processed batch: 1000 rows, Total: 1870000 rows\n",
      "Processed batch: 1000 rows, Total: 1871000 rows\n"
     ]
    },
    {
     "name": "stderr",
     "output_type": "stream",
     "text": [
      "25/08/15 19:15:20 WARN MemoryManager: Total allocation exceeds 95.00% (1,020,054,720 bytes) of heap memory\n",
      "Scaling row group sizes to 95.00% for 8 writers\n",
      "25/08/15 19:15:20 WARN MemoryManager: Total allocation exceeds 95.00% (1,020,054,720 bytes) of heap memory\n",
      "Scaling row group sizes to 95.00% for 8 writers\n"
     ]
    },
    {
     "name": "stdout",
     "output_type": "stream",
     "text": [
      "Processed batch: 1000 rows, Total: 1872000 rows\n",
      "Processed batch: 1000 rows, Total: 1873000 rows\n",
      "Processed batch: 1000 rows, Total: 1874000 rows\n",
      "Processed batch: 1000 rows, Total: 1875000 rows\n",
      "Processed batch: 1000 rows, Total: 1876000 rows\n",
      "Processed batch: 1500 rows, Total: 1877500 rows\n",
      "Processed batch: 1000 rows, Total: 1878500 rows\n",
      "Processed batch: 1000 rows, Total: 1879500 rows\n"
     ]
    },
    {
     "name": "stderr",
     "output_type": "stream",
     "text": [
      "25/08/15 19:15:36 WARN MemoryManager: Total allocation exceeds 95.00% (1,020,054,720 bytes) of heap memory\n",
      "Scaling row group sizes to 95.00% for 8 writers\n",
      "25/08/15 19:15:36 WARN MemoryManager: Total allocation exceeds 95.00% (1,020,054,720 bytes) of heap memory\n",
      "Scaling row group sizes to 95.00% for 8 writers\n"
     ]
    },
    {
     "name": "stdout",
     "output_type": "stream",
     "text": [
      "Processed batch: 1000 rows, Total: 1880500 rows\n",
      "Processed batch: 1000 rows, Total: 1881500 rows\n",
      "Processed batch: 1000 rows, Total: 1882500 rows\n",
      "Processed batch: 1000 rows, Total: 1883500 rows\n",
      "Processed batch: 1000 rows, Total: 1884500 rows\n",
      "Processed batch: 1000 rows, Total: 1885500 rows\n",
      "Processed batch: 1000 rows, Total: 1886500 rows\n",
      "Processed batch: 1000 rows, Total: 1887500 rows\n"
     ]
    },
    {
     "name": "stderr",
     "output_type": "stream",
     "text": [
      "25/08/15 19:15:52 WARN MemoryManager: Total allocation exceeds 95.00% (1,020,054,720 bytes) of heap memory\n",
      "Scaling row group sizes to 95.00% for 8 writers\n",
      "25/08/15 19:15:52 WARN MemoryManager: Total allocation exceeds 95.00% (1,020,054,720 bytes) of heap memory\n",
      "Scaling row group sizes to 84.44% for 9 writers\n",
      "25/08/15 19:15:52 WARN MemoryManager: Total allocation exceeds 95.00% (1,020,054,720 bytes) of heap memory\n",
      "Scaling row group sizes to 76.00% for 10 writers\n",
      "25/08/15 19:15:52 WARN MemoryManager: Total allocation exceeds 95.00% (1,020,054,720 bytes) of heap memory\n",
      "Scaling row group sizes to 84.44% for 9 writers\n",
      "25/08/15 19:15:52 WARN MemoryManager: Total allocation exceeds 95.00% (1,020,054,720 bytes) of heap memory\n",
      "Scaling row group sizes to 76.00% for 10 writers\n",
      "25/08/15 19:15:52 WARN MemoryManager: Total allocation exceeds 95.00% (1,020,054,720 bytes) of heap memory\n",
      "Scaling row group sizes to 69.09% for 11 writers\n",
      "25/08/15 19:15:52 WARN MemoryManager: Total allocation exceeds 95.00% (1,020,054,720 bytes) of heap memory\n",
      "Scaling row group sizes to 76.00% for 10 writers\n",
      "25/08/15 19:15:52 WARN MemoryManager: Total allocation exceeds 95.00% (1,020,054,720 bytes) of heap memory\n",
      "Scaling row group sizes to 84.44% for 9 writers\n",
      "25/08/15 19:15:52 WARN MemoryManager: Total allocation exceeds 95.00% (1,020,054,720 bytes) of heap memory\n",
      "Scaling row group sizes to 76.00% for 10 writers\n",
      "25/08/15 19:15:52 WARN MemoryManager: Total allocation exceeds 95.00% (1,020,054,720 bytes) of heap memory\n",
      "Scaling row group sizes to 84.44% for 9 writers\n",
      "25/08/15 19:15:52 WARN MemoryManager: Total allocation exceeds 95.00% (1,020,054,720 bytes) of heap memory\n",
      "Scaling row group sizes to 95.00% for 8 writers\n"
     ]
    },
    {
     "name": "stdout",
     "output_type": "stream",
     "text": [
      "Processed batch: 1000 rows, Total: 1888500 rows\n",
      "Processed batch: 1000 rows, Total: 1889500 rows\n",
      "Processed batch: 1000 rows, Total: 1890500 rows\n",
      "Processed batch: 1000 rows, Total: 1891500 rows\n"
     ]
    },
    {
     "name": "stderr",
     "output_type": "stream",
     "text": [
      "25/08/15 19:16:00 WARN MemoryManager: Total allocation exceeds 95.00% (1,020,054,720 bytes) of heap memory\n",
      "Scaling row group sizes to 95.00% for 8 writers\n",
      "25/08/15 19:16:00 WARN MemoryManager: Total allocation exceeds 95.00% (1,020,054,720 bytes) of heap memory\n",
      "Scaling row group sizes to 84.44% for 9 writers\n",
      "25/08/15 19:16:00 WARN MemoryManager: Total allocation exceeds 95.00% (1,020,054,720 bytes) of heap memory\n",
      "Scaling row group sizes to 95.00% for 8 writers\n"
     ]
    },
    {
     "name": "stdout",
     "output_type": "stream",
     "text": [
      "Processed batch: 1000 rows, Total: 1892500 rows\n",
      "Processed batch: 1500 rows, Total: 1894000 rows\n"
     ]
    },
    {
     "name": "stderr",
     "output_type": "stream",
     "text": [
      "25/08/15 19:16:04 WARN MemoryManager: Total allocation exceeds 95.00% (1,020,054,720 bytes) of heap memory\n",
      "Scaling row group sizes to 95.00% for 8 writers\n",
      "25/08/15 19:16:04 WARN MemoryManager: Total allocation exceeds 95.00% (1,020,054,720 bytes) of heap memory\n",
      "Scaling row group sizes to 95.00% for 8 writers\n",
      "25/08/15 19:16:04 WARN MemoryManager: Total allocation exceeds 95.00% (1,020,054,720 bytes) of heap memory\n",
      "Scaling row group sizes to 84.44% for 9 writers\n",
      "25/08/15 19:16:04 WARN MemoryManager: Total allocation exceeds 95.00% (1,020,054,720 bytes) of heap memory\n",
      "Scaling row group sizes to 95.00% for 8 writers\n",
      "25/08/15 19:16:04 WARN MemoryManager: Total allocation exceeds 95.00% (1,020,054,720 bytes) of heap memory\n",
      "Scaling row group sizes to 95.00% for 8 writers\n"
     ]
    },
    {
     "name": "stdout",
     "output_type": "stream",
     "text": [
      "Processed batch: 1000 rows, Total: 1895000 rows\n",
      "Processed batch: 1000 rows, Total: 1896000 rows\n"
     ]
    },
    {
     "name": "stderr",
     "output_type": "stream",
     "text": [
      "25/08/15 19:16:08 WARN MemoryManager: Total allocation exceeds 95.00% (1,020,054,720 bytes) of heap memory\n",
      "Scaling row group sizes to 95.00% for 8 writers\n",
      "25/08/15 19:16:08 WARN MemoryManager: Total allocation exceeds 95.00% (1,020,054,720 bytes) of heap memory\n",
      "Scaling row group sizes to 84.44% for 9 writers\n",
      "25/08/15 19:16:08 WARN MemoryManager: Total allocation exceeds 95.00% (1,020,054,720 bytes) of heap memory\n",
      "Scaling row group sizes to 95.00% for 8 writers\n",
      "25/08/15 19:16:08 WARN MemoryManager: Total allocation exceeds 95.00% (1,020,054,720 bytes) of heap memory\n",
      "Scaling row group sizes to 84.44% for 9 writers\n",
      "25/08/15 19:16:08 WARN MemoryManager: Total allocation exceeds 95.00% (1,020,054,720 bytes) of heap memory\n",
      "Scaling row group sizes to 95.00% for 8 writers\n",
      "25/08/15 19:16:08 WARN MemoryManager: Total allocation exceeds 95.00% (1,020,054,720 bytes) of heap memory\n",
      "Scaling row group sizes to 84.44% for 9 writers\n",
      "25/08/15 19:16:08 WARN MemoryManager: Total allocation exceeds 95.00% (1,020,054,720 bytes) of heap memory\n",
      "Scaling row group sizes to 76.00% for 10 writers\n",
      "25/08/15 19:16:08 WARN MemoryManager: Total allocation exceeds 95.00% (1,020,054,720 bytes) of heap memory\n",
      "Scaling row group sizes to 84.44% for 9 writers\n",
      "25/08/15 19:16:08 WARN MemoryManager: Total allocation exceeds 95.00% (1,020,054,720 bytes) of heap memory\n",
      "Scaling row group sizes to 95.00% for 8 writers\n"
     ]
    },
    {
     "name": "stdout",
     "output_type": "stream",
     "text": [
      "Processed batch: 1000 rows, Total: 1897000 rows\n",
      "Processed batch: 1000 rows, Total: 1898000 rows\n"
     ]
    },
    {
     "name": "stderr",
     "output_type": "stream",
     "text": [
      "25/08/15 19:16:12 WARN MemoryManager: Total allocation exceeds 95.00% (1,020,054,720 bytes) of heap memory\n",
      "Scaling row group sizes to 95.00% for 8 writers\n"
     ]
    },
    {
     "name": "stdout",
     "output_type": "stream",
     "text": [
      "Processed batch: 1000 rows, Total: 1899000 rows\n",
      "Processed batch: 1000 rows, Total: 1900000 rows\n",
      "Processed batch: 1000 rows, Total: 1901000 rows\n",
      "Processed batch: 1000 rows, Total: 1902000 rows\n",
      "Processed batch: 1000 rows, Total: 1903000 rows\n",
      "Processed batch: 1000 rows, Total: 1904000 rows\n",
      "Processed batch: 1000 rows, Total: 1905000 rows\n",
      "Processed batch: 1000 rows, Total: 1906000 rows\n",
      "Processed batch: 1000 rows, Total: 1907000 rows\n",
      "Processed batch: 1000 rows, Total: 1908000 rows\n",
      "Processed batch: 1500 rows, Total: 1909500 rows\n",
      "Processed batch: 1000 rows, Total: 1910500 rows\n",
      "Processed batch: 1000 rows, Total: 1911500 rows\n"
     ]
    },
    {
     "name": "stderr",
     "output_type": "stream",
     "text": [
      "25/08/15 19:16:38 WARN MemoryManager: Total allocation exceeds 95.00% (1,020,054,720 bytes) of heap memory\n",
      "Scaling row group sizes to 95.00% for 8 writers\n",
      "25/08/15 19:16:38 WARN MemoryManager: Total allocation exceeds 95.00% (1,020,054,720 bytes) of heap memory\n",
      "Scaling row group sizes to 84.44% for 9 writers\n",
      "25/08/15 19:16:38 WARN MemoryManager: Total allocation exceeds 95.00% (1,020,054,720 bytes) of heap memory\n",
      "Scaling row group sizes to 76.00% for 10 writers\n",
      "25/08/15 19:16:38 WARN MemoryManager: Total allocation exceeds 95.00% (1,020,054,720 bytes) of heap memory\n",
      "Scaling row group sizes to 69.09% for 11 writers\n",
      "25/08/15 19:16:38 WARN MemoryManager: Total allocation exceeds 95.00% (1,020,054,720 bytes) of heap memory\n",
      "Scaling row group sizes to 63.33% for 12 writers\n",
      "25/08/15 19:16:38 WARN MemoryManager: Total allocation exceeds 95.00% (1,020,054,720 bytes) of heap memory\n",
      "Scaling row group sizes to 58.46% for 13 writers\n",
      "25/08/15 19:16:38 WARN MemoryManager: Total allocation exceeds 95.00% (1,020,054,720 bytes) of heap memory\n",
      "Scaling row group sizes to 54.29% for 14 writers\n",
      "25/08/15 19:16:38 WARN MemoryManager: Total allocation exceeds 95.00% (1,020,054,720 bytes) of heap memory\n",
      "Scaling row group sizes to 58.46% for 13 writers\n",
      "25/08/15 19:16:38 WARN MemoryManager: Total allocation exceeds 95.00% (1,020,054,720 bytes) of heap memory\n",
      "Scaling row group sizes to 63.33% for 12 writers\n",
      "25/08/15 19:16:38 WARN MemoryManager: Total allocation exceeds 95.00% (1,020,054,720 bytes) of heap memory\n",
      "Scaling row group sizes to 69.09% for 11 writers\n",
      "25/08/15 19:16:38 WARN MemoryManager: Total allocation exceeds 95.00% (1,020,054,720 bytes) of heap memory\n",
      "Scaling row group sizes to 76.00% for 10 writers\n",
      "25/08/15 19:16:38 WARN MemoryManager: Total allocation exceeds 95.00% (1,020,054,720 bytes) of heap memory\n",
      "Scaling row group sizes to 84.44% for 9 writers\n",
      "25/08/15 19:16:38 WARN MemoryManager: Total allocation exceeds 95.00% (1,020,054,720 bytes) of heap memory\n",
      "Scaling row group sizes to 95.00% for 8 writers\n"
     ]
    },
    {
     "name": "stdout",
     "output_type": "stream",
     "text": [
      "Processed batch: 1000 rows, Total: 1912500 rows\n"
     ]
    },
    {
     "name": "stderr",
     "output_type": "stream",
     "text": [
      "25/08/15 19:16:40 WARN MemoryManager: Total allocation exceeds 95.00% (1,020,054,720 bytes) of heap memory\n",
      "Scaling row group sizes to 95.00% for 8 writers\n",
      "25/08/15 19:16:40 WARN MemoryManager: Total allocation exceeds 95.00% (1,020,054,720 bytes) of heap memory\n",
      "Scaling row group sizes to 84.44% for 9 writers\n",
      "25/08/15 19:16:40 WARN MemoryManager: Total allocation exceeds 95.00% (1,020,054,720 bytes) of heap memory\n",
      "Scaling row group sizes to 95.00% for 8 writers\n",
      "25/08/15 19:16:40 WARN MemoryManager: Total allocation exceeds 95.00% (1,020,054,720 bytes) of heap memory\n",
      "Scaling row group sizes to 84.44% for 9 writers\n",
      "25/08/15 19:16:40 WARN MemoryManager: Total allocation exceeds 95.00% (1,020,054,720 bytes) of heap memory\n",
      "Scaling row group sizes to 76.00% for 10 writers\n",
      "25/08/15 19:16:40 WARN MemoryManager: Total allocation exceeds 95.00% (1,020,054,720 bytes) of heap memory\n",
      "Scaling row group sizes to 69.09% for 11 writers\n",
      "25/08/15 19:16:40 WARN MemoryManager: Total allocation exceeds 95.00% (1,020,054,720 bytes) of heap memory\n",
      "Scaling row group sizes to 76.00% for 10 writers\n",
      "25/08/15 19:16:40 WARN MemoryManager: Total allocation exceeds 95.00% (1,020,054,720 bytes) of heap memory\n",
      "Scaling row group sizes to 84.44% for 9 writers\n",
      "25/08/15 19:16:40 WARN MemoryManager: Total allocation exceeds 95.00% (1,020,054,720 bytes) of heap memory\n",
      "Scaling row group sizes to 95.00% for 8 writers\n"
     ]
    },
    {
     "name": "stdout",
     "output_type": "stream",
     "text": [
      "Processed batch: 1000 rows, Total: 1913500 rows\n",
      "Processed batch: 1000 rows, Total: 1914500 rows\n",
      "Processed batch: 1000 rows, Total: 1915500 rows\n",
      "Processed batch: 1000 rows, Total: 1916500 rows\n",
      "Processed batch: 1000 rows, Total: 1917500 rows\n",
      "Processed batch: 908 rows, Total: 1918408 rows\n",
      "Processed batch: 592 rows, Total: 1919000 rows\n"
     ]
    },
    {
     "name": "stderr",
     "output_type": "stream",
     "text": [
      "25/08/15 19:16:54 WARN MemoryManager: Total allocation exceeds 95.00% (1,020,054,720 bytes) of heap memory\n",
      "Scaling row group sizes to 95.00% for 8 writers\n",
      "25/08/15 19:16:54 WARN MemoryManager: Total allocation exceeds 95.00% (1,020,054,720 bytes) of heap memory\n",
      "Scaling row group sizes to 84.44% for 9 writers\n",
      "25/08/15 19:16:54 WARN MemoryManager: Total allocation exceeds 95.00% (1,020,054,720 bytes) of heap memory\n",
      "Scaling row group sizes to 95.00% for 8 writers\n",
      "25/08/15 19:16:54 WARN MemoryManager: Total allocation exceeds 95.00% (1,020,054,720 bytes) of heap memory\n",
      "Scaling row group sizes to 84.44% for 9 writers\n",
      "25/08/15 19:16:54 WARN MemoryManager: Total allocation exceeds 95.00% (1,020,054,720 bytes) of heap memory\n",
      "Scaling row group sizes to 95.00% for 8 writers\n"
     ]
    },
    {
     "name": "stdout",
     "output_type": "stream",
     "text": [
      "Processed batch: 1000 rows, Total: 1920000 rows\n",
      "Processed batch: 1000 rows, Total: 1921000 rows\n",
      "Processed batch: 1000 rows, Total: 1922000 rows\n"
     ]
    },
    {
     "name": "stderr",
     "output_type": "stream",
     "text": [
      "25/08/15 19:17:00 WARN MemoryManager: Total allocation exceeds 95.00% (1,020,054,720 bytes) of heap memory\n",
      "Scaling row group sizes to 95.00% for 8 writers\n",
      "25/08/15 19:17:00 WARN MemoryManager: Total allocation exceeds 95.00% (1,020,054,720 bytes) of heap memory\n",
      "Scaling row group sizes to 84.44% for 9 writers\n",
      "25/08/15 19:17:00 WARN MemoryManager: Total allocation exceeds 95.00% (1,020,054,720 bytes) of heap memory\n",
      "Scaling row group sizes to 76.00% for 10 writers\n",
      "25/08/15 19:17:00 WARN MemoryManager: Total allocation exceeds 95.00% (1,020,054,720 bytes) of heap memory\n",
      "Scaling row group sizes to 69.09% for 11 writers\n",
      "25/08/15 19:17:00 WARN MemoryManager: Total allocation exceeds 95.00% (1,020,054,720 bytes) of heap memory\n",
      "Scaling row group sizes to 76.00% for 10 writers\n",
      "25/08/15 19:17:00 WARN MemoryManager: Total allocation exceeds 95.00% (1,020,054,720 bytes) of heap memory\n",
      "Scaling row group sizes to 84.44% for 9 writers\n",
      "25/08/15 19:17:00 WARN MemoryManager: Total allocation exceeds 95.00% (1,020,054,720 bytes) of heap memory\n",
      "Scaling row group sizes to 95.00% for 8 writers\n"
     ]
    },
    {
     "name": "stdout",
     "output_type": "stream",
     "text": [
      "Processed batch: 1000 rows, Total: 1923000 rows\n",
      "Processed batch: 1000 rows, Total: 1924000 rows\n",
      "Processed batch: 1685 rows, Total: 1925685 rows\n"
     ]
    },
    {
     "name": "stderr",
     "output_type": "stream",
     "text": [
      "25/08/15 19:17:06 WARN MemoryManager: Total allocation exceeds 95.00% (1,020,054,720 bytes) of heap memory\n",
      "Scaling row group sizes to 95.00% for 8 writers\n",
      "25/08/15 19:17:06 WARN MemoryManager: Total allocation exceeds 95.00% (1,020,054,720 bytes) of heap memory\n",
      "Scaling row group sizes to 84.44% for 9 writers\n",
      "25/08/15 19:17:06 WARN MemoryManager: Total allocation exceeds 95.00% (1,020,054,720 bytes) of heap memory\n",
      "Scaling row group sizes to 76.00% for 10 writers\n",
      "25/08/15 19:17:06 WARN MemoryManager: Total allocation exceeds 95.00% (1,020,054,720 bytes) of heap memory\n",
      "Scaling row group sizes to 69.09% for 11 writers\n",
      "25/08/15 19:17:06 WARN MemoryManager: Total allocation exceeds 95.00% (1,020,054,720 bytes) of heap memory\n",
      "Scaling row group sizes to 76.00% for 10 writers\n",
      "25/08/15 19:17:06 WARN MemoryManager: Total allocation exceeds 95.00% (1,020,054,720 bytes) of heap memory\n",
      "Scaling row group sizes to 69.09% for 11 writers\n",
      "25/08/15 19:17:06 WARN MemoryManager: Total allocation exceeds 95.00% (1,020,054,720 bytes) of heap memory\n",
      "Scaling row group sizes to 76.00% for 10 writers\n",
      "25/08/15 19:17:06 WARN MemoryManager: Total allocation exceeds 95.00% (1,020,054,720 bytes) of heap memory\n",
      "Scaling row group sizes to 84.44% for 9 writers\n",
      "25/08/15 19:17:06 WARN MemoryManager: Total allocation exceeds 95.00% (1,020,054,720 bytes) of heap memory\n",
      "Scaling row group sizes to 95.00% for 8 writers\n"
     ]
    },
    {
     "name": "stdout",
     "output_type": "stream",
     "text": [
      "Processed batch: 815 rows, Total: 1926500 rows\n",
      "Processed batch: 1000 rows, Total: 1927500 rows\n",
      "Processed batch: 1000 rows, Total: 1928500 rows\n",
      "Processed batch: 1000 rows, Total: 1929500 rows\n"
     ]
    },
    {
     "name": "stderr",
     "output_type": "stream",
     "text": [
      "25/08/15 19:17:14 WARN MemoryManager: Total allocation exceeds 95.00% (1,020,054,720 bytes) of heap memory\n",
      "Scaling row group sizes to 95.00% for 8 writers\n"
     ]
    },
    {
     "name": "stdout",
     "output_type": "stream",
     "text": [
      "Processed batch: 1000 rows, Total: 1930500 rows\n",
      "Processed batch: 1000 rows, Total: 1931500 rows\n"
     ]
    },
    {
     "name": "stderr",
     "output_type": "stream",
     "text": [
      "25/08/15 19:17:18 WARN MemoryManager: Total allocation exceeds 95.00% (1,020,054,720 bytes) of heap memory\n",
      "Scaling row group sizes to 95.00% for 8 writers\n",
      "25/08/15 19:17:18 WARN MemoryManager: Total allocation exceeds 95.00% (1,020,054,720 bytes) of heap memory\n",
      "Scaling row group sizes to 84.44% for 9 writers\n",
      "25/08/15 19:17:18 WARN MemoryManager: Total allocation exceeds 95.00% (1,020,054,720 bytes) of heap memory\n",
      "Scaling row group sizes to 95.00% for 8 writers\n",
      "25/08/15 19:17:18 WARN MemoryManager: Total allocation exceeds 95.00% (1,020,054,720 bytes) of heap memory\n",
      "Scaling row group sizes to 84.44% for 9 writers\n",
      "25/08/15 19:17:18 WARN MemoryManager: Total allocation exceeds 95.00% (1,020,054,720 bytes) of heap memory\n",
      "Scaling row group sizes to 95.00% for 8 writers\n"
     ]
    },
    {
     "name": "stdout",
     "output_type": "stream",
     "text": [
      "Processed batch: 1000 rows, Total: 1932500 rows\n",
      "Processed batch: 1000 rows, Total: 1933500 rows\n",
      "Processed batch: 1000 rows, Total: 1934500 rows\n",
      "Processed batch: 1000 rows, Total: 1935500 rows\n"
     ]
    },
    {
     "name": "stderr",
     "output_type": "stream",
     "text": [
      "25/08/15 19:17:26 WARN MemoryManager: Total allocation exceeds 95.00% (1,020,054,720 bytes) of heap memory\n",
      "Scaling row group sizes to 95.00% for 8 writers\n"
     ]
    },
    {
     "name": "stdout",
     "output_type": "stream",
     "text": [
      "Processed batch: 1000 rows, Total: 1936500 rows\n",
      "Processed batch: 1000 rows, Total: 1937500 rows\n",
      "Processed batch: 1000 rows, Total: 1938500 rows\n",
      "Processed batch: 1000 rows, Total: 1939500 rows\n",
      "Processed batch: 1500 rows, Total: 1941000 rows\n",
      "Processed batch: 1000 rows, Total: 1942000 rows\n",
      "Processed batch: 1000 rows, Total: 1943000 rows\n",
      "Processed batch: 1000 rows, Total: 1944000 rows\n"
     ]
    },
    {
     "name": "stderr",
     "output_type": "stream",
     "text": [
      "25/08/15 19:17:42 WARN MemoryManager: Total allocation exceeds 95.00% (1,020,054,720 bytes) of heap memory\n",
      "Scaling row group sizes to 95.00% for 8 writers\n"
     ]
    },
    {
     "name": "stdout",
     "output_type": "stream",
     "text": [
      "Processed batch: 1000 rows, Total: 1945000 rows\n",
      "Processed batch: 1000 rows, Total: 1946000 rows\n",
      "Processed batch: 1000 rows, Total: 1947000 rows\n",
      "Processed batch: 1000 rows, Total: 1948000 rows\n",
      "Processed batch: 1000 rows, Total: 1949000 rows\n",
      "Processed batch: 1000 rows, Total: 1950000 rows\n",
      "Processed batch: 1000 rows, Total: 1951000 rows\n",
      "Processed batch: 1000 rows, Total: 1952000 rows\n",
      "Processed batch: 1000 rows, Total: 1953000 rows\n",
      "Processed batch: 1000 rows, Total: 1954000 rows\n"
     ]
    },
    {
     "name": "stderr",
     "output_type": "stream",
     "text": [
      "25/08/15 19:18:02 WARN MemoryManager: Total allocation exceeds 95.00% (1,020,054,720 bytes) of heap memory\n",
      "Scaling row group sizes to 95.00% for 8 writers\n"
     ]
    },
    {
     "name": "stdout",
     "output_type": "stream",
     "text": [
      "Processed batch: 1000 rows, Total: 1955000 rows\n"
     ]
    },
    {
     "name": "stderr",
     "output_type": "stream",
     "text": [
      "25/08/15 19:18:04 WARN MemoryManager: Total allocation exceeds 95.00% (1,020,054,720 bytes) of heap memory\n",
      "Scaling row group sizes to 95.00% for 8 writers\n"
     ]
    },
    {
     "name": "stdout",
     "output_type": "stream",
     "text": [
      "Processed batch: 1000 rows, Total: 1956000 rows\n",
      "Processed batch: 1500 rows, Total: 1957500 rows\n",
      "Processed batch: 1000 rows, Total: 1958500 rows\n",
      "Processed batch: 1000 rows, Total: 1959500 rows\n",
      "Processed batch: 1000 rows, Total: 1960500 rows\n",
      "Processed batch: 1000 rows, Total: 1961500 rows\n",
      "Processed batch: 1000 rows, Total: 1962500 rows\n",
      "Processed batch: 1000 rows, Total: 1963500 rows\n",
      "Processed batch: 1000 rows, Total: 1964500 rows\n",
      "Processed batch: 1000 rows, Total: 1965500 rows\n",
      "Processed batch: 1000 rows, Total: 1966500 rows\n"
     ]
    },
    {
     "name": "stderr",
     "output_type": "stream",
     "text": [
      "25/08/15 19:18:26 WARN MemoryManager: Total allocation exceeds 95.00% (1,020,054,720 bytes) of heap memory\n",
      "Scaling row group sizes to 95.00% for 8 writers\n",
      "25/08/15 19:18:26 WARN MemoryManager: Total allocation exceeds 95.00% (1,020,054,720 bytes) of heap memory\n",
      "Scaling row group sizes to 84.44% for 9 writers\n",
      "25/08/15 19:18:26 WARN MemoryManager: Total allocation exceeds 95.00% (1,020,054,720 bytes) of heap memory\n",
      "Scaling row group sizes to 95.00% for 8 writers\n"
     ]
    },
    {
     "name": "stdout",
     "output_type": "stream",
     "text": [
      "Processed batch: 1000 rows, Total: 1967500 rows\n",
      "Processed batch: 1000 rows, Total: 1968500 rows\n"
     ]
    },
    {
     "name": "stderr",
     "output_type": "stream",
     "text": [
      "25/08/15 19:18:30 WARN MemoryManager: Total allocation exceeds 95.00% (1,020,054,720 bytes) of heap memory\n",
      "Scaling row group sizes to 95.00% for 8 writers\n"
     ]
    },
    {
     "name": "stdout",
     "output_type": "stream",
     "text": [
      "Processed batch: 1000 rows, Total: 1969500 rows\n",
      "Processed batch: 1000 rows, Total: 1970500 rows\n",
      "Processed batch: 1000 rows, Total: 1971500 rows\n",
      "Processed batch: 1500 rows, Total: 1973000 rows\n",
      "Processed batch: 1000 rows, Total: 1974000 rows\n",
      "Processed batch: 1000 rows, Total: 1975000 rows\n",
      "Processed batch: 1000 rows, Total: 1976000 rows\n",
      "Processed batch: 1000 rows, Total: 1977000 rows\n"
     ]
    },
    {
     "name": "stderr",
     "output_type": "stream",
     "text": [
      "25/08/15 19:18:46 WARN MemoryManager: Total allocation exceeds 95.00% (1,020,054,720 bytes) of heap memory\n",
      "Scaling row group sizes to 95.00% for 8 writers\n"
     ]
    },
    {
     "name": "stdout",
     "output_type": "stream",
     "text": [
      "Processed batch: 1000 rows, Total: 1978000 rows\n",
      "Processed batch: 1000 rows, Total: 1979000 rows\n"
     ]
    },
    {
     "name": "stderr",
     "output_type": "stream",
     "text": [
      "25/08/15 19:18:50 WARN MemoryManager: Total allocation exceeds 95.00% (1,020,054,720 bytes) of heap memory\n",
      "Scaling row group sizes to 95.00% for 8 writers\n",
      "25/08/15 19:18:50 WARN MemoryManager: Total allocation exceeds 95.00% (1,020,054,720 bytes) of heap memory\n",
      "Scaling row group sizes to 84.44% for 9 writers\n",
      "25/08/15 19:18:50 WARN MemoryManager: Total allocation exceeds 95.00% (1,020,054,720 bytes) of heap memory\n",
      "Scaling row group sizes to 76.00% for 10 writers\n",
      "25/08/15 19:18:50 WARN MemoryManager: Total allocation exceeds 95.00% (1,020,054,720 bytes) of heap memory\n",
      "Scaling row group sizes to 69.09% for 11 writers\n",
      "25/08/15 19:18:50 WARN MemoryManager: Total allocation exceeds 95.00% (1,020,054,720 bytes) of heap memory\n",
      "Scaling row group sizes to 76.00% for 10 writers\n",
      "25/08/15 19:18:50 WARN MemoryManager: Total allocation exceeds 95.00% (1,020,054,720 bytes) of heap memory\n",
      "Scaling row group sizes to 84.44% for 9 writers\n",
      "25/08/15 19:18:50 WARN MemoryManager: Total allocation exceeds 95.00% (1,020,054,720 bytes) of heap memory\n",
      "Scaling row group sizes to 95.00% for 8 writers\n",
      "25/08/15 19:18:50 WARN MemoryManager: Total allocation exceeds 95.00% (1,020,054,720 bytes) of heap memory\n",
      "Scaling row group sizes to 84.44% for 9 writers\n",
      "25/08/15 19:18:50 WARN MemoryManager: Total allocation exceeds 95.00% (1,020,054,720 bytes) of heap memory\n",
      "Scaling row group sizes to 76.00% for 10 writers\n",
      "25/08/15 19:18:50 WARN MemoryManager: Total allocation exceeds 95.00% (1,020,054,720 bytes) of heap memory\n",
      "Scaling row group sizes to 84.44% for 9 writers\n",
      "25/08/15 19:18:50 WARN MemoryManager: Total allocation exceeds 95.00% (1,020,054,720 bytes) of heap memory\n",
      "Scaling row group sizes to 76.00% for 10 writers\n",
      "25/08/15 19:18:50 WARN MemoryManager: Total allocation exceeds 95.00% (1,020,054,720 bytes) of heap memory\n",
      "Scaling row group sizes to 84.44% for 9 writers\n",
      "25/08/15 19:18:50 WARN MemoryManager: Total allocation exceeds 95.00% (1,020,054,720 bytes) of heap memory\n",
      "Scaling row group sizes to 95.00% for 8 writers\n"
     ]
    },
    {
     "name": "stdout",
     "output_type": "stream",
     "text": [
      "Processed batch: 500 rows, Total: 1979500 rows\n",
      "Processed batch: 1000 rows, Total: 1980500 rows\n",
      "Processed batch: 1000 rows, Total: 1981500 rows\n",
      "Processed batch: 1000 rows, Total: 1982500 rows\n",
      "Processed batch: 1000 rows, Total: 1983500 rows\n",
      "Processed batch: 1000 rows, Total: 1984500 rows\n",
      "Processed batch: 1000 rows, Total: 1985500 rows\n",
      "Processed batch: 1000 rows, Total: 1986500 rows\n",
      "Processed batch: 1000 rows, Total: 1987500 rows\n",
      "Processed batch: 1500 rows, Total: 1989000 rows\n",
      "Processed batch: 1000 rows, Total: 1990000 rows\n",
      "Processed batch: 1000 rows, Total: 1991000 rows\n",
      "Processed batch: 1000 rows, Total: 1992000 rows\n",
      "Processed batch: 1000 rows, Total: 1993000 rows\n",
      "Processed batch: 1000 rows, Total: 1994000 rows\n",
      "Processed batch: 1000 rows, Total: 1995000 rows\n",
      "Processed batch: 1000 rows, Total: 1996000 rows\n",
      "Processed batch: 1000 rows, Total: 1997000 rows\n",
      "Processed batch: 1000 rows, Total: 1998000 rows\n",
      "Processed batch: 1000 rows, Total: 1999000 rows\n",
      "Processed batch: 1000 rows, Total: 2000000 rows\n",
      "Processed batch: 1000 rows, Total: 2001000 rows\n",
      "Processed batch: 1000 rows, Total: 2002000 rows\n",
      "Processed batch: 1000 rows, Total: 2003000 rows\n"
     ]
    },
    {
     "name": "stderr",
     "output_type": "stream",
     "text": [
      "25/08/15 19:19:38 WARN MemoryManager: Total allocation exceeds 95.00% (1,020,054,720 bytes) of heap memory\n",
      "Scaling row group sizes to 95.00% for 8 writers\n",
      "25/08/15 19:19:38 WARN MemoryManager: Total allocation exceeds 95.00% (1,020,054,720 bytes) of heap memory\n",
      "Scaling row group sizes to 84.44% for 9 writers\n",
      "25/08/15 19:19:38 WARN MemoryManager: Total allocation exceeds 95.00% (1,020,054,720 bytes) of heap memory\n",
      "Scaling row group sizes to 95.00% for 8 writers\n",
      "25/08/15 19:19:38 WARN MemoryManager: Total allocation exceeds 95.00% (1,020,054,720 bytes) of heap memory\n",
      "Scaling row group sizes to 84.44% for 9 writers\n",
      "25/08/15 19:19:38 WARN MemoryManager: Total allocation exceeds 95.00% (1,020,054,720 bytes) of heap memory\n",
      "Scaling row group sizes to 95.00% for 8 writers\n",
      "25/08/15 19:19:38 WARN MemoryManager: Total allocation exceeds 95.00% (1,020,054,720 bytes) of heap memory\n",
      "Scaling row group sizes to 95.00% for 8 writers\n",
      "25/08/15 19:19:38 WARN MemoryManager: Total allocation exceeds 95.00% (1,020,054,720 bytes) of heap memory\n",
      "Scaling row group sizes to 84.44% for 9 writers\n",
      "25/08/15 19:19:38 WARN MemoryManager: Total allocation exceeds 95.00% (1,020,054,720 bytes) of heap memory\n",
      "Scaling row group sizes to 95.00% for 8 writers\n"
     ]
    },
    {
     "name": "stdout",
     "output_type": "stream",
     "text": [
      "Processed batch: 1500 rows, Total: 2004500 rows\n",
      "Processed batch: 1000 rows, Total: 2005500 rows\n"
     ]
    },
    {
     "name": "stderr",
     "output_type": "stream",
     "text": [
      "25/08/15 19:19:42 WARN MemoryManager: Total allocation exceeds 95.00% (1,020,054,720 bytes) of heap memory\n",
      "Scaling row group sizes to 95.00% for 8 writers\n"
     ]
    },
    {
     "name": "stdout",
     "output_type": "stream",
     "text": [
      "Processed batch: 1000 rows, Total: 2006500 rows\n",
      "Processed batch: 1000 rows, Total: 2007500 rows\n",
      "Processed batch: 1000 rows, Total: 2008500 rows\n",
      "Processed batch: 1000 rows, Total: 2009500 rows\n",
      "Processed batch: 1000 rows, Total: 2010500 rows\n",
      "Processed batch: 1000 rows, Total: 2011500 rows\n",
      "Processed batch: 1000 rows, Total: 2012500 rows\n",
      "Processed batch: 1000 rows, Total: 2013500 rows\n",
      "Processed batch: 1000 rows, Total: 2014500 rows\n",
      "Processed batch: 1000 rows, Total: 2015500 rows\n",
      "Processed batch: 1000 rows, Total: 2016500 rows\n",
      "Processed batch: 1000 rows, Total: 2017500 rows\n",
      "Processed batch: 1000 rows, Total: 2018500 rows\n",
      "Processed batch: 1000 rows, Total: 2019500 rows\n"
     ]
    },
    {
     "name": "stderr",
     "output_type": "stream",
     "text": [
      "25/08/15 19:20:10 WARN MemoryManager: Total allocation exceeds 95.00% (1,020,054,720 bytes) of heap memory\n",
      "Scaling row group sizes to 95.00% for 8 writers\n"
     ]
    },
    {
     "name": "stdout",
     "output_type": "stream",
     "text": [
      "Processed batch: 1500 rows, Total: 2021000 rows\n",
      "Processed batch: 1000 rows, Total: 2022000 rows\n"
     ]
    },
    {
     "name": "stderr",
     "output_type": "stream",
     "text": [
      "25/08/15 19:20:14 WARN MemoryManager: Total allocation exceeds 95.00% (1,020,054,720 bytes) of heap memory\n",
      "Scaling row group sizes to 95.00% for 8 writers\n"
     ]
    },
    {
     "name": "stdout",
     "output_type": "stream",
     "text": [
      "Processed batch: 1000 rows, Total: 2023000 rows\n",
      "Processed batch: 1000 rows, Total: 2024000 rows\n",
      "Processed batch: 1000 rows, Total: 2025000 rows\n"
     ]
    },
    {
     "name": "stderr",
     "output_type": "stream",
     "text": [
      "25/08/15 19:20:20 WARN MemoryManager: Total allocation exceeds 95.00% (1,020,054,720 bytes) of heap memory\n",
      "Scaling row group sizes to 95.00% for 8 writers\n",
      "25/08/15 19:20:20 WARN MemoryManager: Total allocation exceeds 95.00% (1,020,054,720 bytes) of heap memory\n",
      "Scaling row group sizes to 84.44% for 9 writers\n",
      "25/08/15 19:20:20 WARN MemoryManager: Total allocation exceeds 95.00% (1,020,054,720 bytes) of heap memory\n",
      "Scaling row group sizes to 76.00% for 10 writers\n",
      "25/08/15 19:20:20 WARN MemoryManager: Total allocation exceeds 95.00% (1,020,054,720 bytes) of heap memory\n",
      "Scaling row group sizes to 84.44% for 9 writers\n",
      "25/08/15 19:20:20 WARN MemoryManager: Total allocation exceeds 95.00% (1,020,054,720 bytes) of heap memory\n",
      "Scaling row group sizes to 76.00% for 10 writers\n",
      "25/08/15 19:20:20 WARN MemoryManager: Total allocation exceeds 95.00% (1,020,054,720 bytes) of heap memory\n",
      "Scaling row group sizes to 84.44% for 9 writers\n",
      "25/08/15 19:20:20 WARN MemoryManager: Total allocation exceeds 95.00% (1,020,054,720 bytes) of heap memory\n",
      "Scaling row group sizes to 95.00% for 8 writers\n"
     ]
    },
    {
     "name": "stdout",
     "output_type": "stream",
     "text": [
      "Processed batch: 1000 rows, Total: 2026000 rows\n",
      "Processed batch: 1000 rows, Total: 2027000 rows\n"
     ]
    },
    {
     "name": "stderr",
     "output_type": "stream",
     "text": [
      "25/08/15 19:20:24 WARN MemoryManager: Total allocation exceeds 95.00% (1,020,054,720 bytes) of heap memory\n",
      "Scaling row group sizes to 95.00% for 8 writers\n",
      "25/08/15 19:20:24 WARN MemoryManager: Total allocation exceeds 95.00% (1,020,054,720 bytes) of heap memory\n",
      "Scaling row group sizes to 84.44% for 9 writers\n",
      "25/08/15 19:20:24 WARN MemoryManager: Total allocation exceeds 95.00% (1,020,054,720 bytes) of heap memory\n",
      "Scaling row group sizes to 95.00% for 8 writers\n",
      "25/08/15 19:20:24 WARN MemoryManager: Total allocation exceeds 95.00% (1,020,054,720 bytes) of heap memory\n",
      "Scaling row group sizes to 95.00% for 8 writers\n",
      "25/08/15 19:20:24 WARN MemoryManager: Total allocation exceeds 95.00% (1,020,054,720 bytes) of heap memory\n",
      "Scaling row group sizes to 95.00% for 8 writers\n",
      "25/08/15 19:20:24 WARN MemoryManager: Total allocation exceeds 95.00% (1,020,054,720 bytes) of heap memory\n",
      "Scaling row group sizes to 95.00% for 8 writers\n",
      "25/08/15 19:20:24 WARN MemoryManager: Total allocation exceeds 95.00% (1,020,054,720 bytes) of heap memory\n",
      "Scaling row group sizes to 84.44% for 9 writers\n",
      "25/08/15 19:20:24 WARN MemoryManager: Total allocation exceeds 95.00% (1,020,054,720 bytes) of heap memory\n",
      "Scaling row group sizes to 95.00% for 8 writers\n"
     ]
    },
    {
     "name": "stdout",
     "output_type": "stream",
     "text": [
      "Processed batch: 1000 rows, Total: 2028000 rows\n",
      "Processed batch: 1000 rows, Total: 2029000 rows\n",
      "Processed batch: 1000 rows, Total: 2030000 rows\n",
      "Processed batch: 1000 rows, Total: 2031000 rows\n"
     ]
    },
    {
     "name": "stderr",
     "output_type": "stream",
     "text": [
      "25/08/15 19:20:32 WARN MemoryManager: Total allocation exceeds 95.00% (1,020,054,720 bytes) of heap memory\n",
      "Scaling row group sizes to 95.00% for 8 writers\n",
      "25/08/15 19:20:32 WARN MemoryManager: Total allocation exceeds 95.00% (1,020,054,720 bytes) of heap memory\n",
      "Scaling row group sizes to 84.44% for 9 writers\n",
      "25/08/15 19:20:32 WARN MemoryManager: Total allocation exceeds 95.00% (1,020,054,720 bytes) of heap memory\n",
      "Scaling row group sizes to 76.00% for 10 writers\n",
      "25/08/15 19:20:32 WARN MemoryManager: Total allocation exceeds 95.00% (1,020,054,720 bytes) of heap memory\n",
      "Scaling row group sizes to 69.09% for 11 writers\n",
      "25/08/15 19:20:32 WARN MemoryManager: Total allocation exceeds 95.00% (1,020,054,720 bytes) of heap memory\n",
      "Scaling row group sizes to 63.33% for 12 writers\n",
      "25/08/15 19:20:32 WARN MemoryManager: Total allocation exceeds 95.00% (1,020,054,720 bytes) of heap memory\n",
      "Scaling row group sizes to 58.46% for 13 writers\n",
      "25/08/15 19:20:32 WARN MemoryManager: Total allocation exceeds 95.00% (1,020,054,720 bytes) of heap memory\n",
      "Scaling row group sizes to 63.33% for 12 writers\n",
      "25/08/15 19:20:32 WARN MemoryManager: Total allocation exceeds 95.00% (1,020,054,720 bytes) of heap memory\n",
      "Scaling row group sizes to 69.09% for 11 writers\n",
      "25/08/15 19:20:32 WARN MemoryManager: Total allocation exceeds 95.00% (1,020,054,720 bytes) of heap memory\n",
      "Scaling row group sizes to 63.33% for 12 writers\n",
      "25/08/15 19:20:32 WARN MemoryManager: Total allocation exceeds 95.00% (1,020,054,720 bytes) of heap memory\n",
      "Scaling row group sizes to 69.09% for 11 writers\n",
      "25/08/15 19:20:32 WARN MemoryManager: Total allocation exceeds 95.00% (1,020,054,720 bytes) of heap memory\n",
      "Scaling row group sizes to 76.00% for 10 writers\n",
      "25/08/15 19:20:32 WARN MemoryManager: Total allocation exceeds 95.00% (1,020,054,720 bytes) of heap memory\n",
      "Scaling row group sizes to 84.44% for 9 writers\n",
      "25/08/15 19:20:32 WARN MemoryManager: Total allocation exceeds 95.00% (1,020,054,720 bytes) of heap memory\n",
      "Scaling row group sizes to 95.00% for 8 writers\n"
     ]
    },
    {
     "name": "stdout",
     "output_type": "stream",
     "text": [
      "Processed batch: 1000 rows, Total: 2032000 rows\n",
      "Processed batch: 1000 rows, Total: 2033000 rows\n",
      "Processed batch: 1000 rows, Total: 2034000 rows\n",
      "Processed batch: 909 rows, Total: 2034909 rows\n",
      "Processed batch: 1591 rows, Total: 2036500 rows\n",
      "Processed batch: 1000 rows, Total: 2037500 rows\n",
      "Processed batch: 1000 rows, Total: 2038500 rows\n",
      "Processed batch: 1000 rows, Total: 2039500 rows\n",
      "Processed batch: 531 rows, Total: 2040031 rows\n",
      "Processed batch: 969 rows, Total: 2041000 rows\n",
      "Processed batch: 1000 rows, Total: 2042000 rows\n",
      "Processed batch: 1000 rows, Total: 2043000 rows\n"
     ]
    },
    {
     "name": "stderr",
     "output_type": "stream",
     "text": [
      "25/08/15 19:20:56 WARN MemoryManager: Total allocation exceeds 95.00% (1,020,054,720 bytes) of heap memory\n",
      "Scaling row group sizes to 95.00% for 8 writers\n",
      "25/08/15 19:20:56 WARN MemoryManager: Total allocation exceeds 95.00% (1,020,054,720 bytes) of heap memory\n",
      "Scaling row group sizes to 84.44% for 9 writers\n",
      "25/08/15 19:20:56 WARN MemoryManager: Total allocation exceeds 95.00% (1,020,054,720 bytes) of heap memory\n",
      "Scaling row group sizes to 95.00% for 8 writers\n"
     ]
    },
    {
     "name": "stdout",
     "output_type": "stream",
     "text": [
      "Processed batch: 1000 rows, Total: 2044000 rows\n"
     ]
    },
    {
     "name": "stderr",
     "output_type": "stream",
     "text": [
      "25/08/15 19:20:58 WARN MemoryManager: Total allocation exceeds 95.00% (1,020,054,720 bytes) of heap memory\n",
      "Scaling row group sizes to 95.00% for 8 writers\n",
      "25/08/15 19:20:58 WARN MemoryManager: Total allocation exceeds 95.00% (1,020,054,720 bytes) of heap memory\n",
      "Scaling row group sizes to 95.00% for 8 writers\n",
      "25/08/15 19:20:58 WARN MemoryManager: Total allocation exceeds 95.00% (1,020,054,720 bytes) of heap memory\n",
      "Scaling row group sizes to 95.00% for 8 writers\n"
     ]
    },
    {
     "name": "stdout",
     "output_type": "stream",
     "text": [
      "Processed batch: 1000 rows, Total: 2045000 rows\n"
     ]
    },
    {
     "name": "stderr",
     "output_type": "stream",
     "text": [
      "25/08/15 19:21:00 WARN MemoryManager: Total allocation exceeds 95.00% (1,020,054,720 bytes) of heap memory\n",
      "Scaling row group sizes to 95.00% for 8 writers\n",
      "25/08/15 19:21:00 WARN MemoryManager: Total allocation exceeds 95.00% (1,020,054,720 bytes) of heap memory\n",
      "Scaling row group sizes to 84.44% for 9 writers\n",
      "25/08/15 19:21:00 WARN MemoryManager: Total allocation exceeds 95.00% (1,020,054,720 bytes) of heap memory\n",
      "Scaling row group sizes to 76.00% for 10 writers\n",
      "25/08/15 19:21:00 WARN MemoryManager: Total allocation exceeds 95.00% (1,020,054,720 bytes) of heap memory\n",
      "Scaling row group sizes to 84.44% for 9 writers\n",
      "25/08/15 19:21:00 WARN MemoryManager: Total allocation exceeds 95.00% (1,020,054,720 bytes) of heap memory\n",
      "Scaling row group sizes to 95.00% for 8 writers\n"
     ]
    },
    {
     "name": "stdout",
     "output_type": "stream",
     "text": [
      "Processed batch: 1000 rows, Total: 2046000 rows\n",
      "Processed batch: 1000 rows, Total: 2047000 rows\n",
      "Processed batch: 1000 rows, Total: 2048000 rows\n",
      "Processed batch: 1000 rows, Total: 2049000 rows\n",
      "Processed batch: 1000 rows, Total: 2050000 rows\n",
      "Processed batch: 1000 rows, Total: 2051000 rows\n"
     ]
    },
    {
     "name": "stderr",
     "output_type": "stream",
     "text": [
      "25/08/15 19:21:12 WARN MemoryManager: Total allocation exceeds 95.00% (1,020,054,720 bytes) of heap memory\n",
      "Scaling row group sizes to 95.00% for 8 writers\n",
      "25/08/15 19:21:12 WARN MemoryManager: Total allocation exceeds 95.00% (1,020,054,720 bytes) of heap memory\n",
      "Scaling row group sizes to 84.44% for 9 writers\n",
      "25/08/15 19:21:12 WARN MemoryManager: Total allocation exceeds 95.00% (1,020,054,720 bytes) of heap memory\n",
      "Scaling row group sizes to 76.00% for 10 writers\n",
      "25/08/15 19:21:12 WARN MemoryManager: Total allocation exceeds 95.00% (1,020,054,720 bytes) of heap memory\n",
      "Scaling row group sizes to 69.09% for 11 writers\n",
      "25/08/15 19:21:12 WARN MemoryManager: Total allocation exceeds 95.00% (1,020,054,720 bytes) of heap memory\n",
      "Scaling row group sizes to 76.00% for 10 writers\n",
      "25/08/15 19:21:12 WARN MemoryManager: Total allocation exceeds 95.00% (1,020,054,720 bytes) of heap memory\n",
      "Scaling row group sizes to 69.09% for 11 writers\n",
      "25/08/15 19:21:12 WARN MemoryManager: Total allocation exceeds 95.00% (1,020,054,720 bytes) of heap memory\n",
      "Scaling row group sizes to 76.00% for 10 writers\n",
      "25/08/15 19:21:12 WARN MemoryManager: Total allocation exceeds 95.00% (1,020,054,720 bytes) of heap memory\n",
      "Scaling row group sizes to 84.44% for 9 writers\n",
      "25/08/15 19:21:12 WARN MemoryManager: Total allocation exceeds 95.00% (1,020,054,720 bytes) of heap memory\n",
      "Scaling row group sizes to 95.00% for 8 writers\n"
     ]
    },
    {
     "name": "stdout",
     "output_type": "stream",
     "text": [
      "Processed batch: 1500 rows, Total: 2052500 rows\n",
      "Processed batch: 1000 rows, Total: 2053500 rows\n"
     ]
    },
    {
     "name": "stderr",
     "output_type": "stream",
     "text": [
      "25/08/15 19:21:16 WARN MemoryManager: Total allocation exceeds 95.00% (1,020,054,720 bytes) of heap memory\n",
      "Scaling row group sizes to 95.00% for 8 writers\n",
      "25/08/15 19:21:16 WARN MemoryManager: Total allocation exceeds 95.00% (1,020,054,720 bytes) of heap memory\n",
      "Scaling row group sizes to 84.44% for 9 writers\n",
      "25/08/15 19:21:16 WARN MemoryManager: Total allocation exceeds 95.00% (1,020,054,720 bytes) of heap memory\n",
      "Scaling row group sizes to 95.00% for 8 writers\n",
      "25/08/15 19:21:16 WARN MemoryManager: Total allocation exceeds 95.00% (1,020,054,720 bytes) of heap memory\n",
      "Scaling row group sizes to 95.00% for 8 writers\n"
     ]
    },
    {
     "name": "stdout",
     "output_type": "stream",
     "text": [
      "Processed batch: 1000 rows, Total: 2054500 rows\n",
      "Processed batch: 1000 rows, Total: 2055500 rows\n",
      "Processed batch: 1000 rows, Total: 2056500 rows\n",
      "Processed batch: 1000 rows, Total: 2057500 rows\n",
      "Processed batch: 1000 rows, Total: 2058500 rows\n",
      "Processed batch: 1000 rows, Total: 2059500 rows\n",
      "Processed batch: 1000 rows, Total: 2060500 rows\n"
     ]
    },
    {
     "name": "stderr",
     "output_type": "stream",
     "text": [
      "25/08/15 19:21:30 WARN MemoryManager: Total allocation exceeds 95.00% (1,020,054,720 bytes) of heap memory\n",
      "Scaling row group sizes to 95.00% for 8 writers\n",
      "25/08/15 19:21:30 WARN MemoryManager: Total allocation exceeds 95.00% (1,020,054,720 bytes) of heap memory\n",
      "Scaling row group sizes to 84.44% for 9 writers\n",
      "25/08/15 19:21:30 WARN MemoryManager: Total allocation exceeds 95.00% (1,020,054,720 bytes) of heap memory\n",
      "Scaling row group sizes to 76.00% for 10 writers\n",
      "25/08/15 19:21:30 WARN MemoryManager: Total allocation exceeds 95.00% (1,020,054,720 bytes) of heap memory\n",
      "Scaling row group sizes to 84.44% for 9 writers\n",
      "25/08/15 19:21:30 WARN MemoryManager: Total allocation exceeds 95.00% (1,020,054,720 bytes) of heap memory\n",
      "Scaling row group sizes to 95.00% for 8 writers\n",
      "25/08/15 19:21:30 WARN MemoryManager: Total allocation exceeds 95.00% (1,020,054,720 bytes) of heap memory\n",
      "Scaling row group sizes to 84.44% for 9 writers\n",
      "25/08/15 19:21:30 WARN MemoryManager: Total allocation exceeds 95.00% (1,020,054,720 bytes) of heap memory\n",
      "Scaling row group sizes to 76.00% for 10 writers\n",
      "25/08/15 19:21:30 WARN MemoryManager: Total allocation exceeds 95.00% (1,020,054,720 bytes) of heap memory\n",
      "Scaling row group sizes to 69.09% for 11 writers\n",
      "25/08/15 19:21:30 WARN MemoryManager: Total allocation exceeds 95.00% (1,020,054,720 bytes) of heap memory\n",
      "Scaling row group sizes to 76.00% for 10 writers\n",
      "25/08/15 19:21:30 WARN MemoryManager: Total allocation exceeds 95.00% (1,020,054,720 bytes) of heap memory\n",
      "Scaling row group sizes to 84.44% for 9 writers\n",
      "25/08/15 19:21:30 WARN MemoryManager: Total allocation exceeds 95.00% (1,020,054,720 bytes) of heap memory\n",
      "Scaling row group sizes to 95.00% for 8 writers\n"
     ]
    },
    {
     "name": "stdout",
     "output_type": "stream",
     "text": [
      "Processed batch: 1000 rows, Total: 2061500 rows\n",
      "Processed batch: 1000 rows, Total: 2062500 rows\n",
      "Processed batch: 1000 rows, Total: 2063500 rows\n",
      "Processed batch: 1000 rows, Total: 2064500 rows\n"
     ]
    },
    {
     "name": "stderr",
     "output_type": "stream",
     "text": [
      "25/08/15 19:21:38 WARN MemoryManager: Total allocation exceeds 95.00% (1,020,054,720 bytes) of heap memory\n",
      "Scaling row group sizes to 95.00% for 8 writers\n",
      "25/08/15 19:21:38 WARN MemoryManager: Total allocation exceeds 95.00% (1,020,054,720 bytes) of heap memory\n",
      "Scaling row group sizes to 84.44% for 9 writers\n",
      "25/08/15 19:21:38 WARN MemoryManager: Total allocation exceeds 95.00% (1,020,054,720 bytes) of heap memory\n",
      "Scaling row group sizes to 76.00% for 10 writers\n",
      "25/08/15 19:21:38 WARN MemoryManager: Total allocation exceeds 95.00% (1,020,054,720 bytes) of heap memory\n",
      "Scaling row group sizes to 69.09% for 11 writers\n",
      "25/08/15 19:21:38 WARN MemoryManager: Total allocation exceeds 95.00% (1,020,054,720 bytes) of heap memory\n",
      "Scaling row group sizes to 76.00% for 10 writers\n",
      "25/08/15 19:21:38 WARN MemoryManager: Total allocation exceeds 95.00% (1,020,054,720 bytes) of heap memory\n",
      "Scaling row group sizes to 84.44% for 9 writers\n",
      "25/08/15 19:21:38 WARN MemoryManager: Total allocation exceeds 95.00% (1,020,054,720 bytes) of heap memory\n",
      "Scaling row group sizes to 95.00% for 8 writers\n",
      "25/08/15 19:21:38 WARN MemoryManager: Total allocation exceeds 95.00% (1,020,054,720 bytes) of heap memory\n",
      "Scaling row group sizes to 84.44% for 9 writers\n",
      "25/08/15 19:21:38 WARN MemoryManager: Total allocation exceeds 95.00% (1,020,054,720 bytes) of heap memory\n",
      "Scaling row group sizes to 95.00% for 8 writers\n",
      "25/08/15 19:21:38 WARN MemoryManager: Total allocation exceeds 95.00% (1,020,054,720 bytes) of heap memory\n",
      "Scaling row group sizes to 95.00% for 8 writers\n"
     ]
    },
    {
     "name": "stdout",
     "output_type": "stream",
     "text": [
      "Processed batch: 1000 rows, Total: 2065500 rows\n",
      "Processed batch: 1000 rows, Total: 2066500 rows\n",
      "Processed batch: 1500 rows, Total: 2068000 rows\n",
      "Processed batch: 1000 rows, Total: 2069000 rows\n",
      "Processed batch: 1000 rows, Total: 2070000 rows\n",
      "Processed batch: 1000 rows, Total: 2071000 rows\n",
      "Processed batch: 1000 rows, Total: 2072000 rows\n",
      "Processed batch: 1000 rows, Total: 2073000 rows\n",
      "Processed batch: 1000 rows, Total: 2074000 rows\n",
      "Processed batch: 1000 rows, Total: 2075000 rows\n"
     ]
    },
    {
     "name": "stderr",
     "output_type": "stream",
     "text": [
      "25/08/15 19:21:58 WARN MemoryManager: Total allocation exceeds 95.00% (1,020,054,720 bytes) of heap memory\n",
      "Scaling row group sizes to 95.00% for 8 writers\n",
      "25/08/15 19:21:58 WARN MemoryManager: Total allocation exceeds 95.00% (1,020,054,720 bytes) of heap memory\n",
      "Scaling row group sizes to 84.44% for 9 writers\n",
      "25/08/15 19:21:58 WARN MemoryManager: Total allocation exceeds 95.00% (1,020,054,720 bytes) of heap memory\n",
      "Scaling row group sizes to 76.00% for 10 writers\n",
      "25/08/15 19:21:58 WARN MemoryManager: Total allocation exceeds 95.00% (1,020,054,720 bytes) of heap memory\n",
      "Scaling row group sizes to 84.44% for 9 writers\n",
      "25/08/15 19:21:58 WARN MemoryManager: Total allocation exceeds 95.00% (1,020,054,720 bytes) of heap memory\n",
      "Scaling row group sizes to 95.00% for 8 writers\n"
     ]
    },
    {
     "name": "stdout",
     "output_type": "stream",
     "text": [
      "Processed batch: 1000 rows, Total: 2076000 rows\n",
      "Processed batch: 500 rows, Total: 2076500 rows\n",
      "Processed batch: 1000 rows, Total: 2077500 rows\n",
      "Processed batch: 1000 rows, Total: 2078500 rows\n",
      "Processed batch: 1000 rows, Total: 2079500 rows\n",
      "Processed batch: 1000 rows, Total: 2080500 rows\n"
     ]
    },
    {
     "name": "stderr",
     "output_type": "stream",
     "text": [
      "25/08/15 19:22:10 WARN MemoryManager: Total allocation exceeds 95.00% (1,020,054,720 bytes) of heap memory\n",
      "Scaling row group sizes to 95.00% for 8 writers\n"
     ]
    },
    {
     "name": "stdout",
     "output_type": "stream",
     "text": [
      "Processed batch: 1000 rows, Total: 2081500 rows\n",
      "Processed batch: 1000 rows, Total: 2082500 rows\n",
      "Processed batch: 2000 rows, Total: 2084500 rows\n"
     ]
    },
    {
     "name": "stderr",
     "output_type": "stream",
     "text": [
      "25/08/15 19:22:16 WARN MemoryManager: Total allocation exceeds 95.00% (1,020,054,720 bytes) of heap memory\n",
      "Scaling row group sizes to 95.00% for 8 writers\n",
      "25/08/15 19:22:16 WARN MemoryManager: Total allocation exceeds 95.00% (1,020,054,720 bytes) of heap memory\n",
      "Scaling row group sizes to 84.44% for 9 writers\n",
      "25/08/15 19:22:16 WARN MemoryManager: Total allocation exceeds 95.00% (1,020,054,720 bytes) of heap memory\n",
      "Scaling row group sizes to 95.00% for 8 writers\n"
     ]
    },
    {
     "name": "stdout",
     "output_type": "stream",
     "text": [
      "Processed batch: 613 rows, Total: 2085113 rows\n",
      "Processed batch: 887 rows, Total: 2086000 rows\n",
      "Processed batch: 1000 rows, Total: 2087000 rows\n",
      "Processed batch: 1000 rows, Total: 2088000 rows\n"
     ]
    },
    {
     "name": "stderr",
     "output_type": "stream",
     "text": [
      "25/08/15 19:22:24 WARN MemoryManager: Total allocation exceeds 95.00% (1,020,054,720 bytes) of heap memory\n",
      "Scaling row group sizes to 95.00% for 8 writers\n"
     ]
    },
    {
     "name": "stdout",
     "output_type": "stream",
     "text": [
      "Processed batch: 1000 rows, Total: 2089000 rows\n",
      "Processed batch: 1000 rows, Total: 2090000 rows\n",
      "Processed batch: 1000 rows, Total: 2091000 rows\n",
      "Processed batch: 1000 rows, Total: 2092000 rows\n",
      "Processed batch: 1000 rows, Total: 2093000 rows\n",
      "Processed batch: 1000 rows, Total: 2094000 rows\n",
      "Processed batch: 1000 rows, Total: 2095000 rows\n",
      "Processed batch: 1000 rows, Total: 2096000 rows\n",
      "Processed batch: 1000 rows, Total: 2097000 rows\n",
      "Processed batch: 1000 rows, Total: 2098000 rows\n",
      "Processed batch: 1500 rows, Total: 2099500 rows\n"
     ]
    },
    {
     "name": "stderr",
     "output_type": "stream",
     "text": [
      "25/08/15 19:22:46 WARN MemoryManager: Total allocation exceeds 95.00% (1,020,054,720 bytes) of heap memory\n",
      "Scaling row group sizes to 95.00% for 8 writers\n",
      "25/08/15 19:22:46 WARN MemoryManager: Total allocation exceeds 95.00% (1,020,054,720 bytes) of heap memory\n",
      "Scaling row group sizes to 84.44% for 9 writers\n",
      "25/08/15 19:22:46 WARN MemoryManager: Total allocation exceeds 95.00% (1,020,054,720 bytes) of heap memory\n",
      "Scaling row group sizes to 76.00% for 10 writers\n",
      "25/08/15 19:22:46 WARN MemoryManager: Total allocation exceeds 95.00% (1,020,054,720 bytes) of heap memory\n",
      "Scaling row group sizes to 84.44% for 9 writers\n",
      "25/08/15 19:22:46 WARN MemoryManager: Total allocation exceeds 95.00% (1,020,054,720 bytes) of heap memory\n",
      "Scaling row group sizes to 95.00% for 8 writers\n"
     ]
    },
    {
     "name": "stdout",
     "output_type": "stream",
     "text": [
      "Processed batch: 1000 rows, Total: 2100500 rows\n",
      "Processed batch: 1000 rows, Total: 2101500 rows\n",
      "Processed batch: 1000 rows, Total: 2102500 rows\n"
     ]
    },
    {
     "name": "stderr",
     "output_type": "stream",
     "text": [
      "25/08/15 19:22:52 WARN MemoryManager: Total allocation exceeds 95.00% (1,020,054,720 bytes) of heap memory\n",
      "Scaling row group sizes to 95.00% for 8 writers\n"
     ]
    },
    {
     "name": "stdout",
     "output_type": "stream",
     "text": [
      "Processed batch: 1000 rows, Total: 2103500 rows\n",
      "Processed batch: 1000 rows, Total: 2104500 rows\n",
      "Processed batch: 1000 rows, Total: 2105500 rows\n",
      "Processed batch: 1000 rows, Total: 2106500 rows\n",
      "Processed batch: 1000 rows, Total: 2107500 rows\n",
      "Processed batch: 1000 rows, Total: 2108500 rows\n",
      "Processed batch: 1000 rows, Total: 2109500 rows\n",
      "Processed batch: 1000 rows, Total: 2110500 rows\n",
      "Processed batch: 1000 rows, Total: 2111500 rows\n",
      "Processed batch: 1000 rows, Total: 2112500 rows\n",
      "Processed batch: 1000 rows, Total: 2113500 rows\n"
     ]
    },
    {
     "name": "stderr",
     "output_type": "stream",
     "text": [
      "25/08/15 19:23:14 WARN MemoryManager: Total allocation exceeds 95.00% (1,020,054,720 bytes) of heap memory\n",
      "Scaling row group sizes to 95.00% for 8 writers\n",
      "25/08/15 19:23:14 WARN MemoryManager: Total allocation exceeds 95.00% (1,020,054,720 bytes) of heap memory\n",
      "Scaling row group sizes to 84.44% for 9 writers\n",
      "25/08/15 19:23:14 WARN MemoryManager: Total allocation exceeds 95.00% (1,020,054,720 bytes) of heap memory\n",
      "Scaling row group sizes to 95.00% for 8 writers\n",
      "25/08/15 19:23:14 WARN MemoryManager: Total allocation exceeds 95.00% (1,020,054,720 bytes) of heap memory\n",
      "Scaling row group sizes to 84.44% for 9 writers\n",
      "25/08/15 19:23:14 WARN MemoryManager: Total allocation exceeds 95.00% (1,020,054,720 bytes) of heap memory\n",
      "Scaling row group sizes to 76.00% for 10 writers\n",
      "25/08/15 19:23:14 WARN MemoryManager: Total allocation exceeds 95.00% (1,020,054,720 bytes) of heap memory\n",
      "Scaling row group sizes to 84.44% for 9 writers\n",
      "25/08/15 19:23:14 WARN MemoryManager: Total allocation exceeds 95.00% (1,020,054,720 bytes) of heap memory\n",
      "Scaling row group sizes to 95.00% for 8 writers\n"
     ]
    },
    {
     "name": "stdout",
     "output_type": "stream",
     "text": [
      "Processed batch: 1000 rows, Total: 2114500 rows\n",
      "Processed batch: 1500 rows, Total: 2116000 rows\n",
      "Processed batch: 1000 rows, Total: 2117000 rows\n"
     ]
    },
    {
     "name": "stderr",
     "output_type": "stream",
     "text": [
      "25/08/15 19:23:20 WARN MemoryManager: Total allocation exceeds 95.00% (1,020,054,720 bytes) of heap memory\n",
      "Scaling row group sizes to 95.00% for 8 writers\n"
     ]
    },
    {
     "name": "stdout",
     "output_type": "stream",
     "text": [
      "Processed batch: 1000 rows, Total: 2118000 rows\n",
      "Processed batch: 1000 rows, Total: 2119000 rows\n",
      "Processed batch: 1000 rows, Total: 2120000 rows\n"
     ]
    },
    {
     "name": "stderr",
     "output_type": "stream",
     "text": [
      "25/08/15 19:23:26 WARN MemoryManager: Total allocation exceeds 95.00% (1,020,054,720 bytes) of heap memory\n",
      "Scaling row group sizes to 95.00% for 8 writers\n"
     ]
    },
    {
     "name": "stdout",
     "output_type": "stream",
     "text": [
      "Processed batch: 1000 rows, Total: 2121000 rows\n",
      "Processed batch: 1000 rows, Total: 2122000 rows\n",
      "Processed batch: 1000 rows, Total: 2123000 rows\n",
      "Processed batch: 1000 rows, Total: 2124000 rows\n",
      "Processed batch: 1000 rows, Total: 2125000 rows\n"
     ]
    },
    {
     "name": "stderr",
     "output_type": "stream",
     "text": [
      "25/08/15 19:23:36 WARN MemoryManager: Total allocation exceeds 95.00% (1,020,054,720 bytes) of heap memory\n",
      "Scaling row group sizes to 95.00% for 8 writers\n",
      "25/08/15 19:23:36 WARN MemoryManager: Total allocation exceeds 95.00% (1,020,054,720 bytes) of heap memory\n",
      "Scaling row group sizes to 95.00% for 8 writers\n",
      "25/08/15 19:23:36 WARN MemoryManager: Total allocation exceeds 95.00% (1,020,054,720 bytes) of heap memory\n",
      "Scaling row group sizes to 95.00% for 8 writers\n"
     ]
    },
    {
     "name": "stdout",
     "output_type": "stream",
     "text": [
      "Processed batch: 1000 rows, Total: 2126000 rows\n",
      "Processed batch: 1000 rows, Total: 2127000 rows\n",
      "Processed batch: 1000 rows, Total: 2128000 rows\n",
      "Processed batch: 1000 rows, Total: 2129000 rows\n"
     ]
    },
    {
     "name": "stderr",
     "output_type": "stream",
     "text": [
      "25/08/15 19:23:44 WARN MemoryManager: Total allocation exceeds 95.00% (1,020,054,720 bytes) of heap memory\n",
      "Scaling row group sizes to 95.00% for 8 writers\n",
      "25/08/15 19:23:44 WARN MemoryManager: Total allocation exceeds 95.00% (1,020,054,720 bytes) of heap memory\n",
      "Scaling row group sizes to 84.44% for 9 writers\n",
      "25/08/15 19:23:44 WARN MemoryManager: Total allocation exceeds 95.00% (1,020,054,720 bytes) of heap memory\n",
      "Scaling row group sizes to 95.00% for 8 writers\n",
      "25/08/15 19:23:44 WARN MemoryManager: Total allocation exceeds 95.00% (1,020,054,720 bytes) of heap memory\n",
      "Scaling row group sizes to 84.44% for 9 writers\n",
      "25/08/15 19:23:44 WARN MemoryManager: Total allocation exceeds 95.00% (1,020,054,720 bytes) of heap memory\n",
      "Scaling row group sizes to 95.00% for 8 writers\n",
      "25/08/15 19:23:44 WARN MemoryManager: Total allocation exceeds 95.00% (1,020,054,720 bytes) of heap memory\n",
      "Scaling row group sizes to 84.44% for 9 writers\n",
      "25/08/15 19:23:44 WARN MemoryManager: Total allocation exceeds 95.00% (1,020,054,720 bytes) of heap memory\n",
      "Scaling row group sizes to 76.00% for 10 writers\n",
      "25/08/15 19:23:44 WARN MemoryManager: Total allocation exceeds 95.00% (1,020,054,720 bytes) of heap memory\n",
      "Scaling row group sizes to 84.44% for 9 writers\n",
      "25/08/15 19:23:44 WARN MemoryManager: Total allocation exceeds 95.00% (1,020,054,720 bytes) of heap memory\n",
      "Scaling row group sizes to 76.00% for 10 writers\n",
      "25/08/15 19:23:44 WARN MemoryManager: Total allocation exceeds 95.00% (1,020,054,720 bytes) of heap memory\n",
      "Scaling row group sizes to 84.44% for 9 writers\n",
      "25/08/15 19:23:44 WARN MemoryManager: Total allocation exceeds 95.00% (1,020,054,720 bytes) of heap memory\n",
      "Scaling row group sizes to 95.00% for 8 writers\n"
     ]
    },
    {
     "name": "stdout",
     "output_type": "stream",
     "text": [
      "Processed batch: 1000 rows, Total: 2130000 rows\n",
      "Processed batch: 1500 rows, Total: 2131500 rows\n"
     ]
    },
    {
     "name": "stderr",
     "output_type": "stream",
     "text": [
      "25/08/15 19:23:48 WARN MemoryManager: Total allocation exceeds 95.00% (1,020,054,720 bytes) of heap memory\n",
      "Scaling row group sizes to 95.00% for 8 writers\n",
      "25/08/15 19:23:48 WARN MemoryManager: Total allocation exceeds 95.00% (1,020,054,720 bytes) of heap memory\n",
      "Scaling row group sizes to 84.44% for 9 writers\n",
      "25/08/15 19:23:48 WARN MemoryManager: Total allocation exceeds 95.00% (1,020,054,720 bytes) of heap memory\n",
      "Scaling row group sizes to 95.00% for 8 writers\n"
     ]
    },
    {
     "name": "stdout",
     "output_type": "stream",
     "text": [
      "Processed batch: 1000 rows, Total: 2132500 rows\n",
      "Processed batch: 1000 rows, Total: 2133500 rows\n",
      "Processed batch: 1000 rows, Total: 2134500 rows\n",
      "Processed batch: 1000 rows, Total: 2135500 rows\n"
     ]
    },
    {
     "name": "stderr",
     "output_type": "stream",
     "text": [
      "25/08/15 19:23:56 WARN MemoryManager: Total allocation exceeds 95.00% (1,020,054,720 bytes) of heap memory\n",
      "Scaling row group sizes to 95.00% for 8 writers\n"
     ]
    },
    {
     "name": "stdout",
     "output_type": "stream",
     "text": [
      "Processed batch: 1000 rows, Total: 2136500 rows\n",
      "Processed batch: 893 rows, Total: 2137393 rows\n"
     ]
    },
    {
     "name": "stderr",
     "output_type": "stream",
     "text": [
      "25/08/15 19:24:00 WARN MemoryManager: Total allocation exceeds 95.00% (1,020,054,720 bytes) of heap memory\n",
      "Scaling row group sizes to 95.00% for 8 writers\n"
     ]
    },
    {
     "name": "stdout",
     "output_type": "stream",
     "text": [
      "Processed batch: 607 rows, Total: 2138000 rows\n",
      "Processed batch: 1000 rows, Total: 2139000 rows\n",
      "Processed batch: 1000 rows, Total: 2140000 rows\n",
      "Processed batch: 1000 rows, Total: 2141000 rows\n",
      "Processed batch: 1000 rows, Total: 2142000 rows\n",
      "Processed batch: 1000 rows, Total: 2143000 rows\n"
     ]
    },
    {
     "name": "stderr",
     "output_type": "stream",
     "text": [
      "25/08/15 19:24:12 WARN MemoryManager: Total allocation exceeds 95.00% (1,020,054,720 bytes) of heap memory\n",
      "Scaling row group sizes to 95.00% for 8 writers\n",
      "25/08/15 19:24:12 WARN MemoryManager: Total allocation exceeds 95.00% (1,020,054,720 bytes) of heap memory\n",
      "Scaling row group sizes to 84.44% for 9 writers\n",
      "25/08/15 19:24:12 WARN MemoryManager: Total allocation exceeds 95.00% (1,020,054,720 bytes) of heap memory\n",
      "Scaling row group sizes to 95.00% for 8 writers\n"
     ]
    },
    {
     "name": "stdout",
     "output_type": "stream",
     "text": [
      "Processed batch: 1000 rows, Total: 2144000 rows\n"
     ]
    },
    {
     "name": "stderr",
     "output_type": "stream",
     "text": [
      "25/08/15 19:24:14 WARN MemoryManager: Total allocation exceeds 95.00% (1,020,054,720 bytes) of heap memory\n",
      "Scaling row group sizes to 95.00% for 8 writers\n"
     ]
    },
    {
     "name": "stdout",
     "output_type": "stream",
     "text": [
      "Processed batch: 1000 rows, Total: 2145000 rows\n",
      "Processed batch: 1000 rows, Total: 2146000 rows\n",
      "Processed batch: 1500 rows, Total: 2147500 rows\n",
      "Processed batch: 1000 rows, Total: 2148500 rows\n",
      "Processed batch: 1000 rows, Total: 2149500 rows\n",
      "Processed batch: 1000 rows, Total: 2150500 rows\n",
      "Processed batch: 1000 rows, Total: 2151500 rows\n"
     ]
    },
    {
     "name": "stderr",
     "output_type": "stream",
     "text": [
      "25/08/15 19:24:28 WARN MemoryManager: Total allocation exceeds 95.00% (1,020,054,720 bytes) of heap memory\n",
      "Scaling row group sizes to 95.00% for 8 writers\n",
      "25/08/15 19:24:28 WARN MemoryManager: Total allocation exceeds 95.00% (1,020,054,720 bytes) of heap memory\n",
      "Scaling row group sizes to 95.00% for 8 writers\n",
      "25/08/15 19:24:28 WARN MemoryManager: Total allocation exceeds 95.00% (1,020,054,720 bytes) of heap memory\n",
      "Scaling row group sizes to 84.44% for 9 writers\n",
      "25/08/15 19:24:28 WARN MemoryManager: Total allocation exceeds 95.00% (1,020,054,720 bytes) of heap memory\n",
      "Scaling row group sizes to 95.00% for 8 writers\n",
      "25/08/15 19:24:28 WARN MemoryManager: Total allocation exceeds 95.00% (1,020,054,720 bytes) of heap memory\n",
      "Scaling row group sizes to 95.00% for 8 writers\n"
     ]
    },
    {
     "name": "stdout",
     "output_type": "stream",
     "text": [
      "Processed batch: 1000 rows, Total: 2152500 rows\n",
      "Processed batch: 1000 rows, Total: 2153500 rows\n"
     ]
    },
    {
     "name": "stderr",
     "output_type": "stream",
     "text": [
      "25/08/15 19:24:32 WARN MemoryManager: Total allocation exceeds 95.00% (1,020,054,720 bytes) of heap memory\n",
      "Scaling row group sizes to 95.00% for 8 writers\n",
      "25/08/15 19:24:32 WARN MemoryManager: Total allocation exceeds 95.00% (1,020,054,720 bytes) of heap memory\n",
      "Scaling row group sizes to 84.44% for 9 writers\n",
      "25/08/15 19:24:32 WARN MemoryManager: Total allocation exceeds 95.00% (1,020,054,720 bytes) of heap memory\n",
      "Scaling row group sizes to 76.00% for 10 writers\n",
      "25/08/15 19:24:32 WARN MemoryManager: Total allocation exceeds 95.00% (1,020,054,720 bytes) of heap memory\n",
      "Scaling row group sizes to 84.44% for 9 writers\n",
      "25/08/15 19:24:32 WARN MemoryManager: Total allocation exceeds 95.00% (1,020,054,720 bytes) of heap memory\n",
      "Scaling row group sizes to 76.00% for 10 writers\n",
      "25/08/15 19:24:32 WARN MemoryManager: Total allocation exceeds 95.00% (1,020,054,720 bytes) of heap memory\n",
      "Scaling row group sizes to 69.09% for 11 writers\n",
      "25/08/15 19:24:32 WARN MemoryManager: Total allocation exceeds 95.00% (1,020,054,720 bytes) of heap memory\n",
      "Scaling row group sizes to 76.00% for 10 writers\n",
      "25/08/15 19:24:32 WARN MemoryManager: Total allocation exceeds 95.00% (1,020,054,720 bytes) of heap memory\n",
      "Scaling row group sizes to 69.09% for 11 writers\n",
      "25/08/15 19:24:32 WARN MemoryManager: Total allocation exceeds 95.00% (1,020,054,720 bytes) of heap memory\n",
      "Scaling row group sizes to 76.00% for 10 writers\n",
      "25/08/15 19:24:32 WARN MemoryManager: Total allocation exceeds 95.00% (1,020,054,720 bytes) of heap memory\n",
      "Scaling row group sizes to 84.44% for 9 writers\n",
      "25/08/15 19:24:32 WARN MemoryManager: Total allocation exceeds 95.00% (1,020,054,720 bytes) of heap memory\n",
      "Scaling row group sizes to 95.00% for 8 writers\n"
     ]
    },
    {
     "name": "stdout",
     "output_type": "stream",
     "text": [
      "Processed batch: 1000 rows, Total: 2154500 rows\n",
      "Processed batch: 1000 rows, Total: 2155500 rows\n",
      "Processed batch: 1000 rows, Total: 2156500 rows\n",
      "Processed batch: 1000 rows, Total: 2157500 rows\n",
      "Processed batch: 1000 rows, Total: 2158500 rows\n",
      "Processed batch: 1000 rows, Total: 2159500 rows\n",
      "Processed batch: 1000 rows, Total: 2160500 rows\n",
      "Processed batch: 1000 rows, Total: 2161500 rows\n",
      "Processed batch: 1500 rows, Total: 2163000 rows\n",
      "Processed batch: 1000 rows, Total: 2164000 rows\n",
      "Processed batch: 1000 rows, Total: 2165000 rows\n",
      "Processed batch: 1000 rows, Total: 2166000 rows\n",
      "Processed batch: 1000 rows, Total: 2167000 rows\n",
      "Processed batch: 1000 rows, Total: 2168000 rows\n",
      "Processed batch: 1000 rows, Total: 2169000 rows\n",
      "Processed batch: 1000 rows, Total: 2170000 rows\n",
      "Processed batch: 1000 rows, Total: 2171000 rows\n",
      "Processed batch: 1000 rows, Total: 2172000 rows\n",
      "Processed batch: 1000 rows, Total: 2173000 rows\n",
      "Processed batch: 1000 rows, Total: 2174000 rows\n"
     ]
    },
    {
     "name": "stderr",
     "output_type": "stream",
     "text": [
      "25/08/15 19:25:12 WARN MemoryManager: Total allocation exceeds 95.00% (1,020,054,720 bytes) of heap memory\n",
      "Scaling row group sizes to 95.00% for 8 writers\n"
     ]
    },
    {
     "name": "stdout",
     "output_type": "stream",
     "text": [
      "Processed batch: 602 rows, Total: 2174602 rows\n",
      "Processed batch: 898 rows, Total: 2175500 rows\n",
      "Processed batch: 1000 rows, Total: 2176500 rows\n",
      "Processed batch: 1000 rows, Total: 2177500 rows\n",
      "Processed batch: 2000 rows, Total: 2179500 rows\n"
     ]
    },
    {
     "name": "stderr",
     "output_type": "stream",
     "text": [
      "25/08/15 19:25:22 WARN MemoryManager: Total allocation exceeds 95.00% (1,020,054,720 bytes) of heap memory\n",
      "Scaling row group sizes to 95.00% for 8 writers\n"
     ]
    },
    {
     "name": "stdout",
     "output_type": "stream",
     "text": [
      "Processed batch: 1000 rows, Total: 2180500 rows\n"
     ]
    },
    {
     "name": "stderr",
     "output_type": "stream",
     "text": [
      "25/08/15 19:25:24 WARN MemoryManager: Total allocation exceeds 95.00% (1,020,054,720 bytes) of heap memory\n",
      "Scaling row group sizes to 95.00% for 8 writers\n",
      "25/08/15 19:25:24 WARN MemoryManager: Total allocation exceeds 95.00% (1,020,054,720 bytes) of heap memory\n",
      "Scaling row group sizes to 95.00% for 8 writers\n"
     ]
    },
    {
     "name": "stdout",
     "output_type": "stream",
     "text": [
      "Processed batch: 1000 rows, Total: 2181500 rows\n",
      "Processed batch: 1000 rows, Total: 2182500 rows\n",
      "Processed batch: 500 rows, Total: 2183000 rows\n",
      "Processed batch: 1000 rows, Total: 2184000 rows\n",
      "Processed batch: 1000 rows, Total: 2185000 rows\n",
      "Processed batch: 1000 rows, Total: 2186000 rows\n",
      "Processed batch: 1000 rows, Total: 2187000 rows\n",
      "Processed batch: 1000 rows, Total: 2188000 rows\n"
     ]
    },
    {
     "name": "stderr",
     "output_type": "stream",
     "text": [
      "25/08/15 19:25:40 WARN MemoryManager: Total allocation exceeds 95.00% (1,020,054,720 bytes) of heap memory\n",
      "Scaling row group sizes to 95.00% for 8 writers\n",
      "25/08/15 19:25:40 WARN MemoryManager: Total allocation exceeds 95.00% (1,020,054,720 bytes) of heap memory\n",
      "Scaling row group sizes to 84.44% for 9 writers\n",
      "25/08/15 19:25:40 WARN MemoryManager: Total allocation exceeds 95.00% (1,020,054,720 bytes) of heap memory\n",
      "Scaling row group sizes to 76.00% for 10 writers\n",
      "25/08/15 19:25:40 WARN MemoryManager: Total allocation exceeds 95.00% (1,020,054,720 bytes) of heap memory\n",
      "Scaling row group sizes to 84.44% for 9 writers\n",
      "25/08/15 19:25:40 WARN MemoryManager: Total allocation exceeds 95.00% (1,020,054,720 bytes) of heap memory\n",
      "Scaling row group sizes to 95.00% for 8 writers\n",
      "25/08/15 19:25:40 WARN MemoryManager: Total allocation exceeds 95.00% (1,020,054,720 bytes) of heap memory\n",
      "Scaling row group sizes to 95.00% for 8 writers\n",
      "25/08/15 19:25:40 WARN MemoryManager: Total allocation exceeds 95.00% (1,020,054,720 bytes) of heap memory\n",
      "Scaling row group sizes to 95.00% for 8 writers\n",
      "25/08/15 19:25:40 WARN MemoryManager: Total allocation exceeds 95.00% (1,020,054,720 bytes) of heap memory\n",
      "Scaling row group sizes to 84.44% for 9 writers\n",
      "25/08/15 19:25:40 WARN MemoryManager: Total allocation exceeds 95.00% (1,020,054,720 bytes) of heap memory\n",
      "Scaling row group sizes to 95.00% for 8 writers\n"
     ]
    },
    {
     "name": "stdout",
     "output_type": "stream",
     "text": [
      "Processed batch: 1000 rows, Total: 2189000 rows\n",
      "Processed batch: 1000 rows, Total: 2190000 rows\n",
      "Processed batch: 1000 rows, Total: 2191000 rows\n",
      "Processed batch: 1000 rows, Total: 2192000 rows\n"
     ]
    },
    {
     "name": "stderr",
     "output_type": "stream",
     "text": [
      "25/08/15 19:25:48 WARN MemoryManager: Total allocation exceeds 95.00% (1,020,054,720 bytes) of heap memory\n",
      "Scaling row group sizes to 95.00% for 8 writers\n",
      "25/08/15 19:25:48 WARN MemoryManager: Total allocation exceeds 95.00% (1,020,054,720 bytes) of heap memory\n",
      "Scaling row group sizes to 84.44% for 9 writers\n",
      "25/08/15 19:25:48 WARN MemoryManager: Total allocation exceeds 95.00% (1,020,054,720 bytes) of heap memory\n",
      "Scaling row group sizes to 76.00% for 10 writers\n",
      "25/08/15 19:25:48 WARN MemoryManager: Total allocation exceeds 95.00% (1,020,054,720 bytes) of heap memory\n",
      "Scaling row group sizes to 84.44% for 9 writers\n",
      "25/08/15 19:25:48 WARN MemoryManager: Total allocation exceeds 95.00% (1,020,054,720 bytes) of heap memory\n",
      "Scaling row group sizes to 95.00% for 8 writers\n",
      "25/08/15 19:25:48 WARN MemoryManager: Total allocation exceeds 95.00% (1,020,054,720 bytes) of heap memory\n",
      "Scaling row group sizes to 95.00% for 8 writers\n"
     ]
    },
    {
     "name": "stdout",
     "output_type": "stream",
     "text": [
      "Processed batch: 1000 rows, Total: 2193000 rows\n",
      "Processed batch: 1500 rows, Total: 2194500 rows\n",
      "Processed batch: 1000 rows, Total: 2195500 rows\n",
      "Processed batch: 1000 rows, Total: 2196500 rows\n"
     ]
    },
    {
     "name": "stderr",
     "output_type": "stream",
     "text": [
      "25/08/15 19:25:56 WARN MemoryManager: Total allocation exceeds 95.00% (1,020,054,720 bytes) of heap memory\n",
      "Scaling row group sizes to 95.00% for 8 writers\n",
      "25/08/15 19:25:56 WARN MemoryManager: Total allocation exceeds 95.00% (1,020,054,720 bytes) of heap memory\n",
      "Scaling row group sizes to 84.44% for 9 writers\n",
      "25/08/15 19:25:56 WARN MemoryManager: Total allocation exceeds 95.00% (1,020,054,720 bytes) of heap memory\n",
      "Scaling row group sizes to 95.00% for 8 writers\n"
     ]
    },
    {
     "name": "stdout",
     "output_type": "stream",
     "text": [
      "Processed batch: 1000 rows, Total: 2197500 rows\n",
      "Processed batch: 1000 rows, Total: 2198500 rows\n",
      "Processed batch: 1000 rows, Total: 2199500 rows\n",
      "Processed batch: 1000 rows, Total: 2200500 rows\n",
      "Processed batch: 1000 rows, Total: 2201500 rows\n",
      "Processed batch: 1000 rows, Total: 2202500 rows\n",
      "Processed batch: 1000 rows, Total: 2203500 rows\n",
      "Processed batch: 1000 rows, Total: 2204500 rows\n",
      "Processed batch: 1000 rows, Total: 2205500 rows\n",
      "Processed batch: 1000 rows, Total: 2206500 rows\n",
      "Processed batch: 1000 rows, Total: 2207500 rows\n",
      "Processed batch: 1000 rows, Total: 2208500 rows\n",
      "Processed batch: 1000 rows, Total: 2209500 rows\n",
      "Processed batch: 1500 rows, Total: 2211000 rows\n"
     ]
    },
    {
     "name": "stderr",
     "output_type": "stream",
     "text": [
      "25/08/15 19:26:24 WARN MemoryManager: Total allocation exceeds 95.00% (1,020,054,720 bytes) of heap memory\n",
      "Scaling row group sizes to 95.00% for 8 writers\n"
     ]
    },
    {
     "name": "stdout",
     "output_type": "stream",
     "text": [
      "Processed batch: 1000 rows, Total: 2212000 rows\n",
      "Processed batch: 1000 rows, Total: 2213000 rows\n",
      "Processed batch: 1000 rows, Total: 2214000 rows\n",
      "Processed batch: 1000 rows, Total: 2215000 rows\n",
      "Processed batch: 1000 rows, Total: 2216000 rows\n"
     ]
    },
    {
     "name": "stderr",
     "output_type": "stream",
     "text": [
      "25/08/15 19:26:34 WARN MemoryManager: Total allocation exceeds 95.00% (1,020,054,720 bytes) of heap memory\n",
      "Scaling row group sizes to 95.00% for 8 writers\n"
     ]
    },
    {
     "name": "stdout",
     "output_type": "stream",
     "text": [
      "Processed batch: 1000 rows, Total: 2217000 rows\n"
     ]
    },
    {
     "name": "stderr",
     "output_type": "stream",
     "text": [
      "25/08/15 19:26:36 WARN MemoryManager: Total allocation exceeds 95.00% (1,020,054,720 bytes) of heap memory\n",
      "Scaling row group sizes to 95.00% for 8 writers\n",
      "25/08/15 19:26:36 WARN MemoryManager: Total allocation exceeds 95.00% (1,020,054,720 bytes) of heap memory\n",
      "Scaling row group sizes to 84.44% for 9 writers\n",
      "25/08/15 19:26:36 WARN MemoryManager: Total allocation exceeds 95.00% (1,020,054,720 bytes) of heap memory\n",
      "Scaling row group sizes to 76.00% for 10 writers\n",
      "25/08/15 19:26:36 WARN MemoryManager: Total allocation exceeds 95.00% (1,020,054,720 bytes) of heap memory\n",
      "Scaling row group sizes to 84.44% for 9 writers\n",
      "25/08/15 19:26:36 WARN MemoryManager: Total allocation exceeds 95.00% (1,020,054,720 bytes) of heap memory\n",
      "Scaling row group sizes to 95.00% for 8 writers\n",
      "25/08/15 19:26:36 WARN MemoryManager: Total allocation exceeds 95.00% (1,020,054,720 bytes) of heap memory\n",
      "Scaling row group sizes to 95.00% for 8 writers\n",
      "25/08/15 19:26:36 WARN MemoryManager: Total allocation exceeds 95.00% (1,020,054,720 bytes) of heap memory\n",
      "Scaling row group sizes to 84.44% for 9 writers\n",
      "25/08/15 19:26:36 WARN MemoryManager: Total allocation exceeds 95.00% (1,020,054,720 bytes) of heap memory\n",
      "Scaling row group sizes to 95.00% for 8 writers\n"
     ]
    },
    {
     "name": "stdout",
     "output_type": "stream",
     "text": [
      "Processed batch: 1000 rows, Total: 2218000 rows\n",
      "Processed batch: 1000 rows, Total: 2219000 rows\n",
      "Processed batch: 1000 rows, Total: 2220000 rows\n",
      "Processed batch: 1000 rows, Total: 2221000 rows\n",
      "Processed batch: 1000 rows, Total: 2222000 rows\n",
      "Processed batch: 1000 rows, Total: 2223000 rows\n"
     ]
    },
    {
     "name": "stderr",
     "output_type": "stream",
     "text": [
      "25/08/15 19:26:48 WARN MemoryManager: Total allocation exceeds 95.00% (1,020,054,720 bytes) of heap memory\n",
      "Scaling row group sizes to 95.00% for 8 writers\n"
     ]
    },
    {
     "name": "stdout",
     "output_type": "stream",
     "text": [
      "Processed batch: 1000 rows, Total: 2224000 rows\n"
     ]
    },
    {
     "name": "stderr",
     "output_type": "stream",
     "text": [
      "25/08/15 19:26:50 WARN MemoryManager: Total allocation exceeds 95.00% (1,020,054,720 bytes) of heap memory\n",
      "Scaling row group sizes to 95.00% for 8 writers\n"
     ]
    },
    {
     "name": "stdout",
     "output_type": "stream",
     "text": [
      "Processed batch: 1000 rows, Total: 2225000 rows\n",
      "Processed batch: 1500 rows, Total: 2226500 rows\n",
      "Processed batch: 1000 rows, Total: 2227500 rows\n",
      "Processed batch: 1000 rows, Total: 2228500 rows\n",
      "Processed batch: 1000 rows, Total: 2229500 rows\n",
      "Processed batch: 1000 rows, Total: 2230500 rows\n",
      "Processed batch: 1000 rows, Total: 2231500 rows\n",
      "Processed batch: 1000 rows, Total: 2232500 rows\n",
      "Processed batch: 1000 rows, Total: 2233500 rows\n",
      "Processed batch: 1000 rows, Total: 2234500 rows\n",
      "Processed batch: 1000 rows, Total: 2235500 rows\n",
      "Processed batch: 1000 rows, Total: 2236500 rows\n",
      "Processed batch: 1000 rows, Total: 2237500 rows\n"
     ]
    },
    {
     "name": "stderr",
     "output_type": "stream",
     "text": [
      "25/08/15 19:27:16 WARN MemoryManager: Total allocation exceeds 95.00% (1,020,054,720 bytes) of heap memory\n",
      "Scaling row group sizes to 95.00% for 8 writers\n",
      "25/08/15 19:27:16 WARN MemoryManager: Total allocation exceeds 95.00% (1,020,054,720 bytes) of heap memory\n",
      "Scaling row group sizes to 84.44% for 9 writers\n",
      "25/08/15 19:27:16 WARN MemoryManager: Total allocation exceeds 95.00% (1,020,054,720 bytes) of heap memory\n",
      "Scaling row group sizes to 76.00% for 10 writers\n",
      "25/08/15 19:27:16 WARN MemoryManager: Total allocation exceeds 95.00% (1,020,054,720 bytes) of heap memory\n",
      "Scaling row group sizes to 69.09% for 11 writers\n",
      "25/08/15 19:27:16 WARN MemoryManager: Total allocation exceeds 95.00% (1,020,054,720 bytes) of heap memory\n",
      "Scaling row group sizes to 63.33% for 12 writers\n",
      "25/08/15 19:27:16 WARN MemoryManager: Total allocation exceeds 95.00% (1,020,054,720 bytes) of heap memory\n",
      "Scaling row group sizes to 69.09% for 11 writers\n",
      "25/08/15 19:27:16 WARN MemoryManager: Total allocation exceeds 95.00% (1,020,054,720 bytes) of heap memory\n",
      "Scaling row group sizes to 76.00% for 10 writers\n",
      "25/08/15 19:27:16 WARN MemoryManager: Total allocation exceeds 95.00% (1,020,054,720 bytes) of heap memory\n",
      "Scaling row group sizes to 84.44% for 9 writers\n",
      "25/08/15 19:27:16 WARN MemoryManager: Total allocation exceeds 95.00% (1,020,054,720 bytes) of heap memory\n",
      "Scaling row group sizes to 95.00% for 8 writers\n"
     ]
    },
    {
     "name": "stdout",
     "output_type": "stream",
     "text": [
      "Processed batch: 1000 rows, Total: 2238500 rows\n",
      "Processed batch: 1000 rows, Total: 2239500 rows\n"
     ]
    },
    {
     "name": "stderr",
     "output_type": "stream",
     "text": [
      "25/08/15 19:27:20 WARN MemoryManager: Total allocation exceeds 95.00% (1,020,054,720 bytes) of heap memory\n",
      "Scaling row group sizes to 95.00% for 8 writers\n",
      "25/08/15 19:27:20 WARN MemoryManager: Total allocation exceeds 95.00% (1,020,054,720 bytes) of heap memory\n",
      "Scaling row group sizes to 84.44% for 9 writers\n",
      "25/08/15 19:27:20 WARN MemoryManager: Total allocation exceeds 95.00% (1,020,054,720 bytes) of heap memory\n",
      "Scaling row group sizes to 76.00% for 10 writers\n",
      "25/08/15 19:27:20 WARN MemoryManager: Total allocation exceeds 95.00% (1,020,054,720 bytes) of heap memory\n",
      "Scaling row group sizes to 84.44% for 9 writers\n",
      "25/08/15 19:27:20 WARN MemoryManager: Total allocation exceeds 95.00% (1,020,054,720 bytes) of heap memory\n",
      "Scaling row group sizes to 76.00% for 10 writers\n",
      "25/08/15 19:27:20 WARN MemoryManager: Total allocation exceeds 95.00% (1,020,054,720 bytes) of heap memory\n",
      "Scaling row group sizes to 84.44% for 9 writers\n",
      "25/08/15 19:27:20 WARN MemoryManager: Total allocation exceeds 95.00% (1,020,054,720 bytes) of heap memory\n",
      "Scaling row group sizes to 76.00% for 10 writers\n",
      "25/08/15 19:27:20 WARN MemoryManager: Total allocation exceeds 95.00% (1,020,054,720 bytes) of heap memory\n",
      "Scaling row group sizes to 84.44% for 9 writers\n",
      "25/08/15 19:27:20 WARN MemoryManager: Total allocation exceeds 95.00% (1,020,054,720 bytes) of heap memory\n",
      "Scaling row group sizes to 95.00% for 8 writers\n",
      "25/08/15 19:27:20 WARN MemoryManager: Total allocation exceeds 95.00% (1,020,054,720 bytes) of heap memory\n",
      "Scaling row group sizes to 95.00% for 8 writers\n",
      "25/08/15 19:27:20 WARN MemoryManager: Total allocation exceeds 95.00% (1,020,054,720 bytes) of heap memory\n",
      "Scaling row group sizes to 95.00% for 8 writers\n"
     ]
    },
    {
     "name": "stdout",
     "output_type": "stream",
     "text": [
      "Processed batch: 1000 rows, Total: 2240500 rows\n",
      "Processed batch: 1000 rows, Total: 2241500 rows\n"
     ]
    },
    {
     "name": "stderr",
     "output_type": "stream",
     "text": [
      "25/08/15 19:27:24 WARN MemoryManager: Total allocation exceeds 95.00% (1,020,054,720 bytes) of heap memory\n",
      "Scaling row group sizes to 95.00% for 8 writers\n"
     ]
    },
    {
     "name": "stdout",
     "output_type": "stream",
     "text": [
      "Processed batch: 1500 rows, Total: 2243000 rows\n",
      "Processed batch: 1000 rows, Total: 2244000 rows\n",
      "Processed batch: 1000 rows, Total: 2245000 rows\n",
      "Processed batch: 1000 rows, Total: 2246000 rows\n"
     ]
    },
    {
     "name": "stderr",
     "output_type": "stream",
     "text": [
      "25/08/15 19:27:32 WARN MemoryManager: Total allocation exceeds 95.00% (1,020,054,720 bytes) of heap memory\n",
      "Scaling row group sizes to 95.00% for 8 writers\n",
      "25/08/15 19:27:32 WARN MemoryManager: Total allocation exceeds 95.00% (1,020,054,720 bytes) of heap memory\n",
      "Scaling row group sizes to 84.44% for 9 writers\n",
      "25/08/15 19:27:32 WARN MemoryManager: Total allocation exceeds 95.00% (1,020,054,720 bytes) of heap memory\n",
      "Scaling row group sizes to 76.00% for 10 writers\n",
      "25/08/15 19:27:32 WARN MemoryManager: Total allocation exceeds 95.00% (1,020,054,720 bytes) of heap memory\n",
      "Scaling row group sizes to 84.44% for 9 writers\n",
      "25/08/15 19:27:32 WARN MemoryManager: Total allocation exceeds 95.00% (1,020,054,720 bytes) of heap memory\n",
      "Scaling row group sizes to 76.00% for 10 writers\n",
      "25/08/15 19:27:32 WARN MemoryManager: Total allocation exceeds 95.00% (1,020,054,720 bytes) of heap memory\n",
      "Scaling row group sizes to 69.09% for 11 writers\n",
      "25/08/15 19:27:32 WARN MemoryManager: Total allocation exceeds 95.00% (1,020,054,720 bytes) of heap memory\n",
      "Scaling row group sizes to 76.00% for 10 writers\n",
      "25/08/15 19:27:32 WARN MemoryManager: Total allocation exceeds 95.00% (1,020,054,720 bytes) of heap memory\n",
      "Scaling row group sizes to 84.44% for 9 writers\n",
      "25/08/15 19:27:32 WARN MemoryManager: Total allocation exceeds 95.00% (1,020,054,720 bytes) of heap memory\n",
      "Scaling row group sizes to 76.00% for 10 writers\n",
      "25/08/15 19:27:32 WARN MemoryManager: Total allocation exceeds 95.00% (1,020,054,720 bytes) of heap memory\n",
      "Scaling row group sizes to 84.44% for 9 writers\n",
      "25/08/15 19:27:32 WARN MemoryManager: Total allocation exceeds 95.00% (1,020,054,720 bytes) of heap memory\n",
      "Scaling row group sizes to 95.00% for 8 writers\n"
     ]
    },
    {
     "name": "stdout",
     "output_type": "stream",
     "text": [
      "Processed batch: 1000 rows, Total: 2247000 rows\n",
      "Processed batch: 1000 rows, Total: 2248000 rows\n"
     ]
    },
    {
     "name": "stderr",
     "output_type": "stream",
     "text": [
      "25/08/15 19:27:36 WARN MemoryManager: Total allocation exceeds 95.00% (1,020,054,720 bytes) of heap memory\n",
      "Scaling row group sizes to 95.00% for 8 writers\n",
      "25/08/15 19:27:36 WARN MemoryManager: Total allocation exceeds 95.00% (1,020,054,720 bytes) of heap memory\n",
      "Scaling row group sizes to 95.00% for 8 writers\n"
     ]
    },
    {
     "name": "stdout",
     "output_type": "stream",
     "text": [
      "Processed batch: 1000 rows, Total: 2249000 rows\n",
      "Processed batch: 1000 rows, Total: 2250000 rows\n",
      "Processed batch: 1000 rows, Total: 2251000 rows\n",
      "Processed batch: 1000 rows, Total: 2252000 rows\n",
      "Processed batch: 1000 rows, Total: 2253000 rows\n",
      "Processed batch: 1000 rows, Total: 2254000 rows\n",
      "Processed batch: 500 rows, Total: 2254500 rows\n",
      "Processed batch: 1000 rows, Total: 2255500 rows\n",
      "Processed batch: 1000 rows, Total: 2256500 rows\n",
      "Processed batch: 2000 rows, Total: 2258500 rows\n"
     ]
    },
    {
     "name": "stderr",
     "output_type": "stream",
     "text": [
      "25/08/15 19:27:56 WARN MemoryManager: Total allocation exceeds 95.00% (1,020,054,720 bytes) of heap memory\n",
      "Scaling row group sizes to 95.00% for 8 writers\n",
      "25/08/15 19:27:56 WARN MemoryManager: Total allocation exceeds 95.00% (1,020,054,720 bytes) of heap memory\n",
      "Scaling row group sizes to 84.44% for 9 writers\n",
      "25/08/15 19:27:56 WARN MemoryManager: Total allocation exceeds 95.00% (1,020,054,720 bytes) of heap memory\n",
      "Scaling row group sizes to 95.00% for 8 writers\n"
     ]
    },
    {
     "name": "stdout",
     "output_type": "stream",
     "text": [
      "Processed batch: 1000 rows, Total: 2259500 rows\n",
      "Processed batch: 1000 rows, Total: 2260500 rows\n"
     ]
    },
    {
     "name": "stderr",
     "output_type": "stream",
     "text": [
      "25/08/15 19:28:00 WARN MemoryManager: Total allocation exceeds 95.00% (1,020,054,720 bytes) of heap memory\n",
      "Scaling row group sizes to 95.00% for 8 writers\n",
      "25/08/15 19:28:00 WARN MemoryManager: Total allocation exceeds 95.00% (1,020,054,720 bytes) of heap memory\n",
      "Scaling row group sizes to 84.44% for 9 writers\n",
      "25/08/15 19:28:00 WARN MemoryManager: Total allocation exceeds 95.00% (1,020,054,720 bytes) of heap memory\n",
      "Scaling row group sizes to 76.00% for 10 writers\n",
      "25/08/15 19:28:00 WARN MemoryManager: Total allocation exceeds 95.00% (1,020,054,720 bytes) of heap memory\n",
      "Scaling row group sizes to 84.44% for 9 writers\n",
      "25/08/15 19:28:00 WARN MemoryManager: Total allocation exceeds 95.00% (1,020,054,720 bytes) of heap memory\n",
      "Scaling row group sizes to 95.00% for 8 writers\n"
     ]
    },
    {
     "name": "stdout",
     "output_type": "stream",
     "text": [
      "Processed batch: 500 rows, Total: 2261000 rows\n",
      "Processed batch: 1000 rows, Total: 2262000 rows\n",
      "Processed batch: 1000 rows, Total: 2263000 rows\n",
      "Processed batch: 1000 rows, Total: 2264000 rows\n",
      "Processed batch: 1000 rows, Total: 2265000 rows\n",
      "Processed batch: 1000 rows, Total: 2266000 rows\n",
      "Processed batch: 1000 rows, Total: 2267000 rows\n",
      "Processed batch: 1000 rows, Total: 2268000 rows\n",
      "Processed batch: 1000 rows, Total: 2269000 rows\n",
      "Processed batch: 1000 rows, Total: 2270000 rows\n"
     ]
    },
    {
     "name": "stderr",
     "output_type": "stream",
     "text": [
      "25/08/15 19:28:20 WARN MemoryManager: Total allocation exceeds 95.00% (1,020,054,720 bytes) of heap memory\n",
      "Scaling row group sizes to 95.00% for 8 writers\n",
      "25/08/15 19:28:20 WARN MemoryManager: Total allocation exceeds 95.00% (1,020,054,720 bytes) of heap memory\n",
      "Scaling row group sizes to 84.44% for 9 writers\n",
      "25/08/15 19:28:20 WARN MemoryManager: Total allocation exceeds 95.00% (1,020,054,720 bytes) of heap memory\n",
      "Scaling row group sizes to 95.00% for 8 writers\n"
     ]
    },
    {
     "name": "stdout",
     "output_type": "stream",
     "text": [
      "Processed batch: 1000 rows, Total: 2271000 rows\n",
      "Processed batch: 1000 rows, Total: 2272000 rows\n",
      "Processed batch: 1000 rows, Total: 2273000 rows\n"
     ]
    },
    {
     "name": "stderr",
     "output_type": "stream",
     "text": [
      "25/08/15 19:28:26 WARN MemoryManager: Total allocation exceeds 95.00% (1,020,054,720 bytes) of heap memory\n",
      "Scaling row group sizes to 95.00% for 8 writers\n",
      "25/08/15 19:28:26 WARN MemoryManager: Total allocation exceeds 95.00% (1,020,054,720 bytes) of heap memory\n",
      "Scaling row group sizes to 84.44% for 9 writers\n",
      "25/08/15 19:28:26 WARN MemoryManager: Total allocation exceeds 95.00% (1,020,054,720 bytes) of heap memory\n",
      "Scaling row group sizes to 95.00% for 8 writers\n"
     ]
    },
    {
     "name": "stdout",
     "output_type": "stream",
     "text": [
      "Processed batch: 1500 rows, Total: 2274500 rows\n",
      "Processed batch: 1000 rows, Total: 2275500 rows\n",
      "Processed batch: 1000 rows, Total: 2276500 rows\n",
      "Processed batch: 1000 rows, Total: 2277500 rows\n",
      "Processed batch: 1000 rows, Total: 2278500 rows\n",
      "Processed batch: 1000 rows, Total: 2279500 rows\n",
      "Processed batch: 1000 rows, Total: 2280500 rows\n",
      "Processed batch: 1000 rows, Total: 2281500 rows\n",
      "Processed batch: 1000 rows, Total: 2282500 rows\n",
      "Processed batch: 1000 rows, Total: 2283500 rows\n",
      "Processed batch: 1000 rows, Total: 2284500 rows\n",
      "Processed batch: 1000 rows, Total: 2285500 rows\n",
      "Processed batch: 1000 rows, Total: 2286500 rows\n",
      "Processed batch: 1000 rows, Total: 2287500 rows\n",
      "Processed batch: 1000 rows, Total: 2288500 rows\n",
      "Processed batch: 1500 rows, Total: 2290000 rows\n",
      "Processed batch: 1000 rows, Total: 2291000 rows\n",
      "Processed batch: 1000 rows, Total: 2292000 rows\n",
      "Processed batch: 1000 rows, Total: 2293000 rows\n",
      "Processed batch: 1000 rows, Total: 2294000 rows\n",
      "Processed batch: 1000 rows, Total: 2295000 rows\n",
      "Processed batch: 1000 rows, Total: 2296000 rows\n",
      "Processed batch: 1000 rows, Total: 2297000 rows\n"
     ]
    },
    {
     "name": "stderr",
     "output_type": "stream",
     "text": [
      "25/08/15 19:29:12 WARN MemoryManager: Total allocation exceeds 95.00% (1,020,054,720 bytes) of heap memory\n",
      "Scaling row group sizes to 95.00% for 8 writers\n"
     ]
    },
    {
     "name": "stdout",
     "output_type": "stream",
     "text": [
      "Processed batch: 1000 rows, Total: 2298000 rows\n",
      "Processed batch: 1000 rows, Total: 2299000 rows\n",
      "Processed batch: 1000 rows, Total: 2300000 rows\n",
      "Processed batch: 500 rows, Total: 2300500 rows\n",
      "Processed batch: 1000 rows, Total: 2301500 rows\n",
      "Processed batch: 1000 rows, Total: 2302500 rows\n",
      "Processed batch: 1000 rows, Total: 2303500 rows\n"
     ]
    },
    {
     "name": "stderr",
     "output_type": "stream",
     "text": [
      "25/08/15 19:29:26 WARN MemoryManager: Total allocation exceeds 95.00% (1,020,054,720 bytes) of heap memory\n",
      "Scaling row group sizes to 95.00% for 8 writers\n"
     ]
    },
    {
     "name": "stdout",
     "output_type": "stream",
     "text": [
      "Processed batch: 1000 rows, Total: 2304500 rows\n",
      "Processed batch: 1605 rows, Total: 2306105 rows\n"
     ]
    },
    {
     "name": "stderr",
     "output_type": "stream",
     "text": [
      "25/08/15 19:29:30 WARN MemoryManager: Total allocation exceeds 95.00% (1,020,054,720 bytes) of heap memory\n",
      "Scaling row group sizes to 95.00% for 8 writers\n",
      "25/08/15 19:29:30 WARN MemoryManager: Total allocation exceeds 95.00% (1,020,054,720 bytes) of heap memory\n",
      "Scaling row group sizes to 84.44% for 9 writers\n",
      "25/08/15 19:29:30 WARN MemoryManager: Total allocation exceeds 95.00% (1,020,054,720 bytes) of heap memory\n",
      "Scaling row group sizes to 76.00% for 10 writers\n",
      "25/08/15 19:29:30 WARN MemoryManager: Total allocation exceeds 95.00% (1,020,054,720 bytes) of heap memory\n",
      "Scaling row group sizes to 69.09% for 11 writers\n",
      "25/08/15 19:29:30 WARN MemoryManager: Total allocation exceeds 95.00% (1,020,054,720 bytes) of heap memory\n",
      "Scaling row group sizes to 76.00% for 10 writers\n",
      "25/08/15 19:29:30 WARN MemoryManager: Total allocation exceeds 95.00% (1,020,054,720 bytes) of heap memory\n",
      "Scaling row group sizes to 69.09% for 11 writers\n",
      "25/08/15 19:29:30 WARN MemoryManager: Total allocation exceeds 95.00% (1,020,054,720 bytes) of heap memory\n",
      "Scaling row group sizes to 76.00% for 10 writers\n",
      "25/08/15 19:29:30 WARN MemoryManager: Total allocation exceeds 95.00% (1,020,054,720 bytes) of heap memory\n",
      "Scaling row group sizes to 84.44% for 9 writers\n",
      "25/08/15 19:29:30 WARN MemoryManager: Total allocation exceeds 95.00% (1,020,054,720 bytes) of heap memory\n",
      "Scaling row group sizes to 76.00% for 10 writers\n",
      "25/08/15 19:29:30 WARN MemoryManager: Total allocation exceeds 95.00% (1,020,054,720 bytes) of heap memory\n",
      "Scaling row group sizes to 84.44% for 9 writers\n",
      "25/08/15 19:29:30 WARN MemoryManager: Total allocation exceeds 95.00% (1,020,054,720 bytes) of heap memory\n",
      "Scaling row group sizes to 95.00% for 8 writers\n",
      "25/08/15 19:29:30 WARN MemoryManager: Total allocation exceeds 95.00% (1,020,054,720 bytes) of heap memory\n",
      "Scaling row group sizes to 84.44% for 9 writers\n",
      "25/08/15 19:29:30 WARN MemoryManager: Total allocation exceeds 95.00% (1,020,054,720 bytes) of heap memory\n",
      "Scaling row group sizes to 95.00% for 8 writers\n",
      "25/08/15 19:29:30 WARN MemoryManager: Total allocation exceeds 95.00% (1,020,054,720 bytes) of heap memory\n",
      "Scaling row group sizes to 84.44% for 9 writers\n",
      "25/08/15 19:29:30 WARN MemoryManager: Total allocation exceeds 95.00% (1,020,054,720 bytes) of heap memory\n",
      "Scaling row group sizes to 95.00% for 8 writers\n"
     ]
    },
    {
     "name": "stdout",
     "output_type": "stream",
     "text": [
      "Processed batch: 895 rows, Total: 2307000 rows\n",
      "Processed batch: 1000 rows, Total: 2308000 rows\n",
      "Processed batch: 1000 rows, Total: 2309000 rows\n",
      "Processed batch: 1000 rows, Total: 2310000 rows\n",
      "Processed batch: 1000 rows, Total: 2311000 rows\n",
      "Processed batch: 1000 rows, Total: 2312000 rows\n",
      "Processed batch: 1000 rows, Total: 2313000 rows\n",
      "Processed batch: 1000 rows, Total: 2314000 rows\n",
      "Processed batch: 1000 rows, Total: 2315000 rows\n",
      "Processed batch: 1000 rows, Total: 2316000 rows\n",
      "Processed batch: 1000 rows, Total: 2317000 rows\n",
      "Processed batch: 1000 rows, Total: 2318000 rows\n"
     ]
    },
    {
     "name": "stderr",
     "output_type": "stream",
     "text": [
      "25/08/15 19:29:54 WARN MemoryManager: Total allocation exceeds 95.00% (1,020,054,720 bytes) of heap memory\n",
      "Scaling row group sizes to 95.00% for 8 writers\n"
     ]
    },
    {
     "name": "stdout",
     "output_type": "stream",
     "text": [
      "Processed batch: 1000 rows, Total: 2319000 rows\n",
      "Processed batch: 1000 rows, Total: 2320000 rows\n"
     ]
    },
    {
     "name": "stderr",
     "output_type": "stream",
     "text": [
      "25/08/15 19:29:58 WARN MemoryManager: Total allocation exceeds 95.00% (1,020,054,720 bytes) of heap memory\n",
      "Scaling row group sizes to 95.00% for 8 writers\n"
     ]
    },
    {
     "name": "stdout",
     "output_type": "stream",
     "text": [
      "Processed batch: 1500 rows, Total: 2321500 rows\n"
     ]
    },
    {
     "name": "stderr",
     "output_type": "stream",
     "text": [
      "25/08/15 19:30:00 WARN MemoryManager: Total allocation exceeds 95.00% (1,020,054,720 bytes) of heap memory\n",
      "Scaling row group sizes to 95.00% for 8 writers\n"
     ]
    },
    {
     "name": "stdout",
     "output_type": "stream",
     "text": [
      "Processed batch: 1000 rows, Total: 2322500 rows\n"
     ]
    },
    {
     "name": "stderr",
     "output_type": "stream",
     "text": [
      "25/08/15 19:30:02 WARN MemoryManager: Total allocation exceeds 95.00% (1,020,054,720 bytes) of heap memory\n",
      "Scaling row group sizes to 95.00% for 8 writers\n",
      "25/08/15 19:30:02 WARN MemoryManager: Total allocation exceeds 95.00% (1,020,054,720 bytes) of heap memory\n",
      "Scaling row group sizes to 84.44% for 9 writers\n",
      "25/08/15 19:30:02 WARN MemoryManager: Total allocation exceeds 95.00% (1,020,054,720 bytes) of heap memory\n",
      "Scaling row group sizes to 76.00% for 10 writers\n",
      "25/08/15 19:30:02 WARN MemoryManager: Total allocation exceeds 95.00% (1,020,054,720 bytes) of heap memory\n",
      "Scaling row group sizes to 84.44% for 9 writers\n",
      "25/08/15 19:30:02 WARN MemoryManager: Total allocation exceeds 95.00% (1,020,054,720 bytes) of heap memory\n",
      "Scaling row group sizes to 95.00% for 8 writers\n",
      "25/08/15 19:30:02 WARN MemoryManager: Total allocation exceeds 95.00% (1,020,054,720 bytes) of heap memory\n",
      "Scaling row group sizes to 84.44% for 9 writers\n",
      "25/08/15 19:30:02 WARN MemoryManager: Total allocation exceeds 95.00% (1,020,054,720 bytes) of heap memory\n",
      "Scaling row group sizes to 95.00% for 8 writers\n",
      "25/08/15 19:30:02 WARN MemoryManager: Total allocation exceeds 95.00% (1,020,054,720 bytes) of heap memory\n",
      "Scaling row group sizes to 84.44% for 9 writers\n",
      "25/08/15 19:30:02 WARN MemoryManager: Total allocation exceeds 95.00% (1,020,054,720 bytes) of heap memory\n",
      "Scaling row group sizes to 76.00% for 10 writers\n",
      "25/08/15 19:30:02 WARN MemoryManager: Total allocation exceeds 95.00% (1,020,054,720 bytes) of heap memory\n",
      "Scaling row group sizes to 69.09% for 11 writers\n",
      "25/08/15 19:30:02 WARN MemoryManager: Total allocation exceeds 95.00% (1,020,054,720 bytes) of heap memory\n",
      "Scaling row group sizes to 76.00% for 10 writers\n",
      "25/08/15 19:30:02 WARN MemoryManager: Total allocation exceeds 95.00% (1,020,054,720 bytes) of heap memory\n",
      "Scaling row group sizes to 69.09% for 11 writers\n",
      "25/08/15 19:30:02 WARN MemoryManager: Total allocation exceeds 95.00% (1,020,054,720 bytes) of heap memory\n",
      "Scaling row group sizes to 76.00% for 10 writers\n",
      "25/08/15 19:30:02 WARN MemoryManager: Total allocation exceeds 95.00% (1,020,054,720 bytes) of heap memory\n",
      "Scaling row group sizes to 84.44% for 9 writers\n",
      "25/08/15 19:30:02 WARN MemoryManager: Total allocation exceeds 95.00% (1,020,054,720 bytes) of heap memory\n",
      "Scaling row group sizes to 95.00% for 8 writers\n"
     ]
    },
    {
     "name": "stdout",
     "output_type": "stream",
     "text": [
      "Processed batch: 1000 rows, Total: 2323500 rows\n"
     ]
    },
    {
     "name": "stderr",
     "output_type": "stream",
     "text": [
      "25/08/15 19:30:04 WARN MemoryManager: Total allocation exceeds 95.00% (1,020,054,720 bytes) of heap memory\n",
      "Scaling row group sizes to 95.00% for 8 writers\n",
      "25/08/15 19:30:04 WARN MemoryManager: Total allocation exceeds 95.00% (1,020,054,720 bytes) of heap memory\n",
      "Scaling row group sizes to 84.44% for 9 writers\n",
      "25/08/15 19:30:04 WARN MemoryManager: Total allocation exceeds 95.00% (1,020,054,720 bytes) of heap memory\n",
      "Scaling row group sizes to 95.00% for 8 writers\n"
     ]
    },
    {
     "name": "stdout",
     "output_type": "stream",
     "text": [
      "Processed batch: 1000 rows, Total: 2324500 rows\n",
      "Processed batch: 1000 rows, Total: 2325500 rows\n",
      "Processed batch: 1000 rows, Total: 2326500 rows\n",
      "Processed batch: 1000 rows, Total: 2327500 rows\n"
     ]
    },
    {
     "name": "stderr",
     "output_type": "stream",
     "text": [
      "25/08/15 19:30:12 WARN MemoryManager: Total allocation exceeds 95.00% (1,020,054,720 bytes) of heap memory\n",
      "Scaling row group sizes to 95.00% for 8 writers\n",
      "25/08/15 19:30:12 WARN MemoryManager: Total allocation exceeds 95.00% (1,020,054,720 bytes) of heap memory\n",
      "Scaling row group sizes to 84.44% for 9 writers\n",
      "25/08/15 19:30:12 WARN MemoryManager: Total allocation exceeds 95.00% (1,020,054,720 bytes) of heap memory\n",
      "Scaling row group sizes to 95.00% for 8 writers\n",
      "25/08/15 19:30:12 WARN MemoryManager: Total allocation exceeds 95.00% (1,020,054,720 bytes) of heap memory\n",
      "Scaling row group sizes to 95.00% for 8 writers\n",
      "25/08/15 19:30:12 WARN MemoryManager: Total allocation exceeds 95.00% (1,020,054,720 bytes) of heap memory\n",
      "Scaling row group sizes to 84.44% for 9 writers\n",
      "25/08/15 19:30:12 WARN MemoryManager: Total allocation exceeds 95.00% (1,020,054,720 bytes) of heap memory\n",
      "Scaling row group sizes to 76.00% for 10 writers\n",
      "25/08/15 19:30:12 WARN MemoryManager: Total allocation exceeds 95.00% (1,020,054,720 bytes) of heap memory\n",
      "Scaling row group sizes to 69.09% for 11 writers\n",
      "25/08/15 19:30:12 WARN MemoryManager: Total allocation exceeds 95.00% (1,020,054,720 bytes) of heap memory\n",
      "Scaling row group sizes to 76.00% for 10 writers\n",
      "25/08/15 19:30:12 WARN MemoryManager: Total allocation exceeds 95.00% (1,020,054,720 bytes) of heap memory\n",
      "Scaling row group sizes to 84.44% for 9 writers\n",
      "25/08/15 19:30:12 WARN MemoryManager: Total allocation exceeds 95.00% (1,020,054,720 bytes) of heap memory\n",
      "Scaling row group sizes to 95.00% for 8 writers\n",
      "25/08/15 19:30:12 WARN MemoryManager: Total allocation exceeds 95.00% (1,020,054,720 bytes) of heap memory\n",
      "Scaling row group sizes to 84.44% for 9 writers\n",
      "25/08/15 19:30:12 WARN MemoryManager: Total allocation exceeds 95.00% (1,020,054,720 bytes) of heap memory\n",
      "Scaling row group sizes to 95.00% for 8 writers\n"
     ]
    },
    {
     "name": "stdout",
     "output_type": "stream",
     "text": [
      "Processed batch: 1000 rows, Total: 2328500 rows\n",
      "Processed batch: 1000 rows, Total: 2329500 rows\n",
      "Processed batch: 1000 rows, Total: 2330500 rows\n",
      "Processed batch: 1000 rows, Total: 2331500 rows\n",
      "Processed batch: 1000 rows, Total: 2332500 rows\n",
      "Processed batch: 1000 rows, Total: 2333500 rows\n",
      "Processed batch: 1000 rows, Total: 2334500 rows\n",
      "Processed batch: 1000 rows, Total: 2335500 rows\n",
      "Processed batch: 1000 rows, Total: 2336500 rows\n",
      "Processed batch: 1500 rows, Total: 2338000 rows\n",
      "Processed batch: 1000 rows, Total: 2339000 rows\n",
      "Processed batch: 1000 rows, Total: 2340000 rows\n"
     ]
    },
    {
     "name": "stderr",
     "output_type": "stream",
     "text": [
      "25/08/15 19:30:36 WARN MemoryManager: Total allocation exceeds 95.00% (1,020,054,720 bytes) of heap memory\n",
      "Scaling row group sizes to 95.00% for 8 writers\n",
      "25/08/15 19:30:36 WARN MemoryManager: Total allocation exceeds 95.00% (1,020,054,720 bytes) of heap memory\n",
      "Scaling row group sizes to 84.44% for 9 writers\n",
      "25/08/15 19:30:36 WARN MemoryManager: Total allocation exceeds 95.00% (1,020,054,720 bytes) of heap memory\n",
      "Scaling row group sizes to 76.00% for 10 writers\n",
      "25/08/15 19:30:36 WARN MemoryManager: Total allocation exceeds 95.00% (1,020,054,720 bytes) of heap memory\n",
      "Scaling row group sizes to 84.44% for 9 writers\n",
      "25/08/15 19:30:36 WARN MemoryManager: Total allocation exceeds 95.00% (1,020,054,720 bytes) of heap memory\n",
      "Scaling row group sizes to 95.00% for 8 writers\n",
      "25/08/15 19:30:36 WARN MemoryManager: Total allocation exceeds 95.00% (1,020,054,720 bytes) of heap memory\n",
      "Scaling row group sizes to 95.00% for 8 writers\n"
     ]
    },
    {
     "name": "stdout",
     "output_type": "stream",
     "text": [
      "Processed batch: 1000 rows, Total: 2341000 rows\n",
      "Processed batch: 1000 rows, Total: 2342000 rows\n",
      "Processed batch: 1000 rows, Total: 2343000 rows\n",
      "Processed batch: 1000 rows, Total: 2344000 rows\n",
      "Processed batch: 1000 rows, Total: 2345000 rows\n"
     ]
    },
    {
     "name": "stderr",
     "output_type": "stream",
     "text": [
      "25/08/15 19:30:46 WARN MemoryManager: Total allocation exceeds 95.00% (1,020,054,720 bytes) of heap memory\n",
      "Scaling row group sizes to 95.00% for 8 writers\n"
     ]
    },
    {
     "name": "stdout",
     "output_type": "stream",
     "text": [
      "Processed batch: 1000 rows, Total: 2346000 rows\n"
     ]
    },
    {
     "name": "stderr",
     "output_type": "stream",
     "text": [
      "25/08/15 19:30:48 WARN MemoryManager: Total allocation exceeds 95.00% (1,020,054,720 bytes) of heap memory\n",
      "Scaling row group sizes to 95.00% for 8 writers\n",
      "25/08/15 19:30:48 WARN MemoryManager: Total allocation exceeds 95.00% (1,020,054,720 bytes) of heap memory\n",
      "Scaling row group sizes to 84.44% for 9 writers\n",
      "25/08/15 19:30:48 WARN MemoryManager: Total allocation exceeds 95.00% (1,020,054,720 bytes) of heap memory\n",
      "Scaling row group sizes to 76.00% for 10 writers\n",
      "25/08/15 19:30:48 WARN MemoryManager: Total allocation exceeds 95.00% (1,020,054,720 bytes) of heap memory\n",
      "Scaling row group sizes to 84.44% for 9 writers\n",
      "25/08/15 19:30:48 WARN MemoryManager: Total allocation exceeds 95.00% (1,020,054,720 bytes) of heap memory\n",
      "Scaling row group sizes to 95.00% for 8 writers\n"
     ]
    },
    {
     "name": "stdout",
     "output_type": "stream",
     "text": [
      "Processed batch: 1000 rows, Total: 2347000 rows\n"
     ]
    },
    {
     "name": "stderr",
     "output_type": "stream",
     "text": [
      "25/08/15 19:30:50 WARN MemoryManager: Total allocation exceeds 95.00% (1,020,054,720 bytes) of heap memory\n",
      "Scaling row group sizes to 95.00% for 8 writers\n"
     ]
    },
    {
     "name": "stdout",
     "output_type": "stream",
     "text": [
      "Processed batch: 1000 rows, Total: 2348000 rows\n",
      "Processed batch: 1000 rows, Total: 2349000 rows\n"
     ]
    },
    {
     "name": "stderr",
     "output_type": "stream",
     "text": [
      "25/08/15 19:30:54 WARN MemoryManager: Total allocation exceeds 95.00% (1,020,054,720 bytes) of heap memory\n",
      "Scaling row group sizes to 95.00% for 8 writers\n"
     ]
    },
    {
     "name": "stdout",
     "output_type": "stream",
     "text": [
      "Processed batch: 1000 rows, Total: 2350000 rows\n"
     ]
    },
    {
     "name": "stderr",
     "output_type": "stream",
     "text": [
      "25/08/15 19:30:56 WARN MemoryManager: Total allocation exceeds 95.00% (1,020,054,720 bytes) of heap memory\n",
      "Scaling row group sizes to 95.00% for 8 writers\n",
      "25/08/15 19:30:56 WARN MemoryManager: Total allocation exceeds 95.00% (1,020,054,720 bytes) of heap memory\n",
      "Scaling row group sizes to 84.44% for 9 writers\n",
      "25/08/15 19:30:56 WARN MemoryManager: Total allocation exceeds 95.00% (1,020,054,720 bytes) of heap memory\n",
      "Scaling row group sizes to 76.00% for 10 writers\n",
      "25/08/15 19:30:56 WARN MemoryManager: Total allocation exceeds 95.00% (1,020,054,720 bytes) of heap memory\n",
      "Scaling row group sizes to 69.09% for 11 writers\n",
      "25/08/15 19:30:56 WARN MemoryManager: Total allocation exceeds 95.00% (1,020,054,720 bytes) of heap memory\n",
      "Scaling row group sizes to 63.33% for 12 writers\n",
      "25/08/15 19:30:56 WARN MemoryManager: Total allocation exceeds 95.00% (1,020,054,720 bytes) of heap memory\n",
      "Scaling row group sizes to 58.46% for 13 writers\n",
      "25/08/15 19:30:56 WARN MemoryManager: Total allocation exceeds 95.00% (1,020,054,720 bytes) of heap memory\n",
      "Scaling row group sizes to 63.33% for 12 writers\n",
      "25/08/15 19:30:56 WARN MemoryManager: Total allocation exceeds 95.00% (1,020,054,720 bytes) of heap memory\n",
      "Scaling row group sizes to 58.46% for 13 writers\n",
      "25/08/15 19:30:56 WARN MemoryManager: Total allocation exceeds 95.00% (1,020,054,720 bytes) of heap memory\n",
      "Scaling row group sizes to 63.33% for 12 writers\n",
      "25/08/15 19:30:56 WARN MemoryManager: Total allocation exceeds 95.00% (1,020,054,720 bytes) of heap memory\n",
      "Scaling row group sizes to 69.09% for 11 writers\n",
      "25/08/15 19:30:56 WARN MemoryManager: Total allocation exceeds 95.00% (1,020,054,720 bytes) of heap memory\n",
      "Scaling row group sizes to 76.00% for 10 writers\n",
      "25/08/15 19:30:56 WARN MemoryManager: Total allocation exceeds 95.00% (1,020,054,720 bytes) of heap memory\n",
      "Scaling row group sizes to 84.44% for 9 writers\n",
      "25/08/15 19:30:56 WARN MemoryManager: Total allocation exceeds 95.00% (1,020,054,720 bytes) of heap memory\n",
      "Scaling row group sizes to 95.00% for 8 writers\n"
     ]
    },
    {
     "name": "stdout",
     "output_type": "stream",
     "text": [
      "Processed batch: 1000 rows, Total: 2351000 rows\n"
     ]
    },
    {
     "name": "stderr",
     "output_type": "stream",
     "text": [
      "25/08/15 19:30:58 WARN MemoryManager: Total allocation exceeds 95.00% (1,020,054,720 bytes) of heap memory\n",
      "Scaling row group sizes to 95.00% for 8 writers\n"
     ]
    },
    {
     "name": "stdout",
     "output_type": "stream",
     "text": [
      "Processed batch: 1000 rows, Total: 2352000 rows\n"
     ]
    },
    {
     "name": "stderr",
     "output_type": "stream",
     "text": [
      "25/08/15 19:31:00 WARN MemoryManager: Total allocation exceeds 95.00% (1,020,054,720 bytes) of heap memory\n",
      "Scaling row group sizes to 95.00% for 8 writers\n",
      "25/08/15 19:31:00 WARN MemoryManager: Total allocation exceeds 95.00% (1,020,054,720 bytes) of heap memory\n",
      "Scaling row group sizes to 84.44% for 9 writers\n",
      "25/08/15 19:31:00 WARN MemoryManager: Total allocation exceeds 95.00% (1,020,054,720 bytes) of heap memory\n",
      "Scaling row group sizes to 95.00% for 8 writers\n"
     ]
    },
    {
     "name": "stdout",
     "output_type": "stream",
     "text": [
      "Processed batch: 1500 rows, Total: 2353500 rows\n",
      "Processed batch: 1000 rows, Total: 2354500 rows\n",
      "Processed batch: 1000 rows, Total: 2355500 rows\n",
      "Processed batch: 1000 rows, Total: 2356500 rows\n",
      "Processed batch: 1000 rows, Total: 2357500 rows\n",
      "Processed batch: 1000 rows, Total: 2358500 rows\n"
     ]
    },
    {
     "name": "stderr",
     "output_type": "stream",
     "text": [
      "25/08/15 19:31:12 WARN MemoryManager: Total allocation exceeds 95.00% (1,020,054,720 bytes) of heap memory\n",
      "Scaling row group sizes to 95.00% for 8 writers\n",
      "25/08/15 19:31:12 WARN MemoryManager: Total allocation exceeds 95.00% (1,020,054,720 bytes) of heap memory\n",
      "Scaling row group sizes to 95.00% for 8 writers\n",
      "25/08/15 19:31:12 WARN MemoryManager: Total allocation exceeds 95.00% (1,020,054,720 bytes) of heap memory\n",
      "Scaling row group sizes to 84.44% for 9 writers\n",
      "25/08/15 19:31:12 WARN MemoryManager: Total allocation exceeds 95.00% (1,020,054,720 bytes) of heap memory\n",
      "Scaling row group sizes to 95.00% for 8 writers\n",
      "25/08/15 19:31:12 WARN MemoryManager: Total allocation exceeds 95.00% (1,020,054,720 bytes) of heap memory\n",
      "Scaling row group sizes to 84.44% for 9 writers\n",
      "25/08/15 19:31:12 WARN MemoryManager: Total allocation exceeds 95.00% (1,020,054,720 bytes) of heap memory\n",
      "Scaling row group sizes to 76.00% for 10 writers\n",
      "25/08/15 19:31:12 WARN MemoryManager: Total allocation exceeds 95.00% (1,020,054,720 bytes) of heap memory\n",
      "Scaling row group sizes to 69.09% for 11 writers\n",
      "25/08/15 19:31:12 WARN MemoryManager: Total allocation exceeds 95.00% (1,020,054,720 bytes) of heap memory\n",
      "Scaling row group sizes to 63.33% for 12 writers\n",
      "25/08/15 19:31:12 WARN MemoryManager: Total allocation exceeds 95.00% (1,020,054,720 bytes) of heap memory\n",
      "Scaling row group sizes to 69.09% for 11 writers\n",
      "25/08/15 19:31:12 WARN MemoryManager: Total allocation exceeds 95.00% (1,020,054,720 bytes) of heap memory\n",
      "Scaling row group sizes to 76.00% for 10 writers\n",
      "25/08/15 19:31:12 WARN MemoryManager: Total allocation exceeds 95.00% (1,020,054,720 bytes) of heap memory\n",
      "Scaling row group sizes to 84.44% for 9 writers\n",
      "25/08/15 19:31:12 WARN MemoryManager: Total allocation exceeds 95.00% (1,020,054,720 bytes) of heap memory\n",
      "Scaling row group sizes to 95.00% for 8 writers\n"
     ]
    },
    {
     "name": "stdout",
     "output_type": "stream",
     "text": [
      "Processed batch: 1000 rows, Total: 2359500 rows\n",
      "Processed batch: 1000 rows, Total: 2360500 rows\n",
      "Processed batch: 1000 rows, Total: 2361500 rows\n"
     ]
    },
    {
     "name": "stderr",
     "output_type": "stream",
     "text": [
      "25/08/15 19:31:18 WARN MemoryManager: Total allocation exceeds 95.00% (1,020,054,720 bytes) of heap memory\n",
      "Scaling row group sizes to 95.00% for 8 writers\n",
      "25/08/15 19:31:18 WARN MemoryManager: Total allocation exceeds 95.00% (1,020,054,720 bytes) of heap memory\n",
      "Scaling row group sizes to 84.44% for 9 writers\n",
      "25/08/15 19:31:18 WARN MemoryManager: Total allocation exceeds 95.00% (1,020,054,720 bytes) of heap memory\n",
      "Scaling row group sizes to 95.00% for 8 writers\n"
     ]
    },
    {
     "name": "stdout",
     "output_type": "stream",
     "text": [
      "Processed batch: 1000 rows, Total: 2362500 rows\n",
      "Processed batch: 1000 rows, Total: 2363500 rows\n",
      "Processed batch: 1000 rows, Total: 2364500 rows\n",
      "Processed batch: 987 rows, Total: 2365487 rows\n",
      "Processed batch: 513 rows, Total: 2366000 rows\n"
     ]
    },
    {
     "name": "stderr",
     "output_type": "stream",
     "text": [
      "25/08/15 19:31:28 WARN MemoryManager: Total allocation exceeds 95.00% (1,020,054,720 bytes) of heap memory\n",
      "Scaling row group sizes to 95.00% for 8 writers\n",
      "25/08/15 19:31:28 WARN MemoryManager: Total allocation exceeds 95.00% (1,020,054,720 bytes) of heap memory\n",
      "Scaling row group sizes to 84.44% for 9 writers\n",
      "25/08/15 19:31:28 WARN MemoryManager: Total allocation exceeds 95.00% (1,020,054,720 bytes) of heap memory\n",
      "Scaling row group sizes to 95.00% for 8 writers\n",
      "25/08/15 19:31:28 WARN MemoryManager: Total allocation exceeds 95.00% (1,020,054,720 bytes) of heap memory\n",
      "Scaling row group sizes to 84.44% for 9 writers\n",
      "25/08/15 19:31:28 WARN MemoryManager: Total allocation exceeds 95.00% (1,020,054,720 bytes) of heap memory\n",
      "Scaling row group sizes to 95.00% for 8 writers\n"
     ]
    },
    {
     "name": "stdout",
     "output_type": "stream",
     "text": [
      "Processed batch: 1000 rows, Total: 2367000 rows\n",
      "Processed batch: 1000 rows, Total: 2368000 rows\n",
      "Processed batch: 2000 rows, Total: 2370000 rows\n",
      "Processed batch: 1000 rows, Total: 2371000 rows\n"
     ]
    },
    {
     "name": "stderr",
     "output_type": "stream",
     "text": [
      "25/08/15 19:31:36 WARN MemoryManager: Total allocation exceeds 95.00% (1,020,054,720 bytes) of heap memory\n",
      "Scaling row group sizes to 95.00% for 8 writers\n"
     ]
    },
    {
     "name": "stdout",
     "output_type": "stream",
     "text": [
      "Processed batch: 1000 rows, Total: 2372000 rows\n"
     ]
    },
    {
     "name": "stderr",
     "output_type": "stream",
     "text": [
      "25/08/15 19:31:38 WARN MemoryManager: Total allocation exceeds 95.00% (1,020,054,720 bytes) of heap memory\n",
      "Scaling row group sizes to 95.00% for 8 writers\n"
     ]
    },
    {
     "name": "stdout",
     "output_type": "stream",
     "text": [
      "Processed batch: 1000 rows, Total: 2373000 rows\n",
      "Processed batch: 1000 rows, Total: 2374000 rows\n",
      "Processed batch: 772 rows, Total: 2374772 rows\n",
      "Processed batch: 728 rows, Total: 2375500 rows\n",
      "Processed batch: 1000 rows, Total: 2376500 rows\n",
      "Processed batch: 1000 rows, Total: 2377500 rows\n",
      "Processed batch: 1000 rows, Total: 2378500 rows\n",
      "Processed batch: 1000 rows, Total: 2379500 rows\n",
      "Processed batch: 1000 rows, Total: 2380500 rows\n"
     ]
    },
    {
     "name": "stderr",
     "output_type": "stream",
     "text": [
      "25/08/15 19:31:56 WARN MemoryManager: Total allocation exceeds 95.00% (1,020,054,720 bytes) of heap memory\n",
      "Scaling row group sizes to 95.00% for 8 writers\n"
     ]
    },
    {
     "name": "stdout",
     "output_type": "stream",
     "text": [
      "Processed batch: 1000 rows, Total: 2381500 rows\n",
      "Processed batch: 1000 rows, Total: 2382500 rows\n",
      "Processed batch: 1000 rows, Total: 2383500 rows\n",
      "Processed batch: 1500 rows, Total: 2385000 rows\n",
      "Processed batch: 1000 rows, Total: 2386000 rows\n",
      "Processed batch: 1000 rows, Total: 2387000 rows\n",
      "Processed batch: 1000 rows, Total: 2388000 rows\n",
      "Processed batch: 1000 rows, Total: 2389000 rows\n",
      "Processed batch: 1000 rows, Total: 2390000 rows\n",
      "Processed batch: 1000 rows, Total: 2391000 rows\n",
      "Processed batch: 1000 rows, Total: 2392000 rows\n",
      "Processed batch: 1000 rows, Total: 2393000 rows\n"
     ]
    },
    {
     "name": "stderr",
     "output_type": "stream",
     "text": [
      "25/08/15 19:32:20 WARN MemoryManager: Total allocation exceeds 95.00% (1,020,054,720 bytes) of heap memory\n",
      "Scaling row group sizes to 95.00% for 8 writers\n",
      "25/08/15 19:32:20 WARN MemoryManager: Total allocation exceeds 95.00% (1,020,054,720 bytes) of heap memory\n",
      "Scaling row group sizes to 84.44% for 9 writers\n",
      "25/08/15 19:32:20 WARN MemoryManager: Total allocation exceeds 95.00% (1,020,054,720 bytes) of heap memory\n",
      "Scaling row group sizes to 95.00% for 8 writers\n"
     ]
    },
    {
     "name": "stdout",
     "output_type": "stream",
     "text": [
      "Processed batch: 1000 rows, Total: 2394000 rows\n",
      "Processed batch: 1000 rows, Total: 2395000 rows\n",
      "Processed batch: 1000 rows, Total: 2396000 rows\n",
      "Processed batch: 1000 rows, Total: 2397000 rows\n",
      "Processed batch: 1000 rows, Total: 2398000 rows\n",
      "Processed batch: 1000 rows, Total: 2399000 rows\n"
     ]
    },
    {
     "name": "stderr",
     "output_type": "stream",
     "text": [
      "25/08/15 19:32:32 WARN MemoryManager: Total allocation exceeds 95.00% (1,020,054,720 bytes) of heap memory\n",
      "Scaling row group sizes to 95.00% for 8 writers\n",
      "25/08/15 19:32:32 WARN MemoryManager: Total allocation exceeds 95.00% (1,020,054,720 bytes) of heap memory\n",
      "Scaling row group sizes to 84.44% for 9 writers\n",
      "25/08/15 19:32:32 WARN MemoryManager: Total allocation exceeds 95.00% (1,020,054,720 bytes) of heap memory\n",
      "Scaling row group sizes to 95.00% for 8 writers\n",
      "25/08/15 19:32:32 WARN MemoryManager: Total allocation exceeds 95.00% (1,020,054,720 bytes) of heap memory\n",
      "Scaling row group sizes to 95.00% for 8 writers\n"
     ]
    },
    {
     "name": "stdout",
     "output_type": "stream",
     "text": [
      "Processed batch: 1000 rows, Total: 2400000 rows\n",
      "Processed batch: 1500 rows, Total: 2401500 rows\n",
      "Processed batch: 1000 rows, Total: 2402500 rows\n",
      "Processed batch: 1000 rows, Total: 2403500 rows\n",
      "Processed batch: 1000 rows, Total: 2404500 rows\n"
     ]
    },
    {
     "name": "stderr",
     "output_type": "stream",
     "text": [
      "25/08/15 19:32:42 WARN MemoryManager: Total allocation exceeds 95.00% (1,020,054,720 bytes) of heap memory\n",
      "Scaling row group sizes to 95.00% for 8 writers\n",
      "25/08/15 19:32:42 WARN MemoryManager: Total allocation exceeds 95.00% (1,020,054,720 bytes) of heap memory\n",
      "Scaling row group sizes to 84.44% for 9 writers\n",
      "25/08/15 19:32:42 WARN MemoryManager: Total allocation exceeds 95.00% (1,020,054,720 bytes) of heap memory\n",
      "Scaling row group sizes to 76.00% for 10 writers\n",
      "25/08/15 19:32:42 WARN MemoryManager: Total allocation exceeds 95.00% (1,020,054,720 bytes) of heap memory\n",
      "Scaling row group sizes to 69.09% for 11 writers\n",
      "25/08/15 19:32:42 WARN MemoryManager: Total allocation exceeds 95.00% (1,020,054,720 bytes) of heap memory\n",
      "Scaling row group sizes to 76.00% for 10 writers\n",
      "25/08/15 19:32:42 WARN MemoryManager: Total allocation exceeds 95.00% (1,020,054,720 bytes) of heap memory\n",
      "Scaling row group sizes to 69.09% for 11 writers\n",
      "25/08/15 19:32:42 WARN MemoryManager: Total allocation exceeds 95.00% (1,020,054,720 bytes) of heap memory\n",
      "Scaling row group sizes to 63.33% for 12 writers\n",
      "25/08/15 19:32:42 WARN MemoryManager: Total allocation exceeds 95.00% (1,020,054,720 bytes) of heap memory\n",
      "Scaling row group sizes to 69.09% for 11 writers\n",
      "25/08/15 19:32:42 WARN MemoryManager: Total allocation exceeds 95.00% (1,020,054,720 bytes) of heap memory\n",
      "Scaling row group sizes to 76.00% for 10 writers\n",
      "25/08/15 19:32:42 WARN MemoryManager: Total allocation exceeds 95.00% (1,020,054,720 bytes) of heap memory\n",
      "Scaling row group sizes to 69.09% for 11 writers\n",
      "25/08/15 19:32:42 WARN MemoryManager: Total allocation exceeds 95.00% (1,020,054,720 bytes) of heap memory\n",
      "Scaling row group sizes to 76.00% for 10 writers\n",
      "25/08/15 19:32:42 WARN MemoryManager: Total allocation exceeds 95.00% (1,020,054,720 bytes) of heap memory\n",
      "Scaling row group sizes to 84.44% for 9 writers\n",
      "25/08/15 19:32:42 WARN MemoryManager: Total allocation exceeds 95.00% (1,020,054,720 bytes) of heap memory\n",
      "Scaling row group sizes to 76.00% for 10 writers\n",
      "25/08/15 19:32:42 WARN MemoryManager: Total allocation exceeds 95.00% (1,020,054,720 bytes) of heap memory\n",
      "Scaling row group sizes to 84.44% for 9 writers\n",
      "25/08/15 19:32:42 WARN MemoryManager: Total allocation exceeds 95.00% (1,020,054,720 bytes) of heap memory\n",
      "Scaling row group sizes to 95.00% for 8 writers\n"
     ]
    },
    {
     "name": "stdout",
     "output_type": "stream",
     "text": [
      "Processed batch: 1000 rows, Total: 2405500 rows\n",
      "Processed batch: 1000 rows, Total: 2406500 rows\n",
      "Processed batch: 1000 rows, Total: 2407500 rows\n",
      "Processed batch: 1000 rows, Total: 2408500 rows\n",
      "Processed batch: 1000 rows, Total: 2409500 rows\n",
      "Processed batch: 1000 rows, Total: 2410500 rows\n",
      "Processed batch: 1000 rows, Total: 2411500 rows\n",
      "Processed batch: 1000 rows, Total: 2412500 rows\n",
      "Processed batch: 1000 rows, Total: 2413500 rows\n",
      "Processed batch: 1000 rows, Total: 2414500 rows\n"
     ]
    },
    {
     "name": "stderr",
     "output_type": "stream",
     "text": [
      "25/08/15 19:33:02 WARN MemoryManager: Total allocation exceeds 95.00% (1,020,054,720 bytes) of heap memory\n",
      "Scaling row group sizes to 95.00% for 8 writers\n"
     ]
    },
    {
     "name": "stdout",
     "output_type": "stream",
     "text": [
      "Processed batch: 1000 rows, Total: 2415500 rows\n"
     ]
    },
    {
     "name": "stderr",
     "output_type": "stream",
     "text": [
      "25/08/15 19:33:04 WARN MemoryManager: Total allocation exceeds 95.00% (1,020,054,720 bytes) of heap memory\n",
      "Scaling row group sizes to 95.00% for 8 writers\n",
      "25/08/15 19:33:04 WARN MemoryManager: Total allocation exceeds 95.00% (1,020,054,720 bytes) of heap memory\n",
      "Scaling row group sizes to 95.00% for 8 writers\n",
      "25/08/15 19:33:04 WARN MemoryManager: Total allocation exceeds 95.00% (1,020,054,720 bytes) of heap memory\n",
      "Scaling row group sizes to 95.00% for 8 writers\n"
     ]
    },
    {
     "name": "stdout",
     "output_type": "stream",
     "text": [
      "Processed batch: 1500 rows, Total: 2417000 rows\n"
     ]
    },
    {
     "name": "stderr",
     "output_type": "stream",
     "text": [
      "25/08/15 19:33:06 WARN MemoryManager: Total allocation exceeds 95.00% (1,020,054,720 bytes) of heap memory\n",
      "Scaling row group sizes to 95.00% for 8 writers\n",
      "25/08/15 19:33:06 WARN MemoryManager: Total allocation exceeds 95.00% (1,020,054,720 bytes) of heap memory\n",
      "Scaling row group sizes to 95.00% for 8 writers\n",
      "25/08/15 19:33:06 WARN MemoryManager: Total allocation exceeds 95.00% (1,020,054,720 bytes) of heap memory\n",
      "Scaling row group sizes to 95.00% for 8 writers\n",
      "25/08/15 19:33:06 WARN MemoryManager: Total allocation exceeds 95.00% (1,020,054,720 bytes) of heap memory\n",
      "Scaling row group sizes to 84.44% for 9 writers\n",
      "25/08/15 19:33:06 WARN MemoryManager: Total allocation exceeds 95.00% (1,020,054,720 bytes) of heap memory\n",
      "Scaling row group sizes to 95.00% for 8 writers\n"
     ]
    },
    {
     "name": "stdout",
     "output_type": "stream",
     "text": [
      "Processed batch: 1000 rows, Total: 2418000 rows\n",
      "Processed batch: 1000 rows, Total: 2419000 rows\n",
      "Processed batch: 1000 rows, Total: 2420000 rows\n",
      "Processed batch: 1000 rows, Total: 2421000 rows\n"
     ]
    },
    {
     "name": "stderr",
     "output_type": "stream",
     "text": [
      "25/08/15 19:33:14 WARN MemoryManager: Total allocation exceeds 95.00% (1,020,054,720 bytes) of heap memory\n",
      "Scaling row group sizes to 95.00% for 8 writers\n",
      "25/08/15 19:33:14 WARN MemoryManager: Total allocation exceeds 95.00% (1,020,054,720 bytes) of heap memory\n",
      "Scaling row group sizes to 84.44% for 9 writers\n",
      "25/08/15 19:33:14 WARN MemoryManager: Total allocation exceeds 95.00% (1,020,054,720 bytes) of heap memory\n",
      "Scaling row group sizes to 95.00% for 8 writers\n",
      "25/08/15 19:33:14 WARN MemoryManager: Total allocation exceeds 95.00% (1,020,054,720 bytes) of heap memory\n",
      "Scaling row group sizes to 84.44% for 9 writers\n",
      "25/08/15 19:33:14 WARN MemoryManager: Total allocation exceeds 95.00% (1,020,054,720 bytes) of heap memory\n",
      "Scaling row group sizes to 95.00% for 8 writers\n",
      "25/08/15 19:33:14 WARN MemoryManager: Total allocation exceeds 95.00% (1,020,054,720 bytes) of heap memory\n",
      "Scaling row group sizes to 95.00% for 8 writers\n",
      "25/08/15 19:33:14 WARN MemoryManager: Total allocation exceeds 95.00% (1,020,054,720 bytes) of heap memory\n",
      "Scaling row group sizes to 84.44% for 9 writers\n",
      "25/08/15 19:33:14 WARN MemoryManager: Total allocation exceeds 95.00% (1,020,054,720 bytes) of heap memory\n",
      "Scaling row group sizes to 76.00% for 10 writers\n",
      "25/08/15 19:33:14 WARN MemoryManager: Total allocation exceeds 95.00% (1,020,054,720 bytes) of heap memory\n",
      "Scaling row group sizes to 84.44% for 9 writers\n",
      "25/08/15 19:33:14 WARN MemoryManager: Total allocation exceeds 95.00% (1,020,054,720 bytes) of heap memory\n",
      "Scaling row group sizes to 95.00% for 8 writers\n"
     ]
    },
    {
     "name": "stdout",
     "output_type": "stream",
     "text": [
      "Processed batch: 1000 rows, Total: 2422000 rows\n",
      "Processed batch: 1000 rows, Total: 2423000 rows\n",
      "Processed batch: 1000 rows, Total: 2424000 rows\n",
      "Processed batch: 1000 rows, Total: 2425000 rows\n",
      "Processed batch: 552 rows, Total: 2425552 rows\n",
      "Processed batch: 948 rows, Total: 2426500 rows\n"
     ]
    },
    {
     "name": "stderr",
     "output_type": "stream",
     "text": [
      "25/08/15 19:33:26 WARN MemoryManager: Total allocation exceeds 95.00% (1,020,054,720 bytes) of heap memory\n",
      "Scaling row group sizes to 95.00% for 8 writers\n"
     ]
    },
    {
     "name": "stdout",
     "output_type": "stream",
     "text": [
      "Processed batch: 1000 rows, Total: 2427500 rows\n",
      "Processed batch: 1000 rows, Total: 2428500 rows\n",
      "Processed batch: 1000 rows, Total: 2429500 rows\n",
      "Processed batch: 1000 rows, Total: 2430500 rows\n"
     ]
    },
    {
     "name": "stderr",
     "output_type": "stream",
     "text": [
      "25/08/15 19:33:34 WARN MemoryManager: Total allocation exceeds 95.00% (1,020,054,720 bytes) of heap memory\n",
      "Scaling row group sizes to 95.00% for 8 writers\n"
     ]
    },
    {
     "name": "stdout",
     "output_type": "stream",
     "text": [
      "Processed batch: 1000 rows, Total: 2431500 rows\n",
      "Processed batch: 2000 rows, Total: 2433500 rows\n",
      "Processed batch: 1000 rows, Total: 2434500 rows\n",
      "Processed batch: 603 rows, Total: 2435103 rows\n",
      "Processed batch: 897 rows, Total: 2436000 rows\n",
      "Processed batch: 1000 rows, Total: 2437000 rows\n",
      "Processed batch: 1000 rows, Total: 2438000 rows\n",
      "Processed batch: 1000 rows, Total: 2439000 rows\n",
      "Processed batch: 1000 rows, Total: 2440000 rows\n",
      "Processed batch: 1000 rows, Total: 2441000 rows\n",
      "Processed batch: 1000 rows, Total: 2442000 rows\n",
      "Processed batch: 1000 rows, Total: 2443000 rows\n",
      "Processed batch: 1000 rows, Total: 2444000 rows\n",
      "Processed batch: 1000 rows, Total: 2445000 rows\n"
     ]
    },
    {
     "name": "stderr",
     "output_type": "stream",
     "text": [
      "25/08/15 19:34:02 WARN MemoryManager: Total allocation exceeds 95.00% (1,020,054,720 bytes) of heap memory\n",
      "Scaling row group sizes to 95.00% for 8 writers\n",
      "25/08/15 19:34:02 WARN MemoryManager: Total allocation exceeds 95.00% (1,020,054,720 bytes) of heap memory\n",
      "Scaling row group sizes to 84.44% for 9 writers\n",
      "25/08/15 19:34:02 WARN MemoryManager: Total allocation exceeds 95.00% (1,020,054,720 bytes) of heap memory\n",
      "Scaling row group sizes to 76.00% for 10 writers\n",
      "25/08/15 19:34:02 WARN MemoryManager: Total allocation exceeds 95.00% (1,020,054,720 bytes) of heap memory\n",
      "Scaling row group sizes to 69.09% for 11 writers\n",
      "25/08/15 19:34:02 WARN MemoryManager: Total allocation exceeds 95.00% (1,020,054,720 bytes) of heap memory\n",
      "Scaling row group sizes to 63.33% for 12 writers\n",
      "25/08/15 19:34:02 WARN MemoryManager: Total allocation exceeds 95.00% (1,020,054,720 bytes) of heap memory\n",
      "Scaling row group sizes to 58.46% for 13 writers\n",
      "25/08/15 19:34:02 WARN MemoryManager: Total allocation exceeds 95.00% (1,020,054,720 bytes) of heap memory\n",
      "Scaling row group sizes to 54.29% for 14 writers\n",
      "25/08/15 19:34:02 WARN MemoryManager: Total allocation exceeds 95.00% (1,020,054,720 bytes) of heap memory\n",
      "Scaling row group sizes to 50.67% for 15 writers\n",
      "25/08/15 19:34:02 WARN MemoryManager: Total allocation exceeds 95.00% (1,020,054,720 bytes) of heap memory\n",
      "Scaling row group sizes to 54.29% for 14 writers\n",
      "25/08/15 19:34:02 WARN MemoryManager: Total allocation exceeds 95.00% (1,020,054,720 bytes) of heap memory\n",
      "Scaling row group sizes to 58.46% for 13 writers\n",
      "25/08/15 19:34:02 WARN MemoryManager: Total allocation exceeds 95.00% (1,020,054,720 bytes) of heap memory\n",
      "Scaling row group sizes to 63.33% for 12 writers\n",
      "25/08/15 19:34:02 WARN MemoryManager: Total allocation exceeds 95.00% (1,020,054,720 bytes) of heap memory\n",
      "Scaling row group sizes to 69.09% for 11 writers\n",
      "25/08/15 19:34:02 WARN MemoryManager: Total allocation exceeds 95.00% (1,020,054,720 bytes) of heap memory\n",
      "Scaling row group sizes to 76.00% for 10 writers\n",
      "25/08/15 19:34:02 WARN MemoryManager: Total allocation exceeds 95.00% (1,020,054,720 bytes) of heap memory\n",
      "Scaling row group sizes to 84.44% for 9 writers\n",
      "25/08/15 19:34:02 WARN MemoryManager: Total allocation exceeds 95.00% (1,020,054,720 bytes) of heap memory\n",
      "Scaling row group sizes to 95.00% for 8 writers\n"
     ]
    },
    {
     "name": "stdout",
     "output_type": "stream",
     "text": [
      "Processed batch: 1000 rows, Total: 2446000 rows\n",
      "Processed batch: 1000 rows, Total: 2447000 rows\n"
     ]
    },
    {
     "name": "stderr",
     "output_type": "stream",
     "text": [
      "25/08/15 19:34:06 WARN MemoryManager: Total allocation exceeds 95.00% (1,020,054,720 bytes) of heap memory\n",
      "Scaling row group sizes to 95.00% for 8 writers\n",
      "25/08/15 19:34:06 WARN MemoryManager: Total allocation exceeds 95.00% (1,020,054,720 bytes) of heap memory\n",
      "Scaling row group sizes to 84.44% for 9 writers\n",
      "25/08/15 19:34:06 WARN MemoryManager: Total allocation exceeds 95.00% (1,020,054,720 bytes) of heap memory\n",
      "Scaling row group sizes to 95.00% for 8 writers\n",
      "25/08/15 19:34:06 WARN MemoryManager: Total allocation exceeds 95.00% (1,020,054,720 bytes) of heap memory\n",
      "Scaling row group sizes to 84.44% for 9 writers\n",
      "25/08/15 19:34:06 WARN MemoryManager: Total allocation exceeds 95.00% (1,020,054,720 bytes) of heap memory\n",
      "Scaling row group sizes to 95.00% for 8 writers\n"
     ]
    },
    {
     "name": "stdout",
     "output_type": "stream",
     "text": [
      "Processed batch: 1500 rows, Total: 2448500 rows\n"
     ]
    },
    {
     "name": "stderr",
     "output_type": "stream",
     "text": [
      "25/08/15 19:34:08 WARN MemoryManager: Total allocation exceeds 95.00% (1,020,054,720 bytes) of heap memory\n",
      "Scaling row group sizes to 95.00% for 8 writers\n",
      "25/08/15 19:34:08 WARN MemoryManager: Total allocation exceeds 95.00% (1,020,054,720 bytes) of heap memory\n",
      "Scaling row group sizes to 84.44% for 9 writers\n",
      "25/08/15 19:34:08 WARN MemoryManager: Total allocation exceeds 95.00% (1,020,054,720 bytes) of heap memory\n",
      "Scaling row group sizes to 95.00% for 8 writers\n",
      "25/08/15 19:34:08 WARN MemoryManager: Total allocation exceeds 95.00% (1,020,054,720 bytes) of heap memory\n",
      "Scaling row group sizes to 84.44% for 9 writers\n",
      "25/08/15 19:34:08 WARN MemoryManager: Total allocation exceeds 95.00% (1,020,054,720 bytes) of heap memory\n",
      "Scaling row group sizes to 76.00% for 10 writers\n",
      "25/08/15 19:34:08 WARN MemoryManager: Total allocation exceeds 95.00% (1,020,054,720 bytes) of heap memory\n",
      "Scaling row group sizes to 84.44% for 9 writers\n",
      "25/08/15 19:34:08 WARN MemoryManager: Total allocation exceeds 95.00% (1,020,054,720 bytes) of heap memory\n",
      "Scaling row group sizes to 95.00% for 8 writers\n"
     ]
    },
    {
     "name": "stdout",
     "output_type": "stream",
     "text": [
      "Processed batch: 1000 rows, Total: 2449500 rows\n"
     ]
    },
    {
     "name": "stderr",
     "output_type": "stream",
     "text": [
      "25/08/15 19:34:10 WARN MemoryManager: Total allocation exceeds 95.00% (1,020,054,720 bytes) of heap memory\n",
      "Scaling row group sizes to 95.00% for 8 writers\n"
     ]
    },
    {
     "name": "stdout",
     "output_type": "stream",
     "text": [
      "Processed batch: 1000 rows, Total: 2450500 rows\n",
      "Processed batch: 1000 rows, Total: 2451500 rows\n"
     ]
    },
    {
     "name": "stderr",
     "output_type": "stream",
     "text": [
      "25/08/15 19:34:14 WARN MemoryManager: Total allocation exceeds 95.00% (1,020,054,720 bytes) of heap memory\n",
      "Scaling row group sizes to 95.00% for 8 writers\n",
      "25/08/15 19:34:14 WARN MemoryManager: Total allocation exceeds 95.00% (1,020,054,720 bytes) of heap memory\n",
      "Scaling row group sizes to 84.44% for 9 writers\n",
      "25/08/15 19:34:14 WARN MemoryManager: Total allocation exceeds 95.00% (1,020,054,720 bytes) of heap memory\n",
      "Scaling row group sizes to 95.00% for 8 writers\n"
     ]
    },
    {
     "name": "stdout",
     "output_type": "stream",
     "text": [
      "Processed batch: 1000 rows, Total: 2452500 rows\n"
     ]
    },
    {
     "name": "stderr",
     "output_type": "stream",
     "text": [
      "25/08/15 19:34:16 WARN MemoryManager: Total allocation exceeds 95.00% (1,020,054,720 bytes) of heap memory\n",
      "Scaling row group sizes to 95.00% for 8 writers\n",
      "25/08/15 19:34:16 WARN MemoryManager: Total allocation exceeds 95.00% (1,020,054,720 bytes) of heap memory\n",
      "Scaling row group sizes to 84.44% for 9 writers\n",
      "25/08/15 19:34:16 WARN MemoryManager: Total allocation exceeds 95.00% (1,020,054,720 bytes) of heap memory\n",
      "Scaling row group sizes to 95.00% for 8 writers\n"
     ]
    },
    {
     "name": "stdout",
     "output_type": "stream",
     "text": [
      "Processed batch: 1000 rows, Total: 2453500 rows\n"
     ]
    },
    {
     "name": "stderr",
     "output_type": "stream",
     "text": [
      "25/08/15 19:34:18 WARN MemoryManager: Total allocation exceeds 95.00% (1,020,054,720 bytes) of heap memory\n",
      "Scaling row group sizes to 95.00% for 8 writers\n"
     ]
    },
    {
     "name": "stdout",
     "output_type": "stream",
     "text": [
      "Processed batch: 1000 rows, Total: 2454500 rows\n"
     ]
    },
    {
     "name": "stderr",
     "output_type": "stream",
     "text": [
      "25/08/15 19:34:20 WARN MemoryManager: Total allocation exceeds 95.00% (1,020,054,720 bytes) of heap memory\n",
      "Scaling row group sizes to 95.00% for 8 writers\n"
     ]
    },
    {
     "name": "stdout",
     "output_type": "stream",
     "text": [
      "Processed batch: 1000 rows, Total: 2455500 rows\n"
     ]
    },
    {
     "name": "stderr",
     "output_type": "stream",
     "text": [
      "25/08/15 19:34:22 WARN MemoryManager: Total allocation exceeds 95.00% (1,020,054,720 bytes) of heap memory\n",
      "Scaling row group sizes to 95.00% for 8 writers\n"
     ]
    },
    {
     "name": "stdout",
     "output_type": "stream",
     "text": [
      "Processed batch: 1000 rows, Total: 2456500 rows\n"
     ]
    },
    {
     "name": "stderr",
     "output_type": "stream",
     "text": [
      "25/08/15 19:34:24 WARN MemoryManager: Total allocation exceeds 95.00% (1,020,054,720 bytes) of heap memory\n",
      "Scaling row group sizes to 95.00% for 8 writers\n",
      "25/08/15 19:34:24 WARN MemoryManager: Total allocation exceeds 95.00% (1,020,054,720 bytes) of heap memory\n",
      "Scaling row group sizes to 95.00% for 8 writers\n",
      "25/08/15 19:34:24 WARN MemoryManager: Total allocation exceeds 95.00% (1,020,054,720 bytes) of heap memory\n",
      "Scaling row group sizes to 84.44% for 9 writers\n",
      "25/08/15 19:34:24 WARN MemoryManager: Total allocation exceeds 95.00% (1,020,054,720 bytes) of heap memory\n",
      "Scaling row group sizes to 95.00% for 8 writers\n",
      "25/08/15 19:34:24 WARN MemoryManager: Total allocation exceeds 95.00% (1,020,054,720 bytes) of heap memory\n",
      "Scaling row group sizes to 95.00% for 8 writers\n"
     ]
    },
    {
     "name": "stdout",
     "output_type": "stream",
     "text": [
      "Processed batch: 1000 rows, Total: 2457500 rows\n",
      "Processed batch: 1000 rows, Total: 2458500 rows\n",
      "Processed batch: 1000 rows, Total: 2459500 rows\n",
      "Processed batch: 1000 rows, Total: 2460500 rows\n",
      "Processed batch: 1000 rows, Total: 2461500 rows\n",
      "Processed batch: 1000 rows, Total: 2462500 rows\n"
     ]
    },
    {
     "name": "stderr",
     "output_type": "stream",
     "text": [
      "25/08/15 19:34:36 WARN MemoryManager: Total allocation exceeds 95.00% (1,020,054,720 bytes) of heap memory\n",
      "Scaling row group sizes to 95.00% for 8 writers\n",
      "25/08/15 19:34:36 WARN MemoryManager: Total allocation exceeds 95.00% (1,020,054,720 bytes) of heap memory\n",
      "Scaling row group sizes to 95.00% for 8 writers\n",
      "25/08/15 19:34:36 WARN MemoryManager: Total allocation exceeds 95.00% (1,020,054,720 bytes) of heap memory\n",
      "Scaling row group sizes to 95.00% for 8 writers\n",
      "25/08/15 19:34:36 WARN MemoryManager: Total allocation exceeds 95.00% (1,020,054,720 bytes) of heap memory\n",
      "Scaling row group sizes to 84.44% for 9 writers\n",
      "25/08/15 19:34:36 WARN MemoryManager: Total allocation exceeds 95.00% (1,020,054,720 bytes) of heap memory\n",
      "Scaling row group sizes to 76.00% for 10 writers\n",
      "25/08/15 19:34:36 WARN MemoryManager: Total allocation exceeds 95.00% (1,020,054,720 bytes) of heap memory\n",
      "Scaling row group sizes to 84.44% for 9 writers\n",
      "25/08/15 19:34:36 WARN MemoryManager: Total allocation exceeds 95.00% (1,020,054,720 bytes) of heap memory\n",
      "Scaling row group sizes to 95.00% for 8 writers\n"
     ]
    },
    {
     "name": "stdout",
     "output_type": "stream",
     "text": [
      "Processed batch: 1000 rows, Total: 2463500 rows\n",
      "Processed batch: 1500 rows, Total: 2465000 rows\n",
      "Processed batch: 1000 rows, Total: 2466000 rows\n"
     ]
    },
    {
     "name": "stderr",
     "output_type": "stream",
     "text": [
      "25/08/15 19:34:42 WARN MemoryManager: Total allocation exceeds 95.00% (1,020,054,720 bytes) of heap memory\n",
      "Scaling row group sizes to 95.00% for 8 writers\n"
     ]
    },
    {
     "name": "stdout",
     "output_type": "stream",
     "text": [
      "Processed batch: 1000 rows, Total: 2467000 rows\n",
      "Processed batch: 1000 rows, Total: 2468000 rows\n",
      "Processed batch: 1000 rows, Total: 2469000 rows\n"
     ]
    },
    {
     "name": "stderr",
     "output_type": "stream",
     "text": [
      "25/08/15 19:34:48 WARN MemoryManager: Total allocation exceeds 95.00% (1,020,054,720 bytes) of heap memory\n",
      "Scaling row group sizes to 95.00% for 8 writers\n",
      "25/08/15 19:34:48 WARN MemoryManager: Total allocation exceeds 95.00% (1,020,054,720 bytes) of heap memory\n",
      "Scaling row group sizes to 95.00% for 8 writers\n"
     ]
    },
    {
     "name": "stdout",
     "output_type": "stream",
     "text": [
      "Processed batch: 1000 rows, Total: 2470000 rows\n",
      "Processed batch: 1000 rows, Total: 2471000 rows\n",
      "Processed batch: 1000 rows, Total: 2472000 rows\n",
      "Processed batch: 1000 rows, Total: 2473000 rows\n",
      "Processed batch: 782 rows, Total: 2473782 rows\n",
      "Processed batch: 718 rows, Total: 2474500 rows\n",
      "Processed batch: 1000 rows, Total: 2475500 rows\n",
      "Processed batch: 1000 rows, Total: 2476500 rows\n",
      "Processed batch: 1000 rows, Total: 2477500 rows\n",
      "Processed batch: 1000 rows, Total: 2478500 rows\n",
      "Processed batch: 1542 rows, Total: 2480042 rows\n",
      "Processed batch: 958 rows, Total: 2481000 rows\n",
      "Processed batch: 1000 rows, Total: 2482000 rows\n"
     ]
    },
    {
     "name": "stderr",
     "output_type": "stream",
     "text": [
      "25/08/15 19:35:14 WARN MemoryManager: Total allocation exceeds 95.00% (1,020,054,720 bytes) of heap memory\n",
      "Scaling row group sizes to 95.00% for 8 writers\n"
     ]
    },
    {
     "name": "stdout",
     "output_type": "stream",
     "text": [
      "Processed batch: 1000 rows, Total: 2483000 rows\n",
      "Processed batch: 1000 rows, Total: 2484000 rows\n",
      "Processed batch: 1000 rows, Total: 2485000 rows\n",
      "Processed batch: 1000 rows, Total: 2486000 rows\n"
     ]
    },
    {
     "name": "stderr",
     "output_type": "stream",
     "text": [
      "25/08/15 19:35:22 WARN MemoryManager: Total allocation exceeds 95.00% (1,020,054,720 bytes) of heap memory\n",
      "Scaling row group sizes to 95.00% for 8 writers\n",
      "25/08/15 19:35:22 WARN MemoryManager: Total allocation exceeds 95.00% (1,020,054,720 bytes) of heap memory\n",
      "Scaling row group sizes to 84.44% for 9 writers\n",
      "25/08/15 19:35:22 WARN MemoryManager: Total allocation exceeds 95.00% (1,020,054,720 bytes) of heap memory\n",
      "Scaling row group sizes to 76.00% for 10 writers\n",
      "25/08/15 19:35:22 WARN MemoryManager: Total allocation exceeds 95.00% (1,020,054,720 bytes) of heap memory\n",
      "Scaling row group sizes to 84.44% for 9 writers\n",
      "25/08/15 19:35:22 WARN MemoryManager: Total allocation exceeds 95.00% (1,020,054,720 bytes) of heap memory\n",
      "Scaling row group sizes to 95.00% for 8 writers\n",
      "25/08/15 19:35:22 WARN MemoryManager: Total allocation exceeds 95.00% (1,020,054,720 bytes) of heap memory\n",
      "Scaling row group sizes to 95.00% for 8 writers\n",
      "25/08/15 19:35:22 WARN MemoryManager: Total allocation exceeds 95.00% (1,020,054,720 bytes) of heap memory\n",
      "Scaling row group sizes to 84.44% for 9 writers\n",
      "25/08/15 19:35:22 WARN MemoryManager: Total allocation exceeds 95.00% (1,020,054,720 bytes) of heap memory\n",
      "Scaling row group sizes to 95.00% for 8 writers\n",
      "25/08/15 19:35:22 WARN MemoryManager: Total allocation exceeds 95.00% (1,020,054,720 bytes) of heap memory\n",
      "Scaling row group sizes to 95.00% for 8 writers\n"
     ]
    },
    {
     "name": "stdout",
     "output_type": "stream",
     "text": [
      "Processed batch: 1000 rows, Total: 2487000 rows\n",
      "Processed batch: 1000 rows, Total: 2488000 rows\n"
     ]
    },
    {
     "name": "stderr",
     "output_type": "stream",
     "text": [
      "25/08/15 19:35:26 WARN MemoryManager: Total allocation exceeds 95.00% (1,020,054,720 bytes) of heap memory\n",
      "Scaling row group sizes to 95.00% for 8 writers\n",
      "25/08/15 19:35:26 WARN MemoryManager: Total allocation exceeds 95.00% (1,020,054,720 bytes) of heap memory\n",
      "Scaling row group sizes to 84.44% for 9 writers\n",
      "25/08/15 19:35:26 WARN MemoryManager: Total allocation exceeds 95.00% (1,020,054,720 bytes) of heap memory\n",
      "Scaling row group sizes to 76.00% for 10 writers\n",
      "25/08/15 19:35:26 WARN MemoryManager: Total allocation exceeds 95.00% (1,020,054,720 bytes) of heap memory\n",
      "Scaling row group sizes to 84.44% for 9 writers\n",
      "25/08/15 19:35:26 WARN MemoryManager: Total allocation exceeds 95.00% (1,020,054,720 bytes) of heap memory\n",
      "Scaling row group sizes to 95.00% for 8 writers\n",
      "25/08/15 19:35:26 WARN MemoryManager: Total allocation exceeds 95.00% (1,020,054,720 bytes) of heap memory\n",
      "Scaling row group sizes to 95.00% for 8 writers\n"
     ]
    },
    {
     "name": "stdout",
     "output_type": "stream",
     "text": [
      "Processed batch: 1000 rows, Total: 2489000 rows\n",
      "Processed batch: 1000 rows, Total: 2490000 rows\n",
      "Processed batch: 1000 rows, Total: 2491000 rows\n",
      "Processed batch: 1000 rows, Total: 2492000 rows\n",
      "Processed batch: 1000 rows, Total: 2493000 rows\n",
      "Processed batch: 1000 rows, Total: 2494000 rows\n",
      "Processed batch: 1000 rows, Total: 2495000 rows\n"
     ]
    },
    {
     "name": "stderr",
     "output_type": "stream",
     "text": [
      "25/08/15 19:35:40 WARN MemoryManager: Total allocation exceeds 95.00% (1,020,054,720 bytes) of heap memory\n",
      "Scaling row group sizes to 95.00% for 8 writers\n"
     ]
    },
    {
     "name": "stdout",
     "output_type": "stream",
     "text": [
      "Processed batch: 1500 rows, Total: 2496500 rows\n"
     ]
    },
    {
     "name": "stderr",
     "output_type": "stream",
     "text": [
      "25/08/15 19:35:42 WARN MemoryManager: Total allocation exceeds 95.00% (1,020,054,720 bytes) of heap memory\n",
      "Scaling row group sizes to 95.00% for 8 writers\n"
     ]
    },
    {
     "name": "stdout",
     "output_type": "stream",
     "text": [
      "Processed batch: 1000 rows, Total: 2497500 rows\n",
      "Processed batch: 1000 rows, Total: 2498500 rows\n"
     ]
    },
    {
     "name": "stderr",
     "output_type": "stream",
     "text": [
      "25/08/15 19:35:46 WARN MemoryManager: Total allocation exceeds 95.00% (1,020,054,720 bytes) of heap memory\n",
      "Scaling row group sizes to 95.00% for 8 writers\n",
      "25/08/15 19:35:46 WARN MemoryManager: Total allocation exceeds 95.00% (1,020,054,720 bytes) of heap memory\n",
      "Scaling row group sizes to 95.00% for 8 writers\n"
     ]
    },
    {
     "name": "stdout",
     "output_type": "stream",
     "text": [
      "Processed batch: 1000 rows, Total: 2499500 rows\n",
      "Processed batch: 1000 rows, Total: 2500500 rows\n",
      "Processed batch: 1000 rows, Total: 2501500 rows\n",
      "Processed batch: 1000 rows, Total: 2502500 rows\n",
      "Processed batch: 1000 rows, Total: 2503500 rows\n",
      "Processed batch: 1000 rows, Total: 2504500 rows\n",
      "Processed batch: 1000 rows, Total: 2505500 rows\n",
      "Processed batch: 1000 rows, Total: 2506500 rows\n"
     ]
    },
    {
     "name": "stderr",
     "output_type": "stream",
     "text": [
      "25/08/15 19:36:02 WARN MemoryManager: Total allocation exceeds 95.00% (1,020,054,720 bytes) of heap memory\n",
      "Scaling row group sizes to 95.00% for 8 writers\n"
     ]
    },
    {
     "name": "stdout",
     "output_type": "stream",
     "text": [
      "Processed batch: 1000 rows, Total: 2507500 rows\n",
      "Processed batch: 1000 rows, Total: 2508500 rows\n"
     ]
    },
    {
     "name": "stderr",
     "output_type": "stream",
     "text": [
      "25/08/15 19:36:06 WARN MemoryManager: Total allocation exceeds 95.00% (1,020,054,720 bytes) of heap memory\n",
      "Scaling row group sizes to 95.00% for 8 writers\n"
     ]
    },
    {
     "name": "stdout",
     "output_type": "stream",
     "text": [
      "Processed batch: 1000 rows, Total: 2509500 rows\n",
      "Processed batch: 1000 rows, Total: 2510500 rows\n"
     ]
    },
    {
     "name": "stderr",
     "output_type": "stream",
     "text": [
      "25/08/15 19:36:10 WARN MemoryManager: Total allocation exceeds 95.00% (1,020,054,720 bytes) of heap memory\n",
      "Scaling row group sizes to 95.00% for 8 writers\n"
     ]
    },
    {
     "name": "stdout",
     "output_type": "stream",
     "text": [
      "Processed batch: 1500 rows, Total: 2512000 rows\n",
      "Processed batch: 1000 rows, Total: 2513000 rows\n"
     ]
    },
    {
     "name": "stderr",
     "output_type": "stream",
     "text": [
      "25/08/15 19:36:14 WARN MemoryManager: Total allocation exceeds 95.00% (1,020,054,720 bytes) of heap memory\n",
      "Scaling row group sizes to 95.00% for 8 writers\n"
     ]
    },
    {
     "name": "stdout",
     "output_type": "stream",
     "text": [
      "Processed batch: 1000 rows, Total: 2514000 rows\n",
      "Processed batch: 1000 rows, Total: 2515000 rows\n",
      "Processed batch: 1000 rows, Total: 2516000 rows\n",
      "Processed batch: 1000 rows, Total: 2517000 rows\n"
     ]
    },
    {
     "name": "stderr",
     "output_type": "stream",
     "text": [
      "25/08/15 19:36:22 WARN MemoryManager: Total allocation exceeds 95.00% (1,020,054,720 bytes) of heap memory\n",
      "Scaling row group sizes to 95.00% for 8 writers\n",
      "25/08/15 19:36:22 WARN MemoryManager: Total allocation exceeds 95.00% (1,020,054,720 bytes) of heap memory\n",
      "Scaling row group sizes to 84.44% for 9 writers\n",
      "25/08/15 19:36:22 WARN MemoryManager: Total allocation exceeds 95.00% (1,020,054,720 bytes) of heap memory\n",
      "Scaling row group sizes to 95.00% for 8 writers\n",
      "25/08/15 19:36:22 WARN MemoryManager: Total allocation exceeds 95.00% (1,020,054,720 bytes) of heap memory\n",
      "Scaling row group sizes to 84.44% for 9 writers\n",
      "25/08/15 19:36:22 WARN MemoryManager: Total allocation exceeds 95.00% (1,020,054,720 bytes) of heap memory\n",
      "Scaling row group sizes to 76.00% for 10 writers\n",
      "25/08/15 19:36:22 WARN MemoryManager: Total allocation exceeds 95.00% (1,020,054,720 bytes) of heap memory\n",
      "Scaling row group sizes to 84.44% for 9 writers\n",
      "25/08/15 19:36:22 WARN MemoryManager: Total allocation exceeds 95.00% (1,020,054,720 bytes) of heap memory\n",
      "Scaling row group sizes to 95.00% for 8 writers\n",
      "25/08/15 19:36:22 WARN MemoryManager: Total allocation exceeds 95.00% (1,020,054,720 bytes) of heap memory\n",
      "Scaling row group sizes to 95.00% for 8 writers\n",
      "25/08/15 19:36:22 WARN MemoryManager: Total allocation exceeds 95.00% (1,020,054,720 bytes) of heap memory\n",
      "Scaling row group sizes to 84.44% for 9 writers\n",
      "25/08/15 19:36:22 WARN MemoryManager: Total allocation exceeds 95.00% (1,020,054,720 bytes) of heap memory\n",
      "Scaling row group sizes to 95.00% for 8 writers\n",
      "25/08/15 19:36:22 WARN MemoryManager: Total allocation exceeds 95.00% (1,020,054,720 bytes) of heap memory\n",
      "Scaling row group sizes to 95.00% for 8 writers\n",
      "25/08/15 19:36:22 WARN MemoryManager: Total allocation exceeds 95.00% (1,020,054,720 bytes) of heap memory\n",
      "Scaling row group sizes to 95.00% for 8 writers\n",
      "25/08/15 19:36:22 WARN MemoryManager: Total allocation exceeds 95.00% (1,020,054,720 bytes) of heap memory\n",
      "Scaling row group sizes to 84.44% for 9 writers\n",
      "25/08/15 19:36:22 WARN MemoryManager: Total allocation exceeds 95.00% (1,020,054,720 bytes) of heap memory\n",
      "Scaling row group sizes to 95.00% for 8 writers\n"
     ]
    },
    {
     "name": "stdout",
     "output_type": "stream",
     "text": [
      "Processed batch: 1000 rows, Total: 2518000 rows\n",
      "Processed batch: 1000 rows, Total: 2519000 rows\n"
     ]
    },
    {
     "name": "stderr",
     "output_type": "stream",
     "text": [
      "25/08/15 19:36:26 WARN MemoryManager: Total allocation exceeds 95.00% (1,020,054,720 bytes) of heap memory\n",
      "Scaling row group sizes to 95.00% for 8 writers\n",
      "25/08/15 19:36:26 WARN MemoryManager: Total allocation exceeds 95.00% (1,020,054,720 bytes) of heap memory\n",
      "Scaling row group sizes to 84.44% for 9 writers\n",
      "25/08/15 19:36:26 WARN MemoryManager: Total allocation exceeds 95.00% (1,020,054,720 bytes) of heap memory\n",
      "Scaling row group sizes to 95.00% for 8 writers\n"
     ]
    },
    {
     "name": "stdout",
     "output_type": "stream",
     "text": [
      "Processed batch: 1000 rows, Total: 2520000 rows\n",
      "Processed batch: 1000 rows, Total: 2521000 rows\n",
      "Processed batch: 1000 rows, Total: 2522000 rows\n",
      "Processed batch: 1000 rows, Total: 2523000 rows\n"
     ]
    },
    {
     "name": "stderr",
     "output_type": "stream",
     "text": [
      "25/08/15 19:36:34 WARN MemoryManager: Total allocation exceeds 95.00% (1,020,054,720 bytes) of heap memory\n",
      "Scaling row group sizes to 95.00% for 8 writers\n",
      "25/08/15 19:36:34 WARN MemoryManager: Total allocation exceeds 95.00% (1,020,054,720 bytes) of heap memory\n",
      "Scaling row group sizes to 84.44% for 9 writers\n",
      "25/08/15 19:36:34 WARN MemoryManager: Total allocation exceeds 95.00% (1,020,054,720 bytes) of heap memory\n",
      "Scaling row group sizes to 95.00% for 8 writers\n"
     ]
    },
    {
     "name": "stdout",
     "output_type": "stream",
     "text": [
      "Processed batch: 1000 rows, Total: 2524000 rows\n",
      "Processed batch: 954 rows, Total: 2524954 rows\n",
      "Processed batch: 546 rows, Total: 2525500 rows\n",
      "Processed batch: 1000 rows, Total: 2526500 rows\n",
      "Processed batch: 2000 rows, Total: 2528500 rows\n",
      "Processed batch: 1000 rows, Total: 2529500 rows\n",
      "Processed batch: 500 rows, Total: 2530000 rows\n",
      "Processed batch: 1000 rows, Total: 2531000 rows\n"
     ]
    },
    {
     "name": "stderr",
     "output_type": "stream",
     "text": [
      "25/08/15 19:36:50 WARN MemoryManager: Total allocation exceeds 95.00% (1,020,054,720 bytes) of heap memory\n",
      "Scaling row group sizes to 95.00% for 8 writers\n",
      "25/08/15 19:36:50 WARN MemoryManager: Total allocation exceeds 95.00% (1,020,054,720 bytes) of heap memory\n",
      "Scaling row group sizes to 84.44% for 9 writers\n",
      "25/08/15 19:36:50 WARN MemoryManager: Total allocation exceeds 95.00% (1,020,054,720 bytes) of heap memory\n",
      "Scaling row group sizes to 76.00% for 10 writers\n",
      "25/08/15 19:36:50 WARN MemoryManager: Total allocation exceeds 95.00% (1,020,054,720 bytes) of heap memory\n",
      "Scaling row group sizes to 69.09% for 11 writers\n",
      "25/08/15 19:36:50 WARN MemoryManager: Total allocation exceeds 95.00% (1,020,054,720 bytes) of heap memory\n",
      "Scaling row group sizes to 76.00% for 10 writers\n",
      "25/08/15 19:36:50 WARN MemoryManager: Total allocation exceeds 95.00% (1,020,054,720 bytes) of heap memory\n",
      "Scaling row group sizes to 84.44% for 9 writers\n",
      "25/08/15 19:36:50 WARN MemoryManager: Total allocation exceeds 95.00% (1,020,054,720 bytes) of heap memory\n",
      "Scaling row group sizes to 95.00% for 8 writers\n"
     ]
    },
    {
     "name": "stdout",
     "output_type": "stream",
     "text": [
      "Processed batch: 1000 rows, Total: 2532000 rows\n"
     ]
    },
    {
     "name": "stderr",
     "output_type": "stream",
     "text": [
      "25/08/15 19:36:52 WARN MemoryManager: Total allocation exceeds 95.00% (1,020,054,720 bytes) of heap memory\n",
      "Scaling row group sizes to 95.00% for 8 writers\n"
     ]
    },
    {
     "name": "stdout",
     "output_type": "stream",
     "text": [
      "Processed batch: 1000 rows, Total: 2533000 rows\n",
      "Processed batch: 1000 rows, Total: 2534000 rows\n",
      "Processed batch: 1000 rows, Total: 2535000 rows\n",
      "Processed batch: 1000 rows, Total: 2536000 rows\n"
     ]
    },
    {
     "name": "stderr",
     "output_type": "stream",
     "text": [
      "25/08/15 19:37:00 WARN MemoryManager: Total allocation exceeds 95.00% (1,020,054,720 bytes) of heap memory\n",
      "Scaling row group sizes to 95.00% for 8 writers\n",
      "25/08/15 19:37:00 WARN MemoryManager: Total allocation exceeds 95.00% (1,020,054,720 bytes) of heap memory\n",
      "Scaling row group sizes to 84.44% for 9 writers\n",
      "25/08/15 19:37:00 WARN MemoryManager: Total allocation exceeds 95.00% (1,020,054,720 bytes) of heap memory\n",
      "Scaling row group sizes to 95.00% for 8 writers\n"
     ]
    },
    {
     "name": "stdout",
     "output_type": "stream",
     "text": [
      "Processed batch: 1000 rows, Total: 2537000 rows\n"
     ]
    },
    {
     "name": "stderr",
     "output_type": "stream",
     "text": [
      "25/08/15 19:37:02 WARN MemoryManager: Total allocation exceeds 95.00% (1,020,054,720 bytes) of heap memory\n",
      "Scaling row group sizes to 95.00% for 8 writers\n",
      "25/08/15 19:37:02 WARN MemoryManager: Total allocation exceeds 95.00% (1,020,054,720 bytes) of heap memory\n",
      "Scaling row group sizes to 84.44% for 9 writers\n",
      "25/08/15 19:37:02 WARN MemoryManager: Total allocation exceeds 95.00% (1,020,054,720 bytes) of heap memory\n",
      "Scaling row group sizes to 76.00% for 10 writers\n",
      "25/08/15 19:37:02 WARN MemoryManager: Total allocation exceeds 95.00% (1,020,054,720 bytes) of heap memory\n",
      "Scaling row group sizes to 69.09% for 11 writers\n",
      "25/08/15 19:37:02 WARN MemoryManager: Total allocation exceeds 95.00% (1,020,054,720 bytes) of heap memory\n",
      "Scaling row group sizes to 76.00% for 10 writers\n",
      "25/08/15 19:37:02 WARN MemoryManager: Total allocation exceeds 95.00% (1,020,054,720 bytes) of heap memory\n",
      "Scaling row group sizes to 84.44% for 9 writers\n",
      "25/08/15 19:37:02 WARN MemoryManager: Total allocation exceeds 95.00% (1,020,054,720 bytes) of heap memory\n",
      "Scaling row group sizes to 95.00% for 8 writers\n"
     ]
    },
    {
     "name": "stdout",
     "output_type": "stream",
     "text": [
      "Processed batch: 1000 rows, Total: 2538000 rows\n",
      "Processed batch: 1000 rows, Total: 2539000 rows\n",
      "Processed batch: 1000 rows, Total: 2540000 rows\n",
      "Processed batch: 1000 rows, Total: 2541000 rows\n",
      "Processed batch: 1000 rows, Total: 2542000 rows\n",
      "Processed batch: 1500 rows, Total: 2543500 rows\n",
      "Processed batch: 1000 rows, Total: 2544500 rows\n",
      "Processed batch: 1000 rows, Total: 2545500 rows\n"
     ]
    },
    {
     "name": "stderr",
     "output_type": "stream",
     "text": [
      "25/08/15 19:37:18 WARN MemoryManager: Total allocation exceeds 95.00% (1,020,054,720 bytes) of heap memory\n",
      "Scaling row group sizes to 95.00% for 8 writers\n",
      "25/08/15 19:37:18 WARN MemoryManager: Total allocation exceeds 95.00% (1,020,054,720 bytes) of heap memory\n",
      "Scaling row group sizes to 84.44% for 9 writers\n",
      "25/08/15 19:37:18 WARN MemoryManager: Total allocation exceeds 95.00% (1,020,054,720 bytes) of heap memory\n",
      "Scaling row group sizes to 95.00% for 8 writers\n"
     ]
    },
    {
     "name": "stdout",
     "output_type": "stream",
     "text": [
      "Processed batch: 1000 rows, Total: 2546500 rows\n",
      "Processed batch: 1000 rows, Total: 2547500 rows\n",
      "Processed batch: 1000 rows, Total: 2548500 rows\n",
      "Processed batch: 1000 rows, Total: 2549500 rows\n"
     ]
    },
    {
     "name": "stderr",
     "output_type": "stream",
     "text": [
      "25/08/15 19:37:26 WARN MemoryManager: Total allocation exceeds 95.00% (1,020,054,720 bytes) of heap memory\n",
      "Scaling row group sizes to 95.00% for 8 writers\n",
      "25/08/15 19:37:26 WARN MemoryManager: Total allocation exceeds 95.00% (1,020,054,720 bytes) of heap memory\n",
      "Scaling row group sizes to 84.44% for 9 writers\n",
      "25/08/15 19:37:26 WARN MemoryManager: Total allocation exceeds 95.00% (1,020,054,720 bytes) of heap memory\n",
      "Scaling row group sizes to 76.00% for 10 writers\n",
      "25/08/15 19:37:26 WARN MemoryManager: Total allocation exceeds 95.00% (1,020,054,720 bytes) of heap memory\n",
      "Scaling row group sizes to 84.44% for 9 writers\n",
      "25/08/15 19:37:26 WARN MemoryManager: Total allocation exceeds 95.00% (1,020,054,720 bytes) of heap memory\n",
      "Scaling row group sizes to 95.00% for 8 writers\n"
     ]
    },
    {
     "name": "stdout",
     "output_type": "stream",
     "text": [
      "Processed batch: 1000 rows, Total: 2550500 rows\n",
      "Processed batch: 1000 rows, Total: 2551500 rows\n"
     ]
    },
    {
     "name": "stderr",
     "output_type": "stream",
     "text": [
      "25/08/15 19:37:30 WARN MemoryManager: Total allocation exceeds 95.00% (1,020,054,720 bytes) of heap memory\n",
      "Scaling row group sizes to 95.00% for 8 writers\n",
      "25/08/15 19:37:30 WARN MemoryManager: Total allocation exceeds 95.00% (1,020,054,720 bytes) of heap memory\n",
      "Scaling row group sizes to 84.44% for 9 writers\n",
      "25/08/15 19:37:30 WARN MemoryManager: Total allocation exceeds 95.00% (1,020,054,720 bytes) of heap memory\n",
      "Scaling row group sizes to 76.00% for 10 writers\n",
      "25/08/15 19:37:30 WARN MemoryManager: Total allocation exceeds 95.00% (1,020,054,720 bytes) of heap memory\n",
      "Scaling row group sizes to 84.44% for 9 writers\n",
      "25/08/15 19:37:30 WARN MemoryManager: Total allocation exceeds 95.00% (1,020,054,720 bytes) of heap memory\n",
      "Scaling row group sizes to 76.00% for 10 writers\n",
      "25/08/15 19:37:30 WARN MemoryManager: Total allocation exceeds 95.00% (1,020,054,720 bytes) of heap memory\n",
      "Scaling row group sizes to 84.44% for 9 writers\n",
      "25/08/15 19:37:30 WARN MemoryManager: Total allocation exceeds 95.00% (1,020,054,720 bytes) of heap memory\n",
      "Scaling row group sizes to 95.00% for 8 writers\n",
      "25/08/15 19:37:30 WARN MemoryManager: Total allocation exceeds 95.00% (1,020,054,720 bytes) of heap memory\n",
      "Scaling row group sizes to 84.44% for 9 writers\n",
      "25/08/15 19:37:30 WARN MemoryManager: Total allocation exceeds 95.00% (1,020,054,720 bytes) of heap memory\n",
      "Scaling row group sizes to 95.00% for 8 writers\n"
     ]
    },
    {
     "name": "stdout",
     "output_type": "stream",
     "text": [
      "Processed batch: 1000 rows, Total: 2552500 rows\n",
      "Processed batch: 1000 rows, Total: 2553500 rows\n",
      "Processed batch: 1000 rows, Total: 2554500 rows\n",
      "Processed batch: 1000 rows, Total: 2555500 rows\n",
      "Processed batch: 1000 rows, Total: 2556500 rows\n",
      "Processed batch: 1000 rows, Total: 2557500 rows\n",
      "Processed batch: 1000 rows, Total: 2558500 rows\n",
      "Processed batch: 1500 rows, Total: 2560000 rows\n",
      "Processed batch: 1000 rows, Total: 2561000 rows\n",
      "Processed batch: 1000 rows, Total: 2562000 rows\n",
      "Processed batch: 1000 rows, Total: 2563000 rows\n",
      "Processed batch: 1000 rows, Total: 2564000 rows\n"
     ]
    },
    {
     "name": "stderr",
     "output_type": "stream",
     "text": [
      "25/08/15 19:37:54 WARN MemoryManager: Total allocation exceeds 95.00% (1,020,054,720 bytes) of heap memory\n",
      "Scaling row group sizes to 95.00% for 8 writers\n",
      "25/08/15 19:37:54 WARN MemoryManager: Total allocation exceeds 95.00% (1,020,054,720 bytes) of heap memory\n",
      "Scaling row group sizes to 95.00% for 8 writers\n",
      "25/08/15 19:37:54 WARN MemoryManager: Total allocation exceeds 95.00% (1,020,054,720 bytes) of heap memory\n",
      "Scaling row group sizes to 84.44% for 9 writers\n",
      "25/08/15 19:37:54 WARN MemoryManager: Total allocation exceeds 95.00% (1,020,054,720 bytes) of heap memory\n",
      "Scaling row group sizes to 76.00% for 10 writers\n",
      "25/08/15 19:37:54 WARN MemoryManager: Total allocation exceeds 95.00% (1,020,054,720 bytes) of heap memory\n",
      "Scaling row group sizes to 84.44% for 9 writers\n",
      "25/08/15 19:37:54 WARN MemoryManager: Total allocation exceeds 95.00% (1,020,054,720 bytes) of heap memory\n",
      "Scaling row group sizes to 95.00% for 8 writers\n",
      "25/08/15 19:37:54 WARN MemoryManager: Total allocation exceeds 95.00% (1,020,054,720 bytes) of heap memory\n",
      "Scaling row group sizes to 84.44% for 9 writers\n",
      "25/08/15 19:37:54 WARN MemoryManager: Total allocation exceeds 95.00% (1,020,054,720 bytes) of heap memory\n",
      "Scaling row group sizes to 95.00% for 8 writers\n",
      "25/08/15 19:37:54 WARN MemoryManager: Total allocation exceeds 95.00% (1,020,054,720 bytes) of heap memory\n",
      "Scaling row group sizes to 95.00% for 8 writers\n"
     ]
    },
    {
     "name": "stdout",
     "output_type": "stream",
     "text": [
      "Processed batch: 1000 rows, Total: 2565000 rows\n",
      "Processed batch: 1000 rows, Total: 2566000 rows\n"
     ]
    },
    {
     "name": "stderr",
     "output_type": "stream",
     "text": [
      "25/08/15 19:37:58 WARN MemoryManager: Total allocation exceeds 95.00% (1,020,054,720 bytes) of heap memory\n",
      "Scaling row group sizes to 95.00% for 8 writers\n",
      "25/08/15 19:37:58 WARN MemoryManager: Total allocation exceeds 95.00% (1,020,054,720 bytes) of heap memory\n",
      "Scaling row group sizes to 84.44% for 9 writers\n",
      "25/08/15 19:37:58 WARN MemoryManager: Total allocation exceeds 95.00% (1,020,054,720 bytes) of heap memory\n",
      "Scaling row group sizes to 95.00% for 8 writers\n"
     ]
    },
    {
     "name": "stdout",
     "output_type": "stream",
     "text": [
      "Processed batch: 1000 rows, Total: 2567000 rows\n",
      "Processed batch: 1000 rows, Total: 2568000 rows\n",
      "Processed batch: 1000 rows, Total: 2569000 rows\n",
      "Processed batch: 500 rows, Total: 2569500 rows\n",
      "Processed batch: 1000 rows, Total: 2570500 rows\n",
      "Processed batch: 1000 rows, Total: 2571500 rows\n",
      "Processed batch: 1000 rows, Total: 2572500 rows\n",
      "Processed batch: 1000 rows, Total: 2573500 rows\n",
      "Processed batch: 1500 rows, Total: 2575000 rows\n",
      "Processed batch: 1000 rows, Total: 2576000 rows\n",
      "Processed batch: 1000 rows, Total: 2577000 rows\n",
      "Processed batch: 1000 rows, Total: 2578000 rows\n",
      "Processed batch: 1000 rows, Total: 2579000 rows\n",
      "Processed batch: 1000 rows, Total: 2580000 rows\n",
      "Processed batch: 1000 rows, Total: 2581000 rows\n",
      "Processed batch: 1000 rows, Total: 2582000 rows\n"
     ]
    },
    {
     "name": "stderr",
     "output_type": "stream",
     "text": [
      "25/08/15 19:38:30 WARN MemoryManager: Total allocation exceeds 95.00% (1,020,054,720 bytes) of heap memory\n",
      "Scaling row group sizes to 95.00% for 8 writers\n",
      "25/08/15 19:38:30 WARN MemoryManager: Total allocation exceeds 95.00% (1,020,054,720 bytes) of heap memory\n",
      "Scaling row group sizes to 84.44% for 9 writers\n",
      "25/08/15 19:38:30 WARN MemoryManager: Total allocation exceeds 95.00% (1,020,054,720 bytes) of heap memory\n",
      "Scaling row group sizes to 95.00% for 8 writers\n"
     ]
    },
    {
     "name": "stdout",
     "output_type": "stream",
     "text": [
      "Processed batch: 1000 rows, Total: 2583000 rows\n",
      "Processed batch: 1000 rows, Total: 2584000 rows\n"
     ]
    },
    {
     "name": "stderr",
     "output_type": "stream",
     "text": [
      "25/08/15 19:38:34 WARN MemoryManager: Total allocation exceeds 95.00% (1,020,054,720 bytes) of heap memory\n",
      "Scaling row group sizes to 95.00% for 8 writers\n",
      "25/08/15 19:38:34 WARN MemoryManager: Total allocation exceeds 95.00% (1,020,054,720 bytes) of heap memory\n",
      "Scaling row group sizes to 84.44% for 9 writers\n",
      "25/08/15 19:38:34 WARN MemoryManager: Total allocation exceeds 95.00% (1,020,054,720 bytes) of heap memory\n",
      "Scaling row group sizes to 76.00% for 10 writers\n",
      "25/08/15 19:38:34 WARN MemoryManager: Total allocation exceeds 95.00% (1,020,054,720 bytes) of heap memory\n",
      "Scaling row group sizes to 84.44% for 9 writers\n",
      "25/08/15 19:38:34 WARN MemoryManager: Total allocation exceeds 95.00% (1,020,054,720 bytes) of heap memory\n",
      "Scaling row group sizes to 95.00% for 8 writers\n"
     ]
    },
    {
     "name": "stdout",
     "output_type": "stream",
     "text": [
      "Processed batch: 1000 rows, Total: 2585000 rows\n",
      "Processed batch: 1000 rows, Total: 2586000 rows\n"
     ]
    },
    {
     "name": "stderr",
     "output_type": "stream",
     "text": [
      "25/08/15 19:38:38 WARN MemoryManager: Total allocation exceeds 95.00% (1,020,054,720 bytes) of heap memory\n",
      "Scaling row group sizes to 95.00% for 8 writers\n",
      "25/08/15 19:38:38 WARN MemoryManager: Total allocation exceeds 95.00% (1,020,054,720 bytes) of heap memory\n",
      "Scaling row group sizes to 95.00% for 8 writers\n"
     ]
    },
    {
     "name": "stdout",
     "output_type": "stream",
     "text": [
      "Processed batch: 1000 rows, Total: 2587000 rows\n",
      "Processed batch: 1000 rows, Total: 2588000 rows\n",
      "Processed batch: 1000 rows, Total: 2589000 rows\n",
      "Processed batch: 1000 rows, Total: 2590000 rows\n"
     ]
    },
    {
     "name": "stderr",
     "output_type": "stream",
     "text": [
      "25/08/15 19:38:46 WARN MemoryManager: Total allocation exceeds 95.00% (1,020,054,720 bytes) of heap memory\n",
      "Scaling row group sizes to 95.00% for 8 writers\n",
      "25/08/15 19:38:46 WARN MemoryManager: Total allocation exceeds 95.00% (1,020,054,720 bytes) of heap memory\n",
      "Scaling row group sizes to 84.44% for 9 writers\n",
      "25/08/15 19:38:46 WARN MemoryManager: Total allocation exceeds 95.00% (1,020,054,720 bytes) of heap memory\n",
      "Scaling row group sizes to 95.00% for 8 writers\n",
      "25/08/15 19:38:46 WARN MemoryManager: Total allocation exceeds 95.00% (1,020,054,720 bytes) of heap memory\n",
      "Scaling row group sizes to 84.44% for 9 writers\n",
      "25/08/15 19:38:46 WARN MemoryManager: Total allocation exceeds 95.00% (1,020,054,720 bytes) of heap memory\n",
      "Scaling row group sizes to 95.00% for 8 writers\n",
      "25/08/15 19:38:46 WARN MemoryManager: Total allocation exceeds 95.00% (1,020,054,720 bytes) of heap memory\n",
      "Scaling row group sizes to 84.44% for 9 writers\n",
      "25/08/15 19:38:46 WARN MemoryManager: Total allocation exceeds 95.00% (1,020,054,720 bytes) of heap memory\n",
      "Scaling row group sizes to 76.00% for 10 writers\n",
      "25/08/15 19:38:46 WARN MemoryManager: Total allocation exceeds 95.00% (1,020,054,720 bytes) of heap memory\n",
      "Scaling row group sizes to 69.09% for 11 writers\n",
      "25/08/15 19:38:46 WARN MemoryManager: Total allocation exceeds 95.00% (1,020,054,720 bytes) of heap memory\n",
      "Scaling row group sizes to 76.00% for 10 writers\n",
      "25/08/15 19:38:46 WARN MemoryManager: Total allocation exceeds 95.00% (1,020,054,720 bytes) of heap memory\n",
      "Scaling row group sizes to 84.44% for 9 writers\n",
      "25/08/15 19:38:46 WARN MemoryManager: Total allocation exceeds 95.00% (1,020,054,720 bytes) of heap memory\n",
      "Scaling row group sizes to 95.00% for 8 writers\n",
      "25/08/15 19:38:46 WARN MemoryManager: Total allocation exceeds 95.00% (1,020,054,720 bytes) of heap memory\n",
      "Scaling row group sizes to 95.00% for 8 writers\n"
     ]
    },
    {
     "name": "stdout",
     "output_type": "stream",
     "text": [
      "Processed batch: 1500 rows, Total: 2591500 rows\n",
      "Processed batch: 1000 rows, Total: 2592500 rows\n",
      "Processed batch: 1000 rows, Total: 2593500 rows\n",
      "Processed batch: 1000 rows, Total: 2594500 rows\n"
     ]
    },
    {
     "name": "stderr",
     "output_type": "stream",
     "text": [
      "25/08/15 19:38:54 WARN MemoryManager: Total allocation exceeds 95.00% (1,020,054,720 bytes) of heap memory\n",
      "Scaling row group sizes to 95.00% for 8 writers\n",
      "25/08/15 19:38:54 WARN MemoryManager: Total allocation exceeds 95.00% (1,020,054,720 bytes) of heap memory\n",
      "Scaling row group sizes to 84.44% for 9 writers\n",
      "25/08/15 19:38:54 WARN MemoryManager: Total allocation exceeds 95.00% (1,020,054,720 bytes) of heap memory\n",
      "Scaling row group sizes to 76.00% for 10 writers\n",
      "25/08/15 19:38:54 WARN MemoryManager: Total allocation exceeds 95.00% (1,020,054,720 bytes) of heap memory\n",
      "Scaling row group sizes to 84.44% for 9 writers\n",
      "25/08/15 19:38:54 WARN MemoryManager: Total allocation exceeds 95.00% (1,020,054,720 bytes) of heap memory\n",
      "Scaling row group sizes to 95.00% for 8 writers\n"
     ]
    },
    {
     "name": "stdout",
     "output_type": "stream",
     "text": [
      "Processed batch: 1000 rows, Total: 2595500 rows\n",
      "Processed batch: 1000 rows, Total: 2596500 rows\n",
      "Processed batch: 1000 rows, Total: 2597500 rows\n",
      "Processed batch: 1000 rows, Total: 2598500 rows\n"
     ]
    },
    {
     "name": "stderr",
     "output_type": "stream",
     "text": [
      "25/08/15 19:39:02 WARN MemoryManager: Total allocation exceeds 95.00% (1,020,054,720 bytes) of heap memory\n",
      "Scaling row group sizes to 95.00% for 8 writers\n"
     ]
    },
    {
     "name": "stdout",
     "output_type": "stream",
     "text": [
      "Processed batch: 1000 rows, Total: 2599500 rows\n"
     ]
    },
    {
     "name": "stderr",
     "output_type": "stream",
     "text": [
      "25/08/15 19:39:04 WARN MemoryManager: Total allocation exceeds 95.00% (1,020,054,720 bytes) of heap memory\n",
      "Scaling row group sizes to 95.00% for 8 writers\n",
      "25/08/15 19:39:04 WARN MemoryManager: Total allocation exceeds 95.00% (1,020,054,720 bytes) of heap memory\n",
      "Scaling row group sizes to 95.00% for 8 writers\n",
      "25/08/15 19:39:04 WARN MemoryManager: Total allocation exceeds 95.00% (1,020,054,720 bytes) of heap memory\n",
      "Scaling row group sizes to 95.00% for 8 writers\n"
     ]
    },
    {
     "name": "stdout",
     "output_type": "stream",
     "text": [
      "Processed batch: 1000 rows, Total: 2600500 rows\n",
      "Processed batch: 1000 rows, Total: 2601500 rows\n",
      "Processed batch: 1000 rows, Total: 2602500 rows\n",
      "Processed batch: 1000 rows, Total: 2603500 rows\n",
      "Processed batch: 1000 rows, Total: 2604500 rows\n",
      "Processed batch: 1000 rows, Total: 2605500 rows\n"
     ]
    },
    {
     "name": "stderr",
     "output_type": "stream",
     "text": [
      "25/08/15 19:39:16 WARN MemoryManager: Total allocation exceeds 95.00% (1,020,054,720 bytes) of heap memory\n",
      "Scaling row group sizes to 95.00% for 8 writers\n"
     ]
    },
    {
     "name": "stdout",
     "output_type": "stream",
     "text": [
      "Processed batch: 1500 rows, Total: 2607000 rows\n",
      "Processed batch: 1000 rows, Total: 2608000 rows\n"
     ]
    },
    {
     "name": "stderr",
     "output_type": "stream",
     "text": [
      "25/08/15 19:39:20 WARN MemoryManager: Total allocation exceeds 95.00% (1,020,054,720 bytes) of heap memory\n",
      "Scaling row group sizes to 95.00% for 8 writers\n"
     ]
    },
    {
     "name": "stdout",
     "output_type": "stream",
     "text": [
      "Processed batch: 1000 rows, Total: 2609000 rows\n",
      "Processed batch: 1000 rows, Total: 2610000 rows\n",
      "Processed batch: 1000 rows, Total: 2611000 rows\n",
      "Processed batch: 1000 rows, Total: 2612000 rows\n",
      "Processed batch: 1000 rows, Total: 2613000 rows\n"
     ]
    },
    {
     "name": "stderr",
     "output_type": "stream",
     "text": [
      "25/08/15 19:39:30 WARN MemoryManager: Total allocation exceeds 95.00% (1,020,054,720 bytes) of heap memory\n",
      "Scaling row group sizes to 95.00% for 8 writers\n",
      "25/08/15 19:39:30 WARN MemoryManager: Total allocation exceeds 95.00% (1,020,054,720 bytes) of heap memory\n",
      "Scaling row group sizes to 84.44% for 9 writers\n",
      "25/08/15 19:39:30 WARN MemoryManager: Total allocation exceeds 95.00% (1,020,054,720 bytes) of heap memory\n",
      "Scaling row group sizes to 95.00% for 8 writers\n",
      "25/08/15 19:39:30 WARN MemoryManager: Total allocation exceeds 95.00% (1,020,054,720 bytes) of heap memory\n",
      "Scaling row group sizes to 95.00% for 8 writers\n",
      "25/08/15 19:39:30 WARN MemoryManager: Total allocation exceeds 95.00% (1,020,054,720 bytes) of heap memory\n",
      "Scaling row group sizes to 84.44% for 9 writers\n",
      "25/08/15 19:39:30 WARN MemoryManager: Total allocation exceeds 95.00% (1,020,054,720 bytes) of heap memory\n",
      "Scaling row group sizes to 95.00% for 8 writers\n",
      "25/08/15 19:39:30 WARN MemoryManager: Total allocation exceeds 95.00% (1,020,054,720 bytes) of heap memory\n",
      "Scaling row group sizes to 84.44% for 9 writers\n",
      "25/08/15 19:39:30 WARN MemoryManager: Total allocation exceeds 95.00% (1,020,054,720 bytes) of heap memory\n",
      "Scaling row group sizes to 95.00% for 8 writers\n"
     ]
    },
    {
     "name": "stdout",
     "output_type": "stream",
     "text": [
      "Processed batch: 1000 rows, Total: 2614000 rows\n",
      "Processed batch: 1000 rows, Total: 2615000 rows\n",
      "Processed batch: 1000 rows, Total: 2616000 rows\n",
      "Processed batch: 1000 rows, Total: 2617000 rows\n",
      "Processed batch: 1000 rows, Total: 2618000 rows\n",
      "Processed batch: 1000 rows, Total: 2619000 rows\n"
     ]
    },
    {
     "name": "stderr",
     "output_type": "stream",
     "text": [
      "25/08/15 19:39:42 WARN MemoryManager: Total allocation exceeds 95.00% (1,020,054,720 bytes) of heap memory\n",
      "Scaling row group sizes to 95.00% for 8 writers\n",
      "25/08/15 19:39:42 WARN MemoryManager: Total allocation exceeds 95.00% (1,020,054,720 bytes) of heap memory\n",
      "Scaling row group sizes to 95.00% for 8 writers\n",
      "25/08/15 19:39:42 WARN MemoryManager: Total allocation exceeds 95.00% (1,020,054,720 bytes) of heap memory\n",
      "Scaling row group sizes to 95.00% for 8 writers\n"
     ]
    },
    {
     "name": "stdout",
     "output_type": "stream",
     "text": [
      "Processed batch: 1000 rows, Total: 2620000 rows\n",
      "Processed batch: 1000 rows, Total: 2621000 rows\n",
      "Processed batch: 1000 rows, Total: 2622000 rows\n",
      "Processed batch: 1500 rows, Total: 2623500 rows\n"
     ]
    },
    {
     "name": "stderr",
     "output_type": "stream",
     "text": [
      "25/08/15 19:39:50 WARN MemoryManager: Total allocation exceeds 95.00% (1,020,054,720 bytes) of heap memory\n",
      "Scaling row group sizes to 95.00% for 8 writers\n",
      "25/08/15 19:39:50 WARN MemoryManager: Total allocation exceeds 95.00% (1,020,054,720 bytes) of heap memory\n",
      "Scaling row group sizes to 84.44% for 9 writers\n",
      "25/08/15 19:39:50 WARN MemoryManager: Total allocation exceeds 95.00% (1,020,054,720 bytes) of heap memory\n",
      "Scaling row group sizes to 76.00% for 10 writers\n",
      "25/08/15 19:39:50 WARN MemoryManager: Total allocation exceeds 95.00% (1,020,054,720 bytes) of heap memory\n",
      "Scaling row group sizes to 84.44% for 9 writers\n",
      "25/08/15 19:39:50 WARN MemoryManager: Total allocation exceeds 95.00% (1,020,054,720 bytes) of heap memory\n",
      "Scaling row group sizes to 95.00% for 8 writers\n"
     ]
    },
    {
     "name": "stdout",
     "output_type": "stream",
     "text": [
      "Processed batch: 1000 rows, Total: 2624500 rows\n",
      "Processed batch: 1000 rows, Total: 2625500 rows\n",
      "Processed batch: 1000 rows, Total: 2626500 rows\n",
      "Processed batch: 1000 rows, Total: 2627500 rows\n"
     ]
    },
    {
     "name": "stderr",
     "output_type": "stream",
     "text": [
      "25/08/15 19:39:58 WARN MemoryManager: Total allocation exceeds 95.00% (1,020,054,720 bytes) of heap memory\n",
      "Scaling row group sizes to 95.00% for 8 writers\n"
     ]
    },
    {
     "name": "stdout",
     "output_type": "stream",
     "text": [
      "Processed batch: 1000 rows, Total: 2628500 rows\n",
      "Processed batch: 1000 rows, Total: 2629500 rows\n",
      "Processed batch: 500 rows, Total: 2630000 rows\n",
      "Processed batch: 1000 rows, Total: 2631000 rows\n",
      "Processed batch: 1000 rows, Total: 2632000 rows\n",
      "Processed batch: 1000 rows, Total: 2633000 rows\n",
      "Processed batch: 1000 rows, Total: 2634000 rows\n",
      "Processed batch: 1000 rows, Total: 2635000 rows\n"
     ]
    },
    {
     "name": "stderr",
     "output_type": "stream",
     "text": [
      "25/08/15 19:40:14 WARN MemoryManager: Total allocation exceeds 95.00% (1,020,054,720 bytes) of heap memory\n",
      "Scaling row group sizes to 95.00% for 8 writers\n",
      "25/08/15 19:40:14 WARN MemoryManager: Total allocation exceeds 95.00% (1,020,054,720 bytes) of heap memory\n",
      "Scaling row group sizes to 84.44% for 9 writers\n",
      "25/08/15 19:40:14 WARN MemoryManager: Total allocation exceeds 95.00% (1,020,054,720 bytes) of heap memory\n",
      "Scaling row group sizes to 95.00% for 8 writers\n",
      "25/08/15 19:40:14 WARN MemoryManager: Total allocation exceeds 95.00% (1,020,054,720 bytes) of heap memory\n",
      "Scaling row group sizes to 95.00% for 8 writers\n",
      "25/08/15 19:40:14 WARN MemoryManager: Total allocation exceeds 95.00% (1,020,054,720 bytes) of heap memory\n",
      "Scaling row group sizes to 84.44% for 9 writers\n",
      "25/08/15 19:40:14 WARN MemoryManager: Total allocation exceeds 95.00% (1,020,054,720 bytes) of heap memory\n",
      "Scaling row group sizes to 95.00% for 8 writers\n"
     ]
    },
    {
     "name": "stdout",
     "output_type": "stream",
     "text": [
      "Processed batch: 1000 rows, Total: 2636000 rows\n",
      "Processed batch: 1000 rows, Total: 2637000 rows\n"
     ]
    },
    {
     "name": "stderr",
     "output_type": "stream",
     "text": [
      "25/08/15 19:40:18 WARN MemoryManager: Total allocation exceeds 95.00% (1,020,054,720 bytes) of heap memory\n",
      "Scaling row group sizes to 95.00% for 8 writers\n",
      "25/08/15 19:40:18 WARN MemoryManager: Total allocation exceeds 95.00% (1,020,054,720 bytes) of heap memory\n",
      "Scaling row group sizes to 84.44% for 9 writers\n",
      "25/08/15 19:40:18 WARN MemoryManager: Total allocation exceeds 95.00% (1,020,054,720 bytes) of heap memory\n",
      "Scaling row group sizes to 76.00% for 10 writers\n",
      "25/08/15 19:40:18 WARN MemoryManager: Total allocation exceeds 95.00% (1,020,054,720 bytes) of heap memory\n",
      "Scaling row group sizes to 84.44% for 9 writers\n",
      "25/08/15 19:40:18 WARN MemoryManager: Total allocation exceeds 95.00% (1,020,054,720 bytes) of heap memory\n",
      "Scaling row group sizes to 76.00% for 10 writers\n",
      "25/08/15 19:40:18 WARN MemoryManager: Total allocation exceeds 95.00% (1,020,054,720 bytes) of heap memory\n",
      "Scaling row group sizes to 84.44% for 9 writers\n",
      "25/08/15 19:40:18 WARN MemoryManager: Total allocation exceeds 95.00% (1,020,054,720 bytes) of heap memory\n",
      "Scaling row group sizes to 95.00% for 8 writers\n",
      "25/08/15 19:40:18 WARN MemoryManager: Total allocation exceeds 95.00% (1,020,054,720 bytes) of heap memory\n",
      "Scaling row group sizes to 84.44% for 9 writers\n",
      "25/08/15 19:40:18 WARN MemoryManager: Total allocation exceeds 95.00% (1,020,054,720 bytes) of heap memory\n",
      "Scaling row group sizes to 95.00% for 8 writers\n"
     ]
    },
    {
     "name": "stdout",
     "output_type": "stream",
     "text": [
      "Processed batch: 1500 rows, Total: 2638500 rows\n",
      "Processed batch: 1000 rows, Total: 2639500 rows\n",
      "Processed batch: 1000 rows, Total: 2640500 rows\n",
      "Processed batch: 1000 rows, Total: 2641500 rows\n",
      "Processed batch: 1000 rows, Total: 2642500 rows\n",
      "Processed batch: 1000 rows, Total: 2643500 rows\n",
      "Processed batch: 1000 rows, Total: 2644500 rows\n"
     ]
    },
    {
     "name": "stderr",
     "output_type": "stream",
     "text": [
      "25/08/15 19:40:32 WARN MemoryManager: Total allocation exceeds 95.00% (1,020,054,720 bytes) of heap memory\n",
      "Scaling row group sizes to 95.00% for 8 writers\n",
      "25/08/15 19:40:32 WARN MemoryManager: Total allocation exceeds 95.00% (1,020,054,720 bytes) of heap memory\n",
      "Scaling row group sizes to 84.44% for 9 writers\n",
      "25/08/15 19:40:32 WARN MemoryManager: Total allocation exceeds 95.00% (1,020,054,720 bytes) of heap memory\n",
      "Scaling row group sizes to 76.00% for 10 writers\n",
      "25/08/15 19:40:32 WARN MemoryManager: Total allocation exceeds 95.00% (1,020,054,720 bytes) of heap memory\n",
      "Scaling row group sizes to 84.44% for 9 writers\n",
      "25/08/15 19:40:32 WARN MemoryManager: Total allocation exceeds 95.00% (1,020,054,720 bytes) of heap memory\n",
      "Scaling row group sizes to 95.00% for 8 writers\n"
     ]
    },
    {
     "name": "stdout",
     "output_type": "stream",
     "text": [
      "Processed batch: 1000 rows, Total: 2645500 rows\n"
     ]
    },
    {
     "name": "stderr",
     "output_type": "stream",
     "text": [
      "25/08/15 19:40:34 WARN MemoryManager: Total allocation exceeds 95.00% (1,020,054,720 bytes) of heap memory\n",
      "Scaling row group sizes to 95.00% for 8 writers\n"
     ]
    },
    {
     "name": "stdout",
     "output_type": "stream",
     "text": [
      "Processed batch: 1000 rows, Total: 2646500 rows\n",
      "Processed batch: 1000 rows, Total: 2647500 rows\n"
     ]
    },
    {
     "name": "stderr",
     "output_type": "stream",
     "text": [
      "25/08/15 19:40:38 WARN MemoryManager: Total allocation exceeds 95.00% (1,020,054,720 bytes) of heap memory\n",
      "Scaling row group sizes to 95.00% for 8 writers\n"
     ]
    },
    {
     "name": "stdout",
     "output_type": "stream",
     "text": [
      "Processed batch: 1000 rows, Total: 2648500 rows\n",
      "Processed batch: 1000 rows, Total: 2649500 rows\n",
      "Processed batch: 1000 rows, Total: 2650500 rows\n",
      "Processed batch: 1000 rows, Total: 2651500 rows\n",
      "Processed batch: 1000 rows, Total: 2652500 rows\n",
      "Processed batch: 1000 rows, Total: 2653500 rows\n"
     ]
    },
    {
     "name": "stderr",
     "output_type": "stream",
     "text": [
      "25/08/15 19:40:50 WARN MemoryManager: Total allocation exceeds 95.00% (1,020,054,720 bytes) of heap memory\n",
      "Scaling row group sizes to 95.00% for 8 writers\n",
      "25/08/15 19:40:50 WARN MemoryManager: Total allocation exceeds 95.00% (1,020,054,720 bytes) of heap memory\n",
      "Scaling row group sizes to 84.44% for 9 writers\n",
      "25/08/15 19:40:50 WARN MemoryManager: Total allocation exceeds 95.00% (1,020,054,720 bytes) of heap memory\n",
      "Scaling row group sizes to 95.00% for 8 writers\n",
      "25/08/15 19:40:50 WARN MemoryManager: Total allocation exceeds 95.00% (1,020,054,720 bytes) of heap memory\n",
      "Scaling row group sizes to 84.44% for 9 writers\n",
      "25/08/15 19:40:50 WARN MemoryManager: Total allocation exceeds 95.00% (1,020,054,720 bytes) of heap memory\n",
      "Scaling row group sizes to 95.00% for 8 writers\n",
      "25/08/15 19:40:50 WARN MemoryManager: Total allocation exceeds 95.00% (1,020,054,720 bytes) of heap memory\n",
      "Scaling row group sizes to 95.00% for 8 writers\n",
      "25/08/15 19:40:50 WARN MemoryManager: Total allocation exceeds 95.00% (1,020,054,720 bytes) of heap memory\n",
      "Scaling row group sizes to 84.44% for 9 writers\n",
      "25/08/15 19:40:50 WARN MemoryManager: Total allocation exceeds 95.00% (1,020,054,720 bytes) of heap memory\n",
      "Scaling row group sizes to 95.00% for 8 writers\n"
     ]
    },
    {
     "name": "stdout",
     "output_type": "stream",
     "text": [
      "Processed batch: 1500 rows, Total: 2655000 rows\n",
      "Processed batch: 1000 rows, Total: 2656000 rows\n",
      "Processed batch: 1000 rows, Total: 2657000 rows\n",
      "Processed batch: 1000 rows, Total: 2658000 rows\n",
      "Processed batch: 1000 rows, Total: 2659000 rows\n",
      "Processed batch: 1000 rows, Total: 2660000 rows\n"
     ]
    },
    {
     "name": "stderr",
     "output_type": "stream",
     "text": [
      "25/08/15 19:41:02 WARN MemoryManager: Total allocation exceeds 95.00% (1,020,054,720 bytes) of heap memory\n",
      "Scaling row group sizes to 95.00% for 8 writers\n"
     ]
    },
    {
     "name": "stdout",
     "output_type": "stream",
     "text": [
      "Processed batch: 1000 rows, Total: 2661000 rows\n",
      "Processed batch: 1000 rows, Total: 2662000 rows\n",
      "Processed batch: 1000 rows, Total: 2663000 rows\n",
      "Processed batch: 1000 rows, Total: 2664000 rows\n",
      "Processed batch: 1000 rows, Total: 2665000 rows\n",
      "Processed batch: 1000 rows, Total: 2666000 rows\n",
      "Processed batch: 1000 rows, Total: 2667000 rows\n",
      "Processed batch: 1000 rows, Total: 2668000 rows\n",
      "Processed batch: 1000 rows, Total: 2669000 rows\n"
     ]
    },
    {
     "name": "stderr",
     "output_type": "stream",
     "text": [
      "25/08/15 19:41:20 WARN MemoryManager: Total allocation exceeds 95.00% (1,020,054,720 bytes) of heap memory\n",
      "Scaling row group sizes to 95.00% for 8 writers\n"
     ]
    },
    {
     "name": "stdout",
     "output_type": "stream",
     "text": [
      "Processed batch: 1500 rows, Total: 2670500 rows\n",
      "Processed batch: 1000 rows, Total: 2671500 rows\n",
      "Processed batch: 1000 rows, Total: 2672500 rows\n",
      "Processed batch: 1000 rows, Total: 2673500 rows\n",
      "Processed batch: 1000 rows, Total: 2674500 rows\n",
      "Processed batch: 1000 rows, Total: 2675500 rows\n",
      "Processed batch: 1000 rows, Total: 2676500 rows\n"
     ]
    },
    {
     "name": "stderr",
     "output_type": "stream",
     "text": [
      "25/08/15 19:41:34 WARN MemoryManager: Total allocation exceeds 95.00% (1,020,054,720 bytes) of heap memory\n",
      "Scaling row group sizes to 95.00% for 8 writers\n"
     ]
    },
    {
     "name": "stdout",
     "output_type": "stream",
     "text": [
      "Processed batch: 1000 rows, Total: 2677500 rows\n",
      "Processed batch: 1000 rows, Total: 2678500 rows\n",
      "Processed batch: 1000 rows, Total: 2679500 rows\n",
      "Processed batch: 1000 rows, Total: 2680500 rows\n"
     ]
    },
    {
     "name": "stderr",
     "output_type": "stream",
     "text": [
      "25/08/15 19:41:42 WARN MemoryManager: Total allocation exceeds 95.00% (1,020,054,720 bytes) of heap memory\n",
      "Scaling row group sizes to 95.00% for 8 writers\n"
     ]
    },
    {
     "name": "stdout",
     "output_type": "stream",
     "text": [
      "Processed batch: 1000 rows, Total: 2681500 rows\n",
      "Processed batch: 800 rows, Total: 2682300 rows\n",
      "Processed batch: 700 rows, Total: 2683000 rows\n",
      "Processed batch: 1000 rows, Total: 2684000 rows\n",
      "Processed batch: 1000 rows, Total: 2685000 rows\n"
     ]
    },
    {
     "name": "stderr",
     "output_type": "stream",
     "text": [
      "25/08/15 19:41:52 WARN MemoryManager: Total allocation exceeds 95.00% (1,020,054,720 bytes) of heap memory\n",
      "Scaling row group sizes to 95.00% for 8 writers\n"
     ]
    },
    {
     "name": "stdout",
     "output_type": "stream",
     "text": [
      "Processed batch: 2000 rows, Total: 2687000 rows\n",
      "Processed batch: 1000 rows, Total: 2688000 rows\n"
     ]
    },
    {
     "name": "stderr",
     "output_type": "stream",
     "text": [
      "25/08/15 19:41:56 WARN MemoryManager: Total allocation exceeds 95.00% (1,020,054,720 bytes) of heap memory\n",
      "Scaling row group sizes to 95.00% for 8 writers\n"
     ]
    },
    {
     "name": "stdout",
     "output_type": "stream",
     "text": [
      "Processed batch: 1000 rows, Total: 2689000 rows\n",
      "Processed batch: 500 rows, Total: 2689500 rows\n",
      "Processed batch: 1000 rows, Total: 2690500 rows\n"
     ]
    },
    {
     "name": "stderr",
     "output_type": "stream",
     "text": [
      "25/08/15 19:42:02 WARN MemoryManager: Total allocation exceeds 95.00% (1,020,054,720 bytes) of heap memory\n",
      "Scaling row group sizes to 95.00% for 8 writers\n",
      "25/08/15 19:42:02 WARN MemoryManager: Total allocation exceeds 95.00% (1,020,054,720 bytes) of heap memory\n",
      "Scaling row group sizes to 84.44% for 9 writers\n",
      "25/08/15 19:42:02 WARN MemoryManager: Total allocation exceeds 95.00% (1,020,054,720 bytes) of heap memory\n",
      "Scaling row group sizes to 95.00% for 8 writers\n"
     ]
    },
    {
     "name": "stdout",
     "output_type": "stream",
     "text": [
      "Processed batch: 1000 rows, Total: 2691500 rows\n",
      "Processed batch: 1000 rows, Total: 2692500 rows\n",
      "Processed batch: 1000 rows, Total: 2693500 rows\n",
      "Processed batch: 1000 rows, Total: 2694500 rows\n"
     ]
    },
    {
     "name": "stderr",
     "output_type": "stream",
     "text": [
      "25/08/15 19:42:10 WARN MemoryManager: Total allocation exceeds 95.00% (1,020,054,720 bytes) of heap memory\n",
      "Scaling row group sizes to 95.00% for 8 writers\n",
      "25/08/15 19:42:10 WARN MemoryManager: Total allocation exceeds 95.00% (1,020,054,720 bytes) of heap memory\n",
      "Scaling row group sizes to 84.44% for 9 writers\n",
      "25/08/15 19:42:10 WARN MemoryManager: Total allocation exceeds 95.00% (1,020,054,720 bytes) of heap memory\n",
      "Scaling row group sizes to 76.00% for 10 writers\n",
      "25/08/15 19:42:10 WARN MemoryManager: Total allocation exceeds 95.00% (1,020,054,720 bytes) of heap memory\n",
      "Scaling row group sizes to 69.09% for 11 writers\n",
      "25/08/15 19:42:10 WARN MemoryManager: Total allocation exceeds 95.00% (1,020,054,720 bytes) of heap memory\n",
      "Scaling row group sizes to 76.00% for 10 writers\n",
      "25/08/15 19:42:10 WARN MemoryManager: Total allocation exceeds 95.00% (1,020,054,720 bytes) of heap memory\n",
      "Scaling row group sizes to 69.09% for 11 writers\n",
      "25/08/15 19:42:10 WARN MemoryManager: Total allocation exceeds 95.00% (1,020,054,720 bytes) of heap memory\n",
      "Scaling row group sizes to 76.00% for 10 writers\n",
      "25/08/15 19:42:10 WARN MemoryManager: Total allocation exceeds 95.00% (1,020,054,720 bytes) of heap memory\n",
      "Scaling row group sizes to 69.09% for 11 writers\n",
      "25/08/15 19:42:10 WARN MemoryManager: Total allocation exceeds 95.00% (1,020,054,720 bytes) of heap memory\n",
      "Scaling row group sizes to 63.33% for 12 writers\n",
      "25/08/15 19:42:10 WARN MemoryManager: Total allocation exceeds 95.00% (1,020,054,720 bytes) of heap memory\n",
      "Scaling row group sizes to 69.09% for 11 writers\n",
      "25/08/15 19:42:10 WARN MemoryManager: Total allocation exceeds 95.00% (1,020,054,720 bytes) of heap memory\n",
      "Scaling row group sizes to 63.33% for 12 writers\n",
      "25/08/15 19:42:10 WARN MemoryManager: Total allocation exceeds 95.00% (1,020,054,720 bytes) of heap memory\n",
      "Scaling row group sizes to 69.09% for 11 writers\n",
      "25/08/15 19:42:10 WARN MemoryManager: Total allocation exceeds 95.00% (1,020,054,720 bytes) of heap memory\n",
      "Scaling row group sizes to 76.00% for 10 writers\n",
      "25/08/15 19:42:10 WARN MemoryManager: Total allocation exceeds 95.00% (1,020,054,720 bytes) of heap memory\n",
      "Scaling row group sizes to 84.44% for 9 writers\n",
      "25/08/15 19:42:10 WARN MemoryManager: Total allocation exceeds 95.00% (1,020,054,720 bytes) of heap memory\n",
      "Scaling row group sizes to 95.00% for 8 writers\n",
      "25/08/15 19:42:10 WARN MemoryManager: Total allocation exceeds 95.00% (1,020,054,720 bytes) of heap memory\n",
      "Scaling row group sizes to 84.44% for 9 writers\n",
      "25/08/15 19:42:10 WARN MemoryManager: Total allocation exceeds 95.00% (1,020,054,720 bytes) of heap memory\n",
      "Scaling row group sizes to 95.00% for 8 writers\n"
     ]
    },
    {
     "name": "stdout",
     "output_type": "stream",
     "text": [
      "Processed batch: 1000 rows, Total: 2695500 rows\n",
      "Processed batch: 1000 rows, Total: 2696500 rows\n",
      "Processed batch: 1000 rows, Total: 2697500 rows\n",
      "Processed batch: 1000 rows, Total: 2698500 rows\n",
      "Processed batch: 1000 rows, Total: 2699500 rows\n",
      "Processed batch: 1000 rows, Total: 2700500 rows\n",
      "Processed batch: 1500 rows, Total: 2702000 rows\n",
      "Processed batch: 1000 rows, Total: 2703000 rows\n",
      "Processed batch: 1000 rows, Total: 2704000 rows\n",
      "Processed batch: 1000 rows, Total: 2705000 rows\n",
      "Processed batch: 1000 rows, Total: 2706000 rows\n",
      "Processed batch: 1000 rows, Total: 2707000 rows\n",
      "Processed batch: 1000 rows, Total: 2708000 rows\n",
      "Processed batch: 1000 rows, Total: 2709000 rows\n",
      "Processed batch: 1000 rows, Total: 2710000 rows\n"
     ]
    },
    {
     "name": "stderr",
     "output_type": "stream",
     "text": [
      "25/08/15 19:42:40 WARN MemoryManager: Total allocation exceeds 95.00% (1,020,054,720 bytes) of heap memory\n",
      "Scaling row group sizes to 95.00% for 8 writers\n"
     ]
    },
    {
     "name": "stdout",
     "output_type": "stream",
     "text": [
      "Processed batch: 1000 rows, Total: 2711000 rows\n",
      "Processed batch: 1000 rows, Total: 2712000 rows\n",
      "Processed batch: 1000 rows, Total: 2713000 rows\n"
     ]
    },
    {
     "name": "stderr",
     "output_type": "stream",
     "text": [
      "25/08/15 19:42:46 WARN MemoryManager: Total allocation exceeds 95.00% (1,020,054,720 bytes) of heap memory\n",
      "Scaling row group sizes to 95.00% for 8 writers\n"
     ]
    },
    {
     "name": "stdout",
     "output_type": "stream",
     "text": [
      "Processed batch: 1000 rows, Total: 2714000 rows\n"
     ]
    },
    {
     "name": "stderr",
     "output_type": "stream",
     "text": [
      "25/08/15 19:42:48 WARN MemoryManager: Total allocation exceeds 95.00% (1,020,054,720 bytes) of heap memory\n",
      "Scaling row group sizes to 95.00% for 8 writers\n"
     ]
    },
    {
     "name": "stdout",
     "output_type": "stream",
     "text": [
      "Processed batch: 1000 rows, Total: 2715000 rows\n",
      "Processed batch: 1000 rows, Total: 2716000 rows\n",
      "Processed batch: 1000 rows, Total: 2717000 rows\n",
      "Processed batch: 1500 rows, Total: 2718500 rows\n"
     ]
    },
    {
     "name": "stderr",
     "output_type": "stream",
     "text": [
      "25/08/15 19:42:56 WARN MemoryManager: Total allocation exceeds 95.00% (1,020,054,720 bytes) of heap memory\n",
      "Scaling row group sizes to 95.00% for 8 writers\n",
      "25/08/15 19:42:56 WARN MemoryManager: Total allocation exceeds 95.00% (1,020,054,720 bytes) of heap memory\n",
      "Scaling row group sizes to 84.44% for 9 writers\n",
      "25/08/15 19:42:56 WARN MemoryManager: Total allocation exceeds 95.00% (1,020,054,720 bytes) of heap memory\n",
      "Scaling row group sizes to 95.00% for 8 writers\n"
     ]
    },
    {
     "name": "stdout",
     "output_type": "stream",
     "text": [
      "Processed batch: 1000 rows, Total: 2719500 rows\n",
      "Processed batch: 1000 rows, Total: 2720500 rows\n"
     ]
    },
    {
     "name": "stderr",
     "output_type": "stream",
     "text": [
      "25/08/15 19:43:00 WARN MemoryManager: Total allocation exceeds 95.00% (1,020,054,720 bytes) of heap memory\n",
      "Scaling row group sizes to 95.00% for 8 writers\n",
      "25/08/15 19:43:00 WARN MemoryManager: Total allocation exceeds 95.00% (1,020,054,720 bytes) of heap memory\n",
      "Scaling row group sizes to 84.44% for 9 writers\n",
      "25/08/15 19:43:00 WARN MemoryManager: Total allocation exceeds 95.00% (1,020,054,720 bytes) of heap memory\n",
      "Scaling row group sizes to 95.00% for 8 writers\n",
      "25/08/15 19:43:00 WARN MemoryManager: Total allocation exceeds 95.00% (1,020,054,720 bytes) of heap memory\n",
      "Scaling row group sizes to 95.00% for 8 writers\n",
      "25/08/15 19:43:00 WARN MemoryManager: Total allocation exceeds 95.00% (1,020,054,720 bytes) of heap memory\n",
      "Scaling row group sizes to 84.44% for 9 writers\n",
      "25/08/15 19:43:00 WARN MemoryManager: Total allocation exceeds 95.00% (1,020,054,720 bytes) of heap memory\n",
      "Scaling row group sizes to 95.00% for 8 writers\n",
      "25/08/15 19:43:00 WARN MemoryManager: Total allocation exceeds 95.00% (1,020,054,720 bytes) of heap memory\n",
      "Scaling row group sizes to 84.44% for 9 writers\n",
      "25/08/15 19:43:00 WARN MemoryManager: Total allocation exceeds 95.00% (1,020,054,720 bytes) of heap memory\n",
      "Scaling row group sizes to 95.00% for 8 writers\n"
     ]
    },
    {
     "name": "stdout",
     "output_type": "stream",
     "text": [
      "Processed batch: 1000 rows, Total: 2721500 rows\n",
      "Processed batch: 1000 rows, Total: 2722500 rows\n",
      "Processed batch: 1000 rows, Total: 2723500 rows\n",
      "Processed batch: 1000 rows, Total: 2724500 rows\n",
      "Processed batch: 1000 rows, Total: 2725500 rows\n",
      "Processed batch: 1000 rows, Total: 2726500 rows\n",
      "Processed batch: 1000 rows, Total: 2727500 rows\n",
      "Processed batch: 500 rows, Total: 2728000 rows\n",
      "Processed batch: 1000 rows, Total: 2729000 rows\n",
      "Processed batch: 1000 rows, Total: 2730000 rows\n",
      "Processed batch: 1000 rows, Total: 2731000 rows\n",
      "Processed batch: 1000 rows, Total: 2732000 rows\n",
      "Processed batch: 2000 rows, Total: 2734000 rows\n",
      "Processed batch: 500 rows, Total: 2734500 rows\n",
      "Processed batch: 1000 rows, Total: 2735500 rows\n",
      "Processed batch: 1000 rows, Total: 2736500 rows\n",
      "Processed batch: 1000 rows, Total: 2737500 rows\n",
      "Processed batch: 1000 rows, Total: 2738500 rows\n",
      "Processed batch: 1000 rows, Total: 2739500 rows\n",
      "Processed batch: 1000 rows, Total: 2740500 rows\n",
      "Processed batch: 1000 rows, Total: 2741500 rows\n",
      "Processed batch: 1000 rows, Total: 2742500 rows\n",
      "Processed batch: 1000 rows, Total: 2743500 rows\n",
      "Processed batch: 1000 rows, Total: 2744500 rows\n",
      "Processed batch: 1000 rows, Total: 2745500 rows\n",
      "Processed batch: 1000 rows, Total: 2746500 rows\n"
     ]
    },
    {
     "name": "stderr",
     "output_type": "stream",
     "text": [
      "25/08/15 19:43:52 WARN MemoryManager: Total allocation exceeds 95.00% (1,020,054,720 bytes) of heap memory\n",
      "Scaling row group sizes to 95.00% for 8 writers\n",
      "25/08/15 19:43:52 WARN MemoryManager: Total allocation exceeds 95.00% (1,020,054,720 bytes) of heap memory\n",
      "Scaling row group sizes to 84.44% for 9 writers\n",
      "25/08/15 19:43:52 WARN MemoryManager: Total allocation exceeds 95.00% (1,020,054,720 bytes) of heap memory\n",
      "Scaling row group sizes to 95.00% for 8 writers\n"
     ]
    },
    {
     "name": "stdout",
     "output_type": "stream",
     "text": [
      "Processed batch: 1000 rows, Total: 2747500 rows\n",
      "Processed batch: 1000 rows, Total: 2748500 rows\n",
      "Processed batch: 1500 rows, Total: 2750000 rows\n",
      "Processed batch: 1000 rows, Total: 2751000 rows\n",
      "Processed batch: 1000 rows, Total: 2752000 rows\n",
      "Processed batch: 1000 rows, Total: 2753000 rows\n",
      "Processed batch: 1000 rows, Total: 2754000 rows\n",
      "Processed batch: 1000 rows, Total: 2755000 rows\n",
      "Processed batch: 1000 rows, Total: 2756000 rows\n",
      "Processed batch: 1000 rows, Total: 2757000 rows\n",
      "Processed batch: 1000 rows, Total: 2758000 rows\n",
      "Processed batch: 1000 rows, Total: 2759000 rows\n",
      "Processed batch: 1000 rows, Total: 2760000 rows\n"
     ]
    },
    {
     "name": "stderr",
     "output_type": "stream",
     "text": [
      "25/08/15 19:44:18 WARN MemoryManager: Total allocation exceeds 95.00% (1,020,054,720 bytes) of heap memory\n",
      "Scaling row group sizes to 95.00% for 8 writers\n",
      "25/08/15 19:44:18 WARN MemoryManager: Total allocation exceeds 95.00% (1,020,054,720 bytes) of heap memory\n",
      "Scaling row group sizes to 84.44% for 9 writers\n",
      "25/08/15 19:44:18 WARN MemoryManager: Total allocation exceeds 95.00% (1,020,054,720 bytes) of heap memory\n",
      "Scaling row group sizes to 95.00% for 8 writers\n"
     ]
    },
    {
     "name": "stdout",
     "output_type": "stream",
     "text": [
      "Processed batch: 1000 rows, Total: 2761000 rows\n",
      "Processed batch: 1000 rows, Total: 2762000 rows\n",
      "Processed batch: 1000 rows, Total: 2763000 rows\n",
      "Processed batch: 1000 rows, Total: 2764000 rows\n",
      "Processed batch: 1500 rows, Total: 2765500 rows\n"
     ]
    },
    {
     "name": "stderr",
     "output_type": "stream",
     "text": [
      "25/08/15 19:44:28 WARN MemoryManager: Total allocation exceeds 95.00% (1,020,054,720 bytes) of heap memory\n",
      "Scaling row group sizes to 95.00% for 8 writers\n"
     ]
    },
    {
     "name": "stdout",
     "output_type": "stream",
     "text": [
      "Processed batch: 1000 rows, Total: 2766500 rows\n",
      "Processed batch: 1000 rows, Total: 2767500 rows\n",
      "Processed batch: 1000 rows, Total: 2768500 rows\n",
      "Processed batch: 1000 rows, Total: 2769500 rows\n",
      "Processed batch: 1000 rows, Total: 2770500 rows\n",
      "Processed batch: 1000 rows, Total: 2771500 rows\n",
      "Processed batch: 1000 rows, Total: 2772500 rows\n",
      "Processed batch: 1000 rows, Total: 2773500 rows\n",
      "Processed batch: 1000 rows, Total: 2774500 rows\n",
      "Processed batch: 1000 rows, Total: 2775500 rows\n",
      "Processed batch: 1000 rows, Total: 2776500 rows\n",
      "Processed batch: 1000 rows, Total: 2777500 rows\n",
      "Processed batch: 1000 rows, Total: 2778500 rows\n",
      "Processed batch: 1000 rows, Total: 2779500 rows\n",
      "Processed batch: 1000 rows, Total: 2780500 rows\n",
      "Processed batch: 1500 rows, Total: 2782000 rows\n",
      "Processed batch: 1000 rows, Total: 2783000 rows\n",
      "Processed batch: 1000 rows, Total: 2784000 rows\n",
      "Processed batch: 1000 rows, Total: 2785000 rows\n",
      "Processed batch: 1000 rows, Total: 2786000 rows\n",
      "Processed batch: 1000 rows, Total: 2787000 rows\n",
      "Processed batch: 1000 rows, Total: 2788000 rows\n"
     ]
    },
    {
     "name": "stderr",
     "output_type": "stream",
     "text": [
      "25/08/15 19:45:12 WARN MemoryManager: Total allocation exceeds 95.00% (1,020,054,720 bytes) of heap memory\n",
      "Scaling row group sizes to 95.00% for 8 writers\n",
      "25/08/15 19:45:12 WARN MemoryManager: Total allocation exceeds 95.00% (1,020,054,720 bytes) of heap memory\n",
      "Scaling row group sizes to 84.44% for 9 writers\n",
      "25/08/15 19:45:12 WARN MemoryManager: Total allocation exceeds 95.00% (1,020,054,720 bytes) of heap memory\n",
      "Scaling row group sizes to 76.00% for 10 writers\n",
      "25/08/15 19:45:12 WARN MemoryManager: Total allocation exceeds 95.00% (1,020,054,720 bytes) of heap memory\n",
      "Scaling row group sizes to 69.09% for 11 writers\n",
      "25/08/15 19:45:12 WARN MemoryManager: Total allocation exceeds 95.00% (1,020,054,720 bytes) of heap memory\n",
      "Scaling row group sizes to 63.33% for 12 writers\n",
      "25/08/15 19:45:12 WARN MemoryManager: Total allocation exceeds 95.00% (1,020,054,720 bytes) of heap memory\n",
      "Scaling row group sizes to 58.46% for 13 writers\n",
      "25/08/15 19:45:12 WARN MemoryManager: Total allocation exceeds 95.00% (1,020,054,720 bytes) of heap memory\n",
      "Scaling row group sizes to 63.33% for 12 writers\n",
      "25/08/15 19:45:12 WARN MemoryManager: Total allocation exceeds 95.00% (1,020,054,720 bytes) of heap memory\n",
      "Scaling row group sizes to 69.09% for 11 writers\n",
      "25/08/15 19:45:12 WARN MemoryManager: Total allocation exceeds 95.00% (1,020,054,720 bytes) of heap memory\n",
      "Scaling row group sizes to 76.00% for 10 writers\n",
      "25/08/15 19:45:12 WARN MemoryManager: Total allocation exceeds 95.00% (1,020,054,720 bytes) of heap memory\n",
      "Scaling row group sizes to 69.09% for 11 writers\n",
      "25/08/15 19:45:12 WARN MemoryManager: Total allocation exceeds 95.00% (1,020,054,720 bytes) of heap memory\n",
      "Scaling row group sizes to 76.00% for 10 writers\n",
      "25/08/15 19:45:12 WARN MemoryManager: Total allocation exceeds 95.00% (1,020,054,720 bytes) of heap memory\n",
      "Scaling row group sizes to 84.44% for 9 writers\n",
      "25/08/15 19:45:12 WARN MemoryManager: Total allocation exceeds 95.00% (1,020,054,720 bytes) of heap memory\n",
      "Scaling row group sizes to 76.00% for 10 writers\n",
      "25/08/15 19:45:12 WARN MemoryManager: Total allocation exceeds 95.00% (1,020,054,720 bytes) of heap memory\n",
      "Scaling row group sizes to 84.44% for 9 writers\n",
      "25/08/15 19:45:12 WARN MemoryManager: Total allocation exceeds 95.00% (1,020,054,720 bytes) of heap memory\n",
      "Scaling row group sizes to 95.00% for 8 writers\n"
     ]
    },
    {
     "name": "stdout",
     "output_type": "stream",
     "text": [
      "Processed batch: 1000 rows, Total: 2789000 rows\n",
      "Processed batch: 500 rows, Total: 2789500 rows\n",
      "Processed batch: 1000 rows, Total: 2790500 rows\n",
      "Processed batch: 1000 rows, Total: 2791500 rows\n",
      "Processed batch: 1000 rows, Total: 2792500 rows\n",
      "Processed batch: 1000 rows, Total: 2793500 rows\n",
      "Processed batch: 1000 rows, Total: 2794500 rows\n",
      "Processed batch: 1000 rows, Total: 2795500 rows\n"
     ]
    },
    {
     "name": "stderr",
     "output_type": "stream",
     "text": [
      "25/08/15 19:45:28 WARN MemoryManager: Total allocation exceeds 95.00% (1,020,054,720 bytes) of heap memory\n",
      "Scaling row group sizes to 95.00% for 8 writers\n",
      "25/08/15 19:45:28 WARN MemoryManager: Total allocation exceeds 95.00% (1,020,054,720 bytes) of heap memory\n",
      "Scaling row group sizes to 84.44% for 9 writers\n",
      "25/08/15 19:45:28 WARN MemoryManager: Total allocation exceeds 95.00% (1,020,054,720 bytes) of heap memory\n",
      "Scaling row group sizes to 95.00% for 8 writers\n",
      "25/08/15 19:45:28 WARN MemoryManager: Total allocation exceeds 95.00% (1,020,054,720 bytes) of heap memory\n",
      "Scaling row group sizes to 95.00% for 8 writers\n",
      "25/08/15 19:45:28 WARN MemoryManager: Total allocation exceeds 95.00% (1,020,054,720 bytes) of heap memory\n",
      "Scaling row group sizes to 84.44% for 9 writers\n",
      "25/08/15 19:45:28 WARN MemoryManager: Total allocation exceeds 95.00% (1,020,054,720 bytes) of heap memory\n",
      "Scaling row group sizes to 95.00% for 8 writers\n",
      "25/08/15 19:45:28 WARN MemoryManager: Total allocation exceeds 95.00% (1,020,054,720 bytes) of heap memory\n",
      "Scaling row group sizes to 95.00% for 8 writers\n"
     ]
    },
    {
     "name": "stdout",
     "output_type": "stream",
     "text": [
      "Processed batch: 1500 rows, Total: 2797000 rows\n",
      "Processed batch: 1000 rows, Total: 2798000 rows\n",
      "Processed batch: 1000 rows, Total: 2799000 rows\n",
      "Processed batch: 1000 rows, Total: 2800000 rows\n"
     ]
    },
    {
     "name": "stderr",
     "output_type": "stream",
     "text": [
      "25/08/15 19:45:36 WARN MemoryManager: Total allocation exceeds 95.00% (1,020,054,720 bytes) of heap memory\n",
      "Scaling row group sizes to 95.00% for 8 writers\n",
      "25/08/15 19:45:36 WARN MemoryManager: Total allocation exceeds 95.00% (1,020,054,720 bytes) of heap memory\n",
      "Scaling row group sizes to 95.00% for 8 writers\n",
      "25/08/15 19:45:36 WARN MemoryManager: Total allocation exceeds 95.00% (1,020,054,720 bytes) of heap memory\n",
      "Scaling row group sizes to 95.00% for 8 writers\n",
      "25/08/15 19:45:36 WARN MemoryManager: Total allocation exceeds 95.00% (1,020,054,720 bytes) of heap memory\n",
      "Scaling row group sizes to 95.00% for 8 writers\n",
      "25/08/15 19:45:36 WARN MemoryManager: Total allocation exceeds 95.00% (1,020,054,720 bytes) of heap memory\n",
      "Scaling row group sizes to 95.00% for 8 writers\n"
     ]
    },
    {
     "name": "stdout",
     "output_type": "stream",
     "text": [
      "Processed batch: 1000 rows, Total: 2801000 rows\n",
      "Processed batch: 1000 rows, Total: 2802000 rows\n",
      "Processed batch: 1000 rows, Total: 2803000 rows\n",
      "Processed batch: 1000 rows, Total: 2804000 rows\n",
      "Processed batch: 1000 rows, Total: 2805000 rows\n",
      "Processed batch: 1000 rows, Total: 2806000 rows\n",
      "Processed batch: 1000 rows, Total: 2807000 rows\n",
      "Processed batch: 1000 rows, Total: 2808000 rows\n",
      "Processed batch: 1000 rows, Total: 2809000 rows\n",
      "Processed batch: 1000 rows, Total: 2810000 rows\n"
     ]
    },
    {
     "name": "stderr",
     "output_type": "stream",
     "text": [
      "25/08/15 19:45:56 WARN MemoryManager: Total allocation exceeds 95.00% (1,020,054,720 bytes) of heap memory\n",
      "Scaling row group sizes to 95.00% for 8 writers\n",
      "25/08/15 19:45:56 WARN MemoryManager: Total allocation exceeds 95.00% (1,020,054,720 bytes) of heap memory\n",
      "Scaling row group sizes to 84.44% for 9 writers\n",
      "25/08/15 19:45:56 WARN MemoryManager: Total allocation exceeds 95.00% (1,020,054,720 bytes) of heap memory\n",
      "Scaling row group sizes to 76.00% for 10 writers\n",
      "25/08/15 19:45:56 WARN MemoryManager: Total allocation exceeds 95.00% (1,020,054,720 bytes) of heap memory\n",
      "Scaling row group sizes to 69.09% for 11 writers\n",
      "25/08/15 19:45:56 WARN MemoryManager: Total allocation exceeds 95.00% (1,020,054,720 bytes) of heap memory\n",
      "Scaling row group sizes to 76.00% for 10 writers\n",
      "25/08/15 19:45:56 WARN MemoryManager: Total allocation exceeds 95.00% (1,020,054,720 bytes) of heap memory\n",
      "Scaling row group sizes to 69.09% for 11 writers\n",
      "25/08/15 19:45:56 WARN MemoryManager: Total allocation exceeds 95.00% (1,020,054,720 bytes) of heap memory\n",
      "Scaling row group sizes to 76.00% for 10 writers\n",
      "25/08/15 19:45:56 WARN MemoryManager: Total allocation exceeds 95.00% (1,020,054,720 bytes) of heap memory\n",
      "Scaling row group sizes to 69.09% for 11 writers\n",
      "25/08/15 19:45:56 WARN MemoryManager: Total allocation exceeds 95.00% (1,020,054,720 bytes) of heap memory\n",
      "Scaling row group sizes to 76.00% for 10 writers\n",
      "25/08/15 19:45:56 WARN MemoryManager: Total allocation exceeds 95.00% (1,020,054,720 bytes) of heap memory\n",
      "Scaling row group sizes to 84.44% for 9 writers\n",
      "25/08/15 19:45:56 WARN MemoryManager: Total allocation exceeds 95.00% (1,020,054,720 bytes) of heap memory\n",
      "Scaling row group sizes to 95.00% for 8 writers\n",
      "25/08/15 19:45:56 WARN MemoryManager: Total allocation exceeds 95.00% (1,020,054,720 bytes) of heap memory\n",
      "Scaling row group sizes to 95.00% for 8 writers\n"
     ]
    },
    {
     "name": "stdout",
     "output_type": "stream",
     "text": [
      "Processed batch: 1000 rows, Total: 2811000 rows\n",
      "Processed batch: 1000 rows, Total: 2812000 rows\n"
     ]
    },
    {
     "name": "stderr",
     "output_type": "stream",
     "text": [
      "25/08/15 19:46:00 WARN MemoryManager: Total allocation exceeds 95.00% (1,020,054,720 bytes) of heap memory\n",
      "Scaling row group sizes to 95.00% for 8 writers\n",
      "25/08/15 19:46:00 WARN MemoryManager: Total allocation exceeds 95.00% (1,020,054,720 bytes) of heap memory\n",
      "Scaling row group sizes to 84.44% for 9 writers\n",
      "25/08/15 19:46:00 WARN MemoryManager: Total allocation exceeds 95.00% (1,020,054,720 bytes) of heap memory\n",
      "Scaling row group sizes to 76.00% for 10 writers\n",
      "25/08/15 19:46:00 WARN MemoryManager: Total allocation exceeds 95.00% (1,020,054,720 bytes) of heap memory\n",
      "Scaling row group sizes to 69.09% for 11 writers\n",
      "25/08/15 19:46:00 WARN MemoryManager: Total allocation exceeds 95.00% (1,020,054,720 bytes) of heap memory\n",
      "Scaling row group sizes to 76.00% for 10 writers\n",
      "25/08/15 19:46:00 WARN MemoryManager: Total allocation exceeds 95.00% (1,020,054,720 bytes) of heap memory\n",
      "Scaling row group sizes to 84.44% for 9 writers\n",
      "25/08/15 19:46:00 WARN MemoryManager: Total allocation exceeds 95.00% (1,020,054,720 bytes) of heap memory\n",
      "Scaling row group sizes to 76.00% for 10 writers\n",
      "25/08/15 19:46:00 WARN MemoryManager: Total allocation exceeds 95.00% (1,020,054,720 bytes) of heap memory\n",
      "Scaling row group sizes to 69.09% for 11 writers\n",
      "25/08/15 19:46:00 WARN MemoryManager: Total allocation exceeds 95.00% (1,020,054,720 bytes) of heap memory\n",
      "Scaling row group sizes to 76.00% for 10 writers\n",
      "25/08/15 19:46:00 WARN MemoryManager: Total allocation exceeds 95.00% (1,020,054,720 bytes) of heap memory\n",
      "Scaling row group sizes to 84.44% for 9 writers\n",
      "25/08/15 19:46:00 WARN MemoryManager: Total allocation exceeds 95.00% (1,020,054,720 bytes) of heap memory\n",
      "Scaling row group sizes to 95.00% for 8 writers\n"
     ]
    },
    {
     "name": "stdout",
     "output_type": "stream",
     "text": [
      "Processed batch: 1500 rows, Total: 2813500 rows\n",
      "Processed batch: 1000 rows, Total: 2814500 rows\n"
     ]
    },
    {
     "name": "stderr",
     "output_type": "stream",
     "text": [
      "25/08/15 19:46:04 WARN MemoryManager: Total allocation exceeds 95.00% (1,020,054,720 bytes) of heap memory\n",
      "Scaling row group sizes to 95.00% for 8 writers\n",
      "25/08/15 19:46:04 WARN MemoryManager: Total allocation exceeds 95.00% (1,020,054,720 bytes) of heap memory\n",
      "Scaling row group sizes to 95.00% for 8 writers\n",
      "25/08/15 19:46:04 WARN MemoryManager: Total allocation exceeds 95.00% (1,020,054,720 bytes) of heap memory\n",
      "Scaling row group sizes to 95.00% for 8 writers\n",
      "25/08/15 19:46:04 WARN MemoryManager: Total allocation exceeds 95.00% (1,020,054,720 bytes) of heap memory\n",
      "Scaling row group sizes to 84.44% for 9 writers\n",
      "25/08/15 19:46:04 WARN MemoryManager: Total allocation exceeds 95.00% (1,020,054,720 bytes) of heap memory\n",
      "Scaling row group sizes to 95.00% for 8 writers\n"
     ]
    },
    {
     "name": "stdout",
     "output_type": "stream",
     "text": [
      "Processed batch: 1000 rows, Total: 2815500 rows\n",
      "Processed batch: 1000 rows, Total: 2816500 rows\n"
     ]
    },
    {
     "name": "stderr",
     "output_type": "stream",
     "text": [
      "25/08/15 19:46:08 WARN MemoryManager: Total allocation exceeds 95.00% (1,020,054,720 bytes) of heap memory\n",
      "Scaling row group sizes to 95.00% for 8 writers\n"
     ]
    },
    {
     "name": "stdout",
     "output_type": "stream",
     "text": [
      "Processed batch: 1000 rows, Total: 2817500 rows\n",
      "Processed batch: 1000 rows, Total: 2818500 rows\n",
      "Processed batch: 1000 rows, Total: 2819500 rows\n",
      "Processed batch: 1000 rows, Total: 2820500 rows\n",
      "Processed batch: 1000 rows, Total: 2821500 rows\n",
      "Processed batch: 1000 rows, Total: 2822500 rows\n",
      "Processed batch: 1000 rows, Total: 2823500 rows\n",
      "Processed batch: 1000 rows, Total: 2824500 rows\n",
      "Processed batch: 1000 rows, Total: 2825500 rows\n",
      "Processed batch: 1000 rows, Total: 2826500 rows\n",
      "Processed batch: 1000 rows, Total: 2827500 rows\n",
      "Processed batch: 1500 rows, Total: 2829000 rows\n",
      "Processed batch: 1000 rows, Total: 2830000 rows\n",
      "Processed batch: 770 rows, Total: 2830770 rows\n",
      "Processed batch: 730 rows, Total: 2831500 rows\n",
      "Processed batch: 1000 rows, Total: 2832500 rows\n",
      "Processed batch: 1000 rows, Total: 2833500 rows\n",
      "Processed batch: 1000 rows, Total: 2834500 rows\n"
     ]
    },
    {
     "name": "stderr",
     "output_type": "stream",
     "text": [
      "25/08/15 19:46:44 WARN MemoryManager: Total allocation exceeds 95.00% (1,020,054,720 bytes) of heap memory\n",
      "Scaling row group sizes to 95.00% for 8 writers\n",
      "25/08/15 19:46:44 WARN MemoryManager: Total allocation exceeds 95.00% (1,020,054,720 bytes) of heap memory\n",
      "Scaling row group sizes to 95.00% for 8 writers\n"
     ]
    },
    {
     "name": "stdout",
     "output_type": "stream",
     "text": [
      "Processed batch: 1000 rows, Total: 2835500 rows\n",
      "Processed batch: 1000 rows, Total: 2836500 rows\n",
      "Processed batch: 1000 rows, Total: 2837500 rows\n",
      "Processed batch: 1000 rows, Total: 2838500 rows\n",
      "Processed batch: 1000 rows, Total: 2839500 rows\n",
      "Processed batch: 1000 rows, Total: 2840500 rows\n",
      "Processed batch: 1000 rows, Total: 2841500 rows\n",
      "Processed batch: 1000 rows, Total: 2842500 rows\n"
     ]
    },
    {
     "name": "stderr",
     "output_type": "stream",
     "text": [
      "25/08/15 19:47:00 WARN MemoryManager: Total allocation exceeds 95.00% (1,020,054,720 bytes) of heap memory\n",
      "Scaling row group sizes to 95.00% for 8 writers\n",
      "25/08/15 19:47:00 WARN MemoryManager: Total allocation exceeds 95.00% (1,020,054,720 bytes) of heap memory\n",
      "Scaling row group sizes to 84.44% for 9 writers\n",
      "25/08/15 19:47:00 WARN MemoryManager: Total allocation exceeds 95.00% (1,020,054,720 bytes) of heap memory\n",
      "Scaling row group sizes to 76.00% for 10 writers\n",
      "25/08/15 19:47:00 WARN MemoryManager: Total allocation exceeds 95.00% (1,020,054,720 bytes) of heap memory\n",
      "Scaling row group sizes to 69.09% for 11 writers\n",
      "25/08/15 19:47:00 WARN MemoryManager: Total allocation exceeds 95.00% (1,020,054,720 bytes) of heap memory\n",
      "Scaling row group sizes to 63.33% for 12 writers\n",
      "25/08/15 19:47:00 WARN MemoryManager: Total allocation exceeds 95.00% (1,020,054,720 bytes) of heap memory\n",
      "Scaling row group sizes to 58.46% for 13 writers\n",
      "25/08/15 19:47:00 WARN MemoryManager: Total allocation exceeds 95.00% (1,020,054,720 bytes) of heap memory\n",
      "Scaling row group sizes to 63.33% for 12 writers\n",
      "25/08/15 19:47:00 WARN MemoryManager: Total allocation exceeds 95.00% (1,020,054,720 bytes) of heap memory\n",
      "Scaling row group sizes to 69.09% for 11 writers\n",
      "25/08/15 19:47:00 WARN MemoryManager: Total allocation exceeds 95.00% (1,020,054,720 bytes) of heap memory\n",
      "Scaling row group sizes to 76.00% for 10 writers\n",
      "25/08/15 19:47:00 WARN MemoryManager: Total allocation exceeds 95.00% (1,020,054,720 bytes) of heap memory\n",
      "Scaling row group sizes to 69.09% for 11 writers\n",
      "25/08/15 19:47:00 WARN MemoryManager: Total allocation exceeds 95.00% (1,020,054,720 bytes) of heap memory\n",
      "Scaling row group sizes to 76.00% for 10 writers\n",
      "25/08/15 19:47:00 WARN MemoryManager: Total allocation exceeds 95.00% (1,020,054,720 bytes) of heap memory\n",
      "Scaling row group sizes to 84.44% for 9 writers\n",
      "25/08/15 19:47:00 WARN MemoryManager: Total allocation exceeds 95.00% (1,020,054,720 bytes) of heap memory\n",
      "Scaling row group sizes to 76.00% for 10 writers\n",
      "25/08/15 19:47:00 WARN MemoryManager: Total allocation exceeds 95.00% (1,020,054,720 bytes) of heap memory\n",
      "Scaling row group sizes to 84.44% for 9 writers\n",
      "25/08/15 19:47:00 WARN MemoryManager: Total allocation exceeds 95.00% (1,020,054,720 bytes) of heap memory\n",
      "Scaling row group sizes to 95.00% for 8 writers\n"
     ]
    },
    {
     "name": "stdout",
     "output_type": "stream",
     "text": [
      "Processed batch: 1000 rows, Total: 2843500 rows\n",
      "Processed batch: 1500 rows, Total: 2845000 rows\n",
      "Processed batch: 1000 rows, Total: 2846000 rows\n",
      "Processed batch: 1000 rows, Total: 2847000 rows\n",
      "Processed batch: 1000 rows, Total: 2848000 rows\n",
      "Processed batch: 1000 rows, Total: 2849000 rows\n",
      "Processed batch: 1000 rows, Total: 2850000 rows\n",
      "Processed batch: 1000 rows, Total: 2851000 rows\n",
      "Processed batch: 1000 rows, Total: 2852000 rows\n",
      "Processed batch: 1000 rows, Total: 2853000 rows\n"
     ]
    },
    {
     "name": "stderr",
     "output_type": "stream",
     "text": [
      "25/08/15 19:47:20 WARN MemoryManager: Total allocation exceeds 95.00% (1,020,054,720 bytes) of heap memory\n",
      "Scaling row group sizes to 95.00% for 8 writers\n"
     ]
    },
    {
     "name": "stdout",
     "output_type": "stream",
     "text": [
      "Processed batch: 1000 rows, Total: 2854000 rows\n",
      "Processed batch: 1000 rows, Total: 2855000 rows\n"
     ]
    },
    {
     "name": "stderr",
     "output_type": "stream",
     "text": [
      "25/08/15 19:47:24 WARN MemoryManager: Total allocation exceeds 95.00% (1,020,054,720 bytes) of heap memory\n",
      "Scaling row group sizes to 95.00% for 8 writers\n"
     ]
    },
    {
     "name": "stdout",
     "output_type": "stream",
     "text": [
      "Processed batch: 1000 rows, Total: 2856000 rows\n"
     ]
    },
    {
     "name": "stderr",
     "output_type": "stream",
     "text": [
      "25/08/15 19:47:26 WARN MemoryManager: Total allocation exceeds 95.00% (1,020,054,720 bytes) of heap memory\n",
      "Scaling row group sizes to 95.00% for 8 writers\n",
      "25/08/15 19:47:26 WARN MemoryManager: Total allocation exceeds 95.00% (1,020,054,720 bytes) of heap memory\n",
      "Scaling row group sizes to 84.44% for 9 writers\n",
      "25/08/15 19:47:26 WARN MemoryManager: Total allocation exceeds 95.00% (1,020,054,720 bytes) of heap memory\n",
      "Scaling row group sizes to 76.00% for 10 writers\n",
      "25/08/15 19:47:26 WARN MemoryManager: Total allocation exceeds 95.00% (1,020,054,720 bytes) of heap memory\n",
      "Scaling row group sizes to 69.09% for 11 writers\n",
      "25/08/15 19:47:26 WARN MemoryManager: Total allocation exceeds 95.00% (1,020,054,720 bytes) of heap memory\n",
      "Scaling row group sizes to 63.33% for 12 writers\n",
      "25/08/15 19:47:26 WARN MemoryManager: Total allocation exceeds 95.00% (1,020,054,720 bytes) of heap memory\n",
      "Scaling row group sizes to 58.46% for 13 writers\n",
      "25/08/15 19:47:26 WARN MemoryManager: Total allocation exceeds 95.00% (1,020,054,720 bytes) of heap memory\n",
      "Scaling row group sizes to 63.33% for 12 writers\n",
      "25/08/15 19:47:26 WARN MemoryManager: Total allocation exceeds 95.00% (1,020,054,720 bytes) of heap memory\n",
      "Scaling row group sizes to 69.09% for 11 writers\n",
      "25/08/15 19:47:26 WARN MemoryManager: Total allocation exceeds 95.00% (1,020,054,720 bytes) of heap memory\n",
      "Scaling row group sizes to 76.00% for 10 writers\n",
      "25/08/15 19:47:26 WARN MemoryManager: Total allocation exceeds 95.00% (1,020,054,720 bytes) of heap memory\n",
      "Scaling row group sizes to 84.44% for 9 writers\n",
      "25/08/15 19:47:26 WARN MemoryManager: Total allocation exceeds 95.00% (1,020,054,720 bytes) of heap memory\n",
      "Scaling row group sizes to 95.00% for 8 writers\n"
     ]
    },
    {
     "name": "stdout",
     "output_type": "stream",
     "text": [
      "Processed batch: 1000 rows, Total: 2857000 rows\n",
      "Processed batch: 1000 rows, Total: 2858000 rows\n",
      "Processed batch: 1000 rows, Total: 2859000 rows\n"
     ]
    },
    {
     "name": "stderr",
     "output_type": "stream",
     "text": [
      "25/08/15 19:47:32 WARN MemoryManager: Total allocation exceeds 95.00% (1,020,054,720 bytes) of heap memory\n",
      "Scaling row group sizes to 95.00% for 8 writers\n",
      "25/08/15 19:47:32 WARN MemoryManager: Total allocation exceeds 95.00% (1,020,054,720 bytes) of heap memory\n",
      "Scaling row group sizes to 84.44% for 9 writers\n",
      "25/08/15 19:47:32 WARN MemoryManager: Total allocation exceeds 95.00% (1,020,054,720 bytes) of heap memory\n",
      "Scaling row group sizes to 76.00% for 10 writers\n",
      "25/08/15 19:47:32 WARN MemoryManager: Total allocation exceeds 95.00% (1,020,054,720 bytes) of heap memory\n",
      "Scaling row group sizes to 69.09% for 11 writers\n",
      "25/08/15 19:47:32 WARN MemoryManager: Total allocation exceeds 95.00% (1,020,054,720 bytes) of heap memory\n",
      "Scaling row group sizes to 76.00% for 10 writers\n",
      "25/08/15 19:47:32 WARN MemoryManager: Total allocation exceeds 95.00% (1,020,054,720 bytes) of heap memory\n",
      "Scaling row group sizes to 84.44% for 9 writers\n",
      "25/08/15 19:47:32 WARN MemoryManager: Total allocation exceeds 95.00% (1,020,054,720 bytes) of heap memory\n",
      "Scaling row group sizes to 76.00% for 10 writers\n",
      "25/08/15 19:47:32 WARN MemoryManager: Total allocation exceeds 95.00% (1,020,054,720 bytes) of heap memory\n",
      "Scaling row group sizes to 84.44% for 9 writers\n",
      "25/08/15 19:47:32 WARN MemoryManager: Total allocation exceeds 95.00% (1,020,054,720 bytes) of heap memory\n",
      "Scaling row group sizes to 95.00% for 8 writers\n"
     ]
    },
    {
     "name": "stdout",
     "output_type": "stream",
     "text": [
      "Processed batch: 1500 rows, Total: 2860500 rows\n",
      "Processed batch: 1000 rows, Total: 2861500 rows\n",
      "Processed batch: 1000 rows, Total: 2862500 rows\n",
      "Processed batch: 1000 rows, Total: 2863500 rows\n",
      "Processed batch: 1000 rows, Total: 2864500 rows\n",
      "Processed batch: 1000 rows, Total: 2865500 rows\n"
     ]
    },
    {
     "name": "stderr",
     "output_type": "stream",
     "text": [
      "25/08/15 19:47:44 WARN MemoryManager: Total allocation exceeds 95.00% (1,020,054,720 bytes) of heap memory\n",
      "Scaling row group sizes to 95.00% for 8 writers\n",
      "25/08/15 19:47:44 WARN MemoryManager: Total allocation exceeds 95.00% (1,020,054,720 bytes) of heap memory\n",
      "Scaling row group sizes to 84.44% for 9 writers\n",
      "25/08/15 19:47:44 WARN MemoryManager: Total allocation exceeds 95.00% (1,020,054,720 bytes) of heap memory\n",
      "Scaling row group sizes to 76.00% for 10 writers\n",
      "25/08/15 19:47:44 WARN MemoryManager: Total allocation exceeds 95.00% (1,020,054,720 bytes) of heap memory\n",
      "Scaling row group sizes to 69.09% for 11 writers\n",
      "25/08/15 19:47:44 WARN MemoryManager: Total allocation exceeds 95.00% (1,020,054,720 bytes) of heap memory\n",
      "Scaling row group sizes to 63.33% for 12 writers\n",
      "25/08/15 19:47:44 WARN MemoryManager: Total allocation exceeds 95.00% (1,020,054,720 bytes) of heap memory\n",
      "Scaling row group sizes to 69.09% for 11 writers\n",
      "25/08/15 19:47:44 WARN MemoryManager: Total allocation exceeds 95.00% (1,020,054,720 bytes) of heap memory\n",
      "Scaling row group sizes to 76.00% for 10 writers\n",
      "25/08/15 19:47:44 WARN MemoryManager: Total allocation exceeds 95.00% (1,020,054,720 bytes) of heap memory\n",
      "Scaling row group sizes to 84.44% for 9 writers\n",
      "25/08/15 19:47:44 WARN MemoryManager: Total allocation exceeds 95.00% (1,020,054,720 bytes) of heap memory\n",
      "Scaling row group sizes to 76.00% for 10 writers\n",
      "25/08/15 19:47:44 WARN MemoryManager: Total allocation exceeds 95.00% (1,020,054,720 bytes) of heap memory\n",
      "Scaling row group sizes to 84.44% for 9 writers\n",
      "25/08/15 19:47:44 WARN MemoryManager: Total allocation exceeds 95.00% (1,020,054,720 bytes) of heap memory\n",
      "Scaling row group sizes to 95.00% for 8 writers\n"
     ]
    },
    {
     "name": "stdout",
     "output_type": "stream",
     "text": [
      "Processed batch: 1000 rows, Total: 2866500 rows\n",
      "Processed batch: 1000 rows, Total: 2867500 rows\n",
      "Processed batch: 1000 rows, Total: 2868500 rows\n",
      "Processed batch: 1000 rows, Total: 2869500 rows\n",
      "Processed batch: 1000 rows, Total: 2870500 rows\n"
     ]
    },
    {
     "name": "stderr",
     "output_type": "stream",
     "text": [
      "25/08/15 19:47:54 WARN MemoryManager: Total allocation exceeds 95.00% (1,020,054,720 bytes) of heap memory\n",
      "Scaling row group sizes to 95.00% for 8 writers\n"
     ]
    },
    {
     "name": "stdout",
     "output_type": "stream",
     "text": [
      "Processed batch: 1000 rows, Total: 2871500 rows\n",
      "Processed batch: 1000 rows, Total: 2872500 rows\n",
      "Processed batch: 1000 rows, Total: 2873500 rows\n",
      "Processed batch: 1000 rows, Total: 2874500 rows\n",
      "Processed batch: 1000 rows, Total: 2875500 rows\n"
     ]
    },
    {
     "name": "stderr",
     "output_type": "stream",
     "text": [
      "25/08/15 19:48:04 WARN MemoryManager: Total allocation exceeds 95.00% (1,020,054,720 bytes) of heap memory\n",
      "Scaling row group sizes to 95.00% for 8 writers\n"
     ]
    },
    {
     "name": "stdout",
     "output_type": "stream",
     "text": [
      "Processed batch: 1500 rows, Total: 2877000 rows\n"
     ]
    },
    {
     "name": "stderr",
     "output_type": "stream",
     "text": [
      "25/08/15 19:48:06 WARN MemoryManager: Total allocation exceeds 95.00% (1,020,054,720 bytes) of heap memory\n",
      "Scaling row group sizes to 95.00% for 8 writers\n"
     ]
    },
    {
     "name": "stdout",
     "output_type": "stream",
     "text": [
      "Processed batch: 1000 rows, Total: 2878000 rows\n",
      "Processed batch: 1000 rows, Total: 2879000 rows\n",
      "Processed batch: 1000 rows, Total: 2880000 rows\n"
     ]
    },
    {
     "name": "stderr",
     "output_type": "stream",
     "text": [
      "25/08/15 19:48:12 WARN MemoryManager: Total allocation exceeds 95.00% (1,020,054,720 bytes) of heap memory\n",
      "Scaling row group sizes to 95.00% for 8 writers\n",
      "25/08/15 19:48:12 WARN MemoryManager: Total allocation exceeds 95.00% (1,020,054,720 bytes) of heap memory\n",
      "Scaling row group sizes to 84.44% for 9 writers\n",
      "25/08/15 19:48:12 WARN MemoryManager: Total allocation exceeds 95.00% (1,020,054,720 bytes) of heap memory\n",
      "Scaling row group sizes to 95.00% for 8 writers\n",
      "25/08/15 19:48:12 WARN MemoryManager: Total allocation exceeds 95.00% (1,020,054,720 bytes) of heap memory\n",
      "Scaling row group sizes to 84.44% for 9 writers\n",
      "25/08/15 19:48:12 WARN MemoryManager: Total allocation exceeds 95.00% (1,020,054,720 bytes) of heap memory\n",
      "Scaling row group sizes to 95.00% for 8 writers\n"
     ]
    },
    {
     "name": "stdout",
     "output_type": "stream",
     "text": [
      "Processed batch: 1000 rows, Total: 2881000 rows\n",
      "Processed batch: 1000 rows, Total: 2882000 rows\n",
      "Processed batch: 1000 rows, Total: 2883000 rows\n",
      "Processed batch: 1000 rows, Total: 2884000 rows\n",
      "Processed batch: 1000 rows, Total: 2885000 rows\n",
      "Processed batch: 1000 rows, Total: 2886000 rows\n",
      "Processed batch: 898 rows, Total: 2886898 rows\n"
     ]
    },
    {
     "name": "stderr",
     "output_type": "stream",
     "text": [
      "25/08/15 19:48:26 WARN MemoryManager: Total allocation exceeds 95.00% (1,020,054,720 bytes) of heap memory\n",
      "Scaling row group sizes to 95.00% for 8 writers\n",
      "25/08/15 19:48:26 WARN MemoryManager: Total allocation exceeds 95.00% (1,020,054,720 bytes) of heap memory\n",
      "Scaling row group sizes to 84.44% for 9 writers\n",
      "25/08/15 19:48:26 WARN MemoryManager: Total allocation exceeds 95.00% (1,020,054,720 bytes) of heap memory\n",
      "Scaling row group sizes to 95.00% for 8 writers\n"
     ]
    },
    {
     "name": "stdout",
     "output_type": "stream",
     "text": [
      "Processed batch: 602 rows, Total: 2887500 rows\n",
      "Processed batch: 1000 rows, Total: 2888500 rows\n",
      "Processed batch: 1000 rows, Total: 2889500 rows\n"
     ]
    },
    {
     "name": "stderr",
     "output_type": "stream",
     "text": [
      "25/08/15 19:48:32 WARN MemoryManager: Total allocation exceeds 95.00% (1,020,054,720 bytes) of heap memory\n",
      "Scaling row group sizes to 95.00% for 8 writers\n",
      "25/08/15 19:48:32 WARN MemoryManager: Total allocation exceeds 95.00% (1,020,054,720 bytes) of heap memory\n",
      "Scaling row group sizes to 95.00% for 8 writers\n",
      "25/08/15 19:48:32 WARN MemoryManager: Total allocation exceeds 95.00% (1,020,054,720 bytes) of heap memory\n",
      "Scaling row group sizes to 84.44% for 9 writers\n",
      "25/08/15 19:48:32 WARN MemoryManager: Total allocation exceeds 95.00% (1,020,054,720 bytes) of heap memory\n",
      "Scaling row group sizes to 95.00% for 8 writers\n",
      "25/08/15 19:48:32 WARN MemoryManager: Total allocation exceeds 95.00% (1,020,054,720 bytes) of heap memory\n",
      "Scaling row group sizes to 95.00% for 8 writers\n",
      "25/08/15 19:48:32 WARN MemoryManager: Total allocation exceeds 95.00% (1,020,054,720 bytes) of heap memory\n",
      "Scaling row group sizes to 84.44% for 9 writers\n",
      "25/08/15 19:48:32 WARN MemoryManager: Total allocation exceeds 95.00% (1,020,054,720 bytes) of heap memory\n",
      "Scaling row group sizes to 76.00% for 10 writers\n",
      "25/08/15 19:48:32 WARN MemoryManager: Total allocation exceeds 95.00% (1,020,054,720 bytes) of heap memory\n",
      "Scaling row group sizes to 84.44% for 9 writers\n",
      "25/08/15 19:48:32 WARN MemoryManager: Total allocation exceeds 95.00% (1,020,054,720 bytes) of heap memory\n",
      "Scaling row group sizes to 95.00% for 8 writers\n"
     ]
    },
    {
     "name": "stdout",
     "output_type": "stream",
     "text": [
      "Processed batch: 1000 rows, Total: 2890500 rows\n",
      "Processed batch: 2000 rows, Total: 2892500 rows\n"
     ]
    },
    {
     "name": "stderr",
     "output_type": "stream",
     "text": [
      "25/08/15 19:48:36 WARN MemoryManager: Total allocation exceeds 95.00% (1,020,054,720 bytes) of heap memory\n",
      "Scaling row group sizes to 95.00% for 8 writers\n",
      "25/08/15 19:48:36 WARN MemoryManager: Total allocation exceeds 95.00% (1,020,054,720 bytes) of heap memory\n",
      "Scaling row group sizes to 95.00% for 8 writers\n",
      "25/08/15 19:48:36 WARN MemoryManager: Total allocation exceeds 95.00% (1,020,054,720 bytes) of heap memory\n",
      "Scaling row group sizes to 95.00% for 8 writers\n"
     ]
    },
    {
     "name": "stdout",
     "output_type": "stream",
     "text": [
      "Processed batch: 1000 rows, Total: 2893500 rows\n"
     ]
    },
    {
     "name": "stderr",
     "output_type": "stream",
     "text": [
      "25/08/15 19:48:38 WARN MemoryManager: Total allocation exceeds 95.00% (1,020,054,720 bytes) of heap memory\n",
      "Scaling row group sizes to 95.00% for 8 writers\n",
      "25/08/15 19:48:38 WARN MemoryManager: Total allocation exceeds 95.00% (1,020,054,720 bytes) of heap memory\n",
      "Scaling row group sizes to 84.44% for 9 writers\n",
      "25/08/15 19:48:38 WARN MemoryManager: Total allocation exceeds 95.00% (1,020,054,720 bytes) of heap memory\n",
      "Scaling row group sizes to 76.00% for 10 writers\n",
      "25/08/15 19:48:38 WARN MemoryManager: Total allocation exceeds 95.00% (1,020,054,720 bytes) of heap memory\n",
      "Scaling row group sizes to 69.09% for 11 writers\n",
      "25/08/15 19:48:38 WARN MemoryManager: Total allocation exceeds 95.00% (1,020,054,720 bytes) of heap memory\n",
      "Scaling row group sizes to 63.33% for 12 writers\n",
      "25/08/15 19:48:38 WARN MemoryManager: Total allocation exceeds 95.00% (1,020,054,720 bytes) of heap memory\n",
      "Scaling row group sizes to 69.09% for 11 writers\n",
      "25/08/15 19:48:38 WARN MemoryManager: Total allocation exceeds 95.00% (1,020,054,720 bytes) of heap memory\n",
      "Scaling row group sizes to 76.00% for 10 writers\n",
      "25/08/15 19:48:38 WARN MemoryManager: Total allocation exceeds 95.00% (1,020,054,720 bytes) of heap memory\n",
      "Scaling row group sizes to 84.44% for 9 writers\n",
      "25/08/15 19:48:38 WARN MemoryManager: Total allocation exceeds 95.00% (1,020,054,720 bytes) of heap memory\n",
      "Scaling row group sizes to 95.00% for 8 writers\n"
     ]
    },
    {
     "name": "stdout",
     "output_type": "stream",
     "text": [
      "Processed batch: 686 rows, Total: 2894186 rows\n",
      "Processed batch: 814 rows, Total: 2895000 rows\n",
      "Processed batch: 1000 rows, Total: 2896000 rows\n",
      "Processed batch: 1000 rows, Total: 2897000 rows\n"
     ]
    },
    {
     "name": "stderr",
     "output_type": "stream",
     "text": [
      "25/08/15 19:48:46 WARN MemoryManager: Total allocation exceeds 95.00% (1,020,054,720 bytes) of heap memory\n",
      "Scaling row group sizes to 95.00% for 8 writers\n"
     ]
    },
    {
     "name": "stdout",
     "output_type": "stream",
     "text": [
      "Processed batch: 1000 rows, Total: 2898000 rows\n",
      "Processed batch: 1000 rows, Total: 2899000 rows\n"
     ]
    },
    {
     "name": "stderr",
     "output_type": "stream",
     "text": [
      "25/08/15 19:48:50 WARN MemoryManager: Total allocation exceeds 95.00% (1,020,054,720 bytes) of heap memory\n",
      "Scaling row group sizes to 95.00% for 8 writers\n",
      "25/08/15 19:48:50 WARN MemoryManager: Total allocation exceeds 95.00% (1,020,054,720 bytes) of heap memory\n",
      "Scaling row group sizes to 95.00% for 8 writers\n",
      "25/08/15 19:48:50 WARN MemoryManager: Total allocation exceeds 95.00% (1,020,054,720 bytes) of heap memory\n",
      "Scaling row group sizes to 84.44% for 9 writers\n",
      "25/08/15 19:48:50 WARN MemoryManager: Total allocation exceeds 95.00% (1,020,054,720 bytes) of heap memory\n",
      "Scaling row group sizes to 95.00% for 8 writers\n",
      "25/08/15 19:48:50 WARN MemoryManager: Total allocation exceeds 95.00% (1,020,054,720 bytes) of heap memory\n",
      "Scaling row group sizes to 95.00% for 8 writers\n"
     ]
    },
    {
     "name": "stdout",
     "output_type": "stream",
     "text": [
      "Processed batch: 1000 rows, Total: 2900000 rows\n",
      "Processed batch: 1000 rows, Total: 2901000 rows\n",
      "Processed batch: 1000 rows, Total: 2902000 rows\n"
     ]
    },
    {
     "name": "stderr",
     "output_type": "stream",
     "text": [
      "25/08/15 19:48:56 WARN MemoryManager: Total allocation exceeds 95.00% (1,020,054,720 bytes) of heap memory\n",
      "Scaling row group sizes to 95.00% for 8 writers\n",
      "25/08/15 19:48:56 WARN MemoryManager: Total allocation exceeds 95.00% (1,020,054,720 bytes) of heap memory\n",
      "Scaling row group sizes to 95.00% for 8 writers\n"
     ]
    },
    {
     "name": "stdout",
     "output_type": "stream",
     "text": [
      "Processed batch: 1000 rows, Total: 2903000 rows\n",
      "Processed batch: 1000 rows, Total: 2904000 rows\n",
      "Processed batch: 1000 rows, Total: 2905000 rows\n",
      "Processed batch: 1000 rows, Total: 2906000 rows\n"
     ]
    },
    {
     "name": "stderr",
     "output_type": "stream",
     "text": [
      "25/08/15 19:49:04 WARN MemoryManager: Total allocation exceeds 95.00% (1,020,054,720 bytes) of heap memory\n",
      "Scaling row group sizes to 95.00% for 8 writers\n",
      "25/08/15 19:49:04 WARN MemoryManager: Total allocation exceeds 95.00% (1,020,054,720 bytes) of heap memory\n",
      "Scaling row group sizes to 84.44% for 9 writers\n",
      "25/08/15 19:49:04 WARN MemoryManager: Total allocation exceeds 95.00% (1,020,054,720 bytes) of heap memory\n",
      "Scaling row group sizes to 95.00% for 8 writers\n",
      "25/08/15 19:49:04 WARN MemoryManager: Total allocation exceeds 95.00% (1,020,054,720 bytes) of heap memory\n",
      "Scaling row group sizes to 84.44% for 9 writers\n",
      "25/08/15 19:49:04 WARN MemoryManager: Total allocation exceeds 95.00% (1,020,054,720 bytes) of heap memory\n",
      "Scaling row group sizes to 95.00% for 8 writers\n",
      "25/08/15 19:49:04 WARN MemoryManager: Total allocation exceeds 95.00% (1,020,054,720 bytes) of heap memory\n",
      "Scaling row group sizes to 84.44% for 9 writers\n",
      "25/08/15 19:49:04 WARN MemoryManager: Total allocation exceeds 95.00% (1,020,054,720 bytes) of heap memory\n",
      "Scaling row group sizes to 95.00% for 8 writers\n"
     ]
    },
    {
     "name": "stdout",
     "output_type": "stream",
     "text": [
      "Processed batch: 1000 rows, Total: 2907000 rows\n"
     ]
    },
    {
     "name": "stderr",
     "output_type": "stream",
     "text": [
      "25/08/15 19:49:06 WARN MemoryManager: Total allocation exceeds 95.00% (1,020,054,720 bytes) of heap memory\n",
      "Scaling row group sizes to 95.00% for 8 writers\n",
      "25/08/15 19:49:06 WARN MemoryManager: Total allocation exceeds 95.00% (1,020,054,720 bytes) of heap memory\n",
      "Scaling row group sizes to 95.00% for 8 writers\n"
     ]
    },
    {
     "name": "stdout",
     "output_type": "stream",
     "text": [
      "Processed batch: 1500 rows, Total: 2908500 rows\n",
      "Processed batch: 1000 rows, Total: 2909500 rows\n"
     ]
    },
    {
     "name": "stderr",
     "output_type": "stream",
     "text": [
      "25/08/15 19:49:10 WARN MemoryManager: Total allocation exceeds 95.00% (1,020,054,720 bytes) of heap memory\n",
      "Scaling row group sizes to 95.00% for 8 writers\n",
      "25/08/15 19:49:10 WARN MemoryManager: Total allocation exceeds 95.00% (1,020,054,720 bytes) of heap memory\n",
      "Scaling row group sizes to 84.44% for 9 writers\n",
      "25/08/15 19:49:10 WARN MemoryManager: Total allocation exceeds 95.00% (1,020,054,720 bytes) of heap memory\n",
      "Scaling row group sizes to 76.00% for 10 writers\n",
      "25/08/15 19:49:10 WARN MemoryManager: Total allocation exceeds 95.00% (1,020,054,720 bytes) of heap memory\n",
      "Scaling row group sizes to 69.09% for 11 writers\n",
      "25/08/15 19:49:10 WARN MemoryManager: Total allocation exceeds 95.00% (1,020,054,720 bytes) of heap memory\n",
      "Scaling row group sizes to 63.33% for 12 writers\n",
      "25/08/15 19:49:10 WARN MemoryManager: Total allocation exceeds 95.00% (1,020,054,720 bytes) of heap memory\n",
      "Scaling row group sizes to 69.09% for 11 writers\n",
      "25/08/15 19:49:10 WARN MemoryManager: Total allocation exceeds 95.00% (1,020,054,720 bytes) of heap memory\n",
      "Scaling row group sizes to 76.00% for 10 writers\n",
      "25/08/15 19:49:10 WARN MemoryManager: Total allocation exceeds 95.00% (1,020,054,720 bytes) of heap memory\n",
      "Scaling row group sizes to 84.44% for 9 writers\n",
      "25/08/15 19:49:10 WARN MemoryManager: Total allocation exceeds 95.00% (1,020,054,720 bytes) of heap memory\n",
      "Scaling row group sizes to 95.00% for 8 writers\n"
     ]
    },
    {
     "name": "stdout",
     "output_type": "stream",
     "text": [
      "Processed batch: 1000 rows, Total: 2910500 rows\n",
      "Processed batch: 1000 rows, Total: 2911500 rows\n",
      "Processed batch: 1000 rows, Total: 2912500 rows\n",
      "Processed batch: 1000 rows, Total: 2913500 rows\n",
      "Processed batch: 1000 rows, Total: 2914500 rows\n",
      "Processed batch: 1000 rows, Total: 2915500 rows\n",
      "Processed batch: 1000 rows, Total: 2916500 rows\n",
      "Processed batch: 1000 rows, Total: 2917500 rows\n",
      "Processed batch: 1000 rows, Total: 2918500 rows\n"
     ]
    },
    {
     "name": "stderr",
     "output_type": "stream",
     "text": [
      "25/08/15 19:49:28 WARN MemoryManager: Total allocation exceeds 95.00% (1,020,054,720 bytes) of heap memory\n",
      "Scaling row group sizes to 95.00% for 8 writers\n"
     ]
    },
    {
     "name": "stdout",
     "output_type": "stream",
     "text": [
      "Processed batch: 1000 rows, Total: 2919500 rows\n",
      "Processed batch: 1000 rows, Total: 2920500 rows\n",
      "Processed batch: 1000 rows, Total: 2921500 rows\n"
     ]
    },
    {
     "name": "stderr",
     "output_type": "stream",
     "text": [
      "25/08/15 19:49:34 WARN MemoryManager: Total allocation exceeds 95.00% (1,020,054,720 bytes) of heap memory\n",
      "Scaling row group sizes to 95.00% for 8 writers\n",
      "25/08/15 19:49:34 WARN MemoryManager: Total allocation exceeds 95.00% (1,020,054,720 bytes) of heap memory\n",
      "Scaling row group sizes to 84.44% for 9 writers\n",
      "25/08/15 19:49:34 WARN MemoryManager: Total allocation exceeds 95.00% (1,020,054,720 bytes) of heap memory\n",
      "Scaling row group sizes to 95.00% for 8 writers\n",
      "25/08/15 19:49:34 WARN MemoryManager: Total allocation exceeds 95.00% (1,020,054,720 bytes) of heap memory\n",
      "Scaling row group sizes to 84.44% for 9 writers\n",
      "25/08/15 19:49:34 WARN MemoryManager: Total allocation exceeds 95.00% (1,020,054,720 bytes) of heap memory\n",
      "Scaling row group sizes to 76.00% for 10 writers\n",
      "25/08/15 19:49:34 WARN MemoryManager: Total allocation exceeds 95.00% (1,020,054,720 bytes) of heap memory\n",
      "Scaling row group sizes to 69.09% for 11 writers\n",
      "25/08/15 19:49:34 WARN MemoryManager: Total allocation exceeds 95.00% (1,020,054,720 bytes) of heap memory\n",
      "Scaling row group sizes to 63.33% for 12 writers\n",
      "25/08/15 19:49:34 WARN MemoryManager: Total allocation exceeds 95.00% (1,020,054,720 bytes) of heap memory\n",
      "Scaling row group sizes to 69.09% for 11 writers\n",
      "25/08/15 19:49:34 WARN MemoryManager: Total allocation exceeds 95.00% (1,020,054,720 bytes) of heap memory\n",
      "Scaling row group sizes to 76.00% for 10 writers\n",
      "25/08/15 19:49:34 WARN MemoryManager: Total allocation exceeds 95.00% (1,020,054,720 bytes) of heap memory\n",
      "Scaling row group sizes to 69.09% for 11 writers\n",
      "25/08/15 19:49:34 WARN MemoryManager: Total allocation exceeds 95.00% (1,020,054,720 bytes) of heap memory\n",
      "Scaling row group sizes to 76.00% for 10 writers\n",
      "25/08/15 19:49:34 WARN MemoryManager: Total allocation exceeds 95.00% (1,020,054,720 bytes) of heap memory\n",
      "Scaling row group sizes to 84.44% for 9 writers\n",
      "25/08/15 19:49:34 WARN MemoryManager: Total allocation exceeds 95.00% (1,020,054,720 bytes) of heap memory\n",
      "Scaling row group sizes to 76.00% for 10 writers\n",
      "25/08/15 19:49:34 WARN MemoryManager: Total allocation exceeds 95.00% (1,020,054,720 bytes) of heap memory\n",
      "Scaling row group sizes to 84.44% for 9 writers\n",
      "25/08/15 19:49:34 WARN MemoryManager: Total allocation exceeds 95.00% (1,020,054,720 bytes) of heap memory\n",
      "Scaling row group sizes to 95.00% for 8 writers\n"
     ]
    },
    {
     "name": "stdout",
     "output_type": "stream",
     "text": [
      "Processed batch: 1000 rows, Total: 2922500 rows\n",
      "Processed batch: 1000 rows, Total: 2923500 rows\n"
     ]
    },
    {
     "name": "stderr",
     "output_type": "stream",
     "text": [
      "25/08/15 19:49:37 WARN MemoryManager: Total allocation exceeds 95.00% (1,020,054,720 bytes) of heap memory\n",
      "Scaling row group sizes to 95.00% for 8 writers\n",
      "25/08/15 19:49:37 WARN MemoryManager: Total allocation exceeds 95.00% (1,020,054,720 bytes) of heap memory\n",
      "Scaling row group sizes to 84.44% for 9 writers\n",
      "25/08/15 19:49:37 WARN MemoryManager: Total allocation exceeds 95.00% (1,020,054,720 bytes) of heap memory\n",
      "Scaling row group sizes to 95.00% for 8 writers\n",
      "25/08/15 19:49:37 WARN MemoryManager: Total allocation exceeds 95.00% (1,020,054,720 bytes) of heap memory\n",
      "Scaling row group sizes to 95.00% for 8 writers\n"
     ]
    },
    {
     "name": "stdout",
     "output_type": "stream",
     "text": [
      "Processed batch: 1500 rows, Total: 2925000 rows\n",
      "Processed batch: 1000 rows, Total: 2926000 rows\n",
      "Processed batch: 1000 rows, Total: 2927000 rows\n",
      "Processed batch: 1000 rows, Total: 2928000 rows\n",
      "Processed batch: 1000 rows, Total: 2929000 rows\n",
      "Processed batch: 1000 rows, Total: 2930000 rows\n",
      "Processed batch: 1000 rows, Total: 2931000 rows\n",
      "Processed batch: 1000 rows, Total: 2932000 rows\n",
      "Processed batch: 1000 rows, Total: 2933000 rows\n",
      "Processed batch: 1000 rows, Total: 2934000 rows\n"
     ]
    },
    {
     "name": "stderr",
     "output_type": "stream",
     "text": [
      "25/08/15 19:49:58 WARN MemoryManager: Total allocation exceeds 95.00% (1,020,054,720 bytes) of heap memory\n",
      "Scaling row group sizes to 95.00% for 8 writers\n",
      "25/08/15 19:49:58 WARN MemoryManager: Total allocation exceeds 95.00% (1,020,054,720 bytes) of heap memory\n",
      "Scaling row group sizes to 95.00% for 8 writers\n",
      "25/08/15 19:49:58 WARN MemoryManager: Total allocation exceeds 95.00% (1,020,054,720 bytes) of heap memory\n",
      "Scaling row group sizes to 95.00% for 8 writers\n"
     ]
    },
    {
     "name": "stdout",
     "output_type": "stream",
     "text": [
      "Processed batch: 1000 rows, Total: 2935000 rows\n",
      "Processed batch: 1000 rows, Total: 2936000 rows\n"
     ]
    },
    {
     "name": "stderr",
     "output_type": "stream",
     "text": [
      "25/08/15 19:50:02 WARN MemoryManager: Total allocation exceeds 95.00% (1,020,054,720 bytes) of heap memory\n",
      "Scaling row group sizes to 95.00% for 8 writers\n",
      "25/08/15 19:50:02 WARN MemoryManager: Total allocation exceeds 95.00% (1,020,054,720 bytes) of heap memory\n",
      "Scaling row group sizes to 84.44% for 9 writers\n",
      "25/08/15 19:50:02 WARN MemoryManager: Total allocation exceeds 95.00% (1,020,054,720 bytes) of heap memory\n",
      "Scaling row group sizes to 76.00% for 10 writers\n",
      "25/08/15 19:50:02 WARN MemoryManager: Total allocation exceeds 95.00% (1,020,054,720 bytes) of heap memory\n",
      "Scaling row group sizes to 69.09% for 11 writers\n",
      "25/08/15 19:50:02 WARN MemoryManager: Total allocation exceeds 95.00% (1,020,054,720 bytes) of heap memory\n",
      "Scaling row group sizes to 76.00% for 10 writers\n",
      "25/08/15 19:50:02 WARN MemoryManager: Total allocation exceeds 95.00% (1,020,054,720 bytes) of heap memory\n",
      "Scaling row group sizes to 84.44% for 9 writers\n",
      "25/08/15 19:50:02 WARN MemoryManager: Total allocation exceeds 95.00% (1,020,054,720 bytes) of heap memory\n",
      "Scaling row group sizes to 95.00% for 8 writers\n"
     ]
    },
    {
     "name": "stdout",
     "output_type": "stream",
     "text": [
      "Processed batch: 1000 rows, Total: 2937000 rows\n",
      "Processed batch: 1000 rows, Total: 2938000 rows\n",
      "Processed batch: 894 rows, Total: 2938894 rows\n",
      "Processed batch: 1606 rows, Total: 2940500 rows\n",
      "Processed batch: 1000 rows, Total: 2941500 rows\n"
     ]
    },
    {
     "name": "stderr",
     "output_type": "stream",
     "text": [
      "25/08/15 19:50:12 WARN MemoryManager: Total allocation exceeds 95.00% (1,020,054,720 bytes) of heap memory\n",
      "Scaling row group sizes to 95.00% for 8 writers\n",
      "25/08/15 19:50:12 WARN MemoryManager: Total allocation exceeds 95.00% (1,020,054,720 bytes) of heap memory\n",
      "Scaling row group sizes to 84.44% for 9 writers\n",
      "25/08/15 19:50:12 WARN MemoryManager: Total allocation exceeds 95.00% (1,020,054,720 bytes) of heap memory\n",
      "Scaling row group sizes to 95.00% for 8 writers\n",
      "25/08/15 19:50:12 WARN MemoryManager: Total allocation exceeds 95.00% (1,020,054,720 bytes) of heap memory\n",
      "Scaling row group sizes to 84.44% for 9 writers\n",
      "25/08/15 19:50:12 WARN MemoryManager: Total allocation exceeds 95.00% (1,020,054,720 bytes) of heap memory\n",
      "Scaling row group sizes to 95.00% for 8 writers\n"
     ]
    },
    {
     "name": "stdout",
     "output_type": "stream",
     "text": [
      "Processed batch: 1000 rows, Total: 2942500 rows\n",
      "Processed batch: 500 rows, Total: 2943000 rows\n",
      "Processed batch: 1000 rows, Total: 2944000 rows\n",
      "Processed batch: 1000 rows, Total: 2945000 rows\n",
      "Processed batch: 1000 rows, Total: 2946000 rows\n",
      "Processed batch: 1000 rows, Total: 2947000 rows\n",
      "Processed batch: 1000 rows, Total: 2948000 rows\n",
      "Processed batch: 1000 rows, Total: 2949000 rows\n",
      "Processed batch: 1000 rows, Total: 2950000 rows\n",
      "Processed batch: 1000 rows, Total: 2951000 rows\n",
      "Processed batch: 1000 rows, Total: 2952000 rows\n",
      "Processed batch: 1000 rows, Total: 2953000 rows\n",
      "Processed batch: 1000 rows, Total: 2954000 rows\n"
     ]
    },
    {
     "name": "stderr",
     "output_type": "stream",
     "text": [
      "25/08/15 19:50:38 WARN MemoryManager: Total allocation exceeds 95.00% (1,020,054,720 bytes) of heap memory\n",
      "Scaling row group sizes to 95.00% for 8 writers\n",
      "25/08/15 19:50:38 WARN MemoryManager: Total allocation exceeds 95.00% (1,020,054,720 bytes) of heap memory\n",
      "Scaling row group sizes to 84.44% for 9 writers\n",
      "25/08/15 19:50:38 WARN MemoryManager: Total allocation exceeds 95.00% (1,020,054,720 bytes) of heap memory\n",
      "Scaling row group sizes to 76.00% for 10 writers\n",
      "25/08/15 19:50:38 WARN MemoryManager: Total allocation exceeds 95.00% (1,020,054,720 bytes) of heap memory\n",
      "Scaling row group sizes to 84.44% for 9 writers\n",
      "25/08/15 19:50:38 WARN MemoryManager: Total allocation exceeds 95.00% (1,020,054,720 bytes) of heap memory\n",
      "Scaling row group sizes to 95.00% for 8 writers\n",
      "25/08/15 19:50:38 WARN MemoryManager: Total allocation exceeds 95.00% (1,020,054,720 bytes) of heap memory\n",
      "Scaling row group sizes to 84.44% for 9 writers\n",
      "25/08/15 19:50:38 WARN MemoryManager: Total allocation exceeds 95.00% (1,020,054,720 bytes) of heap memory\n",
      "Scaling row group sizes to 76.00% for 10 writers\n",
      "25/08/15 19:50:38 WARN MemoryManager: Total allocation exceeds 95.00% (1,020,054,720 bytes) of heap memory\n",
      "Scaling row group sizes to 69.09% for 11 writers\n",
      "25/08/15 19:50:38 WARN MemoryManager: Total allocation exceeds 95.00% (1,020,054,720 bytes) of heap memory\n",
      "Scaling row group sizes to 76.00% for 10 writers\n",
      "25/08/15 19:50:38 WARN MemoryManager: Total allocation exceeds 95.00% (1,020,054,720 bytes) of heap memory\n",
      "Scaling row group sizes to 84.44% for 9 writers\n",
      "25/08/15 19:50:38 WARN MemoryManager: Total allocation exceeds 95.00% (1,020,054,720 bytes) of heap memory\n",
      "Scaling row group sizes to 76.00% for 10 writers\n",
      "25/08/15 19:50:38 WARN MemoryManager: Total allocation exceeds 95.00% (1,020,054,720 bytes) of heap memory\n",
      "Scaling row group sizes to 84.44% for 9 writers\n",
      "25/08/15 19:50:38 WARN MemoryManager: Total allocation exceeds 95.00% (1,020,054,720 bytes) of heap memory\n",
      "Scaling row group sizes to 95.00% for 8 writers\n"
     ]
    },
    {
     "name": "stdout",
     "output_type": "stream",
     "text": [
      "Processed batch: 1000 rows, Total: 2955000 rows\n",
      "Processed batch: 1500 rows, Total: 2956500 rows\n",
      "Processed batch: 1000 rows, Total: 2957500 rows\n",
      "Processed batch: 1000 rows, Total: 2958500 rows\n"
     ]
    },
    {
     "name": "stderr",
     "output_type": "stream",
     "text": [
      "25/08/15 19:50:46 WARN MemoryManager: Total allocation exceeds 95.00% (1,020,054,720 bytes) of heap memory\n",
      "Scaling row group sizes to 95.00% for 8 writers\n",
      "25/08/15 19:50:46 WARN MemoryManager: Total allocation exceeds 95.00% (1,020,054,720 bytes) of heap memory\n",
      "Scaling row group sizes to 84.44% for 9 writers\n",
      "25/08/15 19:50:46 WARN MemoryManager: Total allocation exceeds 95.00% (1,020,054,720 bytes) of heap memory\n",
      "Scaling row group sizes to 76.00% for 10 writers\n",
      "25/08/15 19:50:46 WARN MemoryManager: Total allocation exceeds 95.00% (1,020,054,720 bytes) of heap memory\n",
      "Scaling row group sizes to 69.09% for 11 writers\n",
      "25/08/15 19:50:46 WARN MemoryManager: Total allocation exceeds 95.00% (1,020,054,720 bytes) of heap memory\n",
      "Scaling row group sizes to 76.00% for 10 writers\n",
      "25/08/15 19:50:46 WARN MemoryManager: Total allocation exceeds 95.00% (1,020,054,720 bytes) of heap memory\n",
      "Scaling row group sizes to 69.09% for 11 writers\n",
      "25/08/15 19:50:46 WARN MemoryManager: Total allocation exceeds 95.00% (1,020,054,720 bytes) of heap memory\n",
      "Scaling row group sizes to 63.33% for 12 writers\n",
      "25/08/15 19:50:46 WARN MemoryManager: Total allocation exceeds 95.00% (1,020,054,720 bytes) of heap memory\n",
      "Scaling row group sizes to 58.46% for 13 writers\n",
      "25/08/15 19:50:46 WARN MemoryManager: Total allocation exceeds 95.00% (1,020,054,720 bytes) of heap memory\n",
      "Scaling row group sizes to 63.33% for 12 writers\n",
      "25/08/15 19:50:46 WARN MemoryManager: Total allocation exceeds 95.00% (1,020,054,720 bytes) of heap memory\n",
      "Scaling row group sizes to 69.09% for 11 writers\n",
      "25/08/15 19:50:46 WARN MemoryManager: Total allocation exceeds 95.00% (1,020,054,720 bytes) of heap memory\n",
      "Scaling row group sizes to 76.00% for 10 writers\n",
      "25/08/15 19:50:46 WARN MemoryManager: Total allocation exceeds 95.00% (1,020,054,720 bytes) of heap memory\n",
      "Scaling row group sizes to 84.44% for 9 writers\n",
      "25/08/15 19:50:46 WARN MemoryManager: Total allocation exceeds 95.00% (1,020,054,720 bytes) of heap memory\n",
      "Scaling row group sizes to 95.00% for 8 writers\n"
     ]
    },
    {
     "name": "stdout",
     "output_type": "stream",
     "text": [
      "Processed batch: 1000 rows, Total: 2959500 rows\n",
      "Processed batch: 1000 rows, Total: 2960500 rows\n",
      "Processed batch: 1000 rows, Total: 2961500 rows\n",
      "Processed batch: 1000 rows, Total: 2962500 rows\n"
     ]
    },
    {
     "name": "stderr",
     "output_type": "stream",
     "text": [
      "25/08/15 19:50:54 WARN MemoryManager: Total allocation exceeds 95.00% (1,020,054,720 bytes) of heap memory\n",
      "Scaling row group sizes to 95.00% for 8 writers\n",
      "25/08/15 19:50:54 WARN MemoryManager: Total allocation exceeds 95.00% (1,020,054,720 bytes) of heap memory\n",
      "Scaling row group sizes to 84.44% for 9 writers\n",
      "25/08/15 19:50:54 WARN MemoryManager: Total allocation exceeds 95.00% (1,020,054,720 bytes) of heap memory\n",
      "Scaling row group sizes to 76.00% for 10 writers\n",
      "25/08/15 19:50:54 WARN MemoryManager: Total allocation exceeds 95.00% (1,020,054,720 bytes) of heap memory\n",
      "Scaling row group sizes to 84.44% for 9 writers\n",
      "25/08/15 19:50:54 WARN MemoryManager: Total allocation exceeds 95.00% (1,020,054,720 bytes) of heap memory\n",
      "Scaling row group sizes to 95.00% for 8 writers\n",
      "25/08/15 19:50:54 WARN MemoryManager: Total allocation exceeds 95.00% (1,020,054,720 bytes) of heap memory\n",
      "Scaling row group sizes to 95.00% for 8 writers\n"
     ]
    },
    {
     "name": "stdout",
     "output_type": "stream",
     "text": [
      "Processed batch: 1000 rows, Total: 2963500 rows\n",
      "Processed batch: 1000 rows, Total: 2964500 rows\n",
      "Processed batch: 1000 rows, Total: 2965500 rows\n",
      "Processed batch: 1000 rows, Total: 2966500 rows\n",
      "Processed batch: 1000 rows, Total: 2967500 rows\n"
     ]
    },
    {
     "name": "stderr",
     "output_type": "stream",
     "text": [
      "25/08/15 19:51:04 WARN MemoryManager: Total allocation exceeds 95.00% (1,020,054,720 bytes) of heap memory\n",
      "Scaling row group sizes to 95.00% for 8 writers\n",
      "25/08/15 19:51:04 WARN MemoryManager: Total allocation exceeds 95.00% (1,020,054,720 bytes) of heap memory\n",
      "Scaling row group sizes to 84.44% for 9 writers\n",
      "25/08/15 19:51:04 WARN MemoryManager: Total allocation exceeds 95.00% (1,020,054,720 bytes) of heap memory\n",
      "Scaling row group sizes to 76.00% for 10 writers\n",
      "25/08/15 19:51:04 WARN MemoryManager: Total allocation exceeds 95.00% (1,020,054,720 bytes) of heap memory\n",
      "Scaling row group sizes to 69.09% for 11 writers\n",
      "25/08/15 19:51:04 WARN MemoryManager: Total allocation exceeds 95.00% (1,020,054,720 bytes) of heap memory\n",
      "Scaling row group sizes to 63.33% for 12 writers\n",
      "25/08/15 19:51:04 WARN MemoryManager: Total allocation exceeds 95.00% (1,020,054,720 bytes) of heap memory\n",
      "Scaling row group sizes to 69.09% for 11 writers\n",
      "25/08/15 19:51:04 WARN MemoryManager: Total allocation exceeds 95.00% (1,020,054,720 bytes) of heap memory\n",
      "Scaling row group sizes to 76.00% for 10 writers\n",
      "25/08/15 19:51:04 WARN MemoryManager: Total allocation exceeds 95.00% (1,020,054,720 bytes) of heap memory\n",
      "Scaling row group sizes to 84.44% for 9 writers\n",
      "25/08/15 19:51:04 WARN MemoryManager: Total allocation exceeds 95.00% (1,020,054,720 bytes) of heap memory\n",
      "Scaling row group sizes to 95.00% for 8 writers\n"
     ]
    },
    {
     "name": "stdout",
     "output_type": "stream",
     "text": [
      "Processed batch: 1000 rows, Total: 2968500 rows\n",
      "Processed batch: 1000 rows, Total: 2969500 rows\n",
      "Processed batch: 1000 rows, Total: 2970500 rows\n",
      "Processed batch: 1500 rows, Total: 2972000 rows\n",
      "Processed batch: 1000 rows, Total: 2973000 rows\n",
      "Processed batch: 1000 rows, Total: 2974000 rows\n"
     ]
    },
    {
     "name": "stderr",
     "output_type": "stream",
     "text": [
      "25/08/15 19:51:16 WARN MemoryManager: Total allocation exceeds 95.00% (1,020,054,720 bytes) of heap memory\n",
      "Scaling row group sizes to 95.00% for 8 writers\n",
      "25/08/15 19:51:16 WARN MemoryManager: Total allocation exceeds 95.00% (1,020,054,720 bytes) of heap memory\n",
      "Scaling row group sizes to 84.44% for 9 writers\n",
      "25/08/15 19:51:16 WARN MemoryManager: Total allocation exceeds 95.00% (1,020,054,720 bytes) of heap memory\n",
      "Scaling row group sizes to 76.00% for 10 writers\n",
      "25/08/15 19:51:16 WARN MemoryManager: Total allocation exceeds 95.00% (1,020,054,720 bytes) of heap memory\n",
      "Scaling row group sizes to 84.44% for 9 writers\n",
      "25/08/15 19:51:16 WARN MemoryManager: Total allocation exceeds 95.00% (1,020,054,720 bytes) of heap memory\n",
      "Scaling row group sizes to 76.00% for 10 writers\n",
      "25/08/15 19:51:16 WARN MemoryManager: Total allocation exceeds 95.00% (1,020,054,720 bytes) of heap memory\n",
      "Scaling row group sizes to 84.44% for 9 writers\n",
      "25/08/15 19:51:16 WARN MemoryManager: Total allocation exceeds 95.00% (1,020,054,720 bytes) of heap memory\n",
      "Scaling row group sizes to 95.00% for 8 writers\n"
     ]
    },
    {
     "name": "stdout",
     "output_type": "stream",
     "text": [
      "Processed batch: 1000 rows, Total: 2975000 rows\n",
      "Processed batch: 1000 rows, Total: 2976000 rows\n",
      "Processed batch: 1000 rows, Total: 2977000 rows\n",
      "Processed batch: 1000 rows, Total: 2978000 rows\n",
      "Processed batch: 1000 rows, Total: 2979000 rows\n",
      "Processed batch: 1000 rows, Total: 2980000 rows\n"
     ]
    },
    {
     "name": "stderr",
     "output_type": "stream",
     "text": [
      "25/08/15 19:51:28 WARN MemoryManager: Total allocation exceeds 95.00% (1,020,054,720 bytes) of heap memory\n",
      "Scaling row group sizes to 95.00% for 8 writers\n",
      "25/08/15 19:51:28 WARN MemoryManager: Total allocation exceeds 95.00% (1,020,054,720 bytes) of heap memory\n",
      "Scaling row group sizes to 84.44% for 9 writers\n",
      "25/08/15 19:51:28 WARN MemoryManager: Total allocation exceeds 95.00% (1,020,054,720 bytes) of heap memory\n",
      "Scaling row group sizes to 95.00% for 8 writers\n",
      "25/08/15 19:51:28 WARN MemoryManager: Total allocation exceeds 95.00% (1,020,054,720 bytes) of heap memory\n",
      "Scaling row group sizes to 84.44% for 9 writers\n",
      "25/08/15 19:51:28 WARN MemoryManager: Total allocation exceeds 95.00% (1,020,054,720 bytes) of heap memory\n",
      "Scaling row group sizes to 95.00% for 8 writers\n",
      "25/08/15 19:51:28 WARN MemoryManager: Total allocation exceeds 95.00% (1,020,054,720 bytes) of heap memory\n",
      "Scaling row group sizes to 84.44% for 9 writers\n",
      "25/08/15 19:51:28 WARN MemoryManager: Total allocation exceeds 95.00% (1,020,054,720 bytes) of heap memory\n",
      "Scaling row group sizes to 76.00% for 10 writers\n",
      "25/08/15 19:51:28 WARN MemoryManager: Total allocation exceeds 95.00% (1,020,054,720 bytes) of heap memory\n",
      "Scaling row group sizes to 84.44% for 9 writers\n",
      "25/08/15 19:51:28 WARN MemoryManager: Total allocation exceeds 95.00% (1,020,054,720 bytes) of heap memory\n",
      "Scaling row group sizes to 95.00% for 8 writers\n"
     ]
    },
    {
     "name": "stdout",
     "output_type": "stream",
     "text": [
      "Processed batch: 1000 rows, Total: 2981000 rows\n",
      "Processed batch: 1000 rows, Total: 2982000 rows\n",
      "Processed batch: 1000 rows, Total: 2983000 rows\n",
      "Processed batch: 1000 rows, Total: 2984000 rows\n",
      "Processed batch: 1000 rows, Total: 2985000 rows\n",
      "Processed batch: 1000 rows, Total: 2986000 rows\n",
      "Processed batch: 1000 rows, Total: 2987000 rows\n",
      "Processed batch: 1500 rows, Total: 2988500 rows\n"
     ]
    },
    {
     "name": "stderr",
     "output_type": "stream",
     "text": [
      "25/08/15 19:51:44 WARN MemoryManager: Total allocation exceeds 95.00% (1,020,054,720 bytes) of heap memory\n",
      "Scaling row group sizes to 95.00% for 8 writers\n",
      "25/08/15 19:51:44 WARN MemoryManager: Total allocation exceeds 95.00% (1,020,054,720 bytes) of heap memory\n",
      "Scaling row group sizes to 84.44% for 9 writers\n",
      "25/08/15 19:51:44 WARN MemoryManager: Total allocation exceeds 95.00% (1,020,054,720 bytes) of heap memory\n",
      "Scaling row group sizes to 95.00% for 8 writers\n"
     ]
    },
    {
     "name": "stdout",
     "output_type": "stream",
     "text": [
      "Processed batch: 1000 rows, Total: 2989500 rows\n",
      "Processed batch: 1000 rows, Total: 2990500 rows\n",
      "Processed batch: 1000 rows, Total: 2991500 rows\n"
     ]
    },
    {
     "name": "stderr",
     "output_type": "stream",
     "text": [
      "25/08/15 19:51:50 WARN MemoryManager: Total allocation exceeds 95.00% (1,020,054,720 bytes) of heap memory\n",
      "Scaling row group sizes to 95.00% for 8 writers\n",
      "25/08/15 19:51:50 WARN MemoryManager: Total allocation exceeds 95.00% (1,020,054,720 bytes) of heap memory\n",
      "Scaling row group sizes to 84.44% for 9 writers\n",
      "25/08/15 19:51:50 WARN MemoryManager: Total allocation exceeds 95.00% (1,020,054,720 bytes) of heap memory\n",
      "Scaling row group sizes to 76.00% for 10 writers\n",
      "25/08/15 19:51:50 WARN MemoryManager: Total allocation exceeds 95.00% (1,020,054,720 bytes) of heap memory\n",
      "Scaling row group sizes to 84.44% for 9 writers\n",
      "25/08/15 19:51:50 WARN MemoryManager: Total allocation exceeds 95.00% (1,020,054,720 bytes) of heap memory\n",
      "Scaling row group sizes to 95.00% for 8 writers\n"
     ]
    },
    {
     "name": "stdout",
     "output_type": "stream",
     "text": [
      "Processed batch: 1000 rows, Total: 2992500 rows\n",
      "Processed batch: 1000 rows, Total: 2993500 rows\n",
      "Processed batch: 1000 rows, Total: 2994500 rows\n",
      "Processed batch: 1000 rows, Total: 2995500 rows\n",
      "Processed batch: 500 rows, Total: 2996000 rows\n",
      "Processed batch: 1000 rows, Total: 2997000 rows\n",
      "Processed batch: 1000 rows, Total: 2998000 rows\n",
      "Processed batch: 1000 rows, Total: 2999000 rows\n"
     ]
    },
    {
     "name": "stderr",
     "output_type": "stream",
     "text": [
      "25/08/15 19:52:08 WARN DAGScheduler: Failed to cancel job group 4feb2fb9-a4a5-4292-89c7-dc885c0a9893. Cannot find active jobs for it.\n",
      "ERROR:py4j.clientserver:There was an exception while executing the Python Proxy on the Python Side.\n",
      "Traceback (most recent call last):\n",
      "  File \"/home/nolan/anaconda3/envs/fraud/lib/python3.12/site-packages/py4j/clientserver.py\", line 644, in _call_proxy\n",
      "    return_value = getattr(self.pool[obj_id], method)(*params)\n",
      "                   ^^^^^^^^^^^^^^^^^^^^^^^^^^^^^^^^^^^^^^^^^^^\n",
      "  File \"/home/nolan/anaconda3/envs/fraud/lib/python3.12/site-packages/pyspark/sql/utils.py\", line 165, in call\n",
      "    raise e\n",
      "  File \"/home/nolan/anaconda3/envs/fraud/lib/python3.12/site-packages/pyspark/sql/utils.py\", line 162, in call\n",
      "    self.func(DataFrame(jdf, wrapped_session_jdf), batch_id)\n",
      "  File \"/tmp/ipykernel_971/2562846172.py\", line 33, in process_batch\n",
      "    q.stop()\n",
      "  File \"/home/nolan/anaconda3/envs/fraud/lib/python3.12/site-packages/pyspark/sql/streaming/query.py\", line 376, in stop\n",
      "    self._jsq.stop()\n",
      "  File \"/home/nolan/anaconda3/envs/fraud/lib/python3.12/site-packages/py4j/java_gateway.py\", line 1362, in __call__\n",
      "    return_value = get_return_value(\n",
      "                   ^^^^^^^^^^^^^^^^^\n",
      "  File \"/home/nolan/anaconda3/envs/fraud/lib/python3.12/site-packages/pyspark/errors/exceptions/captured.py\", line 282, in deco\n",
      "    return f(*a, **kw)\n",
      "           ^^^^^^^^^^^\n",
      "  File \"/home/nolan/anaconda3/envs/fraud/lib/python3.12/site-packages/py4j/protocol.py\", line 327, in get_return_value\n",
      "    raise Py4JJavaError(\n",
      "py4j.protocol.Py4JJavaError: An error occurred while calling o17731.stop.\n",
      ": java.lang.InterruptedException\n",
      "\tat java.base/java.lang.Object.wait(Native Method)\n",
      "\tat java.base/java.lang.Thread.join(Thread.java:1313)\n",
      "\tat org.apache.spark.sql.execution.streaming.StreamExecution.interruptAndAwaitExecutionThreadTermination(StreamExecution.scala:486)\n",
      "\tat org.apache.spark.sql.execution.streaming.MicroBatchExecution.stop(MicroBatchExecution.scala:297)\n",
      "\tat org.apache.spark.sql.execution.streaming.StreamingQueryWrapper.stop(StreamingQueryWrapper.scala:61)\n",
      "\tat java.base/jdk.internal.reflect.NativeMethodAccessorImpl.invoke0(Native Method)\n",
      "\tat java.base/jdk.internal.reflect.NativeMethodAccessorImpl.invoke(NativeMethodAccessorImpl.java:77)\n",
      "\tat java.base/jdk.internal.reflect.DelegatingMethodAccessorImpl.invoke(DelegatingMethodAccessorImpl.java:43)\n",
      "\tat java.base/java.lang.reflect.Method.invoke(Method.java:569)\n",
      "\tat py4j.reflection.MethodInvoker.invoke(MethodInvoker.java:244)\n",
      "\tat py4j.reflection.ReflectionEngine.invoke(ReflectionEngine.java:374)\n",
      "\tat py4j.Gateway.invoke(Gateway.java:282)\n",
      "\tat py4j.commands.AbstractCommand.invokeMethod(AbstractCommand.java:132)\n",
      "\tat py4j.commands.CallCommand.execute(CallCommand.java:79)\n",
      "\tat py4j.ClientServerConnection.sendCommand(ClientServerConnection.java:246)\n",
      "\tat py4j.CallbackClient.sendCommand(CallbackClient.java:384)\n",
      "\tat py4j.CallbackClient.sendCommand(CallbackClient.java:356)\n",
      "\tat py4j.reflection.PythonProxyHandler.invoke(PythonProxyHandler.java:106)\n",
      "\tat jdk.proxy3/jdk.proxy3.$Proxy44.call(Unknown Source)\n",
      "\tat org.apache.spark.sql.execution.streaming.sources.PythonForeachBatchHelper$.$anonfun$callForeachBatch$1(ForeachBatchSink.scala:87)\n",
      "\tat org.apache.spark.sql.execution.streaming.sources.PythonForeachBatchHelper$.$anonfun$callForeachBatch$1$adapted(ForeachBatchSink.scala:87)\n",
      "\tat org.apache.spark.sql.execution.streaming.sources.ForeachBatchSink.callBatchWriter(ForeachBatchSink.scala:56)\n",
      "\tat org.apache.spark.sql.execution.streaming.sources.ForeachBatchSink.addBatch(ForeachBatchSink.scala:49)\n",
      "\tat org.apache.spark.sql.execution.streaming.MicroBatchExecution.$anonfun$runBatch$17(MicroBatchExecution.scala:879)\n",
      "\tat org.apache.spark.sql.execution.SQLExecution$.$anonfun$withNewExecutionId0$8(SQLExecution.scala:162)\n",
      "\tat org.apache.spark.sql.execution.SQLExecution$.withSessionTagsApplied(SQLExecution.scala:268)\n",
      "\tat org.apache.spark.sql.execution.SQLExecution$.$anonfun$withNewExecutionId0$7(SQLExecution.scala:124)\n",
      "\tat org.apache.spark.JobArtifactSet$.withActiveJobArtifactState(JobArtifactSet.scala:94)\n",
      "\tat org.apache.spark.sql.artifact.ArtifactManager.$anonfun$withResources$1(ArtifactManager.scala:112)\n",
      "\tat org.apache.spark.sql.artifact.ArtifactManager.withClassLoaderIfNeeded(ArtifactManager.scala:106)\n",
      "\tat org.apache.spark.sql.artifact.ArtifactManager.withResources(ArtifactManager.scala:111)\n",
      "\tat org.apache.spark.sql.execution.SQLExecution$.$anonfun$withNewExecutionId0$6(SQLExecution.scala:124)\n",
      "\tat org.apache.spark.sql.execution.SQLExecution$.withSQLConfPropagated(SQLExecution.scala:291)\n",
      "\tat org.apache.spark.sql.execution.SQLExecution$.$anonfun$withNewExecutionId0$1(SQLExecution.scala:123)\n",
      "\tat org.apache.spark.sql.SparkSession.withActive(SparkSession.scala:804)\n",
      "\tat org.apache.spark.sql.execution.SQLExecution$.withNewExecutionId0(SQLExecution.scala:77)\n",
      "\tat org.apache.spark.sql.execution.SQLExecution$.withNewExecutionId(SQLExecution.scala:233)\n",
      "\tat org.apache.spark.sql.execution.streaming.MicroBatchExecution.$anonfun$runBatch$16(MicroBatchExecution.scala:876)\n",
      "\tat org.apache.spark.sql.execution.streaming.ProgressContext.reportTimeTaken(ProgressReporter.scala:186)\n",
      "\tat org.apache.spark.sql.execution.streaming.MicroBatchExecution.runBatch(MicroBatchExecution.scala:876)\n",
      "\tat org.apache.spark.sql.execution.streaming.MicroBatchExecution.$anonfun$executeOneBatch$2(MicroBatchExecution.scala:394)\n",
      "\tat scala.runtime.java8.JFunction0$mcV$sp.apply(JFunction0$mcV$sp.scala:18)\n",
      "\tat org.apache.spark.sql.execution.streaming.ProgressContext.reportTimeTaken(ProgressReporter.scala:186)\n",
      "\tat org.apache.spark.sql.execution.streaming.MicroBatchExecution.executeOneBatch(MicroBatchExecution.scala:364)\n",
      "\tat org.apache.spark.sql.execution.streaming.MicroBatchExecution.$anonfun$runActivatedStream$1(MicroBatchExecution.scala:344)\n",
      "\tat org.apache.spark.sql.execution.streaming.MicroBatchExecution.$anonfun$runActivatedStream$1$adapted(MicroBatchExecution.scala:344)\n",
      "\tat org.apache.spark.sql.execution.streaming.TriggerExecutor.runOneBatch(TriggerExecutor.scala:39)\n",
      "\tat org.apache.spark.sql.execution.streaming.TriggerExecutor.runOneBatch$(TriggerExecutor.scala:37)\n",
      "\tat org.apache.spark.sql.execution.streaming.ProcessingTimeExecutor.runOneBatch(TriggerExecutor.scala:70)\n",
      "\tat org.apache.spark.sql.execution.streaming.ProcessingTimeExecutor.execute(TriggerExecutor.scala:82)\n",
      "\tat org.apache.spark.sql.execution.streaming.MicroBatchExecution.runActivatedStream(MicroBatchExecution.scala:344)\n",
      "\tat org.apache.spark.sql.execution.streaming.StreamExecution.$anonfun$runStream$1(StreamExecution.scala:337)\n",
      "\tat scala.runtime.java8.JFunction0$mcV$sp.apply(JFunction0$mcV$sp.scala:18)\n",
      "\tat org.apache.spark.sql.SparkSession.withActive(SparkSession.scala:804)\n",
      "\tat org.apache.spark.sql.execution.streaming.StreamExecution.org$apache$spark$sql$execution$streaming$StreamExecution$$runStream(StreamExecution.scala:311)\n",
      "\tat org.apache.spark.sql.execution.streaming.StreamExecution$$anon$1.run(StreamExecution.scala:226)\n",
      "\n"
     ]
    },
    {
     "name": "stdout",
     "output_type": "stream",
     "text": [
      "Processed batch: 1000 rows, Total: 3000000 rows\n",
      "Target reached - stopping stream\n"
     ]
    },
    {
     "name": "stderr",
     "output_type": "stream",
     "text": [
      "Exception in thread \"stream execution thread for [id = 8027a5d4-d48d-4e54-a67c-15a0444c8d95, runId = 4feb2fb9-a4a5-4292-89c7-dc885c0a9893]\" java.lang.StackOverflowError\n",
      "\tat java.base/java.util.regex.Pattern$Loop.match(Pattern.java:4894)\n",
      "\tat java.base/java.util.regex.Pattern$GroupTail.match(Pattern.java:4820)\n",
      "\tat java.base/java.util.regex.Pattern$BranchConn.match(Pattern.java:4698)\n",
      "\tat java.base/java.util.regex.Pattern$CharProperty.match(Pattern.java:3931)\n",
      "\tat java.base/java.util.regex.Pattern$Branch.match(Pattern.java:4734)\n",
      "\tat java.base/java.util.regex.Pattern$GroupHead.match(Pattern.java:4789)\n",
      "\tat java.base/java.util.regex.Pattern$Loop.match(Pattern.java:4898)\n",
      "\tat java.base/java.util.regex.Pattern$GroupTail.match(Pattern.java:4820)\n",
      "\tat java.base/java.util.regex.Pattern$BranchConn.match(Pattern.java:4698)\n",
      "\tat java.base/java.util.regex.Pattern$CharProperty.match(Pattern.java:3931)\n",
      "\tat java.base/java.util.regex.Pattern$Branch.match(Pattern.java:4734)\n",
      "\tat java.base/java.util.regex.Pattern$GroupHead.match(Pattern.java:4789)\n",
      "\tat java.base/java.util.regex.Pattern$Loop.match(Pattern.java:4898)\n",
      "\tat java.base/java.util.regex.Pattern$GroupTail.match(Pattern.java:4820)\n",
      "\tat java.base/java.util.regex.Pattern$BranchConn.match(Pattern.java:4698)\n",
      "\tat java.base/java.util.regex.Pattern$CharProperty.match(Pattern.java:3931)\n",
      "\tat java.base/java.util.regex.Pattern$Branch.match(Pattern.java:4734)\n",
      "\tat java.base/java.util.regex.Pattern$GroupHead.match(Pattern.java:4789)\n",
      "\tat java.base/java.util.regex.Pattern$Loop.match(Pattern.java:4898)\n",
      "\tat java.base/java.util.regex.Pattern$GroupTail.match(Pattern.java:4820)\n",
      "\tat java.base/java.util.regex.Pattern$BranchConn.match(Pattern.java:4698)\n",
      "\tat java.base/java.util.regex.Pattern$CharProperty.match(Pattern.java:3931)\n",
      "\tat java.base/java.util.regex.Pattern$Branch.match(Pattern.java:4734)\n",
      "\tat java.base/java.util.regex.Pattern$GroupHead.match(Pattern.java:4789)\n",
      "\tat java.base/java.util.regex.Pattern$Loop.match(Pattern.java:4898)\n",
      "\tat java.base/java.util.regex.Pattern$GroupTail.match(Pattern.java:4820)\n",
      "\tat java.base/java.util.regex.Pattern$BranchConn.match(Pattern.java:4698)\n",
      "\tat java.base/java.util.regex.Pattern$CharProperty.match(Pattern.java:3931)\n",
      "\tat java.base/java.util.regex.Pattern$Branch.match(Pattern.java:4734)\n",
      "\tat java.base/java.util.regex.Pattern$GroupHead.match(Pattern.java:4789)\n",
      "\tat java.base/java.util.regex.Pattern$Loop.match(Pattern.java:4898)\n",
      "\tat java.base/java.util.regex.Pattern$GroupTail.match(Pattern.java:4820)\n",
      "\tat java.base/java.util.regex.Pattern$BranchConn.match(Pattern.java:4698)\n",
      "\tat java.base/java.util.regex.Pattern$CharProperty.match(Pattern.java:3931)\n",
      "\tat java.base/java.util.regex.Pattern$Branch.match(Pattern.java:4734)\n",
      "\tat java.base/java.util.regex.Pattern$GroupHead.match(Pattern.java:4789)\n",
      "\tat java.base/java.util.regex.Pattern$Loop.match(Pattern.java:4898)\n",
      "\tat java.base/java.util.regex.Pattern$GroupTail.match(Pattern.java:4820)\n",
      "\tat java.base/java.util.regex.Pattern$BranchConn.match(Pattern.java:4698)\n",
      "\tat java.base/java.util.regex.Pattern$CharProperty.match(Pattern.java:3931)\n",
      "\tat java.base/java.util.regex.Pattern$Branch.match(Pattern.java:4734)\n",
      "\tat java.base/java.util.regex.Pattern$GroupHead.match(Pattern.java:4789)\n",
      "\tat java.base/java.util.regex.Pattern$Loop.match(Pattern.java:4898)\n",
      "\tat java.base/java.util.regex.Pattern$GroupTail.match(Pattern.java:4820)\n",
      "\tat java.base/java.util.regex.Pattern$BranchConn.match(Pattern.java:4698)\n",
      "\tat java.base/java.util.regex.Pattern$CharProperty.match(Pattern.java:3931)\n",
      "\tat java.base/java.util.regex.Pattern$Branch.match(Pattern.java:4734)\n",
      "\tat java.base/java.util.regex.Pattern$GroupHead.match(Pattern.java:4789)\n",
      "\tat java.base/java.util.regex.Pattern$Loop.match(Pattern.java:4898)\n",
      "\tat java.base/java.util.regex.Pattern$GroupTail.match(Pattern.java:4820)\n",
      "\tat java.base/java.util.regex.Pattern$BranchConn.match(Pattern.java:4698)\n",
      "\tat java.base/java.util.regex.Pattern$CharProperty.match(Pattern.java:3931)\n",
      "\tat java.base/java.util.regex.Pattern$Branch.match(Pattern.java:4734)\n",
      "\tat java.base/java.util.regex.Pattern$GroupHead.match(Pattern.java:4789)\n",
      "\tat java.base/java.util.regex.Pattern$Loop.match(Pattern.java:4898)\n",
      "\tat java.base/java.util.regex.Pattern$GroupTail.match(Pattern.java:4820)\n",
      "\tat java.base/java.util.regex.Pattern$BranchConn.match(Pattern.java:4698)\n",
      "\tat java.base/java.util.regex.Pattern$CharProperty.match(Pattern.java:3931)\n",
      "\tat java.base/java.util.regex.Pattern$Branch.match(Pattern.java:4734)\n",
      "\tat java.base/java.util.regex.Pattern$GroupHead.match(Pattern.java:4789)\n",
      "\tat java.base/java.util.regex.Pattern$Loop.match(Pattern.java:4898)\n",
      "\tat java.base/java.util.regex.Pattern$GroupTail.match(Pattern.java:4820)\n",
      "\tat java.base/java.util.regex.Pattern$BranchConn.match(Pattern.java:4698)\n",
      "\tat java.base/java.util.regex.Pattern$CharProperty.match(Pattern.java:3931)\n",
      "\tat java.base/java.util.regex.Pattern$Branch.match(Pattern.java:4734)\n",
      "\tat java.base/java.util.regex.Pattern$GroupHead.match(Pattern.java:4789)\n",
      "\tat java.base/java.util.regex.Pattern$Loop.match(Pattern.java:4898)\n",
      "\tat java.base/java.util.regex.Pattern$GroupTail.match(Pattern.java:4820)\n",
      "\tat java.base/java.util.regex.Pattern$BranchConn.match(Pattern.java:4698)\n",
      "\tat java.base/java.util.regex.Pattern$CharProperty.match(Pattern.java:3931)\n",
      "\tat java.base/java.util.regex.Pattern$Branch.match(Pattern.java:4734)\n",
      "\tat java.base/java.util.regex.Pattern$GroupHead.match(Pattern.java:4789)\n",
      "\tat java.base/java.util.regex.Pattern$Loop.match(Pattern.java:4898)\n",
      "\tat java.base/java.util.regex.Pattern$GroupTail.match(Pattern.java:4820)\n",
      "\tat java.base/java.util.regex.Pattern$BranchConn.match(Pattern.java:4698)\n",
      "\tat java.base/java.util.regex.Pattern$CharProperty.match(Pattern.java:3931)\n",
      "\tat java.base/java.util.regex.Pattern$Branch.match(Pattern.java:4734)\n",
      "\tat java.base/java.util.regex.Pattern$GroupHead.match(Pattern.java:4789)\n",
      "\tat java.base/java.util.regex.Pattern$Loop.match(Pattern.java:4898)\n",
      "\tat java.base/java.util.regex.Pattern$GroupTail.match(Pattern.java:4820)\n",
      "\tat java.base/java.util.regex.Pattern$BranchConn.match(Pattern.java:4698)\n",
      "\tat java.base/java.util.regex.Pattern$CharProperty.match(Pattern.java:3931)\n",
      "\tat java.base/java.util.regex.Pattern$Branch.match(Pattern.java:4734)\n",
      "\tat java.base/java.util.regex.Pattern$GroupHead.match(Pattern.java:4789)\n",
      "\tat java.base/java.util.regex.Pattern$Loop.match(Pattern.java:4898)\n",
      "\tat java.base/java.util.regex.Pattern$GroupTail.match(Pattern.java:4820)\n",
      "\tat java.base/java.util.regex.Pattern$BranchConn.match(Pattern.java:4698)\n",
      "\tat java.base/java.util.regex.Pattern$CharProperty.match(Pattern.java:3931)\n",
      "\tat java.base/java.util.regex.Pattern$Branch.match(Pattern.java:4734)\n",
      "\tat java.base/java.util.regex.Pattern$GroupHead.match(Pattern.java:4789)\n",
      "\tat java.base/java.util.regex.Pattern$Loop.match(Pattern.java:4898)\n",
      "\tat java.base/java.util.regex.Pattern$GroupTail.match(Pattern.java:4820)\n",
      "\tat java.base/java.util.regex.Pattern$BranchConn.match(Pattern.java:4698)\n",
      "\tat java.base/java.util.regex.Pattern$CharProperty.match(Pattern.java:3931)\n",
      "\tat java.base/java.util.regex.Pattern$Branch.match(Pattern.java:4734)\n",
      "\tat java.base/java.util.regex.Pattern$GroupHead.match(Pattern.java:4789)\n",
      "\tat java.base/java.util.regex.Pattern$Loop.match(Pattern.java:4898)\n",
      "\tat java.base/java.util.regex.Pattern$GroupTail.match(Pattern.java:4820)\n",
      "\tat java.base/java.util.regex.Pattern$BranchConn.match(Pattern.java:4698)\n",
      "\tat java.base/java.util.regex.Pattern$CharProperty.match(Pattern.java:3931)\n",
      "\tat java.base/java.util.regex.Pattern$Branch.match(Pattern.java:4734)\n",
      "\tat java.base/java.util.regex.Pattern$GroupHead.match(Pattern.java:4789)\n",
      "\tat java.base/java.util.regex.Pattern$Loop.match(Pattern.java:4898)\n",
      "\tat java.base/java.util.regex.Pattern$GroupTail.match(Pattern.java:4820)\n",
      "\tat java.base/java.util.regex.Pattern$BranchConn.match(Pattern.java:4698)\n",
      "\tat java.base/java.util.regex.Pattern$CharProperty.match(Pattern.java:3931)\n",
      "\tat java.base/java.util.regex.Pattern$Branch.match(Pattern.java:4734)\n",
      "\tat java.base/java.util.regex.Pattern$GroupHead.match(Pattern.java:4789)\n",
      "\tat java.base/java.util.regex.Pattern$Loop.match(Pattern.java:4898)\n",
      "\tat java.base/java.util.regex.Pattern$GroupTail.match(Pattern.java:4820)\n",
      "\tat java.base/java.util.regex.Pattern$BranchConn.match(Pattern.java:4698)\n",
      "\tat java.base/java.util.regex.Pattern$CharProperty.match(Pattern.java:3931)\n",
      "\tat java.base/java.util.regex.Pattern$Branch.match(Pattern.java:4734)\n",
      "\tat java.base/java.util.regex.Pattern$GroupHead.match(Pattern.java:4789)\n",
      "\tat java.base/java.util.regex.Pattern$Loop.match(Pattern.java:4898)\n",
      "\tat java.base/java.util.regex.Pattern$GroupTail.match(Pattern.java:4820)\n",
      "\tat java.base/java.util.regex.Pattern$BranchConn.match(Pattern.java:4698)\n",
      "\tat java.base/java.util.regex.Pattern$CharProperty.match(Pattern.java:3931)\n",
      "\tat java.base/java.util.regex.Pattern$Branch.match(Pattern.java:4734)\n",
      "\tat java.base/java.util.regex.Pattern$GroupHead.match(Pattern.java:4789)\n",
      "\tat java.base/java.util.regex.Pattern$Loop.match(Pattern.java:4898)\n",
      "\tat java.base/java.util.regex.Pattern$GroupTail.match(Pattern.java:4820)\n",
      "\tat java.base/java.util.regex.Pattern$BranchConn.match(Pattern.java:4698)\n",
      "\tat java.base/java.util.regex.Pattern$CharProperty.match(Pattern.java:3931)\n",
      "\tat java.base/java.util.regex.Pattern$Branch.match(Pattern.java:4734)\n",
      "\tat java.base/java.util.regex.Pattern$GroupHead.match(Pattern.java:4789)\n",
      "\tat java.base/java.util.regex.Pattern$Loop.match(Pattern.java:4898)\n",
      "\tat java.base/java.util.regex.Pattern$GroupTail.match(Pattern.java:4820)\n",
      "\tat java.base/java.util.regex.Pattern$BranchConn.match(Pattern.java:4698)\n",
      "\tat java.base/java.util.regex.Pattern$CharProperty.match(Pattern.java:3931)\n",
      "\tat java.base/java.util.regex.Pattern$Branch.match(Pattern.java:4734)\n",
      "\tat java.base/java.util.regex.Pattern$GroupHead.match(Pattern.java:4789)\n",
      "\tat java.base/java.util.regex.Pattern$Loop.match(Pattern.java:4898)\n",
      "\tat java.base/java.util.regex.Pattern$GroupTail.match(Pattern.java:4820)\n",
      "\tat java.base/java.util.regex.Pattern$BranchConn.match(Pattern.java:4698)\n",
      "\tat java.base/java.util.regex.Pattern$CharProperty.match(Pattern.java:3931)\n",
      "\tat java.base/java.util.regex.Pattern$Branch.match(Pattern.java:4734)\n",
      "\tat java.base/java.util.regex.Pattern$GroupHead.match(Pattern.java:4789)\n",
      "\tat java.base/java.util.regex.Pattern$Loop.match(Pattern.java:4898)\n",
      "\tat java.base/java.util.regex.Pattern$GroupTail.match(Pattern.java:4820)\n",
      "\tat java.base/java.util.regex.Pattern$BranchConn.match(Pattern.java:4698)\n",
      "\tat java.base/java.util.regex.Pattern$CharProperty.match(Pattern.java:3931)\n",
      "\tat java.base/java.util.regex.Pattern$Branch.match(Pattern.java:4734)\n",
      "\tat java.base/java.util.regex.Pattern$GroupHead.match(Pattern.java:4789)\n",
      "\tat java.base/java.util.regex.Pattern$Loop.match(Pattern.java:4898)\n",
      "\tat java.base/java.util.regex.Pattern$GroupTail.match(Pattern.java:4820)\n",
      "\tat java.base/java.util.regex.Pattern$BranchConn.match(Pattern.java:4698)\n",
      "\tat java.base/java.util.regex.Pattern$CharProperty.match(Pattern.java:3931)\n",
      "\tat java.base/java.util.regex.Pattern$Branch.match(Pattern.java:4734)\n",
      "\tat java.base/java.util.regex.Pattern$GroupHead.match(Pattern.java:4789)\n",
      "\tat java.base/java.util.regex.Pattern$Loop.match(Pattern.java:4898)\n",
      "\tat java.base/java.util.regex.Pattern$GroupTail.match(Pattern.java:4820)\n",
      "\tat java.base/java.util.regex.Pattern$BranchConn.match(Pattern.java:4698)\n",
      "\tat java.base/java.util.regex.Pattern$CharProperty.match(Pattern.java:3931)\n",
      "\tat java.base/java.util.regex.Pattern$Branch.match(Pattern.java:4734)\n",
      "\tat java.base/java.util.regex.Pattern$GroupHead.match(Pattern.java:4789)\n",
      "\tat java.base/java.util.regex.Pattern$Loop.match(Pattern.java:4898)\n",
      "\tat java.base/java.util.regex.Pattern$GroupTail.match(Pattern.java:4820)\n",
      "\tat java.base/java.util.regex.Pattern$BranchConn.match(Pattern.java:4698)\n",
      "\tat java.base/java.util.regex.Pattern$CharProperty.match(Pattern.java:3931)\n",
      "\tat java.base/java.util.regex.Pattern$Branch.match(Pattern.java:4734)\n",
      "\tat java.base/java.util.regex.Pattern$GroupHead.match(Pattern.java:4789)\n",
      "\tat java.base/java.util.regex.Pattern$Loop.match(Pattern.java:4898)\n",
      "\tat java.base/java.util.regex.Pattern$GroupTail.match(Pattern.java:4820)\n",
      "\tat java.base/java.util.regex.Pattern$BranchConn.match(Pattern.java:4698)\n",
      "\tat java.base/java.util.regex.Pattern$CharProperty.match(Pattern.java:3931)\n",
      "\tat java.base/java.util.regex.Pattern$Branch.match(Pattern.java:4734)\n",
      "\tat java.base/java.util.regex.Pattern$GroupHead.match(Pattern.java:4789)\n",
      "\tat java.base/java.util.regex.Pattern$Loop.match(Pattern.java:4898)\n",
      "\tat java.base/java.util.regex.Pattern$GroupTail.match(Pattern.java:4820)\n",
      "\tat java.base/java.util.regex.Pattern$BranchConn.match(Pattern.java:4698)\n",
      "\tat java.base/java.util.regex.Pattern$CharProperty.match(Pattern.java:3931)\n",
      "\tat java.base/java.util.regex.Pattern$Branch.match(Pattern.java:4734)\n",
      "\tat java.base/java.util.regex.Pattern$GroupHead.match(Pattern.java:4789)\n",
      "\tat java.base/java.util.regex.Pattern$Loop.match(Pattern.java:4898)\n",
      "\tat java.base/java.util.regex.Pattern$GroupTail.match(Pattern.java:4820)\n",
      "\tat java.base/java.util.regex.Pattern$BranchConn.match(Pattern.java:4698)\n",
      "\tat java.base/java.util.regex.Pattern$CharProperty.match(Pattern.java:3931)\n",
      "\tat java.base/java.util.regex.Pattern$Branch.match(Pattern.java:4734)\n",
      "\tat java.base/java.util.regex.Pattern$GroupHead.match(Pattern.java:4789)\n",
      "\tat java.base/java.util.regex.Pattern$Loop.match(Pattern.java:4898)\n",
      "\tat java.base/java.util.regex.Pattern$GroupTail.match(Pattern.java:4820)\n",
      "\tat java.base/java.util.regex.Pattern$BranchConn.match(Pattern.java:4698)\n",
      "\tat java.base/java.util.regex.Pattern$CharProperty.match(Pattern.java:3931)\n",
      "\tat java.base/java.util.regex.Pattern$Branch.match(Pattern.java:4734)\n",
      "\tat java.base/java.util.regex.Pattern$GroupHead.match(Pattern.java:4789)\n",
      "\tat java.base/java.util.regex.Pattern$Loop.match(Pattern.java:4898)\n",
      "\tat java.base/java.util.regex.Pattern$GroupTail.match(Pattern.java:4820)\n",
      "\tat java.base/java.util.regex.Pattern$BranchConn.match(Pattern.java:4698)\n",
      "\tat java.base/java.util.regex.Pattern$CharProperty.match(Pattern.java:3931)\n",
      "\tat java.base/java.util.regex.Pattern$Branch.match(Pattern.java:4734)\n",
      "\tat java.base/java.util.regex.Pattern$GroupHead.match(Pattern.java:4789)\n",
      "\tat java.base/java.util.regex.Pattern$Loop.match(Pattern.java:4898)\n",
      "\tat java.base/java.util.regex.Pattern$GroupTail.match(Pattern.java:4820)\n",
      "\tat java.base/java.util.regex.Pattern$BranchConn.match(Pattern.java:4698)\n",
      "\tat java.base/java.util.regex.Pattern$CharProperty.match(Pattern.java:3931)\n",
      "\tat java.base/java.util.regex.Pattern$Branch.match(Pattern.java:4734)\n",
      "\tat java.base/java.util.regex.Pattern$GroupHead.match(Pattern.java:4789)\n",
      "\tat java.base/java.util.regex.Pattern$Loop.match(Pattern.java:4898)\n",
      "\tat java.base/java.util.regex.Pattern$GroupTail.match(Pattern.java:4820)\n",
      "\tat java.base/java.util.regex.Pattern$BranchConn.match(Pattern.java:4698)\n",
      "\tat java.base/java.util.regex.Pattern$CharProperty.match(Pattern.java:3931)\n",
      "\tat java.base/java.util.regex.Pattern$Branch.match(Pattern.java:4734)\n",
      "\tat java.base/java.util.regex.Pattern$GroupHead.match(Pattern.java:4789)\n",
      "\tat java.base/java.util.regex.Pattern$Loop.match(Pattern.java:4898)\n",
      "\tat java.base/java.util.regex.Pattern$GroupTail.match(Pattern.java:4820)\n",
      "\tat java.base/java.util.regex.Pattern$BranchConn.match(Pattern.java:4698)\n",
      "\tat java.base/java.util.regex.Pattern$CharProperty.match(Pattern.java:3931)\n",
      "\tat java.base/java.util.regex.Pattern$Branch.match(Pattern.java:4734)\n",
      "\tat java.base/java.util.regex.Pattern$GroupHead.match(Pattern.java:4789)\n",
      "\tat java.base/java.util.regex.Pattern$Loop.match(Pattern.java:4898)\n",
      "\tat java.base/java.util.regex.Pattern$GroupTail.match(Pattern.java:4820)\n",
      "\tat java.base/java.util.regex.Pattern$BranchConn.match(Pattern.java:4698)\n",
      "\tat java.base/java.util.regex.Pattern$CharProperty.match(Pattern.java:3931)\n",
      "\tat java.base/java.util.regex.Pattern$Branch.match(Pattern.java:4734)\n",
      "\tat java.base/java.util.regex.Pattern$GroupHead.match(Pattern.java:4789)\n",
      "\tat java.base/java.util.regex.Pattern$Loop.match(Pattern.java:4898)\n",
      "\tat java.base/java.util.regex.Pattern$GroupTail.match(Pattern.java:4820)\n",
      "\tat java.base/java.util.regex.Pattern$BranchConn.match(Pattern.java:4698)\n",
      "\tat java.base/java.util.regex.Pattern$CharProperty.match(Pattern.java:3931)\n",
      "\tat java.base/java.util.regex.Pattern$Branch.match(Patte"
     ]
    },
    {
     "name": "stderr",
     "output_type": "stream",
     "text": [
      "rn.java:4734)\n",
      "\tat java.base/java.util.regex.Pattern$GroupHead.match(Pattern.java:4789)\n",
      "\tat java.base/java.util.regex.Pattern$Loop.match(Pattern.java:4898)\n",
      "\tat java.base/java.util.regex.Pattern$GroupTail.match(Pattern.java:4820)\n",
      "\tat java.base/java.util.regex.Pattern$BranchConn.match(Pattern.java:4698)\n",
      "\tat java.base/java.util.regex.Pattern$CharProperty.match(Pattern.java:3931)\n",
      "\tat java.base/java.util.regex.Pattern$Branch.match(Pattern.java:4734)\n",
      "\tat java.base/java.util.regex.Pattern$GroupHead.match(Pattern.java:4789)\n",
      "\tat java.base/java.util.regex.Pattern$Loop.match(Pattern.java:4898)\n",
      "\tat java.base/java.util.regex.Pattern$GroupTail.match(Pattern.java:4820)\n",
      "\tat java.base/java.util.regex.Pattern$BranchConn.match(Pattern.java:4698)\n",
      "\tat java.base/java.util.regex.Pattern$CharProperty.match(Pattern.java:3931)\n",
      "\tat java.base/java.util.regex.Pattern$Branch.match(Pattern.java:4734)\n",
      "\tat java.base/java.util.regex.Pattern$GroupHead.match(Pattern.java:4789)\n",
      "\tat java.base/java.util.regex.Pattern$Loop.match(Pattern.java:4898)\n",
      "\tat java.base/java.util.regex.Pattern$GroupTail.match(Pattern.java:4820)\n",
      "\tat java.base/java.util.regex.Pattern$BranchConn.match(Pattern.java:4698)\n",
      "\tat java.base/java.util.regex.Pattern$CharProperty.match(Pattern.java:3931)\n",
      "\tat java.base/java.util.regex.Pattern$Branch.match(Pattern.java:4734)\n",
      "\tat java.base/java.util.regex.Pattern$GroupHead.match(Pattern.java:4789)\n",
      "\tat java.base/java.util.regex.Pattern$Loop.match(Pattern.java:4898)\n",
      "\tat java.base/java.util.regex.Pattern$GroupTail.match(Pattern.java:4820)\n",
      "\tat java.base/java.util.regex.Pattern$BranchConn.match(Pattern.java:4698)\n",
      "\tat java.base/java.util.regex.Pattern$CharProperty.match(Pattern.java:3931)\n",
      "\tat java.base/java.util.regex.Pattern$Branch.match(Pattern.java:4734)\n",
      "\tat java.base/java.util.regex.Pattern$GroupHead.match(Pattern.java:4789)\n",
      "\tat java.base/java.util.regex.Pattern$Loop.match(Pattern.java:4898)\n",
      "\tat java.base/java.util.regex.Pattern$GroupTail.match(Pattern.java:4820)\n",
      "\tat java.base/java.util.regex.Pattern$BranchConn.match(Pattern.java:4698)\n",
      "\tat java.base/java.util.regex.Pattern$BmpCharProperty.match(Pattern.java:3955)\n",
      "\tat java.base/java.util.regex.Pattern$Branch.match(Pattern.java:4734)\n",
      "\tat java.base/java.util.regex.Pattern$GroupHead.match(Pattern.java:4789)\n",
      "\tat java.base/java.util.regex.Pattern$Loop.match(Pattern.java:4898)\n",
      "\tat java.base/java.util.regex.Pattern$GroupTail.match(Pattern.java:4820)\n",
      "\tat java.base/java.util.regex.Pattern$BranchConn.match(Pattern.java:4698)\n",
      "\tat java.base/java.util.regex.Pattern$CharProperty.match(Pattern.java:3931)\n",
      "\tat java.base/java.util.regex.Pattern$Branch.match(Pattern.java:4734)\n",
      "\tat java.base/java.util.regex.Pattern$GroupHead.match(Pattern.java:4789)\n",
      "\tat java.base/java.util.regex.Pattern$Loop.match(Pattern.java:4898)\n",
      "\tat java.base/java.util.regex.Pattern$GroupTail.match(Pattern.java:4820)\n",
      "\tat java.base/java.util.regex.Pattern$BranchConn.match(Pattern.java:4698)\n",
      "\tat java.base/java.util.regex.Pattern$CharProperty.match(Pattern.java:3931)\n",
      "\tat java.base/java.util.regex.Pattern$Branch.match(Pattern.java:4734)\n",
      "\tat java.base/java.util.regex.Pattern$GroupHead.match(Pattern.java:4789)\n",
      "\tat java.base/java.util.regex.Pattern$Loop.match(Pattern.java:4898)\n",
      "\tat java.base/java.util.regex.Pattern$GroupTail.match(Pattern.java:4820)\n",
      "\tat java.base/java.util.regex.Pattern$BranchConn.match(Pattern.java:4698)\n",
      "\tat java.base/java.util.regex.Pattern$CharProperty.match(Pattern.java:3931)\n",
      "\tat java.base/java.util.regex.Pattern$Branch.match(Pattern.java:4734)\n",
      "\tat java.base/java.util.regex.Pattern$GroupHead.match(Pattern.java:4789)\n",
      "\tat java.base/java.util.regex.Pattern$Loop.match(Pattern.java:4898)\n",
      "\tat java.base/java.util.regex.Pattern$GroupTail.match(Pattern.java:4820)\n",
      "\tat java.base/java.util.regex.Pattern$BranchConn.match(Pattern.java:4698)\n",
      "\tat java.base/java.util.regex.Pattern$CharProperty.match(Pattern.java:3931)\n",
      "\tat java.base/java.util.regex.Pattern$Branch.match(Pattern.java:4734)\n",
      "\tat java.base/java.util.regex.Pattern$GroupHead.match(Pattern.java:4789)\n",
      "\tat java.base/java.util.regex.Pattern$Loop.match(Pattern.java:4898)\n",
      "\tat java.base/java.util.regex.Pattern$GroupTail.match(Pattern.java:4820)\n",
      "\tat java.base/java.util.regex.Pattern$BranchConn.match(Pattern.java:4698)\n",
      "\tat java.base/java.util.regex.Pattern$CharProperty.match(Pattern.java:3931)\n",
      "\tat java.base/java.util.regex.Pattern$Branch.match(Pattern.java:4734)\n",
      "\tat java.base/java.util.regex.Pattern$GroupHead.match(Pattern.java:4789)\n",
      "\tat java.base/java.util.regex.Pattern$Loop.match(Pattern.java:4898)\n",
      "\tat java.base/java.util.regex.Pattern$GroupTail.match(Pattern.java:4820)\n",
      "\tat java.base/java.util.regex.Pattern$BranchConn.match(Pattern.java:4698)\n",
      "\tat java.base/java.util.regex.Pattern$CharProperty.match(Pattern.java:3931)\n",
      "\tat java.base/java.util.regex.Pattern$Branch.match(Pattern.java:4734)\n",
      "\tat java.base/java.util.regex.Pattern$GroupHead.match(Pattern.java:4789)\n",
      "\tat java.base/java.util.regex.Pattern$Loop.match(Pattern.java:4898)\n",
      "\tat java.base/java.util.regex.Pattern$GroupTail.match(Pattern.java:4820)\n",
      "\tat java.base/java.util.regex.Pattern$BranchConn.match(Pattern.java:4698)\n",
      "\tat java.base/java.util.regex.Pattern$CharProperty.match(Pattern.java:3931)\n",
      "\tat java.base/java.util.regex.Pattern$Branch.match(Pattern.java:4734)\n",
      "\tat java.base/java.util.regex.Pattern$GroupHead.match(Pattern.java:4789)\n",
      "\tat java.base/java.util.regex.Pattern$Loop.match(Pattern.java:4898)\n",
      "\tat java.base/java.util.regex.Pattern$GroupTail.match(Pattern.java:4820)\n",
      "\tat java.base/java.util.regex.Pattern$BranchConn.match(Pattern.java:4698)\n",
      "\tat java.base/java.util.regex.Pattern$CharProperty.match(Pattern.java:3931)\n",
      "\tat java.base/java.util.regex.Pattern$Branch.match(Pattern.java:4734)\n",
      "\tat java.base/java.util.regex.Pattern$GroupHead.match(Pattern.java:4789)\n",
      "\tat java.base/java.util.regex.Pattern$Loop.match(Pattern.java:4898)\n",
      "\tat java.base/java.util.regex.Pattern$GroupTail.match(Pattern.java:4820)\n",
      "\tat java.base/java.util.regex.Pattern$BranchConn.match(Pattern.java:4698)\n",
      "\tat java.base/java.util.regex.Pattern$CharProperty.match(Pattern.java:3931)\n",
      "\tat java.base/java.util.regex.Pattern$Branch.match(Pattern.java:4734)\n",
      "\tat java.base/java.util.regex.Pattern$GroupHead.match(Pattern.java:4789)\n",
      "\tat java.base/java.util.regex.Pattern$Loop.match(Pattern.java:4898)\n",
      "\tat java.base/java.util.regex.Pattern$GroupTail.match(Pattern.java:4820)\n",
      "\tat java.base/java.util.regex.Pattern$BranchConn.match(Pattern.java:4698)\n",
      "\tat java.base/java.util.regex.Pattern$CharProperty.match(Pattern.java:3931)\n",
      "\tat java.base/java.util.regex.Pattern$Branch.match(Pattern.java:4734)\n",
      "\tat java.base/java.util.regex.Pattern$GroupHead.match(Pattern.java:4789)\n",
      "\tat java.base/java.util.regex.Pattern$Loop.match(Pattern.java:4898)\n",
      "\tat java.base/java.util.regex.Pattern$GroupTail.match(Pattern.java:4820)\n",
      "\tat java.base/java.util.regex.Pattern$BranchConn.match(Pattern.java:4698)\n",
      "\tat java.base/java.util.regex.Pattern$CharProperty.match(Pattern.java:3931)\n",
      "\tat java.base/java.util.regex.Pattern$Branch.match(Pattern.java:4734)\n",
      "\tat java.base/java.util.regex.Pattern$GroupHead.match(Pattern.java:4789)\n",
      "\tat java.base/java.util.regex.Pattern$Loop.match(Pattern.java:4898)\n",
      "\tat java.base/java.util.regex.Pattern$GroupTail.match(Pattern.java:4820)\n",
      "\tat java.base/java.util.regex.Pattern$BranchConn.match(Pattern.java:4698)\n",
      "\tat java.base/java.util.regex.Pattern$CharProperty.match(Pattern.java:3931)\n",
      "\tat java.base/java.util.regex.Pattern$Branch.match(Pattern.java:4734)\n",
      "\tat java.base/java.util.regex.Pattern$GroupHead.match(Pattern.java:4789)\n",
      "\tat java.base/java.util.regex.Pattern$Loop.match(Pattern.java:4898)\n",
      "\tat java.base/java.util.regex.Pattern$GroupTail.match(Pattern.java:4820)\n",
      "\tat java.base/java.util.regex.Pattern$BranchConn.match(Pattern.java:4698)\n",
      "\tat java.base/java.util.regex.Pattern$CharProperty.match(Pattern.java:3931)\n",
      "\tat java.base/java.util.regex.Pattern$Branch.match(Pattern.java:4734)\n",
      "\tat java.base/java.util.regex.Pattern$GroupHead.match(Pattern.java:4789)\n",
      "\tat java.base/java.util.regex.Pattern$Loop.match(Pattern.java:4898)\n",
      "\tat java.base/java.util.regex.Pattern$GroupTail.match(Pattern.java:4820)\n",
      "\tat java.base/java.util.regex.Pattern$BranchConn.match(Pattern.java:4698)\n",
      "\tat java.base/java.util.regex.Pattern$CharProperty.match(Pattern.java:3931)\n",
      "\tat java.base/java.util.regex.Pattern$Branch.match(Pattern.java:4734)\n",
      "\tat java.base/java.util.regex.Pattern$GroupHead.match(Pattern.java:4789)\n",
      "\tat java.base/java.util.regex.Pattern$Loop.match(Pattern.java:4898)\n",
      "\tat java.base/java.util.regex.Pattern$GroupTail.match(Pattern.java:4820)\n",
      "\tat java.base/java.util.regex.Pattern$BranchConn.match(Pattern.java:4698)\n",
      "\tat java.base/java.util.regex.Pattern$CharProperty.match(Pattern.java:3931)\n",
      "\tat java.base/java.util.regex.Pattern$Branch.match(Pattern.java:4734)\n",
      "\tat java.base/java.util.regex.Pattern$GroupHead.match(Pattern.java:4789)\n",
      "\tat java.base/java.util.regex.Pattern$Loop.match(Pattern.java:4898)\n",
      "\tat java.base/java.util.regex.Pattern$GroupTail.match(Pattern.java:4820)\n",
      "\tat java.base/java.util.regex.Pattern$BranchConn.match(Pattern.java:4698)\n",
      "\tat java.base/java.util.regex.Pattern$CharProperty.match(Pattern.java:3931)\n",
      "\tat java.base/java.util.regex.Pattern$Branch.match(Pattern.java:4734)\n",
      "\tat java.base/java.util.regex.Pattern$GroupHead.match(Pattern.java:4789)\n",
      "\tat java.base/java.util.regex.Pattern$Loop.match(Pattern.java:4898)\n",
      "\tat java.base/java.util.regex.Pattern$GroupTail.match(Pattern.java:4820)\n",
      "\tat java.base/java.util.regex.Pattern$BranchConn.match(Pattern.java:4698)\n",
      "\tat java.base/java.util.regex.Pattern$CharProperty.match(Pattern.java:3931)\n",
      "\tat java.base/java.util.regex.Pattern$Branch.match(Pattern.java:4734)\n",
      "\tat java.base/java.util.regex.Pattern$GroupHead.match(Pattern.java:4789)\n",
      "\tat java.base/java.util.regex.Pattern$Loop.match(Pattern.java:4898)\n",
      "\tat java.base/java.util.regex.Pattern$GroupTail.match(Pattern.java:4820)\n",
      "\tat java.base/java.util.regex.Pattern$BranchConn.match(Pattern.java:4698)\n",
      "\tat java.base/java.util.regex.Pattern$CharProperty.match(Pattern.java:3931)\n",
      "\tat java.base/java.util.regex.Pattern$Branch.match(Pattern.java:4734)\n",
      "\tat java.base/java.util.regex.Pattern$GroupHead.match(Pattern.java:4789)\n",
      "\tat java.base/java.util.regex.Pattern$Loop.match(Pattern.java:4898)\n",
      "\tat java.base/java.util.regex.Pattern$GroupTail.match(Pattern.java:4820)\n",
      "\tat java.base/java.util.regex.Pattern$BranchConn.match(Pattern.java:4698)\n",
      "\tat java.base/java.util.regex.Pattern$CharProperty.match(Pattern.java:3931)\n",
      "\tat java.base/java.util.regex.Pattern$Branch.match(Pattern.java:4734)\n",
      "\tat java.base/java.util.regex.Pattern$GroupHead.match(Pattern.java:4789)\n",
      "\tat java.base/java.util.regex.Pattern$Loop.match(Pattern.java:4898)\n",
      "\tat java.base/java.util.regex.Pattern$GroupTail.match(Pattern.java:4820)\n",
      "\tat java.base/java.util.regex.Pattern$BranchConn.match(Pattern.java:4698)\n",
      "\tat java.base/java.util.regex.Pattern$CharProperty.match(Pattern.java:3931)\n",
      "\tat java.base/java.util.regex.Pattern$Branch.match(Pattern.java:4734)\n",
      "\tat java.base/java.util.regex.Pattern$GroupHead.match(Pattern.java:4789)\n",
      "\tat java.base/java.util.regex.Pattern$Loop.match(Pattern.java:4898)\n",
      "\tat java.base/java.util.regex.Pattern$GroupTail.match(Pattern.java:4820)\n",
      "\tat java.base/java.util.regex.Pattern$BranchConn.match(Pattern.java:4698)\n",
      "\tat java.base/java.util.regex.Pattern$CharProperty.match(Pattern.java:3931)\n",
      "\tat java.base/java.util.regex.Pattern$Branch.match(Pattern.java:4734)\n",
      "\tat java.base/java.util.regex.Pattern$GroupHead.match(Pattern.java:4789)\n",
      "\tat java.base/java.util.regex.Pattern$Loop.match(Pattern.java:4898)\n",
      "\tat java.base/java.util.regex.Pattern$GroupTail.match(Pattern.java:4820)\n",
      "\tat java.base/java.util.regex.Pattern$BranchConn.match(Pattern.java:4698)\n",
      "\tat java.base/java.util.regex.Pattern$CharProperty.match(Pattern.java:3931)\n",
      "\tat java.base/java.util.regex.Pattern$Branch.match(Pattern.java:4734)\n",
      "\tat java.base/java.util.regex.Pattern$GroupHead.match(Pattern.java:4789)\n",
      "\tat java.base/java.util.regex.Pattern$Loop.match(Pattern.java:4898)\n",
      "\tat java.base/java.util.regex.Pattern$GroupTail.match(Pattern.java:4820)\n",
      "\tat java.base/java.util.regex.Pattern$BranchConn.match(Pattern.java:4698)\n",
      "\tat java.base/java.util.regex.Pattern$CharProperty.match(Pattern.java:3931)\n",
      "\tat java.base/java.util.regex.Pattern$Branch.match(Pattern.java:4734)\n",
      "\tat java.base/java.util.regex.Pattern$GroupHead.match(Pattern.java:4789)\n",
      "\tat java.base/java.util.regex.Pattern$Loop.match(Pattern.java:4898)\n",
      "\tat java.base/java.util.regex.Pattern$GroupTail.match(Pattern.java:4820)\n",
      "\tat java.base/java.util.regex.Pattern$BranchConn.match(Pattern.java:4698)\n",
      "\tat java.base/java.util.regex.Pattern$CharProperty.match(Pattern.java:3931)\n",
      "\tat java.base/java.util.regex.Pattern$Branch.match(Pattern.java:4734)\n",
      "\tat java.base/java.util.regex.Pattern$GroupHead.match(Pattern.java:4789)\n",
      "\tat java.base/java.util.regex.Pattern$Loop.match(Pattern.java:4898)\n",
      "\tat java.base/java.util.regex.Pattern$GroupTail.match(Pattern.java:4820)\n",
      "\tat java.base/java.util.regex.Pattern$BranchConn.match(Pattern.java:4698)\n",
      "\tat java.base/java.util.regex.Pattern$CharProperty.match(Pattern.java:3931)\n",
      "\tat java.base/java.util.regex.Pattern$Branch.match(Pattern.java:4734)\n",
      "\tat java.base/java.util.regex.Pattern$GroupHead.match(Pattern.java:4789)\n",
      "\tat java.base/java.util.regex.Pattern$Loop.match(Pattern.java:4898)\n",
      "\tat java.base/java.util.regex.Pattern$GroupTail.match(Pattern.java:4820)\n",
      "\tat java.base/java.util.regex.Pattern$BranchConn.match(Pattern.java:4698)\n",
      "\tat java.base/java.util.regex.Pattern$CharProperty.match(Pattern.java:3931)\n",
      "\tat java.base/java.util.regex.Pattern$Branch.match(Pattern.java:4734)\n",
      "\tat java.base/java.util.regex.Pattern$GroupHead.match(Pattern.java:4789)\n",
      "\tat java.base/java.util.regex.Pattern$Loop.match(Pattern.java:4898)\n",
      "\tat java.base/java.util.regex.Pattern$GroupTail.match(Pattern.java:4820)\n",
      "\tat java.base/java.util.regex.Pattern$BranchConn.match(Pattern.java:4698)\n",
      "\tat java.base/java.util.regex.Pattern$CharProperty.match(Pattern.java:3931)\n",
      "\tat java.base/java.util.regex.Pattern$Branch.match(Pattern.java:4734)\n",
      "\tat java.base/java.util.regex.Pattern$GroupHead.match(Pattern.java:4789)\n",
      "\tat java.base/java.util.regex.Pattern$Loop.match(Pattern.java:4898)\n",
      "\tat java.base/java.util.regex.Pattern$GroupTail.match(Pattern.java:4820)\n",
      "\tat java.base/java.util.regex.Pattern$BranchConn.match(Pattern.java:4698)\n",
      "\tat java.base/java.util.regex.Pattern$CharProperty.match(Pattern.java:3931)\n",
      "\tat java.base/java.util.regex.Pattern$Branch.match(Pattern.java:4734)\n",
      "\tat java.base/java.util.regex.Pattern$GroupHead.match(Pattern.java:4789)\n",
      "\tat java.base/java.util.regex.Pattern$Loop.match(Pattern.java:4898)\n",
      "\tat java.base/java.util.regex.Pattern$GroupTail.match(Pattern.java:4820)\n",
      "\tat java.base/java.util.regex.Pattern$BranchConn.match(Pattern.java:4698)\n",
      "\tat java.base/java.util.regex.Pattern$CharProperty.match(Pattern.java:3931)\n",
      "\tat java.base/java.util.regex.Pattern$Branch.match(Pattern.java:4734)\n",
      "\tat java.base/java.util.regex.Pattern$GroupHead.match(Pattern.java:4789)\n",
      "\tat java.base/java.util.regex.Pattern$Loop.match(Pattern.java:4898)\n",
      "\tat java.base/java.util.regex.Pattern$GroupTail.match(Pattern.java:4820)\n",
      "\tat java.base/java.util.regex.Pattern$BranchConn.match(Pattern.java:4698)\n",
      "\tat java.base/java.util.regex.Pattern$CharProperty.match(Pattern.java:3931)\n",
      "\tat java.base/java.util.regex.Pattern$Branch.match(Pattern.java:4734)\n",
      "\tat java.base/java.util.regex.Pattern$GroupHead.match(Pattern.java:4789)\n",
      "\tat java.base/java.util.regex.Pattern$Loop.match(Pattern.java:4898)\n",
      "\tat java.base/java.util.regex.Pattern$GroupTail.match(Pattern.java:4820)\n",
      "\tat java.base/java.util.regex.Pattern$BranchConn.match(Pattern.java:4698)\n",
      "\tat java.base/java.util.regex.Pattern$CharProperty.match(Pattern.java:3931)\n",
      "\tat java.base/java.util.regex.Pattern$Branch.match(Pattern.java:4734)\n",
      "\tat java.base/java.util.regex.Pattern$GroupHead.match(Pattern.java:4789)\n",
      "\tat java.base/java.util.regex.Pattern$Loop.match(Pattern.java:4898)\n",
      "\tat java.base/java.util.regex.Pattern$GroupTail.match(Pattern.java:4820)\n",
      "\tat java.base/java.util.regex.Pattern$BranchConn.match(Pattern.java:4698)\n",
      "\tat java.base/java.util.regex.Pattern$CharProperty.match(Pattern.java:3931)\n",
      "\tat java.base/java.util.regex.Pattern$Branch.match(Pattern.java:4734)\n",
      "\tat java.base/java.util.regex.Pattern$GroupHead.match(Pattern.java:4789)\n",
      "\tat java.base/java.util.regex.Pattern$Loop.match(Pattern.java:4898)\n",
      "\tat java.base/java.util.regex.Pattern$GroupTail.match(Pattern.java:4820)\n",
      "\tat java.base/java.util.regex.Pattern$BranchConn.match(Pattern.java:4698)\n",
      "\tat java.base/java.util.regex.Pattern$CharProperty.match(Pattern.java:3931)\n",
      "\tat java.base/java.util.regex.Pattern$Branch.match(Pattern.java:4734)\n",
      "\tat java.base/java.util.regex.Pattern$GroupHead.match(Pattern.java:4789)\n",
      "\tat java.base/java.util.regex.Pattern$Loop.match(Pattern.java:4898)\n",
      "\tat java.base/java.util.regex.Pattern$GroupTail.match(Pattern.java:4820)\n",
      "\tat java.base/java.util.regex.Pattern$BranchConn.match(Pattern.java:4698)\n",
      "\tat java.base/java.util.regex.Pattern$CharProperty.match(Pattern.java:3931)\n",
      "\tat java.base/java.util.regex.Pattern$Branch.match(Pattern.java:4734)\n",
      "\tat java.base/java.util.regex.Pattern$GroupHead.match(Pattern.java:4789)\n",
      "\tat java.base/java.util.regex.Pattern$Loop.match(Pattern.java:4898)\n",
      "\tat java.base/java.util.regex.Pattern$GroupTail.match(Pattern.java:4820)\n",
      "\tat java.base/java.util.regex.Pattern$BranchConn.match(Pattern.java:4698)\n",
      "\tat java.base/java.util.regex.Pattern$CharProperty.match(Pattern.java:3931)\n",
      "\tat java.base/java.util.regex.Pattern$Branch.match(Pattern.java:4734)\n",
      "\tat java.base/java.util.regex.Pattern$GroupHead.match(Pattern.java:4789)\n",
      "\tat java.base/java.util.regex.Pattern$Loop.match(Pattern.java:4898)\n",
      "\tat java.base/java.util.regex.Pattern$GroupTail.match(Pattern.java:4820)\n",
      "\tat java.base/java.util.regex.Pattern$BranchConn.match(Pattern.java:4698)\n",
      "\tat java.base/java.util.regex.Pattern$CharProperty.match(Pattern.java:3931)\n",
      "\tat java.base/java.util.regex.Pattern$Branch.match(Pattern.java:4734)\n",
      "\tat java.base/java.util.regex.Pattern$GroupHead.match(Pattern.java:4789)\n",
      "\tat java.base/java.util.regex.Pattern$Loop.match(Pattern.java:4898)\n",
      "\tat java.base/java.util.regex.Pattern$GroupTail.match(Pattern.java:4820)\n",
      "\tat java.base/java.util.regex.Pattern$BranchConn.match(Pattern.java:4698)\n",
      "\tat java.base/java.util.regex.Pattern$CharProperty.match(Pattern.java:3931)\n",
      "\tat java.base/java.util.regex.Pattern$Branch.match(Pattern.java:4734)\n",
      "\tat java.base/java.util.regex.Pattern$GroupHead.match(Pattern.java:4789)\n",
      "\tat java.base/java.util.regex.Pattern$Loop.match(Pattern.java:4898)\n",
      "\tat java.base/java.util.regex.Pattern$GroupTail.match(Pattern.java:4820)\n",
      "\tat java.base/java.util.regex.Pattern$BranchConn.match(Pattern.java:4698)\n",
      "\tat java.base/java.util.regex.Pattern$CharProperty.match(Pattern.java:3931)\n",
      "\tat java.base/java.util.regex.Pattern$Branch.match(Pattern.java:4734)\n",
      "\tat java.base/java.util.regex.Pattern$GroupHead.match(Pattern.java:4789)\n",
      "\tat java.base/java.util.regex.Pattern$Loop.match(Pattern.java:4898)\n",
      "\tat java.base/java.util.regex.Pattern$GroupTail.match(Pattern.java:4820)\n",
      "\tat java.base/java.util.regex.Pattern$BranchConn.match(Pattern.java:4698)\n",
      "\tat java.base/java.util.regex.Pattern$CharProperty.match(Pattern.java:3931)\n",
      "\tat java.base/java.util.regex.Pattern$Branch.match(Pattern.java:4734)\n",
      "\tat java.base/java.util.regex.Pattern$GroupHead.match(Pattern.java:4789)\n",
      "\tat java.base/java.util.regex.Pattern$Loop.match(Pattern.java:4898)\n",
      "\tat java.base/java.util.regex.Pattern$GroupTail.match(Pattern.java:4820)\n",
      "\tat java.base/java.util.regex.Pattern$BranchConn.match(Pattern.java:4698)\n",
      "\tat java.base/java.util.regex.Pattern$CharProperty.match(Pattern.java:3931)\n",
      "\tat java.base/java.util.regex.Pattern$Branch.match(Pattern.java:4734)\n",
      "\tat java.base/java.util.regex.Pattern$GroupHead.match(Pattern.java:4789)\n",
      "\tat java.base/java.util.regex.Pattern$Loop.match(Pattern.java:4898)\n",
      "\tat java.base/java.util.regex.Pattern$GroupTail.match(Pattern.java:4820)\n",
      "\tat java.base/java.util.regex.Pattern$BranchConn.match(Pattern.java:4698)\n",
      "\tat java.base/java.util.regex.Pattern$CharProperty.match(Pattern.java:3931)\n",
      "\tat java.base/java.util.regex.Pattern$Branch.match(Pattern.java:4734)\n",
      "\tat java.base/java.util.regex.Pattern$GroupHead.match(Pattern.java:4789)\n",
      "\tat java.base/java.util.regex.Pattern$Loop.match(Pattern.java:4898)\n",
      "\tat java.base/java.util.regex.Pattern$GroupTail.match(Pattern.java:4820)\n",
      "\tat java.base/java.util.regex.Pattern$BranchConn.match(Pattern.java:4698)\n",
      "\tat java.base/java.util.regex.Pattern$CharProperty.match(Pattern.java:3931)\n",
      "\tat java.base/java.util.regex.Pattern$Branch.match(Pattern.java:4734)\n",
      "\tat java.base/java.util.regex.Pattern$GroupHead.match(Pattern.java:4789)\n",
      "\tat java.base/java.util.regex.Pattern$Loop.match(Pattern.java:4898)\n",
      "\tat java.base/java.util.regex.Pattern$GroupTail.match(Pattern.java:4820)\n",
      "\tat java.base/java.util.regex.Pattern$BranchConn.match(Pattern.java:4698)\n",
      "\tat java.base/java.util.regex.Pattern$CharProperty.match(Pattern.java:3931)\n",
      "\tat java.base/java.util.regex.Pattern$Branch.match(Pattern.java:4734)\n",
      "\tat java.base/java.util.regex.Pattern$GroupHead.match(Pattern.java:4789)\n",
      "\tat java.base/java.util.regex.Pattern$Loop.match(Pattern.java:4898)\n",
      "\tat java.base/java.util.regex.Pattern$GroupTail.match(Pattern.java:4820)\n",
      "\tat java.base/java.util.regex.Pattern$BranchConn.match(Pattern.java:4698)\n",
      "\tat java.base/java.util.regex.Pattern$CharProperty.match(Pattern.java:3931)\n",
      "\tat java.base/java.util.regex.Pattern$Branch.match(Pattern.java:4734)\n",
      "\tat java.base/java.util.regex.Pattern$GroupHead.match(Pattern.java:4789)\n",
      "\tat java.base/java.util.regex.Pattern$Loop.match(Pattern.java:4898)\n",
      "\tat java.base/java.util.regex.Pattern$GroupTail.match(Pattern.java:4820)\n",
      "\tat java.base/java.util.regex.Pattern$BranchConn.match(Pattern.java:4698)\n",
      "\tat java.base/java.util.regex.Pattern$CharProperty.match(Pattern.java:3931)\n",
      "\tat java.base/java.util.regex.Pattern$Branch.match(Pattern.java:4734)\n",
      "\tat java.base/java.util.regex.Pattern$GroupHead.match(Pattern.java:4789)\n",
      "\tat java.base/java.util.regex.Pattern$Loop.match(Pattern.java:4898)\n",
      "\tat java.base/java.util.regex.Pattern$GroupTail.match(Pattern.java:4820)\n",
      "\tat java.base/java.util.regex.Pattern$BranchConn.match(Pattern.java:4698)\n",
      "\tat java.base/java.util.regex.Pattern$CharProperty.match(Pattern.java:3931)\n",
      "\tat java.base/java.util.regex.Pattern$Branch.match(Pattern.java:4734)\n",
      "\tat java.base/java.util.regex.Pattern$GroupHead.match(Pattern.java:4789)\n",
      "\tat java.base/java.util.regex.Pattern$Loop.match(Pattern.java:4898)\n",
      "\tat java.base/java.util.regex.Pattern$GroupTail.match(Pattern.java:4820)\n",
      "\tat java.base/java.util.regex.Pattern$BranchConn.match(Pattern.java:4698)\n",
      "\tat java.base/java.util.regex.Pattern$CharProperty.match(Pattern.java:3931)\n",
      "\tat java.base/java.util.regex.Pattern$Branch.match(Pattern.java:4734)\n",
      "\tat java.base/java.util.regex.Pattern$GroupHead.match(Pattern.java:4789)\n",
      "\tat java.base/java.util.regex.Pattern$Loop.match(Pattern.java:4898)\n",
      "\tat java.base/java.util.regex.Pattern$GroupTail.match(Pattern.java:4820)\n",
      "\tat java.base/java.util.regex.Pattern$BranchConn.match(Pattern.java:4698)\n",
      "\tat java.base/java.util.regex.Pattern$CharProperty.match(Pattern.java:3931)\n",
      "\tat java.base/java.util.regex.Pattern$Branch.match(Pattern.java:4734)\n",
      "\tat java.base/java.util.regex.Pattern$GroupHead.match(Pattern.java:4789)\n",
      "\tat java.base/java.util.regex.Pattern$Loop.match(Pattern.java:4898)\n",
      "\tat java.base/java.util.regex.Pattern$GroupTail.match(Pattern.java:4820)\n",
      "\tat java.base/java.util.regex.Pattern$BranchConn.match(Pattern.java:4698)\n",
      "\tat java.base/java.util.regex.Pattern$CharProperty.match(Pattern.java:3931)\n",
      "\tat java.base/java.util.regex.Pattern$Branch.match(Pattern.java:4734)\n",
      "\tat java.base/java.util.regex.Pattern$GroupHead.match(Pattern.java:4789)\n",
      "\tat java.base/java.util.regex.Pattern$Loop.match(Pattern.java:4898)\n",
      "\tat java.base/java.util.regex.Pattern$GroupTail.match(Pattern.java:4820)\n",
      "\tat java.base/java.util.regex.Pattern$BranchConn.match(Pattern.java:4698)\n",
      "\tat java.base/java.util.regex.Pattern$CharProperty.match(Pattern.java:3931)\n",
      "\tat java.base/java.util.regex.Pattern$Branch.match(Pattern.java:4734)\n",
      "\tat java.base/java.util.regex.Pattern$GroupHead.match(Pattern.java:4789)\n",
      "\tat java.base/java.util.regex.Pattern$Loop.match(Pattern.java:4898)\n",
      "\tat java.base/java.util.regex.Pattern$GroupTail.match(Pattern.java:4820)\n",
      "\tat java.base/java.util.regex.Pattern$BranchConn.match(Pattern.java:4698)\n",
      "\tat java.base/java.util.regex.Pattern$CharProperty.match(Pattern.java:3931)\n",
      "\tat java.base/java.util.regex.Pattern$Branch.match(Pattern.java:4734)\n",
      "\tat java.base/java.util.regex.Pattern$GroupHead.match(Pattern.java:4789)\n",
      "\tat java.base/java.util.regex.Pattern$Loop.match(Pattern.java:4898)\n",
      "\tat java.base/java.util.regex.Pattern$GroupTail.match(Pattern.java:4820)\n",
      "\tat java.base/java.util.regex.Pattern$BranchConn.match(Pattern.java:4698)\n",
      "\tat java.base/java.util.regex.Pattern$CharProperty.match(Pattern.java:3931)\n",
      "\tat java.base/java.util.regex.Pattern$Branch.match(Pattern.java:4734)\n",
      "\tat java.base/java.util.regex.Pattern$GroupHead.match(Pattern.java:4789)\n",
      "\tat java.base/java.util.regex.Pattern$Loop.match(Pattern.java:4898)\n",
      "\tat java.base/java.util.regex.Pattern$GroupTail.match(Pattern.java:4820)\n",
      "\tat java.base/java.util.regex.Pattern$BranchConn.match(Pattern.java:4698)\n",
      "\tat java.base/java.util.regex.Pattern$CharProperty.match(Pattern.java:3931)\n",
      "\tat java.base/java.util.regex.Pattern$Branch.match(Pattern.java:4734)\n",
      "\tat java.base/java.util.regex.Pattern$GroupHead.match(Pattern.java:4789)\n",
      "\tat java.base/java.util.regex.Pattern$Loop.match(Pattern.java:4898)\n",
      "\tat java.base/java.util.regex.Pattern$GroupTail.match(Pattern.java:4820)\n",
      "\tat java.base/java.util.regex.Pattern$BranchConn.match(Pattern.java:4698)\n",
      "\tat java.base/java.util.regex.Pattern$CharProperty.match(Pattern.java:3931)\n",
      "\tat java.base/java.util.regex.Pattern$Branch.match(Pattern.java:4734)\n",
      "\tat java.base/java.util.regex.Pattern$GroupHead.match(Pattern.java:4789)\n",
      "\tat java.base/java.util.regex.Pattern$Loop.match(Pattern.java:4898)\n",
      "\tat java.base/java.util.regex.Pattern$GroupTail.match(Pattern.java:4820)\n",
      "\tat java.base/java.util.regex.Pattern$BranchConn.match(Pattern.java:4698)\n",
      "\tat java.base/java.util.regex.Pattern$CharProperty.match(Pattern.java:3931)\n",
      "\tat java.base/java.util.regex.Pattern$Branch.match(Pattern.java:4734)\n",
      "\tat java.base/java.util.regex.Pattern$GroupHead.match(Pattern.java:4789)\n",
      "\tat java.base/java.util.regex.Pattern$Loop.match(Pattern.java:4898)\n",
      "\tat java.base/java.util.regex.Pattern$GroupTail.match(Pattern.java:4820)\n",
      "\tat java.base/java.util.regex.Pattern$BranchConn.match(Pattern.java:4698)\n",
      "\tat java.base/java.util.regex.Pattern$CharProperty.match(Pattern.java:3931)\n",
      "\tat java.base/java.util.regex.Pattern$Branch.match(Pattern.java:4734)\n",
      "\tat java.base/java.util.regex.Pattern$GroupHead.match(Pattern.java:4789)\n",
      "\tat java.base/java.util.regex.Pattern$Loop.match(Pattern.java:4898)\n",
      "\tat java.base/java.util.regex.Pattern$GroupTail.match(Pattern.java:4820)\n",
      "\tat java.base/java.util.regex.Pattern$BranchConn.match(Pattern.java:4698)\n",
      "\tat java.base/java.util.regex.Pattern$CharProperty.match(Pattern.java:3931)\n",
      "\tat java.base/java.util.regex.Pattern$Branch.match(Pattern.java:4734)\n",
      "\tat java.base/java.util.regex.Pattern$GroupHead.match(Pattern.java:4789)\n",
      "\tat java.base/java.util.regex.Pattern$Loop.match(Pattern.java:4898)\n",
      "\tat java.base/java.util.regex.Pattern$GroupTail.match(Pattern.java:4820)\n",
      "\tat java.base/java.util.regex.Pattern$BranchConn.match(Pattern.java:4698)\n",
      "\tat java.base/java.util.regex.Pattern$CharProperty.match(Pattern.java:3931)\n",
      "\tat java.base/java.util.regex.Pattern$Branch.match(Pattern.java:4734)\n",
      "\tat java.base/java.util.regex.Pattern$GroupHead.match(Pattern.java:4789)\n",
      "\tat java.base/java.util.regex.Pattern$Loop.match(Pattern.java:4898)\n",
      "\tat java.base/java.util.regex.Pattern$GroupTail.match(Pattern.java:4820)\n",
      "\tat java.base/java.util.regex.Pattern$BranchConn.match(Pattern.java:4698)\n",
      "\tat java.base/java.util.regex.Pattern$CharProperty.match(Pattern.java:3931)\n",
      "\tat java.base/java.util.regex.Pattern$Branch.match(Pattern.java:4734)\n",
      "\tat java.base/java.util.regex.Pattern$GroupHead.match(Pattern.java:4789)\n",
      "\tat java.base/java.util.regex.Pattern$Loop.match(Pattern.java:4898)\n",
      "\tat java.base/java.util.regex.Pattern$GroupTail.match(Pattern.java:4820)\n",
      "\tat java.base/java.util.regex.Pattern$BranchConn.match(Pattern.java:4698)\n",
      "\tat java.base/java.util.regex.Pattern$CharProperty.match(Pattern.java:3931)\n",
      "\tat java.base/java.util.regex.Pattern$Branch.match(Pattern.java:4734)\n",
      "\tat java.base/java.util.regex.Pattern$GroupHead.match(Pattern.java:4789)\n",
      "\tat java.base/java.util.regex.Pattern$Loop.match(Pattern.java:4898)\n",
      "\tat java.base/java.util.regex.Pattern$GroupTail.match(Pattern.java:4820)\n",
      "\tat java.base/java.util.regex.Pattern$BranchConn.match(Pattern.java:4698)\n",
      "\tat java.base/java.util.regex.Pattern$CharProperty.match(Pattern.java:3931)\n",
      "\tat java.base/java.util.regex.Pattern$Branch.match(Pattern.java:4734)\n",
      "\tat java.base/java.util.regex.Pattern$GroupHead.match(Pattern.java:4789)\n",
      "\tat java.base/java.util.regex.Pattern$Loop.match(Pattern.java:4898)\n",
      "\tat java.base/java.util.regex.Pattern$GroupTail.match(Pattern.java:4820)\n",
      "\tat java.base/java.util.regex.Pattern$BranchConn.match(Pattern.java:4698)\n",
      "\tat java.base/java.util.regex.Pattern$CharProperty.match(Pattern.java:3931)\n",
      "\tat java.base/java.util.regex.Pattern$Branch.match(Pattern.java:4734)\n",
      "\tat java.base/java.util.regex.Pattern$GroupHead.match(Pattern.java:4789)\n",
      "\tat java.base/java.util.regex.Pattern$Loop.match(Pattern.java:4898)\n",
      "\tat java.base/java.util.regex.Pattern$GroupTail.match(Pattern.java:4820)\n",
      "\tat java.base/java.util.regex.Pattern$BranchConn.match(Pattern.java:4698)\n",
      "\tat java.base/java.util.regex.Pattern$CharProperty.match(Pattern.java:3931)\n",
      "\tat java.base/java.util.regex.Pattern$Branch.match(Pattern.java:4734)\n",
      "\tat java.base/java.util.regex.Pattern$GroupHead.match(Pattern.java:4789)\n",
      "\tat java.base/java.util.regex.Pattern$Loop.match(Pattern.java:4898)\n",
      "\tat java.base/java.util.regex.Pattern$GroupTail.match(Pattern.java:4820)\n",
      "\tat java.base/java.util.regex.Pattern$BranchConn.match(Pattern.java:4698)\n",
      "\tat java.base/java.util.regex.Pattern$CharProperty.match(Pattern.java:3931)\n",
      "\tat java.base/java.util.regex.Pattern$Branch.match(Pattern.java:4734)\n",
      "\tat java.base/java.util.regex.Pattern$GroupHead.match(Pattern.java:4789)\n",
      "\tat java.base/java.util.regex.Pattern$Loop.match(Pattern.java:4898)\n",
      "\tat java.base/java.util.regex.Pattern$GroupTail.match(Pattern.java:4820)\n",
      "\tat java.base/java.util.regex.Pattern$BranchConn.match(Pattern.java:4698)\n",
      "\tat java.base/java.util.regex.Pattern$CharProperty.match(Pattern.java:3931)\n",
      "\tat java.base/java.util.regex.Pattern$Branch.match(Pattern.java:4734)\n",
      "\tat java.base/java.util.regex.Pattern$GroupHead.match(Pattern.java:4789)\n",
      "\tat java.base/java.util.regex.Pattern$Loop.match(Pattern.java:4898)\n",
      "\tat java.base/java.util.regex.Pattern$GroupTail.match(Pattern.java:4820)\n",
      "\tat java.base/java.util.regex.Pattern$BranchConn.match(Pattern.java:4698)\n",
      "\tat java.base/java.util.regex.Pattern$CharProperty.match(Pattern.java:3931)\n",
      "\tat java.base/java.util.regex.Pattern$Branch.match(Pattern.java:4734)\n",
      "\tat java.base/java.util.regex.Pattern$GroupHead.match(Pattern.java:4789)\n",
      "\tat java.base/java.util.regex.Pattern$Loop.match(Pattern.java:4898)\n",
      "\tat java.base/java.util.regex.Pattern$GroupTail.match(Pattern.java:4820)\n",
      "\tat java.base/java.util.regex.Pattern$BranchConn.match(Pattern.java:4698)\n",
      "\tat java.base/java.util.regex.Pattern$CharProperty.match(Pattern.java:3931)\n",
      "\tat java.base/java.util.regex.Pattern$Branch.match(Pattern.java:4734)\n",
      "\tat java.base/java.util.regex.Pattern$GroupHead.match(Pattern.java:4789)\n",
      "\tat java.base/java.util.regex.Pattern$Loop.match(Pattern.java:4898)\n",
      "\tat java.base/java.util.regex.Pattern$GroupTail.match(Pattern.java:4820)\n",
      "\tat java.base/java.util.regex.Pattern$BranchConn.match(Pattern.java:4698)\n",
      "\tat java.base/java.util.regex.Pattern$CharProperty.match(Pattern.java:3931)\n",
      "\tat java.base/java.util.regex.Pattern$Branch.match(Pattern.java:4734)\n",
      "\tat java.base/java.util.regex.Pattern$GroupHead.match(Pattern.java:4789)\n",
      "\tat java.base/java.util.regex.Pattern$Loop.match(Pattern.java:4898)\n",
      "\tat java.base/java.util.regex.Pattern$GroupTail.match(Pattern.java:4820)\n",
      "\tat java.base/java.util.regex.Pattern$BranchConn.match(Pattern.java:4698)\n",
      "\tat java.base/java.util.regex.Pattern$CharProperty.match(Pattern.java:3931)\n",
      "\tat java.base/java.util.regex.Pattern$Branch.match(Pattern.java:4734)\n",
      "\tat java.base/java.util.regex.Pattern$GroupHead.match(Pattern.java:4789)\n",
      "\tat java.base/java.util.regex.Pattern$Loop.match(Pattern.java:4898)\n",
      "\tat java.base/java.util.regex.Pattern$GroupTail.match(Pattern.java:4820)\n",
      "\tat java.base/java.util.regex.Pattern$BranchConn.match(Pattern.java:4698)\n",
      "\tat java.base/java.util.regex.Pattern$CharProperty.match(Pattern.java:3931)\n",
      "\tat java.base/java.util.regex.Pattern$Branch.match(Pattern.java:4734)\n",
      "\tat java.base/java.util.regex.Pattern$GroupHead.match(Pattern.java:4789)\n",
      "\tat java.base/java.util.regex.Pattern$Loop.match(Pattern.java:4898)\n",
      "\tat java.base/java.util.regex.Pattern$GroupTail.match(Pattern.java:4820)\n",
      "\tat java.base/java.util.regex.Pattern$BranchConn.match(Pattern.java:4698)\n",
      "\tat java.base/java.util.regex.Pattern$CharProperty.match(Pattern.java:3931)\n",
      "\tat java.base/java.util.regex.Pattern$Branch.match(Pattern.java:4734)\n",
      "\tat java.base/java.util.regex.Pattern$GroupHead.match(Pattern.java:4789)\n",
      "\tat java.base/java.util.regex.Pattern$Loop.match(Pattern.java:4898)\n",
      "\tat java.base/java.util.regex.Pattern$GroupTail.match(Pattern.java:4820)\n",
      "\tat java.base/java.util.regex.Pattern$BranchConn.match(Pattern.java:4698)\n",
      "\tat java.base/java.util.regex.Pattern$CharProperty.match(Pattern.java:3931)\n",
      "\tat java.base/java.util.regex.Pattern$Branch.match(Pattern.java:4734)\n",
      "\tat java.base/java.util.regex.Pattern$GroupHead.match(Pattern.java:4789)\n",
      "\tat java.base/java.util.regex.Pattern$Loop.match(Pattern.java:4898)\n",
      "\tat java.base/java.util.regex.Pattern$GroupTail.match(Pattern.java:4820)\n",
      "\tat java.base/java.util.regex.Pattern$BranchConn.match(Pattern.java:4698)\n",
      "\tat java.base/java.util.regex.Pattern$CharProperty.match(Pattern.java:3931)\n",
      "\tat java.base/java.util.regex.Pattern$Branch.match(Pattern.java:4734)\n",
      "\tat java.base/java.util.regex.Pattern$GroupHead.match(Pattern.java:4789)\n",
      "\tat java.base/java.util.regex.Pattern$Loop.match(Pattern.java:4898)\n",
      "\tat java.base/java.util.regex.Pattern$GroupTail.match(Pattern.java:4820)\n",
      "\tat java.base/java.util.regex.Pattern$BranchConn.match(Pattern.java:4698)\n",
      "\tat java.base/java.util.regex.Pattern$CharProperty.match(Pattern.java:3931)\n",
      "\tat java.base/java.util.regex.Pattern$Branch.match(Pattern.java:4734)\n",
      "\tat java.base/java.util.regex.Pattern$GroupHead.match(Pattern.java:4789)\n",
      "\tat java.base/java.util.regex.Pattern$Loop.match(Pattern.java:4898)\n",
      "\tat java.base/java.util.regex.Pattern$GroupTail.match(Pattern.java:4820)\n",
      "\tat java.base/java.util.regex.Pattern$BranchConn.match(Pattern.java:4698)\n",
      "\tat java.base/java.util.regex.Pattern$CharProperty.match(Pattern.java:3931)\n",
      "\tat java.base/java.util.regex.Pattern$Branch.match(Pattern.java:4734)\n",
      "\tat java.base/java.util.regex.Pattern$GroupHead.match(Pattern.java:4789)\n",
      "\tat java.base/java.util.regex.Pattern$Loop.match(Pattern.java:4898)\n",
      "\tat java.base/java.util.regex.Pattern$GroupTail.match(Pattern.java:4820)\n",
      "\tat java.base/java.util.regex.Pattern$BranchConn.match(Pattern.java:4698)\n",
      "\tat java.base/java.util.regex.Pattern$CharProperty.match(Pattern.java:3931)\n",
      "\tat java.base/java.util.regex.Pattern$Branch.match(Pattern.java:4734)\n",
      "\tat java.base/java.util.regex.Pattern$GroupHead.match(Pattern.java:4789)\n",
      "\tat java.base/java.util.regex.Pattern$Loop.match(Pattern.java:4898)\n",
      "\tat java.base/java.util.regex.Pattern$GroupTail.match(Pattern.java:4820)\n",
      "\tat java.base/java.util.regex.Pattern$BranchConn.match(Pattern.java:4698)\n",
      "\tat java.base/java.util.regex.Pattern$CharProperty.match(Pattern.java:3931)\n",
      "\tat java.base/java.util.regex.Pattern$Branch.match(Pattern.java:4734)\n",
      "\tat java.base/java.util.regex.Pattern$GroupHead.match(Pattern.java:4789)\n",
      "\tat java.base/java.util.regex.Pattern$Loop.match(Pattern.java:4898)\n",
      "\tat java.base/java.util.regex.Pattern$GroupTail.match(Pattern.java:4820)\n",
      "\tat java.base/java.util.regex.Pattern$BranchConn.match(Pattern.java:4698)\n",
      "\tat java.base/java.util.regex.Pattern$CharProperty.match(Pattern.java:3931)\n",
      "\tat java.base/java.util.regex.Pattern$Branch.match(Pattern.java:4734)\n",
      "\tat java.base/java.util.regex.Pattern$GroupHead.match(Pattern.java:4789)\n",
      "\tat java.base/java.util.regex.Pattern$Loop.match(Pattern.java:4898)\n",
      "\tat java.base/java.util.regex.Pattern$GroupTail.match(Pattern.java:4820)\n",
      "\tat java.base/java.util.regex.Pattern$BranchConn.match(Pattern.java:4698)\n",
      "\tat java.base/java.util.regex.Pattern$CharProperty.match(Pattern.java:3931)\n",
      "\tat java.base/java.util.regex.Pattern$Branch.match(Pattern.java:4734)\n",
      "\tat java.base/java.util.regex.Pattern$GroupHead.match(Pattern.java:4789)\n",
      "\tat java.base/java.util.regex.Pattern$Loop.match(Pattern.java:4898)\n",
      "\tat java.base/java.util.regex.Pattern$GroupTail.match(Pattern.java:4820)\n",
      "\tat java.base/java.util.regex.Pattern$BranchConn.match(Pattern.java:4698)\n",
      "\tat java.base/java.util.regex.Pattern$CharProperty.match(Pattern.java:3931)\n",
      "\tat java.base/java.util.regex.Pattern$Branch.match(Pattern.java:4734)\n",
      "\tat java.base/java.util.regex.Pattern$GroupHead.match(Pattern.java:4789)\n",
      "\tat java.base/java.util.regex.Pattern$Loop.match(Pattern.java:4898)\n",
      "\tat java.base/java.util.regex.Pattern$GroupTail.match(Pattern.java:4820)\n",
      "\tat java.base/java.util.regex.Pattern$BranchConn.match(Pattern.java:4698)\n",
      "\tat java.base/java.util.regex.Pattern$CharProperty.match(Pattern.java:3931)\n",
      "\tat java.base/java.util.regex.Pattern$Branch.match(Pattern.java:4734)\n",
      "\tat java.base/java.util.regex.Pattern$GroupHead.match(Pattern.java:4789)\n",
      "\tat java.base/java.util.regex.Pattern$Loop.match(Pattern.java:4898)\n",
      "\tat java.base/java.util.regex.Pattern$GroupTail.match(Pattern.java:4820)\n",
      "\tat java.base/java.util.regex.Pattern$BranchConn.match(Pattern.java:4698)\n",
      "\tat java.base/java.util.regex.Pattern$CharProperty.match(Pattern.java:3931)\n",
      "\tat java.base/java.util.regex.Pattern$Branch.match(Pattern.java:4734)\n",
      "\tat java.base/java.util.regex.Pattern$GroupHead.match(Pattern.java:4789)\n",
      "\tat java.base/java.util.regex.Pattern$Loop.match(Pattern.java:4898)\n",
      "\tat java.base/java.util.regex.Pattern$GroupTail.match(Pattern.java:4820)\n",
      "\tat java.base/java.util.regex.Pattern$BranchConn.match(Pattern.java:4698)\n",
      "\tat java.base/java.util.regex.Pattern$CharProperty.match(Pattern.java:3931)\n",
      "\tat java.base/java.util.regex.Pattern$Branch.match(Pattern.java:4734)\n",
      "\tat java.base/java.util.regex.Pattern$GroupHead.match(Pattern.java:4789)\n",
      "\tat java.base/java.util.regex.Pattern$Loop.match(Pattern.java:4898)\n",
      "\tat java.base/java.util.regex.Pattern$GroupTail.match(Pattern.java:4820)\n",
      "\tat java.base/java.util.regex.Pattern$BranchConn.match(Pattern.java:4698)\n",
      "\tat java.base/java.util.regex.Pattern$CharProperty.match(Pattern.java:3931)\n",
      "\tat java.base/java.util.regex.Pattern$Branch.match(Pattern.java:4734)\n",
      "\tat java.base/java.util.regex.Pattern$GroupHead.match(Pattern.java:4789)\n",
      "\tat java.base/java.util.regex.Pattern$Loop.match(Pattern.java:4898)\n",
      "\tat java.base/java.util.regex.Pattern$GroupTail.match(Pattern.java:4820)\n",
      "\tat java.base/java.util.regex.Pattern$BranchConn.match(Pattern.java:4698)\n",
      "\tat java.base/java.util.regex.Pattern$CharProperty.match(Pattern.java:3931)\n",
      "\tat java.base/java.util.regex.Pattern$Branch.match(Pattern.java:4734)\n",
      "\tat java.base/java.util.regex.Pattern$GroupHead.match(Pattern.java:4789)\n",
      "\tat java.base/java.util.regex.Pattern$Loop.match(Pattern.java:4898)\n",
      "\tat java.base/java.util.regex.Pattern$GroupTail.match(Pattern.java:4820)\n",
      "\tat java.base/java.util.regex.Pattern$BranchConn.match(Pattern.java:4698)\n",
      "\tat java.base/java.util.regex.Pattern$CharProperty.match(Pattern.java:3931)\n",
      "\tat java.base/java.util.regex.Pattern$Branch.match(Pattern.java:4734)\n",
      "\tat java.base/java.util.regex.Pattern$GroupHead.match(Pattern.java:4789)\n",
      "\tat java.base/java.util.regex.Pattern$Loop.match(Pattern.java:4898)\n",
      "\tat java.base/java.util.regex.Pattern$GroupTail.match(Pattern.java:4820)\n",
      "\tat java.base/java.util.regex.Pattern$BranchConn.match(Pattern.java:4698)\n",
      "\tat java.base/java.util.regex.Pattern$CharProperty.match(Pattern.java:3931)\n",
      "\tat java.base/java.util.regex.Pattern$Branch.match(Pattern.java:4734)\n",
      "\tat java.base/java.util.regex.Pattern$GroupHead.match(Pattern.java:4789)\n",
      "\tat java.base/java.util.regex.Pattern$Loop.match(Pattern.java:4898)\n",
      "\tat java.base/java.util.regex.Pattern$GroupTail.match(Pattern.java:4820)\n",
      "\tat java.base/java.util.regex.Pattern$BranchConn.match(Pattern.java:4698)\n",
      "\tat java.base/java.util.regex.Pattern$CharProperty.match(Pattern.java:3931)\n",
      "\tat java.base/java.util.regex.Pattern$Branch.match(Pattern.java:4734)\n",
      "\tat java.base/java.util.regex.Pattern$GroupHead.match(Pattern.java:4789)\n",
      "\tat java.base/java.util.regex.Pattern$Loop.match(Pattern.java:4898)\n",
      "\tat java.base/java.util.regex.Pattern$GroupTail.match(Pattern.java:4820)\n",
      "\tat java.base/java.util.regex.Pattern$BranchConn.match(Pattern.java:4698)\n",
      "\tat java.base/java.util.regex.Pattern$CharProperty.match(Pattern.java:3931)\n",
      "\tat java.base/java.util.regex.Pattern$Branch.match(Pattern.java:4734)\n",
      "\tat java.base/java.util.regex.Pattern$GroupHead.match(Pattern.java:4789)\n",
      "\tat java.base/java.util.regex.Pattern$Loop.match(Pattern.java:4898)\n",
      "\tat java.base/java.util.regex.Pattern$GroupTail.match(Pattern.java:4820)\n",
      "\tat java.base/java.util.regex.Pattern$BranchConn.match(Pattern.java:4698)\n",
      "\tat java.base/java.util.regex.Pattern$CharProperty.match(Pattern.java:3931)\n",
      "\tat java.base/java.util.regex.Pattern$Branch.match(Pattern.java:4734)\n",
      "\tat java.base/java.util.regex.Pattern$GroupHead.match(Pattern.java:4789)\n",
      "\tat java.base/java.util.regex.Pattern$Loop.match(Pattern.java:4898)\n",
      "\tat java.base/java.util.regex.Pattern$GroupTail.match(Pattern.java:4820)\n",
      "\tat java.base/java.util.regex.Pattern$BranchConn.match(Pattern.java:4698)\n",
      "\tat java.base/java.util.regex.Pattern$CharProperty.match(Pattern.java:3931)\n",
      "\tat java.base/java.util.regex.Pattern$Branch.match(Pattern.java:4734)\n",
      "\tat java.base/java.util.regex.Pattern$GroupHead.match(Pattern.java:4789)\n",
      "\tat java.base/java.util.regex.Pattern$Loop.match(Pattern.java:4898)\n",
      "\tat java.base/java.util.regex.Pattern$GroupTail.match(Pattern.java:4820)\n",
      "\tat java.base/java.util.regex.Pattern$BranchConn.match(Pattern.java:4698)\n",
      "\tat java.base/java.util.regex.Pattern$CharProperty.match(Pattern.java:3931)\n",
      "\tat java.base/java.util.regex.Pattern$Branch.match(Pattern.java:4734)\n",
      "\tat java.base/java.util.regex.Pattern$GroupHead.match(Pattern.java:4789)\n",
      "\tat java.base/java.util.regex.Pattern$Loop.match(Pattern.java:4898)\n",
      "\tat java.base/java.util.regex.Pattern$GroupTail.match(Pattern.java:4820)\n",
      "\tat java.base/java.util.regex.Pattern$BranchConn.match(Pattern.java:4698)\n",
      "\tat java.base/java.util.regex.Pattern$CharProperty.match(Pattern.java:3931)\n",
      "\tat java.base/java.util.regex.Pattern$Branch.match(Pattern.java:4734)\n",
      "\tat java.base/java.util.regex.Pattern$GroupHead.match(Pattern.java:4789)\n",
      "\tat java.base/java.util.regex.Pattern$Loop.match(Pattern.java:4898)\n",
      "\tat java.base/java.util.regex.Pattern$GroupTail.match(Pattern.java:4820)\n",
      "\tat java.base/java.util.regex.Pattern$BranchConn.match(Pattern.java:4698)\n",
      "\tat java.base/java.util.regex.Pattern$CharProperty.match(Pattern.java:3931)\n",
      "\tat java.base/java.util.regex.Pattern$Branch.match(Pattern.java:4734)\n",
      "\tat java.base/java.util.regex.Pattern$GroupHead.match(Pattern.java:4789)\n",
      "\tat java.base/java.util.regex.Pattern$Loop.match(Pattern.java:4898)\n",
      "\tat java.base/java.util.regex.Pattern$GroupTail.match(Pattern.java:4820)\n",
      "\tat java.base/java.util.regex.Pattern$BranchConn.match(Pattern.java:4698)\n",
      "\tat java.base/java.util.regex.Pattern$CharProperty.match(Pattern.java:3931)\n",
      "\tat java.base/java.util.regex.Pattern$Branch.match(Pattern.java:4734)\n",
      "\tat java.base/java.util.regex.Pattern$GroupHead.match(Pattern.java:4789)\n",
      "\tat java.base/java.util.regex.Pattern$Loop.match(Pattern.java:4898)\n",
      "\tat java.base/java.util.regex.Pattern$GroupTail.match(Pattern.java:4820)\n",
      "\tat java.base/java.util.regex.Pattern$BranchConn.match(Pattern.java:4698)\n",
      "\tat java.base/java.util.regex.Pattern$CharProperty.match(Pattern.java:3931)\n",
      "\tat java.base/java.util.regex.Pattern$Branch.match(Pattern.java:4734)\n",
      "\tat java.base/java.util.regex.Pattern$GroupHead.match(Pattern.java:4789)\n",
      "\tat java.base/java.util.regex.Pattern$Loop.match(Pattern.java:4898)\n",
      "\tat java.base/java.util.regex.Pattern$GroupTail.match(Pattern.java:4820)\n",
      "\tat java.base/java.util.regex.Pattern$BranchConn.match(Pattern.java:4698)\n",
      "\tat java.base/java.util.regex.Pattern$CharProperty.match(Pattern.java:3931)\n",
      "\tat java.base/java.util.regex.Pattern$Branch.match(Pattern.java:4734)\n",
      "\tat java.base/java.util.regex.Pattern$GroupHead.match(Pattern.java:4789)\n",
      "\tat java.base/java.util.regex.Pattern$Loop.match(Pattern.java:4898)\n",
      "\tat java.base/java.util.regex.Pattern$GroupTail.match(Pattern.java:4820)\n",
      "\tat java.base/java.util.regex.Pattern$BranchConn.match(Pattern.java:4698)\n",
      "\tat java.base/java.util.regex.Pattern$CharProperty.match(Pattern.java:3931)\n",
      "\tat java.base/java.util.regex.Pattern$Branch.match(Pattern.java:4734)\n",
      "\tat java.base/java.util.regex.Pattern$GroupHead.match(Pattern.java:4789)\n",
      "\tat java.base/java.util.regex.Pattern$Loop.match(Pattern.java:4898)\n",
      "\tat java.base/java.util.regex.Pattern$GroupTail.match(Pattern.java:4820)\n",
      "\tat java.base/java.util.regex.Pattern$BranchConn.match(Pattern.java:4698)\n",
      "\tat java.base/java.util.regex.Pattern$CharProperty.match(Pattern.java:3931)\n",
      "\tat java.base/java.util.regex.Pattern$Branch.match(Pattern.java:4734)\n",
      "\tat java.base/java.util.regex.Pattern$GroupHead.match(Pattern.java:4789)\n",
      "\tat java.base/java.util.regex.Pattern$Loop.match(Pattern.java:4898)\n",
      "\tat java.base/java.util.regex.Pattern$GroupTail.match(Pattern.java:4820)\n",
      "\tat java.base/java.util.regex.Pattern$BranchConn.match(Pattern.java:4698)\n",
      "\tat java.base/java.util.regex.Pattern$CharProperty.match(Pattern.java:3931)\n",
      "\tat java.base/java.util.regex.Pattern$Branch.match(Pattern.java:4734)\n",
      "\tat java.base/java.util.regex.Pattern$GroupHead.match(Pattern.java:4789)\n",
      "\tat java.base/java.util.regex.Pattern$Loop.match(Pattern.java:4898)\n",
      "\tat java.base/java.util.regex.Pattern$GroupTail.match(Pattern.java:4820)\n",
      "\tat java.base/java.util.regex.Pattern$BranchConn.match(Pattern.java:4698)\n",
      "\tat java.base/java.util.regex.Pattern$CharProperty.match(Pattern.java:3931)\n",
      "\tat java.base/java.util.regex.Pattern$Branch.match(Pattern.java:4734)\n",
      "\tat java.base/java.util.regex.Pattern$GroupHead.match(Pattern.java:4789)\n",
      "\tat java.base/java.util.regex.Pattern$Loop.match(Pattern.java:4898)\n",
      "\tat java.base/java.util.regex.Pattern$GroupTail.match(Pattern.java:4820)\n",
      "\tat java.base/java.util.regex.Pattern$BranchConn.match(Pattern.java:4698)\n",
      "\tat java.base/java.util.regex.Pattern$CharProperty.match(Pattern.java:3931)\n",
      "\tat java.base/java.util.regex.Pattern$Branch.match(Pattern.java:4734)\n",
      "\tat java.base/java.util.regex.Pattern$GroupHead.match(Pattern.java:4789)\n",
      "\tat java.base/java.util.regex.Pattern$Loop.match(Pattern.java:4898)\n",
      "\tat java.base/java.util.regex.Pattern$GroupTail.match(Pattern.java:4820)\n",
      "\tat java.base/java.util.regex.Pattern$BranchConn.match(Pattern.java:4698)\n",
      "\tat java.base/java.util.regex.Pattern$CharProperty.match(Pattern.java:3931)\n",
      "\tat java.base/java.util.regex.Pattern$Branch.match(Pattern.java:4734)\n",
      "\tat java.base/java.util.regex.Pattern$GroupHead.match(Pattern.java:4789)\n",
      "\tat java.base/java.util.regex.Pattern$Loop.match(Pattern.java:4898)\n",
      "\tat java.base/java.util.regex.Pattern$GroupTail.match(Pattern.java:4820)\n",
      "\tat java.base/java.util.regex.Pattern$BranchConn.match(Pattern.java:4698)\n",
      "\tat java.base/java.util.regex.Pattern$CharProperty.match(Pattern.java:3931)\n",
      "\tat java.base/java.util.regex.Pattern$Branch.match(Pattern.java:4734)\n",
      "\tat java.base/java.util.regex.Pattern$GroupHead.match(Pattern.java:4789)\n",
      "\tat java.base/java.util.regex.Pattern$Loop.match(Pattern.java:4898)\n",
      "\tat java.base/java.util.regex.Pattern$GroupTail.match(Pattern.java:4820)\n",
      "\tat java.base/java.util.regex.Pattern$BranchConn.match(Pattern.java:4698)\n",
      "\tat java.base/java.util.regex.Pattern$CharProperty.match(Pattern.java:3931)\n",
      "\tat java.base/java.util.regex.Pattern$Branch.match(Pattern.java:4734)\n",
      "\tat java.base/java.util.regex.Pattern$GroupHead.match(Pattern.java:4789)\n",
      "\tat java.base/java.util.regex.Pattern$Loop.match(Pattern.java:4898)\n",
      "\tat java.base/java.util.regex.Pattern$GroupTail.match(Pattern.java:4820)\n",
      "\tat java.base/java.util.regex.Pattern$BranchConn.match(Pattern.java:4698)\n",
      "\tat java.base/java.util.regex.Pattern$CharProperty.match(Pattern.java:3931)\n",
      "\tat java.base/java.util.regex.Pattern$Branch.match(Pattern.java:4734)\n",
      "\tat java.base/java.util.regex.Pattern$GroupHead.match(Pattern.java:4789)\n",
      "\tat java.base/java.util.regex.Pattern$Loop.match(Pattern.java:4898)\n",
      "\tat java.base/java.util.regex.Pattern$GroupTail.match(Pattern.java:4820)\n",
      "\tat java.base/java.util.regex.Pattern$BranchConn.match(Pattern.java:4698)\n",
      "\tat java.base/java.util.regex.Pattern$CharProperty.match(Pattern.java:3931)\n",
      "\tat java.base/java.util.regex.Pattern$Branch.match(Pattern.java:4734)\n",
      "\tat java.base/java.util.regex.Pattern$GroupHead.match(Pattern.java:4789)\n",
      "\tat java.base/java.util.regex.Pattern$Loop.match(Pattern.java:4898)\n",
      "\tat java.base/java.util.regex.Pattern$GroupTail.match(Pattern.java:4820)\n",
      "\tat java.base/java.util.regex.Pattern$BranchConn.match(Pattern.java:4698)\n",
      "\tat java.base/java.util.regex.Pattern$CharProperty.match(Pattern.java:3931)\n",
      "\tat java.base/java.util.regex.Pattern$Branch.match(Pattern.java:4734)\n",
      "\tat java.base/java.util.regex.Pattern$GroupHead.match(Pattern.java:4789)\n",
      "\tat java.base/java.util.regex.Pattern$Loop.match(Pattern.java:4898)\n",
      "\tat java.base/java.util.regex.Pattern$GroupTail.match(Pattern.java:4820)\n",
      "\tat java.base/java.util.regex.Pattern$BranchConn.match(Pattern.java:4698)\n",
      "\tat java.base/java.util.regex.Pattern$CharProperty.match(Pattern.java:3931)\n",
      "\tat java.base/java.util.regex.Pattern$Branch.match(Pattern.java:4734)\n",
      "\tat java.base/java.util.regex.Pattern$GroupHead.match(Pattern.java:4789)\n",
      "\tat java.base/java.util.regex.Pattern$Loop.match(Pattern.java:4898)\n",
      "\tat java.base/java.util.regex.Pattern$GroupTail.match(Pattern.java:4820)\n",
      "\tat java.base/java.util.regex.Pattern$BranchConn.match(Pattern.java:4698)\n",
      "\tat java.base/java.util.regex.Pattern$CharProperty.match(Pattern.java:3931)\n",
      "\tat java.base/java.util.regex.Pattern$Branch.match(Pattern.java:4734)\n",
      "\tat java.base/java.util.regex.Pattern$GroupHead.match(Pattern.java:4789)\n",
      "\tat java.base/java.util.regex.Pattern$Loop.match(Pattern.java:4898)\n",
      "\tat java.base/java.util.regex.Pattern$GroupTail.match(Pattern.java:4820)\n",
      "\tat java.base/java.util.regex.Pattern$BranchConn.match(Pattern.java:4698)\n",
      "\tat java.base/java.util.regex.Pattern$CharProperty.match(Pattern.java:3931)\n",
      "\tat java.base/java.util.regex.Pattern$Branch.match(Pattern.java:4734)\n",
      "\tat java.base/java.util.regex.Pattern$GroupHead.match(Pattern.java:4789)\n",
      "\tat java.base/java.util.regex.Pattern$Loop.match(Pattern.java:4898)\n",
      "\tat java.base/java.util.regex.Pattern$GroupTail.match(Pattern.java:4820)\n",
      "\tat java.base/java.util.regex.Pattern$BranchConn.match(Pattern.java:4698)\n",
      "\tat java.base/java.util.regex.Pattern$CharProperty.match(Pattern.java:3931)\n",
      "\tat java.base/java.util.regex.Pattern$Branch.match(Pattern.java:4734)\n",
      "\tat java.base/java.util.regex.Pattern$GroupHead.match(Pattern.java:4789)\n",
      "\tat java.base/java.util.regex.Pattern$Loop.match(Pattern.java:4898)\n",
      "\tat java.base/java.util.regex.Pattern$GroupTail.match(Pattern.java:4820)\n",
      "\tat java.base/java.util.regex.Pattern$BranchConn.match(Pattern.java:4698)\n",
      "\tat java.base/java.util.regex.Pattern$CharProperty.match(Pattern.java:3931)\n",
      "\tat java.base/java.util.regex.Pattern$Branch.match(Pattern.java:4734)\n",
      "\tat java.base/java.util.regex.Pattern$GroupHead.match(Pattern.java:4789)\n",
      "\tat java.base/java.util.regex.Pattern$Loop.match(Pattern.java:4898)\n",
      "\tat java.base/java.util.regex.Pattern$GroupTail.match(Pattern.java:4820)\n",
      "\tat java.base/java.util.regex.Pattern$BranchConn.match(Pattern.java:4698)\n",
      "\tat java.base/java.util.regex.Pattern$CharProperty.match(Pattern.java:3931)\n",
      "\tat java.base/java.util.regex.Pattern$Branch.match(Pattern.java:4734)\n",
      "\tat java.base/java.util.regex.Pattern$GroupHead.match(Pattern.java:4789)\n",
      "\tat java.base/java.util.regex.Pattern$Loop.match(Pattern.java:4898)\n",
      "\tat java.base/java.util.regex.Pattern$GroupTail.match(Pattern.java:4820)\n",
      "\tat java.base/java.util.regex.Pattern$BranchConn.match(Pattern.java:4698)\n",
      "\tat java.base/java.util.regex.Pattern$CharProperty.match(Pattern.java:3931)\n",
      "\tat java.base/java.util.regex.Pattern$Branch.match(Pattern.java:4734)\n",
      "\tat java.base/java.util.regex.Pattern$GroupHead.match(Pattern.java:4789)\n",
      "\tat java.base/java.util.regex.Pattern$Loop.match(Pattern.java:4898)\n",
      "\tat java.base/java.util.regex.Pattern$GroupTail.match(Pattern.java:4820)\n",
      "\tat java.base/java.util.regex.Pattern$BranchConn.match(Pattern.java:4698)\n",
      "\tat java.base/java.util.regex.Pattern$CharProperty.match(Pattern.java:3931)\n",
      "\tat java.base/java.util.regex.Pattern$Branch.match(Pattern.java:4734)\n",
      "\tat java.base/java.util.regex.Pattern$GroupHead.match(Pattern.java:4789)\n",
      "\tat java.base/java.util.regex.Pattern$Loop.match(Pattern.java:4898)\n",
      "\tat java.base/java.util.regex.Pattern$GroupTail.match(Pattern.java:4820)\n",
      "\tat java.base/java.util.regex.Pattern$BranchConn.match(Pattern.java:4698)\n",
      "\tat java.base/java.util.regex.Pattern$CharProperty.match(Pattern.java:3931)\n",
      "\tat java.base/java.util.regex.Pattern$Branch.match(Pattern.java:4734)\n",
      "\tat java.base/java.util.regex.Pattern$GroupHead.match(Pattern.java:4789)\n",
      "\tat java.base/java.util.regex.Pattern$Loop.match(Pattern.java:4898)\n",
      "\tat java.base/java.util.regex.Pattern$GroupTail.match(Pattern.java:4820)\n",
      "\tat java.base/java.util.regex.Pattern$BranchConn.match(Pattern.java:4698)\n",
      "\tat java.base/java.util.regex.Pattern$CharProperty.match(Pattern.java:3931)\n",
      "\tat java.base/java.util.regex.Pattern$Branch.match(Pattern.java:4734)\n",
      "\tat java.base/java.util.regex.Pattern$GroupHead.match(Pattern.java:4789)\n",
      "\tat java.base/java.util.regex.Pattern$Loop.match(Pattern.java:4898)\n",
      "\tat java.base/java.util.regex.Pattern$GroupTail.match(Pattern.java:4820)\n",
      "\tat java.base/java.util.regex.Pattern$BranchConn.match(Pattern.java:4698)\n",
      "\tat java.base/java.util.regex.Pattern$CharProperty.match(Pattern.java:3931)\n",
      "\tat java.base/java.util.regex.Pattern$Branch.match(Pattern.java:4734)\n",
      "\tat java.base/java.util.regex.Pattern$GroupHead.match(Pattern.java:4789)\n",
      "\tat java.base/java.util.regex.Pattern$Loop.match(Pattern.java:4898)\n",
      "\tat java.base/java.util.regex.Pattern$GroupTail.match(Pattern.java:4820)\n",
      "\tat java.base/java.util.regex.Pattern$BranchConn.match(Pattern.java:4698)\n",
      "\tat java.base/java.util.regex.Pattern$CharProperty.match(Pattern.java:3931)\n",
      "\tat java.base/java.util.regex.Pattern$Branch.match(Pattern.java:4734)\n",
      "\tat java.base/java.util.regex.Pattern$GroupHead.match(Pattern.java:4789)\n",
      "\tat java.base/java.util.regex.Pattern$Loop.match(Pattern.java:4898)\n",
      "\tat java.base/java.util.regex.Pattern$GroupTail.match(Pattern.java:4820)\n",
      "\tat java.base/java.util.regex.Pattern$BranchConn.match(Pattern.java:4698)\n",
      "\tat java.base/java.util.regex.Pattern$CharProperty.match(Pattern.java:3931)\n",
      "\tat java.base/java.util.regex.Pattern$Branch.match(Pattern.java:4734)\n",
      "\tat java.base/java.util.regex.Pattern$GroupHead.match(Pattern.java:4789)\n",
      "\tat java.base/java.util.regex.Pattern$Loop.match(Pattern.java:4898)\n",
      "\tat java.base/java.util.regex.Pattern$GroupTail.match(Pattern.java:4820)\n",
      "\tat java.base/java.util.regex.Pattern$BranchConn.match(Pattern.java:4698)\n",
      "\tat java.base/java.util.regex.Pattern$CharProperty.match(Pattern.java:3931)\n",
      "\tat java.base/java.util.regex.Pattern$Branch.match(Pattern.java:4734)\n",
      "\tat java.base/java.util.regex.Pattern$GroupHead.match(Pattern.java:4789)\n",
      "\tat java.base/java.util.regex.Pattern$Loop.match(Pattern.java:4898)\n",
      "\tat java.base/java.util.regex.Pattern$GroupTail.match(Pattern.java:4820)\n",
      "\tat java.base/java.util.regex.Pattern$BranchConn.match(Pattern.java:4698)\n",
      "\tat java.base/java.util.regex.Pattern$CharProperty.match(Pattern.java:3931)\n",
      "\tat java.base/java.util.regex.Pattern$Branch.match(Pattern.java:4734)\n",
      "\tat java.base/java.util.regex.Pattern$GroupHead.match(Pattern.java:4789)\n",
      "\tat java.base/java.util.regex.Pattern$Loop.match(Pattern.java:4898)\n",
      "\tat java.base/java.util.regex.Pattern$GroupTail.match(Pattern.java:4820)\n",
      "\tat java.base/java.util.regex.Pattern$BranchConn.match(Pattern.java:4698)\n",
      "\tat java.base/java.util.regex.Pattern$CharProperty.match(Pattern.java:3931)\n",
      "\tat java.base/java.util.regex.Pattern$Branch.match(Pattern.java:4734)\n",
      "\tat java.base/java.util.regex.Pattern$GroupHead.match(Pattern.java:4789)\n",
      "\tat java.base/java.util.regex.Pattern$Loop.match(Pattern.java:4898)\n",
      "\tat java.base/java.util.regex.Pattern$GroupTail.match(Pattern.java:4820)\n",
      "\tat java.base/java.util.regex.Pattern$BranchConn.match(Pattern.java:4698)\n",
      "\tat java.base/java.util.regex.Pattern$CharProperty.match(Pattern.java:3931)\n",
      "\tat java.base/java.util.regex.Pattern$Branch.match(Pattern.java:4734)\n",
      "\tat java.base/java.util.regex.Pattern$GroupHead.match(Pattern.java:4789)\n",
      "\tat java.base/java.util.regex.Pattern$Loop.match(Pattern.java:4898)\n",
      "\tat java.base/java.util.regex.Pattern$GroupTail.match(Pattern.java:4820)\n",
      "\tat java.base/java.util.regex.Pattern$BranchConn.match(Pattern.java:4698)\n",
      "\tat java.base/java.util.regex.Pattern$CharProperty.match(Pattern.java:3931)\n",
      "\tat java.base/java.util.regex.Pattern$Branch.match(Pattern.java:4734)\n",
      "\tat java.base/java.util.regex.Pattern$GroupHead.match(Pattern.java:4789)\n",
      "\tat java.base/java.util.regex.Pattern$Loop.match(Pattern.java:4898)\n",
      "\tat java.base/java.util.regex.Pattern$GroupTail.match(Pattern.java:4820)\n",
      "\tat java.base/java.util.regex.Pattern$BranchConn.match(Pattern.java:4698)\n",
      "\tat java.base/java.util.regex.Pattern$CharProperty.match(Pattern.java:3931)\n",
      "\tat java.base/java.util.regex.Pattern$Branch.match(Pattern.java:4734)\n",
      "\tat java.base/java.util.regex.Pattern$GroupHead.match(Pattern.java:4789)\n",
      "\tat java.base/java.util.regex.Pattern$Loop.match(Pattern.java:4898)\n",
      "\tat java.base/java.util.regex.Pattern$GroupTail.match(Pattern.java:4820)\n",
      "\tat java.base/java.util.regex.Pattern$BranchConn.match(Pattern.java:4698)\n",
      "\tat java.base/java.util.regex.Pattern$CharProperty.match(Pattern.java:3931)\n",
      "\tat java.base/java.util.regex.Pattern$Branch.match(Pattern.java:4734)\n",
      "\tat java.base/java.util.regex.Pattern$GroupHead.match(Pattern.java:4789)\n",
      "\tat java.base/java.util.regex.Pattern$Loop.match(Pattern.java:4898)\n",
      "\tat java.base/java.util.regex.Pattern$GroupTail.match(Pattern.java:4820)\n",
      "\tat java.base/java.util.regex.Pattern$BranchConn.match(Pattern.java:4698)\n",
      "\tat java.base/java.util.regex.Pattern$CharProperty.match(Pattern.java:3931)\n"
     ]
    }
   ],
   "source": [
    "schema = StructType() \\\n",
    "    .add(\"transaction_id\", StringType()) \\\n",
    "    .add(\"user_id\", StringType()) \\\n",
    "    .add(\"merchant\", StringType()) \\\n",
    "    .add(\"amount\", DoubleType()) \\\n",
    "    .add(\"timestamp\", StringType()) \\\n",
    "    .add(\"is_fraud\", IntegerType())\n",
    "\n",
    "stream_df = spark.readStream \\\n",
    "    .format(\"socket\") \\\n",
    "    .option(\"host\", \"localhost\") \\\n",
    "    .option(\"port\", 9999) \\\n",
    "    .load()\n",
    "\n",
    "parsed_df = stream_df.select(sf.from_json(stream_df.value, schema).alias(\"data\")) \\\n",
    "                        .select(\"data.*\")\n",
    "\n",
    "parsed_df = parsed_df.withColumn(\"timestamp\", sf.to_timestamp(\"timestamp\"))\n",
    "\n",
    "TARGET_COUNT = 3_000_000\n",
    "accumulated_count = {\"count\": 0}\n",
    "\n",
    "def process_batch(df, epoch_id):\n",
    "    batch_count = df.count()\n",
    "    accumulated_count[\"count\"] += batch_count\n",
    "    print(f\"Processed batch: {batch_count} rows, Total: {accumulated_count[\"count\"]} rows\")\n",
    "\n",
    "    df.write.mode(\"append\").parquet(\"/home/nolan/fraud/data/transactions\")\n",
    "\n",
    "    if accumulated_count[\"count\"] >= TARGET_COUNT:\n",
    "        print(\"Target reached - stopping stream\")\n",
    "        for q in spark.streams.active:\n",
    "            q.stop()\n",
    "\n",
    "query = parsed_df.writeStream \\\n",
    "    .foreachBatch(process_batch) \\\n",
    "    .outputMode(\"append\") \\\n",
    "    .option(\"checkpointLocation\", \"/home/nolan/fraud/data/checkpoints\") \\\n",
    "    .trigger(processingTime=\"2 seconds\") \\\n",
    "    .start()\n",
    "\n",
    "query.awaitTermination()"
   ]
  },
  {
   "cell_type": "code",
   "execution_count": 5,
   "id": "2f8cf04a",
   "metadata": {},
   "outputs": [],
   "source": [
    "for q in spark.streams.active:\n",
    "    print(q.status)"
   ]
  },
  {
   "cell_type": "code",
   "execution_count": 6,
   "id": "fbd36785",
   "metadata": {},
   "outputs": [
    {
     "name": "stderr",
     "output_type": "stream",
     "text": [
      "                                                                                \r"
     ]
    },
    {
     "name": "stdout",
     "output_type": "stream",
     "text": [
      "Total rows: 3000000\n",
      "+--------------------+---------+-------------+------+--------------------+--------+\n",
      "|      transaction_id|  user_id|     merchant|amount|           timestamp|is_fraud|\n",
      "+--------------------+---------+-------------+------+--------------------+--------+\n",
      "|74256537-0937-434...|user_5703|     clothing| 12.97|2025-08-15 19:22:...|       0|\n",
      "|ac3815a5-dd38-430...| user_501|  electronics|726.74|2025-08-15 19:22:...|       0|\n",
      "|d7341b09-75f6-40a...|user_4684|subscriptions|  25.4|2025-08-15 19:22:...|       0|\n",
      "|b1d6f587-18ae-49b...|user_6629|     clothing|253.08|2025-08-15 19:22:...|       0|\n",
      "|95e01b16-8562-4e6...|user_1580|  electronics|212.71|2025-08-15 19:22:...|       0|\n",
      "+--------------------+---------+-------------+------+--------------------+--------+\n",
      "only showing top 5 rows\n"
     ]
    }
   ],
   "source": [
    "df = spark.read.parquet(\"/home/nolan/fraud/data/transactions\")\n",
    "print(f\"Total rows: {df.count()}\")\n",
    "df.show(5)"
   ]
  },
  {
   "cell_type": "code",
   "execution_count": 7,
   "id": "a7cf1219",
   "metadata": {},
   "outputs": [],
   "source": [
    "spark.stop()"
   ]
  }
 ],
 "metadata": {
  "kernelspec": {
   "display_name": "fraud",
   "language": "python",
   "name": "python3"
  },
  "language_info": {
   "codemirror_mode": {
    "name": "ipython",
    "version": 3
   },
   "file_extension": ".py",
   "mimetype": "text/x-python",
   "name": "python",
   "nbconvert_exporter": "python",
   "pygments_lexer": "ipython3",
   "version": "3.12.11"
  }
 },
 "nbformat": 4,
 "nbformat_minor": 5
}
